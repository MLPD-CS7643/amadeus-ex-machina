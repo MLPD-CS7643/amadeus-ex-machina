{
 "cells": [
  {
   "cell_type": "code",
   "execution_count": 4,
   "metadata": {},
   "outputs": [],
   "source": [
    "# System imports\n",
    "import sys\n",
    "import os\n",
    "\n",
    "# Add the parent directory of 'notebooks' to sys.path\n",
    "parent_dir = os.path.abspath(os.path.join(os.getcwd(), \"..\"))  # Move one level up\n",
    "if parent_dir not in sys.path:\n",
    "    sys.path.append(parent_dir)"
   ]
  },
  {
   "cell_type": "code",
   "execution_count": 5,
   "metadata": {},
   "outputs": [],
   "source": [
    "import torch\n",
    "from pathlib import Path\n",
    "from solver import Solver\n",
    "from griddy_tuna import hit_griddy, SearchMethod\n",
    "from models.griddy_model import GriddyModel"
   ]
  },
  {
   "cell_type": "code",
   "execution_count": null,
   "metadata": {},
   "outputs": [],
   "source": [
    "SOLVER_PARAMS = {\n",
    "    Solver : {\n",
    "        \"device\": \"cuda\",\n",
    "        \"epochs\": 10,\n",
    "        \"early_stop_epochs\": 0, # early stop after n epochs without improvement, 0 to disable\n",
    "        \"warmup_epochs\": 0, # 0 to disable\n",
    "        \"dtype\": \"float16\",\n",
    "        \"train_dataloader\": None, # assume a DataLoader object\n",
    "        \"valid_dataloader\": None, # assume a DataLoader object\n",
    "        \"direction\": \"minimize\" # must specify this, even if not used by solver\n",
    "    }\n",
    "}\n",
    "\n",
    "MODEL_PARAMS = {\n",
    "    GriddyModel: {\n",
    "        \"n_blocks\": [3],\n",
    "        \"block_depth\": [3],\n",
    "        \"pad\": [1],\n",
    "        \"stride\": [1],\n",
    "        \"k_conv\": [3],\n",
    "        \"maxpool\": [2],\n",
    "        \"dropout\": [0.2, 0.3],\n",
    "        \"out_channels\": [16, 32, 64, 128, SearchMethod.CATEGORICAL],\n",
    "        # \"out_channels\": [16, 32, 64, 128] is also valid, CATEGORICAL is assumed in this instance\n",
    "    }\n",
    "}\n",
    "\n",
    "OPTIM_PARAMS = {\n",
    "    torch.optim.SGD : {\n",
    "        \"lr\": [0.001, 0.1, SearchMethod.LOG_UNIFORM],\n",
    "        \"momentum\": [0.9, 0.99, SearchMethod.UNIFORM],\n",
    "        \"weight_decay\": [0.00001],\n",
    "    },\n",
    "    torch.optim.Adam : {\n",
    "        \"lr\": [0.03, 0.02, 0.01, 0.1], # this will auto-search as CATEGORICAL\n",
    "        \"momentum\": [0.98, 0.99], # so will this\n",
    "        \"weight_decay\": [0.00001], # this won't be searched\n",
    "    }\n",
    "}\n",
    "\n",
    "SCHED_PARAMS = {\n",
    "    torch.optim.lr_scheduler.CosineAnnealingWarmRestarts : {\n",
    "        \"T_max\": [10],\n",
    "    },\n",
    "    torch.optim.lr_scheduler.StepLR : {\n",
    "        \"step_size\": [10, 20],\n",
    "        \"gamma\" : [0.1, 0.05],\n",
    "    }\n",
    "}\n",
    "\n",
    "CRITERION_PARAMS = {\n",
    "    torch.nn.CrossEntropyLoss : {}\n",
    "}\n",
    "\n",
    "PARAM_SET = {\n",
    "    \"solver\": SOLVER_PARAMS,\n",
    "    \"model\" : MODEL_PARAMS,\n",
    "    \"optim\" : OPTIM_PARAMS,\n",
    "    \"sched\" : SCHED_PARAMS,\n",
    "    \"criterion\" : CRITERION_PARAMS,\n",
    "}"
   ]
  },
  {
   "cell_type": "code",
   "execution_count": null,
   "metadata": {},
   "outputs": [],
   "source": [
    "output_folder = Path(\"notebooks/my_study/griddy/\")\n",
    "\n",
    "hit_griddy(\"my_study\", param_set=PARAM_SET, out_dir=output_folder, n_trials=100, n_jobs=4,resume=False)"
   ]
  }
 ],
 "metadata": {
  "kernelspec": {
   "display_name": "amadeus-ex-machina",
   "language": "python",
   "name": "python3"
  },
  "language_info": {
   "codemirror_mode": {
    "name": "ipython",
    "version": 3
   },
   "file_extension": ".py",
   "mimetype": "text/x-python",
   "name": "python",
   "nbconvert_exporter": "python",
   "pygments_lexer": "ipython3",
   "version": "3.11.10"
  }
 },
 "nbformat": 4,
 "nbformat_minor": 2
}
