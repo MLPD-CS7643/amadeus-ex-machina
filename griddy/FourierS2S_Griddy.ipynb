{
 "cells": [
  {
   "cell_type": "code",
   "execution_count": 2,
   "metadata": {},
   "outputs": [],
   "source": [
    "%load_ext autoreload\n",
    "%autoreload 2\n",
    "\n",
    "# System imports\n",
    "import sys\n",
    "import os\n",
    "\n",
    "# Add the parent directory of 'notebooks' to sys.path\n",
    "parent_dir = os.path.abspath(os.path.join(os.getcwd(), \"..\"))  # Move one level up\n",
    "if parent_dir not in sys.path:\n",
    "    sys.path.append(parent_dir)"
   ]
  },
  {
   "cell_type": "code",
   "execution_count": 3,
   "metadata": {},
   "outputs": [],
   "source": [
    "import torch\n",
    "import optuna\n",
    "from optuna.visualization import plot_optimization_history, plot_contour, plot_parallel_coordinate, plot_slice\n",
    "from pathlib import Path\n",
    "from solver import Solver, TrialMetric\n",
    "from griddy_tuna import hit_griddy, SearchMethod\n",
    "from models.CRNN import CRNNModel\n",
    "from data.data_loader import MirDataProcessor\n",
    "from utils.model_utils import get_device"
   ]
  },
  {
   "cell_type": "code",
   "execution_count": 4,
   "metadata": {},
   "outputs": [
    {
     "name": "stdout",
     "output_type": "stream",
     "text": [
      "Device is cuda\n"
     ]
    }
   ],
   "source": [
    "device = get_device()\n",
    "print(f\"Device is {device}\")"
   ]
  },
  {
   "cell_type": "code",
   "execution_count": 5,
   "metadata": {},
   "outputs": [
    {
     "name": "stdout",
     "output_type": "stream",
     "text": [
      "Found 360 tracks in the dataset.\n",
      "Processing dataset as sequential data\n",
      "Processed track 00_BN1-129-Eb_comp and appended data to combined CSV.\n",
      "Processing dataset as sequential data\n",
      "Processed track 00_BN1-129-Eb_solo and appended data to combined CSV.\n",
      "Processing dataset as sequential data\n",
      "Processed track 00_BN1-147-Gb_comp and appended data to combined CSV.\n",
      "Processing dataset as sequential data\n",
      "Processed track 00_BN1-147-Gb_solo and appended data to combined CSV.\n",
      "Processing dataset as sequential data\n",
      "Processed track 00_BN2-131-B_comp and appended data to combined CSV.\n",
      "Processing dataset as sequential data\n",
      "Processed track 00_BN2-131-B_solo and appended data to combined CSV.\n",
      "Processing dataset as sequential data\n",
      "Processed track 00_BN2-166-Ab_comp and appended data to combined CSV.\n",
      "Processing dataset as sequential data\n",
      "Processed track 00_BN2-166-Ab_solo and appended data to combined CSV.\n",
      "Processing dataset as sequential data\n",
      "Processed track 00_BN3-119-G_comp and appended data to combined CSV.\n",
      "Processing dataset as sequential data\n",
      "Processed track 00_BN3-119-G_solo and appended data to combined CSV.\n",
      "Processing dataset as sequential data\n",
      "Processed track 00_BN3-154-E_comp and appended data to combined CSV.\n",
      "Processing dataset as sequential data\n",
      "Processed track 00_BN3-154-E_solo and appended data to combined CSV.\n",
      "Processing dataset as sequential data\n",
      "Processed track 00_Funk1-114-Ab_comp and appended data to combined CSV.\n",
      "Processing dataset as sequential data\n",
      "Processed track 00_Funk1-114-Ab_solo and appended data to combined CSV.\n",
      "Processing dataset as sequential data\n",
      "Processed track 00_Funk1-97-C_comp and appended data to combined CSV.\n",
      "Processing dataset as sequential data\n",
      "Processed track 00_Funk1-97-C_solo and appended data to combined CSV.\n",
      "Processing dataset as sequential data\n",
      "Processed track 00_Funk2-108-Eb_comp and appended data to combined CSV.\n",
      "Processing dataset as sequential data\n",
      "Processed track 00_Funk2-108-Eb_solo and appended data to combined CSV.\n",
      "Processing dataset as sequential data\n",
      "Processed track 00_Funk2-119-G_comp and appended data to combined CSV.\n",
      "Processing dataset as sequential data\n",
      "Processed track 00_Funk2-119-G_solo and appended data to combined CSV.\n",
      "Processing dataset as sequential data\n",
      "Processed track 00_Funk3-112-C#_comp and appended data to combined CSV.\n",
      "Processing dataset as sequential data\n",
      "Processed track 00_Funk3-112-C#_solo and appended data to combined CSV.\n",
      "Processing dataset as sequential data\n",
      "Processed track 00_Funk3-98-A_comp and appended data to combined CSV.\n",
      "Processing dataset as sequential data\n",
      "Processed track 00_Funk3-98-A_solo and appended data to combined CSV.\n",
      "Processing dataset as sequential data\n",
      "Processed track 00_Jazz1-130-D_comp and appended data to combined CSV.\n",
      "Processing dataset as sequential data\n",
      "Processed track 00_Jazz1-130-D_solo and appended data to combined CSV.\n",
      "Processing dataset as sequential data\n",
      "Processed track 00_Jazz1-200-B_comp and appended data to combined CSV.\n",
      "Processing dataset as sequential data\n",
      "Processed track 00_Jazz1-200-B_solo and appended data to combined CSV.\n",
      "Processing dataset as sequential data\n",
      "Processed track 00_Jazz2-110-Bb_comp and appended data to combined CSV.\n",
      "Processing dataset as sequential data\n",
      "Processed track 00_Jazz2-110-Bb_solo and appended data to combined CSV.\n",
      "Processing dataset as sequential data\n",
      "Processed track 00_Jazz2-187-F#_comp and appended data to combined CSV.\n",
      "Processing dataset as sequential data\n",
      "Processed track 00_Jazz2-187-F#_solo and appended data to combined CSV.\n",
      "Processing dataset as sequential data\n",
      "Processed track 00_Jazz3-137-Eb_comp and appended data to combined CSV.\n",
      "Processing dataset as sequential data\n",
      "Processed track 00_Jazz3-137-Eb_solo and appended data to combined CSV.\n",
      "Processing dataset as sequential data\n",
      "Processed track 00_Jazz3-150-C_comp and appended data to combined CSV.\n",
      "Processing dataset as sequential data\n",
      "Processed track 00_Jazz3-150-C_solo and appended data to combined CSV.\n",
      "Processing dataset as sequential data\n",
      "Processed track 00_Rock1-130-A_comp and appended data to combined CSV.\n",
      "Processing dataset as sequential data\n",
      "Processed track 00_Rock1-130-A_solo and appended data to combined CSV.\n",
      "Processing dataset as sequential data\n",
      "Processed track 00_Rock1-90-C#_comp and appended data to combined CSV.\n",
      "Processing dataset as sequential data\n",
      "Processed track 00_Rock1-90-C#_solo and appended data to combined CSV.\n",
      "Processing dataset as sequential data\n",
      "Processed track 00_Rock2-142-D_comp and appended data to combined CSV.\n",
      "Processing dataset as sequential data\n",
      "Processed track 00_Rock2-142-D_solo and appended data to combined CSV.\n",
      "Processing dataset as sequential data\n",
      "Processed track 00_Rock2-85-F_comp and appended data to combined CSV.\n",
      "Processing dataset as sequential data\n",
      "Processed track 00_Rock2-85-F_solo and appended data to combined CSV.\n",
      "Processing dataset as sequential data\n",
      "Processed track 00_Rock3-117-Bb_comp and appended data to combined CSV.\n",
      "Processing dataset as sequential data\n",
      "Processed track 00_Rock3-117-Bb_solo and appended data to combined CSV.\n",
      "Processing dataset as sequential data\n",
      "Processed track 00_Rock3-148-C_comp and appended data to combined CSV.\n",
      "Processing dataset as sequential data\n",
      "Processed track 00_Rock3-148-C_solo and appended data to combined CSV.\n",
      "Processing dataset as sequential data\n",
      "Processed track 00_SS1-100-C#_comp and appended data to combined CSV.\n",
      "Processing dataset as sequential data\n",
      "Processed track 00_SS1-100-C#_solo and appended data to combined CSV.\n",
      "Processing dataset as sequential data\n",
      "Processed track 00_SS1-68-E_comp and appended data to combined CSV.\n",
      "Processing dataset as sequential data\n",
      "Processed track 00_SS1-68-E_solo and appended data to combined CSV.\n",
      "Processing dataset as sequential data\n",
      "Processed track 00_SS2-107-Ab_comp and appended data to combined CSV.\n",
      "Processing dataset as sequential data\n",
      "Processed track 00_SS2-107-Ab_solo and appended data to combined CSV.\n",
      "Processing dataset as sequential data\n",
      "Processed track 00_SS2-88-F_comp and appended data to combined CSV.\n",
      "Processing dataset as sequential data\n",
      "Processed track 00_SS2-88-F_solo and appended data to combined CSV.\n",
      "Processing dataset as sequential data\n"
     ]
    },
    {
     "ename": "KeyboardInterrupt",
     "evalue": "",
     "output_type": "error",
     "traceback": [
      "\u001b[1;31m---------------------------------------------------------------------------\u001b[0m",
      "\u001b[1;31mKeyboardInterrupt\u001b[0m                         Traceback (most recent call last)",
      "Cell \u001b[1;32mIn[5], line 3\u001b[0m\n\u001b[0;32m      1\u001b[0m data_processer \u001b[38;5;241m=\u001b[39m MirDataProcessor(download\u001b[38;5;241m=\u001b[39m\u001b[38;5;28;01mFalse\u001b[39;00m, batch_size\u001b[38;5;241m=\u001b[39m\u001b[38;5;241m128\u001b[39m, dataset_name\u001b[38;5;241m=\u001b[39m\u001b[38;5;124m\"\u001b[39m\u001b[38;5;124mguitarset\u001b[39m\u001b[38;5;124m\"\u001b[39m, process_sequential\u001b[38;5;241m=\u001b[39m\u001b[38;5;28;01mTrue\u001b[39;00m, seq_length\u001b[38;5;241m=\u001b[39m\u001b[38;5;241m16384\u001b[39m)\n\u001b[1;32m----> 3\u001b[0m data_processer\u001b[38;5;241m.\u001b[39mprocess_wav_data(\u001b[38;5;241m150\u001b[39m)\n\u001b[0;32m      5\u001b[0m \u001b[38;5;66;03m# Create data loeaders for train and test set\u001b[39;00m\n\u001b[0;32m      6\u001b[0m train_loader, test_loader, num_classes \u001b[38;5;241m=\u001b[39m data_processer\u001b[38;5;241m.\u001b[39mbuild_data_loaders(\u001b[38;5;28;01mNone\u001b[39;00m, device)\n",
      "File \u001b[1;32mc:\\Users\\mattb\\Documents\\CS7643\\Final Project\\amadeus-ex-machina\\data\\data_loader.py:180\u001b[0m, in \u001b[0;36mMirDataProcessor.process_wav_data\u001b[1;34m(self, max_tracks)\u001b[0m\n\u001b[0;32m    177\u001b[0m         data_with_labels \u001b[38;5;241m=\u001b[39m np\u001b[38;5;241m.\u001b[39mcolumn_stack((wav, labels_at_times))\n\u001b[0;32m    179\u001b[0m     segment_df \u001b[38;5;241m=\u001b[39m pd\u001b[38;5;241m.\u001b[39mDataFrame(data_with_labels)\n\u001b[1;32m--> 180\u001b[0m     segment_df\u001b[38;5;241m.\u001b[39mto_csv(combined_csv_path, mode\u001b[38;5;241m=\u001b[39m\u001b[38;5;124m\"\u001b[39m\u001b[38;5;124ma\u001b[39m\u001b[38;5;124m\"\u001b[39m, index\u001b[38;5;241m=\u001b[39m\u001b[38;5;28;01mFalse\u001b[39;00m, header\u001b[38;5;241m=\u001b[39m\u001b[38;5;28;01mFalse\u001b[39;00m)\n\u001b[0;32m    182\u001b[0m     \u001b[38;5;28mprint\u001b[39m(\u001b[38;5;124mf\u001b[39m\u001b[38;5;124m\"\u001b[39m\u001b[38;5;124mProcessed track \u001b[39m\u001b[38;5;132;01m{\u001b[39;00mtrack_id\u001b[38;5;132;01m}\u001b[39;00m\u001b[38;5;124m and appended data to combined CSV.\u001b[39m\u001b[38;5;124m\"\u001b[39m)\n\u001b[0;32m    184\u001b[0m \u001b[38;5;28mprint\u001b[39m(\u001b[38;5;124mf\u001b[39m\u001b[38;5;124m\"\u001b[39m\u001b[38;5;124mAll data processed and saved to \u001b[39m\u001b[38;5;132;01m{\u001b[39;00mcombined_csv_path\u001b[38;5;132;01m}\u001b[39;00m\u001b[38;5;124m\"\u001b[39m)\n",
      "File \u001b[1;32mc:\\Users\\mattb\\miniconda3\\envs\\amadeus-ex-machina\\Lib\\site-packages\\pandas\\util\\_decorators.py:333\u001b[0m, in \u001b[0;36mdeprecate_nonkeyword_arguments.<locals>.decorate.<locals>.wrapper\u001b[1;34m(*args, **kwargs)\u001b[0m\n\u001b[0;32m    327\u001b[0m \u001b[38;5;28;01mif\u001b[39;00m \u001b[38;5;28mlen\u001b[39m(args) \u001b[38;5;241m>\u001b[39m num_allow_args:\n\u001b[0;32m    328\u001b[0m     warnings\u001b[38;5;241m.\u001b[39mwarn(\n\u001b[0;32m    329\u001b[0m         msg\u001b[38;5;241m.\u001b[39mformat(arguments\u001b[38;5;241m=\u001b[39m_format_argument_list(allow_args)),\n\u001b[0;32m    330\u001b[0m         \u001b[38;5;167;01mFutureWarning\u001b[39;00m,\n\u001b[0;32m    331\u001b[0m         stacklevel\u001b[38;5;241m=\u001b[39mfind_stack_level(),\n\u001b[0;32m    332\u001b[0m     )\n\u001b[1;32m--> 333\u001b[0m \u001b[38;5;28;01mreturn\u001b[39;00m func(\u001b[38;5;241m*\u001b[39margs, \u001b[38;5;241m*\u001b[39m\u001b[38;5;241m*\u001b[39mkwargs)\n",
      "File \u001b[1;32mc:\\Users\\mattb\\miniconda3\\envs\\amadeus-ex-machina\\Lib\\site-packages\\pandas\\core\\generic.py:3967\u001b[0m, in \u001b[0;36mNDFrame.to_csv\u001b[1;34m(self, path_or_buf, sep, na_rep, float_format, columns, header, index, index_label, mode, encoding, compression, quoting, quotechar, lineterminator, chunksize, date_format, doublequote, escapechar, decimal, errors, storage_options)\u001b[0m\n\u001b[0;32m   3956\u001b[0m df \u001b[38;5;241m=\u001b[39m \u001b[38;5;28mself\u001b[39m \u001b[38;5;28;01mif\u001b[39;00m \u001b[38;5;28misinstance\u001b[39m(\u001b[38;5;28mself\u001b[39m, ABCDataFrame) \u001b[38;5;28;01melse\u001b[39;00m \u001b[38;5;28mself\u001b[39m\u001b[38;5;241m.\u001b[39mto_frame()\n\u001b[0;32m   3958\u001b[0m formatter \u001b[38;5;241m=\u001b[39m DataFrameFormatter(\n\u001b[0;32m   3959\u001b[0m     frame\u001b[38;5;241m=\u001b[39mdf,\n\u001b[0;32m   3960\u001b[0m     header\u001b[38;5;241m=\u001b[39mheader,\n\u001b[1;32m   (...)\u001b[0m\n\u001b[0;32m   3964\u001b[0m     decimal\u001b[38;5;241m=\u001b[39mdecimal,\n\u001b[0;32m   3965\u001b[0m )\n\u001b[1;32m-> 3967\u001b[0m \u001b[38;5;28;01mreturn\u001b[39;00m DataFrameRenderer(formatter)\u001b[38;5;241m.\u001b[39mto_csv(\n\u001b[0;32m   3968\u001b[0m     path_or_buf,\n\u001b[0;32m   3969\u001b[0m     lineterminator\u001b[38;5;241m=\u001b[39mlineterminator,\n\u001b[0;32m   3970\u001b[0m     sep\u001b[38;5;241m=\u001b[39msep,\n\u001b[0;32m   3971\u001b[0m     encoding\u001b[38;5;241m=\u001b[39mencoding,\n\u001b[0;32m   3972\u001b[0m     errors\u001b[38;5;241m=\u001b[39merrors,\n\u001b[0;32m   3973\u001b[0m     compression\u001b[38;5;241m=\u001b[39mcompression,\n\u001b[0;32m   3974\u001b[0m     quoting\u001b[38;5;241m=\u001b[39mquoting,\n\u001b[0;32m   3975\u001b[0m     columns\u001b[38;5;241m=\u001b[39mcolumns,\n\u001b[0;32m   3976\u001b[0m     index_label\u001b[38;5;241m=\u001b[39mindex_label,\n\u001b[0;32m   3977\u001b[0m     mode\u001b[38;5;241m=\u001b[39mmode,\n\u001b[0;32m   3978\u001b[0m     chunksize\u001b[38;5;241m=\u001b[39mchunksize,\n\u001b[0;32m   3979\u001b[0m     quotechar\u001b[38;5;241m=\u001b[39mquotechar,\n\u001b[0;32m   3980\u001b[0m     date_format\u001b[38;5;241m=\u001b[39mdate_format,\n\u001b[0;32m   3981\u001b[0m     doublequote\u001b[38;5;241m=\u001b[39mdoublequote,\n\u001b[0;32m   3982\u001b[0m     escapechar\u001b[38;5;241m=\u001b[39mescapechar,\n\u001b[0;32m   3983\u001b[0m     storage_options\u001b[38;5;241m=\u001b[39mstorage_options,\n\u001b[0;32m   3984\u001b[0m )\n",
      "File \u001b[1;32mc:\\Users\\mattb\\miniconda3\\envs\\amadeus-ex-machina\\Lib\\site-packages\\pandas\\io\\formats\\format.py:1014\u001b[0m, in \u001b[0;36mDataFrameRenderer.to_csv\u001b[1;34m(self, path_or_buf, encoding, sep, columns, index_label, mode, compression, quoting, quotechar, lineterminator, chunksize, date_format, doublequote, escapechar, errors, storage_options)\u001b[0m\n\u001b[0;32m    993\u001b[0m     created_buffer \u001b[38;5;241m=\u001b[39m \u001b[38;5;28;01mFalse\u001b[39;00m\n\u001b[0;32m    995\u001b[0m csv_formatter \u001b[38;5;241m=\u001b[39m CSVFormatter(\n\u001b[0;32m    996\u001b[0m     path_or_buf\u001b[38;5;241m=\u001b[39mpath_or_buf,\n\u001b[0;32m    997\u001b[0m     lineterminator\u001b[38;5;241m=\u001b[39mlineterminator,\n\u001b[1;32m   (...)\u001b[0m\n\u001b[0;32m   1012\u001b[0m     formatter\u001b[38;5;241m=\u001b[39m\u001b[38;5;28mself\u001b[39m\u001b[38;5;241m.\u001b[39mfmt,\n\u001b[0;32m   1013\u001b[0m )\n\u001b[1;32m-> 1014\u001b[0m csv_formatter\u001b[38;5;241m.\u001b[39msave()\n\u001b[0;32m   1016\u001b[0m \u001b[38;5;28;01mif\u001b[39;00m created_buffer:\n\u001b[0;32m   1017\u001b[0m     \u001b[38;5;28;01massert\u001b[39;00m \u001b[38;5;28misinstance\u001b[39m(path_or_buf, StringIO)\n",
      "File \u001b[1;32mc:\\Users\\mattb\\miniconda3\\envs\\amadeus-ex-machina\\Lib\\site-packages\\pandas\\io\\formats\\csvs.py:270\u001b[0m, in \u001b[0;36mCSVFormatter.save\u001b[1;34m(self)\u001b[0m\n\u001b[0;32m    251\u001b[0m \u001b[38;5;28;01mwith\u001b[39;00m get_handle(\n\u001b[0;32m    252\u001b[0m     \u001b[38;5;28mself\u001b[39m\u001b[38;5;241m.\u001b[39mfilepath_or_buffer,\n\u001b[0;32m    253\u001b[0m     \u001b[38;5;28mself\u001b[39m\u001b[38;5;241m.\u001b[39mmode,\n\u001b[1;32m   (...)\u001b[0m\n\u001b[0;32m    258\u001b[0m ) \u001b[38;5;28;01mas\u001b[39;00m handles:\n\u001b[0;32m    259\u001b[0m     \u001b[38;5;66;03m# Note: self.encoding is irrelevant here\u001b[39;00m\n\u001b[0;32m    260\u001b[0m     \u001b[38;5;28mself\u001b[39m\u001b[38;5;241m.\u001b[39mwriter \u001b[38;5;241m=\u001b[39m csvlib\u001b[38;5;241m.\u001b[39mwriter(\n\u001b[0;32m    261\u001b[0m         handles\u001b[38;5;241m.\u001b[39mhandle,\n\u001b[0;32m    262\u001b[0m         lineterminator\u001b[38;5;241m=\u001b[39m\u001b[38;5;28mself\u001b[39m\u001b[38;5;241m.\u001b[39mlineterminator,\n\u001b[1;32m   (...)\u001b[0m\n\u001b[0;32m    267\u001b[0m         quotechar\u001b[38;5;241m=\u001b[39m\u001b[38;5;28mself\u001b[39m\u001b[38;5;241m.\u001b[39mquotechar,\n\u001b[0;32m    268\u001b[0m     )\n\u001b[1;32m--> 270\u001b[0m     \u001b[38;5;28mself\u001b[39m\u001b[38;5;241m.\u001b[39m_save()\n",
      "File \u001b[1;32mc:\\Users\\mattb\\miniconda3\\envs\\amadeus-ex-machina\\Lib\\site-packages\\pandas\\io\\formats\\csvs.py:275\u001b[0m, in \u001b[0;36mCSVFormatter._save\u001b[1;34m(self)\u001b[0m\n\u001b[0;32m    273\u001b[0m \u001b[38;5;28;01mif\u001b[39;00m \u001b[38;5;28mself\u001b[39m\u001b[38;5;241m.\u001b[39m_need_to_save_header:\n\u001b[0;32m    274\u001b[0m     \u001b[38;5;28mself\u001b[39m\u001b[38;5;241m.\u001b[39m_save_header()\n\u001b[1;32m--> 275\u001b[0m \u001b[38;5;28mself\u001b[39m\u001b[38;5;241m.\u001b[39m_save_body()\n",
      "File \u001b[1;32mc:\\Users\\mattb\\miniconda3\\envs\\amadeus-ex-machina\\Lib\\site-packages\\pandas\\io\\formats\\csvs.py:313\u001b[0m, in \u001b[0;36mCSVFormatter._save_body\u001b[1;34m(self)\u001b[0m\n\u001b[0;32m    311\u001b[0m \u001b[38;5;28;01mif\u001b[39;00m start_i \u001b[38;5;241m>\u001b[39m\u001b[38;5;241m=\u001b[39m end_i:\n\u001b[0;32m    312\u001b[0m     \u001b[38;5;28;01mbreak\u001b[39;00m\n\u001b[1;32m--> 313\u001b[0m \u001b[38;5;28mself\u001b[39m\u001b[38;5;241m.\u001b[39m_save_chunk(start_i, end_i)\n",
      "File \u001b[1;32mc:\\Users\\mattb\\miniconda3\\envs\\amadeus-ex-machina\\Lib\\site-packages\\pandas\\io\\formats\\csvs.py:324\u001b[0m, in \u001b[0;36mCSVFormatter._save_chunk\u001b[1;34m(self, start_i, end_i)\u001b[0m\n\u001b[0;32m    321\u001b[0m data \u001b[38;5;241m=\u001b[39m \u001b[38;5;28mlist\u001b[39m(res\u001b[38;5;241m.\u001b[39m_iter_column_arrays())\n\u001b[0;32m    323\u001b[0m ix \u001b[38;5;241m=\u001b[39m \u001b[38;5;28mself\u001b[39m\u001b[38;5;241m.\u001b[39mdata_index[slicer]\u001b[38;5;241m.\u001b[39m_get_values_for_csv(\u001b[38;5;241m*\u001b[39m\u001b[38;5;241m*\u001b[39m\u001b[38;5;28mself\u001b[39m\u001b[38;5;241m.\u001b[39m_number_format)\n\u001b[1;32m--> 324\u001b[0m libwriters\u001b[38;5;241m.\u001b[39mwrite_csv_rows(\n\u001b[0;32m    325\u001b[0m     data,\n\u001b[0;32m    326\u001b[0m     ix,\n\u001b[0;32m    327\u001b[0m     \u001b[38;5;28mself\u001b[39m\u001b[38;5;241m.\u001b[39mnlevels,\n\u001b[0;32m    328\u001b[0m     \u001b[38;5;28mself\u001b[39m\u001b[38;5;241m.\u001b[39mcols,\n\u001b[0;32m    329\u001b[0m     \u001b[38;5;28mself\u001b[39m\u001b[38;5;241m.\u001b[39mwriter,\n\u001b[0;32m    330\u001b[0m )\n",
      "File \u001b[1;32mwriters.pyx:73\u001b[0m, in \u001b[0;36mpandas._libs.writers.write_csv_rows\u001b[1;34m()\u001b[0m\n",
      "\u001b[1;31mKeyboardInterrupt\u001b[0m: "
     ]
    }
   ],
   "source": [
    "data_processer = MirDataProcessor(download=False, batch_size=128, dataset_name=\"guitarset\", process_sequential=True, seq_length=16384)\n",
    "\n",
    "data_processer.process_wav_data(150)\n",
    "\n",
    "# Create data loeaders for train and test set\n",
    "train_loader, test_loader, num_classes = data_processer.build_data_loaders(None, device)\n",
    "\n",
    "print(f\"Number of classes: {num_classes}\")"
   ]
  },
  {
   "cell_type": "code",
   "execution_count": 9,
   "metadata": {},
   "outputs": [],
   "source": [
    "from models.FourierS2S import FourierS2S"
   ]
  },
  {
   "cell_type": "code",
   "execution_count": null,
   "metadata": {},
   "outputs": [],
   "source": [
    "# NOTE: Do not assume these values are anything but trash, they're just here for testing\n",
    "\n",
    "SOLVER_PARAMS = {\n",
    "    Solver : {\n",
    "        \"device\": device,\n",
    "        \"batch_size\": 256,\n",
    "        \"epochs\": 50,\n",
    "        \"early_stop_epochs\": 5, # early stop after n epochs without improvement, 0 to disable\n",
    "        \"warmup_epochs\": 0, # 0 to disable\n",
    "        \"dtype\": \"float16\",\n",
    "        \"train_dataloader\": train_loader, # must be DataLoader object\n",
    "        \"valid_dataloader\": test_loader, # must be DataLoader object\n",
    "        \"direction\": \"minimize\" # must specify this, even if not used by solver\n",
    "    }\n",
    "}\n",
    "\n",
    "MODEL_PARAMS = {\n",
    "    FourierS2S: {\n",
    "        \"kernel_size\": [512, 1024, 2048, 4096, 8192],\n",
    "        \"stride\": [256, 512, 1024, 4096, 8192],\n",
    "        \"fourier_size\": [128, 512, 2048, 4096, 8192],\n",
    "        \"enc_hidden\": [64, 256, 512, 1024],\n",
    "        \"dec_hidden\": [64, 256, 512, 1024],\n",
    "        \"output_size\": [num_classes],\n",
    "        \"token_size\": [16384],\n",
    "        \"device\": [device]\n",
    "    }\n",
    "}\n",
    "\n",
    "OPTIM_PARAMS = {\n",
    "\n",
    "    torch.optim.Adam : {\n",
    "        \"lr\": [0.05, 0.01, 0.1, .001, .0001], # this will auto-search as CATEGORICAL\n",
    "    }\n",
    "}\n",
    "\n",
    "SCHED_PARAMS = {\n",
    "    torch.optim.lr_scheduler.StepLR : {\n",
    "        \"step_size\": [10, 20],\n",
    "        \"gamma\" : [0.1, 0.01],\n",
    "    }\n",
    "}\n",
    "\n",
    "CRITERION_PARAMS = {\n",
    "    torch.nn.CrossEntropyLoss : {}\n",
    "}\n",
    "\n",
    "PARAM_SET = {\n",
    "    \"solver\": SOLVER_PARAMS,\n",
    "    \"model\" : MODEL_PARAMS,\n",
    "    \"optim\" : OPTIM_PARAMS,\n",
    "    \"sched\" : SCHED_PARAMS,\n",
    "    \"criterion\" : CRITERION_PARAMS,\n",
    "}"
   ]
  },
  {
   "cell_type": "code",
   "execution_count": 17,
   "metadata": {},
   "outputs": [
    {
     "name": "stderr",
     "output_type": "stream",
     "text": [
      "[I 2024-12-08 13:50:34,347] A new study created in RDB with name: my_study\n"
     ]
    },
    {
     "name": "stdout",
     "output_type": "stream",
     "text": [
      "\"Hitting the griddy...\" -Ellie\n",
      "-----------------------------------\n",
      "Epoch 1\n",
      "-----------------------------------\n"
     ]
    },
    {
     "data": {
      "application/vnd.jupyter.widget-view+json": {
       "model_id": "b7cb571a9e5e4b56bfc13efcd52d66dd",
       "version_major": 2,
       "version_minor": 0
      },
      "text/plain": [
       "Training:   0%|          | 0/3 [00:00<?, ?it/s]"
      ]
     },
     "metadata": {},
     "output_type": "display_data"
    },
    {
     "name": "stdout",
     "output_type": "stream",
     "text": [
      "Training Loss: 2.9493. Validation Loss: 3.0003.\n",
      "Training Accuracy: 0.0169. Validation Accuracy: 0.1429.\n",
      "-----------------------------------\n",
      "Epoch 2\n",
      "-----------------------------------\n"
     ]
    },
    {
     "data": {
      "application/vnd.jupyter.widget-view+json": {
       "model_id": "17918f52e9f84eb2b050a14e0dc30383",
       "version_major": 2,
       "version_minor": 0
      },
      "text/plain": [
       "Training:   0%|          | 0/3 [00:00<?, ?it/s]"
      ]
     },
     "metadata": {},
     "output_type": "display_data"
    },
    {
     "name": "stdout",
     "output_type": "stream",
     "text": [
      "Training Loss: 2.9226. Validation Loss: 2.9761.\n",
      "Training Accuracy: 0.0645. Validation Accuracy: 0.1429.\n",
      "-----------------------------------\n",
      "Epoch 3\n",
      "-----------------------------------\n"
     ]
    },
    {
     "data": {
      "application/vnd.jupyter.widget-view+json": {
       "model_id": "76eb8a949ea943b7a01018bf51e098a6",
       "version_major": 2,
       "version_minor": 0
      },
      "text/plain": [
       "Training:   0%|          | 0/3 [00:00<?, ?it/s]"
      ]
     },
     "metadata": {},
     "output_type": "display_data"
    },
    {
     "name": "stdout",
     "output_type": "stream",
     "text": [
      "Training Loss: 2.8987. Validation Loss: 2.9498.\n",
      "Training Accuracy: 0.0645. Validation Accuracy: 0.1429.\n",
      "-----------------------------------\n",
      "Epoch 4\n",
      "-----------------------------------\n"
     ]
    },
    {
     "data": {
      "application/vnd.jupyter.widget-view+json": {
       "model_id": "d0981014c4cd4d4ab3fc1a09005079c3",
       "version_major": 2,
       "version_minor": 0
      },
      "text/plain": [
       "Training:   0%|          | 0/3 [00:00<?, ?it/s]"
      ]
     },
     "metadata": {},
     "output_type": "display_data"
    },
    {
     "name": "stdout",
     "output_type": "stream",
     "text": [
      "Training Loss: 2.8758. Validation Loss: 2.9241.\n",
      "Training Accuracy: 0.0922. Validation Accuracy: 0.1429.\n",
      "-----------------------------------\n",
      "Epoch 5\n",
      "-----------------------------------\n"
     ]
    },
    {
     "data": {
      "application/vnd.jupyter.widget-view+json": {
       "model_id": "150599c414ee48789efc65cbcda5a16f",
       "version_major": 2,
       "version_minor": 0
      },
      "text/plain": [
       "Training:   0%|          | 0/3 [00:00<?, ?it/s]"
      ]
     },
     "metadata": {},
     "output_type": "display_data"
    },
    {
     "name": "stdout",
     "output_type": "stream",
     "text": [
      "Training Loss: 2.8688. Validation Loss: 2.8990.\n",
      "Training Accuracy: 0.0753. Validation Accuracy: 0.1429.\n",
      "-----------------------------------\n",
      "Epoch 6\n",
      "-----------------------------------\n"
     ]
    },
    {
     "data": {
      "application/vnd.jupyter.widget-view+json": {
       "model_id": "47c62702c85e4f9681045fc2799a64fa",
       "version_major": 2,
       "version_minor": 0
      },
      "text/plain": [
       "Training:   0%|          | 0/3 [00:00<?, ?it/s]"
      ]
     },
     "metadata": {},
     "output_type": "display_data"
    },
    {
     "name": "stdout",
     "output_type": "stream",
     "text": [
      "Training Loss: 2.8616. Validation Loss: 2.8727.\n",
      "Training Accuracy: 0.0906. Validation Accuracy: 0.1429.\n",
      "-----------------------------------\n",
      "Epoch 7\n",
      "-----------------------------------\n"
     ]
    },
    {
     "data": {
      "application/vnd.jupyter.widget-view+json": {
       "model_id": "0c5c44c493a147c88aa1c5f861b42f28",
       "version_major": 2,
       "version_minor": 0
      },
      "text/plain": [
       "Training:   0%|          | 0/3 [00:00<?, ?it/s]"
      ]
     },
     "metadata": {},
     "output_type": "display_data"
    },
    {
     "name": "stdout",
     "output_type": "stream",
     "text": [
      "Training Loss: 2.8488. Validation Loss: 2.8424.\n",
      "Training Accuracy: 0.0906. Validation Accuracy: 0.1429.\n",
      "-----------------------------------\n",
      "Epoch 8\n",
      "-----------------------------------\n"
     ]
    },
    {
     "data": {
      "application/vnd.jupyter.widget-view+json": {
       "model_id": "f095538d7e4f4b13bcb22eb21c7d99e0",
       "version_major": 2,
       "version_minor": 0
      },
      "text/plain": [
       "Training:   0%|          | 0/3 [00:00<?, ?it/s]"
      ]
     },
     "metadata": {},
     "output_type": "display_data"
    },
    {
     "name": "stdout",
     "output_type": "stream",
     "text": [
      "Training Loss: 2.8332. Validation Loss: 2.8192.\n",
      "Training Accuracy: 0.1060. Validation Accuracy: 0.1429.\n",
      "-----------------------------------\n",
      "Epoch 9\n",
      "-----------------------------------\n"
     ]
    },
    {
     "data": {
      "application/vnd.jupyter.widget-view+json": {
       "model_id": "b8b3fab995da4941abf7047056b26bcf",
       "version_major": 2,
       "version_minor": 0
      },
      "text/plain": [
       "Training:   0%|          | 0/3 [00:00<?, ?it/s]"
      ]
     },
     "metadata": {},
     "output_type": "display_data"
    },
    {
     "name": "stdout",
     "output_type": "stream",
     "text": [
      "Training Loss: 2.8217. Validation Loss: 2.7952.\n",
      "Training Accuracy: 0.1029. Validation Accuracy: 0.1429.\n",
      "-----------------------------------\n",
      "Epoch 10\n",
      "-----------------------------------\n"
     ]
    },
    {
     "data": {
      "application/vnd.jupyter.widget-view+json": {
       "model_id": "b02702db24164ee3925f0ee00cc38606",
       "version_major": 2,
       "version_minor": 0
      },
      "text/plain": [
       "Training:   0%|          | 0/3 [00:00<?, ?it/s]"
      ]
     },
     "metadata": {},
     "output_type": "display_data"
    },
    {
     "name": "stdout",
     "output_type": "stream",
     "text": [
      "Training Loss: 2.8166. Validation Loss: 2.7556.\n",
      "Training Accuracy: 0.0860. Validation Accuracy: 0.1429.\n",
      "-----------------------------------\n",
      "Epoch 11\n",
      "-----------------------------------\n"
     ]
    },
    {
     "data": {
      "application/vnd.jupyter.widget-view+json": {
       "model_id": "215ff685edf34114bddc0aa6f2d0a261",
       "version_major": 2,
       "version_minor": 0
      },
      "text/plain": [
       "Training:   0%|          | 0/3 [00:00<?, ?it/s]"
      ]
     },
     "metadata": {},
     "output_type": "display_data"
    },
    {
     "name": "stdout",
     "output_type": "stream",
     "text": [
      "Training Loss: 2.8046. Validation Loss: 2.7331.\n",
      "Training Accuracy: 0.0952. Validation Accuracy: 0.0000.\n",
      "-----------------------------------\n",
      "Epoch 12\n",
      "-----------------------------------\n"
     ]
    },
    {
     "data": {
      "application/vnd.jupyter.widget-view+json": {
       "model_id": "754755c43e5045f28609cc9299bfa62a",
       "version_major": 2,
       "version_minor": 0
      },
      "text/plain": [
       "Training:   0%|          | 0/3 [00:00<?, ?it/s]"
      ]
     },
     "metadata": {},
     "output_type": "display_data"
    },
    {
     "name": "stdout",
     "output_type": "stream",
     "text": [
      "Training Loss: 2.8005. Validation Loss: 2.7152.\n",
      "Training Accuracy: 0.0906. Validation Accuracy: 0.0000.\n",
      "-----------------------------------\n",
      "Epoch 13\n",
      "-----------------------------------\n"
     ]
    },
    {
     "data": {
      "application/vnd.jupyter.widget-view+json": {
       "model_id": "a142aaff1d3443fd9565c6b40e505ea8",
       "version_major": 2,
       "version_minor": 0
      },
      "text/plain": [
       "Training:   0%|          | 0/3 [00:00<?, ?it/s]"
      ]
     },
     "metadata": {},
     "output_type": "display_data"
    },
    {
     "name": "stdout",
     "output_type": "stream",
     "text": [
      "Training Loss: 2.7925. Validation Loss: 2.6978.\n",
      "Training Accuracy: 0.1014. Validation Accuracy: 0.0286.\n",
      "-----------------------------------\n",
      "Epoch 14\n",
      "-----------------------------------\n"
     ]
    },
    {
     "data": {
      "application/vnd.jupyter.widget-view+json": {
       "model_id": "1fdbec00e24f4eb7ad169ea9fb406b4c",
       "version_major": 2,
       "version_minor": 0
      },
      "text/plain": [
       "Training:   0%|          | 0/3 [00:00<?, ?it/s]"
      ]
     },
     "metadata": {},
     "output_type": "display_data"
    },
    {
     "name": "stdout",
     "output_type": "stream",
     "text": [
      "Training Loss: 2.7905. Validation Loss: 2.6814.\n",
      "Training Accuracy: 0.0906. Validation Accuracy: 0.0286.\n",
      "-----------------------------------\n",
      "Epoch 15\n",
      "-----------------------------------\n"
     ]
    },
    {
     "data": {
      "application/vnd.jupyter.widget-view+json": {
       "model_id": "a6afc5092aa3423385e31044d65723e8",
       "version_major": 2,
       "version_minor": 0
      },
      "text/plain": [
       "Training:   0%|          | 0/3 [00:00<?, ?it/s]"
      ]
     },
     "metadata": {},
     "output_type": "display_data"
    },
    {
     "name": "stdout",
     "output_type": "stream",
     "text": [
      "Training Loss: 2.7846. Validation Loss: 2.6659.\n",
      "Training Accuracy: 0.0922. Validation Accuracy: 0.0000.\n",
      "-----------------------------------\n",
      "Epoch 16\n",
      "-----------------------------------\n"
     ]
    },
    {
     "data": {
      "application/vnd.jupyter.widget-view+json": {
       "model_id": "4995311e7bf94699a5a1b47f15699f37",
       "version_major": 2,
       "version_minor": 0
      },
      "text/plain": [
       "Training:   0%|          | 0/3 [00:00<?, ?it/s]"
      ]
     },
     "metadata": {},
     "output_type": "display_data"
    },
    {
     "name": "stdout",
     "output_type": "stream",
     "text": [
      "Training Loss: 2.7811. Validation Loss: 2.6514.\n",
      "Training Accuracy: 0.0937. Validation Accuracy: 0.0000.\n",
      "-----------------------------------\n",
      "Epoch 17\n",
      "-----------------------------------\n"
     ]
    },
    {
     "data": {
      "application/vnd.jupyter.widget-view+json": {
       "model_id": "0369294955394cdd8432d7338fc3b9b8",
       "version_major": 2,
       "version_minor": 0
      },
      "text/plain": [
       "Training:   0%|          | 0/3 [00:00<?, ?it/s]"
      ]
     },
     "metadata": {},
     "output_type": "display_data"
    },
    {
     "name": "stdout",
     "output_type": "stream",
     "text": [
      "Training Loss: 2.7802. Validation Loss: 2.6376.\n",
      "Training Accuracy: 0.1029. Validation Accuracy: 0.0286.\n",
      "-----------------------------------\n",
      "Epoch 18\n",
      "-----------------------------------\n"
     ]
    },
    {
     "data": {
      "application/vnd.jupyter.widget-view+json": {
       "model_id": "02573f00fe3646798f0f87a911fb60f7",
       "version_major": 2,
       "version_minor": 0
      },
      "text/plain": [
       "Training:   0%|          | 0/3 [00:00<?, ?it/s]"
      ]
     },
     "metadata": {},
     "output_type": "display_data"
    },
    {
     "name": "stdout",
     "output_type": "stream",
     "text": [
      "Training Loss: 2.7768. Validation Loss: 2.6245.\n",
      "Training Accuracy: 0.0983. Validation Accuracy: 0.0857.\n",
      "-----------------------------------\n",
      "Epoch 19\n",
      "-----------------------------------\n"
     ]
    },
    {
     "data": {
      "application/vnd.jupyter.widget-view+json": {
       "model_id": "1e6eb8e4f26f4d3cb03e46d6844c2098",
       "version_major": 2,
       "version_minor": 0
      },
      "text/plain": [
       "Training:   0%|          | 0/3 [00:00<?, ?it/s]"
      ]
     },
     "metadata": {},
     "output_type": "display_data"
    },
    {
     "name": "stdout",
     "output_type": "stream",
     "text": [
      "Training Loss: 2.7684. Validation Loss: 2.6113.\n",
      "Training Accuracy: 0.0998. Validation Accuracy: 0.0857.\n",
      "-----------------------------------\n",
      "Epoch 20\n",
      "-----------------------------------\n"
     ]
    },
    {
     "data": {
      "application/vnd.jupyter.widget-view+json": {
       "model_id": "151b482f2afb45fb9dcd500116cedfa5",
       "version_major": 2,
       "version_minor": 0
      },
      "text/plain": [
       "Training:   0%|          | 0/3 [00:00<?, ?it/s]"
      ]
     },
     "metadata": {},
     "output_type": "display_data"
    },
    {
     "name": "stderr",
     "output_type": "stream",
     "text": [
      "[I 2024-12-08 13:50:49,664] Trial 0 finished with value: 90.90808868408203 and parameters: {'kernel_size': 1024, 'stride': 4096, 'fourier_size': 512, 'enc_hidden': 4, 'dec_hidden': 512, 'lr': 0.0001, 'step_size': 10, 'gamma': 0.01}. Best is trial 0 with value: 90.90808868408203.\n"
     ]
    },
    {
     "name": "stdout",
     "output_type": "stream",
     "text": [
      "Training Loss: 2.7706. Validation Loss: 2.5974.\n",
      "Training Accuracy: 0.0952. Validation Accuracy: 0.0857.\n",
      "-----------------------------------\n",
      "Epoch 1\n",
      "-----------------------------------\n"
     ]
    },
    {
     "data": {
      "application/vnd.jupyter.widget-view+json": {
       "model_id": "0d6cc16426924ca79636c276b07e3134",
       "version_major": 2,
       "version_minor": 0
      },
      "text/plain": [
       "Training:   0%|          | 0/3 [00:00<?, ?it/s]"
      ]
     },
     "metadata": {},
     "output_type": "display_data"
    },
    {
     "name": "stdout",
     "output_type": "stream",
     "text": [
      "Training Loss: 3.0031. Validation Loss: 3.1551.\n",
      "Training Accuracy: 0.0307. Validation Accuracy: 0.0000.\n",
      "-----------------------------------\n",
      "Epoch 2\n",
      "-----------------------------------\n"
     ]
    },
    {
     "data": {
      "application/vnd.jupyter.widget-view+json": {
       "model_id": "88aef79aab3c4004be114984ae8b8f66",
       "version_major": 2,
       "version_minor": 0
      },
      "text/plain": [
       "Training:   0%|          | 0/3 [00:00<?, ?it/s]"
      ]
     },
     "metadata": {},
     "output_type": "display_data"
    },
    {
     "name": "stdout",
     "output_type": "stream",
     "text": [
      "Training Loss: 3.0043. Validation Loss: 3.1540.\n",
      "Training Accuracy: 0.0307. Validation Accuracy: 0.0000.\n",
      "-----------------------------------\n",
      "Epoch 3\n",
      "-----------------------------------\n"
     ]
    },
    {
     "data": {
      "application/vnd.jupyter.widget-view+json": {
       "model_id": "4b0e5644619d4dcc928c265658ba8f33",
       "version_major": 2,
       "version_minor": 0
      },
      "text/plain": [
       "Training:   0%|          | 0/3 [00:00<?, ?it/s]"
      ]
     },
     "metadata": {},
     "output_type": "display_data"
    },
    {
     "name": "stdout",
     "output_type": "stream",
     "text": [
      "Training Loss: 3.0026. Validation Loss: 3.1526.\n",
      "Training Accuracy: 0.0307. Validation Accuracy: 0.0000.\n",
      "-----------------------------------\n",
      "Epoch 4\n",
      "-----------------------------------\n"
     ]
    },
    {
     "data": {
      "application/vnd.jupyter.widget-view+json": {
       "model_id": "5a7ca2d43fa54cc7b47bebb5e9026183",
       "version_major": 2,
       "version_minor": 0
      },
      "text/plain": [
       "Training:   0%|          | 0/3 [00:00<?, ?it/s]"
      ]
     },
     "metadata": {},
     "output_type": "display_data"
    },
    {
     "name": "stdout",
     "output_type": "stream",
     "text": [
      "Training Loss: 3.0079. Validation Loss: 3.1513.\n",
      "Training Accuracy: 0.0307. Validation Accuracy: 0.0000.\n",
      "-----------------------------------\n",
      "Epoch 5\n",
      "-----------------------------------\n"
     ]
    },
    {
     "data": {
      "application/vnd.jupyter.widget-view+json": {
       "model_id": "26fae24093b1440cb6b050c93f995233",
       "version_major": 2,
       "version_minor": 0
      },
      "text/plain": [
       "Training:   0%|          | 0/3 [00:00<?, ?it/s]"
      ]
     },
     "metadata": {},
     "output_type": "display_data"
    },
    {
     "name": "stdout",
     "output_type": "stream",
     "text": [
      "Training Loss: 2.9986. Validation Loss: 3.1499.\n",
      "Training Accuracy: 0.0292. Validation Accuracy: 0.0000.\n",
      "-----------------------------------\n",
      "Epoch 6\n",
      "-----------------------------------\n"
     ]
    },
    {
     "data": {
      "application/vnd.jupyter.widget-view+json": {
       "model_id": "ae2248df146c41d2a6139b0878dd3ee8",
       "version_major": 2,
       "version_minor": 0
      },
      "text/plain": [
       "Training:   0%|          | 0/3 [00:00<?, ?it/s]"
      ]
     },
     "metadata": {},
     "output_type": "display_data"
    },
    {
     "name": "stdout",
     "output_type": "stream",
     "text": [
      "Training Loss: 3.0110. Validation Loss: 3.1485.\n",
      "Training Accuracy: 0.0307. Validation Accuracy: 0.0000.\n",
      "-----------------------------------\n",
      "Epoch 7\n",
      "-----------------------------------\n"
     ]
    },
    {
     "data": {
      "application/vnd.jupyter.widget-view+json": {
       "model_id": "d1bced4ca68946f88558df81ee54e6dc",
       "version_major": 2,
       "version_minor": 0
      },
      "text/plain": [
       "Training:   0%|          | 0/3 [00:00<?, ?it/s]"
      ]
     },
     "metadata": {},
     "output_type": "display_data"
    },
    {
     "name": "stdout",
     "output_type": "stream",
     "text": [
      "Training Loss: 3.0052. Validation Loss: 3.1471.\n",
      "Training Accuracy: 0.0307. Validation Accuracy: 0.0000.\n",
      "-----------------------------------\n",
      "Epoch 8\n",
      "-----------------------------------\n"
     ]
    },
    {
     "data": {
      "application/vnd.jupyter.widget-view+json": {
       "model_id": "2404f9a53bb04334bf3421bd30c07e35",
       "version_major": 2,
       "version_minor": 0
      },
      "text/plain": [
       "Training:   0%|          | 0/3 [00:00<?, ?it/s]"
      ]
     },
     "metadata": {},
     "output_type": "display_data"
    },
    {
     "name": "stdout",
     "output_type": "stream",
     "text": [
      "Training Loss: 2.9988. Validation Loss: 3.1457.\n",
      "Training Accuracy: 0.0307. Validation Accuracy: 0.0000.\n",
      "-----------------------------------\n",
      "Epoch 9\n",
      "-----------------------------------\n"
     ]
    },
    {
     "data": {
      "application/vnd.jupyter.widget-view+json": {
       "model_id": "c3476d9f8b4d4475a5d5c2eb2cdf863e",
       "version_major": 2,
       "version_minor": 0
      },
      "text/plain": [
       "Training:   0%|          | 0/3 [00:00<?, ?it/s]"
      ]
     },
     "metadata": {},
     "output_type": "display_data"
    },
    {
     "name": "stdout",
     "output_type": "stream",
     "text": [
      "Training Loss: 2.9999. Validation Loss: 3.1443.\n",
      "Training Accuracy: 0.0292. Validation Accuracy: 0.0000.\n",
      "-----------------------------------\n",
      "Epoch 10\n",
      "-----------------------------------\n"
     ]
    },
    {
     "data": {
      "application/vnd.jupyter.widget-view+json": {
       "model_id": "a92dcaf6da9a4e3ea34aef4923bb9a25",
       "version_major": 2,
       "version_minor": 0
      },
      "text/plain": [
       "Training:   0%|          | 0/3 [00:00<?, ?it/s]"
      ]
     },
     "metadata": {},
     "output_type": "display_data"
    },
    {
     "name": "stdout",
     "output_type": "stream",
     "text": [
      "Training Loss: 3.0014. Validation Loss: 3.1429.\n",
      "Training Accuracy: 0.0276. Validation Accuracy: 0.0000.\n",
      "-----------------------------------\n",
      "Epoch 11\n",
      "-----------------------------------\n"
     ]
    },
    {
     "data": {
      "application/vnd.jupyter.widget-view+json": {
       "model_id": "92c4fd9e55e94ddfba520712ccb64b93",
       "version_major": 2,
       "version_minor": 0
      },
      "text/plain": [
       "Training:   0%|          | 0/3 [00:00<?, ?it/s]"
      ]
     },
     "metadata": {},
     "output_type": "display_data"
    },
    {
     "name": "stdout",
     "output_type": "stream",
     "text": [
      "Training Loss: 3.0042. Validation Loss: 3.1416.\n",
      "Training Accuracy: 0.0323. Validation Accuracy: 0.0000.\n",
      "-----------------------------------\n",
      "Epoch 12\n",
      "-----------------------------------\n"
     ]
    },
    {
     "data": {
      "application/vnd.jupyter.widget-view+json": {
       "model_id": "38445bacf9ed4b26b785ba27d42a2fcd",
       "version_major": 2,
       "version_minor": 0
      },
      "text/plain": [
       "Training:   0%|          | 0/3 [00:00<?, ?it/s]"
      ]
     },
     "metadata": {},
     "output_type": "display_data"
    },
    {
     "name": "stdout",
     "output_type": "stream",
     "text": [
      "Training Loss: 2.9975. Validation Loss: 3.1402.\n",
      "Training Accuracy: 0.0307. Validation Accuracy: 0.0000.\n",
      "-----------------------------------\n",
      "Epoch 13\n",
      "-----------------------------------\n"
     ]
    },
    {
     "data": {
      "application/vnd.jupyter.widget-view+json": {
       "model_id": "0ebcd6ed3f1c4bd989290503479738af",
       "version_major": 2,
       "version_minor": 0
      },
      "text/plain": [
       "Training:   0%|          | 0/3 [00:00<?, ?it/s]"
      ]
     },
     "metadata": {},
     "output_type": "display_data"
    },
    {
     "name": "stdout",
     "output_type": "stream",
     "text": [
      "Training Loss: 2.9931. Validation Loss: 3.1388.\n",
      "Training Accuracy: 0.0307. Validation Accuracy: 0.0000.\n",
      "-----------------------------------\n",
      "Epoch 14\n",
      "-----------------------------------\n"
     ]
    },
    {
     "data": {
      "application/vnd.jupyter.widget-view+json": {
       "model_id": "c7fba415bcbe4ab6ac41532470e52381",
       "version_major": 2,
       "version_minor": 0
      },
      "text/plain": [
       "Training:   0%|          | 0/3 [00:00<?, ?it/s]"
      ]
     },
     "metadata": {},
     "output_type": "display_data"
    },
    {
     "name": "stdout",
     "output_type": "stream",
     "text": [
      "Training Loss: 2.9963. Validation Loss: 3.1374.\n",
      "Training Accuracy: 0.0307. Validation Accuracy: 0.0000.\n",
      "-----------------------------------\n",
      "Epoch 15\n",
      "-----------------------------------\n"
     ]
    },
    {
     "data": {
      "application/vnd.jupyter.widget-view+json": {
       "model_id": "f09340a1b98742a7a114fb3dd785c46c",
       "version_major": 2,
       "version_minor": 0
      },
      "text/plain": [
       "Training:   0%|          | 0/3 [00:00<?, ?it/s]"
      ]
     },
     "metadata": {},
     "output_type": "display_data"
    },
    {
     "name": "stdout",
     "output_type": "stream",
     "text": [
      "Training Loss: 2.9989. Validation Loss: 3.1360.\n",
      "Training Accuracy: 0.0323. Validation Accuracy: 0.0000.\n",
      "-----------------------------------\n",
      "Epoch 16\n",
      "-----------------------------------\n"
     ]
    },
    {
     "data": {
      "application/vnd.jupyter.widget-view+json": {
       "model_id": "310b8f6e48a6494fa9a86aa301635356",
       "version_major": 2,
       "version_minor": 0
      },
      "text/plain": [
       "Training:   0%|          | 0/3 [00:00<?, ?it/s]"
      ]
     },
     "metadata": {},
     "output_type": "display_data"
    },
    {
     "name": "stdout",
     "output_type": "stream",
     "text": [
      "Training Loss: 2.9993. Validation Loss: 3.1347.\n",
      "Training Accuracy: 0.0307. Validation Accuracy: 0.0000.\n",
      "-----------------------------------\n",
      "Epoch 17\n",
      "-----------------------------------\n"
     ]
    },
    {
     "data": {
      "application/vnd.jupyter.widget-view+json": {
       "model_id": "a90c49f890094d09bf895dd5563ac439",
       "version_major": 2,
       "version_minor": 0
      },
      "text/plain": [
       "Training:   0%|          | 0/3 [00:00<?, ?it/s]"
      ]
     },
     "metadata": {},
     "output_type": "display_data"
    },
    {
     "name": "stdout",
     "output_type": "stream",
     "text": [
      "Training Loss: 3.0008. Validation Loss: 3.1333.\n",
      "Training Accuracy: 0.0338. Validation Accuracy: 0.0000.\n",
      "-----------------------------------\n",
      "Epoch 18\n",
      "-----------------------------------\n"
     ]
    },
    {
     "data": {
      "application/vnd.jupyter.widget-view+json": {
       "model_id": "d9c43b42b6a64fb6acf6000e52fb4e49",
       "version_major": 2,
       "version_minor": 0
      },
      "text/plain": [
       "Training:   0%|          | 0/3 [00:00<?, ?it/s]"
      ]
     },
     "metadata": {},
     "output_type": "display_data"
    },
    {
     "name": "stdout",
     "output_type": "stream",
     "text": [
      "Training Loss: 2.9915. Validation Loss: 3.1320.\n",
      "Training Accuracy: 0.0338. Validation Accuracy: 0.0000.\n",
      "-----------------------------------\n",
      "Epoch 19\n",
      "-----------------------------------\n"
     ]
    },
    {
     "data": {
      "application/vnd.jupyter.widget-view+json": {
       "model_id": "ec3ba9cb52114842bcadc724e7ec7d13",
       "version_major": 2,
       "version_minor": 0
      },
      "text/plain": [
       "Training:   0%|          | 0/3 [00:00<?, ?it/s]"
      ]
     },
     "metadata": {},
     "output_type": "display_data"
    },
    {
     "name": "stdout",
     "output_type": "stream",
     "text": [
      "Training Loss: 2.9983. Validation Loss: 3.1306.\n",
      "Training Accuracy: 0.0323. Validation Accuracy: 0.0000.\n",
      "-----------------------------------\n",
      "Epoch 20\n",
      "-----------------------------------\n"
     ]
    },
    {
     "data": {
      "application/vnd.jupyter.widget-view+json": {
       "model_id": "c60ccbe2bb654863b102dfbb3412c0a5",
       "version_major": 2,
       "version_minor": 0
      },
      "text/plain": [
       "Training:   0%|          | 0/3 [00:00<?, ?it/s]"
      ]
     },
     "metadata": {},
     "output_type": "display_data"
    },
    {
     "name": "stderr",
     "output_type": "stream",
     "text": [
      "[I 2024-12-08 13:51:03,344] Trial 1 finished with value: 109.52500343322754 and parameters: {'kernel_size': 8192, 'stride': 1024, 'fourier_size': 128, 'enc_hidden': 4, 'dec_hidden': 16, 'lr': 0.0001, 'step_size': 10, 'gamma': 0.1}. Best is trial 0 with value: 90.90808868408203.\n"
     ]
    },
    {
     "name": "stdout",
     "output_type": "stream",
     "text": [
      "Training Loss: 2.9940. Validation Loss: 3.1293.\n",
      "Training Accuracy: 0.0292. Validation Accuracy: 0.0000.\n",
      "-----------------------------------\n",
      "Epoch 1\n",
      "-----------------------------------\n"
     ]
    },
    {
     "data": {
      "application/vnd.jupyter.widget-view+json": {
       "model_id": "5e00dbee7bb24864beb543093dae5c00",
       "version_major": 2,
       "version_minor": 0
      },
      "text/plain": [
       "Training:   0%|          | 0/3 [00:00<?, ?it/s]"
      ]
     },
     "metadata": {},
     "output_type": "display_data"
    },
    {
     "name": "stdout",
     "output_type": "stream",
     "text": [
      "Training Loss: 3.0737. Validation Loss: 3.0851.\n",
      "Training Accuracy: 0.0369. Validation Accuracy: 0.0000.\n",
      "-----------------------------------\n",
      "Epoch 2\n",
      "-----------------------------------\n"
     ]
    },
    {
     "data": {
      "application/vnd.jupyter.widget-view+json": {
       "model_id": "49d5196572c942cb835536fd549fa975",
       "version_major": 2,
       "version_minor": 0
      },
      "text/plain": [
       "Training:   0%|          | 0/3 [00:00<?, ?it/s]"
      ]
     },
     "metadata": {},
     "output_type": "display_data"
    },
    {
     "name": "stdout",
     "output_type": "stream",
     "text": [
      "Training Loss: 3.0447. Validation Loss: 3.0546.\n",
      "Training Accuracy: 0.0507. Validation Accuracy: 0.0000.\n",
      "-----------------------------------\n",
      "Epoch 3\n",
      "-----------------------------------\n"
     ]
    },
    {
     "data": {
      "application/vnd.jupyter.widget-view+json": {
       "model_id": "3d39f575df794faaa43f08ea0ac2562f",
       "version_major": 2,
       "version_minor": 0
      },
      "text/plain": [
       "Training:   0%|          | 0/3 [00:00<?, ?it/s]"
      ]
     },
     "metadata": {},
     "output_type": "display_data"
    },
    {
     "name": "stdout",
     "output_type": "stream",
     "text": [
      "Training Loss: 3.0394. Validation Loss: 3.0148.\n",
      "Training Accuracy: 0.0476. Validation Accuracy: 0.0000.\n",
      "-----------------------------------\n",
      "Epoch 4\n",
      "-----------------------------------\n"
     ]
    },
    {
     "data": {
      "application/vnd.jupyter.widget-view+json": {
       "model_id": "e0505232d77e4b809faa843ad0eb6036",
       "version_major": 2,
       "version_minor": 0
      },
      "text/plain": [
       "Training:   0%|          | 0/3 [00:00<?, ?it/s]"
      ]
     },
     "metadata": {},
     "output_type": "display_data"
    },
    {
     "name": "stdout",
     "output_type": "stream",
     "text": [
      "Training Loss: 3.0068. Validation Loss: 2.9774.\n",
      "Training Accuracy: 0.0584. Validation Accuracy: 0.0000.\n",
      "-----------------------------------\n",
      "Epoch 5\n",
      "-----------------------------------\n"
     ]
    },
    {
     "data": {
      "application/vnd.jupyter.widget-view+json": {
       "model_id": "d7511179d15a458e8eb9dc79fc794a26",
       "version_major": 2,
       "version_minor": 0
      },
      "text/plain": [
       "Training:   0%|          | 0/3 [00:00<?, ?it/s]"
      ]
     },
     "metadata": {},
     "output_type": "display_data"
    },
    {
     "name": "stdout",
     "output_type": "stream",
     "text": [
      "Training Loss: 3.0107. Validation Loss: 2.9434.\n",
      "Training Accuracy: 0.0384. Validation Accuracy: 0.0000.\n",
      "-----------------------------------\n",
      "Epoch 6\n",
      "-----------------------------------\n"
     ]
    },
    {
     "data": {
      "application/vnd.jupyter.widget-view+json": {
       "model_id": "da66c00162b14cba9fbd350e3c83f53b",
       "version_major": 2,
       "version_minor": 0
      },
      "text/plain": [
       "Training:   0%|          | 0/3 [00:00<?, ?it/s]"
      ]
     },
     "metadata": {},
     "output_type": "display_data"
    },
    {
     "name": "stdout",
     "output_type": "stream",
     "text": [
      "Training Loss: 2.9900. Validation Loss: 2.9116.\n",
      "Training Accuracy: 0.0492. Validation Accuracy: 0.0000.\n",
      "-----------------------------------\n",
      "Epoch 7\n",
      "-----------------------------------\n"
     ]
    },
    {
     "data": {
      "application/vnd.jupyter.widget-view+json": {
       "model_id": "7080ea6bc14b440491ba130d95e42dbf",
       "version_major": 2,
       "version_minor": 0
      },
      "text/plain": [
       "Training:   0%|          | 0/3 [00:00<?, ?it/s]"
      ]
     },
     "metadata": {},
     "output_type": "display_data"
    },
    {
     "name": "stdout",
     "output_type": "stream",
     "text": [
      "Training Loss: 2.9665. Validation Loss: 2.8857.\n",
      "Training Accuracy: 0.0507. Validation Accuracy: 0.0000.\n",
      "-----------------------------------\n",
      "Epoch 8\n",
      "-----------------------------------\n"
     ]
    },
    {
     "data": {
      "application/vnd.jupyter.widget-view+json": {
       "model_id": "4975e4339fd0423f8cbf8a381b9cd7ba",
       "version_major": 2,
       "version_minor": 0
      },
      "text/plain": [
       "Training:   0%|          | 0/3 [00:00<?, ?it/s]"
      ]
     },
     "metadata": {},
     "output_type": "display_data"
    },
    {
     "name": "stdout",
     "output_type": "stream",
     "text": [
      "Training Loss: 2.9522. Validation Loss: 2.9139.\n",
      "Training Accuracy: 0.0676. Validation Accuracy: 0.0000.\n",
      "-----------------------------------\n",
      "Epoch 9\n",
      "-----------------------------------\n"
     ]
    },
    {
     "data": {
      "application/vnd.jupyter.widget-view+json": {
       "model_id": "13fdd3b169094845b4c8472f44642316",
       "version_major": 2,
       "version_minor": 0
      },
      "text/plain": [
       "Training:   0%|          | 0/3 [00:00<?, ?it/s]"
      ]
     },
     "metadata": {},
     "output_type": "display_data"
    },
    {
     "name": "stdout",
     "output_type": "stream",
     "text": [
      "Training Loss: 2.9519. Validation Loss: 2.9005.\n",
      "Training Accuracy: 0.0584. Validation Accuracy: 0.0000.\n",
      "-----------------------------------\n",
      "Epoch 10\n",
      "-----------------------------------\n"
     ]
    },
    {
     "data": {
      "application/vnd.jupyter.widget-view+json": {
       "model_id": "3061099e23a84bd299421fbf8ac8bdee",
       "version_major": 2,
       "version_minor": 0
      },
      "text/plain": [
       "Training:   0%|          | 0/3 [00:00<?, ?it/s]"
      ]
     },
     "metadata": {},
     "output_type": "display_data"
    },
    {
     "name": "stdout",
     "output_type": "stream",
     "text": [
      "Training Loss: 2.9486. Validation Loss: 2.8853.\n",
      "Training Accuracy: 0.0614. Validation Accuracy: 0.0000.\n",
      "-----------------------------------\n",
      "Epoch 11\n",
      "-----------------------------------\n"
     ]
    },
    {
     "data": {
      "application/vnd.jupyter.widget-view+json": {
       "model_id": "0833098a94964857920d14da9166b7be",
       "version_major": 2,
       "version_minor": 0
      },
      "text/plain": [
       "Training:   0%|          | 0/3 [00:00<?, ?it/s]"
      ]
     },
     "metadata": {},
     "output_type": "display_data"
    },
    {
     "name": "stdout",
     "output_type": "stream",
     "text": [
      "Training Loss: 2.9239. Validation Loss: 2.8703.\n",
      "Training Accuracy: 0.0783. Validation Accuracy: 0.0000.\n",
      "-----------------------------------\n",
      "Epoch 12\n",
      "-----------------------------------\n"
     ]
    },
    {
     "data": {
      "application/vnd.jupyter.widget-view+json": {
       "model_id": "eaf3f23b93304167a7a9f8a6c7e0d252",
       "version_major": 2,
       "version_minor": 0
      },
      "text/plain": [
       "Training:   0%|          | 0/3 [00:00<?, ?it/s]"
      ]
     },
     "metadata": {},
     "output_type": "display_data"
    },
    {
     "name": "stdout",
     "output_type": "stream",
     "text": [
      "Training Loss: 2.9199. Validation Loss: 2.8563.\n",
      "Training Accuracy: 0.0906. Validation Accuracy: 0.0000.\n",
      "-----------------------------------\n",
      "Epoch 13\n",
      "-----------------------------------\n"
     ]
    },
    {
     "data": {
      "application/vnd.jupyter.widget-view+json": {
       "model_id": "f744671cbd63417190c20c6b7c545dad",
       "version_major": 2,
       "version_minor": 0
      },
      "text/plain": [
       "Training:   0%|          | 0/3 [00:00<?, ?it/s]"
      ]
     },
     "metadata": {},
     "output_type": "display_data"
    },
    {
     "name": "stdout",
     "output_type": "stream",
     "text": [
      "Training Loss: 2.9083. Validation Loss: 2.8447.\n",
      "Training Accuracy: 0.0860. Validation Accuracy: 0.0000.\n",
      "-----------------------------------\n",
      "Epoch 14\n",
      "-----------------------------------\n"
     ]
    },
    {
     "data": {
      "application/vnd.jupyter.widget-view+json": {
       "model_id": "f883cb9d1cf14886b501eb5efe1c5dcb",
       "version_major": 2,
       "version_minor": 0
      },
      "text/plain": [
       "Training:   0%|          | 0/3 [00:00<?, ?it/s]"
      ]
     },
     "metadata": {},
     "output_type": "display_data"
    },
    {
     "name": "stdout",
     "output_type": "stream",
     "text": [
      "Training Loss: 2.8911. Validation Loss: 2.8290.\n",
      "Training Accuracy: 0.0922. Validation Accuracy: 0.0000.\n",
      "-----------------------------------\n",
      "Epoch 15\n",
      "-----------------------------------\n"
     ]
    },
    {
     "data": {
      "application/vnd.jupyter.widget-view+json": {
       "model_id": "024636fda4a04af0b03bd597263a4e65",
       "version_major": 2,
       "version_minor": 0
      },
      "text/plain": [
       "Training:   0%|          | 0/3 [00:00<?, ?it/s]"
      ]
     },
     "metadata": {},
     "output_type": "display_data"
    },
    {
     "name": "stdout",
     "output_type": "stream",
     "text": [
      "Training Loss: 2.9030. Validation Loss: 2.8191.\n",
      "Training Accuracy: 0.0737. Validation Accuracy: 0.0000.\n",
      "-----------------------------------\n",
      "Epoch 16\n",
      "-----------------------------------\n"
     ]
    },
    {
     "data": {
      "application/vnd.jupyter.widget-view+json": {
       "model_id": "f7d35cea08904aacb6b95e4830ac552c",
       "version_major": 2,
       "version_minor": 0
      },
      "text/plain": [
       "Training:   0%|          | 0/3 [00:00<?, ?it/s]"
      ]
     },
     "metadata": {},
     "output_type": "display_data"
    },
    {
     "name": "stdout",
     "output_type": "stream",
     "text": [
      "Training Loss: 2.8728. Validation Loss: 2.8090.\n",
      "Training Accuracy: 0.0998. Validation Accuracy: 0.0000.\n",
      "-----------------------------------\n",
      "Epoch 17\n",
      "-----------------------------------\n"
     ]
    },
    {
     "data": {
      "application/vnd.jupyter.widget-view+json": {
       "model_id": "d1df7e4e188045bb83706b8c3bc8a454",
       "version_major": 2,
       "version_minor": 0
      },
      "text/plain": [
       "Training:   0%|          | 0/3 [00:00<?, ?it/s]"
      ]
     },
     "metadata": {},
     "output_type": "display_data"
    },
    {
     "name": "stdout",
     "output_type": "stream",
     "text": [
      "Training Loss: 2.8824. Validation Loss: 2.7992.\n",
      "Training Accuracy: 0.0968. Validation Accuracy: 0.0000.\n",
      "-----------------------------------\n",
      "Epoch 18\n",
      "-----------------------------------\n"
     ]
    },
    {
     "data": {
      "application/vnd.jupyter.widget-view+json": {
       "model_id": "a3a9739481a04e3eb740457c6b0a89b1",
       "version_major": 2,
       "version_minor": 0
      },
      "text/plain": [
       "Training:   0%|          | 0/3 [00:00<?, ?it/s]"
      ]
     },
     "metadata": {},
     "output_type": "display_data"
    },
    {
     "name": "stdout",
     "output_type": "stream",
     "text": [
      "Training Loss: 2.8683. Validation Loss: 2.7898.\n",
      "Training Accuracy: 0.0998. Validation Accuracy: 0.0000.\n",
      "-----------------------------------\n",
      "Epoch 19\n",
      "-----------------------------------\n"
     ]
    },
    {
     "data": {
      "application/vnd.jupyter.widget-view+json": {
       "model_id": "793764ef7f43441b8dcc363fc32c0ea0",
       "version_major": 2,
       "version_minor": 0
      },
      "text/plain": [
       "Training:   0%|          | 0/3 [00:00<?, ?it/s]"
      ]
     },
     "metadata": {},
     "output_type": "display_data"
    },
    {
     "name": "stdout",
     "output_type": "stream",
     "text": [
      "Training Loss: 2.8621. Validation Loss: 2.7749.\n",
      "Training Accuracy: 0.0983. Validation Accuracy: 0.0000.\n",
      "-----------------------------------\n",
      "Epoch 20\n",
      "-----------------------------------\n"
     ]
    },
    {
     "data": {
      "application/vnd.jupyter.widget-view+json": {
       "model_id": "5a617d3a827846d88ba4b8a742e8263f",
       "version_major": 2,
       "version_minor": 0
      },
      "text/plain": [
       "Training:   0%|          | 0/3 [00:00<?, ?it/s]"
      ]
     },
     "metadata": {},
     "output_type": "display_data"
    },
    {
     "name": "stderr",
     "output_type": "stream",
     "text": [
      "[I 2024-12-08 13:51:18,436] Trial 2 finished with value: 96.9582188129425 and parameters: {'kernel_size': 8192, 'stride': 256, 'fourier_size': 4096, 'enc_hidden': 256, 'dec_hidden': 4, 'lr': 0.01, 'step_size': 10, 'gamma': 0.01}. Best is trial 0 with value: 90.90808868408203.\n"
     ]
    },
    {
     "name": "stdout",
     "output_type": "stream",
     "text": [
      "Training Loss: 2.8640. Validation Loss: 2.7702.\n",
      "Training Accuracy: 0.0983. Validation Accuracy: 0.0000.\n",
      "-----------------------------------\n",
      "Epoch 1\n",
      "-----------------------------------\n"
     ]
    },
    {
     "data": {
      "application/vnd.jupyter.widget-view+json": {
       "model_id": "a13d3a8c9b6547f490f701f2341e2776",
       "version_major": 2,
       "version_minor": 0
      },
      "text/plain": [
       "Training:   0%|          | 0/3 [00:00<?, ?it/s]"
      ]
     },
     "metadata": {},
     "output_type": "display_data"
    },
    {
     "name": "stdout",
     "output_type": "stream",
     "text": [
      "Training Loss: 5.0234. Validation Loss: 2.4224.\n",
      "Training Accuracy: 0.0829. Validation Accuracy: 0.2000.\n",
      "-----------------------------------\n",
      "Epoch 2\n",
      "-----------------------------------\n"
     ]
    },
    {
     "data": {
      "application/vnd.jupyter.widget-view+json": {
       "model_id": "6edde06ca2e34d579aa2522f87b880e3",
       "version_major": 2,
       "version_minor": 0
      },
      "text/plain": [
       "Training:   0%|          | 0/3 [00:00<?, ?it/s]"
      ]
     },
     "metadata": {},
     "output_type": "display_data"
    },
    {
     "name": "stdout",
     "output_type": "stream",
     "text": [
      "Training Loss: 5.2381. Validation Loss: 2.5545.\n",
      "Training Accuracy: 0.0307. Validation Accuracy: 0.1429.\n",
      "-----------------------------------\n",
      "Epoch 3\n",
      "-----------------------------------\n"
     ]
    },
    {
     "data": {
      "application/vnd.jupyter.widget-view+json": {
       "model_id": "a8ca7d552f8943519d918767e216008a",
       "version_major": 2,
       "version_minor": 0
      },
      "text/plain": [
       "Training:   0%|          | 0/3 [00:00<?, ?it/s]"
      ]
     },
     "metadata": {},
     "output_type": "display_data"
    },
    {
     "name": "stdout",
     "output_type": "stream",
     "text": [
      "Training Loss: 3.8273. Validation Loss: 2.4879.\n",
      "Training Accuracy: 0.0737. Validation Accuracy: 0.0000.\n",
      "-----------------------------------\n",
      "Epoch 4\n",
      "-----------------------------------\n"
     ]
    },
    {
     "data": {
      "application/vnd.jupyter.widget-view+json": {
       "model_id": "59e36e9d1b274d47b7e8bd38b3f25ab9",
       "version_major": 2,
       "version_minor": 0
      },
      "text/plain": [
       "Training:   0%|          | 0/3 [00:00<?, ?it/s]"
      ]
     },
     "metadata": {},
     "output_type": "display_data"
    },
    {
     "name": "stdout",
     "output_type": "stream",
     "text": [
      "Training Loss: 3.4002. Validation Loss: 2.4451.\n",
      "Training Accuracy: 0.1536. Validation Accuracy: 0.1429.\n",
      "-----------------------------------\n",
      "Epoch 5\n",
      "-----------------------------------\n"
     ]
    },
    {
     "data": {
      "application/vnd.jupyter.widget-view+json": {
       "model_id": "0580f28edad74333b53ac794fcb8fa72",
       "version_major": 2,
       "version_minor": 0
      },
      "text/plain": [
       "Training:   0%|          | 0/3 [00:00<?, ?it/s]"
      ]
     },
     "metadata": {},
     "output_type": "display_data"
    },
    {
     "name": "stdout",
     "output_type": "stream",
     "text": [
      "Training Loss: 3.2076. Validation Loss: 2.2339.\n",
      "Training Accuracy: 0.1290. Validation Accuracy: 0.2286.\n",
      "-----------------------------------\n",
      "Epoch 6\n",
      "-----------------------------------\n"
     ]
    },
    {
     "data": {
      "application/vnd.jupyter.widget-view+json": {
       "model_id": "4897fa77f30c400ca722227a625a2bdc",
       "version_major": 2,
       "version_minor": 0
      },
      "text/plain": [
       "Training:   0%|          | 0/3 [00:00<?, ?it/s]"
      ]
     },
     "metadata": {},
     "output_type": "display_data"
    },
    {
     "name": "stdout",
     "output_type": "stream",
     "text": [
      "Training Loss: 2.9570. Validation Loss: 3.2642.\n",
      "Training Accuracy: 0.1521. Validation Accuracy: 0.0000.\n",
      "-----------------------------------\n",
      "Epoch 7\n",
      "-----------------------------------\n"
     ]
    },
    {
     "data": {
      "application/vnd.jupyter.widget-view+json": {
       "model_id": "e1622bd746ca4df698a933d88701b204",
       "version_major": 2,
       "version_minor": 0
      },
      "text/plain": [
       "Training:   0%|          | 0/3 [00:00<?, ?it/s]"
      ]
     },
     "metadata": {},
     "output_type": "display_data"
    },
    {
     "name": "stdout",
     "output_type": "stream",
     "text": [
      "Training Loss: 3.0434. Validation Loss: 3.1273.\n",
      "Training Accuracy: 0.1966. Validation Accuracy: 0.1429.\n",
      "-----------------------------------\n",
      "Epoch 8\n",
      "-----------------------------------\n"
     ]
    },
    {
     "data": {
      "application/vnd.jupyter.widget-view+json": {
       "model_id": "844eaa98320e4029a05debf953d565f3",
       "version_major": 2,
       "version_minor": 0
      },
      "text/plain": [
       "Training:   0%|          | 0/3 [00:00<?, ?it/s]"
      ]
     },
     "metadata": {},
     "output_type": "display_data"
    },
    {
     "name": "stdout",
     "output_type": "stream",
     "text": [
      "Training Loss: 3.0593. Validation Loss: 2.8732.\n",
      "Training Accuracy: 0.1674. Validation Accuracy: 0.0000.\n",
      "-----------------------------------\n",
      "Epoch 9\n",
      "-----------------------------------\n"
     ]
    },
    {
     "data": {
      "application/vnd.jupyter.widget-view+json": {
       "model_id": "814030d9c42045e6bc9ddbc7f5fc7cb9",
       "version_major": 2,
       "version_minor": 0
      },
      "text/plain": [
       "Training:   0%|          | 0/3 [00:00<?, ?it/s]"
      ]
     },
     "metadata": {},
     "output_type": "display_data"
    },
    {
     "name": "stdout",
     "output_type": "stream",
     "text": [
      "Training Loss: 3.0532. Validation Loss: 3.4600.\n",
      "Training Accuracy: 0.1813. Validation Accuracy: 0.1429.\n",
      "-----------------------------------\n",
      "Epoch 10\n",
      "-----------------------------------\n"
     ]
    },
    {
     "data": {
      "application/vnd.jupyter.widget-view+json": {
       "model_id": "bd90d3b8bac746d8ae6bc0b62f1358e6",
       "version_major": 2,
       "version_minor": 0
      },
      "text/plain": [
       "Training:   0%|          | 0/3 [00:00<?, ?it/s]"
      ]
     },
     "metadata": {},
     "output_type": "display_data"
    },
    {
     "name": "stdout",
     "output_type": "stream",
     "text": [
      "Training Loss: 2.9916. Validation Loss: 3.8470.\n",
      "Training Accuracy: 0.1951. Validation Accuracy: 0.1429.\n",
      "-----------------------------------\n",
      "Epoch 11\n",
      "-----------------------------------\n"
     ]
    },
    {
     "data": {
      "application/vnd.jupyter.widget-view+json": {
       "model_id": "abafb989d7374a12941601f33b8726ee",
       "version_major": 2,
       "version_minor": 0
      },
      "text/plain": [
       "Training:   0%|          | 0/3 [00:00<?, ?it/s]"
      ]
     },
     "metadata": {},
     "output_type": "display_data"
    },
    {
     "name": "stdout",
     "output_type": "stream",
     "text": [
      "Training Loss: 2.9549. Validation Loss: 3.4013.\n",
      "Training Accuracy: 0.2151. Validation Accuracy: 0.1429.\n",
      "-----------------------------------\n",
      "Epoch 12\n",
      "-----------------------------------\n"
     ]
    },
    {
     "data": {
      "application/vnd.jupyter.widget-view+json": {
       "model_id": "165e1af626244a978916f06bf9c3ec1f",
       "version_major": 2,
       "version_minor": 0
      },
      "text/plain": [
       "Training:   0%|          | 0/3 [00:00<?, ?it/s]"
      ]
     },
     "metadata": {},
     "output_type": "display_data"
    },
    {
     "name": "stdout",
     "output_type": "stream",
     "text": [
      "Training Loss: 2.7949. Validation Loss: 3.0111.\n",
      "Training Accuracy: 0.1720. Validation Accuracy: 0.1429.\n",
      "-----------------------------------\n",
      "Epoch 13\n",
      "-----------------------------------\n"
     ]
    },
    {
     "data": {
      "application/vnd.jupyter.widget-view+json": {
       "model_id": "a744e19082434000b128214d459f0f28",
       "version_major": 2,
       "version_minor": 0
      },
      "text/plain": [
       "Training:   0%|          | 0/3 [00:00<?, ?it/s]"
      ]
     },
     "metadata": {},
     "output_type": "display_data"
    },
    {
     "name": "stdout",
     "output_type": "stream",
     "text": [
      "Training Loss: 2.7750. Validation Loss: 3.0291.\n",
      "Training Accuracy: 0.2350. Validation Accuracy: 0.1429.\n",
      "-----------------------------------\n",
      "Epoch 14\n",
      "-----------------------------------\n"
     ]
    },
    {
     "data": {
      "application/vnd.jupyter.widget-view+json": {
       "model_id": "4fdf2f0d02fb4e27aee98d170cb630d2",
       "version_major": 2,
       "version_minor": 0
      },
      "text/plain": [
       "Training:   0%|          | 0/3 [00:00<?, ?it/s]"
      ]
     },
     "metadata": {},
     "output_type": "display_data"
    },
    {
     "name": "stdout",
     "output_type": "stream",
     "text": [
      "Training Loss: 2.8279. Validation Loss: 2.9072.\n",
      "Training Accuracy: 0.1751. Validation Accuracy: 0.1429.\n",
      "-----------------------------------\n",
      "Epoch 15\n",
      "-----------------------------------\n"
     ]
    },
    {
     "data": {
      "application/vnd.jupyter.widget-view+json": {
       "model_id": "2743bfe05f49428b84e0cf4f803ad2eb",
       "version_major": 2,
       "version_minor": 0
      },
      "text/plain": [
       "Training:   0%|          | 0/3 [00:00<?, ?it/s]"
      ]
     },
     "metadata": {},
     "output_type": "display_data"
    },
    {
     "name": "stdout",
     "output_type": "stream",
     "text": [
      "Training Loss: 2.7928. Validation Loss: 3.0262.\n",
      "Training Accuracy: 0.1935. Validation Accuracy: 0.1429.\n",
      "-----------------------------------\n",
      "Epoch 16\n",
      "-----------------------------------\n"
     ]
    },
    {
     "data": {
      "application/vnd.jupyter.widget-view+json": {
       "model_id": "581a85f6da5949fb90860e6230694d93",
       "version_major": 2,
       "version_minor": 0
      },
      "text/plain": [
       "Training:   0%|          | 0/3 [00:00<?, ?it/s]"
      ]
     },
     "metadata": {},
     "output_type": "display_data"
    },
    {
     "name": "stdout",
     "output_type": "stream",
     "text": [
      "Training Loss: 2.7747. Validation Loss: 2.5139.\n",
      "Training Accuracy: 0.2197. Validation Accuracy: 0.2000.\n",
      "-----------------------------------\n",
      "Epoch 17\n",
      "-----------------------------------\n"
     ]
    },
    {
     "data": {
      "application/vnd.jupyter.widget-view+json": {
       "model_id": "f1e7a653f3f247f1a7b81aa7191e7292",
       "version_major": 2,
       "version_minor": 0
      },
      "text/plain": [
       "Training:   0%|          | 0/3 [00:00<?, ?it/s]"
      ]
     },
     "metadata": {},
     "output_type": "display_data"
    },
    {
     "name": "stdout",
     "output_type": "stream",
     "text": [
      "Training Loss: 2.6896. Validation Loss: 2.3697.\n",
      "Training Accuracy: 0.2258. Validation Accuracy: 0.2286.\n",
      "-----------------------------------\n",
      "Epoch 18\n",
      "-----------------------------------\n"
     ]
    },
    {
     "data": {
      "application/vnd.jupyter.widget-view+json": {
       "model_id": "8cfcdbcb88f2454ab84138d29d658029",
       "version_major": 2,
       "version_minor": 0
      },
      "text/plain": [
       "Training:   0%|          | 0/3 [00:00<?, ?it/s]"
      ]
     },
     "metadata": {},
     "output_type": "display_data"
    },
    {
     "name": "stdout",
     "output_type": "stream",
     "text": [
      "Training Loss: 2.8173. Validation Loss: 3.2784.\n",
      "Training Accuracy: 0.2596. Validation Accuracy: 0.0000.\n",
      "-----------------------------------\n",
      "Epoch 19\n",
      "-----------------------------------\n"
     ]
    },
    {
     "data": {
      "application/vnd.jupyter.widget-view+json": {
       "model_id": "ea297eedf040442a8cc949b9553d8f8d",
       "version_major": 2,
       "version_minor": 0
      },
      "text/plain": [
       "Training:   0%|          | 0/3 [00:00<?, ?it/s]"
      ]
     },
     "metadata": {},
     "output_type": "display_data"
    },
    {
     "name": "stdout",
     "output_type": "stream",
     "text": [
      "Training Loss: 2.5109. Validation Loss: 3.8364.\n",
      "Training Accuracy: 0.2657. Validation Accuracy: 0.0000.\n",
      "-----------------------------------\n",
      "Epoch 20\n",
      "-----------------------------------\n"
     ]
    },
    {
     "data": {
      "application/vnd.jupyter.widget-view+json": {
       "model_id": "415b4c280b5c4d5bb53173d479ab5943",
       "version_major": 2,
       "version_minor": 0
      },
      "text/plain": [
       "Training:   0%|          | 0/3 [00:00<?, ?it/s]"
      ]
     },
     "metadata": {},
     "output_type": "display_data"
    },
    {
     "name": "stderr",
     "output_type": "stream",
     "text": [
      "[I 2024-12-08 13:51:32,898] Trial 3 finished with value: 78.18519234657288 and parameters: {'kernel_size': 4096, 'stride': 8192, 'fourier_size': 4096, 'enc_hidden': 64, 'dec_hidden': 256, 'lr': 0.1, 'step_size': 10, 'gamma': 0.1}. Best is trial 3 with value: 78.18519234657288.\n"
     ]
    },
    {
     "name": "stdout",
     "output_type": "stream",
     "text": [
      "Training Loss: 2.5772. Validation Loss: 3.5306.\n",
      "Training Accuracy: 0.2581. Validation Accuracy: 0.0000.\n",
      "-----------------------------------\n",
      "Epoch 1\n",
      "-----------------------------------\n"
     ]
    },
    {
     "data": {
      "application/vnd.jupyter.widget-view+json": {
       "model_id": "271305a6738f45bea760830ab3067c90",
       "version_major": 2,
       "version_minor": 0
      },
      "text/plain": [
       "Training:   0%|          | 0/3 [00:00<?, ?it/s]"
      ]
     },
     "metadata": {},
     "output_type": "display_data"
    },
    {
     "name": "stdout",
     "output_type": "stream",
     "text": [
      "Training Loss: 2.9447. Validation Loss: 2.8842.\n",
      "Training Accuracy: 0.0353. Validation Accuracy: 0.0000.\n",
      "-----------------------------------\n",
      "Epoch 2\n",
      "-----------------------------------\n"
     ]
    },
    {
     "data": {
      "application/vnd.jupyter.widget-view+json": {
       "model_id": "f27a5b9fccdf4d548afea5a8140de4ef",
       "version_major": 2,
       "version_minor": 0
      },
      "text/plain": [
       "Training:   0%|          | 0/3 [00:00<?, ?it/s]"
      ]
     },
     "metadata": {},
     "output_type": "display_data"
    },
    {
     "name": "stdout",
     "output_type": "stream",
     "text": [
      "Training Loss: 2.9106. Validation Loss: 2.8238.\n",
      "Training Accuracy: 0.1198. Validation Accuracy: 0.0000.\n",
      "-----------------------------------\n",
      "Epoch 3\n",
      "-----------------------------------\n"
     ]
    },
    {
     "data": {
      "application/vnd.jupyter.widget-view+json": {
       "model_id": "c18ef8ca1f504381af9cebbd40959856",
       "version_major": 2,
       "version_minor": 0
      },
      "text/plain": [
       "Training:   0%|          | 0/3 [00:00<?, ?it/s]"
      ]
     },
     "metadata": {},
     "output_type": "display_data"
    },
    {
     "name": "stdout",
     "output_type": "stream",
     "text": [
      "Training Loss: 2.8800. Validation Loss: 2.7651.\n",
      "Training Accuracy: 0.1137. Validation Accuracy: 0.0857.\n",
      "-----------------------------------\n",
      "Epoch 4\n",
      "-----------------------------------\n"
     ]
    },
    {
     "data": {
      "application/vnd.jupyter.widget-view+json": {
       "model_id": "27cd5acd419344daaee438f3d0140551",
       "version_major": 2,
       "version_minor": 0
      },
      "text/plain": [
       "Training:   0%|          | 0/3 [00:00<?, ?it/s]"
      ]
     },
     "metadata": {},
     "output_type": "display_data"
    },
    {
     "name": "stdout",
     "output_type": "stream",
     "text": [
      "Training Loss: 2.8663. Validation Loss: 2.7321.\n",
      "Training Accuracy: 0.1260. Validation Accuracy: 0.1429.\n",
      "-----------------------------------\n",
      "Epoch 5\n",
      "-----------------------------------\n"
     ]
    },
    {
     "data": {
      "application/vnd.jupyter.widget-view+json": {
       "model_id": "77a2a4056c4f4d80826e49320b9f07cf",
       "version_major": 2,
       "version_minor": 0
      },
      "text/plain": [
       "Training:   0%|          | 0/3 [00:00<?, ?it/s]"
      ]
     },
     "metadata": {},
     "output_type": "display_data"
    },
    {
     "name": "stdout",
     "output_type": "stream",
     "text": [
      "Training Loss: 2.8583. Validation Loss: 2.7117.\n",
      "Training Accuracy: 0.0891. Validation Accuracy: 0.1429.\n",
      "-----------------------------------\n",
      "Epoch 6\n",
      "-----------------------------------\n"
     ]
    },
    {
     "data": {
      "application/vnd.jupyter.widget-view+json": {
       "model_id": "89aafd651b104c8daf1052e23b8a66b2",
       "version_major": 2,
       "version_minor": 0
      },
      "text/plain": [
       "Training:   0%|          | 0/3 [00:00<?, ?it/s]"
      ]
     },
     "metadata": {},
     "output_type": "display_data"
    },
    {
     "name": "stdout",
     "output_type": "stream",
     "text": [
      "Training Loss: 2.8484. Validation Loss: 2.6959.\n",
      "Training Accuracy: 0.1060. Validation Accuracy: 0.1429.\n",
      "-----------------------------------\n",
      "Epoch 7\n",
      "-----------------------------------\n"
     ]
    },
    {
     "data": {
      "application/vnd.jupyter.widget-view+json": {
       "model_id": "94a2a2eb211b4210bcd5f4bc4af55e2d",
       "version_major": 2,
       "version_minor": 0
      },
      "text/plain": [
       "Training:   0%|          | 0/3 [00:00<?, ?it/s]"
      ]
     },
     "metadata": {},
     "output_type": "display_data"
    },
    {
     "name": "stdout",
     "output_type": "stream",
     "text": [
      "Training Loss: 2.8503. Validation Loss: 2.6821.\n",
      "Training Accuracy: 0.0968. Validation Accuracy: 0.1429.\n",
      "-----------------------------------\n",
      "Epoch 8\n",
      "-----------------------------------\n"
     ]
    },
    {
     "data": {
      "application/vnd.jupyter.widget-view+json": {
       "model_id": "9e056ded70664483bcbdef11b4e72e78",
       "version_major": 2,
       "version_minor": 0
      },
      "text/plain": [
       "Training:   0%|          | 0/3 [00:00<?, ?it/s]"
      ]
     },
     "metadata": {},
     "output_type": "display_data"
    },
    {
     "name": "stdout",
     "output_type": "stream",
     "text": [
      "Training Loss: 2.8375. Validation Loss: 2.6698.\n",
      "Training Accuracy: 0.0783. Validation Accuracy: 0.1429.\n",
      "-----------------------------------\n",
      "Epoch 9\n",
      "-----------------------------------\n"
     ]
    },
    {
     "data": {
      "application/vnd.jupyter.widget-view+json": {
       "model_id": "be91039a988348068adb789c635dfcec",
       "version_major": 2,
       "version_minor": 0
      },
      "text/plain": [
       "Training:   0%|          | 0/3 [00:00<?, ?it/s]"
      ]
     },
     "metadata": {},
     "output_type": "display_data"
    },
    {
     "name": "stdout",
     "output_type": "stream",
     "text": [
      "Training Loss: 2.8324. Validation Loss: 2.6575.\n",
      "Training Accuracy: 0.0968. Validation Accuracy: 0.1429.\n",
      "-----------------------------------\n",
      "Epoch 10\n",
      "-----------------------------------\n"
     ]
    },
    {
     "data": {
      "application/vnd.jupyter.widget-view+json": {
       "model_id": "530c31d1d239483b856a9d34cd664510",
       "version_major": 2,
       "version_minor": 0
      },
      "text/plain": [
       "Training:   0%|          | 0/3 [00:00<?, ?it/s]"
      ]
     },
     "metadata": {},
     "output_type": "display_data"
    },
    {
     "name": "stdout",
     "output_type": "stream",
     "text": [
      "Training Loss: 2.8402. Validation Loss: 2.6447.\n",
      "Training Accuracy: 0.0676. Validation Accuracy: 0.1429.\n",
      "-----------------------------------\n",
      "Epoch 11\n",
      "-----------------------------------\n"
     ]
    },
    {
     "data": {
      "application/vnd.jupyter.widget-view+json": {
       "model_id": "b6f480df0136498497e9ba2444c5d3cd",
       "version_major": 2,
       "version_minor": 0
      },
      "text/plain": [
       "Training:   0%|          | 0/3 [00:00<?, ?it/s]"
      ]
     },
     "metadata": {},
     "output_type": "display_data"
    },
    {
     "name": "stdout",
     "output_type": "stream",
     "text": [
      "Training Loss: 2.8330. Validation Loss: 2.6323.\n",
      "Training Accuracy: 0.1060. Validation Accuracy: 0.1429.\n",
      "-----------------------------------\n",
      "Epoch 12\n",
      "-----------------------------------\n"
     ]
    },
    {
     "data": {
      "application/vnd.jupyter.widget-view+json": {
       "model_id": "b59c0fe7381041f5aceded1a790f7509",
       "version_major": 2,
       "version_minor": 0
      },
      "text/plain": [
       "Training:   0%|          | 0/3 [00:00<?, ?it/s]"
      ]
     },
     "metadata": {},
     "output_type": "display_data"
    },
    {
     "name": "stdout",
     "output_type": "stream",
     "text": [
      "Training Loss: 2.8282. Validation Loss: 2.6204.\n",
      "Training Accuracy: 0.0814. Validation Accuracy: 0.1429.\n",
      "-----------------------------------\n",
      "Epoch 13\n",
      "-----------------------------------\n"
     ]
    },
    {
     "data": {
      "application/vnd.jupyter.widget-view+json": {
       "model_id": "1f2e432e1b1042a3b252dcf4bb9e6932",
       "version_major": 2,
       "version_minor": 0
      },
      "text/plain": [
       "Training:   0%|          | 0/3 [00:00<?, ?it/s]"
      ]
     },
     "metadata": {},
     "output_type": "display_data"
    },
    {
     "name": "stdout",
     "output_type": "stream",
     "text": [
      "Training Loss: 2.8221. Validation Loss: 2.6079.\n",
      "Training Accuracy: 0.0829. Validation Accuracy: 0.1429.\n",
      "-----------------------------------\n",
      "Epoch 14\n",
      "-----------------------------------\n"
     ]
    },
    {
     "data": {
      "application/vnd.jupyter.widget-view+json": {
       "model_id": "413edd243a5041f3bdb4c8d2f50918dd",
       "version_major": 2,
       "version_minor": 0
      },
      "text/plain": [
       "Training:   0%|          | 0/3 [00:00<?, ?it/s]"
      ]
     },
     "metadata": {},
     "output_type": "display_data"
    },
    {
     "name": "stdout",
     "output_type": "stream",
     "text": [
      "Training Loss: 2.8161. Validation Loss: 2.5950.\n",
      "Training Accuracy: 0.0906. Validation Accuracy: 0.1429.\n",
      "-----------------------------------\n",
      "Epoch 15\n",
      "-----------------------------------\n"
     ]
    },
    {
     "data": {
      "application/vnd.jupyter.widget-view+json": {
       "model_id": "71e98e78b45c44d98e6e04f8f97c36e8",
       "version_major": 2,
       "version_minor": 0
      },
      "text/plain": [
       "Training:   0%|          | 0/3 [00:00<?, ?it/s]"
      ]
     },
     "metadata": {},
     "output_type": "display_data"
    },
    {
     "name": "stdout",
     "output_type": "stream",
     "text": [
      "Training Loss: 2.8143. Validation Loss: 2.5834.\n",
      "Training Accuracy: 0.0906. Validation Accuracy: 0.1429.\n",
      "-----------------------------------\n",
      "Epoch 16\n",
      "-----------------------------------\n"
     ]
    },
    {
     "data": {
      "application/vnd.jupyter.widget-view+json": {
       "model_id": "7b465c9692fb46988998cf8ab06ce973",
       "version_major": 2,
       "version_minor": 0
      },
      "text/plain": [
       "Training:   0%|          | 0/3 [00:00<?, ?it/s]"
      ]
     },
     "metadata": {},
     "output_type": "display_data"
    },
    {
     "name": "stdout",
     "output_type": "stream",
     "text": [
      "Training Loss: 2.8119. Validation Loss: 2.5724.\n",
      "Training Accuracy: 0.0722. Validation Accuracy: 0.1429.\n",
      "-----------------------------------\n",
      "Epoch 17\n",
      "-----------------------------------\n"
     ]
    },
    {
     "data": {
      "application/vnd.jupyter.widget-view+json": {
       "model_id": "357ef3b34365495789039db6ae3d9026",
       "version_major": 2,
       "version_minor": 0
      },
      "text/plain": [
       "Training:   0%|          | 0/3 [00:00<?, ?it/s]"
      ]
     },
     "metadata": {},
     "output_type": "display_data"
    },
    {
     "name": "stdout",
     "output_type": "stream",
     "text": [
      "Training Loss: 2.8093. Validation Loss: 2.5610.\n",
      "Training Accuracy: 0.0722. Validation Accuracy: 0.1429.\n",
      "-----------------------------------\n",
      "Epoch 18\n",
      "-----------------------------------\n"
     ]
    },
    {
     "data": {
      "application/vnd.jupyter.widget-view+json": {
       "model_id": "1b954e3a80134b748d6352884dc535cc",
       "version_major": 2,
       "version_minor": 0
      },
      "text/plain": [
       "Training:   0%|          | 0/3 [00:00<?, ?it/s]"
      ]
     },
     "metadata": {},
     "output_type": "display_data"
    },
    {
     "name": "stdout",
     "output_type": "stream",
     "text": [
      "Training Loss: 2.8059. Validation Loss: 2.5497.\n",
      "Training Accuracy: 0.0722. Validation Accuracy: 0.1429.\n",
      "-----------------------------------\n",
      "Epoch 19\n",
      "-----------------------------------\n"
     ]
    },
    {
     "data": {
      "application/vnd.jupyter.widget-view+json": {
       "model_id": "e29f02b873ea4592bd26fac60f36b223",
       "version_major": 2,
       "version_minor": 0
      },
      "text/plain": [
       "Training:   0%|          | 0/3 [00:00<?, ?it/s]"
      ]
     },
     "metadata": {},
     "output_type": "display_data"
    },
    {
     "name": "stdout",
     "output_type": "stream",
     "text": [
      "Training Loss: 2.8041. Validation Loss: 2.5389.\n",
      "Training Accuracy: 0.0845. Validation Accuracy: 0.1429.\n",
      "-----------------------------------\n",
      "Epoch 20\n",
      "-----------------------------------\n"
     ]
    },
    {
     "data": {
      "application/vnd.jupyter.widget-view+json": {
       "model_id": "2d54fd2ddd264bdcbb96dcb3c7915727",
       "version_major": 2,
       "version_minor": 0
      },
      "text/plain": [
       "Training:   0%|          | 0/3 [00:00<?, ?it/s]"
      ]
     },
     "metadata": {},
     "output_type": "display_data"
    },
    {
     "name": "stderr",
     "output_type": "stream",
     "text": [
      "[I 2024-12-08 13:51:45,962] Trial 4 finished with value: 88.49106073379517 and parameters: {'kernel_size': 4096, 'stride': 8192, 'fourier_size': 128, 'enc_hidden': 16, 'dec_hidden': 4, 'lr': 0.01, 'step_size': 20, 'gamma': 0.1}. Best is trial 3 with value: 78.18519234657288.\n"
     ]
    },
    {
     "name": "stdout",
     "output_type": "stream",
     "text": [
      "Training Loss: 2.8018. Validation Loss: 2.5283.\n",
      "Training Accuracy: 0.0876. Validation Accuracy: 0.1429.\n",
      "-----------------------------------\n",
      "Epoch 1\n",
      "-----------------------------------\n"
     ]
    },
    {
     "data": {
      "application/vnd.jupyter.widget-view+json": {
       "model_id": "8d41042327494664be907566722c6e86",
       "version_major": 2,
       "version_minor": 0
      },
      "text/plain": [
       "Training:   0%|          | 0/3 [00:00<?, ?it/s]"
      ]
     },
     "metadata": {},
     "output_type": "display_data"
    },
    {
     "name": "stdout",
     "output_type": "stream",
     "text": [
      "Training Loss: 13.8872. Validation Loss: 6.8361.\n",
      "Training Accuracy: 0.0138. Validation Accuracy: 0.1429.\n",
      "-----------------------------------\n",
      "Epoch 2\n",
      "-----------------------------------\n"
     ]
    },
    {
     "data": {
      "application/vnd.jupyter.widget-view+json": {
       "model_id": "49b115edd2e24941920417ff2b3f72d9",
       "version_major": 2,
       "version_minor": 0
      },
      "text/plain": [
       "Training:   0%|          | 0/3 [00:00<?, ?it/s]"
      ]
     },
     "metadata": {},
     "output_type": "display_data"
    },
    {
     "name": "stdout",
     "output_type": "stream",
     "text": [
      "Training Loss: 8.4325. Validation Loss: 7.0501.\n",
      "Training Accuracy: 0.0230. Validation Accuracy: 0.0000.\n",
      "-----------------------------------\n",
      "Epoch 3\n",
      "-----------------------------------\n"
     ]
    },
    {
     "data": {
      "application/vnd.jupyter.widget-view+json": {
       "model_id": "9b90892e8a5c407a8358e48210a0e80d",
       "version_major": 2,
       "version_minor": 0
      },
      "text/plain": [
       "Training:   0%|          | 0/3 [00:00<?, ?it/s]"
      ]
     },
     "metadata": {},
     "output_type": "display_data"
    },
    {
     "name": "stdout",
     "output_type": "stream",
     "text": [
      "Training Loss: 11.0362. Validation Loss: 4.1165.\n",
      "Training Accuracy: 0.0215. Validation Accuracy: 0.0000.\n",
      "-----------------------------------\n",
      "Epoch 4\n",
      "-----------------------------------\n"
     ]
    },
    {
     "data": {
      "application/vnd.jupyter.widget-view+json": {
       "model_id": "50c6a93e303147798d6879a7e029df2f",
       "version_major": 2,
       "version_minor": 0
      },
      "text/plain": [
       "Training:   0%|          | 0/3 [00:00<?, ?it/s]"
      ]
     },
     "metadata": {},
     "output_type": "display_data"
    },
    {
     "name": "stdout",
     "output_type": "stream",
     "text": [
      "Training Loss: 9.6563. Validation Loss: 4.1399.\n",
      "Training Accuracy: 0.0707. Validation Accuracy: 0.0000.\n",
      "-----------------------------------\n",
      "Epoch 5\n",
      "-----------------------------------\n"
     ]
    },
    {
     "data": {
      "application/vnd.jupyter.widget-view+json": {
       "model_id": "74b035fc0fdf4e8e8c95e107cfa5fc55",
       "version_major": 2,
       "version_minor": 0
      },
      "text/plain": [
       "Training:   0%|          | 0/3 [00:00<?, ?it/s]"
      ]
     },
     "metadata": {},
     "output_type": "display_data"
    },
    {
     "name": "stdout",
     "output_type": "stream",
     "text": [
      "Training Loss: 8.5178. Validation Loss: 4.3370.\n",
      "Training Accuracy: 0.1106. Validation Accuracy: 0.1429.\n",
      "-----------------------------------\n",
      "Epoch 6\n",
      "-----------------------------------\n"
     ]
    },
    {
     "data": {
      "application/vnd.jupyter.widget-view+json": {
       "model_id": "ea0f90f366ef479dbb00981a10662e19",
       "version_major": 2,
       "version_minor": 0
      },
      "text/plain": [
       "Training:   0%|          | 0/3 [00:00<?, ?it/s]"
      ]
     },
     "metadata": {},
     "output_type": "display_data"
    },
    {
     "name": "stdout",
     "output_type": "stream",
     "text": [
      "Training Loss: 9.2846. Validation Loss: 2.8871.\n",
      "Training Accuracy: 0.1137. Validation Accuracy: 0.0000.\n",
      "-----------------------------------\n",
      "Epoch 7\n",
      "-----------------------------------\n"
     ]
    },
    {
     "data": {
      "application/vnd.jupyter.widget-view+json": {
       "model_id": "6cd04f5b587c414298ec802456a1e002",
       "version_major": 2,
       "version_minor": 0
      },
      "text/plain": [
       "Training:   0%|          | 0/3 [00:00<?, ?it/s]"
      ]
     },
     "metadata": {},
     "output_type": "display_data"
    },
    {
     "name": "stdout",
     "output_type": "stream",
     "text": [
      "Training Loss: 8.4361. Validation Loss: 4.0817.\n",
      "Training Accuracy: 0.0230. Validation Accuracy: 0.1714.\n",
      "-----------------------------------\n",
      "Epoch 8\n",
      "-----------------------------------\n"
     ]
    },
    {
     "data": {
      "application/vnd.jupyter.widget-view+json": {
       "model_id": "6fb452d52c4c4a65bdc06400a7741519",
       "version_major": 2,
       "version_minor": 0
      },
      "text/plain": [
       "Training:   0%|          | 0/3 [00:00<?, ?it/s]"
      ]
     },
     "metadata": {},
     "output_type": "display_data"
    },
    {
     "name": "stdout",
     "output_type": "stream",
     "text": [
      "Training Loss: 7.6233. Validation Loss: 3.8409.\n",
      "Training Accuracy: 0.0077. Validation Accuracy: 0.1429.\n",
      "-----------------------------------\n",
      "Epoch 9\n",
      "-----------------------------------\n"
     ]
    },
    {
     "data": {
      "application/vnd.jupyter.widget-view+json": {
       "model_id": "f66bc49f09204745915ff2b89fec589e",
       "version_major": 2,
       "version_minor": 0
      },
      "text/plain": [
       "Training:   0%|          | 0/3 [00:00<?, ?it/s]"
      ]
     },
     "metadata": {},
     "output_type": "display_data"
    },
    {
     "name": "stdout",
     "output_type": "stream",
     "text": [
      "Training Loss: 6.4587. Validation Loss: 2.5146.\n",
      "Training Accuracy: 0.0722. Validation Accuracy: 0.3429.\n",
      "-----------------------------------\n",
      "Epoch 10\n",
      "-----------------------------------\n"
     ]
    },
    {
     "data": {
      "application/vnd.jupyter.widget-view+json": {
       "model_id": "6846edff90cc4b698e69e6958dd8b532",
       "version_major": 2,
       "version_minor": 0
      },
      "text/plain": [
       "Training:   0%|          | 0/3 [00:00<?, ?it/s]"
      ]
     },
     "metadata": {},
     "output_type": "display_data"
    },
    {
     "name": "stdout",
     "output_type": "stream",
     "text": [
      "Training Loss: 6.1317. Validation Loss: 3.2223.\n",
      "Training Accuracy: 0.0230. Validation Accuracy: 0.0000.\n",
      "-----------------------------------\n",
      "Epoch 11\n",
      "-----------------------------------\n"
     ]
    },
    {
     "data": {
      "application/vnd.jupyter.widget-view+json": {
       "model_id": "26a98970ba0145e4b363b2ef828ec849",
       "version_major": 2,
       "version_minor": 0
      },
      "text/plain": [
       "Training:   0%|          | 0/3 [00:00<?, ?it/s]"
      ]
     },
     "metadata": {},
     "output_type": "display_data"
    },
    {
     "name": "stdout",
     "output_type": "stream",
     "text": [
      "Training Loss: 5.0360. Validation Loss: 4.6833.\n",
      "Training Accuracy: 0.0461. Validation Accuracy: 0.0000.\n",
      "-----------------------------------\n",
      "Epoch 12\n",
      "-----------------------------------\n"
     ]
    },
    {
     "data": {
      "application/vnd.jupyter.widget-view+json": {
       "model_id": "831c6d0429d84eb482643182a18cc536",
       "version_major": 2,
       "version_minor": 0
      },
      "text/plain": [
       "Training:   0%|          | 0/3 [00:00<?, ?it/s]"
      ]
     },
     "metadata": {},
     "output_type": "display_data"
    },
    {
     "name": "stdout",
     "output_type": "stream",
     "text": [
      "Training Loss: 4.8397. Validation Loss: 2.2571.\n",
      "Training Accuracy: 0.0691. Validation Accuracy: 0.1429.\n",
      "-----------------------------------\n",
      "Epoch 13\n",
      "-----------------------------------\n"
     ]
    },
    {
     "data": {
      "application/vnd.jupyter.widget-view+json": {
       "model_id": "10fe4137e16c43eeb31e54a0845aae60",
       "version_major": 2,
       "version_minor": 0
      },
      "text/plain": [
       "Training:   0%|          | 0/3 [00:00<?, ?it/s]"
      ]
     },
     "metadata": {},
     "output_type": "display_data"
    },
    {
     "name": "stdout",
     "output_type": "stream",
     "text": [
      "Training Loss: 4.5861. Validation Loss: 1.8719.\n",
      "Training Accuracy: 0.0783. Validation Accuracy: 0.3429.\n",
      "-----------------------------------\n",
      "Epoch 14\n",
      "-----------------------------------\n"
     ]
    },
    {
     "data": {
      "application/vnd.jupyter.widget-view+json": {
       "model_id": "4c8620270f6f4a0ab2ee9068139475eb",
       "version_major": 2,
       "version_minor": 0
      },
      "text/plain": [
       "Training:   0%|          | 0/3 [00:00<?, ?it/s]"
      ]
     },
     "metadata": {},
     "output_type": "display_data"
    },
    {
     "name": "stdout",
     "output_type": "stream",
     "text": [
      "Training Loss: 4.5661. Validation Loss: 3.3699.\n",
      "Training Accuracy: 0.0246. Validation Accuracy: 0.0000.\n",
      "-----------------------------------\n",
      "Epoch 15\n",
      "-----------------------------------\n"
     ]
    },
    {
     "data": {
      "application/vnd.jupyter.widget-view+json": {
       "model_id": "e3d9a1c75d6b45968f456c9923dbdf98",
       "version_major": 2,
       "version_minor": 0
      },
      "text/plain": [
       "Training:   0%|          | 0/3 [00:00<?, ?it/s]"
      ]
     },
     "metadata": {},
     "output_type": "display_data"
    },
    {
     "name": "stdout",
     "output_type": "stream",
     "text": [
      "Training Loss: 4.0351. Validation Loss: 2.5124.\n",
      "Training Accuracy: 0.0061. Validation Accuracy: 0.1429.\n",
      "-----------------------------------\n",
      "Epoch 16\n",
      "-----------------------------------\n"
     ]
    },
    {
     "data": {
      "application/vnd.jupyter.widget-view+json": {
       "model_id": "44dbfb78ad5142489b98357eb9884009",
       "version_major": 2,
       "version_minor": 0
      },
      "text/plain": [
       "Training:   0%|          | 0/3 [00:00<?, ?it/s]"
      ]
     },
     "metadata": {},
     "output_type": "display_data"
    },
    {
     "name": "stdout",
     "output_type": "stream",
     "text": [
      "Training Loss: 3.6618. Validation Loss: 1.9954.\n",
      "Training Accuracy: 0.0292. Validation Accuracy: 0.3429.\n",
      "-----------------------------------\n",
      "Epoch 17\n",
      "-----------------------------------\n"
     ]
    },
    {
     "data": {
      "application/vnd.jupyter.widget-view+json": {
       "model_id": "f041427750684b5180b36fd04dbdeae7",
       "version_major": 2,
       "version_minor": 0
      },
      "text/plain": [
       "Training:   0%|          | 0/3 [00:00<?, ?it/s]"
      ]
     },
     "metadata": {},
     "output_type": "display_data"
    },
    {
     "name": "stdout",
     "output_type": "stream",
     "text": [
      "Training Loss: 3.8897. Validation Loss: 2.5211.\n",
      "Training Accuracy: 0.0200. Validation Accuracy: 0.1429.\n",
      "-----------------------------------\n",
      "Epoch 18\n",
      "-----------------------------------\n"
     ]
    },
    {
     "data": {
      "application/vnd.jupyter.widget-view+json": {
       "model_id": "0108d70945de4a729d69ec937dab83f9",
       "version_major": 2,
       "version_minor": 0
      },
      "text/plain": [
       "Training:   0%|          | 0/3 [00:00<?, ?it/s]"
      ]
     },
     "metadata": {},
     "output_type": "display_data"
    },
    {
     "name": "stdout",
     "output_type": "stream",
     "text": [
      "Training Loss: 3.4963. Validation Loss: 2.4825.\n",
      "Training Accuracy: 0.0000. Validation Accuracy: 0.1714.\n",
      "-----------------------------------\n",
      "Epoch 19\n",
      "-----------------------------------\n"
     ]
    },
    {
     "data": {
      "application/vnd.jupyter.widget-view+json": {
       "model_id": "e5a39ee4085b4a6a95d11f2e94c57239",
       "version_major": 2,
       "version_minor": 0
      },
      "text/plain": [
       "Training:   0%|          | 0/3 [00:00<?, ?it/s]"
      ]
     },
     "metadata": {},
     "output_type": "display_data"
    },
    {
     "name": "stdout",
     "output_type": "stream",
     "text": [
      "Training Loss: 3.3174. Validation Loss: 2.1455.\n",
      "Training Accuracy: 0.0430. Validation Accuracy: 0.1429.\n",
      "-----------------------------------\n",
      "Epoch 20\n",
      "-----------------------------------\n"
     ]
    },
    {
     "data": {
      "application/vnd.jupyter.widget-view+json": {
       "model_id": "4506cb05d48a475dbcc7d2b15b4aad37",
       "version_major": 2,
       "version_minor": 0
      },
      "text/plain": [
       "Training:   0%|          | 0/3 [00:00<?, ?it/s]"
      ]
     },
     "metadata": {},
     "output_type": "display_data"
    },
    {
     "name": "stderr",
     "output_type": "stream",
     "text": [
      "[I 2024-12-08 13:52:22,732] Trial 5 finished with value: 65.51632761955261 and parameters: {'kernel_size': 1024, 'stride': 256, 'fourier_size': 128, 'enc_hidden': 16, 'dec_hidden': 256, 'lr': 0.1, 'step_size': 20, 'gamma': 0.1}. Best is trial 5 with value: 65.51632761955261.\n"
     ]
    },
    {
     "name": "stdout",
     "output_type": "stream",
     "text": [
      "Training Loss: 3.3687. Validation Loss: 2.3921.\n",
      "Training Accuracy: 0.0200. Validation Accuracy: 0.1429.\n",
      "-----------------------------------\n",
      "Epoch 1\n",
      "-----------------------------------\n"
     ]
    },
    {
     "data": {
      "application/vnd.jupyter.widget-view+json": {
       "model_id": "30a7ed6ac7f9485a9d34e836daf176c5",
       "version_major": 2,
       "version_minor": 0
      },
      "text/plain": [
       "Training:   0%|          | 0/3 [00:00<?, ?it/s]"
      ]
     },
     "metadata": {},
     "output_type": "display_data"
    },
    {
     "name": "stdout",
     "output_type": "stream",
     "text": [
      "Training Loss: 4.1048. Validation Loss: 2.6556.\n",
      "Training Accuracy: 0.0138. Validation Accuracy: 0.2000.\n",
      "-----------------------------------\n",
      "Epoch 2\n",
      "-----------------------------------\n"
     ]
    },
    {
     "data": {
      "application/vnd.jupyter.widget-view+json": {
       "model_id": "36111924c8274751844bfe176fec521c",
       "version_major": 2,
       "version_minor": 0
      },
      "text/plain": [
       "Training:   0%|          | 0/3 [00:00<?, ?it/s]"
      ]
     },
     "metadata": {},
     "output_type": "display_data"
    },
    {
     "name": "stdout",
     "output_type": "stream",
     "text": [
      "Training Loss: 3.1304. Validation Loss: 2.3026.\n",
      "Training Accuracy: 0.0829. Validation Accuracy: 0.1429.\n",
      "-----------------------------------\n",
      "Epoch 3\n",
      "-----------------------------------\n"
     ]
    },
    {
     "data": {
      "application/vnd.jupyter.widget-view+json": {
       "model_id": "2fc76277c677434f9ce6c0490ae28f8a",
       "version_major": 2,
       "version_minor": 0
      },
      "text/plain": [
       "Training:   0%|          | 0/3 [00:00<?, ?it/s]"
      ]
     },
     "metadata": {},
     "output_type": "display_data"
    },
    {
     "name": "stdout",
     "output_type": "stream",
     "text": [
      "Training Loss: 3.0931. Validation Loss: 2.3737.\n",
      "Training Accuracy: 0.0922. Validation Accuracy: 0.1429.\n",
      "-----------------------------------\n",
      "Epoch 4\n",
      "-----------------------------------\n"
     ]
    },
    {
     "data": {
      "application/vnd.jupyter.widget-view+json": {
       "model_id": "fbbcad8294894f4c9515d47b36b90259",
       "version_major": 2,
       "version_minor": 0
      },
      "text/plain": [
       "Training:   0%|          | 0/3 [00:00<?, ?it/s]"
      ]
     },
     "metadata": {},
     "output_type": "display_data"
    },
    {
     "name": "stdout",
     "output_type": "stream",
     "text": [
      "Training Loss: 2.9525. Validation Loss: 2.5444.\n",
      "Training Accuracy: 0.0430. Validation Accuracy: 0.0000.\n",
      "-----------------------------------\n",
      "Epoch 5\n",
      "-----------------------------------\n"
     ]
    },
    {
     "data": {
      "application/vnd.jupyter.widget-view+json": {
       "model_id": "2b5c2263bda842c8992ebbb54b3563bd",
       "version_major": 2,
       "version_minor": 0
      },
      "text/plain": [
       "Training:   0%|          | 0/3 [00:00<?, ?it/s]"
      ]
     },
     "metadata": {},
     "output_type": "display_data"
    },
    {
     "name": "stdout",
     "output_type": "stream",
     "text": [
      "Training Loss: 2.8486. Validation Loss: 2.5995.\n",
      "Training Accuracy: 0.0998. Validation Accuracy: 0.0000.\n",
      "-----------------------------------\n",
      "Epoch 6\n",
      "-----------------------------------\n"
     ]
    },
    {
     "data": {
      "application/vnd.jupyter.widget-view+json": {
       "model_id": "dd157c643ac248cfa10e4eeffe644df1",
       "version_major": 2,
       "version_minor": 0
      },
      "text/plain": [
       "Training:   0%|          | 0/3 [00:00<?, ?it/s]"
      ]
     },
     "metadata": {},
     "output_type": "display_data"
    },
    {
     "name": "stdout",
     "output_type": "stream",
     "text": [
      "Training Loss: 2.7775. Validation Loss: 2.5825.\n",
      "Training Accuracy: 0.1214. Validation Accuracy: 0.0000.\n",
      "-----------------------------------\n",
      "Epoch 7\n",
      "-----------------------------------\n"
     ]
    },
    {
     "data": {
      "application/vnd.jupyter.widget-view+json": {
       "model_id": "a3b2bd8d8ec345378af2dc20773ce303",
       "version_major": 2,
       "version_minor": 0
      },
      "text/plain": [
       "Training:   0%|          | 0/3 [00:00<?, ?it/s]"
      ]
     },
     "metadata": {},
     "output_type": "display_data"
    },
    {
     "name": "stdout",
     "output_type": "stream",
     "text": [
      "Training Loss: 2.7752. Validation Loss: 2.5329.\n",
      "Training Accuracy: 0.1198. Validation Accuracy: 0.1429.\n",
      "-----------------------------------\n",
      "Epoch 8\n",
      "-----------------------------------\n"
     ]
    },
    {
     "data": {
      "application/vnd.jupyter.widget-view+json": {
       "model_id": "2c0f177801cf4c89ab3c96ebf1bead50",
       "version_major": 2,
       "version_minor": 0
      },
      "text/plain": [
       "Training:   0%|          | 0/3 [00:00<?, ?it/s]"
      ]
     },
     "metadata": {},
     "output_type": "display_data"
    },
    {
     "name": "stdout",
     "output_type": "stream",
     "text": [
      "Training Loss: 2.7698. Validation Loss: 2.4848.\n",
      "Training Accuracy: 0.1229. Validation Accuracy: 0.1429.\n",
      "-----------------------------------\n",
      "Epoch 9\n",
      "-----------------------------------\n"
     ]
    },
    {
     "data": {
      "application/vnd.jupyter.widget-view+json": {
       "model_id": "edd49c8420c74e069b148d432c52165e",
       "version_major": 2,
       "version_minor": 0
      },
      "text/plain": [
       "Training:   0%|          | 0/3 [00:00<?, ?it/s]"
      ]
     },
     "metadata": {},
     "output_type": "display_data"
    },
    {
     "name": "stdout",
     "output_type": "stream",
     "text": [
      "Training Loss: 2.7729. Validation Loss: 2.4755.\n",
      "Training Accuracy: 0.1444. Validation Accuracy: 0.1429.\n",
      "-----------------------------------\n",
      "Epoch 10\n",
      "-----------------------------------\n"
     ]
    },
    {
     "data": {
      "application/vnd.jupyter.widget-view+json": {
       "model_id": "a476c907327c47279c9b8465df4f46ef",
       "version_major": 2,
       "version_minor": 0
      },
      "text/plain": [
       "Training:   0%|          | 0/3 [00:00<?, ?it/s]"
      ]
     },
     "metadata": {},
     "output_type": "display_data"
    },
    {
     "name": "stdout",
     "output_type": "stream",
     "text": [
      "Training Loss: 2.7672. Validation Loss: 2.5344.\n",
      "Training Accuracy: 0.1214. Validation Accuracy: 0.1429.\n",
      "-----------------------------------\n",
      "Epoch 11\n",
      "-----------------------------------\n"
     ]
    },
    {
     "data": {
      "application/vnd.jupyter.widget-view+json": {
       "model_id": "b84eb22b2c194f0cb5d39b123511c7d0",
       "version_major": 2,
       "version_minor": 0
      },
      "text/plain": [
       "Training:   0%|          | 0/3 [00:00<?, ?it/s]"
      ]
     },
     "metadata": {},
     "output_type": "display_data"
    },
    {
     "name": "stdout",
     "output_type": "stream",
     "text": [
      "Training Loss: 2.7318. Validation Loss: 2.5583.\n",
      "Training Accuracy: 0.1306. Validation Accuracy: 0.1429.\n",
      "-----------------------------------\n",
      "Epoch 12\n",
      "-----------------------------------\n"
     ]
    },
    {
     "data": {
      "application/vnd.jupyter.widget-view+json": {
       "model_id": "2586040b33924155808c301de44d5540",
       "version_major": 2,
       "version_minor": 0
      },
      "text/plain": [
       "Training:   0%|          | 0/3 [00:00<?, ?it/s]"
      ]
     },
     "metadata": {},
     "output_type": "display_data"
    },
    {
     "name": "stdout",
     "output_type": "stream",
     "text": [
      "Training Loss: 2.7320. Validation Loss: 2.5432.\n",
      "Training Accuracy: 0.1413. Validation Accuracy: 0.1429.\n",
      "-----------------------------------\n",
      "Epoch 13\n",
      "-----------------------------------\n"
     ]
    },
    {
     "data": {
      "application/vnd.jupyter.widget-view+json": {
       "model_id": "3259ef32d44d49f9ab91a515ccc5f604",
       "version_major": 2,
       "version_minor": 0
      },
      "text/plain": [
       "Training:   0%|          | 0/3 [00:00<?, ?it/s]"
      ]
     },
     "metadata": {},
     "output_type": "display_data"
    },
    {
     "name": "stdout",
     "output_type": "stream",
     "text": [
      "Training Loss: 2.7034. Validation Loss: 2.5328.\n",
      "Training Accuracy: 0.1628. Validation Accuracy: 0.1429.\n",
      "-----------------------------------\n",
      "Epoch 14\n",
      "-----------------------------------\n"
     ]
    },
    {
     "data": {
      "application/vnd.jupyter.widget-view+json": {
       "model_id": "7f3a869505814dde97f24d29a962f0bc",
       "version_major": 2,
       "version_minor": 0
      },
      "text/plain": [
       "Training:   0%|          | 0/3 [00:00<?, ?it/s]"
      ]
     },
     "metadata": {},
     "output_type": "display_data"
    },
    {
     "name": "stdout",
     "output_type": "stream",
     "text": [
      "Training Loss: 2.6901. Validation Loss: 2.5412.\n",
      "Training Accuracy: 0.1567. Validation Accuracy: 0.1429.\n",
      "-----------------------------------\n",
      "Epoch 15\n",
      "-----------------------------------\n"
     ]
    },
    {
     "data": {
      "application/vnd.jupyter.widget-view+json": {
       "model_id": "aab0a007aeaf48c5aa812f07d0d71957",
       "version_major": 2,
       "version_minor": 0
      },
      "text/plain": [
       "Training:   0%|          | 0/3 [00:00<?, ?it/s]"
      ]
     },
     "metadata": {},
     "output_type": "display_data"
    },
    {
     "name": "stdout",
     "output_type": "stream",
     "text": [
      "Training Loss: 2.6469. Validation Loss: 2.5347.\n",
      "Training Accuracy: 0.1628. Validation Accuracy: 0.1429.\n",
      "-----------------------------------\n",
      "Epoch 16\n",
      "-----------------------------------\n"
     ]
    },
    {
     "data": {
      "application/vnd.jupyter.widget-view+json": {
       "model_id": "f4cae9923634485495cbafdcb2a971ad",
       "version_major": 2,
       "version_minor": 0
      },
      "text/plain": [
       "Training:   0%|          | 0/3 [00:00<?, ?it/s]"
      ]
     },
     "metadata": {},
     "output_type": "display_data"
    },
    {
     "name": "stdout",
     "output_type": "stream",
     "text": [
      "Training Loss: 2.6509. Validation Loss: 2.5338.\n",
      "Training Accuracy: 0.1767. Validation Accuracy: 0.1429.\n",
      "-----------------------------------\n",
      "Epoch 17\n",
      "-----------------------------------\n"
     ]
    },
    {
     "data": {
      "application/vnd.jupyter.widget-view+json": {
       "model_id": "5a9e6024ca6244b9bc38d88b22b6b743",
       "version_major": 2,
       "version_minor": 0
      },
      "text/plain": [
       "Training:   0%|          | 0/3 [00:00<?, ?it/s]"
      ]
     },
     "metadata": {},
     "output_type": "display_data"
    },
    {
     "name": "stdout",
     "output_type": "stream",
     "text": [
      "Training Loss: 2.6064. Validation Loss: 2.5434.\n",
      "Training Accuracy: 0.2104. Validation Accuracy: 0.1429.\n",
      "-----------------------------------\n",
      "Epoch 18\n",
      "-----------------------------------\n"
     ]
    },
    {
     "data": {
      "application/vnd.jupyter.widget-view+json": {
       "model_id": "7ac7cae334ca4724956c3b2d985fb21e",
       "version_major": 2,
       "version_minor": 0
      },
      "text/plain": [
       "Training:   0%|          | 0/3 [00:00<?, ?it/s]"
      ]
     },
     "metadata": {},
     "output_type": "display_data"
    },
    {
     "name": "stdout",
     "output_type": "stream",
     "text": [
      "Training Loss: 2.5782. Validation Loss: 2.5319.\n",
      "Training Accuracy: 0.1905. Validation Accuracy: 0.1429.\n",
      "-----------------------------------\n",
      "Epoch 19\n",
      "-----------------------------------\n"
     ]
    },
    {
     "data": {
      "application/vnd.jupyter.widget-view+json": {
       "model_id": "ffb0f62e4dfa4d07a127088462c3c589",
       "version_major": 2,
       "version_minor": 0
      },
      "text/plain": [
       "Training:   0%|          | 0/3 [00:00<?, ?it/s]"
      ]
     },
     "metadata": {},
     "output_type": "display_data"
    },
    {
     "name": "stdout",
     "output_type": "stream",
     "text": [
      "Training Loss: 2.5701. Validation Loss: 2.5292.\n",
      "Training Accuracy: 0.2043. Validation Accuracy: 0.1429.\n",
      "-----------------------------------\n",
      "Epoch 20\n",
      "-----------------------------------\n"
     ]
    },
    {
     "data": {
      "application/vnd.jupyter.widget-view+json": {
       "model_id": "27e082d8398946429a4db4b239133354",
       "version_major": 2,
       "version_minor": 0
      },
      "text/plain": [
       "Training:   0%|          | 0/3 [00:00<?, ?it/s]"
      ]
     },
     "metadata": {},
     "output_type": "display_data"
    },
    {
     "name": "stderr",
     "output_type": "stream",
     "text": [
      "[I 2024-12-08 13:52:37,566] Trial 6 finished with value: 80.59123873710632 and parameters: {'kernel_size': 2048, 'stride': 4096, 'fourier_size': 512, 'enc_hidden': 16, 'dec_hidden': 512, 'lr': 0.01, 'step_size': 20, 'gamma': 0.01}. Best is trial 5 with value: 65.51632761955261.\n"
     ]
    },
    {
     "name": "stdout",
     "output_type": "stream",
     "text": [
      "Training Loss: 2.4876. Validation Loss: 2.5428.\n",
      "Training Accuracy: 0.2627. Validation Accuracy: 0.1429.\n",
      "-----------------------------------\n",
      "Epoch 1\n",
      "-----------------------------------\n"
     ]
    },
    {
     "data": {
      "application/vnd.jupyter.widget-view+json": {
       "model_id": "a58a6e9dacc0406782b2501e5c8b3c2a",
       "version_major": 2,
       "version_minor": 0
      },
      "text/plain": [
       "Training:   0%|          | 0/3 [00:00<?, ?it/s]"
      ]
     },
     "metadata": {},
     "output_type": "display_data"
    },
    {
     "name": "stdout",
     "output_type": "stream",
     "text": [
      "Training Loss: 4.0477. Validation Loss: 2.7235.\n",
      "Training Accuracy: 0.0476. Validation Accuracy: 0.1714.\n",
      "-----------------------------------\n",
      "Epoch 2\n",
      "-----------------------------------\n"
     ]
    },
    {
     "data": {
      "application/vnd.jupyter.widget-view+json": {
       "model_id": "ead784447b584f57af8d09a6638a4b20",
       "version_major": 2,
       "version_minor": 0
      },
      "text/plain": [
       "Training:   0%|          | 0/3 [00:00<?, ?it/s]"
      ]
     },
     "metadata": {},
     "output_type": "display_data"
    },
    {
     "name": "stdout",
     "output_type": "stream",
     "text": [
      "Training Loss: 3.0556. Validation Loss: 2.3748.\n",
      "Training Accuracy: 0.1075. Validation Accuracy: 0.1429.\n",
      "-----------------------------------\n",
      "Epoch 3\n",
      "-----------------------------------\n"
     ]
    },
    {
     "data": {
      "application/vnd.jupyter.widget-view+json": {
       "model_id": "63cd64e4b4f340508647017d93c83f16",
       "version_major": 2,
       "version_minor": 0
      },
      "text/plain": [
       "Training:   0%|          | 0/3 [00:00<?, ?it/s]"
      ]
     },
     "metadata": {},
     "output_type": "display_data"
    },
    {
     "name": "stdout",
     "output_type": "stream",
     "text": [
      "Training Loss: 3.0860. Validation Loss: 2.4046.\n",
      "Training Accuracy: 0.0814. Validation Accuracy: 0.1429.\n",
      "-----------------------------------\n",
      "Epoch 4\n",
      "-----------------------------------\n"
     ]
    },
    {
     "data": {
      "application/vnd.jupyter.widget-view+json": {
       "model_id": "8429d8a84b194ae88716a6898073bbe4",
       "version_major": 2,
       "version_minor": 0
      },
      "text/plain": [
       "Training:   0%|          | 0/3 [00:00<?, ?it/s]"
      ]
     },
     "metadata": {},
     "output_type": "display_data"
    },
    {
     "name": "stdout",
     "output_type": "stream",
     "text": [
      "Training Loss: 2.9563. Validation Loss: 2.6167.\n",
      "Training Accuracy: 0.0507. Validation Accuracy: 0.0000.\n",
      "-----------------------------------\n",
      "Epoch 5\n",
      "-----------------------------------\n"
     ]
    },
    {
     "data": {
      "application/vnd.jupyter.widget-view+json": {
       "model_id": "913a8df80c864a95a39bae5a90f0483a",
       "version_major": 2,
       "version_minor": 0
      },
      "text/plain": [
       "Training:   0%|          | 0/3 [00:00<?, ?it/s]"
      ]
     },
     "metadata": {},
     "output_type": "display_data"
    },
    {
     "name": "stdout",
     "output_type": "stream",
     "text": [
      "Training Loss: 2.8538. Validation Loss: 2.7503.\n",
      "Training Accuracy: 0.1290. Validation Accuracy: 0.0000.\n",
      "-----------------------------------\n",
      "Epoch 6\n",
      "-----------------------------------\n"
     ]
    },
    {
     "data": {
      "application/vnd.jupyter.widget-view+json": {
       "model_id": "6620e78f9ff34ed192e3d602e2e60be4",
       "version_major": 2,
       "version_minor": 0
      },
      "text/plain": [
       "Training:   0%|          | 0/3 [00:00<?, ?it/s]"
      ]
     },
     "metadata": {},
     "output_type": "display_data"
    },
    {
     "name": "stdout",
     "output_type": "stream",
     "text": [
      "Training Loss: 2.7791. Validation Loss: 2.7095.\n",
      "Training Accuracy: 0.1659. Validation Accuracy: 0.0000.\n",
      "-----------------------------------\n",
      "Epoch 7\n",
      "-----------------------------------\n"
     ]
    },
    {
     "data": {
      "application/vnd.jupyter.widget-view+json": {
       "model_id": "b40ed5875a3b4391885b32a10591bc6e",
       "version_major": 2,
       "version_minor": 0
      },
      "text/plain": [
       "Training:   0%|          | 0/3 [00:00<?, ?it/s]"
      ]
     },
     "metadata": {},
     "output_type": "display_data"
    },
    {
     "name": "stdout",
     "output_type": "stream",
     "text": [
      "Training Loss: 2.7518. Validation Loss: 2.6389.\n",
      "Training Accuracy: 0.2043. Validation Accuracy: 0.1429.\n",
      "-----------------------------------\n",
      "Epoch 8\n",
      "-----------------------------------\n"
     ]
    },
    {
     "data": {
      "application/vnd.jupyter.widget-view+json": {
       "model_id": "6316d76b498b4c8f88d7c50eca6ffc2d",
       "version_major": 2,
       "version_minor": 0
      },
      "text/plain": [
       "Training:   0%|          | 0/3 [00:00<?, ?it/s]"
      ]
     },
     "metadata": {},
     "output_type": "display_data"
    },
    {
     "name": "stdout",
     "output_type": "stream",
     "text": [
      "Training Loss: 2.7507. Validation Loss: 2.5425.\n",
      "Training Accuracy: 0.1091. Validation Accuracy: 0.1429.\n",
      "-----------------------------------\n",
      "Epoch 9\n",
      "-----------------------------------\n"
     ]
    },
    {
     "data": {
      "application/vnd.jupyter.widget-view+json": {
       "model_id": "dbbc5e843fda419d8cf716b38eb9e855",
       "version_major": 2,
       "version_minor": 0
      },
      "text/plain": [
       "Training:   0%|          | 0/3 [00:00<?, ?it/s]"
      ]
     },
     "metadata": {},
     "output_type": "display_data"
    },
    {
     "name": "stdout",
     "output_type": "stream",
     "text": [
      "Training Loss: 2.7652. Validation Loss: 2.5034.\n",
      "Training Accuracy: 0.1260. Validation Accuracy: 0.1429.\n",
      "-----------------------------------\n",
      "Epoch 10\n",
      "-----------------------------------\n"
     ]
    },
    {
     "data": {
      "application/vnd.jupyter.widget-view+json": {
       "model_id": "59db65462ae5401abbf28a0b7ee23cbe",
       "version_major": 2,
       "version_minor": 0
      },
      "text/plain": [
       "Training:   0%|          | 0/3 [00:00<?, ?it/s]"
      ]
     },
     "metadata": {},
     "output_type": "display_data"
    },
    {
     "name": "stdout",
     "output_type": "stream",
     "text": [
      "Training Loss: 2.7575. Validation Loss: 2.5475.\n",
      "Training Accuracy: 0.1029. Validation Accuracy: 0.1429.\n",
      "-----------------------------------\n",
      "Epoch 11\n",
      "-----------------------------------\n"
     ]
    },
    {
     "data": {
      "application/vnd.jupyter.widget-view+json": {
       "model_id": "4f6577046d2e415ba7dd7e02f8317800",
       "version_major": 2,
       "version_minor": 0
      },
      "text/plain": [
       "Training:   0%|          | 0/3 [00:00<?, ?it/s]"
      ]
     },
     "metadata": {},
     "output_type": "display_data"
    },
    {
     "name": "stdout",
     "output_type": "stream",
     "text": [
      "Training Loss: 2.7700. Validation Loss: 2.5743.\n",
      "Training Accuracy: 0.1152. Validation Accuracy: 0.1429.\n",
      "-----------------------------------\n",
      "Epoch 12\n",
      "-----------------------------------\n"
     ]
    },
    {
     "data": {
      "application/vnd.jupyter.widget-view+json": {
       "model_id": "9b0a6dbc5c93412e918729d768fa1fcc",
       "version_major": 2,
       "version_minor": 0
      },
      "text/plain": [
       "Training:   0%|          | 0/3 [00:00<?, ?it/s]"
      ]
     },
     "metadata": {},
     "output_type": "display_data"
    },
    {
     "name": "stdout",
     "output_type": "stream",
     "text": [
      "Training Loss: 2.6655. Validation Loss: 2.5424.\n",
      "Training Accuracy: 0.2273. Validation Accuracy: 0.1429.\n",
      "-----------------------------------\n",
      "Epoch 13\n",
      "-----------------------------------\n"
     ]
    },
    {
     "data": {
      "application/vnd.jupyter.widget-view+json": {
       "model_id": "d2efd2b963074ce99fe1c8c726af50e5",
       "version_major": 2,
       "version_minor": 0
      },
      "text/plain": [
       "Training:   0%|          | 0/3 [00:00<?, ?it/s]"
      ]
     },
     "metadata": {},
     "output_type": "display_data"
    },
    {
     "name": "stdout",
     "output_type": "stream",
     "text": [
      "Training Loss: 2.6854. Validation Loss: 2.5343.\n",
      "Training Accuracy: 0.1782. Validation Accuracy: 0.1429.\n",
      "-----------------------------------\n",
      "Epoch 14\n",
      "-----------------------------------\n"
     ]
    },
    {
     "data": {
      "application/vnd.jupyter.widget-view+json": {
       "model_id": "e86f2a63d91a4af09959f7bda6fc7400",
       "version_major": 2,
       "version_minor": 0
      },
      "text/plain": [
       "Training:   0%|          | 0/3 [00:00<?, ?it/s]"
      ]
     },
     "metadata": {},
     "output_type": "display_data"
    },
    {
     "name": "stdout",
     "output_type": "stream",
     "text": [
      "Training Loss: 2.7307. Validation Loss: 2.5758.\n",
      "Training Accuracy: 0.1229. Validation Accuracy: 0.1429.\n",
      "-----------------------------------\n",
      "Epoch 15\n",
      "-----------------------------------\n"
     ]
    },
    {
     "data": {
      "application/vnd.jupyter.widget-view+json": {
       "model_id": "6cb7ce839bbf4f18abbf0e57bb9b35c9",
       "version_major": 2,
       "version_minor": 0
      },
      "text/plain": [
       "Training:   0%|          | 0/3 [00:00<?, ?it/s]"
      ]
     },
     "metadata": {},
     "output_type": "display_data"
    },
    {
     "name": "stdout",
     "output_type": "stream",
     "text": [
      "Training Loss: 2.6212. Validation Loss: 2.5675.\n",
      "Training Accuracy: 0.2181. Validation Accuracy: 0.1429.\n",
      "-----------------------------------\n",
      "Epoch 16\n",
      "-----------------------------------\n"
     ]
    },
    {
     "data": {
      "application/vnd.jupyter.widget-view+json": {
       "model_id": "0d707b2db2cf48d08849811866c7d071",
       "version_major": 2,
       "version_minor": 0
      },
      "text/plain": [
       "Training:   0%|          | 0/3 [00:00<?, ?it/s]"
      ]
     },
     "metadata": {},
     "output_type": "display_data"
    },
    {
     "name": "stdout",
     "output_type": "stream",
     "text": [
      "Training Loss: 2.6334. Validation Loss: 2.5729.\n",
      "Training Accuracy: 0.1782. Validation Accuracy: 0.1429.\n",
      "-----------------------------------\n",
      "Epoch 17\n",
      "-----------------------------------\n"
     ]
    },
    {
     "data": {
      "application/vnd.jupyter.widget-view+json": {
       "model_id": "95a0b8081ba04bc49e9f0b5f5ec00a0f",
       "version_major": 2,
       "version_minor": 0
      },
      "text/plain": [
       "Training:   0%|          | 0/3 [00:00<?, ?it/s]"
      ]
     },
     "metadata": {},
     "output_type": "display_data"
    },
    {
     "name": "stdout",
     "output_type": "stream",
     "text": [
      "Training Loss: 2.5220. Validation Loss: 2.5776.\n",
      "Training Accuracy: 0.2719. Validation Accuracy: 0.1429.\n",
      "-----------------------------------\n",
      "Epoch 18\n",
      "-----------------------------------\n"
     ]
    },
    {
     "data": {
      "application/vnd.jupyter.widget-view+json": {
       "model_id": "44cc05db72d643d2bf1ac1ab8003da77",
       "version_major": 2,
       "version_minor": 0
      },
      "text/plain": [
       "Training:   0%|          | 0/3 [00:00<?, ?it/s]"
      ]
     },
     "metadata": {},
     "output_type": "display_data"
    },
    {
     "name": "stdout",
     "output_type": "stream",
     "text": [
      "Training Loss: 2.6912. Validation Loss: 2.5977.\n",
      "Training Accuracy: 0.1551. Validation Accuracy: 0.1429.\n",
      "-----------------------------------\n",
      "Epoch 19\n",
      "-----------------------------------\n"
     ]
    },
    {
     "data": {
      "application/vnd.jupyter.widget-view+json": {
       "model_id": "24bd2ecea1334498a174bd828f71eff2",
       "version_major": 2,
       "version_minor": 0
      },
      "text/plain": [
       "Training:   0%|          | 0/3 [00:00<?, ?it/s]"
      ]
     },
     "metadata": {},
     "output_type": "display_data"
    },
    {
     "name": "stdout",
     "output_type": "stream",
     "text": [
      "Training Loss: 2.4981. Validation Loss: 2.5789.\n",
      "Training Accuracy: 0.2504. Validation Accuracy: 0.1429.\n",
      "-----------------------------------\n",
      "Epoch 20\n",
      "-----------------------------------\n"
     ]
    },
    {
     "data": {
      "application/vnd.jupyter.widget-view+json": {
       "model_id": "05b3f028930d4cf8a8d013e9cbcc4989",
       "version_major": 2,
       "version_minor": 0
      },
      "text/plain": [
       "Training:   0%|          | 0/3 [00:00<?, ?it/s]"
      ]
     },
     "metadata": {},
     "output_type": "display_data"
    },
    {
     "name": "stderr",
     "output_type": "stream",
     "text": [
      "[I 2024-12-08 13:52:51,279] Trial 7 finished with value: 83.11864972114563 and parameters: {'kernel_size': 512, 'stride': 8192, 'fourier_size': 512, 'enc_hidden': 4, 'dec_hidden': 512, 'lr': 0.01, 'step_size': 10, 'gamma': 0.01}. Best is trial 5 with value: 65.51632761955261.\n"
     ]
    },
    {
     "name": "stdout",
     "output_type": "stream",
     "text": [
      "Training Loss: 2.5424. Validation Loss: 2.5770.\n",
      "Training Accuracy: 0.1935. Validation Accuracy: 0.1429.\n",
      "-----------------------------------\n",
      "Epoch 1\n",
      "-----------------------------------\n"
     ]
    },
    {
     "data": {
      "application/vnd.jupyter.widget-view+json": {
       "model_id": "33da96fa1c0a41eba5ec993f5feb5d6a",
       "version_major": 2,
       "version_minor": 0
      },
      "text/plain": [
       "Training:   0%|          | 0/3 [00:00<?, ?it/s]"
      ]
     },
     "metadata": {},
     "output_type": "display_data"
    },
    {
     "name": "stdout",
     "output_type": "stream",
     "text": [
      "Training Loss: 3.1263. Validation Loss: 3.0171.\n",
      "Training Accuracy: 0.0123. Validation Accuracy: 0.0000.\n",
      "-----------------------------------\n",
      "Epoch 2\n",
      "-----------------------------------\n"
     ]
    },
    {
     "data": {
      "application/vnd.jupyter.widget-view+json": {
       "model_id": "e6bdef645cbf4d11accb17a7f430ccf7",
       "version_major": 2,
       "version_minor": 0
      },
      "text/plain": [
       "Training:   0%|          | 0/3 [00:00<?, ?it/s]"
      ]
     },
     "metadata": {},
     "output_type": "display_data"
    },
    {
     "name": "stdout",
     "output_type": "stream",
     "text": [
      "Training Loss: 2.8269. Validation Loss: 2.7547.\n",
      "Training Accuracy: 0.1321. Validation Accuracy: 0.0000.\n",
      "-----------------------------------\n",
      "Epoch 3\n",
      "-----------------------------------\n"
     ]
    },
    {
     "data": {
      "application/vnd.jupyter.widget-view+json": {
       "model_id": "6e7ec0032f274ef39cbc926e9d18c206",
       "version_major": 2,
       "version_minor": 0
      },
      "text/plain": [
       "Training:   0%|          | 0/3 [00:00<?, ?it/s]"
      ]
     },
     "metadata": {},
     "output_type": "display_data"
    },
    {
     "name": "stdout",
     "output_type": "stream",
     "text": [
      "Training Loss: 2.7764. Validation Loss: 2.6184.\n",
      "Training Accuracy: 0.1367. Validation Accuracy: 0.0000.\n",
      "-----------------------------------\n",
      "Epoch 4\n",
      "-----------------------------------\n"
     ]
    },
    {
     "data": {
      "application/vnd.jupyter.widget-view+json": {
       "model_id": "3c0deb5dddf9498ea29557039d83c3e5",
       "version_major": 2,
       "version_minor": 0
      },
      "text/plain": [
       "Training:   0%|          | 0/3 [00:00<?, ?it/s]"
      ]
     },
     "metadata": {},
     "output_type": "display_data"
    },
    {
     "name": "stdout",
     "output_type": "stream",
     "text": [
      "Training Loss: 2.7738. Validation Loss: 2.5321.\n",
      "Training Accuracy: 0.1321. Validation Accuracy: 0.2000.\n",
      "-----------------------------------\n",
      "Epoch 5\n",
      "-----------------------------------\n"
     ]
    },
    {
     "data": {
      "application/vnd.jupyter.widget-view+json": {
       "model_id": "8344861e30ac4f43b3bf8faf5eb96b71",
       "version_major": 2,
       "version_minor": 0
      },
      "text/plain": [
       "Training:   0%|          | 0/3 [00:00<?, ?it/s]"
      ]
     },
     "metadata": {},
     "output_type": "display_data"
    },
    {
     "name": "stdout",
     "output_type": "stream",
     "text": [
      "Training Loss: 2.7593. Validation Loss: 2.4467.\n",
      "Training Accuracy: 0.1075. Validation Accuracy: 0.2286.\n",
      "-----------------------------------\n",
      "Epoch 6\n",
      "-----------------------------------\n"
     ]
    },
    {
     "data": {
      "application/vnd.jupyter.widget-view+json": {
       "model_id": "83ca7a613ce449f7ae7e5d9d1d02a681",
       "version_major": 2,
       "version_minor": 0
      },
      "text/plain": [
       "Training:   0%|          | 0/3 [00:00<?, ?it/s]"
      ]
     },
     "metadata": {},
     "output_type": "display_data"
    },
    {
     "name": "stdout",
     "output_type": "stream",
     "text": [
      "Training Loss: 2.7575. Validation Loss: 2.3782.\n",
      "Training Accuracy: 0.1198. Validation Accuracy: 0.1714.\n",
      "-----------------------------------\n",
      "Epoch 7\n",
      "-----------------------------------\n"
     ]
    },
    {
     "data": {
      "application/vnd.jupyter.widget-view+json": {
       "model_id": "1088bf58a24448e5b74efa0d905fcc4b",
       "version_major": 2,
       "version_minor": 0
      },
      "text/plain": [
       "Training:   0%|          | 0/3 [00:00<?, ?it/s]"
      ]
     },
     "metadata": {},
     "output_type": "display_data"
    },
    {
     "name": "stdout",
     "output_type": "stream",
     "text": [
      "Training Loss: 2.7615. Validation Loss: 2.3496.\n",
      "Training Accuracy: 0.1106. Validation Accuracy: 0.1714.\n",
      "-----------------------------------\n",
      "Epoch 8\n",
      "-----------------------------------\n"
     ]
    },
    {
     "data": {
      "application/vnd.jupyter.widget-view+json": {
       "model_id": "024520f2f1b643778f9b03c2947a9efa",
       "version_major": 2,
       "version_minor": 0
      },
      "text/plain": [
       "Training:   0%|          | 0/3 [00:00<?, ?it/s]"
      ]
     },
     "metadata": {},
     "output_type": "display_data"
    },
    {
     "name": "stdout",
     "output_type": "stream",
     "text": [
      "Training Loss: 2.7670. Validation Loss: 2.3452.\n",
      "Training Accuracy: 0.1167. Validation Accuracy: 0.1714.\n",
      "-----------------------------------\n",
      "Epoch 9\n",
      "-----------------------------------\n"
     ]
    },
    {
     "data": {
      "application/vnd.jupyter.widget-view+json": {
       "model_id": "31fd1131199c44569942d000000fcfb3",
       "version_major": 2,
       "version_minor": 0
      },
      "text/plain": [
       "Training:   0%|          | 0/3 [00:00<?, ?it/s]"
      ]
     },
     "metadata": {},
     "output_type": "display_data"
    },
    {
     "name": "stdout",
     "output_type": "stream",
     "text": [
      "Training Loss: 2.7621. Validation Loss: 2.3493.\n",
      "Training Accuracy: 0.1029. Validation Accuracy: 0.1714.\n",
      "-----------------------------------\n",
      "Epoch 10\n",
      "-----------------------------------\n"
     ]
    },
    {
     "data": {
      "application/vnd.jupyter.widget-view+json": {
       "model_id": "b198d528a3994a15abe0384469c4aa01",
       "version_major": 2,
       "version_minor": 0
      },
      "text/plain": [
       "Training:   0%|          | 0/3 [00:00<?, ?it/s]"
      ]
     },
     "metadata": {},
     "output_type": "display_data"
    },
    {
     "name": "stdout",
     "output_type": "stream",
     "text": [
      "Training Loss: 2.7530. Validation Loss: 2.3529.\n",
      "Training Accuracy: 0.1045. Validation Accuracy: 0.1714.\n",
      "-----------------------------------\n",
      "Epoch 11\n",
      "-----------------------------------\n"
     ]
    },
    {
     "data": {
      "application/vnd.jupyter.widget-view+json": {
       "model_id": "2f1949ef17f24a84b7e3491f45905220",
       "version_major": 2,
       "version_minor": 0
      },
      "text/plain": [
       "Training:   0%|          | 0/3 [00:00<?, ?it/s]"
      ]
     },
     "metadata": {},
     "output_type": "display_data"
    },
    {
     "name": "stdout",
     "output_type": "stream",
     "text": [
      "Training Loss: 2.7556. Validation Loss: 2.3597.\n",
      "Training Accuracy: 0.1029. Validation Accuracy: 0.1714.\n",
      "-----------------------------------\n",
      "Epoch 12\n",
      "-----------------------------------\n"
     ]
    },
    {
     "data": {
      "application/vnd.jupyter.widget-view+json": {
       "model_id": "b9fd3ca7625d4b228fb4427e72a576af",
       "version_major": 2,
       "version_minor": 0
      },
      "text/plain": [
       "Training:   0%|          | 0/3 [00:00<?, ?it/s]"
      ]
     },
     "metadata": {},
     "output_type": "display_data"
    },
    {
     "name": "stdout",
     "output_type": "stream",
     "text": [
      "Training Loss: 2.7316. Validation Loss: 2.3655.\n",
      "Training Accuracy: 0.1167. Validation Accuracy: 0.1714.\n",
      "-----------------------------------\n",
      "Epoch 13\n",
      "-----------------------------------\n"
     ]
    },
    {
     "data": {
      "application/vnd.jupyter.widget-view+json": {
       "model_id": "a2d25edcb53f468fa7deb5cc3a4a88e7",
       "version_major": 2,
       "version_minor": 0
      },
      "text/plain": [
       "Training:   0%|          | 0/3 [00:00<?, ?it/s]"
      ]
     },
     "metadata": {},
     "output_type": "display_data"
    },
    {
     "name": "stdout",
     "output_type": "stream",
     "text": [
      "Training Loss: 2.7441. Validation Loss: 2.3941.\n",
      "Training Accuracy: 0.1045. Validation Accuracy: 0.1714.\n",
      "-----------------------------------\n",
      "Epoch 14\n",
      "-----------------------------------\n"
     ]
    },
    {
     "data": {
      "application/vnd.jupyter.widget-view+json": {
       "model_id": "2802e66ee26c4ee2a634c409898e7165",
       "version_major": 2,
       "version_minor": 0
      },
      "text/plain": [
       "Training:   0%|          | 0/3 [00:00<?, ?it/s]"
      ]
     },
     "metadata": {},
     "output_type": "display_data"
    },
    {
     "name": "stdout",
     "output_type": "stream",
     "text": [
      "Training Loss: 2.7326. Validation Loss: 2.4312.\n",
      "Training Accuracy: 0.1075. Validation Accuracy: 0.1714.\n",
      "-----------------------------------\n",
      "Epoch 15\n",
      "-----------------------------------\n"
     ]
    },
    {
     "data": {
      "application/vnd.jupyter.widget-view+json": {
       "model_id": "4cd65670157945d78e9fdd55fbfb43ba",
       "version_major": 2,
       "version_minor": 0
      },
      "text/plain": [
       "Training:   0%|          | 0/3 [00:00<?, ?it/s]"
      ]
     },
     "metadata": {},
     "output_type": "display_data"
    },
    {
     "name": "stdout",
     "output_type": "stream",
     "text": [
      "Training Loss: 2.7305. Validation Loss: 2.4178.\n",
      "Training Accuracy: 0.1167. Validation Accuracy: 0.1714.\n",
      "-----------------------------------\n",
      "Epoch 16\n",
      "-----------------------------------\n"
     ]
    },
    {
     "data": {
      "application/vnd.jupyter.widget-view+json": {
       "model_id": "ba7eaab2c1b44583ad47657d6f34fc27",
       "version_major": 2,
       "version_minor": 0
      },
      "text/plain": [
       "Training:   0%|          | 0/3 [00:00<?, ?it/s]"
      ]
     },
     "metadata": {},
     "output_type": "display_data"
    },
    {
     "name": "stdout",
     "output_type": "stream",
     "text": [
      "Training Loss: 2.7080. Validation Loss: 2.4214.\n",
      "Training Accuracy: 0.1628. Validation Accuracy: 0.1714.\n",
      "-----------------------------------\n",
      "Epoch 17\n",
      "-----------------------------------\n"
     ]
    },
    {
     "data": {
      "application/vnd.jupyter.widget-view+json": {
       "model_id": "ced70124ee46415f859c23e9752f2390",
       "version_major": 2,
       "version_minor": 0
      },
      "text/plain": [
       "Training:   0%|          | 0/3 [00:00<?, ?it/s]"
      ]
     },
     "metadata": {},
     "output_type": "display_data"
    },
    {
     "name": "stdout",
     "output_type": "stream",
     "text": [
      "Training Loss: 2.6990. Validation Loss: 2.4037.\n",
      "Training Accuracy: 0.1336. Validation Accuracy: 0.1714.\n",
      "-----------------------------------\n",
      "Epoch 18\n",
      "-----------------------------------\n"
     ]
    },
    {
     "data": {
      "application/vnd.jupyter.widget-view+json": {
       "model_id": "436d876e2b6a42968eec9c6608389fd1",
       "version_major": 2,
       "version_minor": 0
      },
      "text/plain": [
       "Training:   0%|          | 0/3 [00:00<?, ?it/s]"
      ]
     },
     "metadata": {},
     "output_type": "display_data"
    },
    {
     "name": "stdout",
     "output_type": "stream",
     "text": [
      "Training Loss: 2.6965. Validation Loss: 2.3804.\n",
      "Training Accuracy: 0.1690. Validation Accuracy: 0.1714.\n",
      "-----------------------------------\n",
      "Epoch 19\n",
      "-----------------------------------\n"
     ]
    },
    {
     "data": {
      "application/vnd.jupyter.widget-view+json": {
       "model_id": "3dfd77c86d174dfc8f16b001d11a6e6d",
       "version_major": 2,
       "version_minor": 0
      },
      "text/plain": [
       "Training:   0%|          | 0/3 [00:00<?, ?it/s]"
      ]
     },
     "metadata": {},
     "output_type": "display_data"
    },
    {
     "name": "stdout",
     "output_type": "stream",
     "text": [
      "Training Loss: 2.7036. Validation Loss: 2.3471.\n",
      "Training Accuracy: 0.1813. Validation Accuracy: 0.1714.\n",
      "-----------------------------------\n",
      "Epoch 20\n",
      "-----------------------------------\n"
     ]
    },
    {
     "data": {
      "application/vnd.jupyter.widget-view+json": {
       "model_id": "b1f3625c421b42ecb0fe91f16f174378",
       "version_major": 2,
       "version_minor": 0
      },
      "text/plain": [
       "Training:   0%|          | 0/3 [00:00<?, ?it/s]"
      ]
     },
     "metadata": {},
     "output_type": "display_data"
    },
    {
     "name": "stderr",
     "output_type": "stream",
     "text": [
      "[I 2024-12-08 13:53:13,721] Trial 8 finished with value: 81.83567643165588 and parameters: {'kernel_size': 1024, 'stride': 1024, 'fourier_size': 4096, 'enc_hidden': 256, 'dec_hidden': 512, 'lr': 0.001, 'step_size': 20, 'gamma': 0.1}. Best is trial 5 with value: 65.51632761955261.\n"
     ]
    },
    {
     "name": "stdout",
     "output_type": "stream",
     "text": [
      "Training Loss: 2.7058. Validation Loss: 2.3382.\n",
      "Training Accuracy: 0.1582. Validation Accuracy: 0.1714.\n",
      "-----------------------------------\n",
      "Epoch 1\n",
      "-----------------------------------\n"
     ]
    },
    {
     "data": {
      "application/vnd.jupyter.widget-view+json": {
       "model_id": "0dc6ea30d5574a8c97b12a18a04fede2",
       "version_major": 2,
       "version_minor": 0
      },
      "text/plain": [
       "Training:   0%|          | 0/3 [00:00<?, ?it/s]"
      ]
     },
     "metadata": {},
     "output_type": "display_data"
    },
    {
     "name": "stdout",
     "output_type": "stream",
     "text": [
      "Training Loss: 2.9978. Validation Loss: 2.9917.\n",
      "Training Accuracy: 0.0661. Validation Accuracy: 0.1429.\n",
      "-----------------------------------\n",
      "Epoch 2\n",
      "-----------------------------------\n"
     ]
    },
    {
     "data": {
      "application/vnd.jupyter.widget-view+json": {
       "model_id": "498a2ff11ab14d1f84fd77a231dd6f0e",
       "version_major": 2,
       "version_minor": 0
      },
      "text/plain": [
       "Training:   0%|          | 0/3 [00:00<?, ?it/s]"
      ]
     },
     "metadata": {},
     "output_type": "display_data"
    },
    {
     "name": "stdout",
     "output_type": "stream",
     "text": [
      "Training Loss: 3.0006. Validation Loss: 2.9882.\n",
      "Training Accuracy: 0.0814. Validation Accuracy: 0.1429.\n",
      "-----------------------------------\n",
      "Epoch 3\n",
      "-----------------------------------\n"
     ]
    },
    {
     "data": {
      "application/vnd.jupyter.widget-view+json": {
       "model_id": "5c26320c52fd4eeb904a6cb579af6042",
       "version_major": 2,
       "version_minor": 0
      },
      "text/plain": [
       "Training:   0%|          | 0/3 [00:00<?, ?it/s]"
      ]
     },
     "metadata": {},
     "output_type": "display_data"
    },
    {
     "name": "stdout",
     "output_type": "stream",
     "text": [
      "Training Loss: 2.9872. Validation Loss: 2.9772.\n",
      "Training Accuracy: 0.0783. Validation Accuracy: 0.1429.\n",
      "-----------------------------------\n",
      "Epoch 4\n",
      "-----------------------------------\n"
     ]
    },
    {
     "data": {
      "application/vnd.jupyter.widget-view+json": {
       "model_id": "de039e4434a4421cb83b2cfc1068477e",
       "version_major": 2,
       "version_minor": 0
      },
      "text/plain": [
       "Training:   0%|          | 0/3 [00:00<?, ?it/s]"
      ]
     },
     "metadata": {},
     "output_type": "display_data"
    },
    {
     "name": "stdout",
     "output_type": "stream",
     "text": [
      "Training Loss: 3.0077. Validation Loss: 2.9684.\n",
      "Training Accuracy: 0.0753. Validation Accuracy: 0.1429.\n",
      "-----------------------------------\n",
      "Epoch 5\n",
      "-----------------------------------\n"
     ]
    },
    {
     "data": {
      "application/vnd.jupyter.widget-view+json": {
       "model_id": "593793d42b0644a2bf5675214cbf1021",
       "version_major": 2,
       "version_minor": 0
      },
      "text/plain": [
       "Training:   0%|          | 0/3 [00:00<?, ?it/s]"
      ]
     },
     "metadata": {},
     "output_type": "display_data"
    },
    {
     "name": "stdout",
     "output_type": "stream",
     "text": [
      "Training Loss: 2.9991. Validation Loss: 2.9599.\n",
      "Training Accuracy: 0.0814. Validation Accuracy: 0.1429.\n",
      "-----------------------------------\n",
      "Epoch 6\n",
      "-----------------------------------\n"
     ]
    },
    {
     "data": {
      "application/vnd.jupyter.widget-view+json": {
       "model_id": "6b47d5e42ebe4e49892790c1e5b63cc7",
       "version_major": 2,
       "version_minor": 0
      },
      "text/plain": [
       "Training:   0%|          | 0/3 [00:00<?, ?it/s]"
      ]
     },
     "metadata": {},
     "output_type": "display_data"
    },
    {
     "name": "stdout",
     "output_type": "stream",
     "text": [
      "Training Loss: 2.9916. Validation Loss: 2.9530.\n",
      "Training Accuracy: 0.0829. Validation Accuracy: 0.1429.\n",
      "-----------------------------------\n",
      "Epoch 7\n",
      "-----------------------------------\n"
     ]
    },
    {
     "data": {
      "application/vnd.jupyter.widget-view+json": {
       "model_id": "29a15733fc7c4c77855eee24ec753f1e",
       "version_major": 2,
       "version_minor": 0
      },
      "text/plain": [
       "Training:   0%|          | 0/3 [00:00<?, ?it/s]"
      ]
     },
     "metadata": {},
     "output_type": "display_data"
    },
    {
     "name": "stdout",
     "output_type": "stream",
     "text": [
      "Training Loss: 3.0029. Validation Loss: 2.9469.\n",
      "Training Accuracy: 0.0614. Validation Accuracy: 0.1429.\n",
      "-----------------------------------\n",
      "Epoch 8\n",
      "-----------------------------------\n"
     ]
    },
    {
     "data": {
      "application/vnd.jupyter.widget-view+json": {
       "model_id": "c921dfeca06d45169c12cabdd43782de",
       "version_major": 2,
       "version_minor": 0
      },
      "text/plain": [
       "Training:   0%|          | 0/3 [00:00<?, ?it/s]"
      ]
     },
     "metadata": {},
     "output_type": "display_data"
    },
    {
     "name": "stdout",
     "output_type": "stream",
     "text": [
      "Training Loss: 2.9920. Validation Loss: 2.9414.\n",
      "Training Accuracy: 0.0783. Validation Accuracy: 0.1429.\n",
      "-----------------------------------\n",
      "Epoch 9\n",
      "-----------------------------------\n"
     ]
    },
    {
     "data": {
      "application/vnd.jupyter.widget-view+json": {
       "model_id": "86c04856f10e44bd95ca7fca6ac36d0b",
       "version_major": 2,
       "version_minor": 0
      },
      "text/plain": [
       "Training:   0%|          | 0/3 [00:00<?, ?it/s]"
      ]
     },
     "metadata": {},
     "output_type": "display_data"
    },
    {
     "name": "stdout",
     "output_type": "stream",
     "text": [
      "Training Loss: 2.9948. Validation Loss: 2.9377.\n",
      "Training Accuracy: 0.0737. Validation Accuracy: 0.1429.\n",
      "-----------------------------------\n",
      "Epoch 10\n",
      "-----------------------------------\n"
     ]
    },
    {
     "data": {
      "application/vnd.jupyter.widget-view+json": {
       "model_id": "dde7696438c5423e8406b8c92e014010",
       "version_major": 2,
       "version_minor": 0
      },
      "text/plain": [
       "Training:   0%|          | 0/3 [00:00<?, ?it/s]"
      ]
     },
     "metadata": {},
     "output_type": "display_data"
    },
    {
     "name": "stdout",
     "output_type": "stream",
     "text": [
      "Training Loss: 2.9901. Validation Loss: 2.9344.\n",
      "Training Accuracy: 0.0722. Validation Accuracy: 0.1429.\n",
      "-----------------------------------\n",
      "Epoch 11\n",
      "-----------------------------------\n"
     ]
    },
    {
     "data": {
      "application/vnd.jupyter.widget-view+json": {
       "model_id": "4adccec0f9d243d58a3f16d9b2358717",
       "version_major": 2,
       "version_minor": 0
      },
      "text/plain": [
       "Training:   0%|          | 0/3 [00:00<?, ?it/s]"
      ]
     },
     "metadata": {},
     "output_type": "display_data"
    },
    {
     "name": "stdout",
     "output_type": "stream",
     "text": [
      "Training Loss: 2.9984. Validation Loss: 2.9311.\n",
      "Training Accuracy: 0.0691. Validation Accuracy: 0.1429.\n",
      "-----------------------------------\n",
      "Epoch 12\n",
      "-----------------------------------\n"
     ]
    },
    {
     "data": {
      "application/vnd.jupyter.widget-view+json": {
       "model_id": "8b9760bb52414ed9b5043558a5c4450d",
       "version_major": 2,
       "version_minor": 0
      },
      "text/plain": [
       "Training:   0%|          | 0/3 [00:00<?, ?it/s]"
      ]
     },
     "metadata": {},
     "output_type": "display_data"
    },
    {
     "name": "stdout",
     "output_type": "stream",
     "text": [
      "Training Loss: 2.9817. Validation Loss: 2.9283.\n",
      "Training Accuracy: 0.0753. Validation Accuracy: 0.1429.\n",
      "-----------------------------------\n",
      "Epoch 13\n",
      "-----------------------------------\n"
     ]
    },
    {
     "data": {
      "application/vnd.jupyter.widget-view+json": {
       "model_id": "244f318d2f4648e48234b9c3c08c04af",
       "version_major": 2,
       "version_minor": 0
      },
      "text/plain": [
       "Training:   0%|          | 0/3 [00:00<?, ?it/s]"
      ]
     },
     "metadata": {},
     "output_type": "display_data"
    },
    {
     "name": "stdout",
     "output_type": "stream",
     "text": [
      "Training Loss: 2.9958. Validation Loss: 2.9261.\n",
      "Training Accuracy: 0.0768. Validation Accuracy: 0.1429.\n",
      "-----------------------------------\n",
      "Epoch 14\n",
      "-----------------------------------\n"
     ]
    },
    {
     "data": {
      "application/vnd.jupyter.widget-view+json": {
       "model_id": "9e42fcf1cbc74fc584dbf978d7315a31",
       "version_major": 2,
       "version_minor": 0
      },
      "text/plain": [
       "Training:   0%|          | 0/3 [00:00<?, ?it/s]"
      ]
     },
     "metadata": {},
     "output_type": "display_data"
    },
    {
     "name": "stdout",
     "output_type": "stream",
     "text": [
      "Training Loss: 2.9897. Validation Loss: 2.9247.\n",
      "Training Accuracy: 0.0722. Validation Accuracy: 0.1429.\n",
      "-----------------------------------\n",
      "Epoch 15\n",
      "-----------------------------------\n"
     ]
    },
    {
     "data": {
      "application/vnd.jupyter.widget-view+json": {
       "model_id": "18ea572d55164bc0ae2ece6dd6bab690",
       "version_major": 2,
       "version_minor": 0
      },
      "text/plain": [
       "Training:   0%|          | 0/3 [00:00<?, ?it/s]"
      ]
     },
     "metadata": {},
     "output_type": "display_data"
    },
    {
     "name": "stdout",
     "output_type": "stream",
     "text": [
      "Training Loss: 2.9912. Validation Loss: 2.9237.\n",
      "Training Accuracy: 0.0707. Validation Accuracy: 0.1429.\n",
      "-----------------------------------\n",
      "Epoch 16\n",
      "-----------------------------------\n"
     ]
    },
    {
     "data": {
      "application/vnd.jupyter.widget-view+json": {
       "model_id": "263337d7fe9d4ec09a370d1265415147",
       "version_major": 2,
       "version_minor": 0
      },
      "text/plain": [
       "Training:   0%|          | 0/3 [00:00<?, ?it/s]"
      ]
     },
     "metadata": {},
     "output_type": "display_data"
    },
    {
     "name": "stdout",
     "output_type": "stream",
     "text": [
      "Training Loss: 2.9887. Validation Loss: 2.9227.\n",
      "Training Accuracy: 0.0845. Validation Accuracy: 0.1429.\n",
      "-----------------------------------\n",
      "Epoch 17\n",
      "-----------------------------------\n"
     ]
    },
    {
     "data": {
      "application/vnd.jupyter.widget-view+json": {
       "model_id": "8658ba2db821477fa5d71f57f08dcf15",
       "version_major": 2,
       "version_minor": 0
      },
      "text/plain": [
       "Training:   0%|          | 0/3 [00:00<?, ?it/s]"
      ]
     },
     "metadata": {},
     "output_type": "display_data"
    },
    {
     "name": "stdout",
     "output_type": "stream",
     "text": [
      "Training Loss: 2.9920. Validation Loss: 2.9219.\n",
      "Training Accuracy: 0.0768. Validation Accuracy: 0.1429.\n",
      "-----------------------------------\n",
      "Epoch 18\n",
      "-----------------------------------\n"
     ]
    },
    {
     "data": {
      "application/vnd.jupyter.widget-view+json": {
       "model_id": "65b14bb982a74e619183ea1e4e9b9351",
       "version_major": 2,
       "version_minor": 0
      },
      "text/plain": [
       "Training:   0%|          | 0/3 [00:00<?, ?it/s]"
      ]
     },
     "metadata": {},
     "output_type": "display_data"
    },
    {
     "name": "stdout",
     "output_type": "stream",
     "text": [
      "Training Loss: 2.9928. Validation Loss: 2.9208.\n",
      "Training Accuracy: 0.0768. Validation Accuracy: 0.1429.\n",
      "-----------------------------------\n",
      "Epoch 19\n",
      "-----------------------------------\n"
     ]
    },
    {
     "data": {
      "application/vnd.jupyter.widget-view+json": {
       "model_id": "6ac6f8e4fcba45c29884b82c84b1b698",
       "version_major": 2,
       "version_minor": 0
      },
      "text/plain": [
       "Training:   0%|          | 0/3 [00:00<?, ?it/s]"
      ]
     },
     "metadata": {},
     "output_type": "display_data"
    },
    {
     "name": "stdout",
     "output_type": "stream",
     "text": [
      "Training Loss: 2.9847. Validation Loss: 2.9201.\n",
      "Training Accuracy: 0.0783. Validation Accuracy: 0.1429.\n",
      "-----------------------------------\n",
      "Epoch 20\n",
      "-----------------------------------\n"
     ]
    },
    {
     "data": {
      "application/vnd.jupyter.widget-view+json": {
       "model_id": "99fb03c93b7346a39b3adc51abe39b19",
       "version_major": 2,
       "version_minor": 0
      },
      "text/plain": [
       "Training:   0%|          | 0/3 [00:00<?, ?it/s]"
      ]
     },
     "metadata": {},
     "output_type": "display_data"
    },
    {
     "name": "stderr",
     "output_type": "stream",
     "text": [
      "[I 2024-12-08 13:53:26,814] Trial 9 finished with value: 102.18262076377869 and parameters: {'kernel_size': 2048, 'stride': 1024, 'fourier_size': 128, 'enc_hidden': 512, 'dec_hidden': 4, 'lr': 0.0001, 'step_size': 20, 'gamma': 0.01}. Best is trial 5 with value: 65.51632761955261.\n"
     ]
    },
    {
     "name": "stdout",
     "output_type": "stream",
     "text": [
      "Training Loss: 2.9839. Validation Loss: 2.9195.\n",
      "Training Accuracy: 0.0860. Validation Accuracy: 0.1429.\n",
      "-----------------------------------\n",
      "Epoch 1\n",
      "-----------------------------------\n"
     ]
    },
    {
     "data": {
      "application/vnd.jupyter.widget-view+json": {
       "model_id": "092ccfd946104da0910f401104618830",
       "version_major": 2,
       "version_minor": 0
      },
      "text/plain": [
       "Training:   0%|          | 0/3 [00:00<?, ?it/s]"
      ]
     },
     "metadata": {},
     "output_type": "display_data"
    },
    {
     "name": "stdout",
     "output_type": "stream",
     "text": [
      "Training Loss: 4.2530. Validation Loss: 3.2283.\n",
      "Training Accuracy: 0.0276. Validation Accuracy: 0.1429.\n",
      "-----------------------------------\n",
      "Epoch 2\n",
      "-----------------------------------\n"
     ]
    },
    {
     "data": {
      "application/vnd.jupyter.widget-view+json": {
       "model_id": "abf8077225fa4863b752b2f9b07354ab",
       "version_major": 2,
       "version_minor": 0
      },
      "text/plain": [
       "Training:   0%|          | 0/3 [00:00<?, ?it/s]"
      ]
     },
     "metadata": {},
     "output_type": "display_data"
    },
    {
     "name": "stdout",
     "output_type": "stream",
     "text": [
      "Training Loss: 7.6184. Validation Loss: 2.6394.\n",
      "Training Accuracy: 0.0876. Validation Accuracy: 0.3143.\n",
      "-----------------------------------\n",
      "Epoch 3\n",
      "-----------------------------------\n"
     ]
    },
    {
     "data": {
      "application/vnd.jupyter.widget-view+json": {
       "model_id": "11a855a2d2684174b15cc8558de6c9b7",
       "version_major": 2,
       "version_minor": 0
      },
      "text/plain": [
       "Training:   0%|          | 0/3 [00:00<?, ?it/s]"
      ]
     },
     "metadata": {},
     "output_type": "display_data"
    },
    {
     "name": "stdout",
     "output_type": "stream",
     "text": [
      "Training Loss: 6.2510. Validation Loss: 3.3148.\n",
      "Training Accuracy: 0.0307. Validation Accuracy: 0.0000.\n",
      "-----------------------------------\n",
      "Epoch 4\n",
      "-----------------------------------\n"
     ]
    },
    {
     "data": {
      "application/vnd.jupyter.widget-view+json": {
       "model_id": "1c9329f222a04f28ad2b68299d72a5bf",
       "version_major": 2,
       "version_minor": 0
      },
      "text/plain": [
       "Training:   0%|          | 0/3 [00:00<?, ?it/s]"
      ]
     },
     "metadata": {},
     "output_type": "display_data"
    },
    {
     "name": "stdout",
     "output_type": "stream",
     "text": [
      "Training Loss: 4.2201. Validation Loss: 3.5972.\n",
      "Training Accuracy: 0.0814. Validation Accuracy: 0.0286.\n",
      "-----------------------------------\n",
      "Epoch 5\n",
      "-----------------------------------\n"
     ]
    },
    {
     "data": {
      "application/vnd.jupyter.widget-view+json": {
       "model_id": "3dbb7e4aab2b4b6195b9a16a943c10f5",
       "version_major": 2,
       "version_minor": 0
      },
      "text/plain": [
       "Training:   0%|          | 0/3 [00:00<?, ?it/s]"
      ]
     },
     "metadata": {},
     "output_type": "display_data"
    },
    {
     "name": "stdout",
     "output_type": "stream",
     "text": [
      "Training Loss: 3.7999. Validation Loss: 3.0403.\n",
      "Training Accuracy: 0.1413. Validation Accuracy: 0.2000.\n",
      "-----------------------------------\n",
      "Epoch 6\n",
      "-----------------------------------\n"
     ]
    },
    {
     "data": {
      "application/vnd.jupyter.widget-view+json": {
       "model_id": "d222d58eb4d3411b92c521825bc9bf1d",
       "version_major": 2,
       "version_minor": 0
      },
      "text/plain": [
       "Training:   0%|          | 0/3 [00:00<?, ?it/s]"
      ]
     },
     "metadata": {},
     "output_type": "display_data"
    },
    {
     "name": "stdout",
     "output_type": "stream",
     "text": [
      "Training Loss: 3.3114. Validation Loss: 2.0463.\n",
      "Training Accuracy: 0.0737. Validation Accuracy: 0.1143.\n",
      "-----------------------------------\n",
      "Epoch 7\n",
      "-----------------------------------\n"
     ]
    },
    {
     "data": {
      "application/vnd.jupyter.widget-view+json": {
       "model_id": "4fad7a7c0fb04affa6a457d3124677cc",
       "version_major": 2,
       "version_minor": 0
      },
      "text/plain": [
       "Training:   0%|          | 0/3 [00:00<?, ?it/s]"
      ]
     },
     "metadata": {},
     "output_type": "display_data"
    },
    {
     "name": "stdout",
     "output_type": "stream",
     "text": [
      "Training Loss: 3.6807. Validation Loss: 1.8556.\n",
      "Training Accuracy: 0.0829. Validation Accuracy: 0.3143.\n",
      "-----------------------------------\n",
      "Epoch 8\n",
      "-----------------------------------\n"
     ]
    },
    {
     "data": {
      "application/vnd.jupyter.widget-view+json": {
       "model_id": "75ad2217e5ff4ded8f0aa63392173273",
       "version_major": 2,
       "version_minor": 0
      },
      "text/plain": [
       "Training:   0%|          | 0/3 [00:00<?, ?it/s]"
      ]
     },
     "metadata": {},
     "output_type": "display_data"
    },
    {
     "name": "stdout",
     "output_type": "stream",
     "text": [
      "Training Loss: 3.2032. Validation Loss: 2.0521.\n",
      "Training Accuracy: 0.1582. Validation Accuracy: 0.2000.\n",
      "-----------------------------------\n",
      "Epoch 9\n",
      "-----------------------------------\n"
     ]
    },
    {
     "data": {
      "application/vnd.jupyter.widget-view+json": {
       "model_id": "f12cae6bee364a76af314fc86f072790",
       "version_major": 2,
       "version_minor": 0
      },
      "text/plain": [
       "Training:   0%|          | 0/3 [00:00<?, ?it/s]"
      ]
     },
     "metadata": {},
     "output_type": "display_data"
    },
    {
     "name": "stdout",
     "output_type": "stream",
     "text": [
      "Training Loss: 3.1204. Validation Loss: 1.9847.\n",
      "Training Accuracy: 0.0261. Validation Accuracy: 0.0286.\n",
      "-----------------------------------\n",
      "Epoch 10\n",
      "-----------------------------------\n"
     ]
    },
    {
     "data": {
      "application/vnd.jupyter.widget-view+json": {
       "model_id": "2258b8074ea94bad841e3d3feba1381b",
       "version_major": 2,
       "version_minor": 0
      },
      "text/plain": [
       "Training:   0%|          | 0/3 [00:00<?, ?it/s]"
      ]
     },
     "metadata": {},
     "output_type": "display_data"
    },
    {
     "name": "stdout",
     "output_type": "stream",
     "text": [
      "Training Loss: 2.9563. Validation Loss: 1.7544.\n",
      "Training Accuracy: 0.0998. Validation Accuracy: 0.3143.\n",
      "-----------------------------------\n",
      "Epoch 11\n",
      "-----------------------------------\n"
     ]
    },
    {
     "data": {
      "application/vnd.jupyter.widget-view+json": {
       "model_id": "e4be8c1d9084492baf88f2b5eb9ef88f",
       "version_major": 2,
       "version_minor": 0
      },
      "text/plain": [
       "Training:   0%|          | 0/3 [00:00<?, ?it/s]"
      ]
     },
     "metadata": {},
     "output_type": "display_data"
    },
    {
     "name": "stdout",
     "output_type": "stream",
     "text": [
      "Training Loss: 2.9357. Validation Loss: 1.8652.\n",
      "Training Accuracy: 0.1290. Validation Accuracy: 0.2000.\n",
      "-----------------------------------\n",
      "Epoch 12\n",
      "-----------------------------------\n"
     ]
    },
    {
     "data": {
      "application/vnd.jupyter.widget-view+json": {
       "model_id": "70f2d165dfd640db8b7ac68f1dca7693",
       "version_major": 2,
       "version_minor": 0
      },
      "text/plain": [
       "Training:   0%|          | 0/3 [00:00<?, ?it/s]"
      ]
     },
     "metadata": {},
     "output_type": "display_data"
    },
    {
     "name": "stdout",
     "output_type": "stream",
     "text": [
      "Training Loss: 2.9137. Validation Loss: 2.0503.\n",
      "Training Accuracy: 0.1536. Validation Accuracy: 0.1429.\n",
      "-----------------------------------\n",
      "Epoch 13\n",
      "-----------------------------------\n"
     ]
    },
    {
     "data": {
      "application/vnd.jupyter.widget-view+json": {
       "model_id": "846e906c76b74919a75e54e39db27bca",
       "version_major": 2,
       "version_minor": 0
      },
      "text/plain": [
       "Training:   0%|          | 0/3 [00:00<?, ?it/s]"
      ]
     },
     "metadata": {},
     "output_type": "display_data"
    },
    {
     "name": "stdout",
     "output_type": "stream",
     "text": [
      "Training Loss: 2.8605. Validation Loss: 2.0020.\n",
      "Training Accuracy: 0.0353. Validation Accuracy: 0.0286.\n",
      "-----------------------------------\n",
      "Epoch 14\n",
      "-----------------------------------\n"
     ]
    },
    {
     "data": {
      "application/vnd.jupyter.widget-view+json": {
       "model_id": "19209cbbe0174c36a74ecce3c7eb842b",
       "version_major": 2,
       "version_minor": 0
      },
      "text/plain": [
       "Training:   0%|          | 0/3 [00:00<?, ?it/s]"
      ]
     },
     "metadata": {},
     "output_type": "display_data"
    },
    {
     "name": "stdout",
     "output_type": "stream",
     "text": [
      "Training Loss: 2.8132. Validation Loss: 1.7981.\n",
      "Training Accuracy: 0.0783. Validation Accuracy: 0.2286.\n",
      "-----------------------------------\n",
      "Epoch 15\n",
      "-----------------------------------\n"
     ]
    },
    {
     "data": {
      "application/vnd.jupyter.widget-view+json": {
       "model_id": "06214427cc2d477a984fbe60a9145ddb",
       "version_major": 2,
       "version_minor": 0
      },
      "text/plain": [
       "Training:   0%|          | 0/3 [00:00<?, ?it/s]"
      ]
     },
     "metadata": {},
     "output_type": "display_data"
    },
    {
     "name": "stdout",
     "output_type": "stream",
     "text": [
      "Training Loss: 2.8276. Validation Loss: 1.8871.\n",
      "Training Accuracy: 0.0860. Validation Accuracy: 0.2286.\n",
      "-----------------------------------\n",
      "Epoch 16\n",
      "-----------------------------------\n"
     ]
    },
    {
     "data": {
      "application/vnd.jupyter.widget-view+json": {
       "model_id": "8febc6db344d426d845c621f7bf9c7a1",
       "version_major": 2,
       "version_minor": 0
      },
      "text/plain": [
       "Training:   0%|          | 0/3 [00:00<?, ?it/s]"
      ]
     },
     "metadata": {},
     "output_type": "display_data"
    },
    {
     "name": "stdout",
     "output_type": "stream",
     "text": [
      "Training Loss: 2.8061. Validation Loss: 1.8901.\n",
      "Training Accuracy: 0.1413. Validation Accuracy: 0.1714.\n",
      "-----------------------------------\n",
      "Epoch 17\n",
      "-----------------------------------\n"
     ]
    },
    {
     "data": {
      "application/vnd.jupyter.widget-view+json": {
       "model_id": "6415989dbb9f44838dd3d49ef2698aed",
       "version_major": 2,
       "version_minor": 0
      },
      "text/plain": [
       "Training:   0%|          | 0/3 [00:00<?, ?it/s]"
      ]
     },
     "metadata": {},
     "output_type": "display_data"
    },
    {
     "name": "stdout",
     "output_type": "stream",
     "text": [
      "Training Loss: 2.7742. Validation Loss: 1.7586.\n",
      "Training Accuracy: 0.0215. Validation Accuracy: 0.2286.\n",
      "-----------------------------------\n",
      "Epoch 18\n",
      "-----------------------------------\n"
     ]
    },
    {
     "data": {
      "application/vnd.jupyter.widget-view+json": {
       "model_id": "4cda021119ae4c5a9893e6665fe06288",
       "version_major": 2,
       "version_minor": 0
      },
      "text/plain": [
       "Training:   0%|          | 0/3 [00:00<?, ?it/s]"
      ]
     },
     "metadata": {},
     "output_type": "display_data"
    },
    {
     "name": "stdout",
     "output_type": "stream",
     "text": [
      "Training Loss: 2.8033. Validation Loss: 1.7578.\n",
      "Training Accuracy: 0.0753. Validation Accuracy: 0.2286.\n",
      "-----------------------------------\n",
      "Epoch 19\n",
      "-----------------------------------\n"
     ]
    },
    {
     "data": {
      "application/vnd.jupyter.widget-view+json": {
       "model_id": "1634d78285f341de8fe1873c31a6e264",
       "version_major": 2,
       "version_minor": 0
      },
      "text/plain": [
       "Training:   0%|          | 0/3 [00:00<?, ?it/s]"
      ]
     },
     "metadata": {},
     "output_type": "display_data"
    },
    {
     "name": "stdout",
     "output_type": "stream",
     "text": [
      "Training Loss: 2.7994. Validation Loss: 1.8370.\n",
      "Training Accuracy: 0.1582. Validation Accuracy: 0.1714.\n",
      "-----------------------------------\n",
      "Epoch 20\n",
      "-----------------------------------\n"
     ]
    },
    {
     "data": {
      "application/vnd.jupyter.widget-view+json": {
       "model_id": "59e40a34779f4c008d69e3483b88fcf2",
       "version_major": 2,
       "version_minor": 0
      },
      "text/plain": [
       "Training:   0%|          | 0/3 [00:00<?, ?it/s]"
      ]
     },
     "metadata": {},
     "output_type": "display_data"
    },
    {
     "name": "stderr",
     "output_type": "stream",
     "text": [
      "[I 2024-12-08 13:54:06,233] Trial 10 finished with value: 61.40483915805817 and parameters: {'kernel_size': 1024, 'stride': 256, 'fourier_size': 8192, 'enc_hidden': 16, 'dec_hidden': 256, 'lr': 0.1, 'step_size': 20, 'gamma': 0.1}. Best is trial 10 with value: 61.40483915805817.\n"
     ]
    },
    {
     "name": "stdout",
     "output_type": "stream",
     "text": [
      "Training Loss: 2.8247. Validation Loss: 1.7882.\n",
      "Training Accuracy: 0.1459. Validation Accuracy: 0.2286.\n",
      "-----------------------------------\n",
      "Epoch 1\n",
      "-----------------------------------\n"
     ]
    },
    {
     "data": {
      "application/vnd.jupyter.widget-view+json": {
       "model_id": "efc5946456c449ab9246b03dc6d66f28",
       "version_major": 2,
       "version_minor": 0
      },
      "text/plain": [
       "Training:   0%|          | 0/3 [00:00<?, ?it/s]"
      ]
     },
     "metadata": {},
     "output_type": "display_data"
    },
    {
     "name": "stdout",
     "output_type": "stream",
     "text": [
      "Training Loss: 3.9171. Validation Loss: 3.1172.\n",
      "Training Accuracy: 0.0415. Validation Accuracy: 0.2286.\n",
      "-----------------------------------\n",
      "Epoch 2\n",
      "-----------------------------------\n"
     ]
    },
    {
     "data": {
      "application/vnd.jupyter.widget-view+json": {
       "model_id": "886c2b320ad34f3a95f0e06d5cec4625",
       "version_major": 2,
       "version_minor": 0
      },
      "text/plain": [
       "Training:   0%|          | 0/3 [00:00<?, ?it/s]"
      ]
     },
     "metadata": {},
     "output_type": "display_data"
    },
    {
     "name": "stdout",
     "output_type": "stream",
     "text": [
      "Training Loss: 8.6336. Validation Loss: 2.6445.\n",
      "Training Accuracy: 0.0783. Validation Accuracy: 0.1429.\n",
      "-----------------------------------\n",
      "Epoch 3\n",
      "-----------------------------------\n"
     ]
    },
    {
     "data": {
      "application/vnd.jupyter.widget-view+json": {
       "model_id": "0f043ee0586649c8a69dcd5f45c18902",
       "version_major": 2,
       "version_minor": 0
      },
      "text/plain": [
       "Training:   0%|          | 0/3 [00:00<?, ?it/s]"
      ]
     },
     "metadata": {},
     "output_type": "display_data"
    },
    {
     "name": "stdout",
     "output_type": "stream",
     "text": [
      "Training Loss: 6.4249. Validation Loss: 5.5619.\n",
      "Training Accuracy: 0.0031. Validation Accuracy: 0.2000.\n",
      "-----------------------------------\n",
      "Epoch 4\n",
      "-----------------------------------\n"
     ]
    },
    {
     "data": {
      "application/vnd.jupyter.widget-view+json": {
       "model_id": "44ab22e5a7884b41929eedb10197ebe2",
       "version_major": 2,
       "version_minor": 0
      },
      "text/plain": [
       "Training:   0%|          | 0/3 [00:00<?, ?it/s]"
      ]
     },
     "metadata": {},
     "output_type": "display_data"
    },
    {
     "name": "stdout",
     "output_type": "stream",
     "text": [
      "Training Loss: 5.3165. Validation Loss: 4.8241.\n",
      "Training Accuracy: 0.0200. Validation Accuracy: 0.0000.\n",
      "-----------------------------------\n",
      "Epoch 5\n",
      "-----------------------------------\n"
     ]
    },
    {
     "data": {
      "application/vnd.jupyter.widget-view+json": {
       "model_id": "800c46d9634a49b285824efbc2180d58",
       "version_major": 2,
       "version_minor": 0
      },
      "text/plain": [
       "Training:   0%|          | 0/3 [00:00<?, ?it/s]"
      ]
     },
     "metadata": {},
     "output_type": "display_data"
    },
    {
     "name": "stdout",
     "output_type": "stream",
     "text": [
      "Training Loss: 3.8220. Validation Loss: 3.4265.\n",
      "Training Accuracy: 0.1690. Validation Accuracy: 0.1429.\n",
      "-----------------------------------\n",
      "Epoch 6\n",
      "-----------------------------------\n"
     ]
    },
    {
     "data": {
      "application/vnd.jupyter.widget-view+json": {
       "model_id": "62dddb71436f4d07b732c10334bd186e",
       "version_major": 2,
       "version_minor": 0
      },
      "text/plain": [
       "Training:   0%|          | 0/3 [00:00<?, ?it/s]"
      ]
     },
     "metadata": {},
     "output_type": "display_data"
    },
    {
     "name": "stdout",
     "output_type": "stream",
     "text": [
      "Training Loss: 4.0173. Validation Loss: 1.8869.\n",
      "Training Accuracy: 0.0691. Validation Accuracy: 0.3143.\n",
      "-----------------------------------\n",
      "Epoch 7\n",
      "-----------------------------------\n"
     ]
    },
    {
     "data": {
      "application/vnd.jupyter.widget-view+json": {
       "model_id": "6223528792224705b1e60a2a3f36b711",
       "version_major": 2,
       "version_minor": 0
      },
      "text/plain": [
       "Training:   0%|          | 0/3 [00:00<?, ?it/s]"
      ]
     },
     "metadata": {},
     "output_type": "display_data"
    },
    {
     "name": "stdout",
     "output_type": "stream",
     "text": [
      "Training Loss: 4.4148. Validation Loss: 2.0414.\n",
      "Training Accuracy: 0.0430. Validation Accuracy: 0.2286.\n",
      "-----------------------------------\n",
      "Epoch 8\n",
      "-----------------------------------\n"
     ]
    },
    {
     "data": {
      "application/vnd.jupyter.widget-view+json": {
       "model_id": "8187d47253294bb7a710a59b6418f930",
       "version_major": 2,
       "version_minor": 0
      },
      "text/plain": [
       "Training:   0%|          | 0/3 [00:00<?, ?it/s]"
      ]
     },
     "metadata": {},
     "output_type": "display_data"
    },
    {
     "name": "stdout",
     "output_type": "stream",
     "text": [
      "Training Loss: 3.7231. Validation Loss: 3.0775.\n",
      "Training Accuracy: 0.0307. Validation Accuracy: 0.1429.\n",
      "-----------------------------------\n",
      "Epoch 9\n",
      "-----------------------------------\n"
     ]
    },
    {
     "data": {
      "application/vnd.jupyter.widget-view+json": {
       "model_id": "adda57ca933f41628822f0073d910366",
       "version_major": 2,
       "version_minor": 0
      },
      "text/plain": [
       "Training:   0%|          | 0/3 [00:00<?, ?it/s]"
      ]
     },
     "metadata": {},
     "output_type": "display_data"
    },
    {
     "name": "stdout",
     "output_type": "stream",
     "text": [
      "Training Loss: 3.5990. Validation Loss: 1.7239.\n",
      "Training Accuracy: 0.0276. Validation Accuracy: 0.3143.\n",
      "-----------------------------------\n",
      "Epoch 10\n",
      "-----------------------------------\n"
     ]
    },
    {
     "data": {
      "application/vnd.jupyter.widget-view+json": {
       "model_id": "3d85ab39307044e19ff9ff010b6f593f",
       "version_major": 2,
       "version_minor": 0
      },
      "text/plain": [
       "Training:   0%|          | 0/3 [00:00<?, ?it/s]"
      ]
     },
     "metadata": {},
     "output_type": "display_data"
    },
    {
     "name": "stdout",
     "output_type": "stream",
     "text": [
      "Training Loss: 3.3634. Validation Loss: 1.9356.\n",
      "Training Accuracy: 0.0584. Validation Accuracy: 0.3143.\n",
      "-----------------------------------\n",
      "Epoch 11\n",
      "-----------------------------------\n"
     ]
    },
    {
     "data": {
      "application/vnd.jupyter.widget-view+json": {
       "model_id": "3a51b3b96ae34d20ae0f6cb51da93884",
       "version_major": 2,
       "version_minor": 0
      },
      "text/plain": [
       "Training:   0%|          | 0/3 [00:00<?, ?it/s]"
      ]
     },
     "metadata": {},
     "output_type": "display_data"
    },
    {
     "name": "stdout",
     "output_type": "stream",
     "text": [
      "Training Loss: 3.2332. Validation Loss: 2.2344.\n",
      "Training Accuracy: 0.1152. Validation Accuracy: 0.1714.\n",
      "-----------------------------------\n",
      "Epoch 12\n",
      "-----------------------------------\n"
     ]
    },
    {
     "data": {
      "application/vnd.jupyter.widget-view+json": {
       "model_id": "0d1956d9184447d6a8b35c5717883cab",
       "version_major": 2,
       "version_minor": 0
      },
      "text/plain": [
       "Training:   0%|          | 0/3 [00:00<?, ?it/s]"
      ]
     },
     "metadata": {},
     "output_type": "display_data"
    },
    {
     "name": "stdout",
     "output_type": "stream",
     "text": [
      "Training Loss: 2.9541. Validation Loss: 2.0187.\n",
      "Training Accuracy: 0.0445. Validation Accuracy: 0.1429.\n",
      "-----------------------------------\n",
      "Epoch 13\n",
      "-----------------------------------\n"
     ]
    },
    {
     "data": {
      "application/vnd.jupyter.widget-view+json": {
       "model_id": "10d456c29721401a9904dd49e358cd98",
       "version_major": 2,
       "version_minor": 0
      },
      "text/plain": [
       "Training:   0%|          | 0/3 [00:00<?, ?it/s]"
      ]
     },
     "metadata": {},
     "output_type": "display_data"
    },
    {
     "name": "stdout",
     "output_type": "stream",
     "text": [
      "Training Loss: 3.0323. Validation Loss: 1.7648.\n",
      "Training Accuracy: 0.0691. Validation Accuracy: 0.3143.\n",
      "-----------------------------------\n",
      "Epoch 14\n",
      "-----------------------------------\n"
     ]
    },
    {
     "data": {
      "application/vnd.jupyter.widget-view+json": {
       "model_id": "ca38ac68b51c4dd9875fce45e4a08244",
       "version_major": 2,
       "version_minor": 0
      },
      "text/plain": [
       "Training:   0%|          | 0/3 [00:00<?, ?it/s]"
      ]
     },
     "metadata": {},
     "output_type": "display_data"
    },
    {
     "name": "stdout",
     "output_type": "stream",
     "text": [
      "Training Loss: 3.1076. Validation Loss: 1.8607.\n",
      "Training Accuracy: 0.1429. Validation Accuracy: 0.1429.\n",
      "-----------------------------------\n",
      "Epoch 15\n",
      "-----------------------------------\n"
     ]
    },
    {
     "data": {
      "application/vnd.jupyter.widget-view+json": {
       "model_id": "2a3e63deceb14198b0b953286ac634a6",
       "version_major": 2,
       "version_minor": 0
      },
      "text/plain": [
       "Training:   0%|          | 0/3 [00:00<?, ?it/s]"
      ]
     },
     "metadata": {},
     "output_type": "display_data"
    },
    {
     "name": "stdout",
     "output_type": "stream",
     "text": [
      "Training Loss: 2.9874. Validation Loss: 2.0171.\n",
      "Training Accuracy: 0.0553. Validation Accuracy: 0.2000.\n",
      "-----------------------------------\n",
      "Epoch 16\n",
      "-----------------------------------\n"
     ]
    },
    {
     "data": {
      "application/vnd.jupyter.widget-view+json": {
       "model_id": "5010233fe6154c249d74ca1a2abe5655",
       "version_major": 2,
       "version_minor": 0
      },
      "text/plain": [
       "Training:   0%|          | 0/3 [00:00<?, ?it/s]"
      ]
     },
     "metadata": {},
     "output_type": "display_data"
    },
    {
     "name": "stdout",
     "output_type": "stream",
     "text": [
      "Training Loss: 2.9237. Validation Loss: 1.8398.\n",
      "Training Accuracy: 0.0215. Validation Accuracy: 0.3143.\n",
      "-----------------------------------\n",
      "Epoch 17\n",
      "-----------------------------------\n"
     ]
    },
    {
     "data": {
      "application/vnd.jupyter.widget-view+json": {
       "model_id": "f5230cba723346adafb7666ea0391969",
       "version_major": 2,
       "version_minor": 0
      },
      "text/plain": [
       "Training:   0%|          | 0/3 [00:00<?, ?it/s]"
      ]
     },
     "metadata": {},
     "output_type": "display_data"
    },
    {
     "name": "stdout",
     "output_type": "stream",
     "text": [
      "Training Loss: 2.8313. Validation Loss: 1.8431.\n",
      "Training Accuracy: 0.1459. Validation Accuracy: 0.1429.\n",
      "-----------------------------------\n",
      "Epoch 18\n",
      "-----------------------------------\n"
     ]
    },
    {
     "data": {
      "application/vnd.jupyter.widget-view+json": {
       "model_id": "ac3771ab57e44c85b7e2da8a13eb18e0",
       "version_major": 2,
       "version_minor": 0
      },
      "text/plain": [
       "Training:   0%|          | 0/3 [00:00<?, ?it/s]"
      ]
     },
     "metadata": {},
     "output_type": "display_data"
    },
    {
     "name": "stdout",
     "output_type": "stream",
     "text": [
      "Training Loss: 2.8771. Validation Loss: 1.9466.\n",
      "Training Accuracy: 0.0507. Validation Accuracy: 0.2000.\n",
      "-----------------------------------\n",
      "Epoch 19\n",
      "-----------------------------------\n"
     ]
    },
    {
     "data": {
      "application/vnd.jupyter.widget-view+json": {
       "model_id": "c7096262af2a41ddbdeb413ed4474c08",
       "version_major": 2,
       "version_minor": 0
      },
      "text/plain": [
       "Training:   0%|          | 0/3 [00:00<?, ?it/s]"
      ]
     },
     "metadata": {},
     "output_type": "display_data"
    },
    {
     "name": "stdout",
     "output_type": "stream",
     "text": [
      "Training Loss: 2.9250. Validation Loss: 1.8364.\n",
      "Training Accuracy: 0.0154. Validation Accuracy: 0.3143.\n",
      "-----------------------------------\n",
      "Epoch 20\n",
      "-----------------------------------\n"
     ]
    },
    {
     "data": {
      "application/vnd.jupyter.widget-view+json": {
       "model_id": "92c13ec6ac8c48bf98508dbcdf74206a",
       "version_major": 2,
       "version_minor": 0
      },
      "text/plain": [
       "Training:   0%|          | 0/3 [00:00<?, ?it/s]"
      ]
     },
     "metadata": {},
     "output_type": "display_data"
    },
    {
     "name": "stderr",
     "output_type": "stream",
     "text": [
      "[I 2024-12-08 13:54:44,440] Trial 11 finished with value: 60.33701181411743 and parameters: {'kernel_size': 1024, 'stride': 256, 'fourier_size': 8192, 'enc_hidden': 16, 'dec_hidden': 256, 'lr': 0.1, 'step_size': 20, 'gamma': 0.1}. Best is trial 11 with value: 60.33701181411743.\n"
     ]
    },
    {
     "name": "stdout",
     "output_type": "stream",
     "text": [
      "Training Loss: 2.8493. Validation Loss: 1.8588.\n",
      "Training Accuracy: 0.1444. Validation Accuracy: 0.1429.\n",
      "-----------------------------------\n",
      "Epoch 1\n",
      "-----------------------------------\n"
     ]
    },
    {
     "data": {
      "application/vnd.jupyter.widget-view+json": {
       "model_id": "02cb0ad97f08490aafbbdf87b7e72d2b",
       "version_major": 2,
       "version_minor": 0
      },
      "text/plain": [
       "Training:   0%|          | 0/3 [00:00<?, ?it/s]"
      ]
     },
     "metadata": {},
     "output_type": "display_data"
    },
    {
     "name": "stdout",
     "output_type": "stream",
     "text": [
      "Training Loss: 3.1090. Validation Loss: 2.1919.\n",
      "Training Accuracy: 0.0829. Validation Accuracy: 0.1429.\n",
      "-----------------------------------\n",
      "Epoch 2\n",
      "-----------------------------------\n"
     ]
    },
    {
     "data": {
      "application/vnd.jupyter.widget-view+json": {
       "model_id": "18096e20bdef4c26a408917ec242c703",
       "version_major": 2,
       "version_minor": 0
      },
      "text/plain": [
       "Training:   0%|          | 0/3 [00:00<?, ?it/s]"
      ]
     },
     "metadata": {},
     "output_type": "display_data"
    },
    {
     "name": "stdout",
     "output_type": "stream",
     "text": [
      "Training Loss: 3.5919. Validation Loss: 2.2051.\n",
      "Training Accuracy: 0.0906. Validation Accuracy: 0.3143.\n",
      "-----------------------------------\n",
      "Epoch 3\n",
      "-----------------------------------\n"
     ]
    },
    {
     "data": {
      "application/vnd.jupyter.widget-view+json": {
       "model_id": "ca8ef04d3ca045a0b5ac42b7434dc990",
       "version_major": 2,
       "version_minor": 0
      },
      "text/plain": [
       "Training:   0%|          | 0/3 [00:00<?, ?it/s]"
      ]
     },
     "metadata": {},
     "output_type": "display_data"
    },
    {
     "name": "stdout",
     "output_type": "stream",
     "text": [
      "Training Loss: 3.1182. Validation Loss: 2.5591.\n",
      "Training Accuracy: 0.0276. Validation Accuracy: 0.0000.\n",
      "-----------------------------------\n",
      "Epoch 4\n",
      "-----------------------------------\n"
     ]
    },
    {
     "data": {
      "application/vnd.jupyter.widget-view+json": {
       "model_id": "c5917db0446a4215a1183ddad5662dd3",
       "version_major": 2,
       "version_minor": 0
      },
      "text/plain": [
       "Training:   0%|          | 0/3 [00:00<?, ?it/s]"
      ]
     },
     "metadata": {},
     "output_type": "display_data"
    },
    {
     "name": "stdout",
     "output_type": "stream",
     "text": [
      "Training Loss: 2.8523. Validation Loss: 2.4263.\n",
      "Training Accuracy: 0.1813. Validation Accuracy: 0.0000.\n",
      "-----------------------------------\n",
      "Epoch 5\n",
      "-----------------------------------\n"
     ]
    },
    {
     "data": {
      "application/vnd.jupyter.widget-view+json": {
       "model_id": "afdcf8ce97f94666be8e7c6873e554da",
       "version_major": 2,
       "version_minor": 0
      },
      "text/plain": [
       "Training:   0%|          | 0/3 [00:00<?, ?it/s]"
      ]
     },
     "metadata": {},
     "output_type": "display_data"
    },
    {
     "name": "stdout",
     "output_type": "stream",
     "text": [
      "Training Loss: 2.7110. Validation Loss: 2.1435.\n",
      "Training Accuracy: 0.1736. Validation Accuracy: 0.1429.\n",
      "-----------------------------------\n",
      "Epoch 6\n",
      "-----------------------------------\n"
     ]
    },
    {
     "data": {
      "application/vnd.jupyter.widget-view+json": {
       "model_id": "dafd6cabaa71481dbb7c636906514717",
       "version_major": 2,
       "version_minor": 0
      },
      "text/plain": [
       "Training:   0%|          | 0/3 [00:00<?, ?it/s]"
      ]
     },
     "metadata": {},
     "output_type": "display_data"
    },
    {
     "name": "stdout",
     "output_type": "stream",
     "text": [
      "Training Loss: 2.7457. Validation Loss: 2.0329.\n",
      "Training Accuracy: 0.1060. Validation Accuracy: 0.2286.\n",
      "-----------------------------------\n",
      "Epoch 7\n",
      "-----------------------------------\n"
     ]
    },
    {
     "data": {
      "application/vnd.jupyter.widget-view+json": {
       "model_id": "dd65263d3b374f6eac07da25905691ed",
       "version_major": 2,
       "version_minor": 0
      },
      "text/plain": [
       "Training:   0%|          | 0/3 [00:00<?, ?it/s]"
      ]
     },
     "metadata": {},
     "output_type": "display_data"
    },
    {
     "name": "stdout",
     "output_type": "stream",
     "text": [
      "Training Loss: 2.7812. Validation Loss: 2.0205.\n",
      "Training Accuracy: 0.0998. Validation Accuracy: 0.3429.\n",
      "-----------------------------------\n",
      "Epoch 8\n",
      "-----------------------------------\n"
     ]
    },
    {
     "data": {
      "application/vnd.jupyter.widget-view+json": {
       "model_id": "720a2eab7bbc420f8403eb29de07be90",
       "version_major": 2,
       "version_minor": 0
      },
      "text/plain": [
       "Training:   0%|          | 0/3 [00:00<?, ?it/s]"
      ]
     },
     "metadata": {},
     "output_type": "display_data"
    },
    {
     "name": "stdout",
     "output_type": "stream",
     "text": [
      "Training Loss: 2.7370. Validation Loss: 2.0830.\n",
      "Training Accuracy: 0.0307. Validation Accuracy: 0.1714.\n",
      "-----------------------------------\n",
      "Epoch 9\n",
      "-----------------------------------\n"
     ]
    },
    {
     "data": {
      "application/vnd.jupyter.widget-view+json": {
       "model_id": "7a8413a48ddb46d5810667825868041c",
       "version_major": 2,
       "version_minor": 0
      },
      "text/plain": [
       "Training:   0%|          | 0/3 [00:00<?, ?it/s]"
      ]
     },
     "metadata": {},
     "output_type": "display_data"
    },
    {
     "name": "stdout",
     "output_type": "stream",
     "text": [
      "Training Loss: 2.6945. Validation Loss: 2.1279.\n",
      "Training Accuracy: 0.0184. Validation Accuracy: 0.1714.\n",
      "-----------------------------------\n",
      "Epoch 10\n",
      "-----------------------------------\n"
     ]
    },
    {
     "data": {
      "application/vnd.jupyter.widget-view+json": {
       "model_id": "8a93cf5210024d39946a5efb9b420e8e",
       "version_major": 2,
       "version_minor": 0
      },
      "text/plain": [
       "Training:   0%|          | 0/3 [00:00<?, ?it/s]"
      ]
     },
     "metadata": {},
     "output_type": "display_data"
    },
    {
     "name": "stdout",
     "output_type": "stream",
     "text": [
      "Training Loss: 2.6619. Validation Loss: 2.0640.\n",
      "Training Accuracy: 0.0461. Validation Accuracy: 0.1714.\n",
      "-----------------------------------\n",
      "Epoch 11\n",
      "-----------------------------------\n"
     ]
    },
    {
     "data": {
      "application/vnd.jupyter.widget-view+json": {
       "model_id": "fdfbb65d1ce84e8d82c4bbaa1acf075a",
       "version_major": 2,
       "version_minor": 0
      },
      "text/plain": [
       "Training:   0%|          | 0/3 [00:00<?, ?it/s]"
      ]
     },
     "metadata": {},
     "output_type": "display_data"
    },
    {
     "name": "stdout",
     "output_type": "stream",
     "text": [
      "Training Loss: 2.6549. Validation Loss: 1.9679.\n",
      "Training Accuracy: 0.1045. Validation Accuracy: 0.2286.\n",
      "-----------------------------------\n",
      "Epoch 12\n",
      "-----------------------------------\n"
     ]
    },
    {
     "data": {
      "application/vnd.jupyter.widget-view+json": {
       "model_id": "10589033b4b74624b3636afd50f5c0b6",
       "version_major": 2,
       "version_minor": 0
      },
      "text/plain": [
       "Training:   0%|          | 0/3 [00:00<?, ?it/s]"
      ]
     },
     "metadata": {},
     "output_type": "display_data"
    },
    {
     "name": "stdout",
     "output_type": "stream",
     "text": [
      "Training Loss: 2.6662. Validation Loss: 1.9314.\n",
      "Training Accuracy: 0.1137. Validation Accuracy: 0.1714.\n",
      "-----------------------------------\n",
      "Epoch 13\n",
      "-----------------------------------\n"
     ]
    },
    {
     "data": {
      "application/vnd.jupyter.widget-view+json": {
       "model_id": "1d237168a7db48fd9be825fe0779d0dd",
       "version_major": 2,
       "version_minor": 0
      },
      "text/plain": [
       "Training:   0%|          | 0/3 [00:00<?, ?it/s]"
      ]
     },
     "metadata": {},
     "output_type": "display_data"
    },
    {
     "name": "stdout",
     "output_type": "stream",
     "text": [
      "Training Loss: 2.6763. Validation Loss: 1.9635.\n",
      "Training Accuracy: 0.0891. Validation Accuracy: 0.1714.\n",
      "-----------------------------------\n",
      "Epoch 14\n",
      "-----------------------------------\n"
     ]
    },
    {
     "data": {
      "application/vnd.jupyter.widget-view+json": {
       "model_id": "9fd6983c7e454110951b0f93ec120916",
       "version_major": 2,
       "version_minor": 0
      },
      "text/plain": [
       "Training:   0%|          | 0/3 [00:00<?, ?it/s]"
      ]
     },
     "metadata": {},
     "output_type": "display_data"
    },
    {
     "name": "stdout",
     "output_type": "stream",
     "text": [
      "Training Loss: 2.6683. Validation Loss: 2.0072.\n",
      "Training Accuracy: 0.0584. Validation Accuracy: 0.1714.\n",
      "-----------------------------------\n",
      "Epoch 15\n",
      "-----------------------------------\n"
     ]
    },
    {
     "data": {
      "application/vnd.jupyter.widget-view+json": {
       "model_id": "766c7e120b9145d290153fc40e08d1bd",
       "version_major": 2,
       "version_minor": 0
      },
      "text/plain": [
       "Training:   0%|          | 0/3 [00:00<?, ?it/s]"
      ]
     },
     "metadata": {},
     "output_type": "display_data"
    },
    {
     "name": "stdout",
     "output_type": "stream",
     "text": [
      "Training Loss: 2.6586. Validation Loss: 2.0031.\n",
      "Training Accuracy: 0.0553. Validation Accuracy: 0.2286.\n",
      "-----------------------------------\n",
      "Epoch 16\n",
      "-----------------------------------\n"
     ]
    },
    {
     "data": {
      "application/vnd.jupyter.widget-view+json": {
       "model_id": "8b74d38b925841a0bccc2ed4f8e76c8b",
       "version_major": 2,
       "version_minor": 0
      },
      "text/plain": [
       "Training:   0%|          | 0/3 [00:00<?, ?it/s]"
      ]
     },
     "metadata": {},
     "output_type": "display_data"
    },
    {
     "name": "stdout",
     "output_type": "stream",
     "text": [
      "Training Loss: 2.6518. Validation Loss: 1.9674.\n",
      "Training Accuracy: 0.0461. Validation Accuracy: 0.1714.\n",
      "-----------------------------------\n",
      "Epoch 17\n",
      "-----------------------------------\n"
     ]
    },
    {
     "data": {
      "application/vnd.jupyter.widget-view+json": {
       "model_id": "0f5dba1b6e5b453caa734a5def5a77dd",
       "version_major": 2,
       "version_minor": 0
      },
      "text/plain": [
       "Training:   0%|          | 0/3 [00:00<?, ?it/s]"
      ]
     },
     "metadata": {},
     "output_type": "display_data"
    },
    {
     "name": "stdout",
     "output_type": "stream",
     "text": [
      "Training Loss: 2.6503. Validation Loss: 1.9160.\n",
      "Training Accuracy: 0.0876. Validation Accuracy: 0.1714.\n",
      "-----------------------------------\n",
      "Epoch 18\n",
      "-----------------------------------\n"
     ]
    },
    {
     "data": {
      "application/vnd.jupyter.widget-view+json": {
       "model_id": "3ba997aeb67d40b382f35c4c098f6096",
       "version_major": 2,
       "version_minor": 0
      },
      "text/plain": [
       "Training:   0%|          | 0/3 [00:00<?, ?it/s]"
      ]
     },
     "metadata": {},
     "output_type": "display_data"
    },
    {
     "name": "stdout",
     "output_type": "stream",
     "text": [
      "Training Loss: 2.6789. Validation Loss: 1.9594.\n",
      "Training Accuracy: 0.0722. Validation Accuracy: 0.1714.\n",
      "-----------------------------------\n",
      "Epoch 19\n",
      "-----------------------------------\n"
     ]
    },
    {
     "data": {
      "application/vnd.jupyter.widget-view+json": {
       "model_id": "93f269134a974c03be56bf12a945754c",
       "version_major": 2,
       "version_minor": 0
      },
      "text/plain": [
       "Training:   0%|          | 0/3 [00:00<?, ?it/s]"
      ]
     },
     "metadata": {},
     "output_type": "display_data"
    },
    {
     "name": "stdout",
     "output_type": "stream",
     "text": [
      "Training Loss: 2.6726. Validation Loss: 1.9868.\n",
      "Training Accuracy: 0.0461. Validation Accuracy: 0.1714.\n",
      "-----------------------------------\n",
      "Epoch 20\n",
      "-----------------------------------\n"
     ]
    },
    {
     "data": {
      "application/vnd.jupyter.widget-view+json": {
       "model_id": "811b423a429145be863ab5b185a2af63",
       "version_major": 2,
       "version_minor": 0
      },
      "text/plain": [
       "Training:   0%|          | 0/3 [00:00<?, ?it/s]"
      ]
     },
     "metadata": {},
     "output_type": "display_data"
    },
    {
     "name": "stderr",
     "output_type": "stream",
     "text": [
      "[I 2024-12-08 13:54:58,372] Trial 12 finished with value: 67.06101417541504 and parameters: {'kernel_size': 1024, 'stride': 512, 'fourier_size': 8192, 'enc_hidden': 16, 'dec_hidden': 64, 'lr': 0.1, 'step_size': 20, 'gamma': 0.1}. Best is trial 11 with value: 60.33701181411743.\n"
     ]
    },
    {
     "name": "stdout",
     "output_type": "stream",
     "text": [
      "Training Loss: 2.6499. Validation Loss: 1.9776.\n",
      "Training Accuracy: 0.0461. Validation Accuracy: 0.1714.\n",
      "-----------------------------------\n",
      "Epoch 1\n",
      "-----------------------------------\n"
     ]
    },
    {
     "data": {
      "application/vnd.jupyter.widget-view+json": {
       "model_id": "8cfedb4a2f824b1fb712606171af9fa6",
       "version_major": 2,
       "version_minor": 0
      },
      "text/plain": [
       "Training:   0%|          | 0/3 [00:00<?, ?it/s]"
      ]
     },
     "metadata": {},
     "output_type": "display_data"
    },
    {
     "name": "stdout",
     "output_type": "stream",
     "text": [
      "Training Loss: 3.8101. Validation Loss: 2.7306.\n",
      "Training Accuracy: 0.0307. Validation Accuracy: 0.2286.\n",
      "-----------------------------------\n",
      "Epoch 2\n",
      "-----------------------------------\n"
     ]
    },
    {
     "data": {
      "application/vnd.jupyter.widget-view+json": {
       "model_id": "532c18de36c84a3f9414be36a14607d6",
       "version_major": 2,
       "version_minor": 0
      },
      "text/plain": [
       "Training:   0%|          | 0/3 [00:00<?, ?it/s]"
      ]
     },
     "metadata": {},
     "output_type": "display_data"
    },
    {
     "name": "stdout",
     "output_type": "stream",
     "text": [
      "Training Loss: 4.6717. Validation Loss: 2.3115.\n",
      "Training Accuracy: 0.0630. Validation Accuracy: 0.3429.\n",
      "-----------------------------------\n",
      "Epoch 3\n",
      "-----------------------------------\n"
     ]
    },
    {
     "data": {
      "application/vnd.jupyter.widget-view+json": {
       "model_id": "9e6f7382dcc94c09964e15076c252e7e",
       "version_major": 2,
       "version_minor": 0
      },
      "text/plain": [
       "Training:   0%|          | 0/3 [00:00<?, ?it/s]"
      ]
     },
     "metadata": {},
     "output_type": "display_data"
    },
    {
     "name": "stdout",
     "output_type": "stream",
     "text": [
      "Training Loss: 3.9096. Validation Loss: 2.4334.\n",
      "Training Accuracy: 0.0000. Validation Accuracy: 0.2000.\n",
      "-----------------------------------\n",
      "Epoch 4\n",
      "-----------------------------------\n"
     ]
    },
    {
     "data": {
      "application/vnd.jupyter.widget-view+json": {
       "model_id": "3a92d02ac2394ffd94af94d2c24c3273",
       "version_major": 2,
       "version_minor": 0
      },
      "text/plain": [
       "Training:   0%|          | 0/3 [00:00<?, ?it/s]"
      ]
     },
     "metadata": {},
     "output_type": "display_data"
    },
    {
     "name": "stdout",
     "output_type": "stream",
     "text": [
      "Training Loss: 2.9437. Validation Loss: 2.5530.\n",
      "Training Accuracy: 0.0891. Validation Accuracy: 0.1429.\n",
      "-----------------------------------\n",
      "Epoch 5\n",
      "-----------------------------------\n"
     ]
    },
    {
     "data": {
      "application/vnd.jupyter.widget-view+json": {
       "model_id": "5a64ee5e6ed7456d94d72085e4e328d1",
       "version_major": 2,
       "version_minor": 0
      },
      "text/plain": [
       "Training:   0%|          | 0/3 [00:00<?, ?it/s]"
      ]
     },
     "metadata": {},
     "output_type": "display_data"
    },
    {
     "name": "stdout",
     "output_type": "stream",
     "text": [
      "Training Loss: 3.0468. Validation Loss: 2.1935.\n",
      "Training Accuracy: 0.1490. Validation Accuracy: 0.1429.\n",
      "-----------------------------------\n",
      "Epoch 6\n",
      "-----------------------------------\n"
     ]
    },
    {
     "data": {
      "application/vnd.jupyter.widget-view+json": {
       "model_id": "646b861274394fef9f21d68f2f90d83c",
       "version_major": 2,
       "version_minor": 0
      },
      "text/plain": [
       "Training:   0%|          | 0/3 [00:00<?, ?it/s]"
      ]
     },
     "metadata": {},
     "output_type": "display_data"
    },
    {
     "name": "stdout",
     "output_type": "stream",
     "text": [
      "Training Loss: 2.9513. Validation Loss: 1.9250.\n",
      "Training Accuracy: 0.0538. Validation Accuracy: 0.3143.\n",
      "-----------------------------------\n",
      "Epoch 7\n",
      "-----------------------------------\n"
     ]
    },
    {
     "data": {
      "application/vnd.jupyter.widget-view+json": {
       "model_id": "bbf9b70d6c5a491880df0cf07db27a65",
       "version_major": 2,
       "version_minor": 0
      },
      "text/plain": [
       "Training:   0%|          | 0/3 [00:00<?, ?it/s]"
      ]
     },
     "metadata": {},
     "output_type": "display_data"
    },
    {
     "name": "stdout",
     "output_type": "stream",
     "text": [
      "Training Loss: 2.8718. Validation Loss: 1.8169.\n",
      "Training Accuracy: 0.0399. Validation Accuracy: 0.3429.\n",
      "-----------------------------------\n",
      "Epoch 8\n",
      "-----------------------------------\n"
     ]
    },
    {
     "data": {
      "application/vnd.jupyter.widget-view+json": {
       "model_id": "ee884698eb934a7eb29c92412983fee1",
       "version_major": 2,
       "version_minor": 0
      },
      "text/plain": [
       "Training:   0%|          | 0/3 [00:00<?, ?it/s]"
      ]
     },
     "metadata": {},
     "output_type": "display_data"
    },
    {
     "name": "stdout",
     "output_type": "stream",
     "text": [
      "Training Loss: 2.7416. Validation Loss: 1.9323.\n",
      "Training Accuracy: 0.0906. Validation Accuracy: 0.1429.\n",
      "-----------------------------------\n",
      "Epoch 9\n",
      "-----------------------------------\n"
     ]
    },
    {
     "data": {
      "application/vnd.jupyter.widget-view+json": {
       "model_id": "8bbb9a00be3a4fe69e4c995faf7a3593",
       "version_major": 2,
       "version_minor": 0
      },
      "text/plain": [
       "Training:   0%|          | 0/3 [00:00<?, ?it/s]"
      ]
     },
     "metadata": {},
     "output_type": "display_data"
    },
    {
     "name": "stdout",
     "output_type": "stream",
     "text": [
      "Training Loss: 2.8155. Validation Loss: 1.9275.\n",
      "Training Accuracy: 0.0707. Validation Accuracy: 0.1429.\n",
      "-----------------------------------\n",
      "Epoch 10\n",
      "-----------------------------------\n"
     ]
    },
    {
     "data": {
      "application/vnd.jupyter.widget-view+json": {
       "model_id": "95eededaf3ed4328bcb0f9f1e24a8639",
       "version_major": 2,
       "version_minor": 0
      },
      "text/plain": [
       "Training:   0%|          | 0/3 [00:00<?, ?it/s]"
      ]
     },
     "metadata": {},
     "output_type": "display_data"
    },
    {
     "name": "stdout",
     "output_type": "stream",
     "text": [
      "Training Loss: 2.7781. Validation Loss: 1.8935.\n",
      "Training Accuracy: 0.1106. Validation Accuracy: 0.3143.\n",
      "-----------------------------------\n",
      "Epoch 11\n",
      "-----------------------------------\n"
     ]
    },
    {
     "data": {
      "application/vnd.jupyter.widget-view+json": {
       "model_id": "f37e55023c7b40a691871c68163830ef",
       "version_major": 2,
       "version_minor": 0
      },
      "text/plain": [
       "Training:   0%|          | 0/3 [00:00<?, ?it/s]"
      ]
     },
     "metadata": {},
     "output_type": "display_data"
    },
    {
     "name": "stdout",
     "output_type": "stream",
     "text": [
      "Training Loss: 2.6516. Validation Loss: 1.8609.\n",
      "Training Accuracy: 0.1336. Validation Accuracy: 0.1429.\n",
      "-----------------------------------\n",
      "Epoch 12\n",
      "-----------------------------------\n"
     ]
    },
    {
     "data": {
      "application/vnd.jupyter.widget-view+json": {
       "model_id": "e6e8f95523784c868cd0dd5c8e970b19",
       "version_major": 2,
       "version_minor": 0
      },
      "text/plain": [
       "Training:   0%|          | 0/3 [00:00<?, ?it/s]"
      ]
     },
     "metadata": {},
     "output_type": "display_data"
    },
    {
     "name": "stdout",
     "output_type": "stream",
     "text": [
      "Training Loss: 2.6554. Validation Loss: 1.8747.\n",
      "Training Accuracy: 0.1705. Validation Accuracy: 0.1429.\n",
      "-----------------------------------\n",
      "Epoch 13\n",
      "-----------------------------------\n"
     ]
    },
    {
     "data": {
      "application/vnd.jupyter.widget-view+json": {
       "model_id": "deb885bf85234de2a15413ebaa7ac70b",
       "version_major": 2,
       "version_minor": 0
      },
      "text/plain": [
       "Training:   0%|          | 0/3 [00:00<?, ?it/s]"
      ]
     },
     "metadata": {},
     "output_type": "display_data"
    },
    {
     "name": "stdout",
     "output_type": "stream",
     "text": [
      "Training Loss: 2.6782. Validation Loss: 1.8771.\n",
      "Training Accuracy: 0.1705. Validation Accuracy: 0.1714.\n",
      "-----------------------------------\n",
      "Epoch 14\n",
      "-----------------------------------\n"
     ]
    },
    {
     "data": {
      "application/vnd.jupyter.widget-view+json": {
       "model_id": "75e4ad358f86441bbf36da9fccb3b77f",
       "version_major": 2,
       "version_minor": 0
      },
      "text/plain": [
       "Training:   0%|          | 0/3 [00:00<?, ?it/s]"
      ]
     },
     "metadata": {},
     "output_type": "display_data"
    },
    {
     "name": "stdout",
     "output_type": "stream",
     "text": [
      "Training Loss: 2.6060. Validation Loss: 1.8965.\n",
      "Training Accuracy: 0.1229. Validation Accuracy: 0.1429.\n",
      "-----------------------------------\n",
      "Epoch 15\n",
      "-----------------------------------\n"
     ]
    },
    {
     "data": {
      "application/vnd.jupyter.widget-view+json": {
       "model_id": "496551a6f1884b8cbc98bfb9535f6071",
       "version_major": 2,
       "version_minor": 0
      },
      "text/plain": [
       "Training:   0%|          | 0/3 [00:00<?, ?it/s]"
      ]
     },
     "metadata": {},
     "output_type": "display_data"
    },
    {
     "name": "stdout",
     "output_type": "stream",
     "text": [
      "Training Loss: 2.5804. Validation Loss: 1.8364.\n",
      "Training Accuracy: 0.1229. Validation Accuracy: 0.1429.\n",
      "-----------------------------------\n",
      "Epoch 16\n",
      "-----------------------------------\n"
     ]
    },
    {
     "data": {
      "application/vnd.jupyter.widget-view+json": {
       "model_id": "f718241041484c89ad49eb485c5605bb",
       "version_major": 2,
       "version_minor": 0
      },
      "text/plain": [
       "Training:   0%|          | 0/3 [00:00<?, ?it/s]"
      ]
     },
     "metadata": {},
     "output_type": "display_data"
    },
    {
     "name": "stdout",
     "output_type": "stream",
     "text": [
      "Training Loss: 2.5393. Validation Loss: 1.8516.\n",
      "Training Accuracy: 0.2350. Validation Accuracy: 0.1429.\n",
      "-----------------------------------\n",
      "Epoch 17\n",
      "-----------------------------------\n"
     ]
    },
    {
     "data": {
      "application/vnd.jupyter.widget-view+json": {
       "model_id": "8a7875fdcc1b4bb0915341ab08ac9417",
       "version_major": 2,
       "version_minor": 0
      },
      "text/plain": [
       "Training:   0%|          | 0/3 [00:00<?, ?it/s]"
      ]
     },
     "metadata": {},
     "output_type": "display_data"
    },
    {
     "name": "stdout",
     "output_type": "stream",
     "text": [
      "Training Loss: 2.5427. Validation Loss: 1.8317.\n",
      "Training Accuracy: 0.1167. Validation Accuracy: 0.3143.\n",
      "-----------------------------------\n",
      "Epoch 18\n",
      "-----------------------------------\n"
     ]
    },
    {
     "data": {
      "application/vnd.jupyter.widget-view+json": {
       "model_id": "7110227575ba4486bc927b9b51c80197",
       "version_major": 2,
       "version_minor": 0
      },
      "text/plain": [
       "Training:   0%|          | 0/3 [00:00<?, ?it/s]"
      ]
     },
     "metadata": {},
     "output_type": "display_data"
    },
    {
     "name": "stdout",
     "output_type": "stream",
     "text": [
      "Training Loss: 2.5198. Validation Loss: 1.8953.\n",
      "Training Accuracy: 0.1444. Validation Accuracy: 0.1429.\n",
      "-----------------------------------\n",
      "Epoch 19\n",
      "-----------------------------------\n"
     ]
    },
    {
     "data": {
      "application/vnd.jupyter.widget-view+json": {
       "model_id": "569351a903e542a9966fd374fd0f97bd",
       "version_major": 2,
       "version_minor": 0
      },
      "text/plain": [
       "Training:   0%|          | 0/3 [00:00<?, ?it/s]"
      ]
     },
     "metadata": {},
     "output_type": "display_data"
    },
    {
     "name": "stdout",
     "output_type": "stream",
     "text": [
      "Training Loss: 2.4662. Validation Loss: 1.9208.\n",
      "Training Accuracy: 0.1336. Validation Accuracy: 0.1714.\n",
      "-----------------------------------\n",
      "Epoch 20\n",
      "-----------------------------------\n"
     ]
    },
    {
     "data": {
      "application/vnd.jupyter.widget-view+json": {
       "model_id": "a1e611040aa54ea390c595119e26cc76",
       "version_major": 2,
       "version_minor": 0
      },
      "text/plain": [
       "Training:   0%|          | 0/3 [00:00<?, ?it/s]"
      ]
     },
     "metadata": {},
     "output_type": "display_data"
    },
    {
     "name": "stderr",
     "output_type": "stream",
     "text": [
      "[I 2024-12-08 13:55:38,321] Trial 13 finished with value: 63.59140872955322 and parameters: {'kernel_size': 1024, 'stride': 256, 'fourier_size': 8192, 'enc_hidden': 16, 'dec_hidden': 256, 'lr': 0.05, 'step_size': 20, 'gamma': 0.1}. Best is trial 11 with value: 60.33701181411743.\n"
     ]
    },
    {
     "name": "stdout",
     "output_type": "stream",
     "text": [
      "Training Loss: 2.4076. Validation Loss: 1.8597.\n",
      "Training Accuracy: 0.1982. Validation Accuracy: 0.1429.\n",
      "-----------------------------------\n",
      "Epoch 1\n",
      "-----------------------------------\n"
     ]
    },
    {
     "data": {
      "application/vnd.jupyter.widget-view+json": {
       "model_id": "eee9e5b3d2874590a04a25fe42bd3fd4",
       "version_major": 2,
       "version_minor": 0
      },
      "text/plain": [
       "Training:   0%|          | 0/3 [00:00<?, ?it/s]"
      ]
     },
     "metadata": {},
     "output_type": "display_data"
    },
    {
     "name": "stdout",
     "output_type": "stream",
     "text": [
      "Training Loss: 6.3530. Validation Loss: 3.9537.\n",
      "Training Accuracy: 0.0276. Validation Accuracy: 0.2286.\n",
      "-----------------------------------\n",
      "Epoch 2\n",
      "-----------------------------------\n"
     ]
    },
    {
     "data": {
      "application/vnd.jupyter.widget-view+json": {
       "model_id": "73df3c3b8a6e40e8bab90aca84bb3daa",
       "version_major": 2,
       "version_minor": 0
      },
      "text/plain": [
       "Training:   0%|          | 0/3 [00:00<?, ?it/s]"
      ]
     },
     "metadata": {},
     "output_type": "display_data"
    },
    {
     "name": "stdout",
     "output_type": "stream",
     "text": [
      "Training Loss: 8.0160. Validation Loss: 3.5900.\n",
      "Training Accuracy: 0.0369. Validation Accuracy: 0.3143.\n",
      "-----------------------------------\n",
      "Epoch 3\n",
      "-----------------------------------\n"
     ]
    },
    {
     "data": {
      "application/vnd.jupyter.widget-view+json": {
       "model_id": "2dcb4377b12f475b8bc27db5841a70a2",
       "version_major": 2,
       "version_minor": 0
      },
      "text/plain": [
       "Training:   0%|          | 0/3 [00:00<?, ?it/s]"
      ]
     },
     "metadata": {},
     "output_type": "display_data"
    },
    {
     "name": "stdout",
     "output_type": "stream",
     "text": [
      "Training Loss: 8.8361. Validation Loss: 3.2818.\n",
      "Training Accuracy: 0.0138. Validation Accuracy: 0.2286.\n",
      "-----------------------------------\n",
      "Epoch 4\n",
      "-----------------------------------\n"
     ]
    },
    {
     "data": {
      "application/vnd.jupyter.widget-view+json": {
       "model_id": "28843258edfa45bb87bdb7bd4039a287",
       "version_major": 2,
       "version_minor": 0
      },
      "text/plain": [
       "Training:   0%|          | 0/3 [00:00<?, ?it/s]"
      ]
     },
     "metadata": {},
     "output_type": "display_data"
    },
    {
     "name": "stdout",
     "output_type": "stream",
     "text": [
      "Training Loss: 6.7600. Validation Loss: 3.9807.\n",
      "Training Accuracy: 0.0492. Validation Accuracy: 0.1429.\n",
      "-----------------------------------\n",
      "Epoch 5\n",
      "-----------------------------------\n"
     ]
    },
    {
     "data": {
      "application/vnd.jupyter.widget-view+json": {
       "model_id": "b1ad12598b1e467383398700c96bb9e3",
       "version_major": 2,
       "version_minor": 0
      },
      "text/plain": [
       "Training:   0%|          | 0/3 [00:00<?, ?it/s]"
      ]
     },
     "metadata": {},
     "output_type": "display_data"
    },
    {
     "name": "stdout",
     "output_type": "stream",
     "text": [
      "Training Loss: 5.8979. Validation Loss: 2.9762.\n",
      "Training Accuracy: 0.1582. Validation Accuracy: 0.1714.\n",
      "-----------------------------------\n",
      "Epoch 6\n",
      "-----------------------------------\n"
     ]
    },
    {
     "data": {
      "application/vnd.jupyter.widget-view+json": {
       "model_id": "ac63cf74a58c4b6790b15b87e48cc549",
       "version_major": 2,
       "version_minor": 0
      },
      "text/plain": [
       "Training:   0%|          | 0/3 [00:00<?, ?it/s]"
      ]
     },
     "metadata": {},
     "output_type": "display_data"
    },
    {
     "name": "stdout",
     "output_type": "stream",
     "text": [
      "Training Loss: 5.3951. Validation Loss: 2.1970.\n",
      "Training Accuracy: 0.0077. Validation Accuracy: 0.1429.\n",
      "-----------------------------------\n",
      "Epoch 7\n",
      "-----------------------------------\n"
     ]
    },
    {
     "data": {
      "application/vnd.jupyter.widget-view+json": {
       "model_id": "2c6c8eb4da004e06bc7cf86d29b41972",
       "version_major": 2,
       "version_minor": 0
      },
      "text/plain": [
       "Training:   0%|          | 0/3 [00:00<?, ?it/s]"
      ]
     },
     "metadata": {},
     "output_type": "display_data"
    },
    {
     "name": "stdout",
     "output_type": "stream",
     "text": [
      "Training Loss: 3.9503. Validation Loss: 2.5851.\n",
      "Training Accuracy: 0.0599. Validation Accuracy: 0.1429.\n",
      "-----------------------------------\n",
      "Epoch 8\n",
      "-----------------------------------\n"
     ]
    },
    {
     "data": {
      "application/vnd.jupyter.widget-view+json": {
       "model_id": "3589937bdd0c4239b2fa1b56d56dd024",
       "version_major": 2,
       "version_minor": 0
      },
      "text/plain": [
       "Training:   0%|          | 0/3 [00:00<?, ?it/s]"
      ]
     },
     "metadata": {},
     "output_type": "display_data"
    },
    {
     "name": "stdout",
     "output_type": "stream",
     "text": [
      "Training Loss: 4.2897. Validation Loss: 2.2341.\n",
      "Training Accuracy: 0.0630. Validation Accuracy: 0.1429.\n",
      "-----------------------------------\n",
      "Epoch 9\n",
      "-----------------------------------\n"
     ]
    },
    {
     "data": {
      "application/vnd.jupyter.widget-view+json": {
       "model_id": "8f38329284004b8293bd1b868e670369",
       "version_major": 2,
       "version_minor": 0
      },
      "text/plain": [
       "Training:   0%|          | 0/3 [00:00<?, ?it/s]"
      ]
     },
     "metadata": {},
     "output_type": "display_data"
    },
    {
     "name": "stdout",
     "output_type": "stream",
     "text": [
      "Training Loss: 4.1164. Validation Loss: 2.1038.\n",
      "Training Accuracy: 0.1429. Validation Accuracy: 0.1714.\n",
      "-----------------------------------\n",
      "Epoch 10\n",
      "-----------------------------------\n"
     ]
    },
    {
     "data": {
      "application/vnd.jupyter.widget-view+json": {
       "model_id": "c8aabe2a5ca440ddb921494954affc32",
       "version_major": 2,
       "version_minor": 0
      },
      "text/plain": [
       "Training:   0%|          | 0/3 [00:00<?, ?it/s]"
      ]
     },
     "metadata": {},
     "output_type": "display_data"
    },
    {
     "name": "stdout",
     "output_type": "stream",
     "text": [
      "Training Loss: 3.8515. Validation Loss: 2.3075.\n",
      "Training Accuracy: 0.0676. Validation Accuracy: 0.3143.\n",
      "-----------------------------------\n",
      "Epoch 11\n",
      "-----------------------------------\n"
     ]
    },
    {
     "data": {
      "application/vnd.jupyter.widget-view+json": {
       "model_id": "84a15a3d3a75430fa7384eaa3005442b",
       "version_major": 2,
       "version_minor": 0
      },
      "text/plain": [
       "Training:   0%|          | 0/3 [00:00<?, ?it/s]"
      ]
     },
     "metadata": {},
     "output_type": "display_data"
    },
    {
     "name": "stdout",
     "output_type": "stream",
     "text": [
      "Training Loss: 3.5955. Validation Loss: 2.5998.\n",
      "Training Accuracy: 0.0138. Validation Accuracy: 0.0000.\n",
      "-----------------------------------\n",
      "Epoch 12\n",
      "-----------------------------------\n"
     ]
    },
    {
     "data": {
      "application/vnd.jupyter.widget-view+json": {
       "model_id": "50e11b7d29984bc290c7cd291854d9d1",
       "version_major": 2,
       "version_minor": 0
      },
      "text/plain": [
       "Training:   0%|          | 0/3 [00:00<?, ?it/s]"
      ]
     },
     "metadata": {},
     "output_type": "display_data"
    },
    {
     "name": "stdout",
     "output_type": "stream",
     "text": [
      "Training Loss: 3.1798. Validation Loss: 1.9593.\n",
      "Training Accuracy: 0.1782. Validation Accuracy: 0.2000.\n",
      "-----------------------------------\n",
      "Epoch 13\n",
      "-----------------------------------\n"
     ]
    },
    {
     "data": {
      "application/vnd.jupyter.widget-view+json": {
       "model_id": "adfdf9c7882041a5b3539ab0dd7617ce",
       "version_major": 2,
       "version_minor": 0
      },
      "text/plain": [
       "Training:   0%|          | 0/3 [00:00<?, ?it/s]"
      ]
     },
     "metadata": {},
     "output_type": "display_data"
    },
    {
     "name": "stdout",
     "output_type": "stream",
     "text": [
      "Training Loss: 3.2610. Validation Loss: 1.9817.\n",
      "Training Accuracy: 0.0753. Validation Accuracy: 0.1429.\n",
      "-----------------------------------\n",
      "Epoch 14\n",
      "-----------------------------------\n"
     ]
    },
    {
     "data": {
      "application/vnd.jupyter.widget-view+json": {
       "model_id": "4698ece296c04e35a5d43fe0a52b78e8",
       "version_major": 2,
       "version_minor": 0
      },
      "text/plain": [
       "Training:   0%|          | 0/3 [00:00<?, ?it/s]"
      ]
     },
     "metadata": {},
     "output_type": "display_data"
    },
    {
     "name": "stdout",
     "output_type": "stream",
     "text": [
      "Training Loss: 3.1437. Validation Loss: 1.8938.\n",
      "Training Accuracy: 0.0645. Validation Accuracy: 0.1714.\n",
      "-----------------------------------\n",
      "Epoch 15\n",
      "-----------------------------------\n"
     ]
    },
    {
     "data": {
      "application/vnd.jupyter.widget-view+json": {
       "model_id": "729d159573cb4db096a12c3187161109",
       "version_major": 2,
       "version_minor": 0
      },
      "text/plain": [
       "Training:   0%|          | 0/3 [00:00<?, ?it/s]"
      ]
     },
     "metadata": {},
     "output_type": "display_data"
    },
    {
     "name": "stdout",
     "output_type": "stream",
     "text": [
      "Training Loss: 3.0025. Validation Loss: 1.9884.\n",
      "Training Accuracy: 0.0092. Validation Accuracy: 0.1429.\n",
      "-----------------------------------\n",
      "Epoch 16\n",
      "-----------------------------------\n"
     ]
    },
    {
     "data": {
      "application/vnd.jupyter.widget-view+json": {
       "model_id": "32440e4cf42b4de485f8c35d56a4a77e",
       "version_major": 2,
       "version_minor": 0
      },
      "text/plain": [
       "Training:   0%|          | 0/3 [00:00<?, ?it/s]"
      ]
     },
     "metadata": {},
     "output_type": "display_data"
    },
    {
     "name": "stdout",
     "output_type": "stream",
     "text": [
      "Training Loss: 2.9375. Validation Loss: 1.9001.\n",
      "Training Accuracy: 0.0599. Validation Accuracy: 0.1429.\n",
      "-----------------------------------\n",
      "Epoch 17\n",
      "-----------------------------------\n"
     ]
    },
    {
     "data": {
      "application/vnd.jupyter.widget-view+json": {
       "model_id": "927cffd0eda3451cb9d71c7c4e7b8e9b",
       "version_major": 2,
       "version_minor": 0
      },
      "text/plain": [
       "Training:   0%|          | 0/3 [00:00<?, ?it/s]"
      ]
     },
     "metadata": {},
     "output_type": "display_data"
    },
    {
     "name": "stdout",
     "output_type": "stream",
     "text": [
      "Training Loss: 3.0742. Validation Loss: 1.8363.\n",
      "Training Accuracy: 0.0353. Validation Accuracy: 0.3429.\n",
      "-----------------------------------\n",
      "Epoch 18\n",
      "-----------------------------------\n"
     ]
    },
    {
     "data": {
      "application/vnd.jupyter.widget-view+json": {
       "model_id": "21c56bd08ae1403a8522b332b6d1ae63",
       "version_major": 2,
       "version_minor": 0
      },
      "text/plain": [
       "Training:   0%|          | 0/3 [00:00<?, ?it/s]"
      ]
     },
     "metadata": {},
     "output_type": "display_data"
    },
    {
     "name": "stdout",
     "output_type": "stream",
     "text": [
      "Training Loss: 2.9897. Validation Loss: 2.0155.\n",
      "Training Accuracy: 0.0384. Validation Accuracy: 0.1429.\n",
      "-----------------------------------\n",
      "Epoch 19\n",
      "-----------------------------------\n"
     ]
    },
    {
     "data": {
      "application/vnd.jupyter.widget-view+json": {
       "model_id": "a5abca1f2a584cd79212889968b5917c",
       "version_major": 2,
       "version_minor": 0
      },
      "text/plain": [
       "Training:   0%|          | 0/3 [00:00<?, ?it/s]"
      ]
     },
     "metadata": {},
     "output_type": "display_data"
    },
    {
     "name": "stdout",
     "output_type": "stream",
     "text": [
      "Training Loss: 2.8905. Validation Loss: 1.9054.\n",
      "Training Accuracy: 0.0323. Validation Accuracy: 0.2000.\n",
      "-----------------------------------\n",
      "Epoch 20\n",
      "-----------------------------------\n"
     ]
    },
    {
     "data": {
      "application/vnd.jupyter.widget-view+json": {
       "model_id": "d32df5f51bb94c3e93a895c6ee1fe57c",
       "version_major": 2,
       "version_minor": 0
      },
      "text/plain": [
       "Training:   0%|          | 0/3 [00:00<?, ?it/s]"
      ]
     },
     "metadata": {},
     "output_type": "display_data"
    },
    {
     "name": "stderr",
     "output_type": "stream",
     "text": [
      "[I 2024-12-08 13:56:18,145] Trial 14 finished with value: 64.27189826965332 and parameters: {'kernel_size': 512, 'stride': 256, 'fourier_size': 2048, 'enc_hidden': 512, 'dec_hidden': 256, 'lr': 0.1, 'step_size': 20, 'gamma': 0.1}. Best is trial 11 with value: 60.33701181411743.\n"
     ]
    },
    {
     "name": "stdout",
     "output_type": "stream",
     "text": [
      "Training Loss: 2.9413. Validation Loss: 1.8701.\n",
      "Training Accuracy: 0.0522. Validation Accuracy: 0.1429.\n",
      "-----------------------------------\n",
      "Epoch 1\n",
      "-----------------------------------\n"
     ]
    },
    {
     "data": {
      "application/vnd.jupyter.widget-view+json": {
       "model_id": "33e4d9339f934d8fb390720185cd1c06",
       "version_major": 2,
       "version_minor": 0
      },
      "text/plain": [
       "Training:   0%|          | 0/3 [00:00<?, ?it/s]"
      ]
     },
     "metadata": {},
     "output_type": "display_data"
    },
    {
     "name": "stdout",
     "output_type": "stream",
     "text": [
      "Training Loss: 4.8201. Validation Loss: 3.4665.\n",
      "Training Accuracy: 0.0200. Validation Accuracy: 0.2286.\n",
      "-----------------------------------\n",
      "Epoch 2\n",
      "-----------------------------------\n"
     ]
    },
    {
     "data": {
      "application/vnd.jupyter.widget-view+json": {
       "model_id": "b13afc4ba5d34a01b1cec96266310cd6",
       "version_major": 2,
       "version_minor": 0
      },
      "text/plain": [
       "Training:   0%|          | 0/3 [00:00<?, ?it/s]"
      ]
     },
     "metadata": {},
     "output_type": "display_data"
    },
    {
     "name": "stdout",
     "output_type": "stream",
     "text": [
      "Training Loss: 10.0011. Validation Loss: 3.0324.\n",
      "Training Accuracy: 0.0937. Validation Accuracy: 0.1714.\n",
      "-----------------------------------\n",
      "Epoch 3\n",
      "-----------------------------------\n"
     ]
    },
    {
     "data": {
      "application/vnd.jupyter.widget-view+json": {
       "model_id": "30f6645b7d4140ccbd13bed3d2b8ea5e",
       "version_major": 2,
       "version_minor": 0
      },
      "text/plain": [
       "Training:   0%|          | 0/3 [00:00<?, ?it/s]"
      ]
     },
     "metadata": {},
     "output_type": "display_data"
    },
    {
     "name": "stdout",
     "output_type": "stream",
     "text": [
      "Training Loss: 7.7841. Validation Loss: 4.4268.\n",
      "Training Accuracy: 0.0307. Validation Accuracy: 0.1429.\n",
      "-----------------------------------\n",
      "Epoch 4\n",
      "-----------------------------------\n"
     ]
    },
    {
     "data": {
      "application/vnd.jupyter.widget-view+json": {
       "model_id": "399fd095834346a390da50057d55657d",
       "version_major": 2,
       "version_minor": 0
      },
      "text/plain": [
       "Training:   0%|          | 0/3 [00:00<?, ?it/s]"
      ]
     },
     "metadata": {},
     "output_type": "display_data"
    },
    {
     "name": "stdout",
     "output_type": "stream",
     "text": [
      "Training Loss: 5.4650. Validation Loss: 5.1632.\n",
      "Training Accuracy: 0.0261. Validation Accuracy: 0.2000.\n",
      "-----------------------------------\n",
      "Epoch 5\n",
      "-----------------------------------\n"
     ]
    },
    {
     "data": {
      "application/vnd.jupyter.widget-view+json": {
       "model_id": "d09482e91def41ec85e3453174fc4a18",
       "version_major": 2,
       "version_minor": 0
      },
      "text/plain": [
       "Training:   0%|          | 0/3 [00:00<?, ?it/s]"
      ]
     },
     "metadata": {},
     "output_type": "display_data"
    },
    {
     "name": "stdout",
     "output_type": "stream",
     "text": [
      "Training Loss: 5.6748. Validation Loss: 3.4323.\n",
      "Training Accuracy: 0.0108. Validation Accuracy: 0.2000.\n",
      "-----------------------------------\n",
      "Epoch 6\n",
      "-----------------------------------\n"
     ]
    },
    {
     "data": {
      "application/vnd.jupyter.widget-view+json": {
       "model_id": "6d4a7f2ce05d4ddfbb69f5db1fb179ef",
       "version_major": 2,
       "version_minor": 0
      },
      "text/plain": [
       "Training:   0%|          | 0/3 [00:00<?, ?it/s]"
      ]
     },
     "metadata": {},
     "output_type": "display_data"
    },
    {
     "name": "stdout",
     "output_type": "stream",
     "text": [
      "Training Loss: 4.4008. Validation Loss: 1.7987.\n",
      "Training Accuracy: 0.0891. Validation Accuracy: 0.3143.\n",
      "-----------------------------------\n",
      "Epoch 7\n",
      "-----------------------------------\n"
     ]
    },
    {
     "data": {
      "application/vnd.jupyter.widget-view+json": {
       "model_id": "7938cff76d0f4220bfe6c7d335dabbf5",
       "version_major": 2,
       "version_minor": 0
      },
      "text/plain": [
       "Training:   0%|          | 0/3 [00:00<?, ?it/s]"
      ]
     },
     "metadata": {},
     "output_type": "display_data"
    },
    {
     "name": "stdout",
     "output_type": "stream",
     "text": [
      "Training Loss: 4.7563. Validation Loss: 2.2568.\n",
      "Training Accuracy: 0.0399. Validation Accuracy: 0.1714.\n",
      "-----------------------------------\n",
      "Epoch 8\n",
      "-----------------------------------\n"
     ]
    },
    {
     "data": {
      "application/vnd.jupyter.widget-view+json": {
       "model_id": "ed5b5e53efc1491da7ba10b6f3e51397",
       "version_major": 2,
       "version_minor": 0
      },
      "text/plain": [
       "Training:   0%|          | 0/3 [00:00<?, ?it/s]"
      ]
     },
     "metadata": {},
     "output_type": "display_data"
    },
    {
     "name": "stdout",
     "output_type": "stream",
     "text": [
      "Training Loss: 4.1939. Validation Loss: 2.7359.\n",
      "Training Accuracy: 0.0369. Validation Accuracy: 0.1714.\n",
      "-----------------------------------\n",
      "Epoch 9\n",
      "-----------------------------------\n"
     ]
    },
    {
     "data": {
      "application/vnd.jupyter.widget-view+json": {
       "model_id": "bdbd932789994465ac66b7ba23da1283",
       "version_major": 2,
       "version_minor": 0
      },
      "text/plain": [
       "Training:   0%|          | 0/3 [00:00<?, ?it/s]"
      ]
     },
     "metadata": {},
     "output_type": "display_data"
    },
    {
     "name": "stdout",
     "output_type": "stream",
     "text": [
      "Training Loss: 3.7869. Validation Loss: 1.9539.\n",
      "Training Accuracy: 0.0783. Validation Accuracy: 0.2000.\n",
      "-----------------------------------\n",
      "Epoch 10\n",
      "-----------------------------------\n"
     ]
    },
    {
     "data": {
      "application/vnd.jupyter.widget-view+json": {
       "model_id": "7f6716f04ece4af090a1ec0e94eaac21",
       "version_major": 2,
       "version_minor": 0
      },
      "text/plain": [
       "Training:   0%|          | 0/3 [00:00<?, ?it/s]"
      ]
     },
     "metadata": {},
     "output_type": "display_data"
    },
    {
     "name": "stdout",
     "output_type": "stream",
     "text": [
      "Training Loss: 3.5701. Validation Loss: 2.1169.\n",
      "Training Accuracy: 0.0722. Validation Accuracy: 0.3143.\n",
      "-----------------------------------\n",
      "Epoch 11\n",
      "-----------------------------------\n"
     ]
    },
    {
     "data": {
      "application/vnd.jupyter.widget-view+json": {
       "model_id": "e95c3e65fcbd4d898e051671dd86f579",
       "version_major": 2,
       "version_minor": 0
      },
      "text/plain": [
       "Training:   0%|          | 0/3 [00:00<?, ?it/s]"
      ]
     },
     "metadata": {},
     "output_type": "display_data"
    },
    {
     "name": "stdout",
     "output_type": "stream",
     "text": [
      "Training Loss: 3.6139. Validation Loss: 2.1816.\n",
      "Training Accuracy: 0.0323. Validation Accuracy: 0.1429.\n",
      "-----------------------------------\n",
      "Epoch 12\n",
      "-----------------------------------\n"
     ]
    },
    {
     "data": {
      "application/vnd.jupyter.widget-view+json": {
       "model_id": "49b940e92d064cdbaf0340d8e0f4f888",
       "version_major": 2,
       "version_minor": 0
      },
      "text/plain": [
       "Training:   0%|          | 0/3 [00:00<?, ?it/s]"
      ]
     },
     "metadata": {},
     "output_type": "display_data"
    },
    {
     "name": "stdout",
     "output_type": "stream",
     "text": [
      "Training Loss: 3.3165. Validation Loss: 2.0926.\n",
      "Training Accuracy: 0.0261. Validation Accuracy: 0.1429.\n",
      "-----------------------------------\n",
      "Epoch 13\n",
      "-----------------------------------\n"
     ]
    },
    {
     "data": {
      "application/vnd.jupyter.widget-view+json": {
       "model_id": "90c960e044a5430a8dc83676665aeb65",
       "version_major": 2,
       "version_minor": 0
      },
      "text/plain": [
       "Training:   0%|          | 0/3 [00:00<?, ?it/s]"
      ]
     },
     "metadata": {},
     "output_type": "display_data"
    },
    {
     "name": "stdout",
     "output_type": "stream",
     "text": [
      "Training Loss: 3.3705. Validation Loss: 1.7312.\n",
      "Training Accuracy: 0.0722. Validation Accuracy: 0.3143.\n",
      "-----------------------------------\n",
      "Epoch 14\n",
      "-----------------------------------\n"
     ]
    },
    {
     "data": {
      "application/vnd.jupyter.widget-view+json": {
       "model_id": "8547a713df9b42a882bd4510865e9151",
       "version_major": 2,
       "version_minor": 0
      },
      "text/plain": [
       "Training:   0%|          | 0/3 [00:00<?, ?it/s]"
      ]
     },
     "metadata": {},
     "output_type": "display_data"
    },
    {
     "name": "stdout",
     "output_type": "stream",
     "text": [
      "Training Loss: 3.2842. Validation Loss: 1.8671.\n",
      "Training Accuracy: 0.1889. Validation Accuracy: 0.1429.\n",
      "-----------------------------------\n",
      "Epoch 15\n",
      "-----------------------------------\n"
     ]
    },
    {
     "data": {
      "application/vnd.jupyter.widget-view+json": {
       "model_id": "44c8a27dc4684533bdf90bcf525e573d",
       "version_major": 2,
       "version_minor": 0
      },
      "text/plain": [
       "Training:   0%|          | 0/3 [00:00<?, ?it/s]"
      ]
     },
     "metadata": {},
     "output_type": "display_data"
    },
    {
     "name": "stdout",
     "output_type": "stream",
     "text": [
      "Training Loss: 3.0924. Validation Loss: 1.7596.\n",
      "Training Accuracy: 0.0307. Validation Accuracy: 0.2000.\n",
      "-----------------------------------\n",
      "Epoch 16\n",
      "-----------------------------------\n"
     ]
    },
    {
     "data": {
      "application/vnd.jupyter.widget-view+json": {
       "model_id": "b213c48d08d648c0a12206dea21b78a2",
       "version_major": 2,
       "version_minor": 0
      },
      "text/plain": [
       "Training:   0%|          | 0/3 [00:00<?, ?it/s]"
      ]
     },
     "metadata": {},
     "output_type": "display_data"
    },
    {
     "name": "stdout",
     "output_type": "stream",
     "text": [
      "Training Loss: 3.0756. Validation Loss: 1.9343.\n",
      "Training Accuracy: 0.0476. Validation Accuracy: 0.1429.\n",
      "-----------------------------------\n",
      "Epoch 17\n",
      "-----------------------------------\n"
     ]
    },
    {
     "data": {
      "application/vnd.jupyter.widget-view+json": {
       "model_id": "f4cd82917e6143d09c99f54f438f2496",
       "version_major": 2,
       "version_minor": 0
      },
      "text/plain": [
       "Training:   0%|          | 0/3 [00:00<?, ?it/s]"
      ]
     },
     "metadata": {},
     "output_type": "display_data"
    },
    {
     "name": "stdout",
     "output_type": "stream",
     "text": [
      "Training Loss: 3.0590. Validation Loss: 1.8847.\n",
      "Training Accuracy: 0.1551. Validation Accuracy: 0.1429.\n",
      "-----------------------------------\n",
      "Epoch 18\n",
      "-----------------------------------\n"
     ]
    },
    {
     "data": {
      "application/vnd.jupyter.widget-view+json": {
       "model_id": "571cc419552041a0ac3e8d38107d44a5",
       "version_major": 2,
       "version_minor": 0
      },
      "text/plain": [
       "Training:   0%|          | 0/3 [00:00<?, ?it/s]"
      ]
     },
     "metadata": {},
     "output_type": "display_data"
    },
    {
     "name": "stdout",
     "output_type": "stream",
     "text": [
      "Training Loss: 3.1358. Validation Loss: 1.8332.\n",
      "Training Accuracy: 0.0461. Validation Accuracy: 0.2000.\n",
      "-----------------------------------\n",
      "Epoch 19\n",
      "-----------------------------------\n"
     ]
    },
    {
     "data": {
      "application/vnd.jupyter.widget-view+json": {
       "model_id": "2df12fc533594ac3a6accbc7cc67423c",
       "version_major": 2,
       "version_minor": 0
      },
      "text/plain": [
       "Training:   0%|          | 0/3 [00:00<?, ?it/s]"
      ]
     },
     "metadata": {},
     "output_type": "display_data"
    },
    {
     "name": "stdout",
     "output_type": "stream",
     "text": [
      "Training Loss: 2.9302. Validation Loss: 1.8884.\n",
      "Training Accuracy: 0.0353. Validation Accuracy: 0.1714.\n",
      "-----------------------------------\n",
      "Epoch 20\n",
      "-----------------------------------\n"
     ]
    },
    {
     "data": {
      "application/vnd.jupyter.widget-view+json": {
       "model_id": "43ad7a2533ad4898ad663d38e24826d1",
       "version_major": 2,
       "version_minor": 0
      },
      "text/plain": [
       "Training:   0%|          | 0/3 [00:00<?, ?it/s]"
      ]
     },
     "metadata": {},
     "output_type": "display_data"
    },
    {
     "name": "stderr",
     "output_type": "stream",
     "text": [
      "[I 2024-12-08 13:56:56,396] Trial 15 finished with value: 60.5930757522583 and parameters: {'kernel_size': 1024, 'stride': 256, 'fourier_size': 8192, 'enc_hidden': 64, 'dec_hidden': 256, 'lr': 0.1, 'step_size': 20, 'gamma': 0.1}. Best is trial 11 with value: 60.33701181411743.\n"
     ]
    },
    {
     "name": "stdout",
     "output_type": "stream",
     "text": [
      "Training Loss: 3.0813. Validation Loss: 1.8516.\n",
      "Training Accuracy: 0.0184. Validation Accuracy: 0.2000.\n",
      "-----------------------------------\n",
      "Epoch 1\n",
      "-----------------------------------\n"
     ]
    },
    {
     "data": {
      "application/vnd.jupyter.widget-view+json": {
       "model_id": "23566c9a55e34861a696934052ac3f89",
       "version_major": 2,
       "version_minor": 0
      },
      "text/plain": [
       "Training:   0%|          | 0/3 [00:00<?, ?it/s]"
      ]
     },
     "metadata": {},
     "output_type": "display_data"
    },
    {
     "name": "stdout",
     "output_type": "stream",
     "text": [
      "Training Loss: 3.0701. Validation Loss: 3.0470.\n",
      "Training Accuracy: 0.0430. Validation Accuracy: 0.0000.\n",
      "-----------------------------------\n",
      "Epoch 2\n",
      "-----------------------------------\n"
     ]
    },
    {
     "data": {
      "application/vnd.jupyter.widget-view+json": {
       "model_id": "89c144175f20427bbf1f6ba93a350cd9",
       "version_major": 2,
       "version_minor": 0
      },
      "text/plain": [
       "Training:   0%|          | 0/3 [00:00<?, ?it/s]"
      ]
     },
     "metadata": {},
     "output_type": "display_data"
    },
    {
     "name": "stdout",
     "output_type": "stream",
     "text": [
      "Training Loss: 2.9837. Validation Loss: 2.9484.\n",
      "Training Accuracy: 0.0399. Validation Accuracy: 0.0000.\n",
      "-----------------------------------\n",
      "Epoch 3\n",
      "-----------------------------------\n"
     ]
    },
    {
     "data": {
      "application/vnd.jupyter.widget-view+json": {
       "model_id": "59a95bc68d774331bc7a45e857d1cc49",
       "version_major": 2,
       "version_minor": 0
      },
      "text/plain": [
       "Training:   0%|          | 0/3 [00:00<?, ?it/s]"
      ]
     },
     "metadata": {},
     "output_type": "display_data"
    },
    {
     "name": "stdout",
     "output_type": "stream",
     "text": [
      "Training Loss: 2.9262. Validation Loss: 2.8534.\n",
      "Training Accuracy: 0.0661. Validation Accuracy: 0.1429.\n",
      "-----------------------------------\n",
      "Epoch 4\n",
      "-----------------------------------\n"
     ]
    },
    {
     "data": {
      "application/vnd.jupyter.widget-view+json": {
       "model_id": "6a74fa310ffa484bbdc1017243d4104e",
       "version_major": 2,
       "version_minor": 0
      },
      "text/plain": [
       "Training:   0%|          | 0/3 [00:00<?, ?it/s]"
      ]
     },
     "metadata": {},
     "output_type": "display_data"
    },
    {
     "name": "stdout",
     "output_type": "stream",
     "text": [
      "Training Loss: 2.9040. Validation Loss: 2.8305.\n",
      "Training Accuracy: 0.0799. Validation Accuracy: 0.1429.\n",
      "-----------------------------------\n",
      "Epoch 5\n",
      "-----------------------------------\n"
     ]
    },
    {
     "data": {
      "application/vnd.jupyter.widget-view+json": {
       "model_id": "fb89abee218c41039e0dc9d1ce891681",
       "version_major": 2,
       "version_minor": 0
      },
      "text/plain": [
       "Training:   0%|          | 0/3 [00:00<?, ?it/s]"
      ]
     },
     "metadata": {},
     "output_type": "display_data"
    },
    {
     "name": "stdout",
     "output_type": "stream",
     "text": [
      "Training Loss: 2.8878. Validation Loss: 2.8196.\n",
      "Training Accuracy: 0.0922. Validation Accuracy: 0.1429.\n",
      "-----------------------------------\n",
      "Epoch 6\n",
      "-----------------------------------\n"
     ]
    },
    {
     "data": {
      "application/vnd.jupyter.widget-view+json": {
       "model_id": "0e2a5e9442e1461ab0d913f8653b7d19",
       "version_major": 2,
       "version_minor": 0
      },
      "text/plain": [
       "Training:   0%|          | 0/3 [00:00<?, ?it/s]"
      ]
     },
     "metadata": {},
     "output_type": "display_data"
    },
    {
     "name": "stdout",
     "output_type": "stream",
     "text": [
      "Training Loss: 2.8745. Validation Loss: 2.8025.\n",
      "Training Accuracy: 0.0707. Validation Accuracy: 0.1429.\n",
      "-----------------------------------\n",
      "Epoch 7\n",
      "-----------------------------------\n"
     ]
    },
    {
     "data": {
      "application/vnd.jupyter.widget-view+json": {
       "model_id": "ac891b2adfde4042bcb5bb50ae210326",
       "version_major": 2,
       "version_minor": 0
      },
      "text/plain": [
       "Training:   0%|          | 0/3 [00:00<?, ?it/s]"
      ]
     },
     "metadata": {},
     "output_type": "display_data"
    },
    {
     "name": "stdout",
     "output_type": "stream",
     "text": [
      "Training Loss: 2.8651. Validation Loss: 2.7815.\n",
      "Training Accuracy: 0.0753. Validation Accuracy: 0.1429.\n",
      "-----------------------------------\n",
      "Epoch 8\n",
      "-----------------------------------\n"
     ]
    },
    {
     "data": {
      "application/vnd.jupyter.widget-view+json": {
       "model_id": "9bac3711f7bf43b7978933b1903e1a0b",
       "version_major": 2,
       "version_minor": 0
      },
      "text/plain": [
       "Training:   0%|          | 0/3 [00:00<?, ?it/s]"
      ]
     },
     "metadata": {},
     "output_type": "display_data"
    },
    {
     "name": "stdout",
     "output_type": "stream",
     "text": [
      "Training Loss: 2.8342. Validation Loss: 2.7141.\n",
      "Training Accuracy: 0.0937. Validation Accuracy: 0.1429.\n",
      "-----------------------------------\n",
      "Epoch 9\n",
      "-----------------------------------\n"
     ]
    },
    {
     "data": {
      "application/vnd.jupyter.widget-view+json": {
       "model_id": "b3a3ca43937247338a4110ce299466bb",
       "version_major": 2,
       "version_minor": 0
      },
      "text/plain": [
       "Training:   0%|          | 0/3 [00:00<?, ?it/s]"
      ]
     },
     "metadata": {},
     "output_type": "display_data"
    },
    {
     "name": "stdout",
     "output_type": "stream",
     "text": [
      "Training Loss: 2.8301. Validation Loss: 2.6252.\n",
      "Training Accuracy: 0.0799. Validation Accuracy: 0.1429.\n",
      "-----------------------------------\n",
      "Epoch 10\n",
      "-----------------------------------\n"
     ]
    },
    {
     "data": {
      "application/vnd.jupyter.widget-view+json": {
       "model_id": "66b95baf25054d15a5267560eeb0e4cd",
       "version_major": 2,
       "version_minor": 0
      },
      "text/plain": [
       "Training:   0%|          | 0/3 [00:00<?, ?it/s]"
      ]
     },
     "metadata": {},
     "output_type": "display_data"
    },
    {
     "name": "stdout",
     "output_type": "stream",
     "text": [
      "Training Loss: 2.8283. Validation Loss: 2.5893.\n",
      "Training Accuracy: 0.0983. Validation Accuracy: 0.1429.\n",
      "-----------------------------------\n",
      "Epoch 11\n",
      "-----------------------------------\n"
     ]
    },
    {
     "data": {
      "application/vnd.jupyter.widget-view+json": {
       "model_id": "49f05bdd34214698af3edc0bb7c125b0",
       "version_major": 2,
       "version_minor": 0
      },
      "text/plain": [
       "Training:   0%|          | 0/3 [00:00<?, ?it/s]"
      ]
     },
     "metadata": {},
     "output_type": "display_data"
    },
    {
     "name": "stdout",
     "output_type": "stream",
     "text": [
      "Training Loss: 2.8210. Validation Loss: 2.5436.\n",
      "Training Accuracy: 0.0860. Validation Accuracy: 0.1429.\n",
      "-----------------------------------\n",
      "Epoch 12\n",
      "-----------------------------------\n"
     ]
    },
    {
     "data": {
      "application/vnd.jupyter.widget-view+json": {
       "model_id": "f592b0713f254f5c824c06cbaa31abdc",
       "version_major": 2,
       "version_minor": 0
      },
      "text/plain": [
       "Training:   0%|          | 0/3 [00:00<?, ?it/s]"
      ]
     },
     "metadata": {},
     "output_type": "display_data"
    },
    {
     "name": "stdout",
     "output_type": "stream",
     "text": [
      "Training Loss: 2.8056. Validation Loss: 2.5146.\n",
      "Training Accuracy: 0.1121. Validation Accuracy: 0.2000.\n",
      "-----------------------------------\n",
      "Epoch 13\n",
      "-----------------------------------\n"
     ]
    },
    {
     "data": {
      "application/vnd.jupyter.widget-view+json": {
       "model_id": "8202ce3243534a50b6fa1ec47f854d3b",
       "version_major": 2,
       "version_minor": 0
      },
      "text/plain": [
       "Training:   0%|          | 0/3 [00:00<?, ?it/s]"
      ]
     },
     "metadata": {},
     "output_type": "display_data"
    },
    {
     "name": "stdout",
     "output_type": "stream",
     "text": [
      "Training Loss: 2.7997. Validation Loss: 2.5015.\n",
      "Training Accuracy: 0.0968. Validation Accuracy: 0.2286.\n",
      "-----------------------------------\n",
      "Epoch 14\n",
      "-----------------------------------\n"
     ]
    },
    {
     "data": {
      "application/vnd.jupyter.widget-view+json": {
       "model_id": "6dac1e6635a74bc6b8159e24d979f2c8",
       "version_major": 2,
       "version_minor": 0
      },
      "text/plain": [
       "Training:   0%|          | 0/3 [00:00<?, ?it/s]"
      ]
     },
     "metadata": {},
     "output_type": "display_data"
    },
    {
     "name": "stdout",
     "output_type": "stream",
     "text": [
      "Training Loss: 2.8090. Validation Loss: 2.4854.\n",
      "Training Accuracy: 0.0768. Validation Accuracy: 0.2000.\n",
      "-----------------------------------\n",
      "Epoch 15\n",
      "-----------------------------------\n"
     ]
    },
    {
     "data": {
      "application/vnd.jupyter.widget-view+json": {
       "model_id": "13fee5ca04b04cbd9e86428729072e26",
       "version_major": 2,
       "version_minor": 0
      },
      "text/plain": [
       "Training:   0%|          | 0/3 [00:00<?, ?it/s]"
      ]
     },
     "metadata": {},
     "output_type": "display_data"
    },
    {
     "name": "stdout",
     "output_type": "stream",
     "text": [
      "Training Loss: 2.7930. Validation Loss: 2.4737.\n",
      "Training Accuracy: 0.1060. Validation Accuracy: 0.2000.\n",
      "-----------------------------------\n",
      "Epoch 16\n",
      "-----------------------------------\n"
     ]
    },
    {
     "data": {
      "application/vnd.jupyter.widget-view+json": {
       "model_id": "4738be5ee6c34ef48f16dd1429b51531",
       "version_major": 2,
       "version_minor": 0
      },
      "text/plain": [
       "Training:   0%|          | 0/3 [00:00<?, ?it/s]"
      ]
     },
     "metadata": {},
     "output_type": "display_data"
    },
    {
     "name": "stdout",
     "output_type": "stream",
     "text": [
      "Training Loss: 2.7957. Validation Loss: 2.4482.\n",
      "Training Accuracy: 0.0937. Validation Accuracy: 0.2000.\n",
      "-----------------------------------\n",
      "Epoch 17\n",
      "-----------------------------------\n"
     ]
    },
    {
     "data": {
      "application/vnd.jupyter.widget-view+json": {
       "model_id": "c16e01a41dcb4a57b0f19ea03ec7d49e",
       "version_major": 2,
       "version_minor": 0
      },
      "text/plain": [
       "Training:   0%|          | 0/3 [00:00<?, ?it/s]"
      ]
     },
     "metadata": {},
     "output_type": "display_data"
    },
    {
     "name": "stdout",
     "output_type": "stream",
     "text": [
      "Training Loss: 2.7991. Validation Loss: 2.4423.\n",
      "Training Accuracy: 0.1029. Validation Accuracy: 0.1714.\n",
      "-----------------------------------\n",
      "Epoch 18\n",
      "-----------------------------------\n"
     ]
    },
    {
     "data": {
      "application/vnd.jupyter.widget-view+json": {
       "model_id": "e926519d53e9495d8c38d5fabfade2d3",
       "version_major": 2,
       "version_minor": 0
      },
      "text/plain": [
       "Training:   0%|          | 0/3 [00:00<?, ?it/s]"
      ]
     },
     "metadata": {},
     "output_type": "display_data"
    },
    {
     "name": "stdout",
     "output_type": "stream",
     "text": [
      "Training Loss: 2.7993. Validation Loss: 2.4393.\n",
      "Training Accuracy: 0.1029. Validation Accuracy: 0.1714.\n",
      "-----------------------------------\n",
      "Epoch 19\n",
      "-----------------------------------\n"
     ]
    },
    {
     "data": {
      "application/vnd.jupyter.widget-view+json": {
       "model_id": "f8d23f226d94425e9c6b4f7d899f9997",
       "version_major": 2,
       "version_minor": 0
      },
      "text/plain": [
       "Training:   0%|          | 0/3 [00:00<?, ?it/s]"
      ]
     },
     "metadata": {},
     "output_type": "display_data"
    },
    {
     "name": "stdout",
     "output_type": "stream",
     "text": [
      "Training Loss: 2.7963. Validation Loss: 2.4277.\n",
      "Training Accuracy: 0.0937. Validation Accuracy: 0.1714.\n",
      "-----------------------------------\n",
      "Epoch 20\n",
      "-----------------------------------\n"
     ]
    },
    {
     "data": {
      "application/vnd.jupyter.widget-view+json": {
       "model_id": "ecb88ca9992b43ab99822d16f3d9993b",
       "version_major": 2,
       "version_minor": 0
      },
      "text/plain": [
       "Training:   0%|          | 0/3 [00:00<?, ?it/s]"
      ]
     },
     "metadata": {},
     "output_type": "display_data"
    },
    {
     "name": "stderr",
     "output_type": "stream",
     "text": [
      "[I 2024-12-08 13:57:11,357] Trial 16 finished with value: 84.66090798377991 and parameters: {'kernel_size': 1024, 'stride': 512, 'fourier_size': 8192, 'enc_hidden': 64, 'dec_hidden': 64, 'lr': 0.001, 'step_size': 20, 'gamma': 0.1}. Best is trial 11 with value: 60.33701181411743.\n"
     ]
    },
    {
     "name": "stdout",
     "output_type": "stream",
     "text": [
      "Training Loss: 2.7907. Validation Loss: 2.4189.\n",
      "Training Accuracy: 0.1014. Validation Accuracy: 0.1714.\n",
      "-----------------------------------\n",
      "Epoch 1\n",
      "-----------------------------------\n"
     ]
    },
    {
     "data": {
      "application/vnd.jupyter.widget-view+json": {
       "model_id": "359b16780092451fb2a70c7fcf80abd0",
       "version_major": 2,
       "version_minor": 0
      },
      "text/plain": [
       "Training:   0%|          | 0/3 [00:00<?, ?it/s]"
      ]
     },
     "metadata": {},
     "output_type": "display_data"
    },
    {
     "name": "stdout",
     "output_type": "stream",
     "text": [
      "Training Loss: 2.9777. Validation Loss: 2.7589.\n",
      "Training Accuracy: 0.1029. Validation Accuracy: 0.1429.\n",
      "-----------------------------------\n",
      "Epoch 2\n",
      "-----------------------------------\n"
     ]
    },
    {
     "data": {
      "application/vnd.jupyter.widget-view+json": {
       "model_id": "83beb731ed4f4a4b951ac9771804fe64",
       "version_major": 2,
       "version_minor": 0
      },
      "text/plain": [
       "Training:   0%|          | 0/3 [00:00<?, ?it/s]"
      ]
     },
     "metadata": {},
     "output_type": "display_data"
    },
    {
     "name": "stdout",
     "output_type": "stream",
     "text": [
      "Training Loss: 2.9400. Validation Loss: 2.4610.\n",
      "Training Accuracy: 0.1029. Validation Accuracy: 0.1429.\n",
      "-----------------------------------\n",
      "Epoch 3\n",
      "-----------------------------------\n"
     ]
    },
    {
     "data": {
      "application/vnd.jupyter.widget-view+json": {
       "model_id": "33a623fcc7e647b8bde03a8c179b506c",
       "version_major": 2,
       "version_minor": 0
      },
      "text/plain": [
       "Training:   0%|          | 0/3 [00:00<?, ?it/s]"
      ]
     },
     "metadata": {},
     "output_type": "display_data"
    },
    {
     "name": "stdout",
     "output_type": "stream",
     "text": [
      "Training Loss: 2.8154. Validation Loss: 2.3448.\n",
      "Training Accuracy: 0.0876. Validation Accuracy: 0.1429.\n",
      "-----------------------------------\n",
      "Epoch 4\n",
      "-----------------------------------\n"
     ]
    },
    {
     "data": {
      "application/vnd.jupyter.widget-view+json": {
       "model_id": "a33c9ecac01542ca8ce64408cb6ac9b0",
       "version_major": 2,
       "version_minor": 0
      },
      "text/plain": [
       "Training:   0%|          | 0/3 [00:00<?, ?it/s]"
      ]
     },
     "metadata": {},
     "output_type": "display_data"
    },
    {
     "name": "stdout",
     "output_type": "stream",
     "text": [
      "Training Loss: 2.8256. Validation Loss: 2.3208.\n",
      "Training Accuracy: 0.0937. Validation Accuracy: 0.1429.\n",
      "-----------------------------------\n",
      "Epoch 5\n",
      "-----------------------------------\n"
     ]
    },
    {
     "data": {
      "application/vnd.jupyter.widget-view+json": {
       "model_id": "648a5bf24b5a427a82c6b1862f37cdbc",
       "version_major": 2,
       "version_minor": 0
      },
      "text/plain": [
       "Training:   0%|          | 0/3 [00:00<?, ?it/s]"
      ]
     },
     "metadata": {},
     "output_type": "display_data"
    },
    {
     "name": "stdout",
     "output_type": "stream",
     "text": [
      "Training Loss: 2.8327. Validation Loss: 2.3271.\n",
      "Training Accuracy: 0.0922. Validation Accuracy: 0.1429.\n",
      "-----------------------------------\n",
      "Epoch 6\n",
      "-----------------------------------\n"
     ]
    },
    {
     "data": {
      "application/vnd.jupyter.widget-view+json": {
       "model_id": "a4a9bb64c333473b99cb469707253e10",
       "version_major": 2,
       "version_minor": 0
      },
      "text/plain": [
       "Training:   0%|          | 0/3 [00:00<?, ?it/s]"
      ]
     },
     "metadata": {},
     "output_type": "display_data"
    },
    {
     "name": "stdout",
     "output_type": "stream",
     "text": [
      "Training Loss: 2.8290. Validation Loss: 2.3517.\n",
      "Training Accuracy: 0.0968. Validation Accuracy: 0.1429.\n",
      "-----------------------------------\n",
      "Epoch 7\n",
      "-----------------------------------\n"
     ]
    },
    {
     "data": {
      "application/vnd.jupyter.widget-view+json": {
       "model_id": "cb8f7efdbf574d4686a1646d64e651d0",
       "version_major": 2,
       "version_minor": 0
      },
      "text/plain": [
       "Training:   0%|          | 0/3 [00:00<?, ?it/s]"
      ]
     },
     "metadata": {},
     "output_type": "display_data"
    },
    {
     "name": "stdout",
     "output_type": "stream",
     "text": [
      "Training Loss: 2.8151. Validation Loss: 2.3769.\n",
      "Training Accuracy: 0.0983. Validation Accuracy: 0.1429.\n",
      "-----------------------------------\n",
      "Epoch 8\n",
      "-----------------------------------\n"
     ]
    },
    {
     "data": {
      "application/vnd.jupyter.widget-view+json": {
       "model_id": "dad71c3163ef4abe8169247fc9288f33",
       "version_major": 2,
       "version_minor": 0
      },
      "text/plain": [
       "Training:   0%|          | 0/3 [00:00<?, ?it/s]"
      ]
     },
     "metadata": {},
     "output_type": "display_data"
    },
    {
     "name": "stdout",
     "output_type": "stream",
     "text": [
      "Training Loss: 2.8043. Validation Loss: 2.4653.\n",
      "Training Accuracy: 0.0507. Validation Accuracy: 0.1429.\n",
      "-----------------------------------\n",
      "Epoch 9\n",
      "-----------------------------------\n"
     ]
    },
    {
     "data": {
      "application/vnd.jupyter.widget-view+json": {
       "model_id": "a25942f3737d4f96841b30ade14e6d69",
       "version_major": 2,
       "version_minor": 0
      },
      "text/plain": [
       "Training:   0%|          | 0/3 [00:00<?, ?it/s]"
      ]
     },
     "metadata": {},
     "output_type": "display_data"
    },
    {
     "name": "stdout",
     "output_type": "stream",
     "text": [
      "Training Loss: 2.7880. Validation Loss: 2.4021.\n",
      "Training Accuracy: 0.0169. Validation Accuracy: 0.0000.\n",
      "-----------------------------------\n",
      "Epoch 10\n",
      "-----------------------------------\n"
     ]
    },
    {
     "data": {
      "application/vnd.jupyter.widget-view+json": {
       "model_id": "2f4f5e8e28ab421c8fce91465f2db073",
       "version_major": 2,
       "version_minor": 0
      },
      "text/plain": [
       "Training:   0%|          | 0/3 [00:00<?, ?it/s]"
      ]
     },
     "metadata": {},
     "output_type": "display_data"
    },
    {
     "name": "stdout",
     "output_type": "stream",
     "text": [
      "Training Loss: 2.7792. Validation Loss: 2.4047.\n",
      "Training Accuracy: 0.1321. Validation Accuracy: 0.1429.\n",
      "-----------------------------------\n",
      "Epoch 11\n",
      "-----------------------------------\n"
     ]
    },
    {
     "data": {
      "application/vnd.jupyter.widget-view+json": {
       "model_id": "1838da8ba9bb4d90ad85b5c9eab1df9a",
       "version_major": 2,
       "version_minor": 0
      },
      "text/plain": [
       "Training:   0%|          | 0/3 [00:00<?, ?it/s]"
      ]
     },
     "metadata": {},
     "output_type": "display_data"
    },
    {
     "name": "stdout",
     "output_type": "stream",
     "text": [
      "Training Loss: 2.7741. Validation Loss: 2.4042.\n",
      "Training Accuracy: 0.0169. Validation Accuracy: 0.1429.\n",
      "-----------------------------------\n",
      "Epoch 12\n",
      "-----------------------------------\n"
     ]
    },
    {
     "data": {
      "application/vnd.jupyter.widget-view+json": {
       "model_id": "fad96f4e1ecc4c78843443f80ca8a107",
       "version_major": 2,
       "version_minor": 0
      },
      "text/plain": [
       "Training:   0%|          | 0/3 [00:00<?, ?it/s]"
      ]
     },
     "metadata": {},
     "output_type": "display_data"
    },
    {
     "name": "stdout",
     "output_type": "stream",
     "text": [
      "Training Loss: 2.7718. Validation Loss: 2.3983.\n",
      "Training Accuracy: 0.0998. Validation Accuracy: 0.1714.\n",
      "-----------------------------------\n",
      "Epoch 13\n",
      "-----------------------------------\n"
     ]
    },
    {
     "data": {
      "application/vnd.jupyter.widget-view+json": {
       "model_id": "1714cac938a54ab88bc5b26f6c47f567",
       "version_major": 2,
       "version_minor": 0
      },
      "text/plain": [
       "Training:   0%|          | 0/3 [00:00<?, ?it/s]"
      ]
     },
     "metadata": {},
     "output_type": "display_data"
    },
    {
     "name": "stdout",
     "output_type": "stream",
     "text": [
      "Training Loss: 2.7712. Validation Loss: 2.3923.\n",
      "Training Accuracy: 0.1014. Validation Accuracy: 0.1714.\n",
      "-----------------------------------\n",
      "Epoch 14\n",
      "-----------------------------------\n"
     ]
    },
    {
     "data": {
      "application/vnd.jupyter.widget-view+json": {
       "model_id": "74a43cc11db44cca819c3f134642d5e9",
       "version_major": 2,
       "version_minor": 0
      },
      "text/plain": [
       "Training:   0%|          | 0/3 [00:00<?, ?it/s]"
      ]
     },
     "metadata": {},
     "output_type": "display_data"
    },
    {
     "name": "stdout",
     "output_type": "stream",
     "text": [
      "Training Loss: 2.7723. Validation Loss: 2.3892.\n",
      "Training Accuracy: 0.1014. Validation Accuracy: 0.1714.\n",
      "-----------------------------------\n",
      "Epoch 15\n",
      "-----------------------------------\n"
     ]
    },
    {
     "data": {
      "application/vnd.jupyter.widget-view+json": {
       "model_id": "b3db0b5dcbdb4625a93790a2ff45d8b2",
       "version_major": 2,
       "version_minor": 0
      },
      "text/plain": [
       "Training:   0%|          | 0/3 [00:00<?, ?it/s]"
      ]
     },
     "metadata": {},
     "output_type": "display_data"
    },
    {
     "name": "stdout",
     "output_type": "stream",
     "text": [
      "Training Loss: 2.7737. Validation Loss: 2.3855.\n",
      "Training Accuracy: 0.1014. Validation Accuracy: 0.1714.\n",
      "-----------------------------------\n",
      "Epoch 16\n",
      "-----------------------------------\n"
     ]
    },
    {
     "data": {
      "application/vnd.jupyter.widget-view+json": {
       "model_id": "e8677d68b879435d8b5bfa94c3c18648",
       "version_major": 2,
       "version_minor": 0
      },
      "text/plain": [
       "Training:   0%|          | 0/3 [00:00<?, ?it/s]"
      ]
     },
     "metadata": {},
     "output_type": "display_data"
    },
    {
     "name": "stdout",
     "output_type": "stream",
     "text": [
      "Training Loss: 2.7743. Validation Loss: 2.3802.\n",
      "Training Accuracy: 0.1014. Validation Accuracy: 0.1714.\n",
      "-----------------------------------\n",
      "Epoch 17\n",
      "-----------------------------------\n"
     ]
    },
    {
     "data": {
      "application/vnd.jupyter.widget-view+json": {
       "model_id": "1bb695621dc246d48a40d7e970e660b2",
       "version_major": 2,
       "version_minor": 0
      },
      "text/plain": [
       "Training:   0%|          | 0/3 [00:00<?, ?it/s]"
      ]
     },
     "metadata": {},
     "output_type": "display_data"
    },
    {
     "name": "stdout",
     "output_type": "stream",
     "text": [
      "Training Loss: 2.7743. Validation Loss: 2.3752.\n",
      "Training Accuracy: 0.1014. Validation Accuracy: 0.1714.\n",
      "-----------------------------------\n",
      "Epoch 18\n",
      "-----------------------------------\n"
     ]
    },
    {
     "data": {
      "application/vnd.jupyter.widget-view+json": {
       "model_id": "e032cf755bdb4546a4cd65f020b38206",
       "version_major": 2,
       "version_minor": 0
      },
      "text/plain": [
       "Training:   0%|          | 0/3 [00:00<?, ?it/s]"
      ]
     },
     "metadata": {},
     "output_type": "display_data"
    },
    {
     "name": "stdout",
     "output_type": "stream",
     "text": [
      "Training Loss: 2.7736. Validation Loss: 2.3715.\n",
      "Training Accuracy: 0.1014. Validation Accuracy: 0.1714.\n",
      "-----------------------------------\n",
      "Epoch 19\n",
      "-----------------------------------\n"
     ]
    },
    {
     "data": {
      "application/vnd.jupyter.widget-view+json": {
       "model_id": "582bd4539d6c45f7afa4887527a57143",
       "version_major": 2,
       "version_minor": 0
      },
      "text/plain": [
       "Training:   0%|          | 0/3 [00:00<?, ?it/s]"
      ]
     },
     "metadata": {},
     "output_type": "display_data"
    },
    {
     "name": "stdout",
     "output_type": "stream",
     "text": [
      "Training Loss: 2.7724. Validation Loss: 2.3690.\n",
      "Training Accuracy: 0.1014. Validation Accuracy: 0.1714.\n",
      "-----------------------------------\n",
      "Epoch 20\n",
      "-----------------------------------\n"
     ]
    },
    {
     "data": {
      "application/vnd.jupyter.widget-view+json": {
       "model_id": "b8823248090b47a688fdbdc16375b288",
       "version_major": 2,
       "version_minor": 0
      },
      "text/plain": [
       "Training:   0%|          | 0/3 [00:00<?, ?it/s]"
      ]
     },
     "metadata": {},
     "output_type": "display_data"
    },
    {
     "name": "stderr",
     "output_type": "stream",
     "text": [
      "[I 2024-12-08 13:57:26,080] Trial 17 finished with value: 81.22893691062927 and parameters: {'kernel_size': 1024, 'stride': 256, 'fourier_size': 8192, 'enc_hidden': 64, 'dec_hidden': 16, 'lr': 0.05, 'step_size': 20, 'gamma': 0.1}. Best is trial 11 with value: 60.33701181411743.\n"
     ]
    },
    {
     "name": "stdout",
     "output_type": "stream",
     "text": [
      "Training Loss: 2.7713. Validation Loss: 2.3676.\n",
      "Training Accuracy: 0.1014. Validation Accuracy: 0.1714.\n",
      "-----------------------------------\n",
      "Epoch 1\n",
      "-----------------------------------\n"
     ]
    },
    {
     "data": {
      "application/vnd.jupyter.widget-view+json": {
       "model_id": "500c99d5184640ddbe09189d428a2178",
       "version_major": 2,
       "version_minor": 0
      },
      "text/plain": [
       "Training:   0%|          | 0/3 [00:00<?, ?it/s]"
      ]
     },
     "metadata": {},
     "output_type": "display_data"
    },
    {
     "name": "stdout",
     "output_type": "stream",
     "text": [
      "Training Loss: 3.5828. Validation Loss: 1.7901.\n",
      "Training Accuracy: 0.0353. Validation Accuracy: 0.2571.\n",
      "-----------------------------------\n",
      "Epoch 2\n",
      "-----------------------------------\n"
     ]
    },
    {
     "data": {
      "application/vnd.jupyter.widget-view+json": {
       "model_id": "02226b1b9cd24e769183ff07ba989edd",
       "version_major": 2,
       "version_minor": 0
      },
      "text/plain": [
       "Training:   0%|          | 0/3 [00:00<?, ?it/s]"
      ]
     },
     "metadata": {},
     "output_type": "display_data"
    },
    {
     "name": "stdout",
     "output_type": "stream",
     "text": [
      "Training Loss: 7.1012. Validation Loss: 2.6111.\n",
      "Training Accuracy: 0.0384. Validation Accuracy: 0.1429.\n",
      "-----------------------------------\n",
      "Epoch 3\n",
      "-----------------------------------\n"
     ]
    },
    {
     "data": {
      "application/vnd.jupyter.widget-view+json": {
       "model_id": "e40c7d838c6449aaac2cb54770acf9ec",
       "version_major": 2,
       "version_minor": 0
      },
      "text/plain": [
       "Training:   0%|          | 0/3 [00:00<?, ?it/s]"
      ]
     },
     "metadata": {},
     "output_type": "display_data"
    },
    {
     "name": "stdout",
     "output_type": "stream",
     "text": [
      "Training Loss: 3.9430. Validation Loss: 2.3034.\n",
      "Training Accuracy: 0.0799. Validation Accuracy: 0.1429.\n",
      "-----------------------------------\n",
      "Epoch 4\n",
      "-----------------------------------\n"
     ]
    },
    {
     "data": {
      "application/vnd.jupyter.widget-view+json": {
       "model_id": "389575212ee649cd8a1e0741f4c8c473",
       "version_major": 2,
       "version_minor": 0
      },
      "text/plain": [
       "Training:   0%|          | 0/3 [00:00<?, ?it/s]"
      ]
     },
     "metadata": {},
     "output_type": "display_data"
    },
    {
     "name": "stdout",
     "output_type": "stream",
     "text": [
      "Training Loss: 3.6672. Validation Loss: 2.0923.\n",
      "Training Accuracy: 0.0829. Validation Accuracy: 0.2286.\n",
      "-----------------------------------\n",
      "Epoch 5\n",
      "-----------------------------------\n"
     ]
    },
    {
     "data": {
      "application/vnd.jupyter.widget-view+json": {
       "model_id": "ba9c3fd4a62e477d8d609ea2004c60bc",
       "version_major": 2,
       "version_minor": 0
      },
      "text/plain": [
       "Training:   0%|          | 0/3 [00:00<?, ?it/s]"
      ]
     },
     "metadata": {},
     "output_type": "display_data"
    },
    {
     "name": "stdout",
     "output_type": "stream",
     "text": [
      "Training Loss: 3.9992. Validation Loss: 3.0166.\n",
      "Training Accuracy: 0.0860. Validation Accuracy: 0.1714.\n",
      "-----------------------------------\n",
      "Epoch 6\n",
      "-----------------------------------\n"
     ]
    },
    {
     "data": {
      "application/vnd.jupyter.widget-view+json": {
       "model_id": "9fe3ab802c1d451fa343dcdac1fde644",
       "version_major": 2,
       "version_minor": 0
      },
      "text/plain": [
       "Training:   0%|          | 0/3 [00:00<?, ?it/s]"
      ]
     },
     "metadata": {},
     "output_type": "display_data"
    },
    {
     "name": "stdout",
     "output_type": "stream",
     "text": [
      "Training Loss: 3.2244. Validation Loss: 3.8996.\n",
      "Training Accuracy: 0.1490. Validation Accuracy: 0.0286.\n",
      "-----------------------------------\n",
      "Epoch 7\n",
      "-----------------------------------\n"
     ]
    },
    {
     "data": {
      "application/vnd.jupyter.widget-view+json": {
       "model_id": "438f8331d5e44b94af1dab4772b0afc3",
       "version_major": 2,
       "version_minor": 0
      },
      "text/plain": [
       "Training:   0%|          | 0/3 [00:00<?, ?it/s]"
      ]
     },
     "metadata": {},
     "output_type": "display_data"
    },
    {
     "name": "stdout",
     "output_type": "stream",
     "text": [
      "Training Loss: 2.7925. Validation Loss: 2.7379.\n",
      "Training Accuracy: 0.1935. Validation Accuracy: 0.2286.\n",
      "-----------------------------------\n",
      "Epoch 8\n",
      "-----------------------------------\n"
     ]
    },
    {
     "data": {
      "application/vnd.jupyter.widget-view+json": {
       "model_id": "9a7fade94fc44592a3124846864abfd7",
       "version_major": 2,
       "version_minor": 0
      },
      "text/plain": [
       "Training:   0%|          | 0/3 [00:00<?, ?it/s]"
      ]
     },
     "metadata": {},
     "output_type": "display_data"
    },
    {
     "name": "stdout",
     "output_type": "stream",
     "text": [
      "Training Loss: 3.0586. Validation Loss: 2.6169.\n",
      "Training Accuracy: 0.1551. Validation Accuracy: 0.1429.\n",
      "-----------------------------------\n",
      "Epoch 9\n",
      "-----------------------------------\n"
     ]
    },
    {
     "data": {
      "application/vnd.jupyter.widget-view+json": {
       "model_id": "e3ea3bacc5cd463d896346d55c8e4bcb",
       "version_major": 2,
       "version_minor": 0
      },
      "text/plain": [
       "Training:   0%|          | 0/3 [00:00<?, ?it/s]"
      ]
     },
     "metadata": {},
     "output_type": "display_data"
    },
    {
     "name": "stdout",
     "output_type": "stream",
     "text": [
      "Training Loss: 3.0614. Validation Loss: 2.9154.\n",
      "Training Accuracy: 0.1198. Validation Accuracy: 0.1429.\n",
      "-----------------------------------\n",
      "Epoch 10\n",
      "-----------------------------------\n"
     ]
    },
    {
     "data": {
      "application/vnd.jupyter.widget-view+json": {
       "model_id": "7d034ccb67ff42059e1fc7f0ecd9d882",
       "version_major": 2,
       "version_minor": 0
      },
      "text/plain": [
       "Training:   0%|          | 0/3 [00:00<?, ?it/s]"
      ]
     },
     "metadata": {},
     "output_type": "display_data"
    },
    {
     "name": "stdout",
     "output_type": "stream",
     "text": [
      "Training Loss: 2.7673. Validation Loss: 3.0267.\n",
      "Training Accuracy: 0.2012. Validation Accuracy: 0.1714.\n",
      "-----------------------------------\n",
      "Epoch 11\n",
      "-----------------------------------\n"
     ]
    },
    {
     "data": {
      "application/vnd.jupyter.widget-view+json": {
       "model_id": "a9c38b56a57147d58ca1915d432e4ee8",
       "version_major": 2,
       "version_minor": 0
      },
      "text/plain": [
       "Training:   0%|          | 0/3 [00:00<?, ?it/s]"
      ]
     },
     "metadata": {},
     "output_type": "display_data"
    },
    {
     "name": "stdout",
     "output_type": "stream",
     "text": [
      "Training Loss: 2.7815. Validation Loss: 2.3520.\n",
      "Training Accuracy: 0.2151. Validation Accuracy: 0.1714.\n",
      "-----------------------------------\n",
      "Epoch 12\n",
      "-----------------------------------\n"
     ]
    },
    {
     "data": {
      "application/vnd.jupyter.widget-view+json": {
       "model_id": "383c4ccec51c483fa975816048b4a9cb",
       "version_major": 2,
       "version_minor": 0
      },
      "text/plain": [
       "Training:   0%|          | 0/3 [00:00<?, ?it/s]"
      ]
     },
     "metadata": {},
     "output_type": "display_data"
    },
    {
     "name": "stdout",
     "output_type": "stream",
     "text": [
      "Training Loss: 2.8293. Validation Loss: 2.2738.\n",
      "Training Accuracy: 0.1720. Validation Accuracy: 0.3429.\n",
      "-----------------------------------\n",
      "Epoch 13\n",
      "-----------------------------------\n"
     ]
    },
    {
     "data": {
      "application/vnd.jupyter.widget-view+json": {
       "model_id": "72d4e12dc2844e879553df946cf94d7b",
       "version_major": 2,
       "version_minor": 0
      },
      "text/plain": [
       "Training:   0%|          | 0/3 [00:00<?, ?it/s]"
      ]
     },
     "metadata": {},
     "output_type": "display_data"
    },
    {
     "name": "stdout",
     "output_type": "stream",
     "text": [
      "Training Loss: 2.7623. Validation Loss: 2.2449.\n",
      "Training Accuracy: 0.1797. Validation Accuracy: 0.1714.\n",
      "-----------------------------------\n",
      "Epoch 14\n",
      "-----------------------------------\n"
     ]
    },
    {
     "data": {
      "application/vnd.jupyter.widget-view+json": {
       "model_id": "3f7197144a7b4a9bb096522b86c4186d",
       "version_major": 2,
       "version_minor": 0
      },
      "text/plain": [
       "Training:   0%|          | 0/3 [00:00<?, ?it/s]"
      ]
     },
     "metadata": {},
     "output_type": "display_data"
    },
    {
     "name": "stdout",
     "output_type": "stream",
     "text": [
      "Training Loss: 2.6970. Validation Loss: 2.6553.\n",
      "Training Accuracy: 0.2273. Validation Accuracy: 0.1714.\n",
      "-----------------------------------\n",
      "Epoch 15\n",
      "-----------------------------------\n"
     ]
    },
    {
     "data": {
      "application/vnd.jupyter.widget-view+json": {
       "model_id": "8b9f8d6c99d84b57968a679e8e56c73d",
       "version_major": 2,
       "version_minor": 0
      },
      "text/plain": [
       "Training:   0%|          | 0/3 [00:00<?, ?it/s]"
      ]
     },
     "metadata": {},
     "output_type": "display_data"
    },
    {
     "name": "stdout",
     "output_type": "stream",
     "text": [
      "Training Loss: 2.6518. Validation Loss: 2.6031.\n",
      "Training Accuracy: 0.2366. Validation Accuracy: 0.1714.\n",
      "-----------------------------------\n",
      "Epoch 16\n",
      "-----------------------------------\n"
     ]
    },
    {
     "data": {
      "application/vnd.jupyter.widget-view+json": {
       "model_id": "46a3946eb5a84ecaba0ef57ad4f259a1",
       "version_major": 2,
       "version_minor": 0
      },
      "text/plain": [
       "Training:   0%|          | 0/3 [00:00<?, ?it/s]"
      ]
     },
     "metadata": {},
     "output_type": "display_data"
    },
    {
     "name": "stdout",
     "output_type": "stream",
     "text": [
      "Training Loss: 2.5235. Validation Loss: 2.2707.\n",
      "Training Accuracy: 0.2473. Validation Accuracy: 0.1714.\n",
      "-----------------------------------\n",
      "Epoch 17\n",
      "-----------------------------------\n"
     ]
    },
    {
     "data": {
      "application/vnd.jupyter.widget-view+json": {
       "model_id": "8d50c20d181e4030a5d05cd5d2e07ade",
       "version_major": 2,
       "version_minor": 0
      },
      "text/plain": [
       "Training:   0%|          | 0/3 [00:00<?, ?it/s]"
      ]
     },
     "metadata": {},
     "output_type": "display_data"
    },
    {
     "name": "stdout",
     "output_type": "stream",
     "text": [
      "Training Loss: 2.5829. Validation Loss: 2.4200.\n",
      "Training Accuracy: 0.2642. Validation Accuracy: 0.1714.\n",
      "-----------------------------------\n",
      "Epoch 18\n",
      "-----------------------------------\n"
     ]
    },
    {
     "data": {
      "application/vnd.jupyter.widget-view+json": {
       "model_id": "48dcd5e1623044ea90cea475145646fb",
       "version_major": 2,
       "version_minor": 0
      },
      "text/plain": [
       "Training:   0%|          | 0/3 [00:00<?, ?it/s]"
      ]
     },
     "metadata": {},
     "output_type": "display_data"
    },
    {
     "name": "stdout",
     "output_type": "stream",
     "text": [
      "Training Loss: 2.5977. Validation Loss: 2.3501.\n",
      "Training Accuracy: 0.2458. Validation Accuracy: 0.1714.\n",
      "-----------------------------------\n",
      "Epoch 19\n",
      "-----------------------------------\n"
     ]
    },
    {
     "data": {
      "application/vnd.jupyter.widget-view+json": {
       "model_id": "4c955afd36e54be6b47c4d5bda7e99cd",
       "version_major": 2,
       "version_minor": 0
      },
      "text/plain": [
       "Training:   0%|          | 0/3 [00:00<?, ?it/s]"
      ]
     },
     "metadata": {},
     "output_type": "display_data"
    },
    {
     "name": "stdout",
     "output_type": "stream",
     "text": [
      "Training Loss: 2.5577. Validation Loss: 2.4652.\n",
      "Training Accuracy: 0.2535. Validation Accuracy: 0.1714.\n",
      "-----------------------------------\n",
      "Epoch 20\n",
      "-----------------------------------\n"
     ]
    },
    {
     "data": {
      "application/vnd.jupyter.widget-view+json": {
       "model_id": "fc4737349cb9487996606a147a279fcb",
       "version_major": 2,
       "version_minor": 0
      },
      "text/plain": [
       "Training:   0%|          | 0/3 [00:00<?, ?it/s]"
      ]
     },
     "metadata": {},
     "output_type": "display_data"
    },
    {
     "name": "stderr",
     "output_type": "stream",
     "text": [
      "[I 2024-12-08 13:57:59,868] Trial 18 finished with value: 62.65239775180817 and parameters: {'kernel_size': 2048, 'stride': 256, 'fourier_size': 2048, 'enc_hidden': 64, 'dec_hidden': 256, 'lr': 0.1, 'step_size': 20, 'gamma': 0.1}. Best is trial 11 with value: 60.33701181411743.\n"
     ]
    },
    {
     "name": "stdout",
     "output_type": "stream",
     "text": [
      "Training Loss: 2.5804. Validation Loss: 2.3575.\n",
      "Training Accuracy: 0.2535. Validation Accuracy: 0.1714.\n",
      "-----------------------------------\n",
      "Epoch 1\n",
      "-----------------------------------\n"
     ]
    },
    {
     "data": {
      "application/vnd.jupyter.widget-view+json": {
       "model_id": "ac6e9a3bbea54169b383fdff3eec64cf",
       "version_major": 2,
       "version_minor": 0
      },
      "text/plain": [
       "Training:   0%|          | 0/3 [00:00<?, ?it/s]"
      ]
     },
     "metadata": {},
     "output_type": "display_data"
    },
    {
     "name": "stdout",
     "output_type": "stream",
     "text": [
      "Training Loss: 5.6652. Validation Loss: 4.1176.\n",
      "Training Accuracy: 0.0983. Validation Accuracy: 0.1714.\n",
      "-----------------------------------\n",
      "Epoch 2\n",
      "-----------------------------------\n"
     ]
    },
    {
     "data": {
      "application/vnd.jupyter.widget-view+json": {
       "model_id": "de07f715c805436e8cb38aef8c8d1596",
       "version_major": 2,
       "version_minor": 0
      },
      "text/plain": [
       "Training:   0%|          | 0/3 [00:00<?, ?it/s]"
      ]
     },
     "metadata": {},
     "output_type": "display_data"
    },
    {
     "name": "stdout",
     "output_type": "stream",
     "text": [
      "Training Loss: 8.2285. Validation Loss: 3.1931.\n",
      "Training Accuracy: 0.0661. Validation Accuracy: 0.0000.\n",
      "-----------------------------------\n",
      "Epoch 3\n",
      "-----------------------------------\n"
     ]
    },
    {
     "data": {
      "application/vnd.jupyter.widget-view+json": {
       "model_id": "bd66f85536854937842c1e59c83e4954",
       "version_major": 2,
       "version_minor": 0
      },
      "text/plain": [
       "Training:   0%|          | 0/3 [00:00<?, ?it/s]"
      ]
     },
     "metadata": {},
     "output_type": "display_data"
    },
    {
     "name": "stdout",
     "output_type": "stream",
     "text": [
      "Training Loss: 6.8267. Validation Loss: 3.9129.\n",
      "Training Accuracy: 0.0399. Validation Accuracy: 0.0286.\n",
      "-----------------------------------\n",
      "Epoch 4\n",
      "-----------------------------------\n"
     ]
    },
    {
     "data": {
      "application/vnd.jupyter.widget-view+json": {
       "model_id": "123652b010174ab8b461a86b093c39c4",
       "version_major": 2,
       "version_minor": 0
      },
      "text/plain": [
       "Training:   0%|          | 0/3 [00:00<?, ?it/s]"
      ]
     },
     "metadata": {},
     "output_type": "display_data"
    },
    {
     "name": "stdout",
     "output_type": "stream",
     "text": [
      "Training Loss: 4.6693. Validation Loss: 4.3152.\n",
      "Training Accuracy: 0.0384. Validation Accuracy: 0.1429.\n",
      "-----------------------------------\n",
      "Epoch 5\n",
      "-----------------------------------\n"
     ]
    },
    {
     "data": {
      "application/vnd.jupyter.widget-view+json": {
       "model_id": "6551a174accc4dba86e3e80ea26e489d",
       "version_major": 2,
       "version_minor": 0
      },
      "text/plain": [
       "Training:   0%|          | 0/3 [00:00<?, ?it/s]"
      ]
     },
     "metadata": {},
     "output_type": "display_data"
    },
    {
     "name": "stdout",
     "output_type": "stream",
     "text": [
      "Training Loss: 4.8559. Validation Loss: 2.7597.\n",
      "Training Accuracy: 0.1598. Validation Accuracy: 0.1429.\n",
      "-----------------------------------\n",
      "Epoch 6\n",
      "-----------------------------------\n"
     ]
    },
    {
     "data": {
      "application/vnd.jupyter.widget-view+json": {
       "model_id": "9352c078df7d4b3c87764db73bd27575",
       "version_major": 2,
       "version_minor": 0
      },
      "text/plain": [
       "Training:   0%|          | 0/3 [00:00<?, ?it/s]"
      ]
     },
     "metadata": {},
     "output_type": "display_data"
    },
    {
     "name": "stdout",
     "output_type": "stream",
     "text": [
      "Training Loss: 4.6254. Validation Loss: 2.9011.\n",
      "Training Accuracy: 0.0722. Validation Accuracy: 0.1429.\n",
      "-----------------------------------\n",
      "Epoch 7\n",
      "-----------------------------------\n"
     ]
    },
    {
     "data": {
      "application/vnd.jupyter.widget-view+json": {
       "model_id": "15eda9a14224492aabb9e3096e776782",
       "version_major": 2,
       "version_minor": 0
      },
      "text/plain": [
       "Training:   0%|          | 0/3 [00:00<?, ?it/s]"
      ]
     },
     "metadata": {},
     "output_type": "display_data"
    },
    {
     "name": "stdout",
     "output_type": "stream",
     "text": [
      "Training Loss: 4.1369. Validation Loss: 2.5757.\n",
      "Training Accuracy: 0.0476. Validation Accuracy: 0.1714.\n",
      "-----------------------------------\n",
      "Epoch 8\n",
      "-----------------------------------\n"
     ]
    },
    {
     "data": {
      "application/vnd.jupyter.widget-view+json": {
       "model_id": "81e53a93fa14436bb3f4459fc985bde7",
       "version_major": 2,
       "version_minor": 0
      },
      "text/plain": [
       "Training:   0%|          | 0/3 [00:00<?, ?it/s]"
      ]
     },
     "metadata": {},
     "output_type": "display_data"
    },
    {
     "name": "stdout",
     "output_type": "stream",
     "text": [
      "Training Loss: 4.1063. Validation Loss: 2.1924.\n",
      "Training Accuracy: 0.0369. Validation Accuracy: 0.2000.\n",
      "-----------------------------------\n",
      "Epoch 9\n",
      "-----------------------------------\n"
     ]
    },
    {
     "data": {
      "application/vnd.jupyter.widget-view+json": {
       "model_id": "80e8758e8b824718aa722916fa633d15",
       "version_major": 2,
       "version_minor": 0
      },
      "text/plain": [
       "Training:   0%|          | 0/3 [00:00<?, ?it/s]"
      ]
     },
     "metadata": {},
     "output_type": "display_data"
    },
    {
     "name": "stdout",
     "output_type": "stream",
     "text": [
      "Training Loss: 3.8430. Validation Loss: 2.3271.\n",
      "Training Accuracy: 0.0753. Validation Accuracy: 0.1429.\n",
      "-----------------------------------\n",
      "Epoch 10\n",
      "-----------------------------------\n"
     ]
    },
    {
     "data": {
      "application/vnd.jupyter.widget-view+json": {
       "model_id": "1a362906a4994a259c4feca88d52c3ed",
       "version_major": 2,
       "version_minor": 0
      },
      "text/plain": [
       "Training:   0%|          | 0/3 [00:00<?, ?it/s]"
      ]
     },
     "metadata": {},
     "output_type": "display_data"
    },
    {
     "name": "stdout",
     "output_type": "stream",
     "text": [
      "Training Loss: 3.9589. Validation Loss: 2.2135.\n",
      "Training Accuracy: 0.0829. Validation Accuracy: 0.3429.\n",
      "-----------------------------------\n",
      "Epoch 11\n",
      "-----------------------------------\n"
     ]
    },
    {
     "data": {
      "application/vnd.jupyter.widget-view+json": {
       "model_id": "6c4ea2b3957140b8b9b0c606bcbf0c71",
       "version_major": 2,
       "version_minor": 0
      },
      "text/plain": [
       "Training:   0%|          | 0/3 [00:00<?, ?it/s]"
      ]
     },
     "metadata": {},
     "output_type": "display_data"
    },
    {
     "name": "stdout",
     "output_type": "stream",
     "text": [
      "Training Loss: 3.5904. Validation Loss: 2.4953.\n",
      "Training Accuracy: 0.1398. Validation Accuracy: 0.2000.\n",
      "-----------------------------------\n",
      "Epoch 12\n",
      "-----------------------------------\n"
     ]
    },
    {
     "data": {
      "application/vnd.jupyter.widget-view+json": {
       "model_id": "6e0db199319c4d1ebf25129af839a2e9",
       "version_major": 2,
       "version_minor": 0
      },
      "text/plain": [
       "Training:   0%|          | 0/3 [00:00<?, ?it/s]"
      ]
     },
     "metadata": {},
     "output_type": "display_data"
    },
    {
     "name": "stdout",
     "output_type": "stream",
     "text": [
      "Training Loss: 3.5238. Validation Loss: 2.4827.\n",
      "Training Accuracy: 0.0676. Validation Accuracy: 0.1429.\n",
      "-----------------------------------\n",
      "Epoch 13\n",
      "-----------------------------------\n"
     ]
    },
    {
     "data": {
      "application/vnd.jupyter.widget-view+json": {
       "model_id": "bf181c426fb0473d85607054a174b070",
       "version_major": 2,
       "version_minor": 0
      },
      "text/plain": [
       "Training:   0%|          | 0/3 [00:00<?, ?it/s]"
      ]
     },
     "metadata": {},
     "output_type": "display_data"
    },
    {
     "name": "stdout",
     "output_type": "stream",
     "text": [
      "Training Loss: 3.4073. Validation Loss: 2.1269.\n",
      "Training Accuracy: 0.0799. Validation Accuracy: 0.3143.\n",
      "-----------------------------------\n",
      "Epoch 14\n",
      "-----------------------------------\n"
     ]
    },
    {
     "data": {
      "application/vnd.jupyter.widget-view+json": {
       "model_id": "1677b7e201754ba7a5027cd2d0b6e8ad",
       "version_major": 2,
       "version_minor": 0
      },
      "text/plain": [
       "Training:   0%|          | 0/3 [00:00<?, ?it/s]"
      ]
     },
     "metadata": {},
     "output_type": "display_data"
    },
    {
     "name": "stdout",
     "output_type": "stream",
     "text": [
      "Training Loss: 3.2643. Validation Loss: 2.4104.\n",
      "Training Accuracy: 0.0384. Validation Accuracy: 0.1714.\n",
      "-----------------------------------\n",
      "Epoch 15\n",
      "-----------------------------------\n"
     ]
    },
    {
     "data": {
      "application/vnd.jupyter.widget-view+json": {
       "model_id": "ce271342b3064b5ca62b975dcc1260cc",
       "version_major": 2,
       "version_minor": 0
      },
      "text/plain": [
       "Training:   0%|          | 0/3 [00:00<?, ?it/s]"
      ]
     },
     "metadata": {},
     "output_type": "display_data"
    },
    {
     "name": "stdout",
     "output_type": "stream",
     "text": [
      "Training Loss: 3.1283. Validation Loss: 2.2423.\n",
      "Training Accuracy: 0.0338. Validation Accuracy: 0.1429.\n",
      "-----------------------------------\n",
      "Epoch 16\n",
      "-----------------------------------\n"
     ]
    },
    {
     "data": {
      "application/vnd.jupyter.widget-view+json": {
       "model_id": "0cedc055dc374a1889125a0a95943bf4",
       "version_major": 2,
       "version_minor": 0
      },
      "text/plain": [
       "Training:   0%|          | 0/3 [00:00<?, ?it/s]"
      ]
     },
     "metadata": {},
     "output_type": "display_data"
    },
    {
     "name": "stdout",
     "output_type": "stream",
     "text": [
      "Training Loss: 3.1766. Validation Loss: 2.1960.\n",
      "Training Accuracy: 0.0323. Validation Accuracy: 0.2000.\n",
      "-----------------------------------\n",
      "Epoch 17\n",
      "-----------------------------------\n"
     ]
    },
    {
     "data": {
      "application/vnd.jupyter.widget-view+json": {
       "model_id": "91727e503285424cadb2b0533bac4dc1",
       "version_major": 2,
       "version_minor": 0
      },
      "text/plain": [
       "Training:   0%|          | 0/3 [00:00<?, ?it/s]"
      ]
     },
     "metadata": {},
     "output_type": "display_data"
    },
    {
     "name": "stdout",
     "output_type": "stream",
     "text": [
      "Training Loss: 3.1225. Validation Loss: 2.2453.\n",
      "Training Accuracy: 0.0138. Validation Accuracy: 0.1429.\n",
      "-----------------------------------\n",
      "Epoch 18\n",
      "-----------------------------------\n"
     ]
    },
    {
     "data": {
      "application/vnd.jupyter.widget-view+json": {
       "model_id": "56cdf56dc0f14106b0faae2b4d3dcf44",
       "version_major": 2,
       "version_minor": 0
      },
      "text/plain": [
       "Training:   0%|          | 0/3 [00:00<?, ?it/s]"
      ]
     },
     "metadata": {},
     "output_type": "display_data"
    },
    {
     "name": "stdout",
     "output_type": "stream",
     "text": [
      "Training Loss: 2.9583. Validation Loss: 1.9428.\n",
      "Training Accuracy: 0.0599. Validation Accuracy: 0.1429.\n",
      "-----------------------------------\n",
      "Epoch 19\n",
      "-----------------------------------\n"
     ]
    },
    {
     "data": {
      "application/vnd.jupyter.widget-view+json": {
       "model_id": "2095961dd69b4a9f905cd56ae877f29f",
       "version_major": 2,
       "version_minor": 0
      },
      "text/plain": [
       "Training:   0%|          | 0/3 [00:00<?, ?it/s]"
      ]
     },
     "metadata": {},
     "output_type": "display_data"
    },
    {
     "name": "stdout",
     "output_type": "stream",
     "text": [
      "Training Loss: 3.0152. Validation Loss: 2.0214.\n",
      "Training Accuracy: 0.0753. Validation Accuracy: 0.1429.\n",
      "-----------------------------------\n",
      "Epoch 20\n",
      "-----------------------------------\n"
     ]
    },
    {
     "data": {
      "application/vnd.jupyter.widget-view+json": {
       "model_id": "7555d2a7039f4c4497a981b862625175",
       "version_major": 2,
       "version_minor": 0
      },
      "text/plain": [
       "Training:   0%|          | 0/3 [00:00<?, ?it/s]"
      ]
     },
     "metadata": {},
     "output_type": "display_data"
    },
    {
     "name": "stderr",
     "output_type": "stream",
     "text": [
      "[I 2024-12-08 13:58:39,999] Trial 19 finished with value: 67.99640774726868 and parameters: {'kernel_size': 512, 'stride': 256, 'fourier_size': 8192, 'enc_hidden': 64, 'dec_hidden': 256, 'lr': 0.1, 'step_size': 20, 'gamma': 0.1}. Best is trial 11 with value: 60.33701181411743.\n"
     ]
    },
    {
     "name": "stdout",
     "output_type": "stream",
     "text": [
      "Training Loss: 2.9978. Validation Loss: 2.0558.\n",
      "Training Accuracy: 0.0445. Validation Accuracy: 0.1429.\n",
      "DONE\n"
     ]
    }
   ],
   "source": [
    "output_folder = Path(\"notebooks/my_study/griddy/\")\n",
    "\n",
    "solver_reference = hit_griddy(\"my_study\", param_set=PARAM_SET, out_dir=output_folder, trial_metric=TrialMetric.LOSS, n_trials=20, n_jobs=1, prune=True, resume=False)"
   ]
  },
  {
   "cell_type": "code",
   "execution_count": 18,
   "metadata": {},
   "outputs": [
    {
     "name": "stdout",
     "output_type": "stream",
     "text": [
      "Trial 0:\n",
      "  Value: 90.90808868408203\n",
      "  Params: {'kernel_size': 1024, 'stride': 4096, 'fourier_size': 512, 'enc_hidden': 4, 'dec_hidden': 512, 'lr': 0.0001, 'step_size': 10, 'gamma': 0.01}\n",
      "\n",
      "Trial 1:\n",
      "  Value: 109.52500343322754\n",
      "  Params: {'kernel_size': 8192, 'stride': 1024, 'fourier_size': 128, 'enc_hidden': 4, 'dec_hidden': 16, 'lr': 0.0001, 'step_size': 10, 'gamma': 0.1}\n",
      "\n",
      "Trial 2:\n",
      "  Value: 96.9582188129425\n",
      "  Params: {'kernel_size': 8192, 'stride': 256, 'fourier_size': 4096, 'enc_hidden': 256, 'dec_hidden': 4, 'lr': 0.01, 'step_size': 10, 'gamma': 0.01}\n",
      "\n",
      "Trial 3:\n",
      "  Value: 78.18519234657288\n",
      "  Params: {'kernel_size': 4096, 'stride': 8192, 'fourier_size': 4096, 'enc_hidden': 64, 'dec_hidden': 256, 'lr': 0.1, 'step_size': 10, 'gamma': 0.1}\n",
      "\n",
      "Trial 4:\n",
      "  Value: 88.49106073379517\n",
      "  Params: {'kernel_size': 4096, 'stride': 8192, 'fourier_size': 128, 'enc_hidden': 16, 'dec_hidden': 4, 'lr': 0.01, 'step_size': 20, 'gamma': 0.1}\n",
      "\n",
      "Trial 5:\n",
      "  Value: 65.51632761955261\n",
      "  Params: {'kernel_size': 1024, 'stride': 256, 'fourier_size': 128, 'enc_hidden': 16, 'dec_hidden': 256, 'lr': 0.1, 'step_size': 20, 'gamma': 0.1}\n",
      "\n",
      "Trial 6:\n",
      "  Value: 80.59123873710632\n",
      "  Params: {'kernel_size': 2048, 'stride': 4096, 'fourier_size': 512, 'enc_hidden': 16, 'dec_hidden': 512, 'lr': 0.01, 'step_size': 20, 'gamma': 0.01}\n",
      "\n",
      "Trial 7:\n",
      "  Value: 83.11864972114563\n",
      "  Params: {'kernel_size': 512, 'stride': 8192, 'fourier_size': 512, 'enc_hidden': 4, 'dec_hidden': 512, 'lr': 0.01, 'step_size': 10, 'gamma': 0.01}\n",
      "\n",
      "Trial 8:\n",
      "  Value: 81.83567643165588\n",
      "  Params: {'kernel_size': 1024, 'stride': 1024, 'fourier_size': 4096, 'enc_hidden': 256, 'dec_hidden': 512, 'lr': 0.001, 'step_size': 20, 'gamma': 0.1}\n",
      "\n",
      "Trial 9:\n",
      "  Value: 102.18262076377869\n",
      "  Params: {'kernel_size': 2048, 'stride': 1024, 'fourier_size': 128, 'enc_hidden': 512, 'dec_hidden': 4, 'lr': 0.0001, 'step_size': 20, 'gamma': 0.01}\n",
      "\n",
      "Trial 10:\n",
      "  Value: 61.40483915805817\n",
      "  Params: {'kernel_size': 1024, 'stride': 256, 'fourier_size': 8192, 'enc_hidden': 16, 'dec_hidden': 256, 'lr': 0.1, 'step_size': 20, 'gamma': 0.1}\n",
      "\n",
      "Trial 11:\n",
      "  Value: 60.33701181411743\n",
      "  Params: {'kernel_size': 1024, 'stride': 256, 'fourier_size': 8192, 'enc_hidden': 16, 'dec_hidden': 256, 'lr': 0.1, 'step_size': 20, 'gamma': 0.1}\n",
      "\n",
      "Trial 12:\n",
      "  Value: 67.06101417541504\n",
      "  Params: {'kernel_size': 1024, 'stride': 512, 'fourier_size': 8192, 'enc_hidden': 16, 'dec_hidden': 64, 'lr': 0.1, 'step_size': 20, 'gamma': 0.1}\n",
      "\n",
      "Trial 13:\n",
      "  Value: 63.59140872955322\n",
      "  Params: {'kernel_size': 1024, 'stride': 256, 'fourier_size': 8192, 'enc_hidden': 16, 'dec_hidden': 256, 'lr': 0.05, 'step_size': 20, 'gamma': 0.1}\n",
      "\n",
      "Trial 14:\n",
      "  Value: 64.27189826965332\n",
      "  Params: {'kernel_size': 512, 'stride': 256, 'fourier_size': 2048, 'enc_hidden': 512, 'dec_hidden': 256, 'lr': 0.1, 'step_size': 20, 'gamma': 0.1}\n",
      "\n",
      "Trial 15:\n",
      "  Value: 60.5930757522583\n",
      "  Params: {'kernel_size': 1024, 'stride': 256, 'fourier_size': 8192, 'enc_hidden': 64, 'dec_hidden': 256, 'lr': 0.1, 'step_size': 20, 'gamma': 0.1}\n",
      "\n",
      "Trial 16:\n",
      "  Value: 84.66090798377991\n",
      "  Params: {'kernel_size': 1024, 'stride': 512, 'fourier_size': 8192, 'enc_hidden': 64, 'dec_hidden': 64, 'lr': 0.001, 'step_size': 20, 'gamma': 0.1}\n",
      "\n",
      "Trial 17:\n",
      "  Value: 81.22893691062927\n",
      "  Params: {'kernel_size': 1024, 'stride': 256, 'fourier_size': 8192, 'enc_hidden': 64, 'dec_hidden': 16, 'lr': 0.05, 'step_size': 20, 'gamma': 0.1}\n",
      "\n",
      "Trial 18:\n",
      "  Value: 62.65239775180817\n",
      "  Params: {'kernel_size': 2048, 'stride': 256, 'fourier_size': 2048, 'enc_hidden': 64, 'dec_hidden': 256, 'lr': 0.1, 'step_size': 20, 'gamma': 0.1}\n",
      "\n",
      "Trial 19:\n",
      "  Value: 67.99640774726868\n",
      "  Params: {'kernel_size': 512, 'stride': 256, 'fourier_size': 8192, 'enc_hidden': 64, 'dec_hidden': 256, 'lr': 0.1, 'step_size': 20, 'gamma': 0.1}\n",
      "\n"
     ]
    }
   ],
   "source": [
    "for trial in solver_reference.trials:\n",
    "    print(f\"Trial {trial.number}:\")\n",
    "    print(f\"  Value: {trial.value}\")\n",
    "    print(f\"  Params: {trial.params}\")\n",
    "    print()"
   ]
  },
  {
   "cell_type": "code",
   "execution_count": 17,
   "metadata": {},
   "outputs": [],
   "source": [
    "import optuna\n",
    "\n",
    "full_path = os.path.join(output_folder, \"my_study.db\")\n",
    "loaded_study = optuna.load_study(study_name=\"my_study\", storage=f\"sqlite:///{full_path}\")"
   ]
  },
  {
   "cell_type": "code",
   "execution_count": null,
   "metadata": {},
   "outputs": [
    {
     "name": "stdout",
     "output_type": "stream",
     "text": [
      "Trial 0:\n",
      "  Value: None\n",
      "  Params: {'kernel_size': 4096, 'stride': 1024, 'fourier_size': 2048, 'enc_hidden': 256, 'dec_hidden': 16, 'lr': 0.01, 'step_size': 10, 'gamma': 0.1}\n",
      "\n",
      "Trial 1:\n",
      "  Value: None\n",
      "  Params: {'kernel_size': 8192, 'stride': 4096, 'fourier_size': 128, 'enc_hidden': 256, 'dec_hidden': 512, 'lr': 0.0001, 'step_size': 20, 'gamma': 0.1}\n",
      "\n",
      "Trial 2:\n",
      "  Value: None\n",
      "  Params: {'kernel_size': 8192, 'stride': 4096, 'fourier_size': 8192, 'enc_hidden': 256, 'dec_hidden': 256, 'lr': 0.0001, 'step_size': 20, 'gamma': 0.1}\n",
      "\n",
      "Trial 3:\n",
      "  Value: None\n",
      "  Params: {'kernel_size': 8192, 'stride': 1024, 'fourier_size': 8192, 'enc_hidden': 64, 'dec_hidden': 512, 'lr': 0.05, 'step_size': 20, 'gamma': 0.1}\n",
      "\n",
      "Trial 4:\n",
      "  Value: None\n",
      "  Params: {'kernel_size': 1024, 'stride': 8192, 'fourier_size': 4096, 'enc_hidden': 256, 'dec_hidden': 256, 'lr': 0.1, 'step_size': 20, 'gamma': 0.01}\n",
      "\n",
      "Trial 5:\n",
      "  Value: None\n",
      "  Params: {'kernel_size': 512, 'stride': 1024, 'fourier_size': 2048, 'enc_hidden': 512, 'dec_hidden': 64, 'lr': 0.0001, 'step_size': 10, 'gamma': 0.1}\n",
      "\n",
      "Trial 6:\n",
      "  Value: None\n",
      "  Params: {'kernel_size': 512, 'stride': 8192, 'fourier_size': 2048, 'enc_hidden': 4, 'dec_hidden': 16, 'lr': 0.001, 'step_size': 10, 'gamma': 0.01}\n",
      "\n",
      "Trial 7:\n",
      "  Value: None\n",
      "  Params: {'kernel_size': 4096, 'stride': 1024, 'fourier_size': 4096, 'enc_hidden': 64, 'dec_hidden': 512, 'lr': 0.001, 'step_size': 10, 'gamma': 0.01}\n",
      "\n",
      "Trial 8:\n",
      "  Value: None\n",
      "  Params: {'kernel_size': 1024, 'stride': 512, 'fourier_size': 128, 'enc_hidden': 4, 'dec_hidden': 64, 'lr': 0.0001, 'step_size': 20, 'gamma': 0.01}\n",
      "\n",
      "Trial 9:\n",
      "  Value: None\n",
      "  Params: {'kernel_size': 4096, 'stride': 1024, 'fourier_size': 8192, 'enc_hidden': 256, 'dec_hidden': 4, 'lr': 0.001, 'step_size': 10, 'gamma': 0.01}\n",
      "\n",
      "Trial 10:\n",
      "  Value: None\n",
      "  Params: {'kernel_size': 1024, 'stride': 512, 'fourier_size': 2048, 'enc_hidden': 16, 'dec_hidden': 512, 'lr': 0.1, 'step_size': 10, 'gamma': 0.1}\n",
      "\n",
      "Trial 11:\n",
      "  Value: None\n",
      "  Params: {'kernel_size': 4096, 'stride': 512, 'fourier_size': 2048, 'enc_hidden': 16, 'dec_hidden': 512, 'lr': 0.1, 'step_size': 20, 'gamma': 0.1}\n",
      "\n",
      "Trial 12:\n",
      "  Value: None\n",
      "  Params: {'kernel_size': 1024, 'stride': 1024, 'fourier_size': 4096, 'enc_hidden': 256, 'dec_hidden': 64, 'lr': 0.001, 'step_size': 20, 'gamma': 0.01}\n",
      "\n",
      "Trial 13:\n",
      "  Value: None\n",
      "  Params: {'kernel_size': 8192, 'stride': 512, 'fourier_size': 512, 'enc_hidden': 4, 'dec_hidden': 4, 'lr': 0.05, 'step_size': 10, 'gamma': 0.1}\n",
      "\n",
      "Trial 14:\n",
      "  Value: None\n",
      "  Params: {'kernel_size': 1024, 'stride': 1024, 'fourier_size': 8192, 'enc_hidden': 4, 'dec_hidden': 256, 'lr': 0.001, 'step_size': 10, 'gamma': 0.01}\n",
      "\n",
      "Trial 15:\n",
      "  Value: None\n",
      "  Params: {'kernel_size': 8192, 'stride': 4096, 'fourier_size': 2048, 'enc_hidden': 256, 'dec_hidden': 4, 'lr': 0.01, 'step_size': 10, 'gamma': 0.01}\n",
      "\n",
      "Trial 16:\n",
      "  Value: None\n",
      "  Params: {'kernel_size': 8192, 'stride': 8192, 'fourier_size': 512, 'enc_hidden': 64, 'dec_hidden': 512, 'lr': 0.01, 'step_size': 20, 'gamma': 0.01}\n",
      "\n",
      "Trial 17:\n",
      "  Value: None\n",
      "  Params: {'kernel_size': 2048, 'stride': 512, 'fourier_size': 8192, 'enc_hidden': 64, 'dec_hidden': 4, 'lr': 0.001, 'step_size': 20, 'gamma': 0.1}\n",
      "\n",
      "Trial 18:\n",
      "  Value: None\n",
      "  Params: {'kernel_size': 2048, 'stride': 4096, 'fourier_size': 2048, 'enc_hidden': 512, 'dec_hidden': 64, 'lr': 0.0001, 'step_size': 20, 'gamma': 0.1}\n",
      "\n",
      "Trial 19:\n",
      "  Value: None\n",
      "  Params: {'kernel_size': 2048, 'stride': 4096, 'fourier_size': 4096, 'enc_hidden': 512, 'dec_hidden': 256, 'lr': 0.05, 'step_size': 10, 'gamma': 0.01}\n",
      "\n",
      "Trial 20:\n",
      "  Value: None\n",
      "  Params: {'kernel_size': 2048, 'stride': 256, 'fourier_size': 2048, 'enc_hidden': 16, 'dec_hidden': 256, 'lr': 0.01, 'step_size': 10, 'gamma': 0.01}\n",
      "\n",
      "Trial 21:\n",
      "  Value: None\n",
      "  Params: {'kernel_size': 1024, 'stride': 4096, 'fourier_size': 4096, 'enc_hidden': 16, 'dec_hidden': 256, 'lr': 0.1, 'step_size': 20, 'gamma': 0.01}\n",
      "\n",
      "Trial 22:\n",
      "  Value: None\n",
      "  Params: {'kernel_size': 1024, 'stride': 1024, 'fourier_size': 8192, 'enc_hidden': 16, 'dec_hidden': 4, 'lr': 0.1, 'step_size': 10, 'gamma': 0.01}\n",
      "\n",
      "Trial 23:\n",
      "  Value: None\n",
      "  Params: {'kernel_size': 4096, 'stride': 4096, 'fourier_size': 512, 'enc_hidden': 512, 'dec_hidden': 256, 'lr': 0.0001, 'step_size': 10, 'gamma': 0.1}\n",
      "\n",
      "Trial 24:\n",
      "  Value: None\n",
      "  Params: {'kernel_size': 1024, 'stride': 8192, 'fourier_size': 8192, 'enc_hidden': 4, 'dec_hidden': 512, 'lr': 0.05, 'step_size': 10, 'gamma': 0.1}\n",
      "\n",
      "Trial 25:\n",
      "  Value: None\n",
      "  Params: {'kernel_size': 1024, 'stride': 1024, 'fourier_size': 512, 'enc_hidden': 16, 'dec_hidden': 64, 'lr': 0.01, 'step_size': 20, 'gamma': 0.1}\n",
      "\n",
      "Trial 26:\n",
      "  Value: None\n",
      "  Params: {'kernel_size': 1024, 'stride': 4096, 'fourier_size': 8192, 'enc_hidden': 4, 'dec_hidden': 64, 'lr': 0.05, 'step_size': 10, 'gamma': 0.01}\n",
      "\n",
      "Trial 27:\n",
      "  Value: None\n",
      "  Params: {'kernel_size': 4096, 'stride': 512, 'fourier_size': 4096, 'enc_hidden': 256, 'dec_hidden': 4, 'lr': 0.05, 'step_size': 20, 'gamma': 0.01}\n",
      "\n",
      "Trial 28:\n",
      "  Value: None\n",
      "  Params: {'kernel_size': 1024, 'stride': 512, 'fourier_size': 512, 'enc_hidden': 512, 'dec_hidden': 64, 'lr': 0.1, 'step_size': 10, 'gamma': 0.01}\n",
      "\n",
      "Trial 29:\n",
      "  Value: None\n",
      "  Params: {'kernel_size': 8192, 'stride': 8192, 'fourier_size': 4096, 'enc_hidden': 64, 'dec_hidden': 256, 'lr': 0.0001, 'step_size': 10, 'gamma': 0.01}\n",
      "\n",
      "Trial 30:\n",
      "  Value: None\n",
      "  Params: {'kernel_size': 8192, 'stride': 256, 'fourier_size': 4096, 'enc_hidden': 256, 'dec_hidden': 64, 'lr': 0.0001, 'step_size': 10, 'gamma': 0.1}\n",
      "\n",
      "Trial 31:\n",
      "  Value: None\n",
      "  Params: {'kernel_size': 512, 'stride': 4096, 'fourier_size': 2048, 'enc_hidden': 512, 'dec_hidden': 16, 'lr': 0.0001, 'step_size': 20, 'gamma': 0.1}\n",
      "\n",
      "Trial 32:\n",
      "  Value: None\n",
      "  Params: {'kernel_size': 8192, 'stride': 512, 'fourier_size': 2048, 'enc_hidden': 16, 'dec_hidden': 512, 'lr': 0.0001, 'step_size': 10, 'gamma': 0.01}\n",
      "\n",
      "Trial 33:\n",
      "  Value: None\n",
      "  Params: {'kernel_size': 512, 'stride': 256, 'fourier_size': 8192, 'enc_hidden': 256, 'dec_hidden': 16, 'lr': 0.05, 'step_size': 20, 'gamma': 0.1}\n",
      "\n",
      "Trial 34:\n",
      "  Value: None\n",
      "  Params: {'kernel_size': 512, 'stride': 256, 'fourier_size': 2048, 'enc_hidden': 16, 'dec_hidden': 64, 'lr': 0.1, 'step_size': 10, 'gamma': 0.01}\n",
      "\n",
      "Trial 35:\n",
      "  Value: None\n",
      "  Params: {'kernel_size': 512, 'stride': 4096, 'fourier_size': 128, 'enc_hidden': 4, 'dec_hidden': 16, 'lr': 0.001, 'step_size': 20, 'gamma': 0.01}\n",
      "\n",
      "Trial 36:\n",
      "  Value: None\n",
      "  Params: {'kernel_size': 1024, 'stride': 512, 'fourier_size': 4096, 'enc_hidden': 16, 'dec_hidden': 4, 'lr': 0.001, 'step_size': 20, 'gamma': 0.01}\n",
      "\n",
      "Trial 37:\n",
      "  Value: None\n",
      "  Params: {'kernel_size': 8192, 'stride': 8192, 'fourier_size': 512, 'enc_hidden': 256, 'dec_hidden': 16, 'lr': 0.0001, 'step_size': 20, 'gamma': 0.01}\n",
      "\n",
      "Trial 38:\n",
      "  Value: None\n",
      "  Params: {'kernel_size': 512, 'stride': 1024, 'fourier_size': 128, 'enc_hidden': 64, 'dec_hidden': 256, 'lr': 0.001, 'step_size': 20, 'gamma': 0.1}\n",
      "\n",
      "Trial 39:\n",
      "  Value: None\n",
      "  Params: {'kernel_size': 2048, 'stride': 8192, 'fourier_size': 4096, 'enc_hidden': 512, 'dec_hidden': 16, 'lr': 0.0001, 'step_size': 20, 'gamma': 0.1}\n",
      "\n",
      "Trial 40:\n",
      "  Value: None\n",
      "  Params: {'kernel_size': 8192, 'stride': 256, 'fourier_size': 4096, 'enc_hidden': 64, 'dec_hidden': 16, 'lr': 0.05, 'step_size': 10, 'gamma': 0.01}\n",
      "\n",
      "Trial 41:\n",
      "  Value: None\n",
      "  Params: {'kernel_size': 1024, 'stride': 1024, 'fourier_size': 128, 'enc_hidden': 16, 'dec_hidden': 4, 'lr': 0.05, 'step_size': 10, 'gamma': 0.01}\n",
      "\n",
      "Trial 42:\n",
      "  Value: None\n",
      "  Params: {'kernel_size': 1024, 'stride': 4096, 'fourier_size': 4096, 'enc_hidden': 4, 'dec_hidden': 64, 'lr': 0.0001, 'step_size': 10, 'gamma': 0.01}\n",
      "\n",
      "Trial 43:\n",
      "  Value: None\n",
      "  Params: {'kernel_size': 4096, 'stride': 512, 'fourier_size': 128, 'enc_hidden': 512, 'dec_hidden': 4, 'lr': 0.01, 'step_size': 10, 'gamma': 0.1}\n",
      "\n",
      "Trial 44:\n",
      "  Value: None\n",
      "  Params: {'kernel_size': 2048, 'stride': 256, 'fourier_size': 4096, 'enc_hidden': 16, 'dec_hidden': 4, 'lr': 0.001, 'step_size': 10, 'gamma': 0.1}\n",
      "\n",
      "Trial 45:\n",
      "  Value: None\n",
      "  Params: {'kernel_size': 8192, 'stride': 512, 'fourier_size': 128, 'enc_hidden': 64, 'dec_hidden': 64, 'lr': 0.01, 'step_size': 10, 'gamma': 0.1}\n",
      "\n",
      "Trial 46:\n",
      "  Value: None\n",
      "  Params: {'kernel_size': 8192, 'stride': 512, 'fourier_size': 2048, 'enc_hidden': 16, 'dec_hidden': 256, 'lr': 0.0001, 'step_size': 10, 'gamma': 0.01}\n",
      "\n",
      "Trial 47:\n",
      "  Value: None\n",
      "  Params: {'kernel_size': 4096, 'stride': 256, 'fourier_size': 512, 'enc_hidden': 512, 'dec_hidden': 512, 'lr': 0.0001, 'step_size': 10, 'gamma': 0.1}\n",
      "\n",
      "Trial 48:\n",
      "  Value: None\n",
      "  Params: {'kernel_size': 1024, 'stride': 256, 'fourier_size': 4096, 'enc_hidden': 16, 'dec_hidden': 4, 'lr': 0.001, 'step_size': 10, 'gamma': 0.1}\n",
      "\n",
      "Trial 49:\n",
      "  Value: None\n",
      "  Params: {'kernel_size': 1024, 'stride': 4096, 'fourier_size': 2048, 'enc_hidden': 512, 'dec_hidden': 256, 'lr': 0.01, 'step_size': 10, 'gamma': 0.01}\n",
      "\n",
      "Trial 50:\n",
      "  Value: None\n",
      "  Params: {'kernel_size': 8192, 'stride': 512, 'fourier_size': 128, 'enc_hidden': 256, 'dec_hidden': 16, 'lr': 0.1, 'step_size': 20, 'gamma': 0.01}\n",
      "\n",
      "Trial 51:\n",
      "  Value: None\n",
      "  Params: {'kernel_size': 512, 'stride': 512, 'fourier_size': 512, 'enc_hidden': 64, 'dec_hidden': 64, 'lr': 0.05, 'step_size': 10, 'gamma': 0.01}\n",
      "\n",
      "Trial 52:\n",
      "  Value: None\n",
      "  Params: {'kernel_size': 1024, 'stride': 256, 'fourier_size': 4096, 'enc_hidden': 256, 'dec_hidden': 4, 'lr': 0.0001, 'step_size': 10, 'gamma': 0.01}\n",
      "\n",
      "Trial 53:\n",
      "  Value: None\n",
      "  Params: {'kernel_size': 8192, 'stride': 512, 'fourier_size': 512, 'enc_hidden': 512, 'dec_hidden': 64, 'lr': 0.1, 'step_size': 10, 'gamma': 0.01}\n",
      "\n",
      "Trial 54:\n",
      "  Value: None\n",
      "  Params: {'kernel_size': 8192, 'stride': 1024, 'fourier_size': 512, 'enc_hidden': 64, 'dec_hidden': 512, 'lr': 0.01, 'step_size': 10, 'gamma': 0.01}\n",
      "\n",
      "Trial 55:\n",
      "  Value: None\n",
      "  Params: {'kernel_size': 1024, 'stride': 256, 'fourier_size': 512, 'enc_hidden': 4, 'dec_hidden': 64, 'lr': 0.05, 'step_size': 10, 'gamma': 0.1}\n",
      "\n",
      "Trial 56:\n",
      "  Value: None\n",
      "  Params: {'kernel_size': 1024, 'stride': 8192, 'fourier_size': 128, 'enc_hidden': 4, 'dec_hidden': 4, 'lr': 0.01, 'step_size': 20, 'gamma': 0.1}\n",
      "\n",
      "Trial 57:\n",
      "  Value: None\n",
      "  Params: {'kernel_size': 2048, 'stride': 256, 'fourier_size': 128, 'enc_hidden': 16, 'dec_hidden': 64, 'lr': 0.0001, 'step_size': 10, 'gamma': 0.1}\n",
      "\n",
      "Trial 58:\n",
      "  Value: None\n",
      "  Params: {'kernel_size': 2048, 'stride': 1024, 'fourier_size': 128, 'enc_hidden': 512, 'dec_hidden': 4, 'lr': 0.1, 'step_size': 10, 'gamma': 0.01}\n",
      "\n",
      "Trial 59:\n",
      "  Value: None\n",
      "  Params: {'kernel_size': 1024, 'stride': 1024, 'fourier_size': 512, 'enc_hidden': 64, 'dec_hidden': 256, 'lr': 0.05, 'step_size': 20, 'gamma': 0.01}\n",
      "\n",
      "Trial 60:\n",
      "  Value: None\n",
      "  Params: {'kernel_size': 512, 'stride': 256, 'fourier_size': 128, 'enc_hidden': 4, 'dec_hidden': 16, 'lr': 0.0001, 'step_size': 20, 'gamma': 0.1}\n",
      "\n",
      "Trial 61:\n",
      "  Value: None\n",
      "  Params: {'kernel_size': 2048, 'stride': 1024, 'fourier_size': 8192, 'enc_hidden': 16, 'dec_hidden': 64, 'lr': 0.0001, 'step_size': 20, 'gamma': 0.1}\n",
      "\n",
      "Trial 62:\n",
      "  Value: None\n",
      "  Params: {'kernel_size': 8192, 'stride': 512, 'fourier_size': 2048, 'enc_hidden': 16, 'dec_hidden': 512, 'lr': 0.05, 'step_size': 10, 'gamma': 0.1}\n",
      "\n",
      "Trial 63:\n",
      "  Value: None\n",
      "  Params: {'kernel_size': 1024, 'stride': 1024, 'fourier_size': 4096, 'enc_hidden': 512, 'dec_hidden': 256, 'lr': 0.0001, 'step_size': 10, 'gamma': 0.01}\n",
      "\n",
      "Trial 64:\n",
      "  Value: None\n",
      "  Params: {'kernel_size': 8192, 'stride': 8192, 'fourier_size': 8192, 'enc_hidden': 16, 'dec_hidden': 16, 'lr': 0.01, 'step_size': 10, 'gamma': 0.01}\n",
      "\n",
      "Trial 65:\n",
      "  Value: None\n",
      "  Params: {'kernel_size': 512, 'stride': 8192, 'fourier_size': 2048, 'enc_hidden': 512, 'dec_hidden': 512, 'lr': 0.0001, 'step_size': 20, 'gamma': 0.1}\n",
      "\n",
      "Trial 66:\n",
      "  Value: None\n",
      "  Params: {'kernel_size': 512, 'stride': 1024, 'fourier_size': 512, 'enc_hidden': 256, 'dec_hidden': 256, 'lr': 0.0001, 'step_size': 10, 'gamma': 0.1}\n",
      "\n",
      "Trial 67:\n",
      "  Value: None\n",
      "  Params: {'kernel_size': 1024, 'stride': 1024, 'fourier_size': 8192, 'enc_hidden': 4, 'dec_hidden': 512, 'lr': 0.05, 'step_size': 20, 'gamma': 0.01}\n",
      "\n",
      "Trial 68:\n",
      "  Value: None\n",
      "  Params: {'kernel_size': 1024, 'stride': 256, 'fourier_size': 8192, 'enc_hidden': 4, 'dec_hidden': 512, 'lr': 0.05, 'step_size': 10, 'gamma': 0.1}\n",
      "\n",
      "Trial 69:\n",
      "  Value: None\n",
      "  Params: {'kernel_size': 512, 'stride': 256, 'fourier_size': 8192, 'enc_hidden': 256, 'dec_hidden': 16, 'lr': 0.0001, 'step_size': 20, 'gamma': 0.01}\n",
      "\n",
      "Trial 70:\n",
      "  Value: None\n",
      "  Params: {'kernel_size': 4096, 'stride': 256, 'fourier_size': 4096, 'enc_hidden': 512, 'dec_hidden': 256, 'lr': 0.001, 'step_size': 20, 'gamma': 0.1}\n",
      "\n",
      "Trial 71:\n",
      "  Value: None\n",
      "  Params: {'kernel_size': 4096, 'stride': 8192, 'fourier_size': 128, 'enc_hidden': 64, 'dec_hidden': 4, 'lr': 0.05, 'step_size': 20, 'gamma': 0.01}\n",
      "\n",
      "Trial 72:\n",
      "  Value: None\n",
      "  Params: {'kernel_size': 512, 'stride': 256, 'fourier_size': 4096, 'enc_hidden': 512, 'dec_hidden': 512, 'lr': 0.001, 'step_size': 10, 'gamma': 0.1}\n",
      "\n",
      "Trial 73:\n",
      "  Value: None\n",
      "  Params: {'kernel_size': 512, 'stride': 512, 'fourier_size': 512, 'enc_hidden': 4, 'dec_hidden': 64, 'lr': 0.0001, 'step_size': 10, 'gamma': 0.1}\n",
      "\n",
      "Trial 74:\n",
      "  Value: None\n",
      "  Params: {'kernel_size': 1024, 'stride': 256, 'fourier_size': 512, 'enc_hidden': 4, 'dec_hidden': 64, 'lr': 0.05, 'step_size': 20, 'gamma': 0.01}\n",
      "\n",
      "Trial 75:\n",
      "  Value: None\n",
      "  Params: {'kernel_size': 4096, 'stride': 8192, 'fourier_size': 2048, 'enc_hidden': 64, 'dec_hidden': 64, 'lr': 0.0001, 'step_size': 20, 'gamma': 0.1}\n",
      "\n",
      "Trial 76:\n",
      "  Value: None\n",
      "  Params: {'kernel_size': 512, 'stride': 256, 'fourier_size': 8192, 'enc_hidden': 64, 'dec_hidden': 4, 'lr': 0.01, 'step_size': 20, 'gamma': 0.1}\n",
      "\n",
      "Trial 77:\n",
      "  Value: None\n",
      "  Params: {'kernel_size': 1024, 'stride': 4096, 'fourier_size': 512, 'enc_hidden': 256, 'dec_hidden': 256, 'lr': 0.1, 'step_size': 20, 'gamma': 0.1}\n",
      "\n",
      "Trial 78:\n",
      "  Value: None\n",
      "  Params: {'kernel_size': 512, 'stride': 4096, 'fourier_size': 4096, 'enc_hidden': 512, 'dec_hidden': 64, 'lr': 0.05, 'step_size': 10, 'gamma': 0.01}\n",
      "\n",
      "Trial 79:\n",
      "  Value: None\n",
      "  Params: {'kernel_size': 2048, 'stride': 1024, 'fourier_size': 2048, 'enc_hidden': 16, 'dec_hidden': 512, 'lr': 0.001, 'step_size': 20, 'gamma': 0.1}\n",
      "\n",
      "Trial 80:\n",
      "  Value: None\n",
      "  Params: {'kernel_size': 1024, 'stride': 1024, 'fourier_size': 8192, 'enc_hidden': 4, 'dec_hidden': 64, 'lr': 0.01, 'step_size': 20, 'gamma': 0.1}\n",
      "\n",
      "Trial 81:\n",
      "  Value: None\n",
      "  Params: {'kernel_size': 512, 'stride': 1024, 'fourier_size': 4096, 'enc_hidden': 16, 'dec_hidden': 64, 'lr': 0.01, 'step_size': 10, 'gamma': 0.1}\n",
      "\n",
      "Trial 82:\n",
      "  Value: None\n",
      "  Params: {'kernel_size': 2048, 'stride': 256, 'fourier_size': 4096, 'enc_hidden': 64, 'dec_hidden': 16, 'lr': 0.0001, 'step_size': 20, 'gamma': 0.01}\n",
      "\n",
      "Trial 83:\n",
      "  Value: None\n",
      "  Params: {'kernel_size': 8192, 'stride': 4096, 'fourier_size': 2048, 'enc_hidden': 64, 'dec_hidden': 64, 'lr': 0.01, 'step_size': 10, 'gamma': 0.1}\n",
      "\n",
      "Trial 84:\n",
      "  Value: None\n",
      "  Params: {'kernel_size': 2048, 'stride': 512, 'fourier_size': 512, 'enc_hidden': 512, 'dec_hidden': 512, 'lr': 0.01, 'step_size': 20, 'gamma': 0.01}\n",
      "\n",
      "Trial 85:\n",
      "  Value: None\n",
      "  Params: {'kernel_size': 2048, 'stride': 8192, 'fourier_size': 2048, 'enc_hidden': 256, 'dec_hidden': 64, 'lr': 0.0001, 'step_size': 10, 'gamma': 0.1}\n",
      "\n",
      "Trial 86:\n",
      "  Value: None\n",
      "  Params: {'kernel_size': 8192, 'stride': 256, 'fourier_size': 512, 'enc_hidden': 64, 'dec_hidden': 4, 'lr': 0.001, 'step_size': 20, 'gamma': 0.1}\n",
      "\n",
      "Trial 87:\n",
      "  Value: None\n",
      "  Params: {'kernel_size': 4096, 'stride': 8192, 'fourier_size': 8192, 'enc_hidden': 4, 'dec_hidden': 64, 'lr': 0.001, 'step_size': 10, 'gamma': 0.01}\n",
      "\n",
      "Trial 88:\n",
      "  Value: None\n",
      "  Params: {'kernel_size': 2048, 'stride': 512, 'fourier_size': 8192, 'enc_hidden': 64, 'dec_hidden': 512, 'lr': 0.1, 'step_size': 10, 'gamma': 0.1}\n",
      "\n",
      "Trial 89:\n",
      "  Value: None\n",
      "  Params: {'kernel_size': 8192, 'stride': 8192, 'fourier_size': 4096, 'enc_hidden': 256, 'dec_hidden': 256, 'lr': 0.0001, 'step_size': 10, 'gamma': 0.01}\n",
      "\n",
      "Trial 90:\n",
      "  Value: None\n",
      "  Params: {'kernel_size': 8192, 'stride': 8192, 'fourier_size': 8192, 'enc_hidden': 512, 'dec_hidden': 256, 'lr': 0.05, 'step_size': 20, 'gamma': 0.01}\n",
      "\n",
      "Trial 91:\n",
      "  Value: None\n",
      "  Params: {'kernel_size': 512, 'stride': 8192, 'fourier_size': 8192, 'enc_hidden': 16, 'dec_hidden': 64, 'lr': 0.001, 'step_size': 20, 'gamma': 0.1}\n",
      "\n",
      "Trial 92:\n",
      "  Value: None\n",
      "  Params: {'kernel_size': 2048, 'stride': 4096, 'fourier_size': 4096, 'enc_hidden': 4, 'dec_hidden': 512, 'lr': 0.1, 'step_size': 10, 'gamma': 0.01}\n",
      "\n",
      "Trial 93:\n",
      "  Value: None\n",
      "  Params: {'kernel_size': 2048, 'stride': 1024, 'fourier_size': 128, 'enc_hidden': 64, 'dec_hidden': 4, 'lr': 0.1, 'step_size': 20, 'gamma': 0.1}\n",
      "\n",
      "Trial 94:\n",
      "  Value: None\n",
      "  Params: {'kernel_size': 512, 'stride': 8192, 'fourier_size': 2048, 'enc_hidden': 4, 'dec_hidden': 256, 'lr': 0.1, 'step_size': 10, 'gamma': 0.1}\n",
      "\n",
      "Trial 95:\n",
      "  Value: None\n",
      "  Params: {'kernel_size': 2048, 'stride': 8192, 'fourier_size': 4096, 'enc_hidden': 4, 'dec_hidden': 64, 'lr': 0.1, 'step_size': 10, 'gamma': 0.1}\n",
      "\n",
      "Trial 96:\n",
      "  Value: None\n",
      "  Params: {'kernel_size': 512, 'stride': 1024, 'fourier_size': 8192, 'enc_hidden': 256, 'dec_hidden': 512, 'lr': 0.001, 'step_size': 10, 'gamma': 0.01}\n",
      "\n",
      "Trial 97:\n",
      "  Value: None\n",
      "  Params: {'kernel_size': 2048, 'stride': 4096, 'fourier_size': 512, 'enc_hidden': 4, 'dec_hidden': 256, 'lr': 0.001, 'step_size': 20, 'gamma': 0.01}\n",
      "\n",
      "Trial 98:\n",
      "  Value: None\n",
      "  Params: {'kernel_size': 4096, 'stride': 8192, 'fourier_size': 512, 'enc_hidden': 64, 'dec_hidden': 4, 'lr': 0.0001, 'step_size': 20, 'gamma': 0.01}\n",
      "\n",
      "Trial 99:\n",
      "  Value: None\n",
      "  Params: {'kernel_size': 8192, 'stride': 512, 'fourier_size': 128, 'enc_hidden': 512, 'dec_hidden': 16, 'lr': 0.0001, 'step_size': 10, 'gamma': 0.01}\n",
      "\n",
      "Trial 100:\n",
      "  Value: None\n",
      "  Params: {'kernel_size': 1024, 'stride': 8192, 'fourier_size': 2048, 'enc_hidden': 512, 'dec_hidden': 256, 'lr': 0.001, 'step_size': 20, 'gamma': 0.1}\n",
      "\n",
      "Trial 101:\n",
      "  Value: None\n",
      "  Params: {'kernel_size': 2048, 'stride': 1024, 'fourier_size': 4096, 'enc_hidden': 16, 'dec_hidden': 4, 'lr': 0.0001, 'step_size': 10, 'gamma': 0.01}\n",
      "\n",
      "Trial 102:\n",
      "  Value: None\n",
      "  Params: {'kernel_size': 2048, 'stride': 512, 'fourier_size': 2048, 'enc_hidden': 256, 'dec_hidden': 256, 'lr': 0.01, 'step_size': 10, 'gamma': 0.01}\n",
      "\n",
      "Trial 103:\n",
      "  Value: None\n",
      "  Params: {'kernel_size': 1024, 'stride': 8192, 'fourier_size': 4096, 'enc_hidden': 64, 'dec_hidden': 256, 'lr': 0.01, 'step_size': 20, 'gamma': 0.1}\n",
      "\n",
      "Trial 104:\n",
      "  Value: None\n",
      "  Params: {'kernel_size': 4096, 'stride': 512, 'fourier_size': 2048, 'enc_hidden': 256, 'dec_hidden': 512, 'lr': 0.1, 'step_size': 10, 'gamma': 0.1}\n",
      "\n",
      "Trial 105:\n",
      "  Value: None\n",
      "  Params: {'kernel_size': 4096, 'stride': 512, 'fourier_size': 2048, 'enc_hidden': 4, 'dec_hidden': 256, 'lr': 0.1, 'step_size': 10, 'gamma': 0.1}\n",
      "\n",
      "Trial 106:\n",
      "  Value: None\n",
      "  Params: {'kernel_size': 8192, 'stride': 8192, 'fourier_size': 2048, 'enc_hidden': 256, 'dec_hidden': 64, 'lr': 0.001, 'step_size': 20, 'gamma': 0.01}\n",
      "\n",
      "Trial 107:\n",
      "  Value: None\n",
      "  Params: {'kernel_size': 8192, 'stride': 8192, 'fourier_size': 2048, 'enc_hidden': 256, 'dec_hidden': 512, 'lr': 0.05, 'step_size': 10, 'gamma': 0.1}\n",
      "\n",
      "Trial 108:\n",
      "  Value: None\n",
      "  Params: {'kernel_size': 2048, 'stride': 4096, 'fourier_size': 8192, 'enc_hidden': 64, 'dec_hidden': 512, 'lr': 0.001, 'step_size': 10, 'gamma': 0.1}\n",
      "\n",
      "Trial 109:\n",
      "  Value: None\n",
      "  Params: {'kernel_size': 512, 'stride': 512, 'fourier_size': 512, 'enc_hidden': 512, 'dec_hidden': 4, 'lr': 0.01, 'step_size': 10, 'gamma': 0.1}\n",
      "\n",
      "Trial 110:\n",
      "  Value: None\n",
      "  Params: {'kernel_size': 4096, 'stride': 1024, 'fourier_size': 8192, 'enc_hidden': 512, 'dec_hidden': 16, 'lr': 0.0001, 'step_size': 20, 'gamma': 0.1}\n",
      "\n",
      "Trial 111:\n",
      "  Value: None\n",
      "  Params: {'kernel_size': 2048, 'stride': 4096, 'fourier_size': 2048, 'enc_hidden': 512, 'dec_hidden': 16, 'lr': 0.0001, 'step_size': 20, 'gamma': 0.01}\n",
      "\n",
      "Trial 112:\n",
      "  Value: None\n",
      "  Params: {'kernel_size': 1024, 'stride': 256, 'fourier_size': 128, 'enc_hidden': 64, 'dec_hidden': 16, 'lr': 0.01, 'step_size': 20, 'gamma': 0.1}\n",
      "\n",
      "Trial 113:\n",
      "  Value: None\n",
      "  Params: {'kernel_size': 1024, 'stride': 512, 'fourier_size': 512, 'enc_hidden': 512, 'dec_hidden': 256, 'lr': 0.1, 'step_size': 20, 'gamma': 0.1}\n",
      "\n",
      "Trial 114:\n",
      "  Value: None\n",
      "  Params: {'kernel_size': 8192, 'stride': 4096, 'fourier_size': 128, 'enc_hidden': 16, 'dec_hidden': 512, 'lr': 0.01, 'step_size': 20, 'gamma': 0.01}\n",
      "\n",
      "Trial 115:\n",
      "  Value: None\n",
      "  Params: {'kernel_size': 1024, 'stride': 512, 'fourier_size': 512, 'enc_hidden': 512, 'dec_hidden': 512, 'lr': 0.001, 'step_size': 10, 'gamma': 0.01}\n",
      "\n",
      "Trial 116:\n",
      "  Value: None\n",
      "  Params: {'kernel_size': 1024, 'stride': 4096, 'fourier_size': 8192, 'enc_hidden': 512, 'dec_hidden': 16, 'lr': 0.05, 'step_size': 10, 'gamma': 0.1}\n",
      "\n",
      "Trial 117:\n",
      "  Value: None\n",
      "  Params: {'kernel_size': 1024, 'stride': 4096, 'fourier_size': 512, 'enc_hidden': 64, 'dec_hidden': 512, 'lr': 0.05, 'step_size': 10, 'gamma': 0.01}\n",
      "\n",
      "Trial 118:\n",
      "  Value: None\n",
      "  Params: {'kernel_size': 1024, 'stride': 1024, 'fourier_size': 4096, 'enc_hidden': 4, 'dec_hidden': 512, 'lr': 0.001, 'step_size': 10, 'gamma': 0.01}\n",
      "\n",
      "Trial 119:\n",
      "  Value: None\n",
      "  Params: {'kernel_size': 1024, 'stride': 512, 'fourier_size': 128, 'enc_hidden': 16, 'dec_hidden': 16, 'lr': 0.001, 'step_size': 20, 'gamma': 0.01}\n",
      "\n",
      "Trial 120:\n",
      "  Value: None\n",
      "  Params: {'kernel_size': 2048, 'stride': 512, 'fourier_size': 8192, 'enc_hidden': 512, 'dec_hidden': 16, 'lr': 0.0001, 'step_size': 10, 'gamma': 0.1}\n",
      "\n",
      "Trial 121:\n",
      "  Value: None\n",
      "  Params: {'kernel_size': 8192, 'stride': 256, 'fourier_size': 2048, 'enc_hidden': 512, 'dec_hidden': 256, 'lr': 0.01, 'step_size': 10, 'gamma': 0.01}\n",
      "\n",
      "Trial 122:\n",
      "  Value: None\n",
      "  Params: {'kernel_size': 2048, 'stride': 256, 'fourier_size': 128, 'enc_hidden': 512, 'dec_hidden': 512, 'lr': 0.05, 'step_size': 10, 'gamma': 0.1}\n",
      "\n",
      "Trial 123:\n",
      "  Value: None\n",
      "  Params: {'kernel_size': 4096, 'stride': 512, 'fourier_size': 128, 'enc_hidden': 256, 'dec_hidden': 256, 'lr': 0.01, 'step_size': 20, 'gamma': 0.1}\n",
      "\n",
      "Trial 124:\n",
      "  Value: None\n",
      "  Params: {'kernel_size': 4096, 'stride': 512, 'fourier_size': 4096, 'enc_hidden': 256, 'dec_hidden': 64, 'lr': 0.01, 'step_size': 10, 'gamma': 0.1}\n",
      "\n",
      "Trial 125:\n",
      "  Value: None\n",
      "  Params: {'kernel_size': 8192, 'stride': 8192, 'fourier_size': 4096, 'enc_hidden': 16, 'dec_hidden': 64, 'lr': 0.0001, 'step_size': 10, 'gamma': 0.01}\n",
      "\n",
      "Trial 126:\n",
      "  Value: None\n",
      "  Params: {'kernel_size': 1024, 'stride': 1024, 'fourier_size': 512, 'enc_hidden': 16, 'dec_hidden': 256, 'lr': 0.0001, 'step_size': 20, 'gamma': 0.01}\n",
      "\n",
      "Trial 127:\n",
      "  Value: None\n",
      "  Params: {'kernel_size': 8192, 'stride': 256, 'fourier_size': 8192, 'enc_hidden': 64, 'dec_hidden': 64, 'lr': 0.05, 'step_size': 10, 'gamma': 0.01}\n",
      "\n",
      "Trial 128:\n",
      "  Value: None\n",
      "  Params: {'kernel_size': 8192, 'stride': 512, 'fourier_size': 8192, 'enc_hidden': 64, 'dec_hidden': 64, 'lr': 0.001, 'step_size': 10, 'gamma': 0.1}\n",
      "\n",
      "Trial 129:\n",
      "  Value: None\n",
      "  Params: {'kernel_size': 4096, 'stride': 8192, 'fourier_size': 8192, 'enc_hidden': 16, 'dec_hidden': 256, 'lr': 0.0001, 'step_size': 10, 'gamma': 0.1}\n",
      "\n",
      "Trial 130:\n",
      "  Value: None\n",
      "  Params: {'kernel_size': 4096, 'stride': 1024, 'fourier_size': 8192, 'enc_hidden': 512, 'dec_hidden': 64, 'lr': 0.0001, 'step_size': 20, 'gamma': 0.01}\n",
      "\n",
      "Trial 131:\n",
      "  Value: None\n",
      "  Params: {'kernel_size': 4096, 'stride': 1024, 'fourier_size': 8192, 'enc_hidden': 16, 'dec_hidden': 16, 'lr': 0.05, 'step_size': 20, 'gamma': 0.01}\n",
      "\n",
      "Trial 132:\n",
      "  Value: None\n",
      "  Params: {'kernel_size': 8192, 'stride': 256, 'fourier_size': 512, 'enc_hidden': 16, 'dec_hidden': 256, 'lr': 0.001, 'step_size': 10, 'gamma': 0.01}\n",
      "\n",
      "Trial 133:\n",
      "  Value: None\n",
      "  Params: {'kernel_size': 8192, 'stride': 1024, 'fourier_size': 2048, 'enc_hidden': 256, 'dec_hidden': 256, 'lr': 0.1, 'step_size': 10, 'gamma': 0.1}\n",
      "\n",
      "Trial 134:\n",
      "  Value: None\n",
      "  Params: {'kernel_size': 1024, 'stride': 8192, 'fourier_size': 8192, 'enc_hidden': 64, 'dec_hidden': 64, 'lr': 0.001, 'step_size': 20, 'gamma': 0.1}\n",
      "\n",
      "Trial 135:\n",
      "  Value: None\n",
      "  Params: {'kernel_size': 4096, 'stride': 1024, 'fourier_size': 128, 'enc_hidden': 256, 'dec_hidden': 256, 'lr': 0.01, 'step_size': 10, 'gamma': 0.1}\n",
      "\n",
      "Trial 136:\n",
      "  Value: None\n",
      "  Params: {'kernel_size': 2048, 'stride': 1024, 'fourier_size': 8192, 'enc_hidden': 4, 'dec_hidden': 16, 'lr': 0.1, 'step_size': 20, 'gamma': 0.01}\n",
      "\n",
      "Trial 137:\n",
      "  Value: None\n",
      "  Params: {'kernel_size': 512, 'stride': 256, 'fourier_size': 512, 'enc_hidden': 512, 'dec_hidden': 4, 'lr': 0.05, 'step_size': 10, 'gamma': 0.01}\n",
      "\n",
      "Trial 138:\n",
      "  Value: None\n",
      "  Params: {'kernel_size': 512, 'stride': 8192, 'fourier_size': 2048, 'enc_hidden': 64, 'dec_hidden': 64, 'lr': 0.0001, 'step_size': 10, 'gamma': 0.01}\n",
      "\n",
      "Trial 139:\n",
      "  Value: None\n",
      "  Params: {'kernel_size': 2048, 'stride': 256, 'fourier_size': 128, 'enc_hidden': 16, 'dec_hidden': 16, 'lr': 0.1, 'step_size': 10, 'gamma': 0.01}\n",
      "\n",
      "Trial 140:\n",
      "  Value: None\n",
      "  Params: {'kernel_size': 8192, 'stride': 1024, 'fourier_size': 4096, 'enc_hidden': 4, 'dec_hidden': 16, 'lr': 0.0001, 'step_size': 10, 'gamma': 0.01}\n",
      "\n",
      "Trial 141:\n",
      "  Value: None\n",
      "  Params: {'kernel_size': 512, 'stride': 8192, 'fourier_size': 512, 'enc_hidden': 512, 'dec_hidden': 64, 'lr': 0.05, 'step_size': 10, 'gamma': 0.1}\n",
      "\n",
      "Trial 142:\n",
      "  Value: None\n",
      "  Params: {'kernel_size': 4096, 'stride': 4096, 'fourier_size': 8192, 'enc_hidden': 4, 'dec_hidden': 16, 'lr': 0.01, 'step_size': 10, 'gamma': 0.01}\n",
      "\n",
      "Trial 143:\n",
      "  Value: None\n",
      "  Params: {'kernel_size': 8192, 'stride': 512, 'fourier_size': 4096, 'enc_hidden': 64, 'dec_hidden': 64, 'lr': 0.0001, 'step_size': 20, 'gamma': 0.1}\n",
      "\n",
      "Trial 144:\n",
      "  Value: None\n",
      "  Params: {'kernel_size': 2048, 'stride': 8192, 'fourier_size': 128, 'enc_hidden': 16, 'dec_hidden': 256, 'lr': 0.0001, 'step_size': 10, 'gamma': 0.01}\n",
      "\n",
      "Trial 145:\n",
      "  Value: None\n",
      "  Params: {'kernel_size': 4096, 'stride': 1024, 'fourier_size': 8192, 'enc_hidden': 4, 'dec_hidden': 64, 'lr': 0.01, 'step_size': 20, 'gamma': 0.01}\n",
      "\n",
      "Trial 146:\n",
      "  Value: None\n",
      "  Params: {'kernel_size': 8192, 'stride': 8192, 'fourier_size': 128, 'enc_hidden': 64, 'dec_hidden': 256, 'lr': 0.0001, 'step_size': 20, 'gamma': 0.1}\n",
      "\n",
      "Trial 147:\n",
      "  Value: None\n",
      "  Params: {'kernel_size': 2048, 'stride': 4096, 'fourier_size': 512, 'enc_hidden': 512, 'dec_hidden': 16, 'lr': 0.05, 'step_size': 20, 'gamma': 0.01}\n",
      "\n",
      "Trial 148:\n",
      "  Value: None\n",
      "  Params: {'kernel_size': 1024, 'stride': 256, 'fourier_size': 4096, 'enc_hidden': 256, 'dec_hidden': 16, 'lr': 0.1, 'step_size': 20, 'gamma': 0.1}\n",
      "\n",
      "Trial 149:\n",
      "  Value: None\n",
      "  Params: {'kernel_size': 512, 'stride': 8192, 'fourier_size': 8192, 'enc_hidden': 512, 'dec_hidden': 16, 'lr': 0.0001, 'step_size': 10, 'gamma': 0.1}\n",
      "\n",
      "Trial 150:\n",
      "  Value: None\n",
      "  Params: {'kernel_size': 4096, 'stride': 1024, 'fourier_size': 4096, 'enc_hidden': 16, 'dec_hidden': 16, 'lr': 0.05, 'step_size': 20, 'gamma': 0.1}\n",
      "\n",
      "Trial 151:\n",
      "  Value: None\n",
      "  Params: {'kernel_size': 4096, 'stride': 512, 'fourier_size': 4096, 'enc_hidden': 64, 'dec_hidden': 64, 'lr': 0.1, 'step_size': 10, 'gamma': 0.1}\n",
      "\n",
      "Trial 152:\n",
      "  Value: None\n",
      "  Params: {'kernel_size': 512, 'stride': 512, 'fourier_size': 4096, 'enc_hidden': 64, 'dec_hidden': 16, 'lr': 0.001, 'step_size': 20, 'gamma': 0.01}\n",
      "\n",
      "Trial 153:\n",
      "  Value: None\n",
      "  Params: {'kernel_size': 1024, 'stride': 1024, 'fourier_size': 512, 'enc_hidden': 256, 'dec_hidden': 16, 'lr': 0.001, 'step_size': 20, 'gamma': 0.01}\n",
      "\n",
      "Trial 154:\n",
      "  Value: None\n",
      "  Params: {'kernel_size': 2048, 'stride': 1024, 'fourier_size': 4096, 'enc_hidden': 64, 'dec_hidden': 64, 'lr': 0.001, 'step_size': 20, 'gamma': 0.01}\n",
      "\n",
      "Trial 155:\n",
      "  Value: None\n",
      "  Params: {'kernel_size': 1024, 'stride': 256, 'fourier_size': 512, 'enc_hidden': 512, 'dec_hidden': 16, 'lr': 0.001, 'step_size': 20, 'gamma': 0.1}\n",
      "\n",
      "Trial 156:\n",
      "  Value: None\n",
      "  Params: {'kernel_size': 8192, 'stride': 8192, 'fourier_size': 4096, 'enc_hidden': 16, 'dec_hidden': 512, 'lr': 0.001, 'step_size': 20, 'gamma': 0.01}\n",
      "\n",
      "Trial 157:\n",
      "  Value: None\n",
      "  Params: {'kernel_size': 8192, 'stride': 512, 'fourier_size': 128, 'enc_hidden': 16, 'dec_hidden': 16, 'lr': 0.05, 'step_size': 10, 'gamma': 0.01}\n",
      "\n",
      "Trial 158:\n",
      "  Value: None\n",
      "  Params: {'kernel_size': 512, 'stride': 8192, 'fourier_size': 8192, 'enc_hidden': 64, 'dec_hidden': 64, 'lr': 0.0001, 'step_size': 20, 'gamma': 0.1}\n",
      "\n",
      "Trial 159:\n",
      "  Value: None\n",
      "  Params: {'kernel_size': 512, 'stride': 4096, 'fourier_size': 2048, 'enc_hidden': 16, 'dec_hidden': 16, 'lr': 0.0001, 'step_size': 20, 'gamma': 0.1}\n",
      "\n",
      "Trial 160:\n",
      "  Value: None\n",
      "  Params: {'kernel_size': 1024, 'stride': 256, 'fourier_size': 4096, 'enc_hidden': 512, 'dec_hidden': 16, 'lr': 0.1, 'step_size': 20, 'gamma': 0.1}\n",
      "\n",
      "Trial 161:\n",
      "  Value: None\n",
      "  Params: {'kernel_size': 8192, 'stride': 256, 'fourier_size': 4096, 'enc_hidden': 512, 'dec_hidden': 256, 'lr': 0.01, 'step_size': 20, 'gamma': 0.1}\n",
      "\n",
      "Trial 162:\n",
      "  Value: None\n",
      "  Params: {'kernel_size': 1024, 'stride': 4096, 'fourier_size': 4096, 'enc_hidden': 64, 'dec_hidden': 4, 'lr': 0.001, 'step_size': 20, 'gamma': 0.01}\n",
      "\n",
      "Trial 163:\n",
      "  Value: None\n",
      "  Params: {'kernel_size': 512, 'stride': 512, 'fourier_size': 4096, 'enc_hidden': 64, 'dec_hidden': 512, 'lr': 0.001, 'step_size': 20, 'gamma': 0.1}\n",
      "\n",
      "Trial 164:\n",
      "  Value: None\n",
      "  Params: {'kernel_size': 512, 'stride': 8192, 'fourier_size': 512, 'enc_hidden': 256, 'dec_hidden': 4, 'lr': 0.001, 'step_size': 20, 'gamma': 0.01}\n",
      "\n",
      "Trial 165:\n",
      "  Value: None\n",
      "  Params: {'kernel_size': 4096, 'stride': 512, 'fourier_size': 2048, 'enc_hidden': 16, 'dec_hidden': 64, 'lr': 0.001, 'step_size': 10, 'gamma': 0.01}\n",
      "\n",
      "Trial 166:\n",
      "  Value: None\n",
      "  Params: {'kernel_size': 8192, 'stride': 8192, 'fourier_size': 512, 'enc_hidden': 16, 'dec_hidden': 256, 'lr': 0.1, 'step_size': 20, 'gamma': 0.01}\n",
      "\n",
      "Trial 167:\n",
      "  Value: None\n",
      "  Params: {'kernel_size': 512, 'stride': 4096, 'fourier_size': 512, 'enc_hidden': 512, 'dec_hidden': 16, 'lr': 0.05, 'step_size': 20, 'gamma': 0.01}\n",
      "\n",
      "Trial 168:\n",
      "  Value: None\n",
      "  Params: {'kernel_size': 512, 'stride': 512, 'fourier_size': 4096, 'enc_hidden': 16, 'dec_hidden': 4, 'lr': 0.0001, 'step_size': 10, 'gamma': 0.1}\n",
      "\n",
      "Trial 169:\n",
      "  Value: None\n",
      "  Params: {'kernel_size': 4096, 'stride': 256, 'fourier_size': 512, 'enc_hidden': 512, 'dec_hidden': 16, 'lr': 0.1, 'step_size': 20, 'gamma': 0.01}\n",
      "\n",
      "Trial 170:\n",
      "  Value: None\n",
      "  Params: {'kernel_size': 512, 'stride': 1024, 'fourier_size': 128, 'enc_hidden': 16, 'dec_hidden': 256, 'lr': 0.01, 'step_size': 20, 'gamma': 0.1}\n",
      "\n",
      "Trial 171:\n",
      "  Value: None\n",
      "  Params: {'kernel_size': 2048, 'stride': 512, 'fourier_size': 128, 'enc_hidden': 64, 'dec_hidden': 256, 'lr': 0.05, 'step_size': 10, 'gamma': 0.1}\n",
      "\n",
      "Trial 172:\n",
      "  Value: None\n",
      "  Params: {'kernel_size': 4096, 'stride': 512, 'fourier_size': 128, 'enc_hidden': 256, 'dec_hidden': 4, 'lr': 0.0001, 'step_size': 20, 'gamma': 0.1}\n",
      "\n",
      "Trial 173:\n",
      "  Value: None\n",
      "  Params: {'kernel_size': 2048, 'stride': 4096, 'fourier_size': 8192, 'enc_hidden': 512, 'dec_hidden': 256, 'lr': 0.1, 'step_size': 10, 'gamma': 0.1}\n",
      "\n",
      "Trial 174:\n",
      "  Value: None\n",
      "  Params: {'kernel_size': 512, 'stride': 1024, 'fourier_size': 4096, 'enc_hidden': 512, 'dec_hidden': 512, 'lr': 0.01, 'step_size': 20, 'gamma': 0.1}\n",
      "\n",
      "Trial 175:\n",
      "  Value: None\n",
      "  Params: {'kernel_size': 512, 'stride': 1024, 'fourier_size': 8192, 'enc_hidden': 16, 'dec_hidden': 16, 'lr': 0.1, 'step_size': 10, 'gamma': 0.01}\n",
      "\n",
      "Trial 176:\n",
      "  Value: None\n",
      "  Params: {'kernel_size': 512, 'stride': 256, 'fourier_size': 128, 'enc_hidden': 16, 'dec_hidden': 256, 'lr': 0.001, 'step_size': 10, 'gamma': 0.1}\n",
      "\n",
      "Trial 177:\n",
      "  Value: None\n",
      "  Params: {'kernel_size': 2048, 'stride': 8192, 'fourier_size': 512, 'enc_hidden': 16, 'dec_hidden': 4, 'lr': 0.0001, 'step_size': 10, 'gamma': 0.1}\n",
      "\n",
      "Trial 178:\n",
      "  Value: None\n",
      "  Params: {'kernel_size': 1024, 'stride': 512, 'fourier_size': 4096, 'enc_hidden': 16, 'dec_hidden': 256, 'lr': 0.1, 'step_size': 20, 'gamma': 0.1}\n",
      "\n",
      "Trial 179:\n",
      "  Value: None\n",
      "  Params: {'kernel_size': 2048, 'stride': 512, 'fourier_size': 4096, 'enc_hidden': 4, 'dec_hidden': 64, 'lr': 0.1, 'step_size': 20, 'gamma': 0.1}\n",
      "\n",
      "Trial 180:\n",
      "  Value: None\n",
      "  Params: {'kernel_size': 1024, 'stride': 4096, 'fourier_size': 2048, 'enc_hidden': 512, 'dec_hidden': 256, 'lr': 0.001, 'step_size': 10, 'gamma': 0.01}\n",
      "\n",
      "Trial 181:\n",
      "  Value: None\n",
      "  Params: {'kernel_size': 512, 'stride': 512, 'fourier_size': 2048, 'enc_hidden': 64, 'dec_hidden': 256, 'lr': 0.001, 'step_size': 10, 'gamma': 0.01}\n",
      "\n",
      "Trial 182:\n",
      "  Value: None\n",
      "  Params: {'kernel_size': 8192, 'stride': 4096, 'fourier_size': 512, 'enc_hidden': 512, 'dec_hidden': 256, 'lr': 0.001, 'step_size': 10, 'gamma': 0.01}\n",
      "\n",
      "Trial 183:\n",
      "  Value: None\n",
      "  Params: {'kernel_size': 1024, 'stride': 512, 'fourier_size': 8192, 'enc_hidden': 512, 'dec_hidden': 64, 'lr': 0.001, 'step_size': 20, 'gamma': 0.01}\n",
      "\n",
      "Trial 184:\n",
      "  Value: None\n",
      "  Params: {'kernel_size': 2048, 'stride': 256, 'fourier_size': 2048, 'enc_hidden': 256, 'dec_hidden': 4, 'lr': 0.01, 'step_size': 10, 'gamma': 0.1}\n",
      "\n",
      "Trial 185:\n",
      "  Value: None\n",
      "  Params: {'kernel_size': 8192, 'stride': 8192, 'fourier_size': 4096, 'enc_hidden': 16, 'dec_hidden': 512, 'lr': 0.1, 'step_size': 20, 'gamma': 0.01}\n",
      "\n",
      "Trial 186:\n",
      "  Value: None\n",
      "  Params: {'kernel_size': 2048, 'stride': 4096, 'fourier_size': 8192, 'enc_hidden': 4, 'dec_hidden': 256, 'lr': 0.0001, 'step_size': 10, 'gamma': 0.01}\n",
      "\n",
      "Trial 187:\n",
      "  Value: None\n",
      "  Params: {'kernel_size': 1024, 'stride': 1024, 'fourier_size': 8192, 'enc_hidden': 4, 'dec_hidden': 16, 'lr': 0.1, 'step_size': 10, 'gamma': 0.01}\n",
      "\n",
      "Trial 188:\n",
      "  Value: None\n",
      "  Params: {'kernel_size': 8192, 'stride': 4096, 'fourier_size': 4096, 'enc_hidden': 64, 'dec_hidden': 64, 'lr': 0.0001, 'step_size': 20, 'gamma': 0.01}\n",
      "\n",
      "Trial 189:\n",
      "  Value: None\n",
      "  Params: {'kernel_size': 4096, 'stride': 4096, 'fourier_size': 512, 'enc_hidden': 512, 'dec_hidden': 16, 'lr': 0.001, 'step_size': 10, 'gamma': 0.01}\n",
      "\n",
      "Trial 190:\n",
      "  Value: None\n",
      "  Params: {'kernel_size': 4096, 'stride': 4096, 'fourier_size': 8192, 'enc_hidden': 16, 'dec_hidden': 256, 'lr': 0.0001, 'step_size': 20, 'gamma': 0.1}\n",
      "\n",
      "Trial 191:\n",
      "  Value: None\n",
      "  Params: {'kernel_size': 2048, 'stride': 1024, 'fourier_size': 2048, 'enc_hidden': 512, 'dec_hidden': 16, 'lr': 0.05, 'step_size': 10, 'gamma': 0.1}\n",
      "\n",
      "Trial 192:\n",
      "  Value: None\n",
      "  Params: {'kernel_size': 2048, 'stride': 4096, 'fourier_size': 2048, 'enc_hidden': 4, 'dec_hidden': 16, 'lr': 0.01, 'step_size': 10, 'gamma': 0.1}\n",
      "\n",
      "Trial 193:\n",
      "  Value: None\n",
      "  Params: {'kernel_size': 8192, 'stride': 256, 'fourier_size': 8192, 'enc_hidden': 16, 'dec_hidden': 512, 'lr': 0.01, 'step_size': 10, 'gamma': 0.01}\n",
      "\n",
      "Trial 194:\n",
      "  Value: None\n",
      "  Params: {'kernel_size': 1024, 'stride': 8192, 'fourier_size': 128, 'enc_hidden': 64, 'dec_hidden': 64, 'lr': 0.05, 'step_size': 10, 'gamma': 0.01}\n",
      "\n",
      "Trial 195:\n",
      "  Value: None\n",
      "  Params: {'kernel_size': 4096, 'stride': 4096, 'fourier_size': 8192, 'enc_hidden': 16, 'dec_hidden': 4, 'lr': 0.0001, 'step_size': 20, 'gamma': 0.1}\n",
      "\n",
      "Trial 196:\n",
      "  Value: None\n",
      "  Params: {'kernel_size': 1024, 'stride': 4096, 'fourier_size': 512, 'enc_hidden': 256, 'dec_hidden': 64, 'lr': 0.1, 'step_size': 20, 'gamma': 0.1}\n",
      "\n",
      "Trial 197:\n",
      "  Value: None\n",
      "  Params: {'kernel_size': 4096, 'stride': 4096, 'fourier_size': 4096, 'enc_hidden': 512, 'dec_hidden': 16, 'lr': 0.05, 'step_size': 10, 'gamma': 0.01}\n",
      "\n",
      "Trial 198:\n",
      "  Value: None\n",
      "  Params: {'kernel_size': 4096, 'stride': 4096, 'fourier_size': 512, 'enc_hidden': 64, 'dec_hidden': 64, 'lr': 0.1, 'step_size': 10, 'gamma': 0.01}\n",
      "\n",
      "Trial 199:\n",
      "  Value: None\n",
      "  Params: {'kernel_size': 2048, 'stride': 256, 'fourier_size': 128, 'enc_hidden': 16, 'dec_hidden': 4, 'lr': 0.001, 'step_size': 20, 'gamma': 0.1}\n",
      "\n"
     ]
    }
   ],
   "source": []
  },
  {
   "cell_type": "code",
   "execution_count": null,
   "metadata": {},
   "outputs": [],
   "source": []
  }
 ],
 "metadata": {
  "kernelspec": {
   "display_name": "amadeus-ex-machina",
   "language": "python",
   "name": "python3"
  },
  "language_info": {
   "codemirror_mode": {
    "name": "ipython",
    "version": 3
   },
   "file_extension": ".py",
   "mimetype": "text/x-python",
   "name": "python",
   "nbconvert_exporter": "python",
   "pygments_lexer": "ipython3",
   "version": "3.11.0"
  }
 },
 "nbformat": 4,
 "nbformat_minor": 2
}
