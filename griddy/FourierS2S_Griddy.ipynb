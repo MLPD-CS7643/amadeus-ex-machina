{
 "cells": [
  {
   "cell_type": "code",
   "execution_count": 1,
   "metadata": {},
   "outputs": [],
   "source": [
    "%load_ext autoreload\n",
    "%autoreload 2\n",
    "\n",
    "# System imports\n",
    "import sys\n",
    "import os\n",
    "\n",
    "# Add the parent directory of 'notebooks' to sys.path\n",
    "parent_dir = os.path.abspath(os.path.join(os.getcwd(), \"..\"))  # Move one level up\n",
    "if parent_dir not in sys.path:\n",
    "    sys.path.append(parent_dir)"
   ]
  },
  {
   "cell_type": "code",
   "execution_count": 2,
   "metadata": {},
   "outputs": [],
   "source": [
    "import torch\n",
    "import optuna\n",
    "from optuna.visualization import plot_optimization_history, plot_contour, plot_parallel_coordinate, plot_slice\n",
    "from pathlib import Path\n",
    "from solver import Solver, TrialMetric\n",
    "from griddy_tuna import hit_griddy, SearchMethod\n",
    "from models.CRNN import CRNNModel\n",
    "from data.data_loader import MirDataProcessor\n",
    "from utils.model_utils import get_device"
   ]
  },
  {
   "cell_type": "code",
   "execution_count": 3,
   "metadata": {},
   "outputs": [
    {
     "name": "stdout",
     "output_type": "stream",
     "text": [
      "Device is cuda\n"
     ]
    }
   ],
   "source": [
    "device = get_device()\n",
    "print(f\"Device is {device}\")"
   ]
  },
  {
   "cell_type": "code",
   "execution_count": 8,
   "metadata": {},
   "outputs": [
    {
     "name": "stdout",
     "output_type": "stream",
     "text": [
      "Found 360 tracks in the dataset.\n",
      "Processing dataset as sequential data\n",
      "Processed track 00_BN1-129-Eb_comp and appended data to combined CSV.\n",
      "Processing dataset as sequential data\n",
      "Processed track 00_BN1-129-Eb_solo and appended data to combined CSV.\n",
      "Processing dataset as sequential data\n",
      "Processed track 00_BN1-147-Gb_comp and appended data to combined CSV.\n",
      "Processing dataset as sequential data\n",
      "Processed track 00_BN1-147-Gb_solo and appended data to combined CSV.\n",
      "Processing dataset as sequential data\n",
      "Processed track 00_BN2-131-B_comp and appended data to combined CSV.\n",
      "Processing dataset as sequential data\n",
      "Processed track 00_BN2-131-B_solo and appended data to combined CSV.\n",
      "Processing dataset as sequential data\n",
      "Processed track 00_BN2-166-Ab_comp and appended data to combined CSV.\n",
      "Processing dataset as sequential data\n",
      "Processed track 00_BN2-166-Ab_solo and appended data to combined CSV.\n",
      "Processing dataset as sequential data\n",
      "Processed track 00_BN3-119-G_comp and appended data to combined CSV.\n",
      "Processing dataset as sequential data\n",
      "Processed track 00_BN3-119-G_solo and appended data to combined CSV.\n",
      "Processing dataset as sequential data\n",
      "Processed track 00_BN3-154-E_comp and appended data to combined CSV.\n",
      "Processing dataset as sequential data\n",
      "Processed track 00_BN3-154-E_solo and appended data to combined CSV.\n",
      "Processing dataset as sequential data\n",
      "Processed track 00_Funk1-114-Ab_comp and appended data to combined CSV.\n",
      "Processing dataset as sequential data\n",
      "Processed track 00_Funk1-114-Ab_solo and appended data to combined CSV.\n",
      "Processing dataset as sequential data\n",
      "Processed track 00_Funk1-97-C_comp and appended data to combined CSV.\n",
      "Processing dataset as sequential data\n",
      "Processed track 00_Funk1-97-C_solo and appended data to combined CSV.\n",
      "Processing dataset as sequential data\n",
      "Processed track 00_Funk2-108-Eb_comp and appended data to combined CSV.\n",
      "Processing dataset as sequential data\n",
      "Processed track 00_Funk2-108-Eb_solo and appended data to combined CSV.\n",
      "Processing dataset as sequential data\n",
      "Processed track 00_Funk2-119-G_comp and appended data to combined CSV.\n",
      "Processing dataset as sequential data\n",
      "Processed track 00_Funk2-119-G_solo and appended data to combined CSV.\n",
      "Processing dataset as sequential data\n",
      "Processed track 00_Funk3-112-C#_comp and appended data to combined CSV.\n",
      "Processing dataset as sequential data\n",
      "Processed track 00_Funk3-112-C#_solo and appended data to combined CSV.\n",
      "Processing dataset as sequential data\n",
      "Processed track 00_Funk3-98-A_comp and appended data to combined CSV.\n",
      "Processing dataset as sequential data\n",
      "Processed track 00_Funk3-98-A_solo and appended data to combined CSV.\n",
      "Processing dataset as sequential data\n",
      "Processed track 00_Jazz1-130-D_comp and appended data to combined CSV.\n",
      "Processing dataset as sequential data\n",
      "Processed track 00_Jazz1-130-D_solo and appended data to combined CSV.\n",
      "Processing dataset as sequential data\n",
      "Processed track 00_Jazz1-200-B_comp and appended data to combined CSV.\n",
      "Processing dataset as sequential data\n",
      "Processed track 00_Jazz1-200-B_solo and appended data to combined CSV.\n",
      "Processing dataset as sequential data\n",
      "Processed track 00_Jazz2-110-Bb_comp and appended data to combined CSV.\n",
      "Processing dataset as sequential data\n",
      "Processed track 00_Jazz2-110-Bb_solo and appended data to combined CSV.\n",
      "Processing dataset as sequential data\n",
      "Processed track 00_Jazz2-187-F#_comp and appended data to combined CSV.\n",
      "Processing dataset as sequential data\n",
      "Processed track 00_Jazz2-187-F#_solo and appended data to combined CSV.\n",
      "Processing dataset as sequential data\n",
      "Processed track 00_Jazz3-137-Eb_comp and appended data to combined CSV.\n",
      "Processing dataset as sequential data\n",
      "Processed track 00_Jazz3-137-Eb_solo and appended data to combined CSV.\n",
      "Processing dataset as sequential data\n",
      "Processed track 00_Jazz3-150-C_comp and appended data to combined CSV.\n",
      "Processing dataset as sequential data\n",
      "Processed track 00_Jazz3-150-C_solo and appended data to combined CSV.\n",
      "Processing dataset as sequential data\n",
      "Processed track 00_Rock1-130-A_comp and appended data to combined CSV.\n",
      "Processing dataset as sequential data\n",
      "Processed track 00_Rock1-130-A_solo and appended data to combined CSV.\n",
      "Processing dataset as sequential data\n",
      "Processed track 00_Rock1-90-C#_comp and appended data to combined CSV.\n",
      "Processing dataset as sequential data\n",
      "Processed track 00_Rock1-90-C#_solo and appended data to combined CSV.\n",
      "Processing dataset as sequential data\n",
      "Processed track 00_Rock2-142-D_comp and appended data to combined CSV.\n",
      "Processing dataset as sequential data\n",
      "Processed track 00_Rock2-142-D_solo and appended data to combined CSV.\n",
      "Processing dataset as sequential data\n",
      "Processed track 00_Rock2-85-F_comp and appended data to combined CSV.\n",
      "Processing dataset as sequential data\n",
      "Processed track 00_Rock2-85-F_solo and appended data to combined CSV.\n",
      "Processing dataset as sequential data\n",
      "Processed track 00_Rock3-117-Bb_comp and appended data to combined CSV.\n",
      "Processing dataset as sequential data\n",
      "Processed track 00_Rock3-117-Bb_solo and appended data to combined CSV.\n",
      "Processing dataset as sequential data\n",
      "Processed track 00_Rock3-148-C_comp and appended data to combined CSV.\n",
      "Processing dataset as sequential data\n",
      "Processed track 00_Rock3-148-C_solo and appended data to combined CSV.\n",
      "Processing dataset as sequential data\n",
      "Processed track 00_SS1-100-C#_comp and appended data to combined CSV.\n",
      "Processing dataset as sequential data\n",
      "Processed track 00_SS1-100-C#_solo and appended data to combined CSV.\n",
      "Processing dataset as sequential data\n",
      "Processed track 00_SS1-68-E_comp and appended data to combined CSV.\n",
      "Processing dataset as sequential data\n",
      "Processed track 00_SS1-68-E_solo and appended data to combined CSV.\n",
      "Processing dataset as sequential data\n",
      "Processed track 00_SS2-107-Ab_comp and appended data to combined CSV.\n",
      "Processing dataset as sequential data\n",
      "Processed track 00_SS2-107-Ab_solo and appended data to combined CSV.\n",
      "Processing dataset as sequential data\n",
      "Processed track 00_SS2-88-F_comp and appended data to combined CSV.\n",
      "Processing dataset as sequential data\n",
      "Processed track 00_SS2-88-F_solo and appended data to combined CSV.\n",
      "Processing dataset as sequential data\n",
      "Processed track 00_SS3-84-Bb_comp and appended data to combined CSV.\n",
      "Processing dataset as sequential data\n",
      "Processed track 00_SS3-84-Bb_solo and appended data to combined CSV.\n",
      "Processing dataset as sequential data\n",
      "Processed track 00_SS3-98-C_comp and appended data to combined CSV.\n",
      "Processing dataset as sequential data\n",
      "Processed track 00_SS3-98-C_solo and appended data to combined CSV.\n",
      "Processing dataset as sequential data\n",
      "Processed track 01_BN1-129-Eb_comp and appended data to combined CSV.\n",
      "Processing dataset as sequential data\n",
      "Processed track 01_BN1-129-Eb_solo and appended data to combined CSV.\n",
      "Processing dataset as sequential data\n",
      "Processed track 01_BN1-147-Gb_comp and appended data to combined CSV.\n",
      "Processing dataset as sequential data\n",
      "Processed track 01_BN1-147-Gb_solo and appended data to combined CSV.\n",
      "Processing dataset as sequential data\n",
      "Processed track 01_BN2-131-B_comp and appended data to combined CSV.\n",
      "Processing dataset as sequential data\n",
      "Processed track 01_BN2-131-B_solo and appended data to combined CSV.\n",
      "Processing dataset as sequential data\n",
      "Processed track 01_BN2-166-Ab_comp and appended data to combined CSV.\n",
      "Processing dataset as sequential data\n",
      "Processed track 01_BN2-166-Ab_solo and appended data to combined CSV.\n",
      "Processing dataset as sequential data\n",
      "Processed track 01_BN3-119-G_comp and appended data to combined CSV.\n",
      "Processing dataset as sequential data\n",
      "Processed track 01_BN3-119-G_solo and appended data to combined CSV.\n",
      "Processing dataset as sequential data\n",
      "Processed track 01_BN3-154-E_comp and appended data to combined CSV.\n",
      "Processing dataset as sequential data\n",
      "Processed track 01_BN3-154-E_solo and appended data to combined CSV.\n",
      "Processing dataset as sequential data\n",
      "Processed track 01_Funk1-114-Ab_comp and appended data to combined CSV.\n",
      "Processing dataset as sequential data\n",
      "Processed track 01_Funk1-114-Ab_solo and appended data to combined CSV.\n",
      "Processing dataset as sequential data\n",
      "Processed track 01_Funk1-97-C_comp and appended data to combined CSV.\n",
      "Processing dataset as sequential data\n",
      "Processed track 01_Funk1-97-C_solo and appended data to combined CSV.\n",
      "Processing dataset as sequential data\n",
      "Processed track 01_Funk2-108-Eb_comp and appended data to combined CSV.\n",
      "Processing dataset as sequential data\n",
      "Processed track 01_Funk2-108-Eb_solo and appended data to combined CSV.\n",
      "Processing dataset as sequential data\n",
      "Processed track 01_Funk2-119-G_comp and appended data to combined CSV.\n",
      "Processing dataset as sequential data\n",
      "Processed track 01_Funk2-119-G_solo and appended data to combined CSV.\n",
      "Processing dataset as sequential data\n",
      "Processed track 01_Funk3-112-C#_comp and appended data to combined CSV.\n",
      "Processing dataset as sequential data\n",
      "Processed track 01_Funk3-112-C#_solo and appended data to combined CSV.\n",
      "Processing dataset as sequential data\n",
      "Processed track 01_Funk3-98-A_comp and appended data to combined CSV.\n",
      "Processing dataset as sequential data\n",
      "Processed track 01_Funk3-98-A_solo and appended data to combined CSV.\n",
      "Processing dataset as sequential data\n",
      "Processed track 01_Jazz1-130-D_comp and appended data to combined CSV.\n",
      "Processing dataset as sequential data\n",
      "Processed track 01_Jazz1-130-D_solo and appended data to combined CSV.\n",
      "Processing dataset as sequential data\n",
      "Processed track 01_Jazz1-200-B_comp and appended data to combined CSV.\n",
      "Processing dataset as sequential data\n",
      "Processed track 01_Jazz1-200-B_solo and appended data to combined CSV.\n",
      "Processing dataset as sequential data\n",
      "Processed track 01_Jazz2-110-Bb_comp and appended data to combined CSV.\n",
      "Processing dataset as sequential data\n",
      "Processed track 01_Jazz2-110-Bb_solo and appended data to combined CSV.\n",
      "Processing dataset as sequential data\n",
      "Processed track 01_Jazz2-187-F#_comp and appended data to combined CSV.\n",
      "Processing dataset as sequential data\n",
      "Processed track 01_Jazz2-187-F#_solo and appended data to combined CSV.\n",
      "Processing dataset as sequential data\n",
      "Processed track 01_Jazz3-137-Eb_comp and appended data to combined CSV.\n",
      "Processing dataset as sequential data\n",
      "Processed track 01_Jazz3-137-Eb_solo and appended data to combined CSV.\n",
      "Processing dataset as sequential data\n",
      "Processed track 01_Jazz3-150-C_comp and appended data to combined CSV.\n",
      "Processing dataset as sequential data\n",
      "Processed track 01_Jazz3-150-C_solo and appended data to combined CSV.\n",
      "Processing dataset as sequential data\n",
      "Processed track 01_Rock1-130-A_comp and appended data to combined CSV.\n",
      "Processing dataset as sequential data\n",
      "Processed track 01_Rock1-130-A_solo and appended data to combined CSV.\n",
      "Processing dataset as sequential data\n",
      "Processed track 01_Rock1-90-C#_comp and appended data to combined CSV.\n",
      "Processing dataset as sequential data\n",
      "Processed track 01_Rock1-90-C#_solo and appended data to combined CSV.\n",
      "Processing dataset as sequential data\n",
      "Processed track 01_Rock2-142-D_comp and appended data to combined CSV.\n",
      "Processing dataset as sequential data\n",
      "Processed track 01_Rock2-142-D_solo and appended data to combined CSV.\n",
      "Processing dataset as sequential data\n",
      "Processed track 01_Rock2-85-F_comp and appended data to combined CSV.\n",
      "Processing dataset as sequential data\n",
      "Processed track 01_Rock2-85-F_solo and appended data to combined CSV.\n",
      "Processing dataset as sequential data\n",
      "Processed track 01_Rock3-117-Bb_comp and appended data to combined CSV.\n",
      "Processing dataset as sequential data\n",
      "Processed track 01_Rock3-117-Bb_solo and appended data to combined CSV.\n",
      "Processing dataset as sequential data\n",
      "Processed track 01_Rock3-148-C_comp and appended data to combined CSV.\n",
      "Processing dataset as sequential data\n",
      "Processed track 01_Rock3-148-C_solo and appended data to combined CSV.\n",
      "Processing dataset as sequential data\n",
      "Processed track 01_SS1-100-C#_comp and appended data to combined CSV.\n",
      "Processing dataset as sequential data\n",
      "Processed track 01_SS1-100-C#_solo and appended data to combined CSV.\n",
      "Processing dataset as sequential data\n",
      "Processed track 01_SS1-68-E_comp and appended data to combined CSV.\n",
      "Processing dataset as sequential data\n",
      "Processed track 01_SS1-68-E_solo and appended data to combined CSV.\n",
      "Processing dataset as sequential data\n",
      "Processed track 01_SS2-107-Ab_comp and appended data to combined CSV.\n",
      "Processing dataset as sequential data\n",
      "Processed track 01_SS2-107-Ab_solo and appended data to combined CSV.\n",
      "Processing dataset as sequential data\n",
      "Processed track 01_SS2-88-F_comp and appended data to combined CSV.\n",
      "Processing dataset as sequential data\n",
      "Processed track 01_SS2-88-F_solo and appended data to combined CSV.\n",
      "Processing dataset as sequential data\n",
      "Processed track 01_SS3-84-Bb_comp and appended data to combined CSV.\n",
      "Processing dataset as sequential data\n",
      "Processed track 01_SS3-84-Bb_solo and appended data to combined CSV.\n",
      "Processing dataset as sequential data\n",
      "Processed track 01_SS3-98-C_comp and appended data to combined CSV.\n",
      "Processing dataset as sequential data\n",
      "Processed track 01_SS3-98-C_solo and appended data to combined CSV.\n",
      "Processing dataset as sequential data\n",
      "Processed track 02_BN1-129-Eb_comp and appended data to combined CSV.\n",
      "Processing dataset as sequential data\n",
      "Processed track 02_BN1-129-Eb_solo and appended data to combined CSV.\n",
      "Processing dataset as sequential data\n",
      "Processed track 02_BN1-147-Gb_comp and appended data to combined CSV.\n",
      "Processing dataset as sequential data\n",
      "Processed track 02_BN1-147-Gb_solo and appended data to combined CSV.\n",
      "Processing dataset as sequential data\n",
      "Processed track 02_BN2-131-B_comp and appended data to combined CSV.\n",
      "Processing dataset as sequential data\n",
      "Processed track 02_BN2-131-B_solo and appended data to combined CSV.\n",
      "Processing dataset as sequential data\n",
      "Processed track 02_BN2-166-Ab_comp and appended data to combined CSV.\n",
      "Processing dataset as sequential data\n",
      "Processed track 02_BN2-166-Ab_solo and appended data to combined CSV.\n",
      "Processing dataset as sequential data\n",
      "Processed track 02_BN3-119-G_comp and appended data to combined CSV.\n",
      "Processing dataset as sequential data\n",
      "Processed track 02_BN3-119-G_solo and appended data to combined CSV.\n",
      "Processing dataset as sequential data\n",
      "Processed track 02_BN3-154-E_comp and appended data to combined CSV.\n",
      "Processing dataset as sequential data\n",
      "Processed track 02_BN3-154-E_solo and appended data to combined CSV.\n",
      "Processing dataset as sequential data\n",
      "Processed track 02_Funk1-114-Ab_comp and appended data to combined CSV.\n",
      "Processing dataset as sequential data\n",
      "Processed track 02_Funk1-114-Ab_solo and appended data to combined CSV.\n",
      "Processing dataset as sequential data\n",
      "Processed track 02_Funk1-97-C_comp and appended data to combined CSV.\n",
      "Processing dataset as sequential data\n",
      "Processed track 02_Funk1-97-C_solo and appended data to combined CSV.\n",
      "Processing dataset as sequential data\n",
      "Processed track 02_Funk2-108-Eb_comp and appended data to combined CSV.\n",
      "Processing dataset as sequential data\n",
      "Processed track 02_Funk2-108-Eb_solo and appended data to combined CSV.\n",
      "Processing dataset as sequential data\n",
      "Processed track 02_Funk2-119-G_comp and appended data to combined CSV.\n",
      "Processing dataset as sequential data\n",
      "Processed track 02_Funk2-119-G_solo and appended data to combined CSV.\n",
      "Processing dataset as sequential data\n",
      "Processed track 02_Funk3-112-C#_comp and appended data to combined CSV.\n",
      "Processing dataset as sequential data\n",
      "Processed track 02_Funk3-112-C#_solo and appended data to combined CSV.\n",
      "Processing dataset as sequential data\n",
      "Processed track 02_Funk3-98-A_comp and appended data to combined CSV.\n",
      "Processing dataset as sequential data\n",
      "Processed track 02_Funk3-98-A_solo and appended data to combined CSV.\n",
      "Processing dataset as sequential data\n",
      "Processed track 02_Jazz1-130-D_comp and appended data to combined CSV.\n",
      "Processing dataset as sequential data\n",
      "Processed track 02_Jazz1-130-D_solo and appended data to combined CSV.\n",
      "Processing dataset as sequential data\n",
      "Processed track 02_Jazz1-200-B_comp and appended data to combined CSV.\n",
      "Processing dataset as sequential data\n",
      "Processed track 02_Jazz1-200-B_solo and appended data to combined CSV.\n",
      "Processing dataset as sequential data\n",
      "Processed track 02_Jazz2-110-Bb_comp and appended data to combined CSV.\n",
      "Processing dataset as sequential data\n",
      "Processed track 02_Jazz2-110-Bb_solo and appended data to combined CSV.\n",
      "All data processed and saved to c:\\Users\\mattb\\Documents\\CS7643\\Final Project\\amadeus-ex-machina\\data\\processed\\combined_data.csv\n",
      "Preparing model data...\n",
      "Loading the combined CSV file...\n",
      "Separating song IDs, features, and labels...\n",
      "Scaling features using MinMaxScaler...\n",
      "Encoding labels using LabelEncoder...\n",
      "Saving the scaler to c:\\Users\\mattb\\Documents\\CS7643\\Final Project\\amadeus-ex-machina\\data\\processed\\scaler.pkl...\n",
      "Saving the label encoder to c:\\Users\\mattb\\Documents\\CS7643\\Final Project\\amadeus-ex-machina\\data\\processed\\label_encoder.pkl...\n",
      "Creating sequences of chromagram data within song boundaries...\n",
      "Splitting data into training and testing sets...\n",
      "Data preparation complete.\n",
      "Number of classes determined: 42\n",
      "Creating TensorDatasets for training and testing data...\n",
      "Creating DataLoaders for training and testing datasets...\n",
      "Data loaders are ready for training and testing.\n",
      "Number of classes: 42\n"
     ]
    }
   ],
   "source": [
    "data_processer = MirDataProcessor(download=False, batch_size=128, dataset_name=\"guitarset\", process_sequential=True, seq_length=32768)\n",
    "\n",
    "data_processer.process_wav_data(150)\n",
    "\n",
    "# Create data loeaders for train and test set\n",
    "train_loader, test_loader, num_classes = data_processer.build_data_loaders(None, device)\n",
    "\n",
    "print(f\"Number of classes: {num_classes}\")"
   ]
  },
  {
   "cell_type": "code",
   "execution_count": 9,
   "metadata": {},
   "outputs": [],
   "source": [
    "from models.FourierS2S import FourierS2S"
   ]
  },
  {
   "cell_type": "code",
   "execution_count": 10,
   "metadata": {},
   "outputs": [],
   "source": [
    "# NOTE: Do not assume these values are anything but trash, they're just here for testing\n",
    "\n",
    "SOLVER_PARAMS = {\n",
    "    Solver : {\n",
    "        \"device\": device,\n",
    "        \"batch_size\": 128,\n",
    "        \"epochs\": 50,\n",
    "        \"early_stop_epochs\": 5, # early stop after n epochs without improvement, 0 to disable\n",
    "        \"warmup_epochs\": 0, # 0 to disable\n",
    "        \"dtype\": \"float16\",\n",
    "        \"train_dataloader\": train_loader, # must be DataLoader object\n",
    "        \"valid_dataloader\": test_loader, # must be DataLoader object\n",
    "        \"direction\": \"minimize\" # must specify this, even if not used by solver\n",
    "    }\n",
    "}\n",
    "\n",
    "MODEL_PARAMS = {\n",
    "    FourierS2S: {\n",
    "        \"kernel_size\": [512, 1024, 2048, 4096, 8192, 16384],\n",
    "        \"stride\": [256, 512, 1024, 4096, 8192, 16384],\n",
    "        \"fourier_size\": [128, 512, 2048, 4096, 8192],\n",
    "        \"enc_hidden\": [64, 256, 512, 1024],\n",
    "        \"dec_hidden\": [64, 256, 512, 1024],\n",
    "        \"output_size\": [num_classes],\n",
    "        \"token_size\": [32768],\n",
    "        \"device\": [device]\n",
    "    }\n",
    "}\n",
    "\n",
    "OPTIM_PARAMS = {\n",
    "\n",
    "    torch.optim.Adam : {\n",
    "        \"lr\": [.001, .0001], # this will auto-search as CATEGORICAL\n",
    "    }\n",
    "}\n",
    "\n",
    "SCHED_PARAMS = {\n",
    "    torch.optim.lr_scheduler.StepLR : {\n",
    "        \"step_size\": [10, 20],\n",
    "        \"gamma\" : [0.1, 0.01],\n",
    "    }\n",
    "}\n",
    "\n",
    "CRITERION_PARAMS = {\n",
    "    torch.nn.CrossEntropyLoss : {}\n",
    "}\n",
    "\n",
    "PARAM_SET = {\n",
    "    \"solver\": SOLVER_PARAMS,\n",
    "    \"model\" : MODEL_PARAMS,\n",
    "    \"optim\" : OPTIM_PARAMS,\n",
    "    \"sched\" : SCHED_PARAMS,\n",
    "    \"criterion\" : CRITERION_PARAMS,\n",
    "}"
   ]
  },
  {
   "cell_type": "code",
   "execution_count": 11,
   "metadata": {},
   "outputs": [
    {
     "name": "stdout",
     "output_type": "stream",
     "text": [
      "\"Hitting the griddy...\" -Ellie\n"
     ]
    },
    {
     "name": "stderr",
     "output_type": "stream",
     "text": [
      "[I 2024-12-09 00:04:53,165] A new study created in RDB with name: FourierS2S8192\n"
     ]
    },
    {
     "name": "stdout",
     "output_type": "stream",
     "text": [
      "-----------------------------------\n",
      "Epoch 1\n",
      "-----------------------------------\n"
     ]
    },
    {
     "data": {
      "application/vnd.jupyter.widget-view+json": {
       "model_id": "aac67cbae2ca41e4a66979e8897ac036",
       "version_major": 2,
       "version_minor": 0
      },
      "text/plain": [
       "Training:   0%|          | 0/46 [00:00<?, ?it/s]"
      ]
     },
     "metadata": {},
     "output_type": "display_data"
    },
    {
     "name": "stdout",
     "output_type": "stream",
     "text": [
      "-----------------------------------\n",
      "Epoch 1\n",
      "-----------------------------------\n"
     ]
    },
    {
     "data": {
      "application/vnd.jupyter.widget-view+json": {
       "model_id": "699140d39e3049e1917962534f096158",
       "version_major": 2,
       "version_minor": 0
      },
      "text/plain": [
       "Training:   0%|          | 0/46 [00:00<?, ?it/s]"
      ]
     },
     "metadata": {},
     "output_type": "display_data"
    },
    {
     "name": "stdout",
     "output_type": "stream",
     "text": [
      "Training Loss: 3.6535. Validation Loss: 3.5544.\n",
      "Training Accuracy: 0.0339. Validation Accuracy: 0.0294.\n",
      "-----------------------------------\n",
      "Epoch 2\n",
      "-----------------------------------\n"
     ]
    },
    {
     "name": "stderr",
     "output_type": "stream",
     "text": [
      "c:\\Users\\mattb\\miniconda3\\envs\\amadeus-ex-machina\\Lib\\site-packages\\torch\\optim\\lr_scheduler.py:240: UserWarning: The epoch parameter in `scheduler.step()` was not necessary and is being deprecated where possible. Please use `scheduler.step()` to step the scheduler. During the deprecation, if epoch is different from None, the closed form is used instead of the new chainable form, where available. Please open an issue if you are unable to replicate your use case: https://github.com/pytorch/pytorch/issues/new/choose.\n",
      "  warnings.warn(EPOCH_DEPRECATION_WARNING, UserWarning)\n"
     ]
    },
    {
     "data": {
      "application/vnd.jupyter.widget-view+json": {
       "model_id": "219a4c03f38c45b8b93a6f09d4a6f9ff",
       "version_major": 2,
       "version_minor": 0
      },
      "text/plain": [
       "Training:   0%|          | 0/46 [00:00<?, ?it/s]"
      ]
     },
     "metadata": {},
     "output_type": "display_data"
    },
    {
     "name": "stdout",
     "output_type": "stream",
     "text": [
      "Training Loss: 3.8069. Validation Loss: 3.6496.\n",
      "Training Accuracy: 0.0155. Validation Accuracy: 0.0425.\n",
      "-----------------------------------\n",
      "Epoch 2\n",
      "-----------------------------------\n"
     ]
    },
    {
     "data": {
      "application/vnd.jupyter.widget-view+json": {
       "model_id": "0b7b1f66fea842f2b47ef5021ad94f12",
       "version_major": 2,
       "version_minor": 0
      },
      "text/plain": [
       "Training:   0%|          | 0/46 [00:00<?, ?it/s]"
      ]
     },
     "metadata": {},
     "output_type": "display_data"
    },
    {
     "name": "stdout",
     "output_type": "stream",
     "text": [
      "Training Loss: 3.4723. Validation Loss: 3.4647.\n",
      "Training Accuracy: 0.0768. Validation Accuracy: 0.0392.\n",
      "-----------------------------------\n",
      "Epoch 3\n",
      "-----------------------------------\n"
     ]
    },
    {
     "data": {
      "application/vnd.jupyter.widget-view+json": {
       "model_id": "c3b97a30c29d4af281dadcdf85eaf593",
       "version_major": 2,
       "version_minor": 0
      },
      "text/plain": [
       "Training:   0%|          | 0/46 [00:00<?, ?it/s]"
      ]
     },
     "metadata": {},
     "output_type": "display_data"
    },
    {
     "name": "stdout",
     "output_type": "stream",
     "text": [
      "Training Loss: 3.4059. Validation Loss: 3.4532.\n",
      "Training Accuracy: 0.0770. Validation Accuracy: 0.0425.\n",
      "-----------------------------------\n",
      "Epoch 4\n",
      "-----------------------------------\n"
     ]
    },
    {
     "data": {
      "application/vnd.jupyter.widget-view+json": {
       "model_id": "27704e478b6440189e18ee195f4b12a8",
       "version_major": 2,
       "version_minor": 0
      },
      "text/plain": [
       "Training:   0%|          | 0/46 [00:00<?, ?it/s]"
      ]
     },
     "metadata": {},
     "output_type": "display_data"
    },
    {
     "name": "stdout",
     "output_type": "stream",
     "text": [
      "Training Loss: 3.7375. Validation Loss: 3.6186.\n",
      "Training Accuracy: 0.0353. Validation Accuracy: 0.0458.\n",
      "-----------------------------------\n",
      "Epoch 3\n",
      "-----------------------------------\n"
     ]
    },
    {
     "data": {
      "application/vnd.jupyter.widget-view+json": {
       "model_id": "940c88f3dc8641dd815fb04395acca0e",
       "version_major": 2,
       "version_minor": 0
      },
      "text/plain": [
       "Training:   0%|          | 0/46 [00:00<?, ?it/s]"
      ]
     },
     "metadata": {},
     "output_type": "display_data"
    },
    {
     "name": "stdout",
     "output_type": "stream",
     "text": [
      "Training Loss: 3.3885. Validation Loss: 3.4549.\n",
      "Training Accuracy: 0.0794. Validation Accuracy: 0.0425.\n",
      "-----------------------------------\n",
      "Epoch 5\n",
      "-----------------------------------\n"
     ]
    },
    {
     "data": {
      "application/vnd.jupyter.widget-view+json": {
       "model_id": "52af76f352804a40a10d67f6ca53807e",
       "version_major": 2,
       "version_minor": 0
      },
      "text/plain": [
       "Training:   0%|          | 0/46 [00:00<?, ?it/s]"
      ]
     },
     "metadata": {},
     "output_type": "display_data"
    },
    {
     "name": "stdout",
     "output_type": "stream",
     "text": [
      "Training Loss: 3.3825. Validation Loss: 3.4547.\n",
      "Training Accuracy: 0.0787. Validation Accuracy: 0.0458.\n",
      "-----------------------------------\n",
      "Epoch 6\n",
      "-----------------------------------\n"
     ]
    },
    {
     "data": {
      "application/vnd.jupyter.widget-view+json": {
       "model_id": "b0b0f55f427e44e2bd90a4b441fa6e58",
       "version_major": 2,
       "version_minor": 0
      },
      "text/plain": [
       "Training:   0%|          | 0/46 [00:00<?, ?it/s]"
      ]
     },
     "metadata": {},
     "output_type": "display_data"
    },
    {
     "name": "stdout",
     "output_type": "stream",
     "text": [
      "Training Loss: 3.6922. Validation Loss: 3.5816.\n",
      "Training Accuracy: 0.0511. Validation Accuracy: 0.1078.\n",
      "-----------------------------------\n",
      "Epoch 4\n",
      "-----------------------------------\n"
     ]
    },
    {
     "data": {
      "application/vnd.jupyter.widget-view+json": {
       "model_id": "2518d9acdd2c4b1e8ee9726c30d702bb",
       "version_major": 2,
       "version_minor": 0
      },
      "text/plain": [
       "Training:   0%|          | 0/46 [00:00<?, ?it/s]"
      ]
     },
     "metadata": {},
     "output_type": "display_data"
    },
    {
     "name": "stdout",
     "output_type": "stream",
     "text": [
      "Training Loss: 3.3814. Validation Loss: 3.4536.\n",
      "Training Accuracy: 0.0814. Validation Accuracy: 0.0490.\n",
      "-----------------------------------\n",
      "Epoch 7\n",
      "-----------------------------------\n"
     ]
    },
    {
     "data": {
      "application/vnd.jupyter.widget-view+json": {
       "model_id": "5eebb00030474ffb8d80aa996e6cb0f0",
       "version_major": 2,
       "version_minor": 0
      },
      "text/plain": [
       "Training:   0%|          | 0/46 [00:00<?, ?it/s]"
      ]
     },
     "metadata": {},
     "output_type": "display_data"
    },
    {
     "name": "stdout",
     "output_type": "stream",
     "text": [
      "Training Loss: 3.3761. Validation Loss: 3.4538.\n",
      "Training Accuracy: 0.0809. Validation Accuracy: 0.0490.\n",
      "-----------------------------------\n",
      "Epoch 8\n",
      "-----------------------------------\n"
     ]
    },
    {
     "data": {
      "application/vnd.jupyter.widget-view+json": {
       "model_id": "41070c63ad8d47609b4f72d9de980ae3",
       "version_major": 2,
       "version_minor": 0
      },
      "text/plain": [
       "Training:   0%|          | 0/46 [00:00<?, ?it/s]"
      ]
     },
     "metadata": {},
     "output_type": "display_data"
    },
    {
     "name": "stdout",
     "output_type": "stream",
     "text": [
      "Training Loss: 3.6529. Validation Loss: 3.5559.\n",
      "Training Accuracy: 0.0596. Validation Accuracy: 0.1275.\n",
      "-----------------------------------\n",
      "Epoch 5\n",
      "-----------------------------------\n"
     ]
    },
    {
     "data": {
      "application/vnd.jupyter.widget-view+json": {
       "model_id": "ad3e63cd4c714afea6bcac52ade6dd70",
       "version_major": 2,
       "version_minor": 0
      },
      "text/plain": [
       "Training:   0%|          | 0/46 [00:00<?, ?it/s]"
      ]
     },
     "metadata": {},
     "output_type": "display_data"
    },
    {
     "name": "stderr",
     "output_type": "stream",
     "text": [
      "[I 2024-12-09 00:06:04,372] Trial 1 finished with value: 1056.6916933059692 and parameters: {'kernel_size': 16384, 'stride': 4096, 'fourier_size': 512, 'enc_hidden': 512, 'dec_hidden': 512, 'lr': 0.0001, 'step_size': 10, 'gamma': 0.01}. Best is trial 1 with value: 1056.6916933059692.\n"
     ]
    },
    {
     "name": "stdout",
     "output_type": "stream",
     "text": [
      "Training Loss: 3.3759. Validation Loss: 3.4548.\n",
      "Training Accuracy: 0.0763. Validation Accuracy: 0.0490.\n",
      "EARLY STOP E:8 L:3.4548\n",
      "-----------------------------------\n",
      "Epoch 1\n",
      "-----------------------------------\n"
     ]
    },
    {
     "data": {
      "application/vnd.jupyter.widget-view+json": {
       "model_id": "e7df7b9eca204538adf65740cfcccdde",
       "version_major": 2,
       "version_minor": 0
      },
      "text/plain": [
       "Training:   0%|          | 0/46 [00:00<?, ?it/s]"
      ]
     },
     "metadata": {},
     "output_type": "display_data"
    },
    {
     "name": "stdout",
     "output_type": "stream",
     "text": [
      "Training Loss: 3.6206. Validation Loss: 3.5369.\n",
      "Training Accuracy: 0.0680. Validation Accuracy: 0.1275.\n",
      "-----------------------------------\n",
      "Epoch 6\n",
      "-----------------------------------\n"
     ]
    },
    {
     "data": {
      "application/vnd.jupyter.widget-view+json": {
       "model_id": "80b445f93403457d95a18268419ac167",
       "version_major": 2,
       "version_minor": 0
      },
      "text/plain": [
       "Training:   0%|          | 0/46 [00:00<?, ?it/s]"
      ]
     },
     "metadata": {},
     "output_type": "display_data"
    },
    {
     "name": "stdout",
     "output_type": "stream",
     "text": [
      "Training Loss: 3.5154. Validation Loss: 3.4985.\n",
      "Training Accuracy: 0.0606. Validation Accuracy: 0.1013.\n",
      "-----------------------------------\n",
      "Epoch 2\n",
      "-----------------------------------\n"
     ]
    },
    {
     "data": {
      "application/vnd.jupyter.widget-view+json": {
       "model_id": "c118ccd91c3745488c4d082955b7dcf6",
       "version_major": 2,
       "version_minor": 0
      },
      "text/plain": [
       "Training:   0%|          | 0/46 [00:00<?, ?it/s]"
      ]
     },
     "metadata": {},
     "output_type": "display_data"
    },
    {
     "name": "stdout",
     "output_type": "stream",
     "text": [
      "Training Loss: 3.5929. Validation Loss: 3.5294.\n",
      "Training Accuracy: 0.0671. Validation Accuracy: 0.1275.\n",
      "-----------------------------------\n",
      "Epoch 7\n",
      "-----------------------------------\n"
     ]
    },
    {
     "data": {
      "application/vnd.jupyter.widget-view+json": {
       "model_id": "df2843dcbc3542d0bdf83043d2f4b904",
       "version_major": 2,
       "version_minor": 0
      },
      "text/plain": [
       "Training:   0%|          | 0/46 [00:00<?, ?it/s]"
      ]
     },
     "metadata": {},
     "output_type": "display_data"
    },
    {
     "name": "stdout",
     "output_type": "stream",
     "text": [
      "Training Loss: 3.3857. Validation Loss: 3.4422.\n",
      "Training Accuracy: 0.0799. Validation Accuracy: 0.0556.\n",
      "-----------------------------------\n",
      "Epoch 3\n",
      "-----------------------------------\n"
     ]
    },
    {
     "data": {
      "application/vnd.jupyter.widget-view+json": {
       "model_id": "2f4d157eee3a49a6b4fcce706eb5473c",
       "version_major": 2,
       "version_minor": 0
      },
      "text/plain": [
       "Training:   0%|          | 0/46 [00:00<?, ?it/s]"
      ]
     },
     "metadata": {},
     "output_type": "display_data"
    },
    {
     "name": "stdout",
     "output_type": "stream",
     "text": [
      "Training Loss: 3.3688. Validation Loss: 3.4427.\n",
      "Training Accuracy: 0.0830. Validation Accuracy: 0.0915.\n",
      "-----------------------------------\n",
      "Epoch 4\n",
      "-----------------------------------\n"
     ]
    },
    {
     "data": {
      "application/vnd.jupyter.widget-view+json": {
       "model_id": "b304d8cf2dd94b9a9016805bbd756820",
       "version_major": 2,
       "version_minor": 0
      },
      "text/plain": [
       "Training:   0%|          | 0/46 [00:00<?, ?it/s]"
      ]
     },
     "metadata": {},
     "output_type": "display_data"
    },
    {
     "name": "stdout",
     "output_type": "stream",
     "text": [
      "Training Loss: 3.5704. Validation Loss: 3.5178.\n",
      "Training Accuracy: 0.0720. Validation Accuracy: 0.1275.\n",
      "-----------------------------------\n",
      "Epoch 8\n",
      "-----------------------------------\n"
     ]
    },
    {
     "data": {
      "application/vnd.jupyter.widget-view+json": {
       "model_id": "060571f42c974d14a0f517307736b214",
       "version_major": 2,
       "version_minor": 0
      },
      "text/plain": [
       "Training:   0%|          | 0/46 [00:00<?, ?it/s]"
      ]
     },
     "metadata": {},
     "output_type": "display_data"
    },
    {
     "name": "stdout",
     "output_type": "stream",
     "text": [
      "Training Loss: 3.3416. Validation Loss: 3.4630.\n",
      "Training Accuracy: 0.0845. Validation Accuracy: 0.0784.\n",
      "-----------------------------------\n",
      "Epoch 5\n",
      "-----------------------------------\n"
     ]
    },
    {
     "data": {
      "application/vnd.jupyter.widget-view+json": {
       "model_id": "12796ae7601b4a5f92bfd068cb0bb8e2",
       "version_major": 2,
       "version_minor": 0
      },
      "text/plain": [
       "Training:   0%|          | 0/46 [00:00<?, ?it/s]"
      ]
     },
     "metadata": {},
     "output_type": "display_data"
    },
    {
     "name": "stdout",
     "output_type": "stream",
     "text": [
      "Training Loss: 3.5487. Validation Loss: 3.4986.\n",
      "Training Accuracy: 0.0715. Validation Accuracy: 0.1307.\n",
      "-----------------------------------\n",
      "Epoch 9\n",
      "-----------------------------------\n"
     ]
    },
    {
     "data": {
      "application/vnd.jupyter.widget-view+json": {
       "model_id": "d80113f0b463428a9a114c402b6b4cfa",
       "version_major": 2,
       "version_minor": 0
      },
      "text/plain": [
       "Training:   0%|          | 0/46 [00:00<?, ?it/s]"
      ]
     },
     "metadata": {},
     "output_type": "display_data"
    },
    {
     "name": "stdout",
     "output_type": "stream",
     "text": [
      "Training Loss: 3.3206. Validation Loss: 3.4229.\n",
      "Training Accuracy: 0.0906. Validation Accuracy: 0.0719.\n",
      "-----------------------------------\n",
      "Epoch 6\n",
      "-----------------------------------\n"
     ]
    },
    {
     "data": {
      "application/vnd.jupyter.widget-view+json": {
       "model_id": "9cf69e863cd14cf6a8dadb5370650196",
       "version_major": 2,
       "version_minor": 0
      },
      "text/plain": [
       "Training:   0%|          | 0/46 [00:00<?, ?it/s]"
      ]
     },
     "metadata": {},
     "output_type": "display_data"
    },
    {
     "name": "stdout",
     "output_type": "stream",
     "text": [
      "Training Loss: 3.5249. Validation Loss: 3.4903.\n",
      "Training Accuracy: 0.0756. Validation Accuracy: 0.1275.\n",
      "-----------------------------------\n",
      "Epoch 10\n",
      "-----------------------------------\n"
     ]
    },
    {
     "data": {
      "application/vnd.jupyter.widget-view+json": {
       "model_id": "239dc74489da4e248cd16c53428e4d09",
       "version_major": 2,
       "version_minor": 0
      },
      "text/plain": [
       "Training:   0%|          | 0/46 [00:00<?, ?it/s]"
      ]
     },
     "metadata": {},
     "output_type": "display_data"
    },
    {
     "name": "stdout",
     "output_type": "stream",
     "text": [
      "Training Loss: 3.3061. Validation Loss: 3.3884.\n",
      "Training Accuracy: 0.0969. Validation Accuracy: 0.0850.\n",
      "-----------------------------------\n",
      "Epoch 7\n",
      "-----------------------------------\n"
     ]
    },
    {
     "data": {
      "application/vnd.jupyter.widget-view+json": {
       "model_id": "6922faaa42f3481b8c171c98b1b49bfe",
       "version_major": 2,
       "version_minor": 0
      },
      "text/plain": [
       "Training:   0%|          | 0/46 [00:00<?, ?it/s]"
      ]
     },
     "metadata": {},
     "output_type": "display_data"
    },
    {
     "name": "stdout",
     "output_type": "stream",
     "text": [
      "Training Loss: 3.5089. Validation Loss: 3.4844.\n",
      "Training Accuracy: 0.0749. Validation Accuracy: 0.1275.\n",
      "-----------------------------------\n",
      "Epoch 11\n",
      "-----------------------------------\n"
     ]
    },
    {
     "data": {
      "application/vnd.jupyter.widget-view+json": {
       "model_id": "08ad93cdbc9146aabef9d96e1f9be7ee",
       "version_major": 2,
       "version_minor": 0
      },
      "text/plain": [
       "Training:   0%|          | 0/46 [00:00<?, ?it/s]"
      ]
     },
     "metadata": {},
     "output_type": "display_data"
    },
    {
     "name": "stdout",
     "output_type": "stream",
     "text": [
      "Training Loss: 3.2917. Validation Loss: 3.4650.\n",
      "Training Accuracy: 0.0971. Validation Accuracy: 0.0719.\n",
      "-----------------------------------\n",
      "Epoch 8\n",
      "-----------------------------------\n"
     ]
    },
    {
     "data": {
      "application/vnd.jupyter.widget-view+json": {
       "model_id": "11cb5899e5fd4a49bee209fae4b85f68",
       "version_major": 2,
       "version_minor": 0
      },
      "text/plain": [
       "Training:   0%|          | 0/46 [00:00<?, ?it/s]"
      ]
     },
     "metadata": {},
     "output_type": "display_data"
    },
    {
     "name": "stdout",
     "output_type": "stream",
     "text": [
      "Training Loss: 3.4940. Validation Loss: 3.4822.\n",
      "Training Accuracy: 0.0718. Validation Accuracy: 0.1275.\n",
      "-----------------------------------\n",
      "Epoch 12\n",
      "-----------------------------------\n"
     ]
    },
    {
     "data": {
      "application/vnd.jupyter.widget-view+json": {
       "model_id": "31c8e6beb4c4485b9f0af5b6cb854401",
       "version_major": 2,
       "version_minor": 0
      },
      "text/plain": [
       "Training:   0%|          | 0/46 [00:00<?, ?it/s]"
      ]
     },
     "metadata": {},
     "output_type": "display_data"
    },
    {
     "name": "stdout",
     "output_type": "stream",
     "text": [
      "Training Loss: 3.2749. Validation Loss: 3.4438.\n",
      "Training Accuracy: 0.1090. Validation Accuracy: 0.0719.\n",
      "-----------------------------------\n",
      "Epoch 9\n",
      "-----------------------------------\n"
     ]
    },
    {
     "data": {
      "application/vnd.jupyter.widget-view+json": {
       "model_id": "9e93db2ac17d4f4eadd42d65abb38f1f",
       "version_major": 2,
       "version_minor": 0
      },
      "text/plain": [
       "Training:   0%|          | 0/46 [00:00<?, ?it/s]"
      ]
     },
     "metadata": {},
     "output_type": "display_data"
    },
    {
     "name": "stdout",
     "output_type": "stream",
     "text": [
      "Training Loss: 3.2643. Validation Loss: 3.4201.\n",
      "Training Accuracy: 0.1111. Validation Accuracy: 0.0719.\n",
      "-----------------------------------\n",
      "Epoch 10\n",
      "-----------------------------------\n"
     ]
    },
    {
     "data": {
      "application/vnd.jupyter.widget-view+json": {
       "model_id": "a11ce7ffa1154980b96860667f89365c",
       "version_major": 2,
       "version_minor": 0
      },
      "text/plain": [
       "Training:   0%|          | 0/46 [00:00<?, ?it/s]"
      ]
     },
     "metadata": {},
     "output_type": "display_data"
    },
    {
     "name": "stdout",
     "output_type": "stream",
     "text": [
      "Training Loss: 3.4766. Validation Loss: 3.4797.\n",
      "Training Accuracy: 0.0756. Validation Accuracy: 0.1275.\n",
      "-----------------------------------\n",
      "Epoch 13\n",
      "-----------------------------------\n"
     ]
    },
    {
     "data": {
      "application/vnd.jupyter.widget-view+json": {
       "model_id": "5b5e47f39bef4b46ad8fe4a4482f2d25",
       "version_major": 2,
       "version_minor": 0
      },
      "text/plain": [
       "Training:   0%|          | 0/46 [00:00<?, ?it/s]"
      ]
     },
     "metadata": {},
     "output_type": "display_data"
    },
    {
     "name": "stdout",
     "output_type": "stream",
     "text": [
      "Training Loss: 3.2499. Validation Loss: 3.3942.\n",
      "Training Accuracy: 0.1119. Validation Accuracy: 0.1209.\n",
      "-----------------------------------\n",
      "Epoch 11\n",
      "-----------------------------------\n"
     ]
    },
    {
     "data": {
      "application/vnd.jupyter.widget-view+json": {
       "model_id": "088f68c17a304ab8a2ca59ecd373aed5",
       "version_major": 2,
       "version_minor": 0
      },
      "text/plain": [
       "Training:   0%|          | 0/46 [00:00<?, ?it/s]"
      ]
     },
     "metadata": {},
     "output_type": "display_data"
    },
    {
     "name": "stdout",
     "output_type": "stream",
     "text": [
      "Training Loss: 3.4671. Validation Loss: 3.4705.\n",
      "Training Accuracy: 0.0711. Validation Accuracy: 0.1275.\n",
      "-----------------------------------\n",
      "Epoch 14\n",
      "-----------------------------------\n"
     ]
    },
    {
     "data": {
      "application/vnd.jupyter.widget-view+json": {
       "model_id": "83e2eff0d1f048d5b9967d8e59c6c1de",
       "version_major": 2,
       "version_minor": 0
      },
      "text/plain": [
       "Training:   0%|          | 0/46 [00:00<?, ?it/s]"
      ]
     },
     "metadata": {},
     "output_type": "display_data"
    },
    {
     "name": "stdout",
     "output_type": "stream",
     "text": [
      "Training Loss: 3.2234. Validation Loss: 3.3652.\n",
      "Training Accuracy: 0.1229. Validation Accuracy: 0.0719.\n",
      "-----------------------------------\n",
      "Epoch 12\n",
      "-----------------------------------\n"
     ]
    },
    {
     "data": {
      "application/vnd.jupyter.widget-view+json": {
       "model_id": "e12ebfa4684a42db8f149060e479f372",
       "version_major": 2,
       "version_minor": 0
      },
      "text/plain": [
       "Training:   0%|          | 0/46 [00:00<?, ?it/s]"
      ]
     },
     "metadata": {},
     "output_type": "display_data"
    },
    {
     "name": "stdout",
     "output_type": "stream",
     "text": [
      "Training Loss: 3.4484. Validation Loss: 3.4619.\n",
      "Training Accuracy: 0.0751. Validation Accuracy: 0.1340.\n",
      "-----------------------------------\n",
      "Epoch 15\n",
      "-----------------------------------\n"
     ]
    },
    {
     "data": {
      "application/vnd.jupyter.widget-view+json": {
       "model_id": "53387b482f1c42eeb4bd5ae6cc5bfcaf",
       "version_major": 2,
       "version_minor": 0
      },
      "text/plain": [
       "Training:   0%|          | 0/46 [00:00<?, ?it/s]"
      ]
     },
     "metadata": {},
     "output_type": "display_data"
    },
    {
     "name": "stdout",
     "output_type": "stream",
     "text": [
      "Training Loss: 3.2129. Validation Loss: 3.4056.\n",
      "Training Accuracy: 0.1202. Validation Accuracy: 0.0784.\n",
      "-----------------------------------\n",
      "Epoch 13\n",
      "-----------------------------------\n"
     ]
    },
    {
     "data": {
      "application/vnd.jupyter.widget-view+json": {
       "model_id": "c81633b9f4324ad693510a64896870a6",
       "version_major": 2,
       "version_minor": 0
      },
      "text/plain": [
       "Training:   0%|          | 0/46 [00:00<?, ?it/s]"
      ]
     },
     "metadata": {},
     "output_type": "display_data"
    },
    {
     "name": "stdout",
     "output_type": "stream",
     "text": [
      "Training Loss: 3.4293. Validation Loss: 3.4553.\n",
      "Training Accuracy: 0.0744. Validation Accuracy: 0.1307.\n",
      "-----------------------------------\n",
      "Epoch 16\n",
      "-----------------------------------\n"
     ]
    },
    {
     "data": {
      "application/vnd.jupyter.widget-view+json": {
       "model_id": "e251df4b9b4343f397e0dc0df52a5776",
       "version_major": 2,
       "version_minor": 0
      },
      "text/plain": [
       "Training:   0%|          | 0/46 [00:00<?, ?it/s]"
      ]
     },
     "metadata": {},
     "output_type": "display_data"
    },
    {
     "name": "stdout",
     "output_type": "stream",
     "text": [
      "Training Loss: 3.2017. Validation Loss: 3.3740.\n",
      "Training Accuracy: 0.1302. Validation Accuracy: 0.0784.\n",
      "-----------------------------------\n",
      "Epoch 14\n",
      "-----------------------------------\n"
     ]
    },
    {
     "data": {
      "application/vnd.jupyter.widget-view+json": {
       "model_id": "1fd6b3dab7c046f4b7b16309dc667355",
       "version_major": 2,
       "version_minor": 0
      },
      "text/plain": [
       "Training:   0%|          | 0/46 [00:00<?, ?it/s]"
      ]
     },
     "metadata": {},
     "output_type": "display_data"
    },
    {
     "name": "stdout",
     "output_type": "stream",
     "text": [
      "Training Loss: 3.1829. Validation Loss: 3.4129.\n",
      "Training Accuracy: 0.1202. Validation Accuracy: 0.0719.\n",
      "-----------------------------------\n",
      "Epoch 15\n",
      "-----------------------------------\n"
     ]
    },
    {
     "data": {
      "application/vnd.jupyter.widget-view+json": {
       "model_id": "9147724d66b04e9c9cfe9f91ca13d311",
       "version_major": 2,
       "version_minor": 0
      },
      "text/plain": [
       "Training:   0%|          | 0/46 [00:00<?, ?it/s]"
      ]
     },
     "metadata": {},
     "output_type": "display_data"
    },
    {
     "name": "stdout",
     "output_type": "stream",
     "text": [
      "Training Loss: 3.4114. Validation Loss: 3.4428.\n",
      "Training Accuracy: 0.0794. Validation Accuracy: 0.1078.\n",
      "-----------------------------------\n",
      "Epoch 17\n",
      "-----------------------------------\n"
     ]
    },
    {
     "data": {
      "application/vnd.jupyter.widget-view+json": {
       "model_id": "de42aecb5f074eb8a9363ca3290fe38a",
       "version_major": 2,
       "version_minor": 0
      },
      "text/plain": [
       "Training:   0%|          | 0/46 [00:00<?, ?it/s]"
      ]
     },
     "metadata": {},
     "output_type": "display_data"
    },
    {
     "name": "stdout",
     "output_type": "stream",
     "text": [
      "Training Loss: 3.1874. Validation Loss: 3.3763.\n",
      "Training Accuracy: 0.1114. Validation Accuracy: 0.0621.\n",
      "-----------------------------------\n",
      "Epoch 16\n",
      "-----------------------------------\n"
     ]
    },
    {
     "data": {
      "application/vnd.jupyter.widget-view+json": {
       "model_id": "b6f48a68a6c74198b83cf1148d60f03e",
       "version_major": 2,
       "version_minor": 0
      },
      "text/plain": [
       "Training:   0%|          | 0/46 [00:00<?, ?it/s]"
      ]
     },
     "metadata": {},
     "output_type": "display_data"
    },
    {
     "name": "stdout",
     "output_type": "stream",
     "text": [
      "Training Loss: 3.4014. Validation Loss: 3.4381.\n",
      "Training Accuracy: 0.0744. Validation Accuracy: 0.0948.\n",
      "-----------------------------------\n",
      "Epoch 18\n",
      "-----------------------------------\n"
     ]
    },
    {
     "data": {
      "application/vnd.jupyter.widget-view+json": {
       "model_id": "fc3021e7a07e48a18106e4b5744c78dd",
       "version_major": 2,
       "version_minor": 0
      },
      "text/plain": [
       "Training:   0%|          | 0/46 [00:00<?, ?it/s]"
      ]
     },
     "metadata": {},
     "output_type": "display_data"
    },
    {
     "name": "stdout",
     "output_type": "stream",
     "text": [
      "Training Loss: 3.1834. Validation Loss: 3.3521.\n",
      "Training Accuracy: 0.1255. Validation Accuracy: 0.0719.\n",
      "-----------------------------------\n",
      "Epoch 17\n",
      "-----------------------------------\n"
     ]
    },
    {
     "data": {
      "application/vnd.jupyter.widget-view+json": {
       "model_id": "8a2b7c4f4e6d423084ffe1aac20a6e64",
       "version_major": 2,
       "version_minor": 0
      },
      "text/plain": [
       "Training:   0%|          | 0/46 [00:00<?, ?it/s]"
      ]
     },
     "metadata": {},
     "output_type": "display_data"
    },
    {
     "name": "stdout",
     "output_type": "stream",
     "text": [
      "Training Loss: 3.3902. Validation Loss: 3.4327.\n",
      "Training Accuracy: 0.0751. Validation Accuracy: 0.0948.\n",
      "-----------------------------------\n",
      "Epoch 19\n",
      "-----------------------------------\n"
     ]
    },
    {
     "data": {
      "application/vnd.jupyter.widget-view+json": {
       "model_id": "8f206cbc0fe94d9e84407fa6c533c652",
       "version_major": 2,
       "version_minor": 0
      },
      "text/plain": [
       "Training:   0%|          | 0/46 [00:00<?, ?it/s]"
      ]
     },
     "metadata": {},
     "output_type": "display_data"
    },
    {
     "name": "stdout",
     "output_type": "stream",
     "text": [
      "Training Loss: 3.1551. Validation Loss: 3.3769.\n",
      "Training Accuracy: 0.1389. Validation Accuracy: 0.0784.\n",
      "-----------------------------------\n",
      "Epoch 18\n",
      "-----------------------------------\n"
     ]
    },
    {
     "data": {
      "application/vnd.jupyter.widget-view+json": {
       "model_id": "aa4da2a8f8e94c298247ae28e1840f40",
       "version_major": 2,
       "version_minor": 0
      },
      "text/plain": [
       "Training:   0%|          | 0/46 [00:00<?, ?it/s]"
      ]
     },
     "metadata": {},
     "output_type": "display_data"
    },
    {
     "name": "stdout",
     "output_type": "stream",
     "text": [
      "Training Loss: 3.1363. Validation Loss: 3.4140.\n",
      "Training Accuracy: 0.1383. Validation Accuracy: 0.0719.\n",
      "-----------------------------------\n",
      "Epoch 19\n",
      "-----------------------------------\n"
     ]
    },
    {
     "data": {
      "application/vnd.jupyter.widget-view+json": {
       "model_id": "ab4120d02b2d419e8bcab8c1ed91cc63",
       "version_major": 2,
       "version_minor": 0
      },
      "text/plain": [
       "Training:   0%|          | 0/46 [00:00<?, ?it/s]"
      ]
     },
     "metadata": {},
     "output_type": "display_data"
    },
    {
     "name": "stdout",
     "output_type": "stream",
     "text": [
      "Training Loss: 3.3815. Validation Loss: 3.4294.\n",
      "Training Accuracy: 0.0727. Validation Accuracy: 0.0784.\n",
      "-----------------------------------\n",
      "Epoch 20\n",
      "-----------------------------------\n"
     ]
    },
    {
     "data": {
      "application/vnd.jupyter.widget-view+json": {
       "model_id": "9e51fa2673214f2a95b3ab978e480ed3",
       "version_major": 2,
       "version_minor": 0
      },
      "text/plain": [
       "Training:   0%|          | 0/46 [00:00<?, ?it/s]"
      ]
     },
     "metadata": {},
     "output_type": "display_data"
    },
    {
     "name": "stdout",
     "output_type": "stream",
     "text": [
      "Training Loss: 3.1240. Validation Loss: 3.4106.\n",
      "Training Accuracy: 0.1389. Validation Accuracy: 0.0719.\n",
      "-----------------------------------\n",
      "Epoch 20\n",
      "-----------------------------------\n"
     ]
    },
    {
     "data": {
      "application/vnd.jupyter.widget-view+json": {
       "model_id": "eef0bcd5658f4ff7aeb66e233f836369",
       "version_major": 2,
       "version_minor": 0
      },
      "text/plain": [
       "Training:   0%|          | 0/46 [00:00<?, ?it/s]"
      ]
     },
     "metadata": {},
     "output_type": "display_data"
    },
    {
     "name": "stdout",
     "output_type": "stream",
     "text": [
      "Training Loss: 3.3758. Validation Loss: 3.4252.\n",
      "Training Accuracy: 0.0842. Validation Accuracy: 0.0784.\n",
      "-----------------------------------\n",
      "Epoch 21\n",
      "-----------------------------------\n"
     ]
    },
    {
     "data": {
      "application/vnd.jupyter.widget-view+json": {
       "model_id": "5ea7503bc0264fae87f39209245f3b05",
       "version_major": 2,
       "version_minor": 0
      },
      "text/plain": [
       "Training:   0%|          | 0/46 [00:00<?, ?it/s]"
      ]
     },
     "metadata": {},
     "output_type": "display_data"
    },
    {
     "name": "stdout",
     "output_type": "stream",
     "text": [
      "Training Loss: 3.0977. Validation Loss: 3.4208.\n",
      "Training Accuracy: 0.1374. Validation Accuracy: 0.0719.\n",
      "-----------------------------------\n",
      "Epoch 21\n",
      "-----------------------------------\n"
     ]
    },
    {
     "data": {
      "application/vnd.jupyter.widget-view+json": {
       "model_id": "ee09d0011bed47dd8c8a58f0c19ab002",
       "version_major": 2,
       "version_minor": 0
      },
      "text/plain": [
       "Training:   0%|          | 0/46 [00:00<?, ?it/s]"
      ]
     },
     "metadata": {},
     "output_type": "display_data"
    },
    {
     "name": "stdout",
     "output_type": "stream",
     "text": [
      "Training Loss: 3.3676. Validation Loss: 3.4219.\n",
      "Training Accuracy: 0.0851. Validation Accuracy: 0.0784.\n",
      "-----------------------------------\n",
      "Epoch 22\n",
      "-----------------------------------\n"
     ]
    },
    {
     "data": {
      "application/vnd.jupyter.widget-view+json": {
       "model_id": "2e3a597718754d56898d3ab228ac056d",
       "version_major": 2,
       "version_minor": 0
      },
      "text/plain": [
       "Training:   0%|          | 0/46 [00:00<?, ?it/s]"
      ]
     },
     "metadata": {},
     "output_type": "display_data"
    },
    {
     "name": "stderr",
     "output_type": "stream",
     "text": [
      "[I 2024-12-09 00:12:05,573] Trial 2 finished with value: 1025.7507882118225 and parameters: {'kernel_size': 1024, 'stride': 1024, 'fourier_size': 4096, 'enc_hidden': 256, 'dec_hidden': 512, 'lr': 0.001, 'step_size': 10, 'gamma': 0.1}. Best is trial 2 with value: 1025.7507882118225.\n"
     ]
    },
    {
     "name": "stdout",
     "output_type": "stream",
     "text": [
      "Training Loss: 3.0894. Validation Loss: 3.4213.\n",
      "Training Accuracy: 0.1377. Validation Accuracy: 0.0719.\n",
      "EARLY STOP E:21 L:3.4213\n",
      "-----------------------------------\n",
      "Epoch 1\n",
      "-----------------------------------\n"
     ]
    },
    {
     "data": {
      "application/vnd.jupyter.widget-view+json": {
       "model_id": "87cefbc3cb6e4d57a1c47eadaa86802b",
       "version_major": 2,
       "version_minor": 0
      },
      "text/plain": [
       "Training:   0%|          | 0/46 [00:00<?, ?it/s]"
      ]
     },
     "metadata": {},
     "output_type": "display_data"
    },
    {
     "name": "stdout",
     "output_type": "stream",
     "text": [
      "Training Loss: 3.3642. Validation Loss: 3.4165.\n",
      "Training Accuracy: 0.0869. Validation Accuracy: 0.0784.\n",
      "-----------------------------------\n",
      "Epoch 23\n",
      "-----------------------------------\n"
     ]
    },
    {
     "data": {
      "application/vnd.jupyter.widget-view+json": {
       "model_id": "1ce29a14f15c4bb7ab5d2d0a27617424",
       "version_major": 2,
       "version_minor": 0
      },
      "text/plain": [
       "Training:   0%|          | 0/46 [00:00<?, ?it/s]"
      ]
     },
     "metadata": {},
     "output_type": "display_data"
    },
    {
     "name": "stdout",
     "output_type": "stream",
     "text": [
      "Training Loss: 3.6661. Validation Loss: 3.6846.\n",
      "Training Accuracy: 0.0589. Validation Accuracy: 0.0000.\n",
      "-----------------------------------\n",
      "Epoch 2\n",
      "-----------------------------------\n"
     ]
    },
    {
     "data": {
      "application/vnd.jupyter.widget-view+json": {
       "model_id": "e4d9ec8eb3fd45febb40b095968d37cc",
       "version_major": 2,
       "version_minor": 0
      },
      "text/plain": [
       "Training:   0%|          | 0/46 [00:00<?, ?it/s]"
      ]
     },
     "metadata": {},
     "output_type": "display_data"
    },
    {
     "name": "stdout",
     "output_type": "stream",
     "text": [
      "Training Loss: 3.3573. Validation Loss: 3.4131.\n",
      "Training Accuracy: 0.0906. Validation Accuracy: 0.0784.\n",
      "-----------------------------------\n",
      "Epoch 24\n",
      "-----------------------------------\n"
     ]
    },
    {
     "data": {
      "application/vnd.jupyter.widget-view+json": {
       "model_id": "81c319789ce64a8a99293517c8fde0b6",
       "version_major": 2,
       "version_minor": 0
      },
      "text/plain": [
       "Training:   0%|          | 0/46 [00:00<?, ?it/s]"
      ]
     },
     "metadata": {},
     "output_type": "display_data"
    },
    {
     "name": "stdout",
     "output_type": "stream",
     "text": [
      "Training Loss: 3.5700. Validation Loss: 3.6239.\n",
      "Training Accuracy: 0.0759. Validation Accuracy: 0.0098.\n",
      "-----------------------------------\n",
      "Epoch 3\n",
      "-----------------------------------\n"
     ]
    },
    {
     "data": {
      "application/vnd.jupyter.widget-view+json": {
       "model_id": "f07264f5b62d4e74b9e3c8a03510d3cf",
       "version_major": 2,
       "version_minor": 0
      },
      "text/plain": [
       "Training:   0%|          | 0/46 [00:00<?, ?it/s]"
      ]
     },
     "metadata": {},
     "output_type": "display_data"
    },
    {
     "name": "stdout",
     "output_type": "stream",
     "text": [
      "Training Loss: 3.3530. Validation Loss: 3.4117.\n",
      "Training Accuracy: 0.0887. Validation Accuracy: 0.0784.\n",
      "-----------------------------------\n",
      "Epoch 25\n",
      "-----------------------------------\n"
     ]
    },
    {
     "data": {
      "application/vnd.jupyter.widget-view+json": {
       "model_id": "c04280e4e81649ab941cdb10bcd833be",
       "version_major": 2,
       "version_minor": 0
      },
      "text/plain": [
       "Training:   0%|          | 0/46 [00:00<?, ?it/s]"
      ]
     },
     "metadata": {},
     "output_type": "display_data"
    },
    {
     "name": "stdout",
     "output_type": "stream",
     "text": [
      "Training Loss: 3.4972. Validation Loss: 3.5921.\n",
      "Training Accuracy: 0.0854. Validation Accuracy: 0.0098.\n",
      "-----------------------------------\n",
      "Epoch 4\n",
      "-----------------------------------\n"
     ]
    },
    {
     "data": {
      "application/vnd.jupyter.widget-view+json": {
       "model_id": "ef3f556a6d3a4eb6bebdb279f5e0b11b",
       "version_major": 2,
       "version_minor": 0
      },
      "text/plain": [
       "Training:   0%|          | 0/46 [00:00<?, ?it/s]"
      ]
     },
     "metadata": {},
     "output_type": "display_data"
    },
    {
     "name": "stdout",
     "output_type": "stream",
     "text": [
      "Training Loss: 3.3520. Validation Loss: 3.4084.\n",
      "Training Accuracy: 0.0925. Validation Accuracy: 0.0784.\n",
      "-----------------------------------\n",
      "Epoch 26\n",
      "-----------------------------------\n"
     ]
    },
    {
     "data": {
      "application/vnd.jupyter.widget-view+json": {
       "model_id": "9da96260e8ec41e8aa737f81da3b0bd8",
       "version_major": 2,
       "version_minor": 0
      },
      "text/plain": [
       "Training:   0%|          | 0/46 [00:00<?, ?it/s]"
      ]
     },
     "metadata": {},
     "output_type": "display_data"
    },
    {
     "name": "stdout",
     "output_type": "stream",
     "text": [
      "Training Loss: 3.4369. Validation Loss: 3.5554.\n",
      "Training Accuracy: 0.0859. Validation Accuracy: 0.0098.\n",
      "-----------------------------------\n",
      "Epoch 5\n",
      "-----------------------------------\n"
     ]
    },
    {
     "data": {
      "application/vnd.jupyter.widget-view+json": {
       "model_id": "6b9f89cabb604345be7e1a8dc498ff11",
       "version_major": 2,
       "version_minor": 0
      },
      "text/plain": [
       "Training:   0%|          | 0/46 [00:00<?, ?it/s]"
      ]
     },
     "metadata": {},
     "output_type": "display_data"
    },
    {
     "name": "stdout",
     "output_type": "stream",
     "text": [
      "Training Loss: 3.3483. Validation Loss: 3.4080.\n",
      "Training Accuracy: 0.0892. Validation Accuracy: 0.0817.\n",
      "-----------------------------------\n",
      "Epoch 27\n",
      "-----------------------------------\n"
     ]
    },
    {
     "data": {
      "application/vnd.jupyter.widget-view+json": {
       "model_id": "9cd9e4cc6b9545458ef0ced2a299037b",
       "version_major": 2,
       "version_minor": 0
      },
      "text/plain": [
       "Training:   0%|          | 0/46 [00:00<?, ?it/s]"
      ]
     },
     "metadata": {},
     "output_type": "display_data"
    },
    {
     "name": "stdout",
     "output_type": "stream",
     "text": [
      "Training Loss: 3.4061. Validation Loss: 3.5358.\n",
      "Training Accuracy: 0.0838. Validation Accuracy: 0.0098.\n",
      "-----------------------------------\n",
      "Epoch 6\n",
      "-----------------------------------\n"
     ]
    },
    {
     "data": {
      "application/vnd.jupyter.widget-view+json": {
       "model_id": "ce9c39e222274215bed244c0b0c4c89f",
       "version_major": 2,
       "version_minor": 0
      },
      "text/plain": [
       "Training:   0%|          | 0/46 [00:00<?, ?it/s]"
      ]
     },
     "metadata": {},
     "output_type": "display_data"
    },
    {
     "name": "stdout",
     "output_type": "stream",
     "text": [
      "Training Loss: 3.3456. Validation Loss: 3.4068.\n",
      "Training Accuracy: 0.0863. Validation Accuracy: 0.0850.\n",
      "-----------------------------------\n",
      "Epoch 28\n",
      "-----------------------------------\n"
     ]
    },
    {
     "data": {
      "application/vnd.jupyter.widget-view+json": {
       "model_id": "2289f1818e904e8e8536e76450a54740",
       "version_major": 2,
       "version_minor": 0
      },
      "text/plain": [
       "Training:   0%|          | 0/46 [00:00<?, ?it/s]"
      ]
     },
     "metadata": {},
     "output_type": "display_data"
    },
    {
     "name": "stdout",
     "output_type": "stream",
     "text": [
      "Training Loss: 3.3830. Validation Loss: 3.5065.\n",
      "Training Accuracy: 0.0869. Validation Accuracy: 0.0098.\n",
      "-----------------------------------\n",
      "Epoch 7\n",
      "-----------------------------------\n"
     ]
    },
    {
     "data": {
      "application/vnd.jupyter.widget-view+json": {
       "model_id": "110e06e73e2a4b98a56379fba1b78dbd",
       "version_major": 2,
       "version_minor": 0
      },
      "text/plain": [
       "Training:   0%|          | 0/46 [00:00<?, ?it/s]"
      ]
     },
     "metadata": {},
     "output_type": "display_data"
    },
    {
     "name": "stdout",
     "output_type": "stream",
     "text": [
      "Training Loss: 3.3446. Validation Loss: 3.4057.\n",
      "Training Accuracy: 0.0950. Validation Accuracy: 0.0686.\n",
      "-----------------------------------\n",
      "Epoch 29\n",
      "-----------------------------------\n"
     ]
    },
    {
     "data": {
      "application/vnd.jupyter.widget-view+json": {
       "model_id": "8f85d97df1b84cf892d7b218755e92fe",
       "version_major": 2,
       "version_minor": 0
      },
      "text/plain": [
       "Training:   0%|          | 0/46 [00:00<?, ?it/s]"
      ]
     },
     "metadata": {},
     "output_type": "display_data"
    },
    {
     "name": "stdout",
     "output_type": "stream",
     "text": [
      "Training Loss: 3.3613. Validation Loss: 3.4935.\n",
      "Training Accuracy: 0.0856. Validation Accuracy: 0.0131.\n",
      "-----------------------------------\n",
      "Epoch 8\n",
      "-----------------------------------\n"
     ]
    },
    {
     "data": {
      "application/vnd.jupyter.widget-view+json": {
       "model_id": "52334f296d2e40dbbc3fa31e88afc341",
       "version_major": 2,
       "version_minor": 0
      },
      "text/plain": [
       "Training:   0%|          | 0/46 [00:00<?, ?it/s]"
      ]
     },
     "metadata": {},
     "output_type": "display_data"
    },
    {
     "name": "stdout",
     "output_type": "stream",
     "text": [
      "Training Loss: 3.3343. Validation Loss: 3.4046.\n",
      "Training Accuracy: 0.0947. Validation Accuracy: 0.0752.\n",
      "-----------------------------------\n",
      "Epoch 30\n",
      "-----------------------------------\n"
     ]
    },
    {
     "data": {
      "application/vnd.jupyter.widget-view+json": {
       "model_id": "8e0a1adcad374691b4cddcda8e68cd60",
       "version_major": 2,
       "version_minor": 0
      },
      "text/plain": [
       "Training:   0%|          | 0/46 [00:00<?, ?it/s]"
      ]
     },
     "metadata": {},
     "output_type": "display_data"
    },
    {
     "name": "stdout",
     "output_type": "stream",
     "text": [
      "Training Loss: 3.3543. Validation Loss: 3.4856.\n",
      "Training Accuracy: 0.0864. Validation Accuracy: 0.0131.\n",
      "-----------------------------------\n",
      "Epoch 9\n",
      "-----------------------------------\n"
     ]
    },
    {
     "data": {
      "application/vnd.jupyter.widget-view+json": {
       "model_id": "ac57a576c9a8418f9275ef555bfb4df0",
       "version_major": 2,
       "version_minor": 0
      },
      "text/plain": [
       "Training:   0%|          | 0/46 [00:00<?, ?it/s]"
      ]
     },
     "metadata": {},
     "output_type": "display_data"
    },
    {
     "name": "stdout",
     "output_type": "stream",
     "text": [
      "Training Loss: 3.3321. Validation Loss: 3.4021.\n",
      "Training Accuracy: 0.0916. Validation Accuracy: 0.0719.\n",
      "-----------------------------------\n",
      "Epoch 31\n",
      "-----------------------------------\n"
     ]
    },
    {
     "data": {
      "application/vnd.jupyter.widget-view+json": {
       "model_id": "5ca075c6a056468291d7342f00bb127a",
       "version_major": 2,
       "version_minor": 0
      },
      "text/plain": [
       "Training:   0%|          | 0/46 [00:00<?, ?it/s]"
      ]
     },
     "metadata": {},
     "output_type": "display_data"
    },
    {
     "name": "stdout",
     "output_type": "stream",
     "text": [
      "Training Loss: 3.3493. Validation Loss: 3.4820.\n",
      "Training Accuracy: 0.0866. Validation Accuracy: 0.0131.\n",
      "-----------------------------------\n",
      "Epoch 10\n",
      "-----------------------------------\n"
     ]
    },
    {
     "data": {
      "application/vnd.jupyter.widget-view+json": {
       "model_id": "d1109e60e7e5494ab03e270586a3aec6",
       "version_major": 2,
       "version_minor": 0
      },
      "text/plain": [
       "Training:   0%|          | 0/46 [00:00<?, ?it/s]"
      ]
     },
     "metadata": {},
     "output_type": "display_data"
    },
    {
     "name": "stdout",
     "output_type": "stream",
     "text": [
      "Training Loss: 3.3294. Validation Loss: 3.3985.\n",
      "Training Accuracy: 0.0950. Validation Accuracy: 0.0752.\n",
      "-----------------------------------\n",
      "Epoch 32\n",
      "-----------------------------------\n"
     ]
    },
    {
     "data": {
      "application/vnd.jupyter.widget-view+json": {
       "model_id": "0a7dfbd43dd34203adf0d136a34b883c",
       "version_major": 2,
       "version_minor": 0
      },
      "text/plain": [
       "Training:   0%|          | 0/46 [00:00<?, ?it/s]"
      ]
     },
     "metadata": {},
     "output_type": "display_data"
    },
    {
     "name": "stdout",
     "output_type": "stream",
     "text": [
      "Training Loss: 3.3481. Validation Loss: 3.4789.\n",
      "Training Accuracy: 0.0882. Validation Accuracy: 0.0131.\n",
      "-----------------------------------\n",
      "Epoch 11\n",
      "-----------------------------------\n"
     ]
    },
    {
     "data": {
      "application/vnd.jupyter.widget-view+json": {
       "model_id": "387c1e66626f4b3791983ea9e8f950a1",
       "version_major": 2,
       "version_minor": 0
      },
      "text/plain": [
       "Training:   0%|          | 0/46 [00:00<?, ?it/s]"
      ]
     },
     "metadata": {},
     "output_type": "display_data"
    },
    {
     "name": "stdout",
     "output_type": "stream",
     "text": [
      "Training Loss: 3.3314. Validation Loss: 3.3977.\n",
      "Training Accuracy: 0.0928. Validation Accuracy: 0.0752.\n",
      "-----------------------------------\n",
      "Epoch 33\n",
      "-----------------------------------\n"
     ]
    },
    {
     "data": {
      "application/vnd.jupyter.widget-view+json": {
       "model_id": "a1a2d68862584677b42d8121d9152459",
       "version_major": 2,
       "version_minor": 0
      },
      "text/plain": [
       "Training:   0%|          | 0/46 [00:00<?, ?it/s]"
      ]
     },
     "metadata": {},
     "output_type": "display_data"
    },
    {
     "name": "stdout",
     "output_type": "stream",
     "text": [
      "Training Loss: 3.3442. Validation Loss: 3.4770.\n",
      "Training Accuracy: 0.0888. Validation Accuracy: 0.0131.\n",
      "-----------------------------------\n",
      "Epoch 12\n",
      "-----------------------------------\n"
     ]
    },
    {
     "data": {
      "application/vnd.jupyter.widget-view+json": {
       "model_id": "7296a5e9cfc54f34ad1e8944ed9a6882",
       "version_major": 2,
       "version_minor": 0
      },
      "text/plain": [
       "Training:   0%|          | 0/46 [00:00<?, ?it/s]"
      ]
     },
     "metadata": {},
     "output_type": "display_data"
    },
    {
     "name": "stdout",
     "output_type": "stream",
     "text": [
      "Training Loss: 3.3269. Validation Loss: 3.4086.\n",
      "Training Accuracy: 0.0954. Validation Accuracy: 0.0948.\n",
      "-----------------------------------\n",
      "Epoch 34\n",
      "-----------------------------------\n"
     ]
    },
    {
     "data": {
      "application/vnd.jupyter.widget-view+json": {
       "model_id": "f10bc8a1927642aba67b6293840c9294",
       "version_major": 2,
       "version_minor": 0
      },
      "text/plain": [
       "Training:   0%|          | 0/46 [00:00<?, ?it/s]"
      ]
     },
     "metadata": {},
     "output_type": "display_data"
    },
    {
     "name": "stdout",
     "output_type": "stream",
     "text": [
      "Training Loss: 3.3438. Validation Loss: 3.4786.\n",
      "Training Accuracy: 0.0885. Validation Accuracy: 0.0131.\n",
      "-----------------------------------\n",
      "Epoch 13\n",
      "-----------------------------------\n"
     ]
    },
    {
     "data": {
      "application/vnd.jupyter.widget-view+json": {
       "model_id": "fe3acb869d604bc1bfa586086c205371",
       "version_major": 2,
       "version_minor": 0
      },
      "text/plain": [
       "Training:   0%|          | 0/46 [00:00<?, ?it/s]"
      ]
     },
     "metadata": {},
     "output_type": "display_data"
    },
    {
     "name": "stdout",
     "output_type": "stream",
     "text": [
      "Training Loss: 3.3275. Validation Loss: 3.4034.\n",
      "Training Accuracy: 0.0909. Validation Accuracy: 0.0915.\n",
      "-----------------------------------\n",
      "Epoch 35\n",
      "-----------------------------------\n"
     ]
    },
    {
     "data": {
      "application/vnd.jupyter.widget-view+json": {
       "model_id": "1bdc7c13844c4fc681c2e28297da1409",
       "version_major": 2,
       "version_minor": 0
      },
      "text/plain": [
       "Training:   0%|          | 0/46 [00:00<?, ?it/s]"
      ]
     },
     "metadata": {},
     "output_type": "display_data"
    },
    {
     "name": "stdout",
     "output_type": "stream",
     "text": [
      "Training Loss: 3.3436. Validation Loss: 3.4820.\n",
      "Training Accuracy: 0.0894. Validation Accuracy: 0.0163.\n",
      "-----------------------------------\n",
      "Epoch 14\n",
      "-----------------------------------\n"
     ]
    },
    {
     "data": {
      "application/vnd.jupyter.widget-view+json": {
       "model_id": "8097a675f0b4424ca44f8dfa0c575991",
       "version_major": 2,
       "version_minor": 0
      },
      "text/plain": [
       "Training:   0%|          | 0/46 [00:00<?, ?it/s]"
      ]
     },
     "metadata": {},
     "output_type": "display_data"
    },
    {
     "name": "stdout",
     "output_type": "stream",
     "text": [
      "Training Loss: 3.3208. Validation Loss: 3.4074.\n",
      "Training Accuracy: 0.0916. Validation Accuracy: 0.0915.\n",
      "-----------------------------------\n",
      "Epoch 36\n",
      "-----------------------------------\n"
     ]
    },
    {
     "data": {
      "application/vnd.jupyter.widget-view+json": {
       "model_id": "112bbbbf40104377ab8d15d3904c9fd2",
       "version_major": 2,
       "version_minor": 0
      },
      "text/plain": [
       "Training:   0%|          | 0/46 [00:00<?, ?it/s]"
      ]
     },
     "metadata": {},
     "output_type": "display_data"
    },
    {
     "name": "stdout",
     "output_type": "stream",
     "text": [
      "Training Loss: 3.3412. Validation Loss: 3.4790.\n",
      "Training Accuracy: 0.0887. Validation Accuracy: 0.0196.\n",
      "-----------------------------------\n",
      "Epoch 15\n",
      "-----------------------------------\n"
     ]
    },
    {
     "data": {
      "application/vnd.jupyter.widget-view+json": {
       "model_id": "e76392e2f3cb4ed196f1dd1f5dc40988",
       "version_major": 2,
       "version_minor": 0
      },
      "text/plain": [
       "Training:   0%|          | 0/46 [00:00<?, ?it/s]"
      ]
     },
     "metadata": {},
     "output_type": "display_data"
    },
    {
     "name": "stdout",
     "output_type": "stream",
     "text": [
      "Training Loss: 3.3152. Validation Loss: 3.4073.\n",
      "Training Accuracy: 0.0950. Validation Accuracy: 0.0948.\n",
      "-----------------------------------\n",
      "Epoch 37\n",
      "-----------------------------------\n"
     ]
    },
    {
     "data": {
      "application/vnd.jupyter.widget-view+json": {
       "model_id": "b520c021338948b59406aff3c8ccd4d5",
       "version_major": 2,
       "version_minor": 0
      },
      "text/plain": [
       "Training:   0%|          | 0/46 [00:00<?, ?it/s]"
      ]
     },
     "metadata": {},
     "output_type": "display_data"
    },
    {
     "name": "stdout",
     "output_type": "stream",
     "text": [
      "Training Loss: 3.3392. Validation Loss: 3.4812.\n",
      "Training Accuracy: 0.0887. Validation Accuracy: 0.0229.\n",
      "-----------------------------------\n",
      "Epoch 16\n",
      "-----------------------------------\n"
     ]
    },
    {
     "data": {
      "application/vnd.jupyter.widget-view+json": {
       "model_id": "7653c818cdc94ff8ac8eba7730b4bffa",
       "version_major": 2,
       "version_minor": 0
      },
      "text/plain": [
       "Training:   0%|          | 0/46 [00:00<?, ?it/s]"
      ]
     },
     "metadata": {},
     "output_type": "display_data"
    },
    {
     "name": "stderr",
     "output_type": "stream",
     "text": [
      "[I 2024-12-09 00:19:57,372] Trial 0 finished with value: 1039.696960926056 and parameters: {'kernel_size': 4096, 'stride': 512, 'fourier_size': 8192, 'enc_hidden': 1024, 'dec_hidden': 64, 'lr': 0.0001, 'step_size': 20, 'gamma': 0.1}. Best is trial 2 with value: 1025.7507882118225.\n"
     ]
    },
    {
     "name": "stdout",
     "output_type": "stream",
     "text": [
      "Training Loss: 3.3180. Validation Loss: 3.4062.\n",
      "Training Accuracy: 0.0957. Validation Accuracy: 0.0784.\n",
      "EARLY STOP E:37 L:3.4062\n",
      "-----------------------------------\n",
      "Epoch 1\n",
      "-----------------------------------\n"
     ]
    },
    {
     "data": {
      "application/vnd.jupyter.widget-view+json": {
       "model_id": "703a7602b1164578b952a81e50a57456",
       "version_major": 2,
       "version_minor": 0
      },
      "text/plain": [
       "Training:   0%|          | 0/46 [00:00<?, ?it/s]"
      ]
     },
     "metadata": {},
     "output_type": "display_data"
    },
    {
     "name": "stderr",
     "output_type": "stream",
     "text": [
      "[I 2024-12-09 00:20:09,381] Trial 3 finished with value: 1063.9490756988525 and parameters: {'kernel_size': 2048, 'stride': 256, 'fourier_size': 512, 'enc_hidden': 512, 'dec_hidden': 256, 'lr': 0.0001, 'step_size': 10, 'gamma': 0.01}. Best is trial 2 with value: 1025.7507882118225.\n"
     ]
    },
    {
     "name": "stdout",
     "output_type": "stream",
     "text": [
      "Training Loss: 3.3394. Validation Loss: 3.4780.\n",
      "Training Accuracy: 0.0887. Validation Accuracy: 0.0229.\n",
      "EARLY STOP E:16 L:3.4780\n",
      "-----------------------------------\n",
      "Epoch 1\n",
      "-----------------------------------\n"
     ]
    },
    {
     "data": {
      "application/vnd.jupyter.widget-view+json": {
       "model_id": "b186b0c3de0c4b00addfbba1b5639bbe",
       "version_major": 2,
       "version_minor": 0
      },
      "text/plain": [
       "Training:   0%|          | 0/46 [00:00<?, ?it/s]"
      ]
     },
     "metadata": {},
     "output_type": "display_data"
    },
    {
     "name": "stdout",
     "output_type": "stream",
     "text": [
      "Training Loss: 3.4998. Validation Loss: 3.4089.\n",
      "Training Accuracy: 0.0670. Validation Accuracy: 0.0556.\n",
      "-----------------------------------\n",
      "Epoch 2\n",
      "-----------------------------------\n"
     ]
    },
    {
     "data": {
      "application/vnd.jupyter.widget-view+json": {
       "model_id": "b1271d0856914655b47a8b6baa1561a8",
       "version_major": 2,
       "version_minor": 0
      },
      "text/plain": [
       "Training:   0%|          | 0/46 [00:00<?, ?it/s]"
      ]
     },
     "metadata": {},
     "output_type": "display_data"
    },
    {
     "name": "stdout",
     "output_type": "stream",
     "text": [
      "Training Loss: 3.5606. Validation Loss: 3.5288.\n",
      "Training Accuracy: 0.0613. Validation Accuracy: 0.0523.\n",
      "-----------------------------------\n",
      "Epoch 2\n",
      "-----------------------------------\n"
     ]
    },
    {
     "data": {
      "application/vnd.jupyter.widget-view+json": {
       "model_id": "1709d0b35db144b79db3de67c77c3f43",
       "version_major": 2,
       "version_minor": 0
      },
      "text/plain": [
       "Training:   0%|          | 0/46 [00:00<?, ?it/s]"
      ]
     },
     "metadata": {},
     "output_type": "display_data"
    },
    {
     "name": "stdout",
     "output_type": "stream",
     "text": [
      "Training Loss: 3.3739. Validation Loss: 3.4834.\n",
      "Training Accuracy: 0.0916. Validation Accuracy: 0.1111.\n",
      "-----------------------------------\n",
      "Epoch 3\n",
      "-----------------------------------\n"
     ]
    },
    {
     "data": {
      "application/vnd.jupyter.widget-view+json": {
       "model_id": "868761d8d33e41c780f6fbdade1ecaf3",
       "version_major": 2,
       "version_minor": 0
      },
      "text/plain": [
       "Training:   0%|          | 0/46 [00:00<?, ?it/s]"
      ]
     },
     "metadata": {},
     "output_type": "display_data"
    },
    {
     "name": "stdout",
     "output_type": "stream",
     "text": [
      "Training Loss: 3.3253. Validation Loss: 3.4089.\n",
      "Training Accuracy: 0.1040. Validation Accuracy: 0.0621.\n",
      "-----------------------------------\n",
      "Epoch 3\n",
      "-----------------------------------\n"
     ]
    },
    {
     "data": {
      "application/vnd.jupyter.widget-view+json": {
       "model_id": "dedcca2cd1d24e87a5394de4a6a31070",
       "version_major": 2,
       "version_minor": 0
      },
      "text/plain": [
       "Training:   0%|          | 0/46 [00:00<?, ?it/s]"
      ]
     },
     "metadata": {},
     "output_type": "display_data"
    },
    {
     "name": "stdout",
     "output_type": "stream",
     "text": [
      "Training Loss: 3.1064. Validation Loss: 3.5996.\n",
      "Training Accuracy: 0.1680. Validation Accuracy: 0.0882.\n",
      "-----------------------------------\n",
      "Epoch 4\n",
      "-----------------------------------\n"
     ]
    },
    {
     "data": {
      "application/vnd.jupyter.widget-view+json": {
       "model_id": "bdef2562789342379e03ad78969c44e4",
       "version_major": 2,
       "version_minor": 0
      },
      "text/plain": [
       "Training:   0%|          | 0/46 [00:00<?, ?it/s]"
      ]
     },
     "metadata": {},
     "output_type": "display_data"
    },
    {
     "name": "stdout",
     "output_type": "stream",
     "text": [
      "Training Loss: 3.1237. Validation Loss: 3.3790.\n",
      "Training Accuracy: 0.1777. Validation Accuracy: 0.0784.\n",
      "-----------------------------------\n",
      "Epoch 4\n",
      "-----------------------------------\n"
     ]
    },
    {
     "data": {
      "application/vnd.jupyter.widget-view+json": {
       "model_id": "17a1951d87644405acad871404c4f418",
       "version_major": 2,
       "version_minor": 0
      },
      "text/plain": [
       "Training:   0%|          | 0/46 [00:00<?, ?it/s]"
      ]
     },
     "metadata": {},
     "output_type": "display_data"
    },
    {
     "name": "stdout",
     "output_type": "stream",
     "text": [
      "Training Loss: 2.7846. Validation Loss: 3.3935.\n",
      "Training Accuracy: 0.2290. Validation Accuracy: 0.0817.\n",
      "-----------------------------------\n",
      "Epoch 5\n",
      "-----------------------------------\n"
     ]
    },
    {
     "data": {
      "application/vnd.jupyter.widget-view+json": {
       "model_id": "90008d1629624e949b359e6ef5f288ec",
       "version_major": 2,
       "version_minor": 0
      },
      "text/plain": [
       "Training:   0%|          | 0/46 [00:00<?, ?it/s]"
      ]
     },
     "metadata": {},
     "output_type": "display_data"
    },
    {
     "name": "stdout",
     "output_type": "stream",
     "text": [
      "Training Loss: 2.9179. Validation Loss: 3.4019.\n",
      "Training Accuracy: 0.2228. Validation Accuracy: 0.0261.\n",
      "-----------------------------------\n",
      "Epoch 5\n",
      "-----------------------------------\n"
     ]
    },
    {
     "data": {
      "application/vnd.jupyter.widget-view+json": {
       "model_id": "0f4c9e049549486f95e355a2b2b15007",
       "version_major": 2,
       "version_minor": 0
      },
      "text/plain": [
       "Training:   0%|          | 0/46 [00:00<?, ?it/s]"
      ]
     },
     "metadata": {},
     "output_type": "display_data"
    },
    {
     "name": "stdout",
     "output_type": "stream",
     "text": [
      "Training Loss: 2.5194. Validation Loss: 3.5132.\n",
      "Training Accuracy: 0.2944. Validation Accuracy: 0.0523.\n",
      "-----------------------------------\n",
      "Epoch 6\n",
      "-----------------------------------\n"
     ]
    },
    {
     "data": {
      "application/vnd.jupyter.widget-view+json": {
       "model_id": "9131f23832774c9888c557fcaa83ae4a",
       "version_major": 2,
       "version_minor": 0
      },
      "text/plain": [
       "Training:   0%|          | 0/46 [00:00<?, ?it/s]"
      ]
     },
     "metadata": {},
     "output_type": "display_data"
    },
    {
     "name": "stdout",
     "output_type": "stream",
     "text": [
      "Training Loss: 2.6525. Validation Loss: 3.2617.\n",
      "Training Accuracy: 0.2863. Validation Accuracy: 0.1046.\n",
      "-----------------------------------\n",
      "Epoch 6\n",
      "-----------------------------------\n"
     ]
    },
    {
     "data": {
      "application/vnd.jupyter.widget-view+json": {
       "model_id": "ecd71724c77f4ec6a450b2e9d47eac3e",
       "version_major": 2,
       "version_minor": 0
      },
      "text/plain": [
       "Training:   0%|          | 0/46 [00:00<?, ?it/s]"
      ]
     },
     "metadata": {},
     "output_type": "display_data"
    },
    {
     "name": "stdout",
     "output_type": "stream",
     "text": [
      "Training Loss: 2.3987. Validation Loss: 3.3508.\n",
      "Training Accuracy: 0.3170. Validation Accuracy: 0.1013.\n",
      "-----------------------------------\n",
      "Epoch 7\n",
      "-----------------------------------\n"
     ]
    },
    {
     "data": {
      "application/vnd.jupyter.widget-view+json": {
       "model_id": "b42af0bc7f2b4076b874f4e0e74e1c4b",
       "version_major": 2,
       "version_minor": 0
      },
      "text/plain": [
       "Training:   0%|          | 0/46 [00:00<?, ?it/s]"
      ]
     },
     "metadata": {},
     "output_type": "display_data"
    },
    {
     "name": "stdout",
     "output_type": "stream",
     "text": [
      "Training Loss: 2.1982. Validation Loss: 3.4057.\n",
      "Training Accuracy: 0.3728. Validation Accuracy: 0.0294.\n",
      "-----------------------------------\n",
      "Epoch 8\n",
      "-----------------------------------\n"
     ]
    },
    {
     "data": {
      "application/vnd.jupyter.widget-view+json": {
       "model_id": "c76212cf1c334f9e9a5b0e5500b1cd60",
       "version_major": 2,
       "version_minor": 0
      },
      "text/plain": [
       "Training:   0%|          | 0/46 [00:00<?, ?it/s]"
      ]
     },
     "metadata": {},
     "output_type": "display_data"
    },
    {
     "name": "stdout",
     "output_type": "stream",
     "text": [
      "Training Loss: 2.4755. Validation Loss: 3.3505.\n",
      "Training Accuracy: 0.3237. Validation Accuracy: 0.0588.\n",
      "-----------------------------------\n",
      "Epoch 7\n",
      "-----------------------------------\n"
     ]
    },
    {
     "data": {
      "application/vnd.jupyter.widget-view+json": {
       "model_id": "2b85572ac3de4eeb80194d93361fd7b4",
       "version_major": 2,
       "version_minor": 0
      },
      "text/plain": [
       "Training:   0%|          | 0/46 [00:00<?, ?it/s]"
      ]
     },
     "metadata": {},
     "output_type": "display_data"
    },
    {
     "name": "stdout",
     "output_type": "stream",
     "text": [
      "Training Loss: 2.0897. Validation Loss: 3.3719.\n",
      "Training Accuracy: 0.3903. Validation Accuracy: 0.1078.\n",
      "-----------------------------------\n",
      "Epoch 9\n",
      "-----------------------------------\n"
     ]
    },
    {
     "data": {
      "application/vnd.jupyter.widget-view+json": {
       "model_id": "8f21aa6169b14da8b5c661caf56794f1",
       "version_major": 2,
       "version_minor": 0
      },
      "text/plain": [
       "Training:   0%|          | 0/46 [00:00<?, ?it/s]"
      ]
     },
     "metadata": {},
     "output_type": "display_data"
    },
    {
     "name": "stdout",
     "output_type": "stream",
     "text": [
      "Training Loss: 2.4137. Validation Loss: 3.4175.\n",
      "Training Accuracy: 0.3225. Validation Accuracy: 0.0556.\n",
      "-----------------------------------\n",
      "Epoch 8\n",
      "-----------------------------------\n"
     ]
    },
    {
     "data": {
      "application/vnd.jupyter.widget-view+json": {
       "model_id": "bb210a4713fd44bc9e05ce15d6bfb082",
       "version_major": 2,
       "version_minor": 0
      },
      "text/plain": [
       "Training:   0%|          | 0/46 [00:00<?, ?it/s]"
      ]
     },
     "metadata": {},
     "output_type": "display_data"
    },
    {
     "name": "stdout",
     "output_type": "stream",
     "text": [
      "Training Loss: 1.9776. Validation Loss: 3.3652.\n",
      "Training Accuracy: 0.4273. Validation Accuracy: 0.0719.\n",
      "-----------------------------------\n",
      "Epoch 10\n",
      "-----------------------------------\n"
     ]
    },
    {
     "data": {
      "application/vnd.jupyter.widget-view+json": {
       "model_id": "0b88b8b2a9f24470aab3a6b8524253ce",
       "version_major": 2,
       "version_minor": 0
      },
      "text/plain": [
       "Training:   0%|          | 0/46 [00:00<?, ?it/s]"
      ]
     },
     "metadata": {},
     "output_type": "display_data"
    },
    {
     "name": "stdout",
     "output_type": "stream",
     "text": [
      "Training Loss: 2.2584. Validation Loss: 3.4536.\n",
      "Training Accuracy: 0.3507. Validation Accuracy: 0.0784.\n",
      "-----------------------------------\n",
      "Epoch 9\n",
      "-----------------------------------\n"
     ]
    },
    {
     "data": {
      "application/vnd.jupyter.widget-view+json": {
       "model_id": "dc13afc617d942ebbfc07f1fe6faa620",
       "version_major": 2,
       "version_minor": 0
      },
      "text/plain": [
       "Training:   0%|          | 0/46 [00:00<?, ?it/s]"
      ]
     },
     "metadata": {},
     "output_type": "display_data"
    },
    {
     "name": "stdout",
     "output_type": "stream",
     "text": [
      "Training Loss: 1.9679. Validation Loss: 3.4663.\n",
      "Training Accuracy: 0.4323. Validation Accuracy: 0.1046.\n",
      "-----------------------------------\n",
      "Epoch 11\n",
      "-----------------------------------\n"
     ]
    },
    {
     "data": {
      "application/vnd.jupyter.widget-view+json": {
       "model_id": "6e10f8b209a8435e97660128802d84b0",
       "version_major": 2,
       "version_minor": 0
      },
      "text/plain": [
       "Training:   0%|          | 0/46 [00:00<?, ?it/s]"
      ]
     },
     "metadata": {},
     "output_type": "display_data"
    },
    {
     "name": "stdout",
     "output_type": "stream",
     "text": [
      "Training Loss: 2.1817. Validation Loss: 3.4833.\n",
      "Training Accuracy: 0.3717. Validation Accuracy: 0.0556.\n",
      "-----------------------------------\n",
      "Epoch 10\n",
      "-----------------------------------\n"
     ]
    },
    {
     "data": {
      "application/vnd.jupyter.widget-view+json": {
       "model_id": "b596e37d4867497294ae86d866ee8184",
       "version_major": 2,
       "version_minor": 0
      },
      "text/plain": [
       "Training:   0%|          | 0/46 [00:00<?, ?it/s]"
      ]
     },
     "metadata": {},
     "output_type": "display_data"
    },
    {
     "name": "stderr",
     "output_type": "stream",
     "text": [
      "[I 2024-12-09 00:28:54,750] Trial 5 finished with value: 1025.3446998596191 and parameters: {'kernel_size': 2048, 'stride': 512, 'fourier_size': 2048, 'enc_hidden': 512, 'dec_hidden': 1024, 'lr': 0.001, 'step_size': 10, 'gamma': 0.01}. Best is trial 5 with value: 1025.3446998596191.\n"
     ]
    },
    {
     "name": "stdout",
     "output_type": "stream",
     "text": [
      "Training Loss: 1.8713. Validation Loss: 3.3773.\n",
      "Training Accuracy: 0.4544. Validation Accuracy: 0.0850.\n",
      "EARLY STOP E:11 L:3.3773\n",
      "-----------------------------------\n",
      "Epoch 1\n",
      "-----------------------------------\n"
     ]
    },
    {
     "data": {
      "application/vnd.jupyter.widget-view+json": {
       "model_id": "0a56490df1ed42c7ab9ddacec8775239",
       "version_major": 2,
       "version_minor": 0
      },
      "text/plain": [
       "Training:   0%|          | 0/46 [00:00<?, ?it/s]"
      ]
     },
     "metadata": {},
     "output_type": "display_data"
    },
    {
     "name": "stderr",
     "output_type": "stream",
     "text": [
      "[I 2024-12-09 00:29:04,892] Trial 6 pruned. \n"
     ]
    },
    {
     "name": "stdout",
     "output_type": "stream",
     "text": [
      "Training Loss: 3.6616. Validation Loss: 3.6473.\n",
      "Training Accuracy: 0.0442. Validation Accuracy: 0.0098.\n",
      "OPTUNA PRUNED E:1 L:3.6473\n",
      "-----------------------------------\n",
      "Epoch 1\n",
      "-----------------------------------\n"
     ]
    },
    {
     "data": {
      "application/vnd.jupyter.widget-view+json": {
       "model_id": "e6c5277d97214a5286a290d935ca29d2",
       "version_major": 2,
       "version_minor": 0
      },
      "text/plain": [
       "Training:   0%|          | 0/46 [00:00<?, ?it/s]"
      ]
     },
     "metadata": {},
     "output_type": "display_data"
    },
    {
     "name": "stderr",
     "output_type": "stream",
     "text": [
      "[I 2024-12-09 00:29:10,717] Trial 4 finished with value: 998.0692343711853 and parameters: {'kernel_size': 8192, 'stride': 1024, 'fourier_size': 2048, 'enc_hidden': 256, 'dec_hidden': 512, 'lr': 0.001, 'step_size': 20, 'gamma': 0.01}. Best is trial 4 with value: 998.0692343711853.\n"
     ]
    },
    {
     "name": "stdout",
     "output_type": "stream",
     "text": [
      "Training Loss: 2.1318. Validation Loss: 3.6744.\n",
      "Training Accuracy: 0.3772. Validation Accuracy: 0.0556.\n",
      "EARLY STOP E:10 L:3.6744\n",
      "-----------------------------------\n",
      "Epoch 1\n",
      "-----------------------------------\n"
     ]
    },
    {
     "data": {
      "application/vnd.jupyter.widget-view+json": {
       "model_id": "856e13ffa7524cf195f927687c4ca556",
       "version_major": 2,
       "version_minor": 0
      },
      "text/plain": [
       "Training:   0%|          | 0/46 [00:00<?, ?it/s]"
      ]
     },
     "metadata": {},
     "output_type": "display_data"
    },
    {
     "name": "stderr",
     "output_type": "stream",
     "text": [
      "[I 2024-12-09 00:29:16,189] Trial 7 pruned. \n"
     ]
    },
    {
     "name": "stdout",
     "output_type": "stream",
     "text": [
      "Training Loss: 3.7598. Validation Loss: 3.5839.\n",
      "Training Accuracy: 0.0308. Validation Accuracy: 0.2092.\n",
      "OPTUNA PRUNED E:1 L:3.5839\n",
      "-----------------------------------\n",
      "Epoch 1\n",
      "-----------------------------------\n"
     ]
    },
    {
     "data": {
      "application/vnd.jupyter.widget-view+json": {
       "model_id": "9419b947c3e1492496179678ffbf4be8",
       "version_major": 2,
       "version_minor": 0
      },
      "text/plain": [
       "Training:   0%|          | 0/46 [00:00<?, ?it/s]"
      ]
     },
     "metadata": {},
     "output_type": "display_data"
    },
    {
     "name": "stdout",
     "output_type": "stream",
     "text": [
      "Training Loss: 3.6072. Validation Loss: 3.4701.\n",
      "Training Accuracy: 0.0379. Validation Accuracy: 0.0065.\n",
      "-----------------------------------\n",
      "Epoch 2\n",
      "-----------------------------------\n"
     ]
    },
    {
     "data": {
      "application/vnd.jupyter.widget-view+json": {
       "model_id": "1cc828a70d6243dbafff0ae0fdcb1742",
       "version_major": 2,
       "version_minor": 0
      },
      "text/plain": [
       "Training:   0%|          | 0/46 [00:00<?, ?it/s]"
      ]
     },
     "metadata": {},
     "output_type": "display_data"
    },
    {
     "name": "stdout",
     "output_type": "stream",
     "text": [
      "Training Loss: 3.5272. Validation Loss: 3.4541.\n",
      "Training Accuracy: 0.0694. Validation Accuracy: 0.0490.\n",
      "-----------------------------------\n",
      "Epoch 2\n",
      "-----------------------------------\n"
     ]
    },
    {
     "data": {
      "application/vnd.jupyter.widget-view+json": {
       "model_id": "38a81c1b54c74913a2958d3e5236bf09",
       "version_major": 2,
       "version_minor": 0
      },
      "text/plain": [
       "Training:   0%|          | 0/46 [00:00<?, ?it/s]"
      ]
     },
     "metadata": {},
     "output_type": "display_data"
    },
    {
     "name": "stdout",
     "output_type": "stream",
     "text": [
      "Training Loss: 3.4442. Validation Loss: 3.4609.\n",
      "Training Accuracy: 0.0610. Validation Accuracy: 0.0425.\n",
      "-----------------------------------\n",
      "Epoch 3\n",
      "-----------------------------------\n"
     ]
    },
    {
     "data": {
      "application/vnd.jupyter.widget-view+json": {
       "model_id": "eab2319125d844c08a4eb1c5aac2e9df",
       "version_major": 2,
       "version_minor": 0
      },
      "text/plain": [
       "Training:   0%|          | 0/46 [00:00<?, ?it/s]"
      ]
     },
     "metadata": {},
     "output_type": "display_data"
    },
    {
     "name": "stdout",
     "output_type": "stream",
     "text": [
      "Training Loss: 3.4009. Validation Loss: 3.4704.\n",
      "Training Accuracy: 0.0780. Validation Accuracy: 0.0425.\n",
      "-----------------------------------\n",
      "Epoch 4\n",
      "-----------------------------------\n"
     ]
    },
    {
     "data": {
      "application/vnd.jupyter.widget-view+json": {
       "model_id": "b1648554de7b4e98862a79940913b876",
       "version_major": 2,
       "version_minor": 0
      },
      "text/plain": [
       "Training:   0%|          | 0/46 [00:00<?, ?it/s]"
      ]
     },
     "metadata": {},
     "output_type": "display_data"
    },
    {
     "name": "stderr",
     "output_type": "stream",
     "text": [
      "[I 2024-12-09 00:30:25,832] Trial 9 pruned. \n"
     ]
    },
    {
     "name": "stdout",
     "output_type": "stream",
     "text": [
      "Training Loss: 3.3836. Validation Loss: 3.4615.\n",
      "Training Accuracy: 0.0806. Validation Accuracy: 0.0490.\n",
      "OPTUNA PRUNED E:4 L:3.4615\n",
      "-----------------------------------\n",
      "Epoch 1\n",
      "-----------------------------------\n"
     ]
    },
    {
     "data": {
      "application/vnd.jupyter.widget-view+json": {
       "model_id": "e7bf32dde33d4e2ca188dfd22d9b2e3e",
       "version_major": 2,
       "version_minor": 0
      },
      "text/plain": [
       "Training:   0%|          | 0/46 [00:00<?, ?it/s]"
      ]
     },
     "metadata": {},
     "output_type": "display_data"
    },
    {
     "name": "stdout",
     "output_type": "stream",
     "text": [
      "Training Loss: 3.4043. Validation Loss: 3.4461.\n",
      "Training Accuracy: 0.0699. Validation Accuracy: 0.0490.\n",
      "-----------------------------------\n",
      "Epoch 3\n",
      "-----------------------------------\n"
     ]
    },
    {
     "data": {
      "application/vnd.jupyter.widget-view+json": {
       "model_id": "d77d2c5bb7dd4545913b2a4f36f901df",
       "version_major": 2,
       "version_minor": 0
      },
      "text/plain": [
       "Training:   0%|          | 0/46 [00:00<?, ?it/s]"
      ]
     },
     "metadata": {},
     "output_type": "display_data"
    },
    {
     "name": "stderr",
     "output_type": "stream",
     "text": [
      "[I 2024-12-09 00:30:39,396] Trial 10 pruned. \n"
     ]
    },
    {
     "name": "stdout",
     "output_type": "stream",
     "text": [
      "Training Loss: 3.6850. Validation Loss: 3.6174.\n",
      "Training Accuracy: 0.0716. Validation Accuracy: 0.0392.\n",
      "OPTUNA PRUNED E:1 L:3.6174\n",
      "-----------------------------------\n",
      "Epoch 1\n",
      "-----------------------------------\n"
     ]
    },
    {
     "data": {
      "application/vnd.jupyter.widget-view+json": {
       "model_id": "ce0f7a98446847629b31ce1e4d737955",
       "version_major": 2,
       "version_minor": 0
      },
      "text/plain": [
       "Training:   0%|          | 0/46 [00:00<?, ?it/s]"
      ]
     },
     "metadata": {},
     "output_type": "display_data"
    },
    {
     "name": "stdout",
     "output_type": "stream",
     "text": [
      "Training Loss: 3.5568. Validation Loss: 3.5383.\n",
      "Training Accuracy: 0.0663. Validation Accuracy: 0.0556.\n",
      "-----------------------------------\n",
      "Epoch 2\n",
      "-----------------------------------\n"
     ]
    },
    {
     "data": {
      "application/vnd.jupyter.widget-view+json": {
       "model_id": "5aa36c01712b4dc989d370b2901cb0b9",
       "version_major": 2,
       "version_minor": 0
      },
      "text/plain": [
       "Training:   0%|          | 0/46 [00:00<?, ?it/s]"
      ]
     },
     "metadata": {},
     "output_type": "display_data"
    },
    {
     "name": "stderr",
     "output_type": "stream",
     "text": [
      "[I 2024-12-09 00:31:12,907] Trial 11 pruned. \n"
     ]
    },
    {
     "name": "stdout",
     "output_type": "stream",
     "text": [
      "Training Loss: 3.4093. Validation Loss: 3.5495.\n",
      "Training Accuracy: 0.0823. Validation Accuracy: 0.0490.\n",
      "OPTUNA PRUNED E:2 L:3.5495\n",
      "-----------------------------------\n",
      "Epoch 1\n",
      "-----------------------------------\n"
     ]
    },
    {
     "data": {
      "application/vnd.jupyter.widget-view+json": {
       "model_id": "e30de5195f364578bfb1bd09c1699995",
       "version_major": 2,
       "version_minor": 0
      },
      "text/plain": [
       "Training:   0%|          | 0/46 [00:00<?, ?it/s]"
      ]
     },
     "metadata": {},
     "output_type": "display_data"
    },
    {
     "name": "stdout",
     "output_type": "stream",
     "text": [
      "Training Loss: 3.3823. Validation Loss: 3.4478.\n",
      "Training Accuracy: 0.0744. Validation Accuracy: 0.0490.\n",
      "-----------------------------------\n",
      "Epoch 4\n",
      "-----------------------------------\n"
     ]
    },
    {
     "data": {
      "application/vnd.jupyter.widget-view+json": {
       "model_id": "d8437d78dbd0440085f80c7c507c428a",
       "version_major": 2,
       "version_minor": 0
      },
      "text/plain": [
       "Training:   0%|          | 0/46 [00:00<?, ?it/s]"
      ]
     },
     "metadata": {},
     "output_type": "display_data"
    },
    {
     "name": "stderr",
     "output_type": "stream",
     "text": [
      "[I 2024-12-09 00:32:05,172] Trial 12 pruned. \n"
     ]
    },
    {
     "name": "stdout",
     "output_type": "stream",
     "text": [
      "Training Loss: 3.5687. Validation Loss: 3.5470.\n",
      "Training Accuracy: 0.0563. Validation Accuracy: 0.0425.\n",
      "OPTUNA PRUNED E:1 L:3.5470\n",
      "-----------------------------------\n",
      "Epoch 1\n",
      "-----------------------------------\n"
     ]
    },
    {
     "data": {
      "application/vnd.jupyter.widget-view+json": {
       "model_id": "10c737d2271946ccb5874bbf328db783",
       "version_major": 2,
       "version_minor": 0
      },
      "text/plain": [
       "Training:   0%|          | 0/46 [00:00<?, ?it/s]"
      ]
     },
     "metadata": {},
     "output_type": "display_data"
    },
    {
     "name": "stdout",
     "output_type": "stream",
     "text": [
      "Training Loss: 3.5572. Validation Loss: 3.4985.\n",
      "Training Accuracy: 0.0611. Validation Accuracy: 0.0229.\n",
      "-----------------------------------\n",
      "Epoch 2\n",
      "-----------------------------------\n"
     ]
    },
    {
     "data": {
      "application/vnd.jupyter.widget-view+json": {
       "model_id": "ab8ddf37f8d24372a0a8131a5186573c",
       "version_major": 2,
       "version_minor": 0
      },
      "text/plain": [
       "Training:   0%|          | 0/46 [00:00<?, ?it/s]"
      ]
     },
     "metadata": {},
     "output_type": "display_data"
    },
    {
     "name": "stdout",
     "output_type": "stream",
     "text": [
      "Training Loss: 3.3779. Validation Loss: 3.4432.\n",
      "Training Accuracy: 0.0775. Validation Accuracy: 0.0490.\n",
      "-----------------------------------\n",
      "Epoch 5\n",
      "-----------------------------------\n"
     ]
    },
    {
     "data": {
      "application/vnd.jupyter.widget-view+json": {
       "model_id": "e2d1ba9375f14b2bb3f2463bdb6cd345",
       "version_major": 2,
       "version_minor": 0
      },
      "text/plain": [
       "Training:   0%|          | 0/46 [00:00<?, ?it/s]"
      ]
     },
     "metadata": {},
     "output_type": "display_data"
    },
    {
     "name": "stderr",
     "output_type": "stream",
     "text": [
      "[I 2024-12-09 00:33:01,496] Trial 13 pruned. \n"
     ]
    },
    {
     "name": "stdout",
     "output_type": "stream",
     "text": [
      "Training Loss: 3.3659. Validation Loss: 3.5305.\n",
      "Training Accuracy: 0.0956. Validation Accuracy: 0.0327.\n",
      "OPTUNA PRUNED E:2 L:3.5305\n",
      "-----------------------------------\n",
      "Epoch 1\n",
      "-----------------------------------\n"
     ]
    },
    {
     "data": {
      "application/vnd.jupyter.widget-view+json": {
       "model_id": "7f3acdb4b34141318ee91ffc58791490",
       "version_major": 2,
       "version_minor": 0
      },
      "text/plain": [
       "Training:   0%|          | 0/46 [00:00<?, ?it/s]"
      ]
     },
     "metadata": {},
     "output_type": "display_data"
    },
    {
     "name": "stderr",
     "output_type": "stream",
     "text": [
      "[I 2024-12-09 00:33:45,447] Trial 14 pruned. \n"
     ]
    },
    {
     "name": "stdout",
     "output_type": "stream",
     "text": [
      "Training Loss: 3.5552. Validation Loss: 3.5432.\n",
      "Training Accuracy: 0.0665. Validation Accuracy: 0.0359.\n",
      "OPTUNA PRUNED E:1 L:3.5432\n",
      "-----------------------------------\n",
      "Epoch 1\n",
      "-----------------------------------\n"
     ]
    },
    {
     "data": {
      "application/vnd.jupyter.widget-view+json": {
       "model_id": "457cb1a0c347408cb3ec52c49115cd36",
       "version_major": 2,
       "version_minor": 0
      },
      "text/plain": [
       "Training:   0%|          | 0/46 [00:00<?, ?it/s]"
      ]
     },
     "metadata": {},
     "output_type": "display_data"
    },
    {
     "name": "stdout",
     "output_type": "stream",
     "text": [
      "Training Loss: 3.3723. Validation Loss: 3.4419.\n",
      "Training Accuracy: 0.0751. Validation Accuracy: 0.0556.\n",
      "-----------------------------------\n",
      "Epoch 6\n",
      "-----------------------------------\n"
     ]
    },
    {
     "data": {
      "application/vnd.jupyter.widget-view+json": {
       "model_id": "022724c456a7460fac91db60218fb939",
       "version_major": 2,
       "version_minor": 0
      },
      "text/plain": [
       "Training:   0%|          | 0/46 [00:00<?, ?it/s]"
      ]
     },
     "metadata": {},
     "output_type": "display_data"
    },
    {
     "name": "stdout",
     "output_type": "stream",
     "text": [
      "Training Loss: 3.5146. Validation Loss: 3.4385.\n",
      "Training Accuracy: 0.0649. Validation Accuracy: 0.0490.\n",
      "-----------------------------------\n",
      "Epoch 2\n",
      "-----------------------------------\n"
     ]
    },
    {
     "data": {
      "application/vnd.jupyter.widget-view+json": {
       "model_id": "8ef101a58f0e467aa62016a92fb2c4f4",
       "version_major": 2,
       "version_minor": 0
      },
      "text/plain": [
       "Training:   0%|          | 0/46 [00:00<?, ?it/s]"
      ]
     },
     "metadata": {},
     "output_type": "display_data"
    },
    {
     "name": "stdout",
     "output_type": "stream",
     "text": [
      "Training Loss: 3.3904. Validation Loss: 3.4425.\n",
      "Training Accuracy: 0.0773. Validation Accuracy: 0.0490.\n",
      "-----------------------------------\n",
      "Epoch 3\n",
      "-----------------------------------\n"
     ]
    },
    {
     "data": {
      "application/vnd.jupyter.widget-view+json": {
       "model_id": "8209dcc7c3064fcfabe394754d6c4de7",
       "version_major": 2,
       "version_minor": 0
      },
      "text/plain": [
       "Training:   0%|          | 0/46 [00:00<?, ?it/s]"
      ]
     },
     "metadata": {},
     "output_type": "display_data"
    },
    {
     "name": "stderr",
     "output_type": "stream",
     "text": [
      "[I 2024-12-09 00:34:30,500] Trial 8 pruned. \n"
     ]
    },
    {
     "name": "stdout",
     "output_type": "stream",
     "text": [
      "Training Loss: 3.3680. Validation Loss: 3.4401.\n",
      "Training Accuracy: 0.0782. Validation Accuracy: 0.0556.\n",
      "OPTUNA PRUNED E:6 L:3.4401\n",
      "-----------------------------------\n",
      "Epoch 1\n",
      "-----------------------------------\n"
     ]
    },
    {
     "data": {
      "application/vnd.jupyter.widget-view+json": {
       "model_id": "55ae8844756f40d3a119d6ad0c86f200",
       "version_major": 2,
       "version_minor": 0
      },
      "text/plain": [
       "Training:   0%|          | 0/46 [00:00<?, ?it/s]"
      ]
     },
     "metadata": {},
     "output_type": "display_data"
    },
    {
     "name": "stdout",
     "output_type": "stream",
     "text": [
      "Training Loss: 3.3794. Validation Loss: 3.4266.\n",
      "Training Accuracy: 0.0802. Validation Accuracy: 0.0490.\n",
      "-----------------------------------\n",
      "Epoch 4\n",
      "-----------------------------------\n"
     ]
    },
    {
     "data": {
      "application/vnd.jupyter.widget-view+json": {
       "model_id": "e6feca29d2834e849b2fa130fc369273",
       "version_major": 2,
       "version_minor": 0
      },
      "text/plain": [
       "Training:   0%|          | 0/46 [00:00<?, ?it/s]"
      ]
     },
     "metadata": {},
     "output_type": "display_data"
    },
    {
     "name": "stderr",
     "output_type": "stream",
     "text": [
      "[I 2024-12-09 00:34:58,081] Trial 16 pruned. \n"
     ]
    },
    {
     "name": "stdout",
     "output_type": "stream",
     "text": [
      "Training Loss: 3.5692. Validation Loss: 3.5563.\n",
      "Training Accuracy: 0.0523. Validation Accuracy: 0.0490.\n",
      "OPTUNA PRUNED E:1 L:3.5563\n",
      "-----------------------------------\n",
      "Epoch 1\n",
      "-----------------------------------\n"
     ]
    },
    {
     "data": {
      "application/vnd.jupyter.widget-view+json": {
       "model_id": "4e53efa3e4894e4185598f17244b897a",
       "version_major": 2,
       "version_minor": 0
      },
      "text/plain": [
       "Training:   0%|          | 0/46 [00:00<?, ?it/s]"
      ]
     },
     "metadata": {},
     "output_type": "display_data"
    },
    {
     "name": "stdout",
     "output_type": "stream",
     "text": [
      "Training Loss: 3.3735. Validation Loss: 3.4633.\n",
      "Training Accuracy: 0.0837. Validation Accuracy: 0.0490.\n",
      "-----------------------------------\n",
      "Epoch 5\n",
      "-----------------------------------\n"
     ]
    },
    {
     "data": {
      "application/vnd.jupyter.widget-view+json": {
       "model_id": "2623edb827ed4cf6a582e2003c22f1a7",
       "version_major": 2,
       "version_minor": 0
      },
      "text/plain": [
       "Training:   0%|          | 0/46 [00:00<?, ?it/s]"
      ]
     },
     "metadata": {},
     "output_type": "display_data"
    },
    {
     "name": "stdout",
     "output_type": "stream",
     "text": [
      "Training Loss: 3.3722. Validation Loss: 3.4140.\n",
      "Training Accuracy: 0.0820. Validation Accuracy: 0.0752.\n",
      "-----------------------------------\n",
      "Epoch 6\n",
      "-----------------------------------\n"
     ]
    },
    {
     "data": {
      "application/vnd.jupyter.widget-view+json": {
       "model_id": "9c4113acb08e4fdb90c6b91db7a40e68",
       "version_major": 2,
       "version_minor": 0
      },
      "text/plain": [
       "Training:   0%|          | 0/46 [00:00<?, ?it/s]"
      ]
     },
     "metadata": {},
     "output_type": "display_data"
    },
    {
     "name": "stdout",
     "output_type": "stream",
     "text": [
      "Training Loss: 3.6790. Validation Loss: 3.5363.\n",
      "Training Accuracy: 0.0527. Validation Accuracy: 0.0686.\n",
      "-----------------------------------\n",
      "Epoch 2\n",
      "-----------------------------------\n"
     ]
    },
    {
     "data": {
      "application/vnd.jupyter.widget-view+json": {
       "model_id": "4f1c9d787df240b486339bc4ea3a1e95",
       "version_major": 2,
       "version_minor": 0
      },
      "text/plain": [
       "Training:   0%|          | 0/46 [00:00<?, ?it/s]"
      ]
     },
     "metadata": {},
     "output_type": "display_data"
    },
    {
     "name": "stdout",
     "output_type": "stream",
     "text": [
      "Training Loss: 3.3502. Validation Loss: 3.4375.\n",
      "Training Accuracy: 0.0826. Validation Accuracy: 0.0850.\n",
      "-----------------------------------\n",
      "Epoch 7\n",
      "-----------------------------------\n"
     ]
    },
    {
     "data": {
      "application/vnd.jupyter.widget-view+json": {
       "model_id": "bf315011db36484ea2b46b9e7eb2bf97",
       "version_major": 2,
       "version_minor": 0
      },
      "text/plain": [
       "Training:   0%|          | 0/46 [00:00<?, ?it/s]"
      ]
     },
     "metadata": {},
     "output_type": "display_data"
    },
    {
     "name": "stdout",
     "output_type": "stream",
     "text": [
      "Training Loss: 3.3206. Validation Loss: 3.4498.\n",
      "Training Accuracy: 0.0969. Validation Accuracy: 0.0425.\n",
      "-----------------------------------\n",
      "Epoch 8\n",
      "-----------------------------------\n"
     ]
    },
    {
     "data": {
      "application/vnd.jupyter.widget-view+json": {
       "model_id": "c079358bdcaa4b07ab21c6397632031a",
       "version_major": 2,
       "version_minor": 0
      },
      "text/plain": [
       "Training:   0%|          | 0/46 [00:00<?, ?it/s]"
      ]
     },
     "metadata": {},
     "output_type": "display_data"
    },
    {
     "name": "stdout",
     "output_type": "stream",
     "text": [
      "Training Loss: 3.4674. Validation Loss: 3.4398.\n",
      "Training Accuracy: 0.0706. Validation Accuracy: 0.0523.\n",
      "-----------------------------------\n",
      "Epoch 3\n",
      "-----------------------------------\n"
     ]
    },
    {
     "data": {
      "application/vnd.jupyter.widget-view+json": {
       "model_id": "23fc23f873d24801b69c097441506866",
       "version_major": 2,
       "version_minor": 0
      },
      "text/plain": [
       "Training:   0%|          | 0/46 [00:00<?, ?it/s]"
      ]
     },
     "metadata": {},
     "output_type": "display_data"
    },
    {
     "name": "stdout",
     "output_type": "stream",
     "text": [
      "Training Loss: 3.2904. Validation Loss: 3.5203.\n",
      "Training Accuracy: 0.1107. Validation Accuracy: 0.0588.\n",
      "-----------------------------------\n",
      "Epoch 9\n",
      "-----------------------------------\n"
     ]
    },
    {
     "data": {
      "application/vnd.jupyter.widget-view+json": {
       "model_id": "a80d389c81e34ed5a04f46a6ed6f0451",
       "version_major": 2,
       "version_minor": 0
      },
      "text/plain": [
       "Training:   0%|          | 0/46 [00:00<?, ?it/s]"
      ]
     },
     "metadata": {},
     "output_type": "display_data"
    },
    {
     "name": "stdout",
     "output_type": "stream",
     "text": [
      "Training Loss: 3.2789. Validation Loss: 3.4447.\n",
      "Training Accuracy: 0.1154. Validation Accuracy: 0.0556.\n",
      "-----------------------------------\n",
      "Epoch 10\n",
      "-----------------------------------\n"
     ]
    },
    {
     "data": {
      "application/vnd.jupyter.widget-view+json": {
       "model_id": "86f1b08ee84348f1803cf1d5c4b1370e",
       "version_major": 2,
       "version_minor": 0
      },
      "text/plain": [
       "Training:   0%|          | 0/46 [00:00<?, ?it/s]"
      ]
     },
     "metadata": {},
     "output_type": "display_data"
    },
    {
     "name": "stdout",
     "output_type": "stream",
     "text": [
      "Training Loss: 3.3856. Validation Loss: 3.4457.\n",
      "Training Accuracy: 0.0704. Validation Accuracy: 0.0458.\n",
      "-----------------------------------\n",
      "Epoch 4\n",
      "-----------------------------------\n"
     ]
    },
    {
     "data": {
      "application/vnd.jupyter.widget-view+json": {
       "model_id": "e103450975444699bef0a61fc5fcb421",
       "version_major": 2,
       "version_minor": 0
      },
      "text/plain": [
       "Training:   0%|          | 0/46 [00:00<?, ?it/s]"
      ]
     },
     "metadata": {},
     "output_type": "display_data"
    },
    {
     "name": "stderr",
     "output_type": "stream",
     "text": [
      "[I 2024-12-09 00:35:46,674] Trial 15 finished with value: 1044.682635307312 and parameters: {'kernel_size': 2048, 'stride': 8192, 'fourier_size': 4096, 'enc_hidden': 512, 'dec_hidden': 512, 'lr': 0.001, 'step_size': 10, 'gamma': 0.01}. Best is trial 4 with value: 998.0692343711853.\n"
     ]
    },
    {
     "name": "stdout",
     "output_type": "stream",
     "text": [
      "Training Loss: 3.2470. Validation Loss: 3.5298.\n",
      "Training Accuracy: 0.1260. Validation Accuracy: 0.0261.\n",
      "EARLY STOP E:10 L:3.5298\n",
      "-----------------------------------\n",
      "Epoch 1\n",
      "-----------------------------------\n"
     ]
    },
    {
     "data": {
      "application/vnd.jupyter.widget-view+json": {
       "model_id": "d4b5d73bebc5425e9a6dd268d72835ac",
       "version_major": 2,
       "version_minor": 0
      },
      "text/plain": [
       "Training:   0%|          | 0/46 [00:00<?, ?it/s]"
      ]
     },
     "metadata": {},
     "output_type": "display_data"
    },
    {
     "name": "stdout",
     "output_type": "stream",
     "text": [
      "Training Loss: 3.3658. Validation Loss: 3.4189.\n",
      "Training Accuracy: 0.0806. Validation Accuracy: 0.0490.\n",
      "-----------------------------------\n",
      "Epoch 5\n",
      "-----------------------------------\n"
     ]
    },
    {
     "data": {
      "application/vnd.jupyter.widget-view+json": {
       "model_id": "1070174c36ab48d9a12f58cdcd3f5561",
       "version_major": 2,
       "version_minor": 0
      },
      "text/plain": [
       "Training:   0%|          | 0/46 [00:00<?, ?it/s]"
      ]
     },
     "metadata": {},
     "output_type": "display_data"
    },
    {
     "name": "stderr",
     "output_type": "stream",
     "text": [
      "[I 2024-12-09 00:35:53,699] Trial 18 pruned. \n"
     ]
    },
    {
     "name": "stdout",
     "output_type": "stream",
     "text": [
      "Training Loss: 3.6034. Validation Loss: 3.5556.\n",
      "Training Accuracy: 0.0498. Validation Accuracy: 0.0392.\n",
      "OPTUNA PRUNED E:1 L:3.5556\n",
      "-----------------------------------\n",
      "Epoch 1\n",
      "-----------------------------------\n"
     ]
    },
    {
     "data": {
      "application/vnd.jupyter.widget-view+json": {
       "model_id": "9b2402008abc4eee838b06ebc0a11bca",
       "version_major": 2,
       "version_minor": 0
      },
      "text/plain": [
       "Training:   0%|          | 0/46 [00:00<?, ?it/s]"
      ]
     },
     "metadata": {},
     "output_type": "display_data"
    },
    {
     "name": "stdout",
     "output_type": "stream",
     "text": [
      "Training Loss: 3.5388. Validation Loss: 3.4498.\n",
      "Training Accuracy: 0.0625. Validation Accuracy: 0.0490.\n",
      "-----------------------------------\n",
      "Epoch 2\n",
      "-----------------------------------\n"
     ]
    },
    {
     "data": {
      "application/vnd.jupyter.widget-view+json": {
       "model_id": "d1c94dcbd85d448286330fa4fc4da756",
       "version_major": 2,
       "version_minor": 0
      },
      "text/plain": [
       "Training:   0%|          | 0/46 [00:00<?, ?it/s]"
      ]
     },
     "metadata": {},
     "output_type": "display_data"
    },
    {
     "name": "stdout",
     "output_type": "stream",
     "text": [
      "Training Loss: 3.3598. Validation Loss: 3.4217.\n",
      "Training Accuracy: 0.0852. Validation Accuracy: 0.0490.\n",
      "-----------------------------------\n",
      "Epoch 6\n",
      "-----------------------------------\n"
     ]
    },
    {
     "data": {
      "application/vnd.jupyter.widget-view+json": {
       "model_id": "f149d257cde444269ee9d2d35a5fa399",
       "version_major": 2,
       "version_minor": 0
      },
      "text/plain": [
       "Training:   0%|          | 0/46 [00:00<?, ?it/s]"
      ]
     },
     "metadata": {},
     "output_type": "display_data"
    },
    {
     "name": "stdout",
     "output_type": "stream",
     "text": [
      "Training Loss: 3.3298. Validation Loss: 3.4836.\n",
      "Training Accuracy: 0.1049. Validation Accuracy: 0.0490.\n",
      "-----------------------------------\n",
      "Epoch 3\n",
      "-----------------------------------\n"
     ]
    },
    {
     "data": {
      "application/vnd.jupyter.widget-view+json": {
       "model_id": "f1e3947eb3084094be1f4dfbd4e917cd",
       "version_major": 2,
       "version_minor": 0
      },
      "text/plain": [
       "Training:   0%|          | 0/46 [00:00<?, ?it/s]"
      ]
     },
     "metadata": {},
     "output_type": "display_data"
    },
    {
     "name": "stdout",
     "output_type": "stream",
     "text": [
      "Training Loss: 3.3561. Validation Loss: 3.4356.\n",
      "Training Accuracy: 0.0857. Validation Accuracy: 0.0490.\n",
      "-----------------------------------\n",
      "Epoch 7\n",
      "-----------------------------------\n"
     ]
    },
    {
     "data": {
      "application/vnd.jupyter.widget-view+json": {
       "model_id": "c6358f19a0be4f9591ae7cd8645066e0",
       "version_major": 2,
       "version_minor": 0
      },
      "text/plain": [
       "Training:   0%|          | 0/46 [00:00<?, ?it/s]"
      ]
     },
     "metadata": {},
     "output_type": "display_data"
    },
    {
     "name": "stdout",
     "output_type": "stream",
     "text": [
      "Training Loss: 3.1463. Validation Loss: 3.4533.\n",
      "Training Accuracy: 0.1825. Validation Accuracy: 0.0948.\n",
      "-----------------------------------\n",
      "Epoch 4\n",
      "-----------------------------------\n"
     ]
    },
    {
     "data": {
      "application/vnd.jupyter.widget-view+json": {
       "model_id": "393c23df21ba4b13b97809cb9720e13b",
       "version_major": 2,
       "version_minor": 0
      },
      "text/plain": [
       "Training:   0%|          | 0/46 [00:00<?, ?it/s]"
      ]
     },
     "metadata": {},
     "output_type": "display_data"
    },
    {
     "name": "stdout",
     "output_type": "stream",
     "text": [
      "Training Loss: 3.3548. Validation Loss: 3.4354.\n",
      "Training Accuracy: 0.0861. Validation Accuracy: 0.0490.\n",
      "-----------------------------------\n",
      "Epoch 8\n",
      "-----------------------------------\n"
     ]
    },
    {
     "data": {
      "application/vnd.jupyter.widget-view+json": {
       "model_id": "1ff762bee6914b40a72b0ac04ea75474",
       "version_major": 2,
       "version_minor": 0
      },
      "text/plain": [
       "Training:   0%|          | 0/46 [00:00<?, ?it/s]"
      ]
     },
     "metadata": {},
     "output_type": "display_data"
    },
    {
     "name": "stdout",
     "output_type": "stream",
     "text": [
      "Training Loss: 2.8472. Validation Loss: 3.5913.\n",
      "Training Accuracy: 0.2672. Validation Accuracy: 0.0229.\n",
      "-----------------------------------\n",
      "Epoch 5\n",
      "-----------------------------------\n"
     ]
    },
    {
     "data": {
      "application/vnd.jupyter.widget-view+json": {
       "model_id": "8faa6d9fee4a41f0ad360296f22f8796",
       "version_major": 2,
       "version_minor": 0
      },
      "text/plain": [
       "Training:   0%|          | 0/46 [00:00<?, ?it/s]"
      ]
     },
     "metadata": {},
     "output_type": "display_data"
    },
    {
     "name": "stdout",
     "output_type": "stream",
     "text": [
      "Training Loss: 3.3519. Validation Loss: 3.4155.\n",
      "Training Accuracy: 0.0897. Validation Accuracy: 0.0490.\n",
      "-----------------------------------\n",
      "Epoch 9\n",
      "-----------------------------------\n"
     ]
    },
    {
     "data": {
      "application/vnd.jupyter.widget-view+json": {
       "model_id": "c2fb8c553c8442a48b0c517aae27ce47",
       "version_major": 2,
       "version_minor": 0
      },
      "text/plain": [
       "Training:   0%|          | 0/46 [00:00<?, ?it/s]"
      ]
     },
     "metadata": {},
     "output_type": "display_data"
    },
    {
     "name": "stdout",
     "output_type": "stream",
     "text": [
      "Training Loss: 2.6543. Validation Loss: 3.5295.\n",
      "Training Accuracy: 0.2924. Validation Accuracy: 0.0229.\n",
      "-----------------------------------\n",
      "Epoch 6\n",
      "-----------------------------------\n"
     ]
    },
    {
     "data": {
      "application/vnd.jupyter.widget-view+json": {
       "model_id": "e7e4755abb94413fab8f7a8e5a974733",
       "version_major": 2,
       "version_minor": 0
      },
      "text/plain": [
       "Training:   0%|          | 0/46 [00:00<?, ?it/s]"
      ]
     },
     "metadata": {},
     "output_type": "display_data"
    },
    {
     "name": "stdout",
     "output_type": "stream",
     "text": [
      "Training Loss: 3.3458. Validation Loss: 3.4310.\n",
      "Training Accuracy: 0.0892. Validation Accuracy: 0.0490.\n",
      "-----------------------------------\n",
      "Epoch 10\n",
      "-----------------------------------\n"
     ]
    },
    {
     "data": {
      "application/vnd.jupyter.widget-view+json": {
       "model_id": "a6fb61b62c20461ba5715601f8d5acce",
       "version_major": 2,
       "version_minor": 0
      },
      "text/plain": [
       "Training:   0%|          | 0/46 [00:00<?, ?it/s]"
      ]
     },
     "metadata": {},
     "output_type": "display_data"
    },
    {
     "name": "stdout",
     "output_type": "stream",
     "text": [
      "Training Loss: 2.4935. Validation Loss: 3.4169.\n",
      "Training Accuracy: 0.3184. Validation Accuracy: 0.0588.\n",
      "-----------------------------------\n",
      "Epoch 7\n",
      "-----------------------------------\n"
     ]
    },
    {
     "data": {
      "application/vnd.jupyter.widget-view+json": {
       "model_id": "6170fbff5c98432ba1c266930f0d93c6",
       "version_major": 2,
       "version_minor": 0
      },
      "text/plain": [
       "Training:   0%|          | 0/46 [00:00<?, ?it/s]"
      ]
     },
     "metadata": {},
     "output_type": "display_data"
    },
    {
     "name": "stdout",
     "output_type": "stream",
     "text": [
      "Training Loss: 2.3799. Validation Loss: 3.3066.\n",
      "Training Accuracy: 0.3330. Validation Accuracy: 0.1307.\n",
      "-----------------------------------\n",
      "Epoch 8\n",
      "-----------------------------------\n"
     ]
    },
    {
     "data": {
      "application/vnd.jupyter.widget-view+json": {
       "model_id": "5024244a38414b6ba098e726f92b9ae9",
       "version_major": 2,
       "version_minor": 0
      },
      "text/plain": [
       "Training:   0%|          | 0/46 [00:00<?, ?it/s]"
      ]
     },
     "metadata": {},
     "output_type": "display_data"
    },
    {
     "name": "stdout",
     "output_type": "stream",
     "text": [
      "Training Loss: 3.3382. Validation Loss: 3.4192.\n",
      "Training Accuracy: 0.0868. Validation Accuracy: 0.0490.\n",
      "-----------------------------------\n",
      "Epoch 11\n",
      "-----------------------------------\n"
     ]
    },
    {
     "data": {
      "application/vnd.jupyter.widget-view+json": {
       "model_id": "ca75d7460fbf4979b02bbdb04e970ba6",
       "version_major": 2,
       "version_minor": 0
      },
      "text/plain": [
       "Training:   0%|          | 0/46 [00:00<?, ?it/s]"
      ]
     },
     "metadata": {},
     "output_type": "display_data"
    },
    {
     "name": "stdout",
     "output_type": "stream",
     "text": [
      "Training Loss: 2.2657. Validation Loss: 3.2725.\n",
      "Training Accuracy: 0.3614. Validation Accuracy: 0.1078.\n",
      "-----------------------------------\n",
      "Epoch 9\n",
      "-----------------------------------\n"
     ]
    },
    {
     "data": {
      "application/vnd.jupyter.widget-view+json": {
       "model_id": "c5515571169247c28eab0a3a39e3155a",
       "version_major": 2,
       "version_minor": 0
      },
      "text/plain": [
       "Training:   0%|          | 0/46 [00:00<?, ?it/s]"
      ]
     },
     "metadata": {},
     "output_type": "display_data"
    },
    {
     "name": "stdout",
     "output_type": "stream",
     "text": [
      "Training Loss: 3.3348. Validation Loss: 3.4332.\n",
      "Training Accuracy: 0.0868. Validation Accuracy: 0.0490.\n",
      "-----------------------------------\n",
      "Epoch 12\n",
      "-----------------------------------\n"
     ]
    },
    {
     "data": {
      "application/vnd.jupyter.widget-view+json": {
       "model_id": "376e900bb364407f957bd0d3c1cb99cd",
       "version_major": 2,
       "version_minor": 0
      },
      "text/plain": [
       "Training:   0%|          | 0/46 [00:00<?, ?it/s]"
      ]
     },
     "metadata": {},
     "output_type": "display_data"
    },
    {
     "name": "stdout",
     "output_type": "stream",
     "text": [
      "Training Loss: 2.1997. Validation Loss: 3.2528.\n",
      "Training Accuracy: 0.3809. Validation Accuracy: 0.1078.\n",
      "-----------------------------------\n",
      "Epoch 10\n",
      "-----------------------------------\n"
     ]
    },
    {
     "data": {
      "application/vnd.jupyter.widget-view+json": {
       "model_id": "3386bb636141469f989e020be355ea80",
       "version_major": 2,
       "version_minor": 0
      },
      "text/plain": [
       "Training:   0%|          | 0/46 [00:00<?, ?it/s]"
      ]
     },
     "metadata": {},
     "output_type": "display_data"
    },
    {
     "name": "stdout",
     "output_type": "stream",
     "text": [
      "Training Loss: 3.3277. Validation Loss: 3.4362.\n",
      "Training Accuracy: 0.0859. Validation Accuracy: 0.0490.\n",
      "-----------------------------------\n",
      "Epoch 13\n",
      "-----------------------------------\n"
     ]
    },
    {
     "data": {
      "application/vnd.jupyter.widget-view+json": {
       "model_id": "ac06e1286bf64fca945c55120917b0b9",
       "version_major": 2,
       "version_minor": 0
      },
      "text/plain": [
       "Training:   0%|          | 0/46 [00:00<?, ?it/s]"
      ]
     },
     "metadata": {},
     "output_type": "display_data"
    },
    {
     "name": "stdout",
     "output_type": "stream",
     "text": [
      "Training Loss: 2.1202. Validation Loss: 3.1976.\n",
      "Training Accuracy: 0.3865. Validation Accuracy: 0.1242.\n",
      "-----------------------------------\n",
      "Epoch 11\n",
      "-----------------------------------\n"
     ]
    },
    {
     "data": {
      "application/vnd.jupyter.widget-view+json": {
       "model_id": "11cd4e29e9c84dd1bcc1018da8260008",
       "version_major": 2,
       "version_minor": 0
      },
      "text/plain": [
       "Training:   0%|          | 0/46 [00:00<?, ?it/s]"
      ]
     },
     "metadata": {},
     "output_type": "display_data"
    },
    {
     "name": "stderr",
     "output_type": "stream",
     "text": [
      "[I 2024-12-09 00:38:44,996] Trial 17 finished with value: 1045.1448159217834 and parameters: {'kernel_size': 1024, 'stride': 16384, 'fourier_size': 4096, 'enc_hidden': 64, 'dec_hidden': 64, 'lr': 0.001, 'step_size': 20, 'gamma': 0.01}. Best is trial 4 with value: 998.0692343711853.\n"
     ]
    },
    {
     "name": "stdout",
     "output_type": "stream",
     "text": [
      "Training Loss: 3.3205. Validation Loss: 3.4294.\n",
      "Training Accuracy: 0.0854. Validation Accuracy: 0.0490.\n",
      "EARLY STOP E:13 L:3.4294\n",
      "-----------------------------------\n",
      "Epoch 1\n",
      "-----------------------------------\n"
     ]
    },
    {
     "data": {
      "application/vnd.jupyter.widget-view+json": {
       "model_id": "a27dc9af4c3e47aa8bfa12b625e676c3",
       "version_major": 2,
       "version_minor": 0
      },
      "text/plain": [
       "Training:   0%|          | 0/46 [00:00<?, ?it/s]"
      ]
     },
     "metadata": {},
     "output_type": "display_data"
    },
    {
     "name": "stdout",
     "output_type": "stream",
     "text": [
      "Training Loss: 2.0773. Validation Loss: 3.2915.\n",
      "Training Accuracy: 0.4029. Validation Accuracy: 0.1503.\n",
      "-----------------------------------\n",
      "Epoch 12\n",
      "-----------------------------------\n"
     ]
    },
    {
     "data": {
      "application/vnd.jupyter.widget-view+json": {
       "model_id": "533496399d634530b1c13b275769bedb",
       "version_major": 2,
       "version_minor": 0
      },
      "text/plain": [
       "Training:   0%|          | 0/46 [00:00<?, ?it/s]"
      ]
     },
     "metadata": {},
     "output_type": "display_data"
    },
    {
     "name": "stdout",
     "output_type": "stream",
     "text": [
      "Training Loss: 2.0305. Validation Loss: 3.4809.\n",
      "Training Accuracy: 0.4094. Validation Accuracy: 0.1405.\n",
      "-----------------------------------\n",
      "Epoch 13\n",
      "-----------------------------------\n"
     ]
    },
    {
     "data": {
      "application/vnd.jupyter.widget-view+json": {
       "model_id": "70ac8996d8ed454788d48895d2b39ba8",
       "version_major": 2,
       "version_minor": 0
      },
      "text/plain": [
       "Training:   0%|          | 0/46 [00:00<?, ?it/s]"
      ]
     },
     "metadata": {},
     "output_type": "display_data"
    },
    {
     "name": "stdout",
     "output_type": "stream",
     "text": [
      "Training Loss: 3.5478. Validation Loss: 3.4818.\n",
      "Training Accuracy: 0.0673. Validation Accuracy: 0.0490.\n",
      "-----------------------------------\n",
      "Epoch 2\n",
      "-----------------------------------\n"
     ]
    },
    {
     "data": {
      "application/vnd.jupyter.widget-view+json": {
       "model_id": "f65829163a0d4c1c85b053741433e8a7",
       "version_major": 2,
       "version_minor": 0
      },
      "text/plain": [
       "Training:   0%|          | 0/46 [00:00<?, ?it/s]"
      ]
     },
     "metadata": {},
     "output_type": "display_data"
    },
    {
     "name": "stdout",
     "output_type": "stream",
     "text": [
      "Training Loss: 1.9851. Validation Loss: 3.4880.\n",
      "Training Accuracy: 0.4139. Validation Accuracy: 0.0882.\n",
      "-----------------------------------\n",
      "Epoch 14\n",
      "-----------------------------------\n"
     ]
    },
    {
     "data": {
      "application/vnd.jupyter.widget-view+json": {
       "model_id": "f0e336817487494c86e3fa37766448c9",
       "version_major": 2,
       "version_minor": 0
      },
      "text/plain": [
       "Training:   0%|          | 0/46 [00:00<?, ?it/s]"
      ]
     },
     "metadata": {},
     "output_type": "display_data"
    },
    {
     "name": "stdout",
     "output_type": "stream",
     "text": [
      "Training Loss: 1.9323. Validation Loss: 3.5267.\n",
      "Training Accuracy: 0.4289. Validation Accuracy: 0.1144.\n",
      "-----------------------------------\n",
      "Epoch 15\n",
      "-----------------------------------\n"
     ]
    },
    {
     "data": {
      "application/vnd.jupyter.widget-view+json": {
       "model_id": "76962c0b0e8341739201f482ecbf5247",
       "version_major": 2,
       "version_minor": 0
      },
      "text/plain": [
       "Training:   0%|          | 0/46 [00:00<?, ?it/s]"
      ]
     },
     "metadata": {},
     "output_type": "display_data"
    },
    {
     "name": "stderr",
     "output_type": "stream",
     "text": [
      "[I 2024-12-09 00:39:44,842] Trial 20 pruned. \n"
     ]
    },
    {
     "name": "stdout",
     "output_type": "stream",
     "text": [
      "Training Loss: 3.3323. Validation Loss: 3.4745.\n",
      "Training Accuracy: 0.0971. Validation Accuracy: 0.0490.\n",
      "OPTUNA PRUNED E:2 L:3.4745\n",
      "-----------------------------------\n",
      "Epoch 1\n",
      "-----------------------------------\n"
     ]
    },
    {
     "data": {
      "application/vnd.jupyter.widget-view+json": {
       "model_id": "5bc69e8cc66a4de9b3ee915a638e9dbe",
       "version_major": 2,
       "version_minor": 0
      },
      "text/plain": [
       "Training:   0%|          | 0/46 [00:00<?, ?it/s]"
      ]
     },
     "metadata": {},
     "output_type": "display_data"
    },
    {
     "name": "stderr",
     "output_type": "stream",
     "text": [
      "[I 2024-12-09 00:40:11,627] Trial 19 finished with value: 978.4719181060791 and parameters: {'kernel_size': 4096, 'stride': 512, 'fourier_size': 2048, 'enc_hidden': 64, 'dec_hidden': 256, 'lr': 0.001, 'step_size': 10, 'gamma': 0.01}. Best is trial 19 with value: 978.4719181060791.\n"
     ]
    },
    {
     "name": "stdout",
     "output_type": "stream",
     "text": [
      "Training Loss: 1.8727. Validation Loss: 3.3656.\n",
      "Training Accuracy: 0.4497. Validation Accuracy: 0.1667.\n",
      "EARLY STOP E:15 L:3.3656\n",
      "-----------------------------------\n",
      "Epoch 1\n",
      "-----------------------------------\n"
     ]
    },
    {
     "data": {
      "application/vnd.jupyter.widget-view+json": {
       "model_id": "6ac71937029c4a2e8d6d8d83ce13e2ec",
       "version_major": 2,
       "version_minor": 0
      },
      "text/plain": [
       "Training:   0%|          | 0/46 [00:00<?, ?it/s]"
      ]
     },
     "metadata": {},
     "output_type": "display_data"
    },
    {
     "name": "stdout",
     "output_type": "stream",
     "text": [
      "Training Loss: 3.5509. Validation Loss: 3.5264.\n",
      "Training Accuracy: 0.0623. Validation Accuracy: 0.0556.\n",
      "-----------------------------------\n",
      "Epoch 2\n",
      "-----------------------------------\n"
     ]
    },
    {
     "data": {
      "application/vnd.jupyter.widget-view+json": {
       "model_id": "a65b5492d1d14669bf1d40ae26ccbb62",
       "version_major": 2,
       "version_minor": 0
      },
      "text/plain": [
       "Training:   0%|          | 0/46 [00:00<?, ?it/s]"
      ]
     },
     "metadata": {},
     "output_type": "display_data"
    },
    {
     "name": "stdout",
     "output_type": "stream",
     "text": [
      "Training Loss: 3.5363. Validation Loss: 3.4008.\n",
      "Training Accuracy: 0.0535. Validation Accuracy: 0.0523.\n",
      "-----------------------------------\n",
      "Epoch 2\n",
      "-----------------------------------\n"
     ]
    },
    {
     "data": {
      "application/vnd.jupyter.widget-view+json": {
       "model_id": "ee9e3796c69d4f34b62e9f8d5eab8e98",
       "version_major": 2,
       "version_minor": 0
      },
      "text/plain": [
       "Training:   0%|          | 0/46 [00:00<?, ?it/s]"
      ]
     },
     "metadata": {},
     "output_type": "display_data"
    },
    {
     "name": "stdout",
     "output_type": "stream",
     "text": [
      "Training Loss: 3.3338. Validation Loss: 3.4141.\n",
      "Training Accuracy: 0.1016. Validation Accuracy: 0.0425.\n",
      "-----------------------------------\n",
      "Epoch 3\n",
      "-----------------------------------\n"
     ]
    },
    {
     "data": {
      "application/vnd.jupyter.widget-view+json": {
       "model_id": "73c5ae4ba7e940b8b00bb9f229390fb6",
       "version_major": 2,
       "version_minor": 0
      },
      "text/plain": [
       "Training:   0%|          | 0/46 [00:00<?, ?it/s]"
      ]
     },
     "metadata": {},
     "output_type": "display_data"
    },
    {
     "name": "stdout",
     "output_type": "stream",
     "text": [
      "Training Loss: 3.3449. Validation Loss: 3.4298.\n",
      "Training Accuracy: 0.1055. Validation Accuracy: 0.0490.\n",
      "-----------------------------------\n",
      "Epoch 3\n",
      "-----------------------------------\n"
     ]
    },
    {
     "data": {
      "application/vnd.jupyter.widget-view+json": {
       "model_id": "44b49992c54449b087e998423852aa6d",
       "version_major": 2,
       "version_minor": 0
      },
      "text/plain": [
       "Training:   0%|          | 0/46 [00:00<?, ?it/s]"
      ]
     },
     "metadata": {},
     "output_type": "display_data"
    },
    {
     "name": "stdout",
     "output_type": "stream",
     "text": [
      "Training Loss: 3.2221. Validation Loss: 3.4386.\n",
      "Training Accuracy: 0.1655. Validation Accuracy: 0.0948.\n",
      "-----------------------------------\n",
      "Epoch 4\n",
      "-----------------------------------\n"
     ]
    },
    {
     "data": {
      "application/vnd.jupyter.widget-view+json": {
       "model_id": "fe770f9201ff441bb855bd46038d3a6c",
       "version_major": 2,
       "version_minor": 0
      },
      "text/plain": [
       "Training:   0%|          | 0/46 [00:00<?, ?it/s]"
      ]
     },
     "metadata": {},
     "output_type": "display_data"
    },
    {
     "name": "stdout",
     "output_type": "stream",
     "text": [
      "Training Loss: 3.0578. Validation Loss: 3.6039.\n",
      "Training Accuracy: 0.1720. Validation Accuracy: 0.0490.\n",
      "-----------------------------------\n",
      "Epoch 4\n",
      "-----------------------------------\n"
     ]
    },
    {
     "data": {
      "application/vnd.jupyter.widget-view+json": {
       "model_id": "f6534dc4b0304dc88b4bb76b14c41471",
       "version_major": 2,
       "version_minor": 0
      },
      "text/plain": [
       "Training:   0%|          | 0/46 [00:00<?, ?it/s]"
      ]
     },
     "metadata": {},
     "output_type": "display_data"
    },
    {
     "name": "stdout",
     "output_type": "stream",
     "text": [
      "Training Loss: 3.0030. Validation Loss: 3.4576.\n",
      "Training Accuracy: 0.2311. Validation Accuracy: 0.0621.\n",
      "-----------------------------------\n",
      "Epoch 5\n",
      "-----------------------------------\n"
     ]
    },
    {
     "data": {
      "application/vnd.jupyter.widget-view+json": {
       "model_id": "42a095fb4a8e46f9832082eb4df28d8c",
       "version_major": 2,
       "version_minor": 0
      },
      "text/plain": [
       "Training:   0%|          | 0/46 [00:00<?, ?it/s]"
      ]
     },
     "metadata": {},
     "output_type": "display_data"
    },
    {
     "name": "stdout",
     "output_type": "stream",
     "text": [
      "Training Loss: 2.7560. Validation Loss: 3.4230.\n",
      "Training Accuracy: 0.2927. Validation Accuracy: 0.0980.\n",
      "-----------------------------------\n",
      "Epoch 6\n",
      "-----------------------------------\n"
     ]
    },
    {
     "data": {
      "application/vnd.jupyter.widget-view+json": {
       "model_id": "12b2bfc319524c0a92d5767c59f8c042",
       "version_major": 2,
       "version_minor": 0
      },
      "text/plain": [
       "Training:   0%|          | 0/46 [00:00<?, ?it/s]"
      ]
     },
     "metadata": {},
     "output_type": "display_data"
    },
    {
     "name": "stdout",
     "output_type": "stream",
     "text": [
      "Training Loss: 2.7130. Validation Loss: 3.4461.\n",
      "Training Accuracy: 0.2531. Validation Accuracy: 0.0686.\n",
      "-----------------------------------\n",
      "Epoch 5\n",
      "-----------------------------------\n"
     ]
    },
    {
     "data": {
      "application/vnd.jupyter.widget-view+json": {
       "model_id": "45747f2df0e2436f90ca413aae958fe3",
       "version_major": 2,
       "version_minor": 0
      },
      "text/plain": [
       "Training:   0%|          | 0/46 [00:00<?, ?it/s]"
      ]
     },
     "metadata": {},
     "output_type": "display_data"
    },
    {
     "name": "stderr",
     "output_type": "stream",
     "text": [
      "[I 2024-12-09 00:43:44,177] Trial 22 finished with value: 1040.6397652626038 and parameters: {'kernel_size': 4096, 'stride': 512, 'fourier_size': 2048, 'enc_hidden': 64, 'dec_hidden': 256, 'lr': 0.001, 'step_size': 10, 'gamma': 0.01}. Best is trial 19 with value: 978.4719181060791.\n"
     ]
    },
    {
     "name": "stdout",
     "output_type": "stream",
     "text": [
      "Training Loss: 2.6154. Validation Loss: 3.4463.\n",
      "Training Accuracy: 0.2998. Validation Accuracy: 0.0850.\n",
      "EARLY STOP E:6 L:3.4463\n",
      "-----------------------------------\n",
      "Epoch 1\n",
      "-----------------------------------\n"
     ]
    },
    {
     "data": {
      "application/vnd.jupyter.widget-view+json": {
       "model_id": "855bb576e7974fee98d96ed5766fa09b",
       "version_major": 2,
       "version_minor": 0
      },
      "text/plain": [
       "Training:   0%|          | 0/46 [00:00<?, ?it/s]"
      ]
     },
     "metadata": {},
     "output_type": "display_data"
    },
    {
     "name": "stdout",
     "output_type": "stream",
     "text": [
      "Training Loss: 3.5346. Validation Loss: 3.4003.\n",
      "Training Accuracy: 0.0659. Validation Accuracy: 0.0588.\n",
      "-----------------------------------\n",
      "Epoch 2\n",
      "-----------------------------------\n"
     ]
    },
    {
     "data": {
      "application/vnd.jupyter.widget-view+json": {
       "model_id": "3ffbd752aa424861852c832c9ac0dc0a",
       "version_major": 2,
       "version_minor": 0
      },
      "text/plain": [
       "Training:   0%|          | 0/46 [00:00<?, ?it/s]"
      ]
     },
     "metadata": {},
     "output_type": "display_data"
    },
    {
     "name": "stdout",
     "output_type": "stream",
     "text": [
      "Training Loss: 2.5222. Validation Loss: 3.2719.\n",
      "Training Accuracy: 0.3089. Validation Accuracy: 0.1503.\n",
      "-----------------------------------\n",
      "Epoch 6\n",
      "-----------------------------------\n"
     ]
    },
    {
     "data": {
      "application/vnd.jupyter.widget-view+json": {
       "model_id": "2b3af4777baa49f28b35220338453c6f",
       "version_major": 2,
       "version_minor": 0
      },
      "text/plain": [
       "Training:   0%|          | 0/46 [00:00<?, ?it/s]"
      ]
     },
     "metadata": {},
     "output_type": "display_data"
    },
    {
     "name": "stdout",
     "output_type": "stream",
     "text": [
      "Training Loss: 3.3513. Validation Loss: 3.4372.\n",
      "Training Accuracy: 0.0851. Validation Accuracy: 0.0490.\n",
      "-----------------------------------\n",
      "Epoch 3\n",
      "-----------------------------------\n"
     ]
    },
    {
     "data": {
      "application/vnd.jupyter.widget-view+json": {
       "model_id": "851c81742ee1481195062ee8722df91d",
       "version_major": 2,
       "version_minor": 0
      },
      "text/plain": [
       "Training:   0%|          | 0/46 [00:00<?, ?it/s]"
      ]
     },
     "metadata": {},
     "output_type": "display_data"
    },
    {
     "name": "stdout",
     "output_type": "stream",
     "text": [
      "Training Loss: 2.3292. Validation Loss: 3.5812.\n",
      "Training Accuracy: 0.3524. Validation Accuracy: 0.0196.\n",
      "-----------------------------------\n",
      "Epoch 7\n",
      "-----------------------------------\n"
     ]
    },
    {
     "data": {
      "application/vnd.jupyter.widget-view+json": {
       "model_id": "688e4b63f39c498abd96f3b6c31e77fb",
       "version_major": 2,
       "version_minor": 0
      },
      "text/plain": [
       "Training:   0%|          | 0/46 [00:00<?, ?it/s]"
      ]
     },
     "metadata": {},
     "output_type": "display_data"
    },
    {
     "name": "stdout",
     "output_type": "stream",
     "text": [
      "Training Loss: 3.2726. Validation Loss: 3.4475.\n",
      "Training Accuracy: 0.1293. Validation Accuracy: 0.0588.\n",
      "-----------------------------------\n",
      "Epoch 4\n",
      "-----------------------------------\n"
     ]
    },
    {
     "data": {
      "application/vnd.jupyter.widget-view+json": {
       "model_id": "3f8db9e58abb44e0842fdf66fb7fcc5c",
       "version_major": 2,
       "version_minor": 0
      },
      "text/plain": [
       "Training:   0%|          | 0/46 [00:00<?, ?it/s]"
      ]
     },
     "metadata": {},
     "output_type": "display_data"
    },
    {
     "name": "stdout",
     "output_type": "stream",
     "text": [
      "Training Loss: 3.1065. Validation Loss: 3.3995.\n",
      "Training Accuracy: 0.2054. Validation Accuracy: 0.0948.\n",
      "-----------------------------------\n",
      "Epoch 5\n",
      "-----------------------------------\n"
     ]
    },
    {
     "data": {
      "application/vnd.jupyter.widget-view+json": {
       "model_id": "651d9b836a724087b0be26ec9095fd49",
       "version_major": 2,
       "version_minor": 0
      },
      "text/plain": [
       "Training:   0%|          | 0/46 [00:00<?, ?it/s]"
      ]
     },
     "metadata": {},
     "output_type": "display_data"
    },
    {
     "name": "stdout",
     "output_type": "stream",
     "text": [
      "Training Loss: 2.1960. Validation Loss: 3.4724.\n",
      "Training Accuracy: 0.3857. Validation Accuracy: 0.0654.\n",
      "-----------------------------------\n",
      "Epoch 8\n",
      "-----------------------------------\n"
     ]
    },
    {
     "data": {
      "application/vnd.jupyter.widget-view+json": {
       "model_id": "0309a7cb3e52478ea5265de0879ac643",
       "version_major": 2,
       "version_minor": 0
      },
      "text/plain": [
       "Training:   0%|          | 0/46 [00:00<?, ?it/s]"
      ]
     },
     "metadata": {},
     "output_type": "display_data"
    },
    {
     "name": "stdout",
     "output_type": "stream",
     "text": [
      "Training Loss: 2.8592. Validation Loss: 3.2614.\n",
      "Training Accuracy: 0.2634. Validation Accuracy: 0.1242.\n",
      "-----------------------------------\n",
      "Epoch 6\n",
      "-----------------------------------\n"
     ]
    },
    {
     "data": {
      "application/vnd.jupyter.widget-view+json": {
       "model_id": "f39d63e461ef4f71ac2153b8f9a8afbf",
       "version_major": 2,
       "version_minor": 0
      },
      "text/plain": [
       "Training:   0%|          | 0/46 [00:00<?, ?it/s]"
      ]
     },
     "metadata": {},
     "output_type": "display_data"
    },
    {
     "name": "stdout",
     "output_type": "stream",
     "text": [
      "Training Loss: 2.7728. Validation Loss: 3.2704.\n",
      "Training Accuracy: 0.2738. Validation Accuracy: 0.1013.\n",
      "-----------------------------------\n",
      "Epoch 7\n",
      "-----------------------------------\n"
     ]
    },
    {
     "data": {
      "application/vnd.jupyter.widget-view+json": {
       "model_id": "74972df6a0404800827761d224ec76f5",
       "version_major": 2,
       "version_minor": 0
      },
      "text/plain": [
       "Training:   0%|          | 0/46 [00:00<?, ?it/s]"
      ]
     },
     "metadata": {},
     "output_type": "display_data"
    },
    {
     "name": "stdout",
     "output_type": "stream",
     "text": [
      "Training Loss: 2.0791. Validation Loss: 3.4272.\n",
      "Training Accuracy: 0.3917. Validation Accuracy: 0.0588.\n",
      "-----------------------------------\n",
      "Epoch 9\n",
      "-----------------------------------\n"
     ]
    },
    {
     "data": {
      "application/vnd.jupyter.widget-view+json": {
       "model_id": "618f46e3b5df47da892841449c6b517f",
       "version_major": 2,
       "version_minor": 0
      },
      "text/plain": [
       "Training:   0%|          | 0/46 [00:00<?, ?it/s]"
      ]
     },
     "metadata": {},
     "output_type": "display_data"
    },
    {
     "name": "stdout",
     "output_type": "stream",
     "text": [
      "Training Loss: 2.6232. Validation Loss: 3.2064.\n",
      "Training Accuracy: 0.3030. Validation Accuracy: 0.0948.\n",
      "-----------------------------------\n",
      "Epoch 8\n",
      "-----------------------------------\n"
     ]
    },
    {
     "data": {
      "application/vnd.jupyter.widget-view+json": {
       "model_id": "d0b5e83985e8498796f72da26ea8646c",
       "version_major": 2,
       "version_minor": 0
      },
      "text/plain": [
       "Training:   0%|          | 0/46 [00:00<?, ?it/s]"
      ]
     },
     "metadata": {},
     "output_type": "display_data"
    },
    {
     "name": "stdout",
     "output_type": "stream",
     "text": [
      "Training Loss: 1.9531. Validation Loss: 3.4975.\n",
      "Training Accuracy: 0.4246. Validation Accuracy: 0.0458.\n",
      "-----------------------------------\n",
      "Epoch 10\n",
      "-----------------------------------\n"
     ]
    },
    {
     "data": {
      "application/vnd.jupyter.widget-view+json": {
       "model_id": "82fbe0db4660427e9e3c8bde4e801ca7",
       "version_major": 2,
       "version_minor": 0
      },
      "text/plain": [
       "Training:   0%|          | 0/46 [00:00<?, ?it/s]"
      ]
     },
     "metadata": {},
     "output_type": "display_data"
    },
    {
     "name": "stdout",
     "output_type": "stream",
     "text": [
      "Training Loss: 2.4883. Validation Loss: 3.1549.\n",
      "Training Accuracy: 0.3271. Validation Accuracy: 0.1144.\n",
      "-----------------------------------\n",
      "Epoch 9\n",
      "-----------------------------------\n"
     ]
    },
    {
     "data": {
      "application/vnd.jupyter.widget-view+json": {
       "model_id": "0b92e980b5854a1e92deeadb7ca29da7",
       "version_major": 2,
       "version_minor": 0
      },
      "text/plain": [
       "Training:   0%|          | 0/46 [00:00<?, ?it/s]"
      ]
     },
     "metadata": {},
     "output_type": "display_data"
    },
    {
     "name": "stdout",
     "output_type": "stream",
     "text": [
      "Training Loss: 2.3678. Validation Loss: 3.1822.\n",
      "Training Accuracy: 0.3425. Validation Accuracy: 0.1438.\n",
      "-----------------------------------\n",
      "Epoch 10\n",
      "-----------------------------------\n"
     ]
    },
    {
     "data": {
      "application/vnd.jupyter.widget-view+json": {
       "model_id": "fb694b5923e14b3eb9c0423e2cf599a6",
       "version_major": 2,
       "version_minor": 0
      },
      "text/plain": [
       "Training:   0%|          | 0/46 [00:00<?, ?it/s]"
      ]
     },
     "metadata": {},
     "output_type": "display_data"
    },
    {
     "name": "stderr",
     "output_type": "stream",
     "text": [
      "[I 2024-12-09 00:49:02,215] Trial 21 finished with value: 1001.2017650604248 and parameters: {'kernel_size': 8192, 'stride': 512, 'fourier_size': 2048, 'enc_hidden': 512, 'dec_hidden': 1024, 'lr': 0.001, 'step_size': 10, 'gamma': 0.01}. Best is trial 19 with value: 978.4719181060791.\n"
     ]
    },
    {
     "name": "stdout",
     "output_type": "stream",
     "text": [
      "Training Loss: 1.8972. Validation Loss: 3.4226.\n",
      "Training Accuracy: 0.4489. Validation Accuracy: 0.0850.\n",
      "EARLY STOP E:10 L:3.4226\n",
      "-----------------------------------\n",
      "Epoch 1\n",
      "-----------------------------------\n"
     ]
    },
    {
     "data": {
      "application/vnd.jupyter.widget-view+json": {
       "model_id": "9750152d16cc40e08bbd8cd53baee17d",
       "version_major": 2,
       "version_minor": 0
      },
      "text/plain": [
       "Training:   0%|          | 0/46 [00:00<?, ?it/s]"
      ]
     },
     "metadata": {},
     "output_type": "display_data"
    },
    {
     "name": "stdout",
     "output_type": "stream",
     "text": [
      "Training Loss: 2.3022. Validation Loss: 3.1618.\n",
      "Training Accuracy: 0.3635. Validation Accuracy: 0.1699.\n",
      "-----------------------------------\n",
      "Epoch 11\n",
      "-----------------------------------\n"
     ]
    },
    {
     "data": {
      "application/vnd.jupyter.widget-view+json": {
       "model_id": "52e18a98631644ce9d39b81be39410f7",
       "version_major": 2,
       "version_minor": 0
      },
      "text/plain": [
       "Training:   0%|          | 0/46 [00:00<?, ?it/s]"
      ]
     },
     "metadata": {},
     "output_type": "display_data"
    },
    {
     "name": "stdout",
     "output_type": "stream",
     "text": [
      "Training Loss: 2.1972. Validation Loss: 3.1475.\n",
      "Training Accuracy: 0.3838. Validation Accuracy: 0.1275.\n",
      "-----------------------------------\n",
      "Epoch 12\n",
      "-----------------------------------\n"
     ]
    },
    {
     "data": {
      "application/vnd.jupyter.widget-view+json": {
       "model_id": "214b14d7056d4d02919a1c77d067d9d1",
       "version_major": 2,
       "version_minor": 0
      },
      "text/plain": [
       "Training:   0%|          | 0/46 [00:00<?, ?it/s]"
      ]
     },
     "metadata": {},
     "output_type": "display_data"
    },
    {
     "name": "stdout",
     "output_type": "stream",
     "text": [
      "Training Loss: 3.5155. Validation Loss: 3.4299.\n",
      "Training Accuracy: 0.0687. Validation Accuracy: 0.0948.\n",
      "-----------------------------------\n",
      "Epoch 2\n",
      "-----------------------------------\n"
     ]
    },
    {
     "data": {
      "application/vnd.jupyter.widget-view+json": {
       "model_id": "03fce08a649040eca11168b87d2d6353",
       "version_major": 2,
       "version_minor": 0
      },
      "text/plain": [
       "Training:   0%|          | 0/46 [00:00<?, ?it/s]"
      ]
     },
     "metadata": {},
     "output_type": "display_data"
    },
    {
     "name": "stdout",
     "output_type": "stream",
     "text": [
      "Training Loss: 2.1479. Validation Loss: 3.2182.\n",
      "Training Accuracy: 0.3960. Validation Accuracy: 0.1078.\n",
      "-----------------------------------\n",
      "Epoch 13\n",
      "-----------------------------------\n"
     ]
    },
    {
     "data": {
      "application/vnd.jupyter.widget-view+json": {
       "model_id": "c74a96eb98634866a3d01678594263d2",
       "version_major": 2,
       "version_minor": 0
      },
      "text/plain": [
       "Training:   0%|          | 0/46 [00:00<?, ?it/s]"
      ]
     },
     "metadata": {},
     "output_type": "display_data"
    },
    {
     "name": "stdout",
     "output_type": "stream",
     "text": [
      "Training Loss: 3.3231. Validation Loss: 3.4752.\n",
      "Training Accuracy: 0.1088. Validation Accuracy: 0.0556.\n",
      "-----------------------------------\n",
      "Epoch 3\n",
      "-----------------------------------\n"
     ]
    },
    {
     "data": {
      "application/vnd.jupyter.widget-view+json": {
       "model_id": "90670bc99f28469fa3baf1dc72901189",
       "version_major": 2,
       "version_minor": 0
      },
      "text/plain": [
       "Training:   0%|          | 0/46 [00:00<?, ?it/s]"
      ]
     },
     "metadata": {},
     "output_type": "display_data"
    },
    {
     "name": "stdout",
     "output_type": "stream",
     "text": [
      "Training Loss: 2.0874. Validation Loss: 3.1207.\n",
      "Training Accuracy: 0.4019. Validation Accuracy: 0.1765.\n",
      "-----------------------------------\n",
      "Epoch 14\n",
      "-----------------------------------\n"
     ]
    },
    {
     "data": {
      "application/vnd.jupyter.widget-view+json": {
       "model_id": "443a4490684d4f19a6ac2aa52fc3690a",
       "version_major": 2,
       "version_minor": 0
      },
      "text/plain": [
       "Training:   0%|          | 0/46 [00:00<?, ?it/s]"
      ]
     },
     "metadata": {},
     "output_type": "display_data"
    },
    {
     "name": "stdout",
     "output_type": "stream",
     "text": [
      "Training Loss: 2.0417. Validation Loss: 3.1141.\n",
      "Training Accuracy: 0.4131. Validation Accuracy: 0.1569.\n",
      "-----------------------------------\n",
      "Epoch 15\n",
      "-----------------------------------\n"
     ]
    },
    {
     "data": {
      "application/vnd.jupyter.widget-view+json": {
       "model_id": "24edafb58ee34b73b50516b956397d01",
       "version_major": 2,
       "version_minor": 0
      },
      "text/plain": [
       "Training:   0%|          | 0/46 [00:00<?, ?it/s]"
      ]
     },
     "metadata": {},
     "output_type": "display_data"
    },
    {
     "name": "stdout",
     "output_type": "stream",
     "text": [
      "Training Loss: 3.2064. Validation Loss: 3.3909.\n",
      "Training Accuracy: 0.1670. Validation Accuracy: 0.0980.\n",
      "-----------------------------------\n",
      "Epoch 4\n",
      "-----------------------------------\n"
     ]
    },
    {
     "data": {
      "application/vnd.jupyter.widget-view+json": {
       "model_id": "b07ea6f4e465419e886506787e9fd4ca",
       "version_major": 2,
       "version_minor": 0
      },
      "text/plain": [
       "Training:   0%|          | 0/46 [00:00<?, ?it/s]"
      ]
     },
     "metadata": {},
     "output_type": "display_data"
    },
    {
     "name": "stdout",
     "output_type": "stream",
     "text": [
      "Training Loss: 2.0312. Validation Loss: 3.3571.\n",
      "Training Accuracy: 0.4215. Validation Accuracy: 0.0523.\n",
      "-----------------------------------\n",
      "Epoch 16\n",
      "-----------------------------------\n"
     ]
    },
    {
     "data": {
      "application/vnd.jupyter.widget-view+json": {
       "model_id": "68eb5ec88f7f428cb42b3ec6c8d3d46a",
       "version_major": 2,
       "version_minor": 0
      },
      "text/plain": [
       "Training:   0%|          | 0/46 [00:00<?, ?it/s]"
      ]
     },
     "metadata": {},
     "output_type": "display_data"
    },
    {
     "name": "stdout",
     "output_type": "stream",
     "text": [
      "Training Loss: 1.9511. Validation Loss: 3.1821.\n",
      "Training Accuracy: 0.4325. Validation Accuracy: 0.0850.\n",
      "-----------------------------------\n",
      "Epoch 17\n",
      "-----------------------------------\n"
     ]
    },
    {
     "data": {
      "application/vnd.jupyter.widget-view+json": {
       "model_id": "d9297d76227c4cb2bab2c08879f5fa8a",
       "version_major": 2,
       "version_minor": 0
      },
      "text/plain": [
       "Training:   0%|          | 0/46 [00:00<?, ?it/s]"
      ]
     },
     "metadata": {},
     "output_type": "display_data"
    },
    {
     "name": "stdout",
     "output_type": "stream",
     "text": [
      "Training Loss: 2.9642. Validation Loss: 3.3460.\n",
      "Training Accuracy: 0.2331. Validation Accuracy: 0.1176.\n",
      "-----------------------------------\n",
      "Epoch 5\n",
      "-----------------------------------\n"
     ]
    },
    {
     "data": {
      "application/vnd.jupyter.widget-view+json": {
       "model_id": "bea92dd8f5d14c5399f9cd3c4edd2214",
       "version_major": 2,
       "version_minor": 0
      },
      "text/plain": [
       "Training:   0%|          | 0/46 [00:00<?, ?it/s]"
      ]
     },
     "metadata": {},
     "output_type": "display_data"
    },
    {
     "name": "stdout",
     "output_type": "stream",
     "text": [
      "Training Loss: 1.9472. Validation Loss: 3.2177.\n",
      "Training Accuracy: 0.4198. Validation Accuracy: 0.1569.\n",
      "-----------------------------------\n",
      "Epoch 18\n",
      "-----------------------------------\n"
     ]
    },
    {
     "data": {
      "application/vnd.jupyter.widget-view+json": {
       "model_id": "885d644532cc4ad78497cf042d02138e",
       "version_major": 2,
       "version_minor": 0
      },
      "text/plain": [
       "Training:   0%|          | 0/46 [00:00<?, ?it/s]"
      ]
     },
     "metadata": {},
     "output_type": "display_data"
    },
    {
     "name": "stdout",
     "output_type": "stream",
     "text": [
      "Training Loss: 1.8740. Validation Loss: 3.2376.\n",
      "Training Accuracy: 0.4451. Validation Accuracy: 0.1013.\n",
      "-----------------------------------\n",
      "Epoch 19\n",
      "-----------------------------------\n"
     ]
    },
    {
     "data": {
      "application/vnd.jupyter.widget-view+json": {
       "model_id": "350fb7a70238452b83141041e49c0bca",
       "version_major": 2,
       "version_minor": 0
      },
      "text/plain": [
       "Training:   0%|          | 0/46 [00:00<?, ?it/s]"
      ]
     },
     "metadata": {},
     "output_type": "display_data"
    },
    {
     "name": "stdout",
     "output_type": "stream",
     "text": [
      "Training Loss: 2.8001. Validation Loss: 3.3788.\n",
      "Training Accuracy: 0.2641. Validation Accuracy: 0.0915.\n",
      "-----------------------------------\n",
      "Epoch 6\n",
      "-----------------------------------\n"
     ]
    },
    {
     "data": {
      "application/vnd.jupyter.widget-view+json": {
       "model_id": "38bb8bb45d234a44a74f5ba179e65e02",
       "version_major": 2,
       "version_minor": 0
      },
      "text/plain": [
       "Training:   0%|          | 0/46 [00:00<?, ?it/s]"
      ]
     },
     "metadata": {},
     "output_type": "display_data"
    },
    {
     "name": "stderr",
     "output_type": "stream",
     "text": [
      "[I 2024-12-09 00:52:07,968] Trial 23 finished with value: 952.9023404121399 and parameters: {'kernel_size': 4096, 'stride': 512, 'fourier_size': 2048, 'enc_hidden': 64, 'dec_hidden': 256, 'lr': 0.001, 'step_size': 10, 'gamma': 0.01}. Best is trial 23 with value: 952.9023404121399.\n"
     ]
    },
    {
     "name": "stdout",
     "output_type": "stream",
     "text": [
      "Training Loss: 1.8381. Validation Loss: 3.2635.\n",
      "Training Accuracy: 0.4597. Validation Accuracy: 0.0359.\n",
      "EARLY STOP E:19 L:3.2635\n",
      "-----------------------------------\n",
      "Epoch 1\n",
      "-----------------------------------\n"
     ]
    },
    {
     "data": {
      "application/vnd.jupyter.widget-view+json": {
       "model_id": "0c95d4386ced48d19ce318e06857ead2",
       "version_major": 2,
       "version_minor": 0
      },
      "text/plain": [
       "Training:   0%|          | 0/46 [00:00<?, ?it/s]"
      ]
     },
     "metadata": {},
     "output_type": "display_data"
    },
    {
     "name": "stdout",
     "output_type": "stream",
     "text": [
      "Training Loss: 3.5290. Validation Loss: 3.4357.\n",
      "Training Accuracy: 0.0721. Validation Accuracy: 0.0556.\n",
      "-----------------------------------\n",
      "Epoch 2\n",
      "-----------------------------------\n"
     ]
    },
    {
     "data": {
      "application/vnd.jupyter.widget-view+json": {
       "model_id": "64c33a21b81d4ebfb957b0658f41e300",
       "version_major": 2,
       "version_minor": 0
      },
      "text/plain": [
       "Training:   0%|          | 0/46 [00:00<?, ?it/s]"
      ]
     },
     "metadata": {},
     "output_type": "display_data"
    },
    {
     "name": "stdout",
     "output_type": "stream",
     "text": [
      "Training Loss: 2.6528. Validation Loss: 3.3734.\n",
      "Training Accuracy: 0.2865. Validation Accuracy: 0.0817.\n",
      "-----------------------------------\n",
      "Epoch 7\n",
      "-----------------------------------\n"
     ]
    },
    {
     "data": {
      "application/vnd.jupyter.widget-view+json": {
       "model_id": "af54750c8c6d40f2bd54f4cfb7ad5d3b",
       "version_major": 2,
       "version_minor": 0
      },
      "text/plain": [
       "Training:   0%|          | 0/46 [00:00<?, ?it/s]"
      ]
     },
     "metadata": {},
     "output_type": "display_data"
    },
    {
     "name": "stdout",
     "output_type": "stream",
     "text": [
      "Training Loss: 3.3408. Validation Loss: 3.4425.\n",
      "Training Accuracy: 0.0999. Validation Accuracy: 0.0588.\n",
      "-----------------------------------\n",
      "Epoch 3\n",
      "-----------------------------------\n"
     ]
    },
    {
     "data": {
      "application/vnd.jupyter.widget-view+json": {
       "model_id": "232da07ef2564aae9956a624c00f46a9",
       "version_major": 2,
       "version_minor": 0
      },
      "text/plain": [
       "Training:   0%|          | 0/46 [00:00<?, ?it/s]"
      ]
     },
     "metadata": {},
     "output_type": "display_data"
    },
    {
     "name": "stdout",
     "output_type": "stream",
     "text": [
      "Training Loss: 3.2500. Validation Loss: 3.4113.\n",
      "Training Accuracy: 0.1488. Validation Accuracy: 0.0654.\n",
      "-----------------------------------\n",
      "Epoch 4\n",
      "-----------------------------------\n"
     ]
    },
    {
     "data": {
      "application/vnd.jupyter.widget-view+json": {
       "model_id": "39ebe03198fb4c77b5a809d3f1a3d447",
       "version_major": 2,
       "version_minor": 0
      },
      "text/plain": [
       "Training:   0%|          | 0/46 [00:00<?, ?it/s]"
      ]
     },
     "metadata": {},
     "output_type": "display_data"
    },
    {
     "name": "stdout",
     "output_type": "stream",
     "text": [
      "Training Loss: 2.5270. Validation Loss: 3.4302.\n",
      "Training Accuracy: 0.3147. Validation Accuracy: 0.0882.\n",
      "-----------------------------------\n",
      "Epoch 8\n",
      "-----------------------------------\n"
     ]
    },
    {
     "data": {
      "application/vnd.jupyter.widget-view+json": {
       "model_id": "645c432d74c844fb935d319fe728c23a",
       "version_major": 2,
       "version_minor": 0
      },
      "text/plain": [
       "Training:   0%|          | 0/46 [00:00<?, ?it/s]"
      ]
     },
     "metadata": {},
     "output_type": "display_data"
    },
    {
     "name": "stdout",
     "output_type": "stream",
     "text": [
      "Training Loss: 3.0375. Validation Loss: 3.4130.\n",
      "Training Accuracy: 0.2392. Validation Accuracy: 0.1307.\n",
      "-----------------------------------\n",
      "Epoch 5\n",
      "-----------------------------------\n"
     ]
    },
    {
     "data": {
      "application/vnd.jupyter.widget-view+json": {
       "model_id": "03f09b3fc1c443089e5cb0fa12c22464",
       "version_major": 2,
       "version_minor": 0
      },
      "text/plain": [
       "Training:   0%|          | 0/46 [00:00<?, ?it/s]"
      ]
     },
     "metadata": {},
     "output_type": "display_data"
    },
    {
     "name": "stdout",
     "output_type": "stream",
     "text": [
      "Training Loss: 2.8399. Validation Loss: 3.3883.\n",
      "Training Accuracy: 0.2646. Validation Accuracy: 0.1144.\n",
      "-----------------------------------\n",
      "Epoch 6\n",
      "-----------------------------------\n"
     ]
    },
    {
     "data": {
      "application/vnd.jupyter.widget-view+json": {
       "model_id": "acf46516ae2e4b5e94a6012bb4afda4f",
       "version_major": 2,
       "version_minor": 0
      },
      "text/plain": [
       "Training:   0%|          | 0/46 [00:00<?, ?it/s]"
      ]
     },
     "metadata": {},
     "output_type": "display_data"
    },
    {
     "name": "stdout",
     "output_type": "stream",
     "text": [
      "Training Loss: 2.4237. Validation Loss: 3.4801.\n",
      "Training Accuracy: 0.3290. Validation Accuracy: 0.0784.\n",
      "-----------------------------------\n",
      "Epoch 9\n",
      "-----------------------------------\n"
     ]
    },
    {
     "data": {
      "application/vnd.jupyter.widget-view+json": {
       "model_id": "0bed12c7904d4ce39afb358615e06ad0",
       "version_major": 2,
       "version_minor": 0
      },
      "text/plain": [
       "Training:   0%|          | 0/46 [00:00<?, ?it/s]"
      ]
     },
     "metadata": {},
     "output_type": "display_data"
    },
    {
     "name": "stdout",
     "output_type": "stream",
     "text": [
      "Training Loss: 2.6347. Validation Loss: 3.3167.\n",
      "Training Accuracy: 0.3149. Validation Accuracy: 0.0490.\n",
      "-----------------------------------\n",
      "Epoch 7\n",
      "-----------------------------------\n"
     ]
    },
    {
     "data": {
      "application/vnd.jupyter.widget-view+json": {
       "model_id": "c8c91f4c21c046fc830195bcefb2efa5",
       "version_major": 2,
       "version_minor": 0
      },
      "text/plain": [
       "Training:   0%|          | 0/46 [00:00<?, ?it/s]"
      ]
     },
     "metadata": {},
     "output_type": "display_data"
    },
    {
     "name": "stdout",
     "output_type": "stream",
     "text": [
      "Training Loss: 2.5039. Validation Loss: 3.3076.\n",
      "Training Accuracy: 0.3277. Validation Accuracy: 0.1176.\n",
      "-----------------------------------\n",
      "Epoch 8\n",
      "-----------------------------------\n"
     ]
    },
    {
     "data": {
      "application/vnd.jupyter.widget-view+json": {
       "model_id": "e77b3cc53cc8453d82f2ec103f23b5d0",
       "version_major": 2,
       "version_minor": 0
      },
      "text/plain": [
       "Training:   0%|          | 0/46 [00:00<?, ?it/s]"
      ]
     },
     "metadata": {},
     "output_type": "display_data"
    },
    {
     "name": "stderr",
     "output_type": "stream",
     "text": [
      "[I 2024-12-09 00:54:23,462] Trial 24 finished with value: 1023.8728895187378 and parameters: {'kernel_size': 8192, 'stride': 512, 'fourier_size': 2048, 'enc_hidden': 256, 'dec_hidden': 256, 'lr': 0.001, 'step_size': 10, 'gamma': 0.01}. Best is trial 23 with value: 952.9023404121399.\n"
     ]
    },
    {
     "name": "stdout",
     "output_type": "stream",
     "text": [
      "Training Loss: 2.3199. Validation Loss: 3.5482.\n",
      "Training Accuracy: 0.3593. Validation Accuracy: 0.0556.\n",
      "EARLY STOP E:9 L:3.5482\n",
      "-----------------------------------\n",
      "Epoch 1\n",
      "-----------------------------------\n"
     ]
    },
    {
     "data": {
      "application/vnd.jupyter.widget-view+json": {
       "model_id": "213077d163954c06bc50b9efe16a8a65",
       "version_major": 2,
       "version_minor": 0
      },
      "text/plain": [
       "Training:   0%|          | 0/46 [00:00<?, ?it/s]"
      ]
     },
     "metadata": {},
     "output_type": "display_data"
    },
    {
     "name": "stdout",
     "output_type": "stream",
     "text": [
      "Training Loss: 2.3982. Validation Loss: 3.3404.\n",
      "Training Accuracy: 0.3490. Validation Accuracy: 0.0817.\n",
      "-----------------------------------\n",
      "Epoch 9\n",
      "-----------------------------------\n"
     ]
    },
    {
     "data": {
      "application/vnd.jupyter.widget-view+json": {
       "model_id": "a090928acbee4da8b3496170ae7dcc3c",
       "version_major": 2,
       "version_minor": 0
      },
      "text/plain": [
       "Training:   0%|          | 0/46 [00:00<?, ?it/s]"
      ]
     },
     "metadata": {},
     "output_type": "display_data"
    },
    {
     "name": "stdout",
     "output_type": "stream",
     "text": [
      "Training Loss: 3.5353. Validation Loss: 3.4492.\n",
      "Training Accuracy: 0.0725. Validation Accuracy: 0.0490.\n",
      "-----------------------------------\n",
      "Epoch 2\n",
      "-----------------------------------\n"
     ]
    },
    {
     "data": {
      "application/vnd.jupyter.widget-view+json": {
       "model_id": "7ecfa4d67f574e808206fb2165d26ee0",
       "version_major": 2,
       "version_minor": 0
      },
      "text/plain": [
       "Training:   0%|          | 0/46 [00:00<?, ?it/s]"
      ]
     },
     "metadata": {},
     "output_type": "display_data"
    },
    {
     "name": "stdout",
     "output_type": "stream",
     "text": [
      "Training Loss: 2.3020. Validation Loss: 3.3364.\n",
      "Training Accuracy: 0.3543. Validation Accuracy: 0.1667.\n",
      "-----------------------------------\n",
      "Epoch 10\n",
      "-----------------------------------\n"
     ]
    },
    {
     "data": {
      "application/vnd.jupyter.widget-view+json": {
       "model_id": "7c2e90d0c8f54ec2bd52d72affcf3938",
       "version_major": 2,
       "version_minor": 0
      },
      "text/plain": [
       "Training:   0%|          | 0/46 [00:00<?, ?it/s]"
      ]
     },
     "metadata": {},
     "output_type": "display_data"
    },
    {
     "name": "stdout",
     "output_type": "stream",
     "text": [
      "Training Loss: 2.2025. Validation Loss: 3.3307.\n",
      "Training Accuracy: 0.3796. Validation Accuracy: 0.0425.\n",
      "-----------------------------------\n",
      "Epoch 11\n",
      "-----------------------------------\n"
     ]
    },
    {
     "data": {
      "application/vnd.jupyter.widget-view+json": {
       "model_id": "41bf986c3d6f4ab6b1f459f1f3f47934",
       "version_major": 2,
       "version_minor": 0
      },
      "text/plain": [
       "Training:   0%|          | 0/46 [00:00<?, ?it/s]"
      ]
     },
     "metadata": {},
     "output_type": "display_data"
    },
    {
     "name": "stdout",
     "output_type": "stream",
     "text": [
      "Training Loss: 3.3693. Validation Loss: 3.4361.\n",
      "Training Accuracy: 0.0897. Validation Accuracy: 0.0490.\n",
      "-----------------------------------\n",
      "Epoch 3\n",
      "-----------------------------------\n"
     ]
    },
    {
     "data": {
      "application/vnd.jupyter.widget-view+json": {
       "model_id": "39b63a85380143029d20b031143c6f18",
       "version_major": 2,
       "version_minor": 0
      },
      "text/plain": [
       "Training:   0%|          | 0/46 [00:00<?, ?it/s]"
      ]
     },
     "metadata": {},
     "output_type": "display_data"
    },
    {
     "name": "stdout",
     "output_type": "stream",
     "text": [
      "Training Loss: 2.1069. Validation Loss: 3.5020.\n",
      "Training Accuracy: 0.4025. Validation Accuracy: 0.1078.\n",
      "-----------------------------------\n",
      "Epoch 12\n",
      "-----------------------------------\n"
     ]
    },
    {
     "data": {
      "application/vnd.jupyter.widget-view+json": {
       "model_id": "d6042c703bb14b788be06faaa5acc614",
       "version_major": 2,
       "version_minor": 0
      },
      "text/plain": [
       "Training:   0%|          | 0/46 [00:00<?, ?it/s]"
      ]
     },
     "metadata": {},
     "output_type": "display_data"
    },
    {
     "name": "stderr",
     "output_type": "stream",
     "text": [
      "[I 2024-12-09 00:55:54,020] Trial 25 finished with value: 1012.1105046272278 and parameters: {'kernel_size': 4096, 'stride': 512, 'fourier_size': 2048, 'enc_hidden': 64, 'dec_hidden': 256, 'lr': 0.001, 'step_size': 10, 'gamma': 0.01}. Best is trial 23 with value: 952.9023404121399.\n"
     ]
    },
    {
     "name": "stdout",
     "output_type": "stream",
     "text": [
      "Training Loss: 2.0684. Validation Loss: 3.3448.\n",
      "Training Accuracy: 0.4089. Validation Accuracy: 0.0458.\n",
      "EARLY STOP E:12 L:3.3448\n",
      "-----------------------------------\n",
      "Epoch 1\n",
      "-----------------------------------\n"
     ]
    },
    {
     "data": {
      "application/vnd.jupyter.widget-view+json": {
       "model_id": "6bcce56454994140a8734578e5a53a86",
       "version_major": 2,
       "version_minor": 0
      },
      "text/plain": [
       "Training:   0%|          | 0/46 [00:00<?, ?it/s]"
      ]
     },
     "metadata": {},
     "output_type": "display_data"
    },
    {
     "name": "stdout",
     "output_type": "stream",
     "text": [
      "Training Loss: 3.3667. Validation Loss: 3.4376.\n",
      "Training Accuracy: 0.0854. Validation Accuracy: 0.0490.\n",
      "-----------------------------------\n",
      "Epoch 4\n",
      "-----------------------------------\n"
     ]
    },
    {
     "data": {
      "application/vnd.jupyter.widget-view+json": {
       "model_id": "038caee719b94b7bbd850ef54863ee09",
       "version_major": 2,
       "version_minor": 0
      },
      "text/plain": [
       "Training:   0%|          | 0/46 [00:00<?, ?it/s]"
      ]
     },
     "metadata": {},
     "output_type": "display_data"
    },
    {
     "name": "stdout",
     "output_type": "stream",
     "text": [
      "Training Loss: 3.5231. Validation Loss: 3.4459.\n",
      "Training Accuracy: 0.0579. Validation Accuracy: 0.0523.\n",
      "-----------------------------------\n",
      "Epoch 2\n",
      "-----------------------------------\n"
     ]
    },
    {
     "data": {
      "application/vnd.jupyter.widget-view+json": {
       "model_id": "51869993c6fd4b2fac2d904b049f52cd",
       "version_major": 2,
       "version_minor": 0
      },
      "text/plain": [
       "Training:   0%|          | 0/46 [00:00<?, ?it/s]"
      ]
     },
     "metadata": {},
     "output_type": "display_data"
    },
    {
     "name": "stdout",
     "output_type": "stream",
     "text": [
      "Training Loss: 3.3537. Validation Loss: 3.4982.\n",
      "Training Accuracy: 0.0842. Validation Accuracy: 0.0327.\n",
      "-----------------------------------\n",
      "Epoch 5\n",
      "-----------------------------------\n"
     ]
    },
    {
     "data": {
      "application/vnd.jupyter.widget-view+json": {
       "model_id": "c28f673cb0a84f6cbd5671a166b024c1",
       "version_major": 2,
       "version_minor": 0
      },
      "text/plain": [
       "Training:   0%|          | 0/46 [00:00<?, ?it/s]"
      ]
     },
     "metadata": {},
     "output_type": "display_data"
    },
    {
     "name": "stderr",
     "output_type": "stream",
     "text": [
      "[I 2024-12-09 00:56:29,136] Trial 27 pruned. \n"
     ]
    },
    {
     "name": "stdout",
     "output_type": "stream",
     "text": [
      "Training Loss: 3.3762. Validation Loss: 3.4494.\n",
      "Training Accuracy: 0.0828. Validation Accuracy: 0.0490.\n",
      "OPTUNA PRUNED E:2 L:3.4494\n",
      "-----------------------------------\n",
      "Epoch 1\n",
      "-----------------------------------\n"
     ]
    },
    {
     "data": {
      "application/vnd.jupyter.widget-view+json": {
       "model_id": "5a001304f498415b85b6fbaaba515f28",
       "version_major": 2,
       "version_minor": 0
      },
      "text/plain": [
       "Training:   0%|          | 0/46 [00:00<?, ?it/s]"
      ]
     },
     "metadata": {},
     "output_type": "display_data"
    },
    {
     "name": "stderr",
     "output_type": "stream",
     "text": [
      "[I 2024-12-09 00:57:08,651] Trial 26 pruned. \n"
     ]
    },
    {
     "name": "stdout",
     "output_type": "stream",
     "text": [
      "Training Loss: 3.3378. Validation Loss: 3.4510.\n",
      "Training Accuracy: 0.0899. Validation Accuracy: 0.0556.\n",
      "OPTUNA PRUNED E:5 L:3.4510\n",
      "Training Loss: 3.5089. Validation Loss: 3.4118.\n",
      "Training Accuracy: 0.0702. Validation Accuracy: 0.0490.\n",
      "-----------------------------------\n",
      "Epoch 2\n",
      "-----------------------------------\n"
     ]
    },
    {
     "data": {
      "application/vnd.jupyter.widget-view+json": {
       "model_id": "459aedc13a31493f9dd83d1abf580770",
       "version_major": 2,
       "version_minor": 0
      },
      "text/plain": [
       "Training:   0%|          | 0/46 [00:00<?, ?it/s]"
      ]
     },
     "metadata": {},
     "output_type": "display_data"
    },
    {
     "name": "stdout",
     "output_type": "stream",
     "text": [
      "-----------------------------------\n",
      "Epoch 1\n",
      "-----------------------------------\n"
     ]
    },
    {
     "data": {
      "application/vnd.jupyter.widget-view+json": {
       "model_id": "39ce84c8558346be95837ac92e52d7fb",
       "version_major": 2,
       "version_minor": 0
      },
      "text/plain": [
       "Training:   0%|          | 0/46 [00:00<?, ?it/s]"
      ]
     },
     "metadata": {},
     "output_type": "display_data"
    },
    {
     "name": "stdout",
     "output_type": "stream",
     "text": [
      "Training Loss: 3.3454. Validation Loss: 3.4203.\n",
      "Training Accuracy: 0.0868. Validation Accuracy: 0.0784.\n",
      "-----------------------------------\n",
      "Epoch 3\n",
      "-----------------------------------\n"
     ]
    },
    {
     "data": {
      "application/vnd.jupyter.widget-view+json": {
       "model_id": "c1d5d62be87a41c8979722f28c46e29f",
       "version_major": 2,
       "version_minor": 0
      },
      "text/plain": [
       "Training:   0%|          | 0/46 [00:00<?, ?it/s]"
      ]
     },
     "metadata": {},
     "output_type": "display_data"
    },
    {
     "name": "stdout",
     "output_type": "stream",
     "text": [
      "Training Loss: 3.5199. Validation Loss: 3.4391.\n",
      "Training Accuracy: 0.0685. Validation Accuracy: 0.0490.\n",
      "-----------------------------------\n",
      "Epoch 2\n",
      "-----------------------------------\n"
     ]
    },
    {
     "data": {
      "application/vnd.jupyter.widget-view+json": {
       "model_id": "9304dc8a5b834a2791bcfc0d98762fba",
       "version_major": 2,
       "version_minor": 0
      },
      "text/plain": [
       "Training:   0%|          | 0/46 [00:00<?, ?it/s]"
      ]
     },
     "metadata": {},
     "output_type": "display_data"
    },
    {
     "name": "stdout",
     "output_type": "stream",
     "text": [
      "Training Loss: 3.2149. Validation Loss: 3.3541.\n",
      "Training Accuracy: 0.1646. Validation Accuracy: 0.0784.\n",
      "-----------------------------------\n",
      "Epoch 4\n",
      "-----------------------------------\n"
     ]
    },
    {
     "data": {
      "application/vnd.jupyter.widget-view+json": {
       "model_id": "738424a0da844ddc8d0fae1887c8a5ec",
       "version_major": 2,
       "version_minor": 0
      },
      "text/plain": [
       "Training:   0%|          | 0/46 [00:00<?, ?it/s]"
      ]
     },
     "metadata": {},
     "output_type": "display_data"
    },
    {
     "name": "stdout",
     "output_type": "stream",
     "text": [
      "Training Loss: 3.0072. Validation Loss: 3.3448.\n",
      "Training Accuracy: 0.2424. Validation Accuracy: 0.0654.\n",
      "-----------------------------------\n",
      "Epoch 5\n",
      "-----------------------------------\n"
     ]
    },
    {
     "data": {
      "application/vnd.jupyter.widget-view+json": {
       "model_id": "d3c3a4c2d82e45bcbabb9264914e1ee3",
       "version_major": 2,
       "version_minor": 0
      },
      "text/plain": [
       "Training:   0%|          | 0/46 [00:00<?, ?it/s]"
      ]
     },
     "metadata": {},
     "output_type": "display_data"
    },
    {
     "name": "stdout",
     "output_type": "stream",
     "text": [
      "Training Loss: 3.3495. Validation Loss: 3.4270.\n",
      "Training Accuracy: 0.0921. Validation Accuracy: 0.0556.\n",
      "-----------------------------------\n",
      "Epoch 3\n",
      "-----------------------------------\n"
     ]
    },
    {
     "data": {
      "application/vnd.jupyter.widget-view+json": {
       "model_id": "69ba1d8090aa4e8dbc5a2c7c62624695",
       "version_major": 2,
       "version_minor": 0
      },
      "text/plain": [
       "Training:   0%|          | 0/46 [00:00<?, ?it/s]"
      ]
     },
     "metadata": {},
     "output_type": "display_data"
    },
    {
     "name": "stdout",
     "output_type": "stream",
     "text": [
      "Training Loss: 2.7414. Validation Loss: 3.2650.\n",
      "Training Accuracy: 0.3142. Validation Accuracy: 0.0817.\n",
      "-----------------------------------\n",
      "Epoch 6\n",
      "-----------------------------------\n"
     ]
    },
    {
     "data": {
      "application/vnd.jupyter.widget-view+json": {
       "model_id": "e518373f33774509a224e0a89630e1f5",
       "version_major": 2,
       "version_minor": 0
      },
      "text/plain": [
       "Training:   0%|          | 0/46 [00:00<?, ?it/s]"
      ]
     },
     "metadata": {},
     "output_type": "display_data"
    },
    {
     "name": "stdout",
     "output_type": "stream",
     "text": [
      "Training Loss: 2.5422. Validation Loss: 3.1659.\n",
      "Training Accuracy: 0.3338. Validation Accuracy: 0.1275.\n",
      "-----------------------------------\n",
      "Epoch 7\n",
      "-----------------------------------\n"
     ]
    },
    {
     "data": {
      "application/vnd.jupyter.widget-view+json": {
       "model_id": "81380dfcc2c14f6ca0c1cabffac49286",
       "version_major": 2,
       "version_minor": 0
      },
      "text/plain": [
       "Training:   0%|          | 0/46 [00:00<?, ?it/s]"
      ]
     },
     "metadata": {},
     "output_type": "display_data"
    },
    {
     "name": "stdout",
     "output_type": "stream",
     "text": [
      "Training Loss: 3.2382. Validation Loss: 3.5008.\n",
      "Training Accuracy: 0.1556. Validation Accuracy: 0.0425.\n",
      "-----------------------------------\n",
      "Epoch 4\n",
      "-----------------------------------\n"
     ]
    },
    {
     "data": {
      "application/vnd.jupyter.widget-view+json": {
       "model_id": "8f65ae7b1e4c4ce68c8d6fcd6bd64966",
       "version_major": 2,
       "version_minor": 0
      },
      "text/plain": [
       "Training:   0%|          | 0/46 [00:00<?, ?it/s]"
      ]
     },
     "metadata": {},
     "output_type": "display_data"
    },
    {
     "name": "stdout",
     "output_type": "stream",
     "text": [
      "Training Loss: 2.3934. Validation Loss: 3.1591.\n",
      "Training Accuracy: 0.3755. Validation Accuracy: 0.1144.\n",
      "-----------------------------------\n",
      "Epoch 8\n",
      "-----------------------------------\n"
     ]
    },
    {
     "data": {
      "application/vnd.jupyter.widget-view+json": {
       "model_id": "8492f23529e34b6882676912fe4420d0",
       "version_major": 2,
       "version_minor": 0
      },
      "text/plain": [
       "Training:   0%|          | 0/46 [00:00<?, ?it/s]"
      ]
     },
     "metadata": {},
     "output_type": "display_data"
    },
    {
     "name": "stdout",
     "output_type": "stream",
     "text": [
      "Training Loss: 2.2717. Validation Loss: 3.1376.\n",
      "Training Accuracy: 0.3869. Validation Accuracy: 0.1438.\n",
      "-----------------------------------\n",
      "Epoch 9\n",
      "-----------------------------------\n"
     ]
    },
    {
     "data": {
      "application/vnd.jupyter.widget-view+json": {
       "model_id": "3f52babcdc6149cca09aecea928d2330",
       "version_major": 2,
       "version_minor": 0
      },
      "text/plain": [
       "Training:   0%|          | 0/46 [00:00<?, ?it/s]"
      ]
     },
     "metadata": {},
     "output_type": "display_data"
    },
    {
     "name": "stdout",
     "output_type": "stream",
     "text": [
      "Training Loss: 3.0042. Validation Loss: 3.5010.\n",
      "Training Accuracy: 0.2447. Validation Accuracy: 0.0686.\n",
      "-----------------------------------\n",
      "Epoch 5\n",
      "-----------------------------------\n"
     ]
    },
    {
     "data": {
      "application/vnd.jupyter.widget-view+json": {
       "model_id": "41cfecf2b801459fa9b55abe2740d0bf",
       "version_major": 2,
       "version_minor": 0
      },
      "text/plain": [
       "Training:   0%|          | 0/46 [00:00<?, ?it/s]"
      ]
     },
     "metadata": {},
     "output_type": "display_data"
    },
    {
     "name": "stdout",
     "output_type": "stream",
     "text": [
      "Training Loss: 2.1717. Validation Loss: 3.4511.\n",
      "Training Accuracy: 0.3941. Validation Accuracy: 0.0948.\n",
      "-----------------------------------\n",
      "Epoch 10\n",
      "-----------------------------------\n"
     ]
    },
    {
     "data": {
      "application/vnd.jupyter.widget-view+json": {
       "model_id": "86d4f58d72a84cb7964ef45e249b49d6",
       "version_major": 2,
       "version_minor": 0
      },
      "text/plain": [
       "Training:   0%|          | 0/46 [00:00<?, ?it/s]"
      ]
     },
     "metadata": {},
     "output_type": "display_data"
    },
    {
     "name": "stdout",
     "output_type": "stream",
     "text": [
      "Training Loss: 2.0815. Validation Loss: 3.2668.\n",
      "Training Accuracy: 0.4075. Validation Accuracy: 0.1275.\n",
      "-----------------------------------\n",
      "Epoch 11\n",
      "-----------------------------------\n"
     ]
    },
    {
     "data": {
      "application/vnd.jupyter.widget-view+json": {
       "model_id": "67d888f6fecf43b58f8c7f97c580d800",
       "version_major": 2,
       "version_minor": 0
      },
      "text/plain": [
       "Training:   0%|          | 0/46 [00:00<?, ?it/s]"
      ]
     },
     "metadata": {},
     "output_type": "display_data"
    },
    {
     "name": "stdout",
     "output_type": "stream",
     "text": [
      "Training Loss: 2.7533. Validation Loss: 3.3852.\n",
      "Training Accuracy: 0.3018. Validation Accuracy: 0.0686.\n",
      "-----------------------------------\n",
      "Epoch 6\n",
      "-----------------------------------\n"
     ]
    },
    {
     "data": {
      "application/vnd.jupyter.widget-view+json": {
       "model_id": "f44e66db155a47eba1744ff1be587f18",
       "version_major": 2,
       "version_minor": 0
      },
      "text/plain": [
       "Training:   0%|          | 0/46 [00:00<?, ?it/s]"
      ]
     },
     "metadata": {},
     "output_type": "display_data"
    },
    {
     "name": "stdout",
     "output_type": "stream",
     "text": [
      "Training Loss: 2.0112. Validation Loss: 3.2143.\n",
      "Training Accuracy: 0.4327. Validation Accuracy: 0.0980.\n",
      "-----------------------------------\n",
      "Epoch 12\n",
      "-----------------------------------\n"
     ]
    },
    {
     "data": {
      "application/vnd.jupyter.widget-view+json": {
       "model_id": "93d92767ad2a48ae9789288182c458e6",
       "version_major": 2,
       "version_minor": 0
      },
      "text/plain": [
       "Training:   0%|          | 0/46 [00:00<?, ?it/s]"
      ]
     },
     "metadata": {},
     "output_type": "display_data"
    },
    {
     "name": "stdout",
     "output_type": "stream",
     "text": [
      "Training Loss: 1.9626. Validation Loss: 3.2656.\n",
      "Training Accuracy: 0.4375. Validation Accuracy: 0.1078.\n",
      "-----------------------------------\n",
      "Epoch 13\n",
      "-----------------------------------\n"
     ]
    },
    {
     "data": {
      "application/vnd.jupyter.widget-view+json": {
       "model_id": "a4ed6941b6f04c14bdc1ebce32a46572",
       "version_major": 2,
       "version_minor": 0
      },
      "text/plain": [
       "Training:   0%|          | 0/46 [00:00<?, ?it/s]"
      ]
     },
     "metadata": {},
     "output_type": "display_data"
    },
    {
     "name": "stdout",
     "output_type": "stream",
     "text": [
      "Training Loss: 2.5999. Validation Loss: 3.4158.\n",
      "Training Accuracy: 0.3173. Validation Accuracy: 0.1046.\n",
      "-----------------------------------\n",
      "Epoch 7\n",
      "-----------------------------------\n"
     ]
    },
    {
     "data": {
      "application/vnd.jupyter.widget-view+json": {
       "model_id": "318f695d53e9423ba7377af4a7aeb575",
       "version_major": 2,
       "version_minor": 0
      },
      "text/plain": [
       "Training:   0%|          | 0/46 [00:00<?, ?it/s]"
      ]
     },
     "metadata": {},
     "output_type": "display_data"
    },
    {
     "name": "stderr",
     "output_type": "stream",
     "text": [
      "[I 2024-12-09 01:07:03,624] Trial 28 finished with value: 960.0945081710815 and parameters: {'kernel_size': 4096, 'stride': 256, 'fourier_size': 2048, 'enc_hidden': 64, 'dec_hidden': 256, 'lr': 0.001, 'step_size': 10, 'gamma': 0.01}. Best is trial 23 with value: 952.9023404121399.\n"
     ]
    },
    {
     "name": "stdout",
     "output_type": "stream",
     "text": [
      "Training Loss: 1.8761. Validation Loss: 3.4144.\n",
      "Training Accuracy: 0.4549. Validation Accuracy: 0.0556.\n",
      "EARLY STOP E:13 L:3.4144\n",
      "-----------------------------------\n",
      "Epoch 1\n",
      "-----------------------------------\n"
     ]
    },
    {
     "data": {
      "application/vnd.jupyter.widget-view+json": {
       "model_id": "9de45033f8114a5fa333f949b185f8be",
       "version_major": 2,
       "version_minor": 0
      },
      "text/plain": [
       "Training:   0%|          | 0/46 [00:00<?, ?it/s]"
      ]
     },
     "metadata": {},
     "output_type": "display_data"
    },
    {
     "name": "stdout",
     "output_type": "stream",
     "text": [
      "Training Loss: 3.5073. Validation Loss: 3.3923.\n",
      "Training Accuracy: 0.0694. Validation Accuracy: 0.0490.\n",
      "-----------------------------------\n",
      "Epoch 2\n",
      "-----------------------------------\n"
     ]
    },
    {
     "data": {
      "application/vnd.jupyter.widget-view+json": {
       "model_id": "3628da58fa32498ca091d94b056d14ea",
       "version_major": 2,
       "version_minor": 0
      },
      "text/plain": [
       "Training:   0%|          | 0/46 [00:00<?, ?it/s]"
      ]
     },
     "metadata": {},
     "output_type": "display_data"
    },
    {
     "name": "stdout",
     "output_type": "stream",
     "text": [
      "Training Loss: 2.4447. Validation Loss: 3.4360.\n",
      "Training Accuracy: 0.3511. Validation Accuracy: 0.0588.\n",
      "-----------------------------------\n",
      "Epoch 8\n",
      "-----------------------------------\n"
     ]
    },
    {
     "data": {
      "application/vnd.jupyter.widget-view+json": {
       "model_id": "79d3a5d6e8cf401c87d20225f7b0e560",
       "version_major": 2,
       "version_minor": 0
      },
      "text/plain": [
       "Training:   0%|          | 0/46 [00:00<?, ?it/s]"
      ]
     },
     "metadata": {},
     "output_type": "display_data"
    },
    {
     "name": "stdout",
     "output_type": "stream",
     "text": [
      "Training Loss: 3.3509. Validation Loss: 3.4514.\n",
      "Training Accuracy: 0.0952. Validation Accuracy: 0.0261.\n",
      "-----------------------------------\n",
      "Epoch 3\n",
      "-----------------------------------\n"
     ]
    },
    {
     "data": {
      "application/vnd.jupyter.widget-view+json": {
       "model_id": "fc1b34de55f34aaf83dcc75672af1933",
       "version_major": 2,
       "version_minor": 0
      },
      "text/plain": [
       "Training:   0%|          | 0/46 [00:00<?, ?it/s]"
      ]
     },
     "metadata": {},
     "output_type": "display_data"
    },
    {
     "name": "stdout",
     "output_type": "stream",
     "text": [
      "Training Loss: 3.2681. Validation Loss: 3.4012.\n",
      "Training Accuracy: 0.1350. Validation Accuracy: 0.0588.\n",
      "-----------------------------------\n",
      "Epoch 4\n",
      "-----------------------------------\n"
     ]
    },
    {
     "data": {
      "application/vnd.jupyter.widget-view+json": {
       "model_id": "cd44eed1b1a04e979bf1b6b0fa87d392",
       "version_major": 2,
       "version_minor": 0
      },
      "text/plain": [
       "Training:   0%|          | 0/46 [00:00<?, ?it/s]"
      ]
     },
     "metadata": {},
     "output_type": "display_data"
    },
    {
     "name": "stdout",
     "output_type": "stream",
     "text": [
      "Training Loss: 2.3333. Validation Loss: 3.3008.\n",
      "Training Accuracy: 0.3726. Validation Accuracy: 0.1013.\n",
      "-----------------------------------\n",
      "Epoch 9\n",
      "-----------------------------------\n"
     ]
    },
    {
     "data": {
      "application/vnd.jupyter.widget-view+json": {
       "model_id": "7d709d5346884aacbcbd122ba104b8d9",
       "version_major": 2,
       "version_minor": 0
      },
      "text/plain": [
       "Training:   0%|          | 0/46 [00:00<?, ?it/s]"
      ]
     },
     "metadata": {},
     "output_type": "display_data"
    },
    {
     "name": "stdout",
     "output_type": "stream",
     "text": [
      "Training Loss: 3.1250. Validation Loss: 3.4587.\n",
      "Training Accuracy: 0.2033. Validation Accuracy: 0.0719.\n",
      "-----------------------------------\n",
      "Epoch 5\n",
      "-----------------------------------\n"
     ]
    },
    {
     "data": {
      "application/vnd.jupyter.widget-view+json": {
       "model_id": "ace3e8ba42e34ed3997e81b1c3ab734c",
       "version_major": 2,
       "version_minor": 0
      },
      "text/plain": [
       "Training:   0%|          | 0/46 [00:00<?, ?it/s]"
      ]
     },
     "metadata": {},
     "output_type": "display_data"
    },
    {
     "name": "stdout",
     "output_type": "stream",
     "text": [
      "Training Loss: 2.9099. Validation Loss: 3.3992.\n",
      "Training Accuracy: 0.2633. Validation Accuracy: 0.0719.\n",
      "-----------------------------------\n",
      "Epoch 6\n",
      "-----------------------------------\n"
     ]
    },
    {
     "data": {
      "application/vnd.jupyter.widget-view+json": {
       "model_id": "bf4b02d158c74d1e88d7220406e619d3",
       "version_major": 2,
       "version_minor": 0
      },
      "text/plain": [
       "Training:   0%|          | 0/46 [00:00<?, ?it/s]"
      ]
     },
     "metadata": {},
     "output_type": "display_data"
    },
    {
     "name": "stdout",
     "output_type": "stream",
     "text": [
      "Training Loss: 2.2201. Validation Loss: 3.3208.\n",
      "Training Accuracy: 0.3903. Validation Accuracy: 0.0588.\n",
      "-----------------------------------\n",
      "Epoch 10\n",
      "-----------------------------------\n"
     ]
    },
    {
     "data": {
      "application/vnd.jupyter.widget-view+json": {
       "model_id": "6f6b7b11db5b4c6898f12dc9b231adf2",
       "version_major": 2,
       "version_minor": 0
      },
      "text/plain": [
       "Training:   0%|          | 0/46 [00:00<?, ?it/s]"
      ]
     },
     "metadata": {},
     "output_type": "display_data"
    },
    {
     "name": "stderr",
     "output_type": "stream",
     "text": [
      "[I 2024-12-09 01:12:06,088] Trial 30 finished with value: 1038.0542907714844 and parameters: {'kernel_size': 4096, 'stride': 256, 'fourier_size': 2048, 'enc_hidden': 64, 'dec_hidden': 256, 'lr': 0.001, 'step_size': 10, 'gamma': 0.1}. Best is trial 23 with value: 952.9023404121399.\n"
     ]
    },
    {
     "name": "stdout",
     "output_type": "stream",
     "text": [
      "Training Loss: 2.6994. Validation Loss: 3.4139.\n",
      "Training Accuracy: 0.2999. Validation Accuracy: 0.0327.\n",
      "EARLY STOP E:6 L:3.4139\n",
      "-----------------------------------\n",
      "Epoch 1\n",
      "-----------------------------------\n"
     ]
    },
    {
     "data": {
      "application/vnd.jupyter.widget-view+json": {
       "model_id": "346b135dfe1647859204462b0ec39dcc",
       "version_major": 2,
       "version_minor": 0
      },
      "text/plain": [
       "Training:   0%|          | 0/46 [00:00<?, ?it/s]"
      ]
     },
     "metadata": {},
     "output_type": "display_data"
    },
    {
     "name": "stderr",
     "output_type": "stream",
     "text": [
      "[I 2024-12-09 01:12:41,619] Trial 31 pruned. \n"
     ]
    },
    {
     "name": "stdout",
     "output_type": "stream",
     "text": [
      "Training Loss: 3.5319. Validation Loss: 3.4676.\n",
      "Training Accuracy: 0.0625. Validation Accuracy: 0.0490.\n",
      "OPTUNA PRUNED E:1 L:3.4676\n",
      "-----------------------------------\n",
      "Epoch 1\n",
      "-----------------------------------\n"
     ]
    },
    {
     "data": {
      "application/vnd.jupyter.widget-view+json": {
       "model_id": "e2397a1be4a04762aab2236d176e73df",
       "version_major": 2,
       "version_minor": 0
      },
      "text/plain": [
       "Training:   0%|          | 0/46 [00:00<?, ?it/s]"
      ]
     },
     "metadata": {},
     "output_type": "display_data"
    },
    {
     "name": "stdout",
     "output_type": "stream",
     "text": [
      "Training Loss: 2.1268. Validation Loss: 3.2559.\n",
      "Training Accuracy: 0.3963. Validation Accuracy: 0.0948.\n",
      "-----------------------------------\n",
      "Epoch 11\n",
      "-----------------------------------\n"
     ]
    },
    {
     "data": {
      "application/vnd.jupyter.widget-view+json": {
       "model_id": "3959b9bf6c6e4ee4bad8e9fdc59f418e",
       "version_major": 2,
       "version_minor": 0
      },
      "text/plain": [
       "Training:   0%|          | 0/46 [00:00<?, ?it/s]"
      ]
     },
     "metadata": {},
     "output_type": "display_data"
    },
    {
     "name": "stdout",
     "output_type": "stream",
     "text": [
      "Training Loss: 3.5336. Validation Loss: 3.4294.\n",
      "Training Accuracy: 0.0587. Validation Accuracy: 0.0261.\n",
      "-----------------------------------\n",
      "Epoch 2\n",
      "-----------------------------------\n"
     ]
    },
    {
     "data": {
      "application/vnd.jupyter.widget-view+json": {
       "model_id": "f23e60b5b015485f96c2a8f8adbbc48d",
       "version_major": 2,
       "version_minor": 0
      },
      "text/plain": [
       "Training:   0%|          | 0/46 [00:00<?, ?it/s]"
      ]
     },
     "metadata": {},
     "output_type": "display_data"
    },
    {
     "name": "stdout",
     "output_type": "stream",
     "text": [
      "Training Loss: 3.3524. Validation Loss: 3.4617.\n",
      "Training Accuracy: 0.0916. Validation Accuracy: 0.0490.\n",
      "-----------------------------------\n",
      "Epoch 3\n",
      "-----------------------------------\n"
     ]
    },
    {
     "data": {
      "application/vnd.jupyter.widget-view+json": {
       "model_id": "6040d18347154246aa21e2300054dfec",
       "version_major": 2,
       "version_minor": 0
      },
      "text/plain": [
       "Training:   0%|          | 0/46 [00:00<?, ?it/s]"
      ]
     },
     "metadata": {},
     "output_type": "display_data"
    },
    {
     "name": "stdout",
     "output_type": "stream",
     "text": [
      "Training Loss: 2.0481. Validation Loss: 3.2729.\n",
      "Training Accuracy: 0.4179. Validation Accuracy: 0.0752.\n",
      "-----------------------------------\n",
      "Epoch 12\n",
      "-----------------------------------\n"
     ]
    },
    {
     "data": {
      "application/vnd.jupyter.widget-view+json": {
       "model_id": "be292dd4195d46c7a3b37639e84877de",
       "version_major": 2,
       "version_minor": 0
      },
      "text/plain": [
       "Training:   0%|          | 0/46 [00:00<?, ?it/s]"
      ]
     },
     "metadata": {},
     "output_type": "display_data"
    },
    {
     "name": "stdout",
     "output_type": "stream",
     "text": [
      "Training Loss: 3.2530. Validation Loss: 3.4850.\n",
      "Training Accuracy: 0.1477. Validation Accuracy: 0.0490.\n",
      "-----------------------------------\n",
      "Epoch 4\n",
      "-----------------------------------\n"
     ]
    },
    {
     "data": {
      "application/vnd.jupyter.widget-view+json": {
       "model_id": "01f5760f379d4e40a4033a1fdcbf03c1",
       "version_major": 2,
       "version_minor": 0
      },
      "text/plain": [
       "Training:   0%|          | 0/46 [00:00<?, ?it/s]"
      ]
     },
     "metadata": {},
     "output_type": "display_data"
    },
    {
     "name": "stdout",
     "output_type": "stream",
     "text": [
      "Training Loss: 3.0347. Validation Loss: 3.5382.\n",
      "Training Accuracy: 0.2359. Validation Accuracy: 0.0654.\n",
      "-----------------------------------\n",
      "Epoch 5\n",
      "-----------------------------------\n"
     ]
    },
    {
     "data": {
      "application/vnd.jupyter.widget-view+json": {
       "model_id": "6748866ce650403981dfe1dba5a7d60d",
       "version_major": 2,
       "version_minor": 0
      },
      "text/plain": [
       "Training:   0%|          | 0/46 [00:00<?, ?it/s]"
      ]
     },
     "metadata": {},
     "output_type": "display_data"
    },
    {
     "name": "stdout",
     "output_type": "stream",
     "text": [
      "Training Loss: 1.9991. Validation Loss: 3.1624.\n",
      "Training Accuracy: 0.4311. Validation Accuracy: 0.1144.\n",
      "-----------------------------------\n",
      "Epoch 13\n",
      "-----------------------------------\n"
     ]
    },
    {
     "data": {
      "application/vnd.jupyter.widget-view+json": {
       "model_id": "308ede2a14c049a19a61c6bb0f57b611",
       "version_major": 2,
       "version_minor": 0
      },
      "text/plain": [
       "Training:   0%|          | 0/46 [00:00<?, ?it/s]"
      ]
     },
     "metadata": {},
     "output_type": "display_data"
    },
    {
     "name": "stderr",
     "output_type": "stream",
     "text": [
      "[I 2024-12-09 01:16:57,115] Trial 32 pruned. \n"
     ]
    },
    {
     "name": "stdout",
     "output_type": "stream",
     "text": [
      "Training Loss: 2.7808. Validation Loss: 3.4358.\n",
      "Training Accuracy: 0.2967. Validation Accuracy: 0.0654.\n",
      "OPTUNA PRUNED E:5 L:3.4358\n",
      "-----------------------------------\n",
      "Epoch 1\n",
      "-----------------------------------\n"
     ]
    },
    {
     "data": {
      "application/vnd.jupyter.widget-view+json": {
       "model_id": "f1f4540b0361485c9baf981e2425a37b",
       "version_major": 2,
       "version_minor": 0
      },
      "text/plain": [
       "Training:   0%|          | 0/46 [00:00<?, ?it/s]"
      ]
     },
     "metadata": {},
     "output_type": "display_data"
    },
    {
     "name": "stderr",
     "output_type": "stream",
     "text": [
      "[I 2024-12-09 01:17:25,445] Trial 33 pruned. \n"
     ]
    },
    {
     "name": "stdout",
     "output_type": "stream",
     "text": [
      "Training Loss: 3.5256. Validation Loss: 3.4545.\n",
      "Training Accuracy: 0.0618. Validation Accuracy: 0.0294.\n",
      "OPTUNA PRUNED E:1 L:3.4545\n",
      "-----------------------------------\n",
      "Epoch 1\n",
      "-----------------------------------\n"
     ]
    },
    {
     "data": {
      "application/vnd.jupyter.widget-view+json": {
       "model_id": "daee1e5bf1b54332836ba9e53bdd9020",
       "version_major": 2,
       "version_minor": 0
      },
      "text/plain": [
       "Training:   0%|          | 0/46 [00:00<?, ?it/s]"
      ]
     },
     "metadata": {},
     "output_type": "display_data"
    },
    {
     "name": "stdout",
     "output_type": "stream",
     "text": [
      "Training Loss: 1.9966. Validation Loss: 3.2666.\n",
      "Training Accuracy: 0.4294. Validation Accuracy: 0.0882.\n",
      "-----------------------------------\n",
      "Epoch 14\n",
      "-----------------------------------\n"
     ]
    },
    {
     "data": {
      "application/vnd.jupyter.widget-view+json": {
       "model_id": "05e28c440e9c4a408384c51d00287609",
       "version_major": 2,
       "version_minor": 0
      },
      "text/plain": [
       "Training:   0%|          | 0/46 [00:00<?, ?it/s]"
      ]
     },
     "metadata": {},
     "output_type": "display_data"
    },
    {
     "name": "stderr",
     "output_type": "stream",
     "text": [
      "[I 2024-12-09 01:18:03,777] Trial 34 pruned. \n"
     ]
    },
    {
     "name": "stdout",
     "output_type": "stream",
     "text": [
      "Training Loss: 3.5232. Validation Loss: 3.4729.\n",
      "Training Accuracy: 0.0611. Validation Accuracy: 0.0556.\n",
      "OPTUNA PRUNED E:1 L:3.4729\n",
      "-----------------------------------\n",
      "Epoch 1\n",
      "-----------------------------------\n"
     ]
    },
    {
     "data": {
      "application/vnd.jupyter.widget-view+json": {
       "model_id": "b3a60c89d1bb47ff8c6e87cf4419ec7a",
       "version_major": 2,
       "version_minor": 0
      },
      "text/plain": [
       "Training:   0%|          | 0/46 [00:00<?, ?it/s]"
      ]
     },
     "metadata": {},
     "output_type": "display_data"
    },
    {
     "name": "stderr",
     "output_type": "stream",
     "text": [
      "[I 2024-12-09 01:18:39,392] Trial 35 pruned. \n"
     ]
    },
    {
     "name": "stdout",
     "output_type": "stream",
     "text": [
      "Training Loss: 3.7023. Validation Loss: 3.5204.\n",
      "Training Accuracy: 0.0420. Validation Accuracy: 0.0686.\n",
      "OPTUNA PRUNED E:1 L:3.5204\n",
      "-----------------------------------\n",
      "Epoch 1\n",
      "-----------------------------------\n"
     ]
    },
    {
     "data": {
      "application/vnd.jupyter.widget-view+json": {
       "model_id": "d7605e932f154c30b2fdfe07a93aff27",
       "version_major": 2,
       "version_minor": 0
      },
      "text/plain": [
       "Training:   0%|          | 0/46 [00:00<?, ?it/s]"
      ]
     },
     "metadata": {},
     "output_type": "display_data"
    },
    {
     "name": "stdout",
     "output_type": "stream",
     "text": [
      "Training Loss: 1.8887. Validation Loss: 3.2682.\n",
      "Training Accuracy: 0.4501. Validation Accuracy: 0.0719.\n",
      "-----------------------------------\n",
      "Epoch 15\n",
      "-----------------------------------\n"
     ]
    },
    {
     "data": {
      "application/vnd.jupyter.widget-view+json": {
       "model_id": "77886e87af7e4b4d8fd368ee5b76188c",
       "version_major": 2,
       "version_minor": 0
      },
      "text/plain": [
       "Training:   0%|          | 0/46 [00:00<?, ?it/s]"
      ]
     },
     "metadata": {},
     "output_type": "display_data"
    },
    {
     "name": "stderr",
     "output_type": "stream",
     "text": [
      "[I 2024-12-09 01:18:52,843] Trial 36 pruned. \n"
     ]
    },
    {
     "name": "stdout",
     "output_type": "stream",
     "text": [
      "Training Loss: 3.5058. Validation Loss: 3.4703.\n",
      "Training Accuracy: 0.0773. Validation Accuracy: 0.0523.\n",
      "OPTUNA PRUNED E:1 L:3.4703\n",
      "-----------------------------------\n",
      "Epoch 1\n",
      "-----------------------------------\n"
     ]
    },
    {
     "data": {
      "application/vnd.jupyter.widget-view+json": {
       "model_id": "b943f9705d77496199cc5064e255b0e9",
       "version_major": 2,
       "version_minor": 0
      },
      "text/plain": [
       "Training:   0%|          | 0/46 [00:00<?, ?it/s]"
      ]
     },
     "metadata": {},
     "output_type": "display_data"
    },
    {
     "name": "stdout",
     "output_type": "stream",
     "text": [
      "Training Loss: 3.5194. Validation Loss: 3.4301.\n",
      "Training Accuracy: 0.0642. Validation Accuracy: 0.0490.\n",
      "-----------------------------------\n",
      "Epoch 2\n",
      "-----------------------------------\n"
     ]
    },
    {
     "data": {
      "application/vnd.jupyter.widget-view+json": {
       "model_id": "7ecbf02cb4654c10b217649aed8f9882",
       "version_major": 2,
       "version_minor": 0
      },
      "text/plain": [
       "Training:   0%|          | 0/46 [00:00<?, ?it/s]"
      ]
     },
     "metadata": {},
     "output_type": "display_data"
    },
    {
     "name": "stdout",
     "output_type": "stream",
     "text": [
      "Training Loss: 3.3838. Validation Loss: 3.4443.\n",
      "Training Accuracy: 0.0758. Validation Accuracy: 0.0490.\n",
      "-----------------------------------\n",
      "Epoch 3\n",
      "-----------------------------------\n"
     ]
    },
    {
     "data": {
      "application/vnd.jupyter.widget-view+json": {
       "model_id": "4b5c38124526493abba35c14bcc6b18f",
       "version_major": 2,
       "version_minor": 0
      },
      "text/plain": [
       "Training:   0%|          | 0/46 [00:00<?, ?it/s]"
      ]
     },
     "metadata": {},
     "output_type": "display_data"
    },
    {
     "name": "stdout",
     "output_type": "stream",
     "text": [
      "Training Loss: 1.8946. Validation Loss: 3.3390.\n",
      "Training Accuracy: 0.4535. Validation Accuracy: 0.0621.\n",
      "-----------------------------------\n",
      "Epoch 16\n",
      "-----------------------------------\n"
     ]
    },
    {
     "data": {
      "application/vnd.jupyter.widget-view+json": {
       "model_id": "788a11993a284eb495ae0d140673c355",
       "version_major": 2,
       "version_minor": 0
      },
      "text/plain": [
       "Training:   0%|          | 0/46 [00:00<?, ?it/s]"
      ]
     },
     "metadata": {},
     "output_type": "display_data"
    },
    {
     "name": "stdout",
     "output_type": "stream",
     "text": [
      "Training Loss: 3.3740. Validation Loss: 3.4465.\n",
      "Training Accuracy: 0.0795. Validation Accuracy: 0.0490.\n",
      "-----------------------------------\n",
      "Epoch 4\n",
      "-----------------------------------\n"
     ]
    },
    {
     "data": {
      "application/vnd.jupyter.widget-view+json": {
       "model_id": "1851649334934beab632dd13843914a2",
       "version_major": 2,
       "version_minor": 0
      },
      "text/plain": [
       "Training:   0%|          | 0/46 [00:00<?, ?it/s]"
      ]
     },
     "metadata": {},
     "output_type": "display_data"
    },
    {
     "name": "stdout",
     "output_type": "stream",
     "text": [
      "Training Loss: 3.3684. Validation Loss: 3.4439.\n",
      "Training Accuracy: 0.0751. Validation Accuracy: 0.0490.\n",
      "-----------------------------------\n",
      "Epoch 5\n",
      "-----------------------------------\n"
     ]
    },
    {
     "data": {
      "application/vnd.jupyter.widget-view+json": {
       "model_id": "3250e01a9ebf43638b0f617eadd88335",
       "version_major": 2,
       "version_minor": 0
      },
      "text/plain": [
       "Training:   0%|          | 0/46 [00:00<?, ?it/s]"
      ]
     },
     "metadata": {},
     "output_type": "display_data"
    },
    {
     "name": "stderr",
     "output_type": "stream",
     "text": [
      "[I 2024-12-09 01:20:02,088] Trial 37 pruned. \n"
     ]
    },
    {
     "name": "stdout",
     "output_type": "stream",
     "text": [
      "Training Loss: 3.3619. Validation Loss: 3.4482.\n",
      "Training Accuracy: 0.0828. Validation Accuracy: 0.0490.\n",
      "OPTUNA PRUNED E:5 L:3.4482\n",
      "-----------------------------------\n",
      "Epoch 1\n",
      "-----------------------------------\n"
     ]
    },
    {
     "data": {
      "application/vnd.jupyter.widget-view+json": {
       "model_id": "80042924f5bc478cb3c20c9e501acb4e",
       "version_major": 2,
       "version_minor": 0
      },
      "text/plain": [
       "Training:   0%|          | 0/46 [00:00<?, ?it/s]"
      ]
     },
     "metadata": {},
     "output_type": "display_data"
    },
    {
     "name": "stdout",
     "output_type": "stream",
     "text": [
      "Training Loss: 1.8397. Validation Loss: 3.3891.\n",
      "Training Accuracy: 0.4690. Validation Accuracy: 0.1078.\n",
      "-----------------------------------\n",
      "Epoch 17\n",
      "-----------------------------------\n"
     ]
    },
    {
     "data": {
      "application/vnd.jupyter.widget-view+json": {
       "model_id": "3064376504c74dfd9a1020bb8460f9c0",
       "version_major": 2,
       "version_minor": 0
      },
      "text/plain": [
       "Training:   0%|          | 0/46 [00:00<?, ?it/s]"
      ]
     },
     "metadata": {},
     "output_type": "display_data"
    },
    {
     "name": "stderr",
     "output_type": "stream",
     "text": [
      "[I 2024-12-09 01:20:15,869] Trial 38 pruned. \n"
     ]
    },
    {
     "name": "stdout",
     "output_type": "stream",
     "text": [
      "Training Loss: 3.7632. Validation Loss: 3.7935.\n",
      "Training Accuracy: 0.0174. Validation Accuracy: 0.0359.\n",
      "OPTUNA PRUNED E:1 L:3.7935\n",
      "-----------------------------------\n",
      "Epoch 1\n",
      "-----------------------------------\n"
     ]
    },
    {
     "data": {
      "application/vnd.jupyter.widget-view+json": {
       "model_id": "88b2ab4dfe1e45afb8af75ad1810a3bb",
       "version_major": 2,
       "version_minor": 0
      },
      "text/plain": [
       "Training:   0%|          | 0/46 [00:00<?, ?it/s]"
      ]
     },
     "metadata": {},
     "output_type": "display_data"
    },
    {
     "name": "stderr",
     "output_type": "stream",
     "text": [
      "[I 2024-12-09 01:20:47,988] Trial 39 pruned. \n"
     ]
    },
    {
     "name": "stdout",
     "output_type": "stream",
     "text": [
      "Training Loss: 3.5088. Validation Loss: 3.4893.\n",
      "Training Accuracy: 0.0665. Validation Accuracy: 0.0425.\n",
      "OPTUNA PRUNED E:1 L:3.4893\n",
      "-----------------------------------\n",
      "Epoch 1\n",
      "-----------------------------------\n"
     ]
    },
    {
     "data": {
      "application/vnd.jupyter.widget-view+json": {
       "model_id": "79923571e5fb4f2b8e599ecc2027c44f",
       "version_major": 2,
       "version_minor": 0
      },
      "text/plain": [
       "Training:   0%|          | 0/46 [00:00<?, ?it/s]"
      ]
     },
     "metadata": {},
     "output_type": "display_data"
    },
    {
     "name": "stderr",
     "output_type": "stream",
     "text": [
      "[I 2024-12-09 01:21:00,396] Trial 40 pruned. \n"
     ]
    },
    {
     "name": "stdout",
     "output_type": "stream",
     "text": [
      "Training Loss: 3.7837. Validation Loss: 3.7306.\n",
      "Training Accuracy: 0.0220. Validation Accuracy: 0.0621.\n",
      "OPTUNA PRUNED E:1 L:3.7306\n",
      "-----------------------------------\n",
      "Epoch 1\n",
      "-----------------------------------\n"
     ]
    },
    {
     "data": {
      "application/vnd.jupyter.widget-view+json": {
       "model_id": "aa64f3bb88274a9dbe50cc2d1b8f63fa",
       "version_major": 2,
       "version_minor": 0
      },
      "text/plain": [
       "Training:   0%|          | 0/46 [00:00<?, ?it/s]"
      ]
     },
     "metadata": {},
     "output_type": "display_data"
    },
    {
     "name": "stderr",
     "output_type": "stream",
     "text": [
      "[I 2024-12-09 01:21:01,157] Trial 29 finished with value: 967.7082543373108 and parameters: {'kernel_size': 4096, 'stride': 256, 'fourier_size': 2048, 'enc_hidden': 64, 'dec_hidden': 256, 'lr': 0.001, 'step_size': 20, 'gamma': 0.01}. Best is trial 23 with value: 952.9023404121399.\n"
     ]
    },
    {
     "name": "stdout",
     "output_type": "stream",
     "text": [
      "Training Loss: 1.7701. Validation Loss: 3.4246.\n",
      "Training Accuracy: 0.4812. Validation Accuracy: 0.0621.\n",
      "EARLY STOP E:17 L:3.4246\n",
      "-----------------------------------\n",
      "Epoch 1\n",
      "-----------------------------------\n"
     ]
    },
    {
     "data": {
      "application/vnd.jupyter.widget-view+json": {
       "model_id": "8d2844a5e7194848a96ac7a9365cf616",
       "version_major": 2,
       "version_minor": 0
      },
      "text/plain": [
       "Training:   0%|          | 0/46 [00:00<?, ?it/s]"
      ]
     },
     "metadata": {},
     "output_type": "display_data"
    },
    {
     "name": "stderr",
     "output_type": "stream",
     "text": [
      "[I 2024-12-09 01:21:21,169] Trial 41 pruned. \n"
     ]
    },
    {
     "name": "stdout",
     "output_type": "stream",
     "text": [
      "Training Loss: 3.5241. Validation Loss: 3.4885.\n",
      "Training Accuracy: 0.0639. Validation Accuracy: 0.0556.\n",
      "OPTUNA PRUNED E:1 L:3.4885\n",
      "-----------------------------------\n",
      "Epoch 1\n",
      "-----------------------------------\n"
     ]
    },
    {
     "data": {
      "application/vnd.jupyter.widget-view+json": {
       "model_id": "de7c29145c70454cb18114ffe7bba5e8",
       "version_major": 2,
       "version_minor": 0
      },
      "text/plain": [
       "Training:   0%|          | 0/46 [00:00<?, ?it/s]"
      ]
     },
     "metadata": {},
     "output_type": "display_data"
    },
    {
     "name": "stdout",
     "output_type": "stream",
     "text": [
      "Training Loss: 3.5156. Validation Loss: 3.4294.\n",
      "Training Accuracy: 0.0637. Validation Accuracy: 0.0490.\n",
      "-----------------------------------\n",
      "Epoch 2\n",
      "-----------------------------------\n"
     ]
    },
    {
     "data": {
      "application/vnd.jupyter.widget-view+json": {
       "model_id": "149a0227b63345d3a39620080cda4d29",
       "version_major": 2,
       "version_minor": 0
      },
      "text/plain": [
       "Training:   0%|          | 0/46 [00:00<?, ?it/s]"
      ]
     },
     "metadata": {},
     "output_type": "display_data"
    },
    {
     "name": "stdout",
     "output_type": "stream",
     "text": [
      "Training Loss: 3.5333. Validation Loss: 3.4048.\n",
      "Training Accuracy: 0.0627. Validation Accuracy: 0.0556.\n",
      "-----------------------------------\n",
      "Epoch 2\n",
      "-----------------------------------\n"
     ]
    },
    {
     "data": {
      "application/vnd.jupyter.widget-view+json": {
       "model_id": "67207065bdf44a2786f36d3e3b5b8edb",
       "version_major": 2,
       "version_minor": 0
      },
      "text/plain": [
       "Training:   0%|          | 0/46 [00:00<?, ?it/s]"
      ]
     },
     "metadata": {},
     "output_type": "display_data"
    },
    {
     "name": "stdout",
     "output_type": "stream",
     "text": [
      "Training Loss: 3.3505. Validation Loss: 3.4972.\n",
      "Training Accuracy: 0.0861. Validation Accuracy: 0.0392.\n",
      "-----------------------------------\n",
      "Epoch 3\n",
      "-----------------------------------\n"
     ]
    },
    {
     "data": {
      "application/vnd.jupyter.widget-view+json": {
       "model_id": "db0047e93c9446f6a1871b5283d7ae6d",
       "version_major": 2,
       "version_minor": 0
      },
      "text/plain": [
       "Training:   0%|          | 0/46 [00:00<?, ?it/s]"
      ]
     },
     "metadata": {},
     "output_type": "display_data"
    },
    {
     "name": "stdout",
     "output_type": "stream",
     "text": [
      "Training Loss: 3.2652. Validation Loss: 3.3986.\n",
      "Training Accuracy: 0.1433. Validation Accuracy: 0.0490.\n",
      "-----------------------------------\n",
      "Epoch 4\n",
      "-----------------------------------\n"
     ]
    },
    {
     "data": {
      "application/vnd.jupyter.widget-view+json": {
       "model_id": "e7987b8d0a9a44a083b341b041d4c2fe",
       "version_major": 2,
       "version_minor": 0
      },
      "text/plain": [
       "Training:   0%|          | 0/46 [00:00<?, ?it/s]"
      ]
     },
     "metadata": {},
     "output_type": "display_data"
    },
    {
     "name": "stdout",
     "output_type": "stream",
     "text": [
      "Training Loss: 3.3764. Validation Loss: 3.4727.\n",
      "Training Accuracy: 0.0863. Validation Accuracy: 0.0425.\n",
      "-----------------------------------\n",
      "Epoch 3\n",
      "-----------------------------------\n"
     ]
    },
    {
     "data": {
      "application/vnd.jupyter.widget-view+json": {
       "model_id": "e82b59bee2c74151b800171d916376f5",
       "version_major": 2,
       "version_minor": 0
      },
      "text/plain": [
       "Training:   0%|          | 0/46 [00:00<?, ?it/s]"
      ]
     },
     "metadata": {},
     "output_type": "display_data"
    },
    {
     "name": "stdout",
     "output_type": "stream",
     "text": [
      "Training Loss: 3.0508. Validation Loss: 3.6193.\n",
      "Training Accuracy: 0.2361. Validation Accuracy: 0.0458.\n",
      "-----------------------------------\n",
      "Epoch 5\n",
      "-----------------------------------\n"
     ]
    },
    {
     "data": {
      "application/vnd.jupyter.widget-view+json": {
       "model_id": "92a47690dd4b4beb980ef3a0ae748ec6",
       "version_major": 2,
       "version_minor": 0
      },
      "text/plain": [
       "Training:   0%|          | 0/46 [00:00<?, ?it/s]"
      ]
     },
     "metadata": {},
     "output_type": "display_data"
    },
    {
     "name": "stdout",
     "output_type": "stream",
     "text": [
      "Training Loss: 2.8421. Validation Loss: 3.5037.\n",
      "Training Accuracy: 0.2769. Validation Accuracy: 0.0196.\n",
      "-----------------------------------\n",
      "Epoch 6\n",
      "-----------------------------------\n"
     ]
    },
    {
     "data": {
      "application/vnd.jupyter.widget-view+json": {
       "model_id": "d8bfe78557b343bfa5a7f9039dbe1e30",
       "version_major": 2,
       "version_minor": 0
      },
      "text/plain": [
       "Training:   0%|          | 0/46 [00:00<?, ?it/s]"
      ]
     },
     "metadata": {},
     "output_type": "display_data"
    },
    {
     "name": "stdout",
     "output_type": "stream",
     "text": [
      "Training Loss: 3.2511. Validation Loss: 3.4407.\n",
      "Training Accuracy: 0.1507. Validation Accuracy: 0.0490.\n",
      "-----------------------------------\n",
      "Epoch 4\n",
      "-----------------------------------\n"
     ]
    },
    {
     "data": {
      "application/vnd.jupyter.widget-view+json": {
       "model_id": "74f2f92ddcf04e49963500655cbaa741",
       "version_major": 2,
       "version_minor": 0
      },
      "text/plain": [
       "Training:   0%|          | 0/46 [00:00<?, ?it/s]"
      ]
     },
     "metadata": {},
     "output_type": "display_data"
    },
    {
     "name": "stdout",
     "output_type": "stream",
     "text": [
      "Training Loss: 2.6110. Validation Loss: 3.4336.\n",
      "Training Accuracy: 0.3228. Validation Accuracy: 0.0654.\n",
      "-----------------------------------\n",
      "Epoch 7\n",
      "-----------------------------------\n"
     ]
    },
    {
     "data": {
      "application/vnd.jupyter.widget-view+json": {
       "model_id": "b02ec2c80ea44391a70c82fd5f69dcc8",
       "version_major": 2,
       "version_minor": 0
      },
      "text/plain": [
       "Training:   0%|          | 0/46 [00:00<?, ?it/s]"
      ]
     },
     "metadata": {},
     "output_type": "display_data"
    },
    {
     "name": "stdout",
     "output_type": "stream",
     "text": [
      "Training Loss: 2.4471. Validation Loss: 3.2634.\n",
      "Training Accuracy: 0.3444. Validation Accuracy: 0.1307.\n",
      "-----------------------------------\n",
      "Epoch 8\n",
      "-----------------------------------\n"
     ]
    },
    {
     "data": {
      "application/vnd.jupyter.widget-view+json": {
       "model_id": "03d5169138f242978d7c3156f0a1d65a",
       "version_major": 2,
       "version_minor": 0
      },
      "text/plain": [
       "Training:   0%|          | 0/46 [00:00<?, ?it/s]"
      ]
     },
     "metadata": {},
     "output_type": "display_data"
    },
    {
     "name": "stdout",
     "output_type": "stream",
     "text": [
      "Training Loss: 3.0394. Validation Loss: 3.3800.\n",
      "Training Accuracy: 0.2183. Validation Accuracy: 0.0980.\n",
      "-----------------------------------\n",
      "Epoch 5\n",
      "-----------------------------------\n"
     ]
    },
    {
     "data": {
      "application/vnd.jupyter.widget-view+json": {
       "model_id": "d94afdd328dc44778dd8dde6033e9a7b",
       "version_major": 2,
       "version_minor": 0
      },
      "text/plain": [
       "Training:   0%|          | 0/46 [00:00<?, ?it/s]"
      ]
     },
     "metadata": {},
     "output_type": "display_data"
    },
    {
     "name": "stdout",
     "output_type": "stream",
     "text": [
      "Training Loss: 2.3161. Validation Loss: 3.1075.\n",
      "Training Accuracy: 0.3600. Validation Accuracy: 0.1438.\n",
      "-----------------------------------\n",
      "Epoch 9\n",
      "-----------------------------------\n"
     ]
    },
    {
     "data": {
      "application/vnd.jupyter.widget-view+json": {
       "model_id": "7024dfd5450d453a9df2aedf459da92b",
       "version_major": 2,
       "version_minor": 0
      },
      "text/plain": [
       "Training:   0%|          | 0/46 [00:00<?, ?it/s]"
      ]
     },
     "metadata": {},
     "output_type": "display_data"
    },
    {
     "name": "stdout",
     "output_type": "stream",
     "text": [
      "Training Loss: 2.8406. Validation Loss: 3.3590.\n",
      "Training Accuracy: 0.2712. Validation Accuracy: 0.1013.\n",
      "-----------------------------------\n",
      "Epoch 6\n",
      "-----------------------------------\n"
     ]
    },
    {
     "data": {
      "application/vnd.jupyter.widget-view+json": {
       "model_id": "0aa5d7f767604d3e95e0c3bafc3f4332",
       "version_major": 2,
       "version_minor": 0
      },
      "text/plain": [
       "Training:   0%|          | 0/46 [00:00<?, ?it/s]"
      ]
     },
     "metadata": {},
     "output_type": "display_data"
    },
    {
     "name": "stdout",
     "output_type": "stream",
     "text": [
      "Training Loss: 2.2474. Validation Loss: 3.5249.\n",
      "Training Accuracy: 0.3803. Validation Accuracy: 0.0261.\n",
      "-----------------------------------\n",
      "Epoch 10\n",
      "-----------------------------------\n"
     ]
    },
    {
     "data": {
      "application/vnd.jupyter.widget-view+json": {
       "model_id": "fc7b74c74816483b86fe253659b355b0",
       "version_major": 2,
       "version_minor": 0
      },
      "text/plain": [
       "Training:   0%|          | 0/46 [00:00<?, ?it/s]"
      ]
     },
     "metadata": {},
     "output_type": "display_data"
    },
    {
     "name": "stdout",
     "output_type": "stream",
     "text": [
      "Training Loss: 2.1394. Validation Loss: 3.5174.\n",
      "Training Accuracy: 0.3976. Validation Accuracy: 0.0327.\n",
      "-----------------------------------\n",
      "Epoch 11\n",
      "-----------------------------------\n"
     ]
    },
    {
     "data": {
      "application/vnd.jupyter.widget-view+json": {
       "model_id": "997872bda4ec469bbe7763043b75ee74",
       "version_major": 2,
       "version_minor": 0
      },
      "text/plain": [
       "Training:   0%|          | 0/46 [00:00<?, ?it/s]"
      ]
     },
     "metadata": {},
     "output_type": "display_data"
    },
    {
     "name": "stdout",
     "output_type": "stream",
     "text": [
      "Training Loss: 2.6243. Validation Loss: 3.2285.\n",
      "Training Accuracy: 0.3158. Validation Accuracy: 0.1307.\n",
      "-----------------------------------\n",
      "Epoch 7\n",
      "-----------------------------------\n"
     ]
    },
    {
     "data": {
      "application/vnd.jupyter.widget-view+json": {
       "model_id": "5386bc31ee3740f1acc71ef50ed78056",
       "version_major": 2,
       "version_minor": 0
      },
      "text/plain": [
       "Training:   0%|          | 0/46 [00:00<?, ?it/s]"
      ]
     },
     "metadata": {},
     "output_type": "display_data"
    },
    {
     "name": "stdout",
     "output_type": "stream",
     "text": [
      "Training Loss: 2.0329. Validation Loss: 3.6054.\n",
      "Training Accuracy: 0.4313. Validation Accuracy: 0.0294.\n",
      "-----------------------------------\n",
      "Epoch 12\n",
      "-----------------------------------\n"
     ]
    },
    {
     "data": {
      "application/vnd.jupyter.widget-view+json": {
       "model_id": "f136b9f4d703406394fc1b172657bdd7",
       "version_major": 2,
       "version_minor": 0
      },
      "text/plain": [
       "Training:   0%|          | 0/46 [00:00<?, ?it/s]"
      ]
     },
     "metadata": {},
     "output_type": "display_data"
    },
    {
     "name": "stdout",
     "output_type": "stream",
     "text": [
      "Training Loss: 1.9666. Validation Loss: 3.6698.\n",
      "Training Accuracy: 0.4406. Validation Accuracy: 0.0196.\n",
      "-----------------------------------\n",
      "Epoch 13\n",
      "-----------------------------------\n"
     ]
    },
    {
     "data": {
      "application/vnd.jupyter.widget-view+json": {
       "model_id": "dee98f5e1e0d4c7aac49c6cbe6f25d3e",
       "version_major": 2,
       "version_minor": 0
      },
      "text/plain": [
       "Training:   0%|          | 0/46 [00:00<?, ?it/s]"
      ]
     },
     "metadata": {},
     "output_type": "display_data"
    },
    {
     "name": "stdout",
     "output_type": "stream",
     "text": [
      "Training Loss: 2.4647. Validation Loss: 3.2659.\n",
      "Training Accuracy: 0.3392. Validation Accuracy: 0.1209.\n",
      "-----------------------------------\n",
      "Epoch 8\n",
      "-----------------------------------\n"
     ]
    },
    {
     "data": {
      "application/vnd.jupyter.widget-view+json": {
       "model_id": "91d91e2270eb4086b51d60cd133abb5e",
       "version_major": 2,
       "version_minor": 0
      },
      "text/plain": [
       "Training:   0%|          | 0/46 [00:00<?, ?it/s]"
      ]
     },
     "metadata": {},
     "output_type": "display_data"
    },
    {
     "name": "stderr",
     "output_type": "stream",
     "text": [
      "[I 2024-12-09 01:32:20,067] Trial 43 finished with value: 950.8865079879761 and parameters: {'kernel_size': 4096, 'stride': 256, 'fourier_size': 2048, 'enc_hidden': 64, 'dec_hidden': 256, 'lr': 0.001, 'step_size': 20, 'gamma': 0.01}. Best is trial 43 with value: 950.8865079879761.\n"
     ]
    },
    {
     "name": "stdout",
     "output_type": "stream",
     "text": [
      "Training Loss: 1.9053. Validation Loss: 3.5621.\n",
      "Training Accuracy: 0.4496. Validation Accuracy: 0.0261.\n",
      "EARLY STOP E:13 L:3.5621\n",
      "-----------------------------------\n",
      "Epoch 1\n",
      "-----------------------------------\n"
     ]
    },
    {
     "data": {
      "application/vnd.jupyter.widget-view+json": {
       "model_id": "c4172b244aa742a4827b6d09772d30ee",
       "version_major": 2,
       "version_minor": 0
      },
      "text/plain": [
       "Training:   0%|          | 0/46 [00:00<?, ?it/s]"
      ]
     },
     "metadata": {},
     "output_type": "display_data"
    },
    {
     "name": "stdout",
     "output_type": "stream",
     "text": [
      "Training Loss: 3.5108. Validation Loss: 3.4264.\n",
      "Training Accuracy: 0.0709. Validation Accuracy: 0.0490.\n",
      "-----------------------------------\n",
      "Epoch 2\n",
      "-----------------------------------\n"
     ]
    },
    {
     "data": {
      "application/vnd.jupyter.widget-view+json": {
       "model_id": "e543240118374ddb8aa246b9dacf7a43",
       "version_major": 2,
       "version_minor": 0
      },
      "text/plain": [
       "Training:   0%|          | 0/46 [00:00<?, ?it/s]"
      ]
     },
     "metadata": {},
     "output_type": "display_data"
    },
    {
     "name": "stdout",
     "output_type": "stream",
     "text": [
      "Training Loss: 2.3475. Validation Loss: 3.2914.\n",
      "Training Accuracy: 0.3698. Validation Accuracy: 0.1340.\n",
      "-----------------------------------\n",
      "Epoch 9\n",
      "-----------------------------------\n"
     ]
    },
    {
     "data": {
      "application/vnd.jupyter.widget-view+json": {
       "model_id": "22e2d78803e34155ac74a31d08df0b83",
       "version_major": 2,
       "version_minor": 0
      },
      "text/plain": [
       "Training:   0%|          | 0/46 [00:00<?, ?it/s]"
      ]
     },
     "metadata": {},
     "output_type": "display_data"
    },
    {
     "name": "stdout",
     "output_type": "stream",
     "text": [
      "Training Loss: 3.3520. Validation Loss: 3.4424.\n",
      "Training Accuracy: 0.0938. Validation Accuracy: 0.0490.\n",
      "-----------------------------------\n",
      "Epoch 3\n",
      "-----------------------------------\n"
     ]
    },
    {
     "data": {
      "application/vnd.jupyter.widget-view+json": {
       "model_id": "7889e5a360104847b9c8583a22c7617e",
       "version_major": 2,
       "version_minor": 0
      },
      "text/plain": [
       "Training:   0%|          | 0/46 [00:00<?, ?it/s]"
      ]
     },
     "metadata": {},
     "output_type": "display_data"
    },
    {
     "name": "stdout",
     "output_type": "stream",
     "text": [
      "Training Loss: 3.2807. Validation Loss: 3.3908.\n",
      "Training Accuracy: 0.1253. Validation Accuracy: 0.0948.\n",
      "-----------------------------------\n",
      "Epoch 4\n",
      "-----------------------------------\n"
     ]
    },
    {
     "data": {
      "application/vnd.jupyter.widget-view+json": {
       "model_id": "66944871454c4999b5313b856d4818ff",
       "version_major": 2,
       "version_minor": 0
      },
      "text/plain": [
       "Training:   0%|          | 0/46 [00:00<?, ?it/s]"
      ]
     },
     "metadata": {},
     "output_type": "display_data"
    },
    {
     "name": "stdout",
     "output_type": "stream",
     "text": [
      "Training Loss: 2.2596. Validation Loss: 3.1875.\n",
      "Training Accuracy: 0.3831. Validation Accuracy: 0.1242.\n",
      "-----------------------------------\n",
      "Epoch 10\n",
      "-----------------------------------\n"
     ]
    },
    {
     "data": {
      "application/vnd.jupyter.widget-view+json": {
       "model_id": "b49ec1ae0bc44517a1d29aac918c2a45",
       "version_major": 2,
       "version_minor": 0
      },
      "text/plain": [
       "Training:   0%|          | 0/46 [00:00<?, ?it/s]"
      ]
     },
     "metadata": {},
     "output_type": "display_data"
    },
    {
     "name": "stdout",
     "output_type": "stream",
     "text": [
      "Training Loss: 3.0992. Validation Loss: 3.4617.\n",
      "Training Accuracy: 0.2114. Validation Accuracy: 0.0948.\n",
      "-----------------------------------\n",
      "Epoch 5\n",
      "-----------------------------------\n"
     ]
    },
    {
     "data": {
      "application/vnd.jupyter.widget-view+json": {
       "model_id": "78de0beb93ee41efa56e6b97f02f12cc",
       "version_major": 2,
       "version_minor": 0
      },
      "text/plain": [
       "Training:   0%|          | 0/46 [00:00<?, ?it/s]"
      ]
     },
     "metadata": {},
     "output_type": "display_data"
    },
    {
     "name": "stdout",
     "output_type": "stream",
     "text": [
      "Training Loss: 2.8494. Validation Loss: 3.3862.\n",
      "Training Accuracy: 0.2693. Validation Accuracy: 0.0980.\n",
      "-----------------------------------\n",
      "Epoch 6\n",
      "-----------------------------------\n"
     ]
    },
    {
     "data": {
      "application/vnd.jupyter.widget-view+json": {
       "model_id": "ff5c46c34aac42c5b0410751f23a32fc",
       "version_major": 2,
       "version_minor": 0
      },
      "text/plain": [
       "Training:   0%|          | 0/46 [00:00<?, ?it/s]"
      ]
     },
     "metadata": {},
     "output_type": "display_data"
    },
    {
     "name": "stdout",
     "output_type": "stream",
     "text": [
      "Training Loss: 2.2818. Validation Loss: 3.3063.\n",
      "Training Accuracy: 0.3683. Validation Accuracy: 0.1144.\n",
      "-----------------------------------\n",
      "Epoch 11\n",
      "-----------------------------------\n"
     ]
    },
    {
     "data": {
      "application/vnd.jupyter.widget-view+json": {
       "model_id": "1204b89fedde4e0ca6960a2508fdb6dc",
       "version_major": 2,
       "version_minor": 0
      },
      "text/plain": [
       "Training:   0%|          | 0/46 [00:00<?, ?it/s]"
      ]
     },
     "metadata": {},
     "output_type": "display_data"
    },
    {
     "name": "stdout",
     "output_type": "stream",
     "text": [
      "Training Loss: 2.6338. Validation Loss: 3.3975.\n",
      "Training Accuracy: 0.3151. Validation Accuracy: 0.0980.\n",
      "-----------------------------------\n",
      "Epoch 7\n",
      "-----------------------------------\n"
     ]
    },
    {
     "data": {
      "application/vnd.jupyter.widget-view+json": {
       "model_id": "1c746b3da60d4ae0b123ae3b27320f28",
       "version_major": 2,
       "version_minor": 0
      },
      "text/plain": [
       "Training:   0%|          | 0/46 [00:00<?, ?it/s]"
      ]
     },
     "metadata": {},
     "output_type": "display_data"
    },
    {
     "name": "stdout",
     "output_type": "stream",
     "text": [
      "Training Loss: 2.4939. Validation Loss: 3.5589.\n",
      "Training Accuracy: 0.3351. Validation Accuracy: 0.0294.\n",
      "-----------------------------------\n",
      "Epoch 8\n",
      "-----------------------------------\n"
     ]
    },
    {
     "data": {
      "application/vnd.jupyter.widget-view+json": {
       "model_id": "32a6350ea9124d88808a6d3e7bcd0fb8",
       "version_major": 2,
       "version_minor": 0
      },
      "text/plain": [
       "Training:   0%|          | 0/46 [00:00<?, ?it/s]"
      ]
     },
     "metadata": {},
     "output_type": "display_data"
    },
    {
     "name": "stdout",
     "output_type": "stream",
     "text": [
      "Training Loss: 2.1501. Validation Loss: 3.1953.\n",
      "Training Accuracy: 0.4010. Validation Accuracy: 0.1176.\n",
      "-----------------------------------\n",
      "Epoch 12\n",
      "-----------------------------------\n"
     ]
    },
    {
     "data": {
      "application/vnd.jupyter.widget-view+json": {
       "model_id": "ba2f27c8dcda49f9a3541d2375b156af",
       "version_major": 2,
       "version_minor": 0
      },
      "text/plain": [
       "Training:   0%|          | 0/46 [00:00<?, ?it/s]"
      ]
     },
     "metadata": {},
     "output_type": "display_data"
    },
    {
     "name": "stdout",
     "output_type": "stream",
     "text": [
      "Training Loss: 2.3918. Validation Loss: 3.1089.\n",
      "Training Accuracy: 0.3547. Validation Accuracy: 0.1242.\n",
      "-----------------------------------\n",
      "Epoch 9\n",
      "-----------------------------------\n"
     ]
    },
    {
     "data": {
      "application/vnd.jupyter.widget-view+json": {
       "model_id": "f4b5efc1a4cf4345bd41c16bacd18c55",
       "version_major": 2,
       "version_minor": 0
      },
      "text/plain": [
       "Training:   0%|          | 0/46 [00:00<?, ?it/s]"
      ]
     },
     "metadata": {},
     "output_type": "display_data"
    },
    {
     "name": "stdout",
     "output_type": "stream",
     "text": [
      "Training Loss: 2.4191. Validation Loss: 3.2309.\n",
      "Training Accuracy: 0.3518. Validation Accuracy: 0.0556.\n",
      "-----------------------------------\n",
      "Epoch 10\n",
      "-----------------------------------\n"
     ]
    },
    {
     "data": {
      "application/vnd.jupyter.widget-view+json": {
       "model_id": "7412924d22b746b3a3c945f48489ca1a",
       "version_major": 2,
       "version_minor": 0
      },
      "text/plain": [
       "Training:   0%|          | 0/46 [00:00<?, ?it/s]"
      ]
     },
     "metadata": {},
     "output_type": "display_data"
    },
    {
     "name": "stdout",
     "output_type": "stream",
     "text": [
      "Training Loss: 2.0662. Validation Loss: 3.1759.\n",
      "Training Accuracy: 0.4032. Validation Accuracy: 0.1503.\n",
      "-----------------------------------\n",
      "Epoch 13\n",
      "-----------------------------------\n"
     ]
    },
    {
     "data": {
      "application/vnd.jupyter.widget-view+json": {
       "model_id": "f0271ae9cc7c48159e257e49bf90d780",
       "version_major": 2,
       "version_minor": 0
      },
      "text/plain": [
       "Training:   0%|          | 0/46 [00:00<?, ?it/s]"
      ]
     },
     "metadata": {},
     "output_type": "display_data"
    },
    {
     "name": "stdout",
     "output_type": "stream",
     "text": [
      "Training Loss: 2.2423. Validation Loss: 3.3167.\n",
      "Training Accuracy: 0.3836. Validation Accuracy: 0.0588.\n",
      "-----------------------------------\n",
      "Epoch 11\n",
      "-----------------------------------\n"
     ]
    },
    {
     "data": {
      "application/vnd.jupyter.widget-view+json": {
       "model_id": "af498f87365d4f8fb6101d564cf2bad7",
       "version_major": 2,
       "version_minor": 0
      },
      "text/plain": [
       "Training:   0%|          | 0/46 [00:00<?, ?it/s]"
      ]
     },
     "metadata": {},
     "output_type": "display_data"
    },
    {
     "name": "stdout",
     "output_type": "stream",
     "text": [
      "Training Loss: 2.1438. Validation Loss: 3.1833.\n",
      "Training Accuracy: 0.3996. Validation Accuracy: 0.1471.\n",
      "-----------------------------------\n",
      "Epoch 12\n",
      "-----------------------------------\n"
     ]
    },
    {
     "data": {
      "application/vnd.jupyter.widget-view+json": {
       "model_id": "c778b2b5a93a4c479aee5141b62b83f7",
       "version_major": 2,
       "version_minor": 0
      },
      "text/plain": [
       "Training:   0%|          | 0/46 [00:00<?, ?it/s]"
      ]
     },
     "metadata": {},
     "output_type": "display_data"
    },
    {
     "name": "stdout",
     "output_type": "stream",
     "text": [
      "Training Loss: 2.0071. Validation Loss: 3.2342.\n",
      "Training Accuracy: 0.4277. Validation Accuracy: 0.1699.\n",
      "-----------------------------------\n",
      "Epoch 14\n",
      "-----------------------------------\n"
     ]
    },
    {
     "data": {
      "application/vnd.jupyter.widget-view+json": {
       "model_id": "5bfa9131aef844a6a00acbdb0cb20cdd",
       "version_major": 2,
       "version_minor": 0
      },
      "text/plain": [
       "Training:   0%|          | 0/46 [00:00<?, ?it/s]"
      ]
     },
     "metadata": {},
     "output_type": "display_data"
    },
    {
     "name": "stdout",
     "output_type": "stream",
     "text": [
      "Training Loss: 2.0822. Validation Loss: 3.1394.\n",
      "Training Accuracy: 0.4089. Validation Accuracy: 0.1046.\n",
      "-----------------------------------\n",
      "Epoch 13\n",
      "-----------------------------------\n"
     ]
    },
    {
     "data": {
      "application/vnd.jupyter.widget-view+json": {
       "model_id": "f7d5c9f4c88442f5a57a43501aace25c",
       "version_major": 2,
       "version_minor": 0
      },
      "text/plain": [
       "Training:   0%|          | 0/46 [00:00<?, ?it/s]"
      ]
     },
     "metadata": {},
     "output_type": "display_data"
    },
    {
     "name": "stderr",
     "output_type": "stream",
     "text": [
      "[I 2024-12-09 01:43:19,325] Trial 44 finished with value: 951.3098764419556 and parameters: {'kernel_size': 4096, 'stride': 256, 'fourier_size': 2048, 'enc_hidden': 64, 'dec_hidden': 256, 'lr': 0.001, 'step_size': 20, 'gamma': 0.01}. Best is trial 43 with value: 950.8865079879761.\n"
     ]
    },
    {
     "name": "stdout",
     "output_type": "stream",
     "text": [
      "Training Loss: 1.9590. Validation Loss: 3.2504.\n",
      "Training Accuracy: 0.4382. Validation Accuracy: 0.0980.\n",
      "EARLY STOP E:13 L:3.2504\n",
      "-----------------------------------\n",
      "Epoch 1\n",
      "-----------------------------------\n"
     ]
    },
    {
     "data": {
      "application/vnd.jupyter.widget-view+json": {
       "model_id": "43c9edc3d8db41bcb93223e8164d0bd5",
       "version_major": 2,
       "version_minor": 0
      },
      "text/plain": [
       "Training:   0%|          | 0/46 [00:00<?, ?it/s]"
      ]
     },
     "metadata": {},
     "output_type": "display_data"
    },
    {
     "name": "stdout",
     "output_type": "stream",
     "text": [
      "Training Loss: 2.0542. Validation Loss: 3.2234.\n",
      "Training Accuracy: 0.4136. Validation Accuracy: 0.1438.\n",
      "-----------------------------------\n",
      "Epoch 15\n",
      "-----------------------------------\n"
     ]
    },
    {
     "data": {
      "application/vnd.jupyter.widget-view+json": {
       "model_id": "eb44da86f0004e069159b20b4545a9f7",
       "version_major": 2,
       "version_minor": 0
      },
      "text/plain": [
       "Training:   0%|          | 0/46 [00:00<?, ?it/s]"
      ]
     },
     "metadata": {},
     "output_type": "display_data"
    },
    {
     "name": "stdout",
     "output_type": "stream",
     "text": [
      "Training Loss: 3.5273. Validation Loss: 3.3957.\n",
      "Training Accuracy: 0.0613. Validation Accuracy: 0.0556.\n",
      "-----------------------------------\n",
      "Epoch 2\n",
      "-----------------------------------\n"
     ]
    },
    {
     "data": {
      "application/vnd.jupyter.widget-view+json": {
       "model_id": "c6323b5675aa4e209b5c4894f7dca87e",
       "version_major": 2,
       "version_minor": 0
      },
      "text/plain": [
       "Training:   0%|          | 0/46 [00:00<?, ?it/s]"
      ]
     },
     "metadata": {},
     "output_type": "display_data"
    },
    {
     "name": "stdout",
     "output_type": "stream",
     "text": [
      "Training Loss: 3.3481. Validation Loss: 3.4161.\n",
      "Training Accuracy: 0.0988. Validation Accuracy: 0.0686.\n",
      "-----------------------------------\n",
      "Epoch 3\n",
      "-----------------------------------\n"
     ]
    },
    {
     "data": {
      "application/vnd.jupyter.widget-view+json": {
       "model_id": "db06e1c35e144d53b1d27d0ba9f2d3dd",
       "version_major": 2,
       "version_minor": 0
      },
      "text/plain": [
       "Training:   0%|          | 0/46 [00:00<?, ?it/s]"
      ]
     },
     "metadata": {},
     "output_type": "display_data"
    },
    {
     "name": "stdout",
     "output_type": "stream",
     "text": [
      "Training Loss: 1.9219. Validation Loss: 3.2487.\n",
      "Training Accuracy: 0.4477. Validation Accuracy: 0.1667.\n",
      "-----------------------------------\n",
      "Epoch 16\n",
      "-----------------------------------\n"
     ]
    },
    {
     "data": {
      "application/vnd.jupyter.widget-view+json": {
       "model_id": "29ddd89b0265477284a71022562d0457",
       "version_major": 2,
       "version_minor": 0
      },
      "text/plain": [
       "Training:   0%|          | 0/46 [00:00<?, ?it/s]"
      ]
     },
     "metadata": {},
     "output_type": "display_data"
    },
    {
     "name": "stdout",
     "output_type": "stream",
     "text": [
      "Training Loss: 3.2064. Validation Loss: 3.3968.\n",
      "Training Accuracy: 0.1634. Validation Accuracy: 0.1144.\n",
      "-----------------------------------\n",
      "Epoch 4\n",
      "-----------------------------------\n"
     ]
    },
    {
     "data": {
      "application/vnd.jupyter.widget-view+json": {
       "model_id": "b47bd5e225f348e790c9a82177d5e682",
       "version_major": 2,
       "version_minor": 0
      },
      "text/plain": [
       "Training:   0%|          | 0/46 [00:00<?, ?it/s]"
      ]
     },
     "metadata": {},
     "output_type": "display_data"
    },
    {
     "name": "stdout",
     "output_type": "stream",
     "text": [
      "Training Loss: 2.9629. Validation Loss: 3.2900.\n",
      "Training Accuracy: 0.2261. Validation Accuracy: 0.1176.\n",
      "-----------------------------------\n",
      "Epoch 5\n",
      "-----------------------------------\n"
     ]
    },
    {
     "data": {
      "application/vnd.jupyter.widget-view+json": {
       "model_id": "cb032acaad1c43cca32812d2425e7d18",
       "version_major": 2,
       "version_minor": 0
      },
      "text/plain": [
       "Training:   0%|          | 0/46 [00:00<?, ?it/s]"
      ]
     },
     "metadata": {},
     "output_type": "display_data"
    },
    {
     "name": "stdout",
     "output_type": "stream",
     "text": [
      "Training Loss: 1.8804. Validation Loss: 3.3399.\n",
      "Training Accuracy: 0.4638. Validation Accuracy: 0.1503.\n",
      "-----------------------------------\n",
      "Epoch 17\n",
      "-----------------------------------\n"
     ]
    },
    {
     "data": {
      "application/vnd.jupyter.widget-view+json": {
       "model_id": "4ef0c39c29894d2aafd8eca1c24dc4a1",
       "version_major": 2,
       "version_minor": 0
      },
      "text/plain": [
       "Training:   0%|          | 0/46 [00:00<?, ?it/s]"
      ]
     },
     "metadata": {},
     "output_type": "display_data"
    },
    {
     "name": "stdout",
     "output_type": "stream",
     "text": [
      "Training Loss: 2.7171. Validation Loss: 3.2958.\n",
      "Training Accuracy: 0.3008. Validation Accuracy: 0.1144.\n",
      "-----------------------------------\n",
      "Epoch 6\n",
      "-----------------------------------\n"
     ]
    },
    {
     "data": {
      "application/vnd.jupyter.widget-view+json": {
       "model_id": "5911f82ebbb443b98fc84575f722b6dd",
       "version_major": 2,
       "version_minor": 0
      },
      "text/plain": [
       "Training:   0%|          | 0/46 [00:00<?, ?it/s]"
      ]
     },
     "metadata": {},
     "output_type": "display_data"
    },
    {
     "name": "stdout",
     "output_type": "stream",
     "text": [
      "Training Loss: 2.4885. Validation Loss: 3.2825.\n",
      "Training Accuracy: 0.3426. Validation Accuracy: 0.1013.\n",
      "-----------------------------------\n",
      "Epoch 7\n",
      "-----------------------------------\n"
     ]
    },
    {
     "data": {
      "application/vnd.jupyter.widget-view+json": {
       "model_id": "efee07ee91254b658a52073d7b079f2c",
       "version_major": 2,
       "version_minor": 0
      },
      "text/plain": [
       "Training:   0%|          | 0/46 [00:00<?, ?it/s]"
      ]
     },
     "metadata": {},
     "output_type": "display_data"
    },
    {
     "name": "stderr",
     "output_type": "stream",
     "text": [
      "[I 2024-12-09 01:48:33,719] Trial 42 finished with value: 971.818452835083 and parameters: {'kernel_size': 4096, 'stride': 256, 'fourier_size': 2048, 'enc_hidden': 64, 'dec_hidden': 256, 'lr': 0.001, 'step_size': 20, 'gamma': 0.01}. Best is trial 43 with value: 950.8865079879761.\n"
     ]
    },
    {
     "name": "stdout",
     "output_type": "stream",
     "text": [
      "Training Loss: 1.8255. Validation Loss: 3.2800.\n",
      "Training Accuracy: 0.4680. Validation Accuracy: 0.1111.\n",
      "EARLY STOP E:17 L:3.2800\n",
      "-----------------------------------\n",
      "Epoch 1\n",
      "-----------------------------------\n"
     ]
    },
    {
     "data": {
      "application/vnd.jupyter.widget-view+json": {
       "model_id": "f48067c050c3400887790e1401e7d62c",
       "version_major": 2,
       "version_minor": 0
      },
      "text/plain": [
       "Training:   0%|          | 0/46 [00:00<?, ?it/s]"
      ]
     },
     "metadata": {},
     "output_type": "display_data"
    },
    {
     "name": "stdout",
     "output_type": "stream",
     "text": [
      "Training Loss: 2.3762. Validation Loss: 3.3459.\n",
      "Training Accuracy: 0.3549. Validation Accuracy: 0.0621.\n",
      "-----------------------------------\n",
      "Epoch 8\n",
      "-----------------------------------\n"
     ]
    },
    {
     "data": {
      "application/vnd.jupyter.widget-view+json": {
       "model_id": "d137e86886bb45c19a8c394450dbb6ab",
       "version_major": 2,
       "version_minor": 0
      },
      "text/plain": [
       "Training:   0%|          | 0/46 [00:00<?, ?it/s]"
      ]
     },
     "metadata": {},
     "output_type": "display_data"
    },
    {
     "name": "stdout",
     "output_type": "stream",
     "text": [
      "Training Loss: 2.2845. Validation Loss: 3.2638.\n",
      "Training Accuracy: 0.3671. Validation Accuracy: 0.0588.\n",
      "-----------------------------------\n",
      "Epoch 9\n",
      "-----------------------------------\n"
     ]
    },
    {
     "data": {
      "application/vnd.jupyter.widget-view+json": {
       "model_id": "960e585272c24a53946df60565d328d7",
       "version_major": 2,
       "version_minor": 0
      },
      "text/plain": [
       "Training:   0%|          | 0/46 [00:00<?, ?it/s]"
      ]
     },
     "metadata": {},
     "output_type": "display_data"
    },
    {
     "name": "stderr",
     "output_type": "stream",
     "text": [
      "[I 2024-12-09 01:49:41,773] Trial 46 pruned. \n"
     ]
    },
    {
     "name": "stdout",
     "output_type": "stream",
     "text": [
      "Training Loss: 3.5273. Validation Loss: 3.4548.\n",
      "Training Accuracy: 0.0613. Validation Accuracy: 0.0490.\n",
      "OPTUNA PRUNED E:1 L:3.4548\n",
      "-----------------------------------\n",
      "Epoch 1\n",
      "-----------------------------------\n"
     ]
    },
    {
     "data": {
      "application/vnd.jupyter.widget-view+json": {
       "model_id": "274041eeded54e01996f898415ec9ebf",
       "version_major": 2,
       "version_minor": 0
      },
      "text/plain": [
       "Training:   0%|          | 0/46 [00:00<?, ?it/s]"
      ]
     },
     "metadata": {},
     "output_type": "display_data"
    },
    {
     "name": "stdout",
     "output_type": "stream",
     "text": [
      "Training Loss: 2.2035. Validation Loss: 3.2936.\n",
      "Training Accuracy: 0.3970. Validation Accuracy: 0.0523.\n",
      "-----------------------------------\n",
      "Epoch 10\n",
      "-----------------------------------\n"
     ]
    },
    {
     "data": {
      "application/vnd.jupyter.widget-view+json": {
       "model_id": "1b848331963a4f1f9e0764180f2b7dfb",
       "version_major": 2,
       "version_minor": 0
      },
      "text/plain": [
       "Training:   0%|          | 0/46 [00:00<?, ?it/s]"
      ]
     },
     "metadata": {},
     "output_type": "display_data"
    },
    {
     "name": "stdout",
     "output_type": "stream",
     "text": [
      "Training Loss: 2.1438. Validation Loss: 3.1912.\n",
      "Training Accuracy: 0.4027. Validation Accuracy: 0.1634.\n",
      "-----------------------------------\n",
      "Epoch 11\n",
      "-----------------------------------\n"
     ]
    },
    {
     "data": {
      "application/vnd.jupyter.widget-view+json": {
       "model_id": "e623a4f2ace74a5b8cab15f2e71c1356",
       "version_major": 2,
       "version_minor": 0
      },
      "text/plain": [
       "Training:   0%|          | 0/46 [00:00<?, ?it/s]"
      ]
     },
     "metadata": {},
     "output_type": "display_data"
    },
    {
     "name": "stdout",
     "output_type": "stream",
     "text": [
      "Training Loss: 3.5273. Validation Loss: 3.4042.\n",
      "Training Accuracy: 0.0659. Validation Accuracy: 0.0490.\n",
      "-----------------------------------\n",
      "Epoch 2\n",
      "-----------------------------------\n"
     ]
    },
    {
     "data": {
      "application/vnd.jupyter.widget-view+json": {
       "model_id": "bd0a9ebb90cd49d19cd91cf45556f452",
       "version_major": 2,
       "version_minor": 0
      },
      "text/plain": [
       "Training:   0%|          | 0/46 [00:00<?, ?it/s]"
      ]
     },
     "metadata": {},
     "output_type": "display_data"
    },
    {
     "name": "stdout",
     "output_type": "stream",
     "text": [
      "Training Loss: 2.0287. Validation Loss: 3.1897.\n",
      "Training Accuracy: 0.4316. Validation Accuracy: 0.0915.\n",
      "-----------------------------------\n",
      "Epoch 12\n",
      "-----------------------------------\n"
     ]
    },
    {
     "data": {
      "application/vnd.jupyter.widget-view+json": {
       "model_id": "95e7fe92e35849448d2f28396a049b0a",
       "version_major": 2,
       "version_minor": 0
      },
      "text/plain": [
       "Training:   0%|          | 0/46 [00:00<?, ?it/s]"
      ]
     },
     "metadata": {},
     "output_type": "display_data"
    },
    {
     "name": "stdout",
     "output_type": "stream",
     "text": [
      "Training Loss: 1.9461. Validation Loss: 3.1242.\n",
      "Training Accuracy: 0.4385. Validation Accuracy: 0.1111.\n",
      "-----------------------------------\n",
      "Epoch 13\n",
      "-----------------------------------\n"
     ]
    },
    {
     "data": {
      "application/vnd.jupyter.widget-view+json": {
       "model_id": "2adfb5aa3c8549098b478f414df70490",
       "version_major": 2,
       "version_minor": 0
      },
      "text/plain": [
       "Training:   0%|          | 0/46 [00:00<?, ?it/s]"
      ]
     },
     "metadata": {},
     "output_type": "display_data"
    },
    {
     "name": "stdout",
     "output_type": "stream",
     "text": [
      "Training Loss: 3.3561. Validation Loss: 3.4121.\n",
      "Training Accuracy: 0.0876. Validation Accuracy: 0.0490.\n",
      "-----------------------------------\n",
      "Epoch 3\n",
      "-----------------------------------\n"
     ]
    },
    {
     "data": {
      "application/vnd.jupyter.widget-view+json": {
       "model_id": "82a6bf783ea94c50a624771790cf379a",
       "version_major": 2,
       "version_minor": 0
      },
      "text/plain": [
       "Training:   0%|          | 0/46 [00:00<?, ?it/s]"
      ]
     },
     "metadata": {},
     "output_type": "display_data"
    },
    {
     "name": "stdout",
     "output_type": "stream",
     "text": [
      "Training Loss: 1.8840. Validation Loss: 3.1239.\n",
      "Training Accuracy: 0.4492. Validation Accuracy: 0.1307.\n",
      "-----------------------------------\n",
      "Epoch 14\n",
      "-----------------------------------\n"
     ]
    },
    {
     "data": {
      "application/vnd.jupyter.widget-view+json": {
       "model_id": "b695171e23cd440ca2db2a3ff4b8ac45",
       "version_major": 2,
       "version_minor": 0
      },
      "text/plain": [
       "Training:   0%|          | 0/46 [00:00<?, ?it/s]"
      ]
     },
     "metadata": {},
     "output_type": "display_data"
    },
    {
     "name": "stdout",
     "output_type": "stream",
     "text": [
      "Training Loss: 1.8182. Validation Loss: 3.2535.\n",
      "Training Accuracy: 0.4706. Validation Accuracy: 0.1209.\n",
      "-----------------------------------\n",
      "Epoch 15\n",
      "-----------------------------------\n"
     ]
    },
    {
     "data": {
      "application/vnd.jupyter.widget-view+json": {
       "model_id": "9f4ed346f3c74672b8b5dd7dc0a092cb",
       "version_major": 2,
       "version_minor": 0
      },
      "text/plain": [
       "Training:   0%|          | 0/46 [00:00<?, ?it/s]"
      ]
     },
     "metadata": {},
     "output_type": "display_data"
    },
    {
     "name": "stdout",
     "output_type": "stream",
     "text": [
      "Training Loss: 3.2577. Validation Loss: 3.4020.\n",
      "Training Accuracy: 0.1482. Validation Accuracy: 0.0490.\n",
      "-----------------------------------\n",
      "Epoch 4\n",
      "-----------------------------------\n"
     ]
    },
    {
     "data": {
      "application/vnd.jupyter.widget-view+json": {
       "model_id": "2ef9ec6451af42f4b703f32ac714a51a",
       "version_major": 2,
       "version_minor": 0
      },
      "text/plain": [
       "Training:   0%|          | 0/46 [00:00<?, ?it/s]"
      ]
     },
     "metadata": {},
     "output_type": "display_data"
    },
    {
     "name": "stdout",
     "output_type": "stream",
     "text": [
      "Training Loss: 1.7871. Validation Loss: 3.2311.\n",
      "Training Accuracy: 0.4783. Validation Accuracy: 0.0980.\n",
      "-----------------------------------\n",
      "Epoch 16\n",
      "-----------------------------------\n"
     ]
    },
    {
     "data": {
      "application/vnd.jupyter.widget-view+json": {
       "model_id": "b016af7070864013a266247732009fc7",
       "version_major": 2,
       "version_minor": 0
      },
      "text/plain": [
       "Training:   0%|          | 0/46 [00:00<?, ?it/s]"
      ]
     },
     "metadata": {},
     "output_type": "display_data"
    },
    {
     "name": "stdout",
     "output_type": "stream",
     "text": [
      "Training Loss: 1.7414. Validation Loss: 3.3742.\n",
      "Training Accuracy: 0.4867. Validation Accuracy: 0.0948.\n",
      "-----------------------------------\n",
      "Epoch 17\n",
      "-----------------------------------\n"
     ]
    },
    {
     "data": {
      "application/vnd.jupyter.widget-view+json": {
       "model_id": "6e813d200a78483ebe90b1d2b7b06e16",
       "version_major": 2,
       "version_minor": 0
      },
      "text/plain": [
       "Training:   0%|          | 0/46 [00:00<?, ?it/s]"
      ]
     },
     "metadata": {},
     "output_type": "display_data"
    },
    {
     "name": "stdout",
     "output_type": "stream",
     "text": [
      "Training Loss: 3.0570. Validation Loss: 3.3700.\n",
      "Training Accuracy: 0.2290. Validation Accuracy: 0.0490.\n",
      "-----------------------------------\n",
      "Epoch 5\n",
      "-----------------------------------\n"
     ]
    },
    {
     "data": {
      "application/vnd.jupyter.widget-view+json": {
       "model_id": "1af361c70a1f4c87a739bbde552f863d",
       "version_major": 2,
       "version_minor": 0
      },
      "text/plain": [
       "Training:   0%|          | 0/46 [00:00<?, ?it/s]"
      ]
     },
     "metadata": {},
     "output_type": "display_data"
    },
    {
     "name": "stdout",
     "output_type": "stream",
     "text": [
      "Training Loss: 1.6926. Validation Loss: 3.3068.\n",
      "Training Accuracy: 0.5127. Validation Accuracy: 0.1111.\n",
      "-----------------------------------\n",
      "Epoch 18\n",
      "-----------------------------------\n"
     ]
    },
    {
     "data": {
      "application/vnd.jupyter.widget-view+json": {
       "model_id": "22989fa7dfa1404e984dd52fab95e913",
       "version_major": 2,
       "version_minor": 0
      },
      "text/plain": [
       "Training:   0%|          | 0/46 [00:00<?, ?it/s]"
      ]
     },
     "metadata": {},
     "output_type": "display_data"
    },
    {
     "name": "stdout",
     "output_type": "stream",
     "text": [
      "Training Loss: 1.6263. Validation Loss: 3.3356.\n",
      "Training Accuracy: 0.5172. Validation Accuracy: 0.0686.\n",
      "EARLY STOP E:18 L:3.3356\n",
      "Training Loss: 2.7850. Validation Loss: 3.3917.\n",
      "Training Accuracy: 0.2941. Validation Accuracy: 0.0817.\n",
      "-----------------------------------\n",
      "Epoch 6\n",
      "-----------------------------------\n"
     ]
    },
    {
     "data": {
      "application/vnd.jupyter.widget-view+json": {
       "model_id": "9483665edd47417d879bf1dd02d0c80b",
       "version_major": 2,
       "version_minor": 0
      },
      "text/plain": [
       "Training:   0%|          | 0/46 [00:00<?, ?it/s]"
      ]
     },
     "metadata": {},
     "output_type": "display_data"
    },
    {
     "name": "stderr",
     "output_type": "stream",
     "text": [
      "[I 2024-12-09 01:57:49,013] Trial 45 finished with value: 955.9239492416382 and parameters: {'kernel_size': 4096, 'stride': 256, 'fourier_size': 2048, 'enc_hidden': 64, 'dec_hidden': 256, 'lr': 0.001, 'step_size': 20, 'gamma': 0.01}. Best is trial 43 with value: 950.8865079879761.\n"
     ]
    },
    {
     "name": "stdout",
     "output_type": "stream",
     "text": [
      "-----------------------------------\n",
      "Epoch 1\n",
      "-----------------------------------\n"
     ]
    },
    {
     "data": {
      "application/vnd.jupyter.widget-view+json": {
       "model_id": "23911464910141b28ad31a2e4c6a7840",
       "version_major": 2,
       "version_minor": 0
      },
      "text/plain": [
       "Training:   0%|          | 0/46 [00:00<?, ?it/s]"
      ]
     },
     "metadata": {},
     "output_type": "display_data"
    },
    {
     "name": "stderr",
     "output_type": "stream",
     "text": [
      "[I 2024-12-09 01:58:38,903] Trial 48 pruned. \n"
     ]
    },
    {
     "name": "stdout",
     "output_type": "stream",
     "text": [
      "Training Loss: 3.7075. Validation Loss: 3.7453.\n",
      "Training Accuracy: 0.0351. Validation Accuracy: 0.0229.\n",
      "OPTUNA PRUNED E:1 L:3.7453\n",
      "-----------------------------------\n",
      "Epoch 1\n",
      "-----------------------------------\n"
     ]
    },
    {
     "data": {
      "application/vnd.jupyter.widget-view+json": {
       "model_id": "8d011926135447eaa455cab35d11564e",
       "version_major": 2,
       "version_minor": 0
      },
      "text/plain": [
       "Training:   0%|          | 0/46 [00:00<?, ?it/s]"
      ]
     },
     "metadata": {},
     "output_type": "display_data"
    },
    {
     "name": "stdout",
     "output_type": "stream",
     "text": [
      "Training Loss: 3.5257. Validation Loss: 3.4099.\n",
      "Training Accuracy: 0.0653. Validation Accuracy: 0.0490.\n",
      "-----------------------------------\n",
      "Epoch 2\n",
      "-----------------------------------\n"
     ]
    },
    {
     "data": {
      "application/vnd.jupyter.widget-view+json": {
       "model_id": "d452c9a91d4b49bb808e821454c6e0af",
       "version_major": 2,
       "version_minor": 0
      },
      "text/plain": [
       "Training:   0%|          | 0/46 [00:00<?, ?it/s]"
      ]
     },
     "metadata": {},
     "output_type": "display_data"
    },
    {
     "name": "stdout",
     "output_type": "stream",
     "text": [
      "Training Loss: 2.5930. Validation Loss: 3.2519.\n",
      "Training Accuracy: 0.3266. Validation Accuracy: 0.1046.\n",
      "-----------------------------------\n",
      "Epoch 7\n",
      "-----------------------------------\n"
     ]
    },
    {
     "data": {
      "application/vnd.jupyter.widget-view+json": {
       "model_id": "08a669837b6c4ee0b0910103f99766d7",
       "version_major": 2,
       "version_minor": 0
      },
      "text/plain": [
       "Training:   0%|          | 0/46 [00:00<?, ?it/s]"
      ]
     },
     "metadata": {},
     "output_type": "display_data"
    },
    {
     "name": "stdout",
     "output_type": "stream",
     "text": [
      "Training Loss: 3.3880. Validation Loss: 3.4359.\n",
      "Training Accuracy: 0.0752. Validation Accuracy: 0.0490.\n",
      "-----------------------------------\n",
      "Epoch 3\n",
      "-----------------------------------\n"
     ]
    },
    {
     "data": {
      "application/vnd.jupyter.widget-view+json": {
       "model_id": "7da4e06434b34af3848bff15367eda70",
       "version_major": 2,
       "version_minor": 0
      },
      "text/plain": [
       "Training:   0%|          | 0/46 [00:00<?, ?it/s]"
      ]
     },
     "metadata": {},
     "output_type": "display_data"
    },
    {
     "name": "stdout",
     "output_type": "stream",
     "text": [
      "Training Loss: 3.3888. Validation Loss: 3.4681.\n",
      "Training Accuracy: 0.0773. Validation Accuracy: 0.0392.\n",
      "-----------------------------------\n",
      "Epoch 4\n",
      "-----------------------------------\n"
     ]
    },
    {
     "data": {
      "application/vnd.jupyter.widget-view+json": {
       "model_id": "246dcba740b244839a36ae087f1947bf",
       "version_major": 2,
       "version_minor": 0
      },
      "text/plain": [
       "Training:   0%|          | 0/46 [00:00<?, ?it/s]"
      ]
     },
     "metadata": {},
     "output_type": "display_data"
    },
    {
     "name": "stdout",
     "output_type": "stream",
     "text": [
      "Training Loss: 2.4269. Validation Loss: 3.3455.\n",
      "Training Accuracy: 0.3523. Validation Accuracy: 0.1176.\n",
      "-----------------------------------\n",
      "Epoch 8\n",
      "-----------------------------------\n"
     ]
    },
    {
     "data": {
      "application/vnd.jupyter.widget-view+json": {
       "model_id": "63e5a20c0bdf4493ac21ea3540677e66",
       "version_major": 2,
       "version_minor": 0
      },
      "text/plain": [
       "Training:   0%|          | 0/46 [00:00<?, ?it/s]"
      ]
     },
     "metadata": {},
     "output_type": "display_data"
    },
    {
     "name": "stdout",
     "output_type": "stream",
     "text": [
      "Training Loss: 3.3827. Validation Loss: 3.4412.\n",
      "Training Accuracy: 0.0804. Validation Accuracy: 0.0490.\n",
      "-----------------------------------\n",
      "Epoch 5\n",
      "-----------------------------------\n"
     ]
    },
    {
     "data": {
      "application/vnd.jupyter.widget-view+json": {
       "model_id": "b08426862c3c4bdf83a67bbc56680e92",
       "version_major": 2,
       "version_minor": 0
      },
      "text/plain": [
       "Training:   0%|          | 0/46 [00:00<?, ?it/s]"
      ]
     },
     "metadata": {},
     "output_type": "display_data"
    },
    {
     "name": "stderr",
     "output_type": "stream",
     "text": [
      "[I 2024-12-09 02:01:38,536] Trial 49 pruned. \n"
     ]
    },
    {
     "name": "stdout",
     "output_type": "stream",
     "text": [
      "Training Loss: 3.3639. Validation Loss: 3.4528.\n",
      "Training Accuracy: 0.0780. Validation Accuracy: 0.0490.\n",
      "OPTUNA PRUNED E:5 L:3.4528\n",
      "Training Loss: 2.2902. Validation Loss: 3.5076.\n",
      "Training Accuracy: 0.3896. Validation Accuracy: 0.0817.\n",
      "-----------------------------------\n",
      "Epoch 9\n",
      "-----------------------------------\n"
     ]
    },
    {
     "data": {
      "application/vnd.jupyter.widget-view+json": {
       "model_id": "fc8dee3cdde7414684ac363d14494ee6",
       "version_major": 2,
       "version_minor": 0
      },
      "text/plain": [
       "Training:   0%|          | 0/46 [00:00<?, ?it/s]"
      ]
     },
     "metadata": {},
     "output_type": "display_data"
    },
    {
     "name": "stdout",
     "output_type": "stream",
     "text": [
      "Training Loss: 2.1849. Validation Loss: 3.3353.\n",
      "Training Accuracy: 0.3958. Validation Accuracy: 0.1078.\n",
      "-----------------------------------\n",
      "Epoch 10\n",
      "-----------------------------------\n"
     ]
    },
    {
     "data": {
      "application/vnd.jupyter.widget-view+json": {
       "model_id": "aaa80527e7264f2599474aad7dbcca75",
       "version_major": 2,
       "version_minor": 0
      },
      "text/plain": [
       "Training:   0%|          | 0/46 [00:00<?, ?it/s]"
      ]
     },
     "metadata": {},
     "output_type": "display_data"
    },
    {
     "name": "stdout",
     "output_type": "stream",
     "text": [
      "Training Loss: 2.1224. Validation Loss: 3.4796.\n",
      "Training Accuracy: 0.3988. Validation Accuracy: 0.0686.\n",
      "-----------------------------------\n",
      "Epoch 11\n",
      "-----------------------------------\n"
     ]
    },
    {
     "data": {
      "application/vnd.jupyter.widget-view+json": {
       "model_id": "fa568673ba1b48418c8421f4194e322e",
       "version_major": 2,
       "version_minor": 0
      },
      "text/plain": [
       "Training:   0%|          | 0/46 [00:00<?, ?it/s]"
      ]
     },
     "metadata": {},
     "output_type": "display_data"
    },
    {
     "name": "stdout",
     "output_type": "stream",
     "text": [
      "Training Loss: 2.0163. Validation Loss: 3.2408.\n",
      "Training Accuracy: 0.4318. Validation Accuracy: 0.1111.\n",
      "-----------------------------------\n",
      "Epoch 12\n",
      "-----------------------------------\n"
     ]
    },
    {
     "data": {
      "application/vnd.jupyter.widget-view+json": {
       "model_id": "32aa10acaa2c49d68fd4fe9ebd928020",
       "version_major": 2,
       "version_minor": 0
      },
      "text/plain": [
       "Training:   0%|          | 0/46 [00:00<?, ?it/s]"
      ]
     },
     "metadata": {},
     "output_type": "display_data"
    },
    {
     "name": "stdout",
     "output_type": "stream",
     "text": [
      "Training Loss: 1.9723. Validation Loss: 3.4372.\n",
      "Training Accuracy: 0.4372. Validation Accuracy: 0.0948.\n",
      "-----------------------------------\n",
      "Epoch 13\n",
      "-----------------------------------\n"
     ]
    },
    {
     "data": {
      "application/vnd.jupyter.widget-view+json": {
       "model_id": "fd16c0bf9617403e84ab436df5dc09ef",
       "version_major": 2,
       "version_minor": 0
      },
      "text/plain": [
       "Training:   0%|          | 0/46 [00:00<?, ?it/s]"
      ]
     },
     "metadata": {},
     "output_type": "display_data"
    },
    {
     "name": "stdout",
     "output_type": "stream",
     "text": [
      "Training Loss: 1.8971. Validation Loss: 3.4166.\n",
      "Training Accuracy: 0.4535. Validation Accuracy: 0.0915.\n",
      "-----------------------------------\n",
      "Epoch 14\n",
      "-----------------------------------\n"
     ]
    },
    {
     "data": {
      "application/vnd.jupyter.widget-view+json": {
       "model_id": "3c8343b51552475985d4f9df3181e65d",
       "version_major": 2,
       "version_minor": 0
      },
      "text/plain": [
       "Training:   0%|          | 0/46 [00:00<?, ?it/s]"
      ]
     },
     "metadata": {},
     "output_type": "display_data"
    },
    {
     "name": "stdout",
     "output_type": "stream",
     "text": [
      "Training Loss: 1.8676. Validation Loss: 3.2395.\n",
      "Training Accuracy: 0.4659. Validation Accuracy: 0.1144.\n",
      "-----------------------------------\n",
      "Epoch 15\n",
      "-----------------------------------\n"
     ]
    },
    {
     "data": {
      "application/vnd.jupyter.widget-view+json": {
       "model_id": "f17418cb9f6a46ebaa841895a4e067e4",
       "version_major": 2,
       "version_minor": 0
      },
      "text/plain": [
       "Training:   0%|          | 0/46 [00:00<?, ?it/s]"
      ]
     },
     "metadata": {},
     "output_type": "display_data"
    },
    {
     "name": "stdout",
     "output_type": "stream",
     "text": [
      "Training Loss: 1.8077. Validation Loss: 3.3654.\n",
      "Training Accuracy: 0.4702. Validation Accuracy: 0.0948.\n",
      "-----------------------------------\n",
      "Epoch 16\n",
      "-----------------------------------\n"
     ]
    },
    {
     "data": {
      "application/vnd.jupyter.widget-view+json": {
       "model_id": "23a5ba5fc29943528fa9441afec564ff",
       "version_major": 2,
       "version_minor": 0
      },
      "text/plain": [
       "Training:   0%|          | 0/46 [00:00<?, ?it/s]"
      ]
     },
     "metadata": {},
     "output_type": "display_data"
    },
    {
     "name": "stdout",
     "output_type": "stream",
     "text": [
      "Training Loss: 1.7574. Validation Loss: 3.2152.\n",
      "Training Accuracy: 0.4854. Validation Accuracy: 0.0752.\n",
      "-----------------------------------\n",
      "Epoch 17\n",
      "-----------------------------------\n"
     ]
    },
    {
     "data": {
      "application/vnd.jupyter.widget-view+json": {
       "model_id": "82e6f9207b3c4bc3afab4fae5706fe06",
       "version_major": 2,
       "version_minor": 0
      },
      "text/plain": [
       "Training:   0%|          | 0/46 [00:00<?, ?it/s]"
      ]
     },
     "metadata": {},
     "output_type": "display_data"
    },
    {
     "name": "stdout",
     "output_type": "stream",
     "text": [
      "Training Loss: 1.7050. Validation Loss: 3.2368.\n",
      "Training Accuracy: 0.4979. Validation Accuracy: 0.0915.\n",
      "-----------------------------------\n",
      "Epoch 18\n",
      "-----------------------------------\n"
     ]
    },
    {
     "data": {
      "application/vnd.jupyter.widget-view+json": {
       "model_id": "e9b8c3ae07154af1b91c9f0d46dbe947",
       "version_major": 2,
       "version_minor": 0
      },
      "text/plain": [
       "Training:   0%|          | 0/46 [00:00<?, ?it/s]"
      ]
     },
     "metadata": {},
     "output_type": "display_data"
    },
    {
     "name": "stdout",
     "output_type": "stream",
     "text": [
      "Training Loss: 1.6837. Validation Loss: 3.2861.\n",
      "Training Accuracy: 0.5086. Validation Accuracy: 0.0980.\n",
      "-----------------------------------\n",
      "Epoch 19\n",
      "-----------------------------------\n"
     ]
    },
    {
     "data": {
      "application/vnd.jupyter.widget-view+json": {
       "model_id": "ae86e3a067a54c69a90a3e60fbe023b1",
       "version_major": 2,
       "version_minor": 0
      },
      "text/plain": [
       "Training:   0%|          | 0/46 [00:00<?, ?it/s]"
      ]
     },
     "metadata": {},
     "output_type": "display_data"
    },
    {
     "name": "stdout",
     "output_type": "stream",
     "text": [
      "Training Loss: 1.6974. Validation Loss: 3.3006.\n",
      "Training Accuracy: 0.5022. Validation Accuracy: 0.1471.\n",
      "-----------------------------------\n",
      "Epoch 20\n",
      "-----------------------------------\n"
     ]
    },
    {
     "data": {
      "application/vnd.jupyter.widget-view+json": {
       "model_id": "07dc4fe9c5434b35af6b23a27aedcd90",
       "version_major": 2,
       "version_minor": 0
      },
      "text/plain": [
       "Training:   0%|          | 0/46 [00:00<?, ?it/s]"
      ]
     },
     "metadata": {},
     "output_type": "display_data"
    },
    {
     "name": "stdout",
     "output_type": "stream",
     "text": [
      "Training Loss: 1.6639. Validation Loss: 3.2272.\n",
      "Training Accuracy: 0.5067. Validation Accuracy: 0.1176.\n",
      "-----------------------------------\n",
      "Epoch 21\n",
      "-----------------------------------\n"
     ]
    },
    {
     "data": {
      "application/vnd.jupyter.widget-view+json": {
       "model_id": "c569ef65ee914ca39945b1ef05e6fc48",
       "version_major": 2,
       "version_minor": 0
      },
      "text/plain": [
       "Training:   0%|          | 0/46 [00:00<?, ?it/s]"
      ]
     },
     "metadata": {},
     "output_type": "display_data"
    },
    {
     "name": "stderr",
     "output_type": "stream",
     "text": [
      "[I 2024-12-09 02:06:28,355] Trial 47 finished with value: 983.8650407791138 and parameters: {'kernel_size': 4096, 'stride': 256, 'fourier_size': 2048, 'enc_hidden': 64, 'dec_hidden': 256, 'lr': 0.001, 'step_size': 20, 'gamma': 0.01}. Best is trial 43 with value: 950.8865079879761.\n"
     ]
    },
    {
     "name": "stdout",
     "output_type": "stream",
     "text": [
      "Training Loss: 1.6022. Validation Loss: 3.3338.\n",
      "Training Accuracy: 0.5270. Validation Accuracy: 0.0752.\n",
      "EARLY STOP E:21 L:3.3338\n",
      "DONE\n"
     ]
    }
   ],
   "source": [
    "output_folder = Path(\"notebooks/FourierS2S/griddy/\")\n",
    "\n",
    "solver_reference = hit_griddy(\"FourierS2S8192\", param_set=PARAM_SET, out_dir=output_folder, trial_metric=TrialMetric.LOSS, n_trials=50, n_jobs=2, prune=True, resume=False)"
   ]
  },
  {
   "cell_type": "code",
   "execution_count": 18,
   "metadata": {},
   "outputs": [
    {
     "name": "stdout",
     "output_type": "stream",
     "text": [
      "Trial 0:\n",
      "  Value: 90.90808868408203\n",
      "  Params: {'kernel_size': 1024, 'stride': 4096, 'fourier_size': 512, 'enc_hidden': 4, 'dec_hidden': 512, 'lr': 0.0001, 'step_size': 10, 'gamma': 0.01}\n",
      "\n",
      "Trial 1:\n",
      "  Value: 109.52500343322754\n",
      "  Params: {'kernel_size': 8192, 'stride': 1024, 'fourier_size': 128, 'enc_hidden': 4, 'dec_hidden': 16, 'lr': 0.0001, 'step_size': 10, 'gamma': 0.1}\n",
      "\n",
      "Trial 2:\n",
      "  Value: 96.9582188129425\n",
      "  Params: {'kernel_size': 8192, 'stride': 256, 'fourier_size': 4096, 'enc_hidden': 256, 'dec_hidden': 4, 'lr': 0.01, 'step_size': 10, 'gamma': 0.01}\n",
      "\n",
      "Trial 3:\n",
      "  Value: 78.18519234657288\n",
      "  Params: {'kernel_size': 4096, 'stride': 8192, 'fourier_size': 4096, 'enc_hidden': 64, 'dec_hidden': 256, 'lr': 0.1, 'step_size': 10, 'gamma': 0.1}\n",
      "\n",
      "Trial 4:\n",
      "  Value: 88.49106073379517\n",
      "  Params: {'kernel_size': 4096, 'stride': 8192, 'fourier_size': 128, 'enc_hidden': 16, 'dec_hidden': 4, 'lr': 0.01, 'step_size': 20, 'gamma': 0.1}\n",
      "\n",
      "Trial 5:\n",
      "  Value: 65.51632761955261\n",
      "  Params: {'kernel_size': 1024, 'stride': 256, 'fourier_size': 128, 'enc_hidden': 16, 'dec_hidden': 256, 'lr': 0.1, 'step_size': 20, 'gamma': 0.1}\n",
      "\n",
      "Trial 6:\n",
      "  Value: 80.59123873710632\n",
      "  Params: {'kernel_size': 2048, 'stride': 4096, 'fourier_size': 512, 'enc_hidden': 16, 'dec_hidden': 512, 'lr': 0.01, 'step_size': 20, 'gamma': 0.01}\n",
      "\n",
      "Trial 7:\n",
      "  Value: 83.11864972114563\n",
      "  Params: {'kernel_size': 512, 'stride': 8192, 'fourier_size': 512, 'enc_hidden': 4, 'dec_hidden': 512, 'lr': 0.01, 'step_size': 10, 'gamma': 0.01}\n",
      "\n",
      "Trial 8:\n",
      "  Value: 81.83567643165588\n",
      "  Params: {'kernel_size': 1024, 'stride': 1024, 'fourier_size': 4096, 'enc_hidden': 256, 'dec_hidden': 512, 'lr': 0.001, 'step_size': 20, 'gamma': 0.1}\n",
      "\n",
      "Trial 9:\n",
      "  Value: 102.18262076377869\n",
      "  Params: {'kernel_size': 2048, 'stride': 1024, 'fourier_size': 128, 'enc_hidden': 512, 'dec_hidden': 4, 'lr': 0.0001, 'step_size': 20, 'gamma': 0.01}\n",
      "\n",
      "Trial 10:\n",
      "  Value: 61.40483915805817\n",
      "  Params: {'kernel_size': 1024, 'stride': 256, 'fourier_size': 8192, 'enc_hidden': 16, 'dec_hidden': 256, 'lr': 0.1, 'step_size': 20, 'gamma': 0.1}\n",
      "\n",
      "Trial 11:\n",
      "  Value: 60.33701181411743\n",
      "  Params: {'kernel_size': 1024, 'stride': 256, 'fourier_size': 8192, 'enc_hidden': 16, 'dec_hidden': 256, 'lr': 0.1, 'step_size': 20, 'gamma': 0.1}\n",
      "\n",
      "Trial 12:\n",
      "  Value: 67.06101417541504\n",
      "  Params: {'kernel_size': 1024, 'stride': 512, 'fourier_size': 8192, 'enc_hidden': 16, 'dec_hidden': 64, 'lr': 0.1, 'step_size': 20, 'gamma': 0.1}\n",
      "\n",
      "Trial 13:\n",
      "  Value: 63.59140872955322\n",
      "  Params: {'kernel_size': 1024, 'stride': 256, 'fourier_size': 8192, 'enc_hidden': 16, 'dec_hidden': 256, 'lr': 0.05, 'step_size': 20, 'gamma': 0.1}\n",
      "\n",
      "Trial 14:\n",
      "  Value: 64.27189826965332\n",
      "  Params: {'kernel_size': 512, 'stride': 256, 'fourier_size': 2048, 'enc_hidden': 512, 'dec_hidden': 256, 'lr': 0.1, 'step_size': 20, 'gamma': 0.1}\n",
      "\n",
      "Trial 15:\n",
      "  Value: 60.5930757522583\n",
      "  Params: {'kernel_size': 1024, 'stride': 256, 'fourier_size': 8192, 'enc_hidden': 64, 'dec_hidden': 256, 'lr': 0.1, 'step_size': 20, 'gamma': 0.1}\n",
      "\n",
      "Trial 16:\n",
      "  Value: 84.66090798377991\n",
      "  Params: {'kernel_size': 1024, 'stride': 512, 'fourier_size': 8192, 'enc_hidden': 64, 'dec_hidden': 64, 'lr': 0.001, 'step_size': 20, 'gamma': 0.1}\n",
      "\n",
      "Trial 17:\n",
      "  Value: 81.22893691062927\n",
      "  Params: {'kernel_size': 1024, 'stride': 256, 'fourier_size': 8192, 'enc_hidden': 64, 'dec_hidden': 16, 'lr': 0.05, 'step_size': 20, 'gamma': 0.1}\n",
      "\n",
      "Trial 18:\n",
      "  Value: 62.65239775180817\n",
      "  Params: {'kernel_size': 2048, 'stride': 256, 'fourier_size': 2048, 'enc_hidden': 64, 'dec_hidden': 256, 'lr': 0.1, 'step_size': 20, 'gamma': 0.1}\n",
      "\n",
      "Trial 19:\n",
      "  Value: 67.99640774726868\n",
      "  Params: {'kernel_size': 512, 'stride': 256, 'fourier_size': 8192, 'enc_hidden': 64, 'dec_hidden': 256, 'lr': 0.1, 'step_size': 20, 'gamma': 0.1}\n",
      "\n"
     ]
    }
   ],
   "source": [
    "for trial in solver_reference.trials:\n",
    "    print(f\"Trial {trial.number}:\")\n",
    "    print(f\"  Value: {trial.value}\")\n",
    "    print(f\"  Params: {trial.params}\")\n",
    "    print()"
   ]
  },
  {
   "cell_type": "code",
   "execution_count": 17,
   "metadata": {},
   "outputs": [],
   "source": [
    "import optuna\n",
    "\n",
    "full_path = os.path.join(output_folder, \"my_study.db\")\n",
    "loaded_study = optuna.load_study(study_name=\"my_study\", storage=f\"sqlite:///{full_path}\")"
   ]
  },
  {
   "cell_type": "code",
   "execution_count": null,
   "metadata": {},
   "outputs": [
    {
     "name": "stdout",
     "output_type": "stream",
     "text": [
      "Trial 0:\n",
      "  Value: None\n",
      "  Params: {'kernel_size': 4096, 'stride': 1024, 'fourier_size': 2048, 'enc_hidden': 256, 'dec_hidden': 16, 'lr': 0.01, 'step_size': 10, 'gamma': 0.1}\n",
      "\n",
      "Trial 1:\n",
      "  Value: None\n",
      "  Params: {'kernel_size': 8192, 'stride': 4096, 'fourier_size': 128, 'enc_hidden': 256, 'dec_hidden': 512, 'lr': 0.0001, 'step_size': 20, 'gamma': 0.1}\n",
      "\n",
      "Trial 2:\n",
      "  Value: None\n",
      "  Params: {'kernel_size': 8192, 'stride': 4096, 'fourier_size': 8192, 'enc_hidden': 256, 'dec_hidden': 256, 'lr': 0.0001, 'step_size': 20, 'gamma': 0.1}\n",
      "\n",
      "Trial 3:\n",
      "  Value: None\n",
      "  Params: {'kernel_size': 8192, 'stride': 1024, 'fourier_size': 8192, 'enc_hidden': 64, 'dec_hidden': 512, 'lr': 0.05, 'step_size': 20, 'gamma': 0.1}\n",
      "\n",
      "Trial 4:\n",
      "  Value: None\n",
      "  Params: {'kernel_size': 1024, 'stride': 8192, 'fourier_size': 4096, 'enc_hidden': 256, 'dec_hidden': 256, 'lr': 0.1, 'step_size': 20, 'gamma': 0.01}\n",
      "\n",
      "Trial 5:\n",
      "  Value: None\n",
      "  Params: {'kernel_size': 512, 'stride': 1024, 'fourier_size': 2048, 'enc_hidden': 512, 'dec_hidden': 64, 'lr': 0.0001, 'step_size': 10, 'gamma': 0.1}\n",
      "\n",
      "Trial 6:\n",
      "  Value: None\n",
      "  Params: {'kernel_size': 512, 'stride': 8192, 'fourier_size': 2048, 'enc_hidden': 4, 'dec_hidden': 16, 'lr': 0.001, 'step_size': 10, 'gamma': 0.01}\n",
      "\n",
      "Trial 7:\n",
      "  Value: None\n",
      "  Params: {'kernel_size': 4096, 'stride': 1024, 'fourier_size': 4096, 'enc_hidden': 64, 'dec_hidden': 512, 'lr': 0.001, 'step_size': 10, 'gamma': 0.01}\n",
      "\n",
      "Trial 8:\n",
      "  Value: None\n",
      "  Params: {'kernel_size': 1024, 'stride': 512, 'fourier_size': 128, 'enc_hidden': 4, 'dec_hidden': 64, 'lr': 0.0001, 'step_size': 20, 'gamma': 0.01}\n",
      "\n",
      "Trial 9:\n",
      "  Value: None\n",
      "  Params: {'kernel_size': 4096, 'stride': 1024, 'fourier_size': 8192, 'enc_hidden': 256, 'dec_hidden': 4, 'lr': 0.001, 'step_size': 10, 'gamma': 0.01}\n",
      "\n",
      "Trial 10:\n",
      "  Value: None\n",
      "  Params: {'kernel_size': 1024, 'stride': 512, 'fourier_size': 2048, 'enc_hidden': 16, 'dec_hidden': 512, 'lr': 0.1, 'step_size': 10, 'gamma': 0.1}\n",
      "\n",
      "Trial 11:\n",
      "  Value: None\n",
      "  Params: {'kernel_size': 4096, 'stride': 512, 'fourier_size': 2048, 'enc_hidden': 16, 'dec_hidden': 512, 'lr': 0.1, 'step_size': 20, 'gamma': 0.1}\n",
      "\n",
      "Trial 12:\n",
      "  Value: None\n",
      "  Params: {'kernel_size': 1024, 'stride': 1024, 'fourier_size': 4096, 'enc_hidden': 256, 'dec_hidden': 64, 'lr': 0.001, 'step_size': 20, 'gamma': 0.01}\n",
      "\n",
      "Trial 13:\n",
      "  Value: None\n",
      "  Params: {'kernel_size': 8192, 'stride': 512, 'fourier_size': 512, 'enc_hidden': 4, 'dec_hidden': 4, 'lr': 0.05, 'step_size': 10, 'gamma': 0.1}\n",
      "\n",
      "Trial 14:\n",
      "  Value: None\n",
      "  Params: {'kernel_size': 1024, 'stride': 1024, 'fourier_size': 8192, 'enc_hidden': 4, 'dec_hidden': 256, 'lr': 0.001, 'step_size': 10, 'gamma': 0.01}\n",
      "\n",
      "Trial 15:\n",
      "  Value: None\n",
      "  Params: {'kernel_size': 8192, 'stride': 4096, 'fourier_size': 2048, 'enc_hidden': 256, 'dec_hidden': 4, 'lr': 0.01, 'step_size': 10, 'gamma': 0.01}\n",
      "\n",
      "Trial 16:\n",
      "  Value: None\n",
      "  Params: {'kernel_size': 8192, 'stride': 8192, 'fourier_size': 512, 'enc_hidden': 64, 'dec_hidden': 512, 'lr': 0.01, 'step_size': 20, 'gamma': 0.01}\n",
      "\n",
      "Trial 17:\n",
      "  Value: None\n",
      "  Params: {'kernel_size': 2048, 'stride': 512, 'fourier_size': 8192, 'enc_hidden': 64, 'dec_hidden': 4, 'lr': 0.001, 'step_size': 20, 'gamma': 0.1}\n",
      "\n",
      "Trial 18:\n",
      "  Value: None\n",
      "  Params: {'kernel_size': 2048, 'stride': 4096, 'fourier_size': 2048, 'enc_hidden': 512, 'dec_hidden': 64, 'lr': 0.0001, 'step_size': 20, 'gamma': 0.1}\n",
      "\n",
      "Trial 19:\n",
      "  Value: None\n",
      "  Params: {'kernel_size': 2048, 'stride': 4096, 'fourier_size': 4096, 'enc_hidden': 512, 'dec_hidden': 256, 'lr': 0.05, 'step_size': 10, 'gamma': 0.01}\n",
      "\n",
      "Trial 20:\n",
      "  Value: None\n",
      "  Params: {'kernel_size': 2048, 'stride': 256, 'fourier_size': 2048, 'enc_hidden': 16, 'dec_hidden': 256, 'lr': 0.01, 'step_size': 10, 'gamma': 0.01}\n",
      "\n",
      "Trial 21:\n",
      "  Value: None\n",
      "  Params: {'kernel_size': 1024, 'stride': 4096, 'fourier_size': 4096, 'enc_hidden': 16, 'dec_hidden': 256, 'lr': 0.1, 'step_size': 20, 'gamma': 0.01}\n",
      "\n",
      "Trial 22:\n",
      "  Value: None\n",
      "  Params: {'kernel_size': 1024, 'stride': 1024, 'fourier_size': 8192, 'enc_hidden': 16, 'dec_hidden': 4, 'lr': 0.1, 'step_size': 10, 'gamma': 0.01}\n",
      "\n",
      "Trial 23:\n",
      "  Value: None\n",
      "  Params: {'kernel_size': 4096, 'stride': 4096, 'fourier_size': 512, 'enc_hidden': 512, 'dec_hidden': 256, 'lr': 0.0001, 'step_size': 10, 'gamma': 0.1}\n",
      "\n",
      "Trial 24:\n",
      "  Value: None\n",
      "  Params: {'kernel_size': 1024, 'stride': 8192, 'fourier_size': 8192, 'enc_hidden': 4, 'dec_hidden': 512, 'lr': 0.05, 'step_size': 10, 'gamma': 0.1}\n",
      "\n",
      "Trial 25:\n",
      "  Value: None\n",
      "  Params: {'kernel_size': 1024, 'stride': 1024, 'fourier_size': 512, 'enc_hidden': 16, 'dec_hidden': 64, 'lr': 0.01, 'step_size': 20, 'gamma': 0.1}\n",
      "\n",
      "Trial 26:\n",
      "  Value: None\n",
      "  Params: {'kernel_size': 1024, 'stride': 4096, 'fourier_size': 8192, 'enc_hidden': 4, 'dec_hidden': 64, 'lr': 0.05, 'step_size': 10, 'gamma': 0.01}\n",
      "\n",
      "Trial 27:\n",
      "  Value: None\n",
      "  Params: {'kernel_size': 4096, 'stride': 512, 'fourier_size': 4096, 'enc_hidden': 256, 'dec_hidden': 4, 'lr': 0.05, 'step_size': 20, 'gamma': 0.01}\n",
      "\n",
      "Trial 28:\n",
      "  Value: None\n",
      "  Params: {'kernel_size': 1024, 'stride': 512, 'fourier_size': 512, 'enc_hidden': 512, 'dec_hidden': 64, 'lr': 0.1, 'step_size': 10, 'gamma': 0.01}\n",
      "\n",
      "Trial 29:\n",
      "  Value: None\n",
      "  Params: {'kernel_size': 8192, 'stride': 8192, 'fourier_size': 4096, 'enc_hidden': 64, 'dec_hidden': 256, 'lr': 0.0001, 'step_size': 10, 'gamma': 0.01}\n",
      "\n",
      "Trial 30:\n",
      "  Value: None\n",
      "  Params: {'kernel_size': 8192, 'stride': 256, 'fourier_size': 4096, 'enc_hidden': 256, 'dec_hidden': 64, 'lr': 0.0001, 'step_size': 10, 'gamma': 0.1}\n",
      "\n",
      "Trial 31:\n",
      "  Value: None\n",
      "  Params: {'kernel_size': 512, 'stride': 4096, 'fourier_size': 2048, 'enc_hidden': 512, 'dec_hidden': 16, 'lr': 0.0001, 'step_size': 20, 'gamma': 0.1}\n",
      "\n",
      "Trial 32:\n",
      "  Value: None\n",
      "  Params: {'kernel_size': 8192, 'stride': 512, 'fourier_size': 2048, 'enc_hidden': 16, 'dec_hidden': 512, 'lr': 0.0001, 'step_size': 10, 'gamma': 0.01}\n",
      "\n",
      "Trial 33:\n",
      "  Value: None\n",
      "  Params: {'kernel_size': 512, 'stride': 256, 'fourier_size': 8192, 'enc_hidden': 256, 'dec_hidden': 16, 'lr': 0.05, 'step_size': 20, 'gamma': 0.1}\n",
      "\n",
      "Trial 34:\n",
      "  Value: None\n",
      "  Params: {'kernel_size': 512, 'stride': 256, 'fourier_size': 2048, 'enc_hidden': 16, 'dec_hidden': 64, 'lr': 0.1, 'step_size': 10, 'gamma': 0.01}\n",
      "\n",
      "Trial 35:\n",
      "  Value: None\n",
      "  Params: {'kernel_size': 512, 'stride': 4096, 'fourier_size': 128, 'enc_hidden': 4, 'dec_hidden': 16, 'lr': 0.001, 'step_size': 20, 'gamma': 0.01}\n",
      "\n",
      "Trial 36:\n",
      "  Value: None\n",
      "  Params: {'kernel_size': 1024, 'stride': 512, 'fourier_size': 4096, 'enc_hidden': 16, 'dec_hidden': 4, 'lr': 0.001, 'step_size': 20, 'gamma': 0.01}\n",
      "\n",
      "Trial 37:\n",
      "  Value: None\n",
      "  Params: {'kernel_size': 8192, 'stride': 8192, 'fourier_size': 512, 'enc_hidden': 256, 'dec_hidden': 16, 'lr': 0.0001, 'step_size': 20, 'gamma': 0.01}\n",
      "\n",
      "Trial 38:\n",
      "  Value: None\n",
      "  Params: {'kernel_size': 512, 'stride': 1024, 'fourier_size': 128, 'enc_hidden': 64, 'dec_hidden': 256, 'lr': 0.001, 'step_size': 20, 'gamma': 0.1}\n",
      "\n",
      "Trial 39:\n",
      "  Value: None\n",
      "  Params: {'kernel_size': 2048, 'stride': 8192, 'fourier_size': 4096, 'enc_hidden': 512, 'dec_hidden': 16, 'lr': 0.0001, 'step_size': 20, 'gamma': 0.1}\n",
      "\n",
      "Trial 40:\n",
      "  Value: None\n",
      "  Params: {'kernel_size': 8192, 'stride': 256, 'fourier_size': 4096, 'enc_hidden': 64, 'dec_hidden': 16, 'lr': 0.05, 'step_size': 10, 'gamma': 0.01}\n",
      "\n",
      "Trial 41:\n",
      "  Value: None\n",
      "  Params: {'kernel_size': 1024, 'stride': 1024, 'fourier_size': 128, 'enc_hidden': 16, 'dec_hidden': 4, 'lr': 0.05, 'step_size': 10, 'gamma': 0.01}\n",
      "\n",
      "Trial 42:\n",
      "  Value: None\n",
      "  Params: {'kernel_size': 1024, 'stride': 4096, 'fourier_size': 4096, 'enc_hidden': 4, 'dec_hidden': 64, 'lr': 0.0001, 'step_size': 10, 'gamma': 0.01}\n",
      "\n",
      "Trial 43:\n",
      "  Value: None\n",
      "  Params: {'kernel_size': 4096, 'stride': 512, 'fourier_size': 128, 'enc_hidden': 512, 'dec_hidden': 4, 'lr': 0.01, 'step_size': 10, 'gamma': 0.1}\n",
      "\n",
      "Trial 44:\n",
      "  Value: None\n",
      "  Params: {'kernel_size': 2048, 'stride': 256, 'fourier_size': 4096, 'enc_hidden': 16, 'dec_hidden': 4, 'lr': 0.001, 'step_size': 10, 'gamma': 0.1}\n",
      "\n",
      "Trial 45:\n",
      "  Value: None\n",
      "  Params: {'kernel_size': 8192, 'stride': 512, 'fourier_size': 128, 'enc_hidden': 64, 'dec_hidden': 64, 'lr': 0.01, 'step_size': 10, 'gamma': 0.1}\n",
      "\n",
      "Trial 46:\n",
      "  Value: None\n",
      "  Params: {'kernel_size': 8192, 'stride': 512, 'fourier_size': 2048, 'enc_hidden': 16, 'dec_hidden': 256, 'lr': 0.0001, 'step_size': 10, 'gamma': 0.01}\n",
      "\n",
      "Trial 47:\n",
      "  Value: None\n",
      "  Params: {'kernel_size': 4096, 'stride': 256, 'fourier_size': 512, 'enc_hidden': 512, 'dec_hidden': 512, 'lr': 0.0001, 'step_size': 10, 'gamma': 0.1}\n",
      "\n",
      "Trial 48:\n",
      "  Value: None\n",
      "  Params: {'kernel_size': 1024, 'stride': 256, 'fourier_size': 4096, 'enc_hidden': 16, 'dec_hidden': 4, 'lr': 0.001, 'step_size': 10, 'gamma': 0.1}\n",
      "\n",
      "Trial 49:\n",
      "  Value: None\n",
      "  Params: {'kernel_size': 1024, 'stride': 4096, 'fourier_size': 2048, 'enc_hidden': 512, 'dec_hidden': 256, 'lr': 0.01, 'step_size': 10, 'gamma': 0.01}\n",
      "\n",
      "Trial 50:\n",
      "  Value: None\n",
      "  Params: {'kernel_size': 8192, 'stride': 512, 'fourier_size': 128, 'enc_hidden': 256, 'dec_hidden': 16, 'lr': 0.1, 'step_size': 20, 'gamma': 0.01}\n",
      "\n",
      "Trial 51:\n",
      "  Value: None\n",
      "  Params: {'kernel_size': 512, 'stride': 512, 'fourier_size': 512, 'enc_hidden': 64, 'dec_hidden': 64, 'lr': 0.05, 'step_size': 10, 'gamma': 0.01}\n",
      "\n",
      "Trial 52:\n",
      "  Value: None\n",
      "  Params: {'kernel_size': 1024, 'stride': 256, 'fourier_size': 4096, 'enc_hidden': 256, 'dec_hidden': 4, 'lr': 0.0001, 'step_size': 10, 'gamma': 0.01}\n",
      "\n",
      "Trial 53:\n",
      "  Value: None\n",
      "  Params: {'kernel_size': 8192, 'stride': 512, 'fourier_size': 512, 'enc_hidden': 512, 'dec_hidden': 64, 'lr': 0.1, 'step_size': 10, 'gamma': 0.01}\n",
      "\n",
      "Trial 54:\n",
      "  Value: None\n",
      "  Params: {'kernel_size': 8192, 'stride': 1024, 'fourier_size': 512, 'enc_hidden': 64, 'dec_hidden': 512, 'lr': 0.01, 'step_size': 10, 'gamma': 0.01}\n",
      "\n",
      "Trial 55:\n",
      "  Value: None\n",
      "  Params: {'kernel_size': 1024, 'stride': 256, 'fourier_size': 512, 'enc_hidden': 4, 'dec_hidden': 64, 'lr': 0.05, 'step_size': 10, 'gamma': 0.1}\n",
      "\n",
      "Trial 56:\n",
      "  Value: None\n",
      "  Params: {'kernel_size': 1024, 'stride': 8192, 'fourier_size': 128, 'enc_hidden': 4, 'dec_hidden': 4, 'lr': 0.01, 'step_size': 20, 'gamma': 0.1}\n",
      "\n",
      "Trial 57:\n",
      "  Value: None\n",
      "  Params: {'kernel_size': 2048, 'stride': 256, 'fourier_size': 128, 'enc_hidden': 16, 'dec_hidden': 64, 'lr': 0.0001, 'step_size': 10, 'gamma': 0.1}\n",
      "\n",
      "Trial 58:\n",
      "  Value: None\n",
      "  Params: {'kernel_size': 2048, 'stride': 1024, 'fourier_size': 128, 'enc_hidden': 512, 'dec_hidden': 4, 'lr': 0.1, 'step_size': 10, 'gamma': 0.01}\n",
      "\n",
      "Trial 59:\n",
      "  Value: None\n",
      "  Params: {'kernel_size': 1024, 'stride': 1024, 'fourier_size': 512, 'enc_hidden': 64, 'dec_hidden': 256, 'lr': 0.05, 'step_size': 20, 'gamma': 0.01}\n",
      "\n",
      "Trial 60:\n",
      "  Value: None\n",
      "  Params: {'kernel_size': 512, 'stride': 256, 'fourier_size': 128, 'enc_hidden': 4, 'dec_hidden': 16, 'lr': 0.0001, 'step_size': 20, 'gamma': 0.1}\n",
      "\n",
      "Trial 61:\n",
      "  Value: None\n",
      "  Params: {'kernel_size': 2048, 'stride': 1024, 'fourier_size': 8192, 'enc_hidden': 16, 'dec_hidden': 64, 'lr': 0.0001, 'step_size': 20, 'gamma': 0.1}\n",
      "\n",
      "Trial 62:\n",
      "  Value: None\n",
      "  Params: {'kernel_size': 8192, 'stride': 512, 'fourier_size': 2048, 'enc_hidden': 16, 'dec_hidden': 512, 'lr': 0.05, 'step_size': 10, 'gamma': 0.1}\n",
      "\n",
      "Trial 63:\n",
      "  Value: None\n",
      "  Params: {'kernel_size': 1024, 'stride': 1024, 'fourier_size': 4096, 'enc_hidden': 512, 'dec_hidden': 256, 'lr': 0.0001, 'step_size': 10, 'gamma': 0.01}\n",
      "\n",
      "Trial 64:\n",
      "  Value: None\n",
      "  Params: {'kernel_size': 8192, 'stride': 8192, 'fourier_size': 8192, 'enc_hidden': 16, 'dec_hidden': 16, 'lr': 0.01, 'step_size': 10, 'gamma': 0.01}\n",
      "\n",
      "Trial 65:\n",
      "  Value: None\n",
      "  Params: {'kernel_size': 512, 'stride': 8192, 'fourier_size': 2048, 'enc_hidden': 512, 'dec_hidden': 512, 'lr': 0.0001, 'step_size': 20, 'gamma': 0.1}\n",
      "\n",
      "Trial 66:\n",
      "  Value: None\n",
      "  Params: {'kernel_size': 512, 'stride': 1024, 'fourier_size': 512, 'enc_hidden': 256, 'dec_hidden': 256, 'lr': 0.0001, 'step_size': 10, 'gamma': 0.1}\n",
      "\n",
      "Trial 67:\n",
      "  Value: None\n",
      "  Params: {'kernel_size': 1024, 'stride': 1024, 'fourier_size': 8192, 'enc_hidden': 4, 'dec_hidden': 512, 'lr': 0.05, 'step_size': 20, 'gamma': 0.01}\n",
      "\n",
      "Trial 68:\n",
      "  Value: None\n",
      "  Params: {'kernel_size': 1024, 'stride': 256, 'fourier_size': 8192, 'enc_hidden': 4, 'dec_hidden': 512, 'lr': 0.05, 'step_size': 10, 'gamma': 0.1}\n",
      "\n",
      "Trial 69:\n",
      "  Value: None\n",
      "  Params: {'kernel_size': 512, 'stride': 256, 'fourier_size': 8192, 'enc_hidden': 256, 'dec_hidden': 16, 'lr': 0.0001, 'step_size': 20, 'gamma': 0.01}\n",
      "\n",
      "Trial 70:\n",
      "  Value: None\n",
      "  Params: {'kernel_size': 4096, 'stride': 256, 'fourier_size': 4096, 'enc_hidden': 512, 'dec_hidden': 256, 'lr': 0.001, 'step_size': 20, 'gamma': 0.1}\n",
      "\n",
      "Trial 71:\n",
      "  Value: None\n",
      "  Params: {'kernel_size': 4096, 'stride': 8192, 'fourier_size': 128, 'enc_hidden': 64, 'dec_hidden': 4, 'lr': 0.05, 'step_size': 20, 'gamma': 0.01}\n",
      "\n",
      "Trial 72:\n",
      "  Value: None\n",
      "  Params: {'kernel_size': 512, 'stride': 256, 'fourier_size': 4096, 'enc_hidden': 512, 'dec_hidden': 512, 'lr': 0.001, 'step_size': 10, 'gamma': 0.1}\n",
      "\n",
      "Trial 73:\n",
      "  Value: None\n",
      "  Params: {'kernel_size': 512, 'stride': 512, 'fourier_size': 512, 'enc_hidden': 4, 'dec_hidden': 64, 'lr': 0.0001, 'step_size': 10, 'gamma': 0.1}\n",
      "\n",
      "Trial 74:\n",
      "  Value: None\n",
      "  Params: {'kernel_size': 1024, 'stride': 256, 'fourier_size': 512, 'enc_hidden': 4, 'dec_hidden': 64, 'lr': 0.05, 'step_size': 20, 'gamma': 0.01}\n",
      "\n",
      "Trial 75:\n",
      "  Value: None\n",
      "  Params: {'kernel_size': 4096, 'stride': 8192, 'fourier_size': 2048, 'enc_hidden': 64, 'dec_hidden': 64, 'lr': 0.0001, 'step_size': 20, 'gamma': 0.1}\n",
      "\n",
      "Trial 76:\n",
      "  Value: None\n",
      "  Params: {'kernel_size': 512, 'stride': 256, 'fourier_size': 8192, 'enc_hidden': 64, 'dec_hidden': 4, 'lr': 0.01, 'step_size': 20, 'gamma': 0.1}\n",
      "\n",
      "Trial 77:\n",
      "  Value: None\n",
      "  Params: {'kernel_size': 1024, 'stride': 4096, 'fourier_size': 512, 'enc_hidden': 256, 'dec_hidden': 256, 'lr': 0.1, 'step_size': 20, 'gamma': 0.1}\n",
      "\n",
      "Trial 78:\n",
      "  Value: None\n",
      "  Params: {'kernel_size': 512, 'stride': 4096, 'fourier_size': 4096, 'enc_hidden': 512, 'dec_hidden': 64, 'lr': 0.05, 'step_size': 10, 'gamma': 0.01}\n",
      "\n",
      "Trial 79:\n",
      "  Value: None\n",
      "  Params: {'kernel_size': 2048, 'stride': 1024, 'fourier_size': 2048, 'enc_hidden': 16, 'dec_hidden': 512, 'lr': 0.001, 'step_size': 20, 'gamma': 0.1}\n",
      "\n",
      "Trial 80:\n",
      "  Value: None\n",
      "  Params: {'kernel_size': 1024, 'stride': 1024, 'fourier_size': 8192, 'enc_hidden': 4, 'dec_hidden': 64, 'lr': 0.01, 'step_size': 20, 'gamma': 0.1}\n",
      "\n",
      "Trial 81:\n",
      "  Value: None\n",
      "  Params: {'kernel_size': 512, 'stride': 1024, 'fourier_size': 4096, 'enc_hidden': 16, 'dec_hidden': 64, 'lr': 0.01, 'step_size': 10, 'gamma': 0.1}\n",
      "\n",
      "Trial 82:\n",
      "  Value: None\n",
      "  Params: {'kernel_size': 2048, 'stride': 256, 'fourier_size': 4096, 'enc_hidden': 64, 'dec_hidden': 16, 'lr': 0.0001, 'step_size': 20, 'gamma': 0.01}\n",
      "\n",
      "Trial 83:\n",
      "  Value: None\n",
      "  Params: {'kernel_size': 8192, 'stride': 4096, 'fourier_size': 2048, 'enc_hidden': 64, 'dec_hidden': 64, 'lr': 0.01, 'step_size': 10, 'gamma': 0.1}\n",
      "\n",
      "Trial 84:\n",
      "  Value: None\n",
      "  Params: {'kernel_size': 2048, 'stride': 512, 'fourier_size': 512, 'enc_hidden': 512, 'dec_hidden': 512, 'lr': 0.01, 'step_size': 20, 'gamma': 0.01}\n",
      "\n",
      "Trial 85:\n",
      "  Value: None\n",
      "  Params: {'kernel_size': 2048, 'stride': 8192, 'fourier_size': 2048, 'enc_hidden': 256, 'dec_hidden': 64, 'lr': 0.0001, 'step_size': 10, 'gamma': 0.1}\n",
      "\n",
      "Trial 86:\n",
      "  Value: None\n",
      "  Params: {'kernel_size': 8192, 'stride': 256, 'fourier_size': 512, 'enc_hidden': 64, 'dec_hidden': 4, 'lr': 0.001, 'step_size': 20, 'gamma': 0.1}\n",
      "\n",
      "Trial 87:\n",
      "  Value: None\n",
      "  Params: {'kernel_size': 4096, 'stride': 8192, 'fourier_size': 8192, 'enc_hidden': 4, 'dec_hidden': 64, 'lr': 0.001, 'step_size': 10, 'gamma': 0.01}\n",
      "\n",
      "Trial 88:\n",
      "  Value: None\n",
      "  Params: {'kernel_size': 2048, 'stride': 512, 'fourier_size': 8192, 'enc_hidden': 64, 'dec_hidden': 512, 'lr': 0.1, 'step_size': 10, 'gamma': 0.1}\n",
      "\n",
      "Trial 89:\n",
      "  Value: None\n",
      "  Params: {'kernel_size': 8192, 'stride': 8192, 'fourier_size': 4096, 'enc_hidden': 256, 'dec_hidden': 256, 'lr': 0.0001, 'step_size': 10, 'gamma': 0.01}\n",
      "\n",
      "Trial 90:\n",
      "  Value: None\n",
      "  Params: {'kernel_size': 8192, 'stride': 8192, 'fourier_size': 8192, 'enc_hidden': 512, 'dec_hidden': 256, 'lr': 0.05, 'step_size': 20, 'gamma': 0.01}\n",
      "\n",
      "Trial 91:\n",
      "  Value: None\n",
      "  Params: {'kernel_size': 512, 'stride': 8192, 'fourier_size': 8192, 'enc_hidden': 16, 'dec_hidden': 64, 'lr': 0.001, 'step_size': 20, 'gamma': 0.1}\n",
      "\n",
      "Trial 92:\n",
      "  Value: None\n",
      "  Params: {'kernel_size': 2048, 'stride': 4096, 'fourier_size': 4096, 'enc_hidden': 4, 'dec_hidden': 512, 'lr': 0.1, 'step_size': 10, 'gamma': 0.01}\n",
      "\n",
      "Trial 93:\n",
      "  Value: None\n",
      "  Params: {'kernel_size': 2048, 'stride': 1024, 'fourier_size': 128, 'enc_hidden': 64, 'dec_hidden': 4, 'lr': 0.1, 'step_size': 20, 'gamma': 0.1}\n",
      "\n",
      "Trial 94:\n",
      "  Value: None\n",
      "  Params: {'kernel_size': 512, 'stride': 8192, 'fourier_size': 2048, 'enc_hidden': 4, 'dec_hidden': 256, 'lr': 0.1, 'step_size': 10, 'gamma': 0.1}\n",
      "\n",
      "Trial 95:\n",
      "  Value: None\n",
      "  Params: {'kernel_size': 2048, 'stride': 8192, 'fourier_size': 4096, 'enc_hidden': 4, 'dec_hidden': 64, 'lr': 0.1, 'step_size': 10, 'gamma': 0.1}\n",
      "\n",
      "Trial 96:\n",
      "  Value: None\n",
      "  Params: {'kernel_size': 512, 'stride': 1024, 'fourier_size': 8192, 'enc_hidden': 256, 'dec_hidden': 512, 'lr': 0.001, 'step_size': 10, 'gamma': 0.01}\n",
      "\n",
      "Trial 97:\n",
      "  Value: None\n",
      "  Params: {'kernel_size': 2048, 'stride': 4096, 'fourier_size': 512, 'enc_hidden': 4, 'dec_hidden': 256, 'lr': 0.001, 'step_size': 20, 'gamma': 0.01}\n",
      "\n",
      "Trial 98:\n",
      "  Value: None\n",
      "  Params: {'kernel_size': 4096, 'stride': 8192, 'fourier_size': 512, 'enc_hidden': 64, 'dec_hidden': 4, 'lr': 0.0001, 'step_size': 20, 'gamma': 0.01}\n",
      "\n",
      "Trial 99:\n",
      "  Value: None\n",
      "  Params: {'kernel_size': 8192, 'stride': 512, 'fourier_size': 128, 'enc_hidden': 512, 'dec_hidden': 16, 'lr': 0.0001, 'step_size': 10, 'gamma': 0.01}\n",
      "\n",
      "Trial 100:\n",
      "  Value: None\n",
      "  Params: {'kernel_size': 1024, 'stride': 8192, 'fourier_size': 2048, 'enc_hidden': 512, 'dec_hidden': 256, 'lr': 0.001, 'step_size': 20, 'gamma': 0.1}\n",
      "\n",
      "Trial 101:\n",
      "  Value: None\n",
      "  Params: {'kernel_size': 2048, 'stride': 1024, 'fourier_size': 4096, 'enc_hidden': 16, 'dec_hidden': 4, 'lr': 0.0001, 'step_size': 10, 'gamma': 0.01}\n",
      "\n",
      "Trial 102:\n",
      "  Value: None\n",
      "  Params: {'kernel_size': 2048, 'stride': 512, 'fourier_size': 2048, 'enc_hidden': 256, 'dec_hidden': 256, 'lr': 0.01, 'step_size': 10, 'gamma': 0.01}\n",
      "\n",
      "Trial 103:\n",
      "  Value: None\n",
      "  Params: {'kernel_size': 1024, 'stride': 8192, 'fourier_size': 4096, 'enc_hidden': 64, 'dec_hidden': 256, 'lr': 0.01, 'step_size': 20, 'gamma': 0.1}\n",
      "\n",
      "Trial 104:\n",
      "  Value: None\n",
      "  Params: {'kernel_size': 4096, 'stride': 512, 'fourier_size': 2048, 'enc_hidden': 256, 'dec_hidden': 512, 'lr': 0.1, 'step_size': 10, 'gamma': 0.1}\n",
      "\n",
      "Trial 105:\n",
      "  Value: None\n",
      "  Params: {'kernel_size': 4096, 'stride': 512, 'fourier_size': 2048, 'enc_hidden': 4, 'dec_hidden': 256, 'lr': 0.1, 'step_size': 10, 'gamma': 0.1}\n",
      "\n",
      "Trial 106:\n",
      "  Value: None\n",
      "  Params: {'kernel_size': 8192, 'stride': 8192, 'fourier_size': 2048, 'enc_hidden': 256, 'dec_hidden': 64, 'lr': 0.001, 'step_size': 20, 'gamma': 0.01}\n",
      "\n",
      "Trial 107:\n",
      "  Value: None\n",
      "  Params: {'kernel_size': 8192, 'stride': 8192, 'fourier_size': 2048, 'enc_hidden': 256, 'dec_hidden': 512, 'lr': 0.05, 'step_size': 10, 'gamma': 0.1}\n",
      "\n",
      "Trial 108:\n",
      "  Value: None\n",
      "  Params: {'kernel_size': 2048, 'stride': 4096, 'fourier_size': 8192, 'enc_hidden': 64, 'dec_hidden': 512, 'lr': 0.001, 'step_size': 10, 'gamma': 0.1}\n",
      "\n",
      "Trial 109:\n",
      "  Value: None\n",
      "  Params: {'kernel_size': 512, 'stride': 512, 'fourier_size': 512, 'enc_hidden': 512, 'dec_hidden': 4, 'lr': 0.01, 'step_size': 10, 'gamma': 0.1}\n",
      "\n",
      "Trial 110:\n",
      "  Value: None\n",
      "  Params: {'kernel_size': 4096, 'stride': 1024, 'fourier_size': 8192, 'enc_hidden': 512, 'dec_hidden': 16, 'lr': 0.0001, 'step_size': 20, 'gamma': 0.1}\n",
      "\n",
      "Trial 111:\n",
      "  Value: None\n",
      "  Params: {'kernel_size': 2048, 'stride': 4096, 'fourier_size': 2048, 'enc_hidden': 512, 'dec_hidden': 16, 'lr': 0.0001, 'step_size': 20, 'gamma': 0.01}\n",
      "\n",
      "Trial 112:\n",
      "  Value: None\n",
      "  Params: {'kernel_size': 1024, 'stride': 256, 'fourier_size': 128, 'enc_hidden': 64, 'dec_hidden': 16, 'lr': 0.01, 'step_size': 20, 'gamma': 0.1}\n",
      "\n",
      "Trial 113:\n",
      "  Value: None\n",
      "  Params: {'kernel_size': 1024, 'stride': 512, 'fourier_size': 512, 'enc_hidden': 512, 'dec_hidden': 256, 'lr': 0.1, 'step_size': 20, 'gamma': 0.1}\n",
      "\n",
      "Trial 114:\n",
      "  Value: None\n",
      "  Params: {'kernel_size': 8192, 'stride': 4096, 'fourier_size': 128, 'enc_hidden': 16, 'dec_hidden': 512, 'lr': 0.01, 'step_size': 20, 'gamma': 0.01}\n",
      "\n",
      "Trial 115:\n",
      "  Value: None\n",
      "  Params: {'kernel_size': 1024, 'stride': 512, 'fourier_size': 512, 'enc_hidden': 512, 'dec_hidden': 512, 'lr': 0.001, 'step_size': 10, 'gamma': 0.01}\n",
      "\n",
      "Trial 116:\n",
      "  Value: None\n",
      "  Params: {'kernel_size': 1024, 'stride': 4096, 'fourier_size': 8192, 'enc_hidden': 512, 'dec_hidden': 16, 'lr': 0.05, 'step_size': 10, 'gamma': 0.1}\n",
      "\n",
      "Trial 117:\n",
      "  Value: None\n",
      "  Params: {'kernel_size': 1024, 'stride': 4096, 'fourier_size': 512, 'enc_hidden': 64, 'dec_hidden': 512, 'lr': 0.05, 'step_size': 10, 'gamma': 0.01}\n",
      "\n",
      "Trial 118:\n",
      "  Value: None\n",
      "  Params: {'kernel_size': 1024, 'stride': 1024, 'fourier_size': 4096, 'enc_hidden': 4, 'dec_hidden': 512, 'lr': 0.001, 'step_size': 10, 'gamma': 0.01}\n",
      "\n",
      "Trial 119:\n",
      "  Value: None\n",
      "  Params: {'kernel_size': 1024, 'stride': 512, 'fourier_size': 128, 'enc_hidden': 16, 'dec_hidden': 16, 'lr': 0.001, 'step_size': 20, 'gamma': 0.01}\n",
      "\n",
      "Trial 120:\n",
      "  Value: None\n",
      "  Params: {'kernel_size': 2048, 'stride': 512, 'fourier_size': 8192, 'enc_hidden': 512, 'dec_hidden': 16, 'lr': 0.0001, 'step_size': 10, 'gamma': 0.1}\n",
      "\n",
      "Trial 121:\n",
      "  Value: None\n",
      "  Params: {'kernel_size': 8192, 'stride': 256, 'fourier_size': 2048, 'enc_hidden': 512, 'dec_hidden': 256, 'lr': 0.01, 'step_size': 10, 'gamma': 0.01}\n",
      "\n",
      "Trial 122:\n",
      "  Value: None\n",
      "  Params: {'kernel_size': 2048, 'stride': 256, 'fourier_size': 128, 'enc_hidden': 512, 'dec_hidden': 512, 'lr': 0.05, 'step_size': 10, 'gamma': 0.1}\n",
      "\n",
      "Trial 123:\n",
      "  Value: None\n",
      "  Params: {'kernel_size': 4096, 'stride': 512, 'fourier_size': 128, 'enc_hidden': 256, 'dec_hidden': 256, 'lr': 0.01, 'step_size': 20, 'gamma': 0.1}\n",
      "\n",
      "Trial 124:\n",
      "  Value: None\n",
      "  Params: {'kernel_size': 4096, 'stride': 512, 'fourier_size': 4096, 'enc_hidden': 256, 'dec_hidden': 64, 'lr': 0.01, 'step_size': 10, 'gamma': 0.1}\n",
      "\n",
      "Trial 125:\n",
      "  Value: None\n",
      "  Params: {'kernel_size': 8192, 'stride': 8192, 'fourier_size': 4096, 'enc_hidden': 16, 'dec_hidden': 64, 'lr': 0.0001, 'step_size': 10, 'gamma': 0.01}\n",
      "\n",
      "Trial 126:\n",
      "  Value: None\n",
      "  Params: {'kernel_size': 1024, 'stride': 1024, 'fourier_size': 512, 'enc_hidden': 16, 'dec_hidden': 256, 'lr': 0.0001, 'step_size': 20, 'gamma': 0.01}\n",
      "\n",
      "Trial 127:\n",
      "  Value: None\n",
      "  Params: {'kernel_size': 8192, 'stride': 256, 'fourier_size': 8192, 'enc_hidden': 64, 'dec_hidden': 64, 'lr': 0.05, 'step_size': 10, 'gamma': 0.01}\n",
      "\n",
      "Trial 128:\n",
      "  Value: None\n",
      "  Params: {'kernel_size': 8192, 'stride': 512, 'fourier_size': 8192, 'enc_hidden': 64, 'dec_hidden': 64, 'lr': 0.001, 'step_size': 10, 'gamma': 0.1}\n",
      "\n",
      "Trial 129:\n",
      "  Value: None\n",
      "  Params: {'kernel_size': 4096, 'stride': 8192, 'fourier_size': 8192, 'enc_hidden': 16, 'dec_hidden': 256, 'lr': 0.0001, 'step_size': 10, 'gamma': 0.1}\n",
      "\n",
      "Trial 130:\n",
      "  Value: None\n",
      "  Params: {'kernel_size': 4096, 'stride': 1024, 'fourier_size': 8192, 'enc_hidden': 512, 'dec_hidden': 64, 'lr': 0.0001, 'step_size': 20, 'gamma': 0.01}\n",
      "\n",
      "Trial 131:\n",
      "  Value: None\n",
      "  Params: {'kernel_size': 4096, 'stride': 1024, 'fourier_size': 8192, 'enc_hidden': 16, 'dec_hidden': 16, 'lr': 0.05, 'step_size': 20, 'gamma': 0.01}\n",
      "\n",
      "Trial 132:\n",
      "  Value: None\n",
      "  Params: {'kernel_size': 8192, 'stride': 256, 'fourier_size': 512, 'enc_hidden': 16, 'dec_hidden': 256, 'lr': 0.001, 'step_size': 10, 'gamma': 0.01}\n",
      "\n",
      "Trial 133:\n",
      "  Value: None\n",
      "  Params: {'kernel_size': 8192, 'stride': 1024, 'fourier_size': 2048, 'enc_hidden': 256, 'dec_hidden': 256, 'lr': 0.1, 'step_size': 10, 'gamma': 0.1}\n",
      "\n",
      "Trial 134:\n",
      "  Value: None\n",
      "  Params: {'kernel_size': 1024, 'stride': 8192, 'fourier_size': 8192, 'enc_hidden': 64, 'dec_hidden': 64, 'lr': 0.001, 'step_size': 20, 'gamma': 0.1}\n",
      "\n",
      "Trial 135:\n",
      "  Value: None\n",
      "  Params: {'kernel_size': 4096, 'stride': 1024, 'fourier_size': 128, 'enc_hidden': 256, 'dec_hidden': 256, 'lr': 0.01, 'step_size': 10, 'gamma': 0.1}\n",
      "\n",
      "Trial 136:\n",
      "  Value: None\n",
      "  Params: {'kernel_size': 2048, 'stride': 1024, 'fourier_size': 8192, 'enc_hidden': 4, 'dec_hidden': 16, 'lr': 0.1, 'step_size': 20, 'gamma': 0.01}\n",
      "\n",
      "Trial 137:\n",
      "  Value: None\n",
      "  Params: {'kernel_size': 512, 'stride': 256, 'fourier_size': 512, 'enc_hidden': 512, 'dec_hidden': 4, 'lr': 0.05, 'step_size': 10, 'gamma': 0.01}\n",
      "\n",
      "Trial 138:\n",
      "  Value: None\n",
      "  Params: {'kernel_size': 512, 'stride': 8192, 'fourier_size': 2048, 'enc_hidden': 64, 'dec_hidden': 64, 'lr': 0.0001, 'step_size': 10, 'gamma': 0.01}\n",
      "\n",
      "Trial 139:\n",
      "  Value: None\n",
      "  Params: {'kernel_size': 2048, 'stride': 256, 'fourier_size': 128, 'enc_hidden': 16, 'dec_hidden': 16, 'lr': 0.1, 'step_size': 10, 'gamma': 0.01}\n",
      "\n",
      "Trial 140:\n",
      "  Value: None\n",
      "  Params: {'kernel_size': 8192, 'stride': 1024, 'fourier_size': 4096, 'enc_hidden': 4, 'dec_hidden': 16, 'lr': 0.0001, 'step_size': 10, 'gamma': 0.01}\n",
      "\n",
      "Trial 141:\n",
      "  Value: None\n",
      "  Params: {'kernel_size': 512, 'stride': 8192, 'fourier_size': 512, 'enc_hidden': 512, 'dec_hidden': 64, 'lr': 0.05, 'step_size': 10, 'gamma': 0.1}\n",
      "\n",
      "Trial 142:\n",
      "  Value: None\n",
      "  Params: {'kernel_size': 4096, 'stride': 4096, 'fourier_size': 8192, 'enc_hidden': 4, 'dec_hidden': 16, 'lr': 0.01, 'step_size': 10, 'gamma': 0.01}\n",
      "\n",
      "Trial 143:\n",
      "  Value: None\n",
      "  Params: {'kernel_size': 8192, 'stride': 512, 'fourier_size': 4096, 'enc_hidden': 64, 'dec_hidden': 64, 'lr': 0.0001, 'step_size': 20, 'gamma': 0.1}\n",
      "\n",
      "Trial 144:\n",
      "  Value: None\n",
      "  Params: {'kernel_size': 2048, 'stride': 8192, 'fourier_size': 128, 'enc_hidden': 16, 'dec_hidden': 256, 'lr': 0.0001, 'step_size': 10, 'gamma': 0.01}\n",
      "\n",
      "Trial 145:\n",
      "  Value: None\n",
      "  Params: {'kernel_size': 4096, 'stride': 1024, 'fourier_size': 8192, 'enc_hidden': 4, 'dec_hidden': 64, 'lr': 0.01, 'step_size': 20, 'gamma': 0.01}\n",
      "\n",
      "Trial 146:\n",
      "  Value: None\n",
      "  Params: {'kernel_size': 8192, 'stride': 8192, 'fourier_size': 128, 'enc_hidden': 64, 'dec_hidden': 256, 'lr': 0.0001, 'step_size': 20, 'gamma': 0.1}\n",
      "\n",
      "Trial 147:\n",
      "  Value: None\n",
      "  Params: {'kernel_size': 2048, 'stride': 4096, 'fourier_size': 512, 'enc_hidden': 512, 'dec_hidden': 16, 'lr': 0.05, 'step_size': 20, 'gamma': 0.01}\n",
      "\n",
      "Trial 148:\n",
      "  Value: None\n",
      "  Params: {'kernel_size': 1024, 'stride': 256, 'fourier_size': 4096, 'enc_hidden': 256, 'dec_hidden': 16, 'lr': 0.1, 'step_size': 20, 'gamma': 0.1}\n",
      "\n",
      "Trial 149:\n",
      "  Value: None\n",
      "  Params: {'kernel_size': 512, 'stride': 8192, 'fourier_size': 8192, 'enc_hidden': 512, 'dec_hidden': 16, 'lr': 0.0001, 'step_size': 10, 'gamma': 0.1}\n",
      "\n",
      "Trial 150:\n",
      "  Value: None\n",
      "  Params: {'kernel_size': 4096, 'stride': 1024, 'fourier_size': 4096, 'enc_hidden': 16, 'dec_hidden': 16, 'lr': 0.05, 'step_size': 20, 'gamma': 0.1}\n",
      "\n",
      "Trial 151:\n",
      "  Value: None\n",
      "  Params: {'kernel_size': 4096, 'stride': 512, 'fourier_size': 4096, 'enc_hidden': 64, 'dec_hidden': 64, 'lr': 0.1, 'step_size': 10, 'gamma': 0.1}\n",
      "\n",
      "Trial 152:\n",
      "  Value: None\n",
      "  Params: {'kernel_size': 512, 'stride': 512, 'fourier_size': 4096, 'enc_hidden': 64, 'dec_hidden': 16, 'lr': 0.001, 'step_size': 20, 'gamma': 0.01}\n",
      "\n",
      "Trial 153:\n",
      "  Value: None\n",
      "  Params: {'kernel_size': 1024, 'stride': 1024, 'fourier_size': 512, 'enc_hidden': 256, 'dec_hidden': 16, 'lr': 0.001, 'step_size': 20, 'gamma': 0.01}\n",
      "\n",
      "Trial 154:\n",
      "  Value: None\n",
      "  Params: {'kernel_size': 2048, 'stride': 1024, 'fourier_size': 4096, 'enc_hidden': 64, 'dec_hidden': 64, 'lr': 0.001, 'step_size': 20, 'gamma': 0.01}\n",
      "\n",
      "Trial 155:\n",
      "  Value: None\n",
      "  Params: {'kernel_size': 1024, 'stride': 256, 'fourier_size': 512, 'enc_hidden': 512, 'dec_hidden': 16, 'lr': 0.001, 'step_size': 20, 'gamma': 0.1}\n",
      "\n",
      "Trial 156:\n",
      "  Value: None\n",
      "  Params: {'kernel_size': 8192, 'stride': 8192, 'fourier_size': 4096, 'enc_hidden': 16, 'dec_hidden': 512, 'lr': 0.001, 'step_size': 20, 'gamma': 0.01}\n",
      "\n",
      "Trial 157:\n",
      "  Value: None\n",
      "  Params: {'kernel_size': 8192, 'stride': 512, 'fourier_size': 128, 'enc_hidden': 16, 'dec_hidden': 16, 'lr': 0.05, 'step_size': 10, 'gamma': 0.01}\n",
      "\n",
      "Trial 158:\n",
      "  Value: None\n",
      "  Params: {'kernel_size': 512, 'stride': 8192, 'fourier_size': 8192, 'enc_hidden': 64, 'dec_hidden': 64, 'lr': 0.0001, 'step_size': 20, 'gamma': 0.1}\n",
      "\n",
      "Trial 159:\n",
      "  Value: None\n",
      "  Params: {'kernel_size': 512, 'stride': 4096, 'fourier_size': 2048, 'enc_hidden': 16, 'dec_hidden': 16, 'lr': 0.0001, 'step_size': 20, 'gamma': 0.1}\n",
      "\n",
      "Trial 160:\n",
      "  Value: None\n",
      "  Params: {'kernel_size': 1024, 'stride': 256, 'fourier_size': 4096, 'enc_hidden': 512, 'dec_hidden': 16, 'lr': 0.1, 'step_size': 20, 'gamma': 0.1}\n",
      "\n",
      "Trial 161:\n",
      "  Value: None\n",
      "  Params: {'kernel_size': 8192, 'stride': 256, 'fourier_size': 4096, 'enc_hidden': 512, 'dec_hidden': 256, 'lr': 0.01, 'step_size': 20, 'gamma': 0.1}\n",
      "\n",
      "Trial 162:\n",
      "  Value: None\n",
      "  Params: {'kernel_size': 1024, 'stride': 4096, 'fourier_size': 4096, 'enc_hidden': 64, 'dec_hidden': 4, 'lr': 0.001, 'step_size': 20, 'gamma': 0.01}\n",
      "\n",
      "Trial 163:\n",
      "  Value: None\n",
      "  Params: {'kernel_size': 512, 'stride': 512, 'fourier_size': 4096, 'enc_hidden': 64, 'dec_hidden': 512, 'lr': 0.001, 'step_size': 20, 'gamma': 0.1}\n",
      "\n",
      "Trial 164:\n",
      "  Value: None\n",
      "  Params: {'kernel_size': 512, 'stride': 8192, 'fourier_size': 512, 'enc_hidden': 256, 'dec_hidden': 4, 'lr': 0.001, 'step_size': 20, 'gamma': 0.01}\n",
      "\n",
      "Trial 165:\n",
      "  Value: None\n",
      "  Params: {'kernel_size': 4096, 'stride': 512, 'fourier_size': 2048, 'enc_hidden': 16, 'dec_hidden': 64, 'lr': 0.001, 'step_size': 10, 'gamma': 0.01}\n",
      "\n",
      "Trial 166:\n",
      "  Value: None\n",
      "  Params: {'kernel_size': 8192, 'stride': 8192, 'fourier_size': 512, 'enc_hidden': 16, 'dec_hidden': 256, 'lr': 0.1, 'step_size': 20, 'gamma': 0.01}\n",
      "\n",
      "Trial 167:\n",
      "  Value: None\n",
      "  Params: {'kernel_size': 512, 'stride': 4096, 'fourier_size': 512, 'enc_hidden': 512, 'dec_hidden': 16, 'lr': 0.05, 'step_size': 20, 'gamma': 0.01}\n",
      "\n",
      "Trial 168:\n",
      "  Value: None\n",
      "  Params: {'kernel_size': 512, 'stride': 512, 'fourier_size': 4096, 'enc_hidden': 16, 'dec_hidden': 4, 'lr': 0.0001, 'step_size': 10, 'gamma': 0.1}\n",
      "\n",
      "Trial 169:\n",
      "  Value: None\n",
      "  Params: {'kernel_size': 4096, 'stride': 256, 'fourier_size': 512, 'enc_hidden': 512, 'dec_hidden': 16, 'lr': 0.1, 'step_size': 20, 'gamma': 0.01}\n",
      "\n",
      "Trial 170:\n",
      "  Value: None\n",
      "  Params: {'kernel_size': 512, 'stride': 1024, 'fourier_size': 128, 'enc_hidden': 16, 'dec_hidden': 256, 'lr': 0.01, 'step_size': 20, 'gamma': 0.1}\n",
      "\n",
      "Trial 171:\n",
      "  Value: None\n",
      "  Params: {'kernel_size': 2048, 'stride': 512, 'fourier_size': 128, 'enc_hidden': 64, 'dec_hidden': 256, 'lr': 0.05, 'step_size': 10, 'gamma': 0.1}\n",
      "\n",
      "Trial 172:\n",
      "  Value: None\n",
      "  Params: {'kernel_size': 4096, 'stride': 512, 'fourier_size': 128, 'enc_hidden': 256, 'dec_hidden': 4, 'lr': 0.0001, 'step_size': 20, 'gamma': 0.1}\n",
      "\n",
      "Trial 173:\n",
      "  Value: None\n",
      "  Params: {'kernel_size': 2048, 'stride': 4096, 'fourier_size': 8192, 'enc_hidden': 512, 'dec_hidden': 256, 'lr': 0.1, 'step_size': 10, 'gamma': 0.1}\n",
      "\n",
      "Trial 174:\n",
      "  Value: None\n",
      "  Params: {'kernel_size': 512, 'stride': 1024, 'fourier_size': 4096, 'enc_hidden': 512, 'dec_hidden': 512, 'lr': 0.01, 'step_size': 20, 'gamma': 0.1}\n",
      "\n",
      "Trial 175:\n",
      "  Value: None\n",
      "  Params: {'kernel_size': 512, 'stride': 1024, 'fourier_size': 8192, 'enc_hidden': 16, 'dec_hidden': 16, 'lr': 0.1, 'step_size': 10, 'gamma': 0.01}\n",
      "\n",
      "Trial 176:\n",
      "  Value: None\n",
      "  Params: {'kernel_size': 512, 'stride': 256, 'fourier_size': 128, 'enc_hidden': 16, 'dec_hidden': 256, 'lr': 0.001, 'step_size': 10, 'gamma': 0.1}\n",
      "\n",
      "Trial 177:\n",
      "  Value: None\n",
      "  Params: {'kernel_size': 2048, 'stride': 8192, 'fourier_size': 512, 'enc_hidden': 16, 'dec_hidden': 4, 'lr': 0.0001, 'step_size': 10, 'gamma': 0.1}\n",
      "\n",
      "Trial 178:\n",
      "  Value: None\n",
      "  Params: {'kernel_size': 1024, 'stride': 512, 'fourier_size': 4096, 'enc_hidden': 16, 'dec_hidden': 256, 'lr': 0.1, 'step_size': 20, 'gamma': 0.1}\n",
      "\n",
      "Trial 179:\n",
      "  Value: None\n",
      "  Params: {'kernel_size': 2048, 'stride': 512, 'fourier_size': 4096, 'enc_hidden': 4, 'dec_hidden': 64, 'lr': 0.1, 'step_size': 20, 'gamma': 0.1}\n",
      "\n",
      "Trial 180:\n",
      "  Value: None\n",
      "  Params: {'kernel_size': 1024, 'stride': 4096, 'fourier_size': 2048, 'enc_hidden': 512, 'dec_hidden': 256, 'lr': 0.001, 'step_size': 10, 'gamma': 0.01}\n",
      "\n",
      "Trial 181:\n",
      "  Value: None\n",
      "  Params: {'kernel_size': 512, 'stride': 512, 'fourier_size': 2048, 'enc_hidden': 64, 'dec_hidden': 256, 'lr': 0.001, 'step_size': 10, 'gamma': 0.01}\n",
      "\n",
      "Trial 182:\n",
      "  Value: None\n",
      "  Params: {'kernel_size': 8192, 'stride': 4096, 'fourier_size': 512, 'enc_hidden': 512, 'dec_hidden': 256, 'lr': 0.001, 'step_size': 10, 'gamma': 0.01}\n",
      "\n",
      "Trial 183:\n",
      "  Value: None\n",
      "  Params: {'kernel_size': 1024, 'stride': 512, 'fourier_size': 8192, 'enc_hidden': 512, 'dec_hidden': 64, 'lr': 0.001, 'step_size': 20, 'gamma': 0.01}\n",
      "\n",
      "Trial 184:\n",
      "  Value: None\n",
      "  Params: {'kernel_size': 2048, 'stride': 256, 'fourier_size': 2048, 'enc_hidden': 256, 'dec_hidden': 4, 'lr': 0.01, 'step_size': 10, 'gamma': 0.1}\n",
      "\n",
      "Trial 185:\n",
      "  Value: None\n",
      "  Params: {'kernel_size': 8192, 'stride': 8192, 'fourier_size': 4096, 'enc_hidden': 16, 'dec_hidden': 512, 'lr': 0.1, 'step_size': 20, 'gamma': 0.01}\n",
      "\n",
      "Trial 186:\n",
      "  Value: None\n",
      "  Params: {'kernel_size': 2048, 'stride': 4096, 'fourier_size': 8192, 'enc_hidden': 4, 'dec_hidden': 256, 'lr': 0.0001, 'step_size': 10, 'gamma': 0.01}\n",
      "\n",
      "Trial 187:\n",
      "  Value: None\n",
      "  Params: {'kernel_size': 1024, 'stride': 1024, 'fourier_size': 8192, 'enc_hidden': 4, 'dec_hidden': 16, 'lr': 0.1, 'step_size': 10, 'gamma': 0.01}\n",
      "\n",
      "Trial 188:\n",
      "  Value: None\n",
      "  Params: {'kernel_size': 8192, 'stride': 4096, 'fourier_size': 4096, 'enc_hidden': 64, 'dec_hidden': 64, 'lr': 0.0001, 'step_size': 20, 'gamma': 0.01}\n",
      "\n",
      "Trial 189:\n",
      "  Value: None\n",
      "  Params: {'kernel_size': 4096, 'stride': 4096, 'fourier_size': 512, 'enc_hidden': 512, 'dec_hidden': 16, 'lr': 0.001, 'step_size': 10, 'gamma': 0.01}\n",
      "\n",
      "Trial 190:\n",
      "  Value: None\n",
      "  Params: {'kernel_size': 4096, 'stride': 4096, 'fourier_size': 8192, 'enc_hidden': 16, 'dec_hidden': 256, 'lr': 0.0001, 'step_size': 20, 'gamma': 0.1}\n",
      "\n",
      "Trial 191:\n",
      "  Value: None\n",
      "  Params: {'kernel_size': 2048, 'stride': 1024, 'fourier_size': 2048, 'enc_hidden': 512, 'dec_hidden': 16, 'lr': 0.05, 'step_size': 10, 'gamma': 0.1}\n",
      "\n",
      "Trial 192:\n",
      "  Value: None\n",
      "  Params: {'kernel_size': 2048, 'stride': 4096, 'fourier_size': 2048, 'enc_hidden': 4, 'dec_hidden': 16, 'lr': 0.01, 'step_size': 10, 'gamma': 0.1}\n",
      "\n",
      "Trial 193:\n",
      "  Value: None\n",
      "  Params: {'kernel_size': 8192, 'stride': 256, 'fourier_size': 8192, 'enc_hidden': 16, 'dec_hidden': 512, 'lr': 0.01, 'step_size': 10, 'gamma': 0.01}\n",
      "\n",
      "Trial 194:\n",
      "  Value: None\n",
      "  Params: {'kernel_size': 1024, 'stride': 8192, 'fourier_size': 128, 'enc_hidden': 64, 'dec_hidden': 64, 'lr': 0.05, 'step_size': 10, 'gamma': 0.01}\n",
      "\n",
      "Trial 195:\n",
      "  Value: None\n",
      "  Params: {'kernel_size': 4096, 'stride': 4096, 'fourier_size': 8192, 'enc_hidden': 16, 'dec_hidden': 4, 'lr': 0.0001, 'step_size': 20, 'gamma': 0.1}\n",
      "\n",
      "Trial 196:\n",
      "  Value: None\n",
      "  Params: {'kernel_size': 1024, 'stride': 4096, 'fourier_size': 512, 'enc_hidden': 256, 'dec_hidden': 64, 'lr': 0.1, 'step_size': 20, 'gamma': 0.1}\n",
      "\n",
      "Trial 197:\n",
      "  Value: None\n",
      "  Params: {'kernel_size': 4096, 'stride': 4096, 'fourier_size': 4096, 'enc_hidden': 512, 'dec_hidden': 16, 'lr': 0.05, 'step_size': 10, 'gamma': 0.01}\n",
      "\n",
      "Trial 198:\n",
      "  Value: None\n",
      "  Params: {'kernel_size': 4096, 'stride': 4096, 'fourier_size': 512, 'enc_hidden': 64, 'dec_hidden': 64, 'lr': 0.1, 'step_size': 10, 'gamma': 0.01}\n",
      "\n",
      "Trial 199:\n",
      "  Value: None\n",
      "  Params: {'kernel_size': 2048, 'stride': 256, 'fourier_size': 128, 'enc_hidden': 16, 'dec_hidden': 4, 'lr': 0.001, 'step_size': 20, 'gamma': 0.1}\n",
      "\n"
     ]
    }
   ],
   "source": []
  },
  {
   "cell_type": "code",
   "execution_count": null,
   "metadata": {},
   "outputs": [],
   "source": []
  }
 ],
 "metadata": {
  "kernelspec": {
   "display_name": "amadeus-ex-machina",
   "language": "python",
   "name": "python3"
  },
  "language_info": {
   "codemirror_mode": {
    "name": "ipython",
    "version": 3
   },
   "file_extension": ".py",
   "mimetype": "text/x-python",
   "name": "python",
   "nbconvert_exporter": "python",
   "pygments_lexer": "ipython3",
   "version": "3.11.0"
  }
 },
 "nbformat": 4,
 "nbformat_minor": 2
}
