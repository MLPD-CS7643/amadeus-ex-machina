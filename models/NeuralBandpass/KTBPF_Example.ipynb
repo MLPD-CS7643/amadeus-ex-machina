{
 "cells": [
  {
   "cell_type": "code",
   "execution_count": null,
   "metadata": {},
   "outputs": [],
   "source": [
    "# Create the layer\n",
    "filter_layer = KeytrackingBandpassFilter(\n",
    "    sample_rate=44100,\n",
    "    min_lowpass_freq=0,\n",
    "    max_lowpass_freq=60,\n",
    "    min_highpass_freq=2000,\n",
    "    max_highpass_freq=20000,\n",
    "    learnable=True\n",
    ")\n",
    "\n",
    "# Add it to your network\n",
    "class ChordTranscriptionModel(nn.Module):\n",
    "    def __init__(self):\n",
    "        super().__init__()\n",
    "        self.filter_layer = KeytrackingBandpassFilter()\n",
    "        # Rest of your network...\n",
    "        \n",
    "    def forward(self, x):\n",
    "        x = self.filter_layer(x)\n",
    "        # Rest of your forward pass..."
   ]
  }
 ],
 "metadata": {
  "language_info": {
   "name": "python"
  }
 },
 "nbformat": 4,
 "nbformat_minor": 2
}
