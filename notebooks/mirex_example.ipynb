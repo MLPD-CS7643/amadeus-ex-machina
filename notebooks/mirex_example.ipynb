{
 "cells": [
  {
   "cell_type": "code",
   "execution_count": null,
   "metadata": {},
   "outputs": [],
   "source": [
    "%load_ext autoreload\n",
    "%autoreload 2\n",
    "\n",
    "# System imports\n",
    "import sys\n",
    "import os\n",
    "\n",
    "# Add the parent directory of 'notebooks' to sys.path\n",
    "parent_dir = os.path.abspath(os.path.join(os.getcwd(), \"..\"))  # Move one level up\n",
    "if parent_dir not in sys.path:\n",
    "    sys.path.append(parent_dir)\n",
    "\n",
    "from data.data_loader import MirDataProcessor\n",
    "from utils.model_utils import get_device"
   ]
  },
  {
   "cell_type": "code",
   "execution_count": null,
   "metadata": {},
   "outputs": [],
   "source": [
    "device = get_device()\n",
    "print(f\"Device is {device}\")"
   ]
  },
  {
   "cell_type": "markdown",
   "metadata": {},
   "source": [
    "### Example for majmin7inv using separated root and chord_class datasets"
   ]
  },
  {
   "cell_type": "code",
   "execution_count": null,
   "metadata": {},
   "outputs": [],
   "source": [
    "# chord_vocab options: 'full', 'majmin', 'majmininv', 'majmin7', 'majmin7inv'"
   ]
  },
  {
   "cell_type": "code",
   "execution_count": null,
   "metadata": {},
   "outputs": [],
   "source": [
    "# If you have already ran the downloader, change the value of download to False\n",
    "download = False\n",
    "\n",
    "# Reprocess for different dataset type while bypassing download\n",
    "reprocess = True\n",
    "\n",
    "# Download and build useable train/test data out of the MIR Billboard dataset\n",
    "data_processer = MirDataProcessor(output_dir=None, download=download, batch_size=64) # your notebook should be in its own directory to begin with, this should create the \"data\" folder inside that\n",
    "if download:\n",
    "    data_processer.process_billboard_data(log_fail_only=False) # you may need to reprocess the downloaded data into sequential or tabular based on your model\n",
    "if reprocess:\n",
    "    data_processer.dataset.download(partial_download=['metadata'])\n",
    "    data_processer.process_billboard_data(combined_notation=False, chord_vocab='majmin7inv', log_fail_only=False)\n",
    "    # combined notation is standard billboard notation (C:maj), setting False creates separate CSVs for root and chord_class\n",
    "\n",
    "# dataset options: 'combined', 'root', 'chord_class'\n",
    "root_train_loader, root_test_loader, root_num_classes = data_processer.build_data_loaders(device=device, dataset='root', nrows=None) # set nrows to shrink dataset for testing\n",
    "chord_train_loader, chord_test_loader, chord_num_classes = data_processer.build_data_loaders(device=device, dataset='chord_class', nrows=None) # set nrows to shrink dataset for testing\n",
    "\n",
    "print(f\"Number of root classes: {root_num_classes}\")\n",
    "print(f\"Number of chord classes: {chord_num_classes}\")"
   ]
  },
  {
   "cell_type": "markdown",
   "metadata": {},
   "source": [
    "### Example for majmin7inv using regular combined notation"
   ]
  },
  {
   "cell_type": "code",
   "execution_count": null,
   "metadata": {},
   "outputs": [],
   "source": [
    "# If you have already ran the downloader, change the value of download to False\n",
    "download = False\n",
    "\n",
    "# Reprocess for different dataset type while bypassing download\n",
    "reprocess = True\n",
    "\n",
    "# Download and build useable train/test data out of the MIR Billboard dataset\n",
    "data_processer = MirDataProcessor(output_dir=None, download=download, batch_size=64) # your notebook should be in its own directory to begin with, this should create the \"data\" folder inside that\n",
    "if download:\n",
    "    data_processer.process_billboard_data(log_fail_only=False) # you may need to reprocess the downloaded data into sequential or tabular based on your model\n",
    "if reprocess:\n",
    "    data_processer.dataset.download(partial_download=['metadata'])\n",
    "    data_processer.process_billboard_data(combined_notation=True, chord_vocab='majmin7inv', log_fail_only=False)\n",
    "    # combined notation is standard billboard notation (C:maj), setting False creates separate CSVs for root and chord_class\n",
    "\n",
    "# dataset options: 'combined', 'root', 'chord_class'\n",
    "train_loader, test_loader, num_classes = data_processer.build_data_loaders(device=device, dataset='combined', nrows=None) # set nrows to shrink dataset for testing\n",
    "\n",
    "print(f\"Number of classes: {num_classes}\")"
   ]
  }
 ],
 "metadata": {
  "kernelspec": {
   "display_name": "amadeus-ex-machina",
   "language": "python",
   "name": "python3"
  },
  "language_info": {
   "name": "python",
   "version": "3.11.0"
  }
 },
 "nbformat": 4,
 "nbformat_minor": 2
}
