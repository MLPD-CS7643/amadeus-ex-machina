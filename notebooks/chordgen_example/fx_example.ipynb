{
 "cells": [
  {
   "cell_type": "code",
   "execution_count": 1,
   "metadata": {},
   "outputs": [],
   "source": [
    "\n",
    "from pathlib import Path\n",
    "import os\n",
    "import sys\n",
    "parent_dir = os.path.abspath(os.path.join(os.getcwd(), \"../..\"))  # Move one level up\n",
    "if parent_dir not in sys.path:\n",
    "    sys.path.append(parent_dir)\n",
    "\n",
    "from datagen.fxgen_torch import TorchFXGenerator\n",
    "#from fxgen_torch import TorchFXGenerator"
   ]
  },
  {
   "cell_type": "code",
   "execution_count": 2,
   "metadata": {},
   "outputs": [],
   "source": [
    "%load_ext autoreload\n",
    "%autoreload 2"
   ]
  },
  {
   "cell_type": "code",
   "execution_count": 3,
   "metadata": {},
   "outputs": [],
   "source": [
    "\n",
    "# Setup paths\n",
    "pwd = Path.cwd()\n",
    "audio_dir = pwd / \"generation/chords_o4_mp3/mp3\"\n",
    "metadata_path = pwd / \"generation/chords_o4_mp3/chord_ref.json\"\n",
    "output_dir = pwd / \"generation/fx_applied/fx_mp3\"\n",
    "\n",
    "# Initialize generator with input directory and metadata\n",
    "fx_gen = TorchFXGenerator(audio_dir, metadata_path)"
   ]
  },
  {
   "cell_type": "code",
   "execution_count": 3,
   "metadata": {},
   "outputs": [
    {
     "name": "stdout",
     "output_type": "stream",
     "text": [
      "Total possible combinations: 2500\n",
      "Processing C1_O4_acoustic_grand_piano\n"
     ]
    }
   ],
   "source": [
    "# Process each sample with a random FX chain\n",
    "#limit = True will cut off the process after 1 sample\n",
    "fx_gen.process_batch(output_dir, permutations_per_sample=1, limit=True)"
   ]
  },
  {
   "cell_type": "code",
   "execution_count": 4,
   "metadata": {},
   "outputs": [
    {
     "name": "stdout",
     "output_type": "stream",
     "text": [
      "Total possible combinations: 2500\n",
      "Processing C1_O4_acoustic_grand_piano\n"
     ]
    }
   ],
   "source": [
    "# Process each sample with n random fx chains\n",
    "n = 3\n",
    "fx_gen.process_batch(output_dir, permutations_per_sample=n, limit=True)"
   ]
  },
  {
   "cell_type": "code",
   "execution_count": 5,
   "metadata": {},
   "outputs": [
    {
     "name": "stdout",
     "output_type": "stream",
     "text": [
      "Total possible combinations: 2500\n",
      "Processing C1_O4_acoustic_grand_piano\n"
     ]
    },
    {
     "ename": "KeyboardInterrupt",
     "evalue": "",
     "output_type": "error",
     "traceback": [
      "\u001b[0;31m---------------------------------------------------------------------------\u001b[0m",
      "\u001b[0;31mKeyboardInterrupt\u001b[0m                         Traceback (most recent call last)",
      "Cell \u001b[0;32mIn[5], line 2\u001b[0m\n\u001b[1;32m      1\u001b[0m \u001b[38;5;66;03m# Process each sample with every possible fx combination\u001b[39;00m\n\u001b[0;32m----> 2\u001b[0m fx_gen\u001b[38;5;241m.\u001b[39mprocess_batch(output_dir, systematic\u001b[38;5;241m=\u001b[39m\u001b[38;5;28;01mTrue\u001b[39;00m, limit\u001b[38;5;241m=\u001b[39m\u001b[38;5;28;01mTrue\u001b[39;00m)\n",
      "File \u001b[0;32m~/Documents/Masters/DL 7643/MLPD/amadeus-ex-machina/datagen/fxgen_torch.py:215\u001b[0m, in \u001b[0;36mTorchFXGenerator.process_batch\u001b[0;34m(self, output_dir, permutations_per_sample, systematic, limit)\u001b[0m\n\u001b[1;32m    211\u001b[0m     combinations \u001b[38;5;241m=\u001b[39m (\u001b[38;5;28mself\u001b[39m\u001b[38;5;241m.\u001b[39m_get_unique_random_combination(used_combinations) \n\u001b[1;32m    212\u001b[0m                 \u001b[38;5;28;01mfor\u001b[39;00m _ \u001b[38;5;129;01min\u001b[39;00m \u001b[38;5;28mrange\u001b[39m(permutations_per_sample))\n\u001b[1;32m    214\u001b[0m \u001b[38;5;28;01mfor\u001b[39;00m fx_chain, fx_params, fx_preset_names \u001b[38;5;129;01min\u001b[39;00m combinations:\n\u001b[0;32m--> 215\u001b[0m     processed \u001b[38;5;241m=\u001b[39m \u001b[38;5;28mself\u001b[39m\u001b[38;5;241m.\u001b[39m_process_audio(waveform, sr, fx_chain, fx_params)\n\u001b[1;32m    216\u001b[0m     new_key \u001b[38;5;241m=\u001b[39m \u001b[38;5;28mself\u001b[39m\u001b[38;5;241m.\u001b[39m_update_metadata(original_key, fx_chain, fx_params, fx_preset_names)\n\u001b[1;32m    218\u001b[0m     output_path \u001b[38;5;241m=\u001b[39m output_dir \u001b[38;5;241m/\u001b[39m \u001b[38;5;124mf\u001b[39m\u001b[38;5;124m\"\u001b[39m\u001b[38;5;132;01m{\u001b[39;00mnew_key\u001b[38;5;132;01m}\u001b[39;00m\u001b[38;5;124m.mp3\u001b[39m\u001b[38;5;124m\"\u001b[39m\n",
      "File \u001b[0;32m~/Documents/Masters/DL 7643/MLPD/amadeus-ex-machina/datagen/fxgen_torch.py:126\u001b[0m, in \u001b[0;36mTorchFXGenerator._process_audio\u001b[0;34m(self, audio, sr, fx_chain, fx_params)\u001b[0m\n\u001b[1;32m    124\u001b[0m \u001b[38;5;28;01melif\u001b[39;00m fx \u001b[38;5;241m==\u001b[39m \u001b[38;5;124m'\u001b[39m\u001b[38;5;124mdelay\u001b[39m\u001b[38;5;124m'\u001b[39m:\n\u001b[1;32m    125\u001b[0m     d \u001b[38;5;241m=\u001b[39m Delay\u001b[38;5;241m.\u001b[39mDelay(sr\u001b[38;5;241m=\u001b[39msr)\n\u001b[0;32m--> 126\u001b[0m     processed_np \u001b[38;5;241m=\u001b[39m d\u001b[38;5;241m.\u001b[39mdelay(audio_np, \u001b[38;5;241m*\u001b[39m\u001b[38;5;241m*\u001b[39mfx_params[fx])\n\u001b[1;32m    127\u001b[0m \u001b[38;5;28;01melif\u001b[39;00m fx \u001b[38;5;241m==\u001b[39m \u001b[38;5;124m'\u001b[39m\u001b[38;5;124mdistortion\u001b[39m\u001b[38;5;124m'\u001b[39m:\n\u001b[1;32m    128\u001b[0m     d \u001b[38;5;241m=\u001b[39m Distortion\u001b[38;5;241m.\u001b[39mDistortion(sr\u001b[38;5;241m=\u001b[39msr)\n",
      "File \u001b[0;32m~/Documents/Masters/DL 7643/MLPD/amadeus-ex-machina/datagen/pedals/Delay.py:38\u001b[0m, in \u001b[0;36mDelay.delay\u001b[0;34m(self, y, delay_time, feedback, mix)\u001b[0m\n\u001b[1;32m     36\u001b[0m         delayed[i] \u001b[38;5;241m=\u001b[39m \u001b[38;5;241m0\u001b[39m\n\u001b[1;32m     37\u001b[0m     \u001b[38;5;28;01melse\u001b[39;00m:\n\u001b[0;32m---> 38\u001b[0m         delayed[i] \u001b[38;5;241m=\u001b[39m y[i \u001b[38;5;241m-\u001b[39m delay_samples] \u001b[38;5;241m+\u001b[39m feedback \u001b[38;5;241m*\u001b[39m delayed[i \u001b[38;5;241m-\u001b[39m delay_samples]\n\u001b[1;32m     40\u001b[0m \u001b[38;5;66;03m# Mix dry and wet signals\u001b[39;00m\n\u001b[1;32m     41\u001b[0m output \u001b[38;5;241m=\u001b[39m (\u001b[38;5;241m1\u001b[39m \u001b[38;5;241m-\u001b[39m mix) \u001b[38;5;241m*\u001b[39m y \u001b[38;5;241m+\u001b[39m mix \u001b[38;5;241m*\u001b[39m delayed\n",
      "\u001b[0;31mKeyboardInterrupt\u001b[0m: "
     ]
    }
   ],
   "source": [
    "# Process each sample with every possible fx combination\n",
    "fx_gen.process_batch(output_dir, systematic=True, limit=True)"
   ]
  },
  {
   "cell_type": "code",
   "execution_count": 4,
   "metadata": {},
   "outputs": [
    {
     "name": "stdout",
     "output_type": "stream",
     "text": [
      "Processing C1_O4_acoustic_grand_piano with individual effects\n"
     ]
    }
   ],
   "source": [
    "# Process each sample with a random preset from each fx without combinations\n",
    "fx_gen.process_single_effect_samples(output_dir, limit=True)"
   ]
  },
  {
   "cell_type": "code",
   "execution_count": null,
   "metadata": {},
   "outputs": [],
   "source": [
    "fx_gen.process_single_effect_samples(output_dir)"
   ]
  }
 ],
 "metadata": {
  "kernelspec": {
   "display_name": "fx_env",
   "language": "python",
   "name": "python3"
  },
  "language_info": {
   "codemirror_mode": {
    "name": "ipython",
    "version": 3
   },
   "file_extension": ".py",
   "mimetype": "text/x-python",
   "name": "python",
   "nbconvert_exporter": "python",
   "pygments_lexer": "ipython3",
   "version": "3.11.10"
  }
 },
 "nbformat": 4,
 "nbformat_minor": 2
}
