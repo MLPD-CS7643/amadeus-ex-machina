{
 "cells": [
  {
   "cell_type": "code",
   "execution_count": 1,
   "metadata": {},
   "outputs": [],
   "source": [
    "\n",
    "from pathlib import Path\n",
    "import os\n",
    "import sys\n",
    "parent_dir = os.path.abspath(os.path.join(os.getcwd(), \"../..\"))  # Move one level up\n",
    "if parent_dir not in sys.path:\n",
    "    sys.path.append(parent_dir)\n",
    "\n",
    "from datagen.fxgen_torch import TorchFXGenerator\n",
    "#from fxgen_torch import TorchFXGenerator"
   ]
  },
  {
   "cell_type": "code",
   "execution_count": 2,
   "metadata": {},
   "outputs": [],
   "source": [
    "%load_ext autoreload\n",
    "%autoreload 2"
   ]
  },
  {
   "cell_type": "code",
   "execution_count": 3,
   "metadata": {},
   "outputs": [
    {
     "ename": "FileNotFoundError",
     "evalue": "[Errno 2] No such file or directory: '/Users/emortime/Documents/Masters/DL 7643/MLPD/amadeus-ex-machina/notebooks/chordgen_example/generation/chords_o4_mp3/chord_ref.json'",
     "output_type": "error",
     "traceback": [
      "\u001b[0;31m---------------------------------------------------------------------------\u001b[0m",
      "\u001b[0;31mFileNotFoundError\u001b[0m                         Traceback (most recent call last)",
      "Cell \u001b[0;32mIn[3], line 8\u001b[0m\n\u001b[1;32m      5\u001b[0m output_dir \u001b[38;5;241m=\u001b[39m pwd \u001b[38;5;241m/\u001b[39m \u001b[38;5;124m\"\u001b[39m\u001b[38;5;124mgeneration/fx_applied/fx_mp3\u001b[39m\u001b[38;5;124m\"\u001b[39m\n\u001b[1;32m      7\u001b[0m \u001b[38;5;66;03m# Initialize generator with input directory and metadata\u001b[39;00m\n\u001b[0;32m----> 8\u001b[0m fx_gen \u001b[38;5;241m=\u001b[39m TorchFXGenerator(audio_dir, metadata_path)\n",
      "File \u001b[0;32m~/Documents/Masters/DL 7643/MLPD/amadeus-ex-machina/datagen/fxgen_torch.py:22\u001b[0m, in \u001b[0;36mTorchFXGenerator.__init__\u001b[0;34m(self, audio_dir, metadata_path)\u001b[0m\n\u001b[1;32m     14\u001b[0m \u001b[38;5;250m\u001b[39m\u001b[38;5;124;03m\"\"\"\u001b[39;00m\n\u001b[1;32m     15\u001b[0m \u001b[38;5;124;03mInitialize FX generator with audio directory and metadata.\u001b[39;00m\n\u001b[1;32m     16\u001b[0m \u001b[38;5;124;03m\u001b[39;00m\n\u001b[0;32m   (...)\u001b[0m\n\u001b[1;32m     19\u001b[0m \u001b[38;5;124;03mmetadata_path (Path): Path to chord_ref.json\u001b[39;00m\n\u001b[1;32m     20\u001b[0m \u001b[38;5;124;03m\"\"\"\u001b[39;00m\n\u001b[1;32m     21\u001b[0m \u001b[38;5;66;03m# Load metadata and validate against audio files\u001b[39;00m\n\u001b[0;32m---> 22\u001b[0m \u001b[38;5;28mself\u001b[39m\u001b[38;5;241m.\u001b[39mmetadata \u001b[38;5;241m=\u001b[39m \u001b[38;5;28mself\u001b[39m\u001b[38;5;241m.\u001b[39m_load_data(audio_dir, metadata_path)\n\u001b[1;32m     23\u001b[0m \u001b[38;5;28mself\u001b[39m\u001b[38;5;241m.\u001b[39mfx_metadata \u001b[38;5;241m=\u001b[39m {}\n\u001b[1;32m     25\u001b[0m \u001b[38;5;66;03m# Initialize effects and their presets\u001b[39;00m\n",
      "File \u001b[0;32m~/Documents/Masters/DL 7643/MLPD/amadeus-ex-machina/datagen/fxgen_torch.py:45\u001b[0m, in \u001b[0;36mTorchFXGenerator._load_data\u001b[0;34m(self, audio_dir, metadata_path)\u001b[0m\n\u001b[1;32m     38\u001b[0m \u001b[38;5;28;01mdef\u001b[39;00m \u001b[38;5;21m_load_data\u001b[39m(\u001b[38;5;28mself\u001b[39m, audio_dir: Path, metadata_path: Path) \u001b[38;5;241m-\u001b[39m\u001b[38;5;241m>\u001b[39m Dict:\n\u001b[1;32m     39\u001b[0m \u001b[38;5;250m    \u001b[39m\u001b[38;5;124;03m\"\"\"\u001b[39;00m\n\u001b[1;32m     40\u001b[0m \u001b[38;5;124;03m    Load and validate metadata against available audio files.\u001b[39;00m\n\u001b[1;32m     41\u001b[0m \u001b[38;5;124;03m    \u001b[39;00m\n\u001b[1;32m     42\u001b[0m \u001b[38;5;124;03m    Returns:\u001b[39;00m\n\u001b[1;32m     43\u001b[0m \u001b[38;5;124;03m    Dict: Filtered metadata containing only entries with corresponding audio files\u001b[39;00m\n\u001b[1;32m     44\u001b[0m \u001b[38;5;124;03m    \"\"\"\u001b[39;00m\n\u001b[0;32m---> 45\u001b[0m     \u001b[38;5;28;01mwith\u001b[39;00m \u001b[38;5;28mopen\u001b[39m(metadata_path, \u001b[38;5;124m'\u001b[39m\u001b[38;5;124mr\u001b[39m\u001b[38;5;124m'\u001b[39m) \u001b[38;5;28;01mas\u001b[39;00m f:\n\u001b[1;32m     46\u001b[0m         metadata \u001b[38;5;241m=\u001b[39m json\u001b[38;5;241m.\u001b[39mload(f)\n\u001b[1;32m     48\u001b[0m     \u001b[38;5;66;03m# Get available audio files\u001b[39;00m\n",
      "\u001b[0;31mFileNotFoundError\u001b[0m: [Errno 2] No such file or directory: '/Users/emortime/Documents/Masters/DL 7643/MLPD/amadeus-ex-machina/notebooks/chordgen_example/generation/chords_o4_mp3/chord_ref.json'"
     ]
    }
   ],
   "source": [
    "\n",
    "# Setup paths\n",
    "pwd = Path.cwd()\n",
    "audio_dir = pwd / \"generation/chords_o4_mp3/mp3\"\n",
    "metadata_path = pwd / \"generation/chords_o4_mp3/chord_ref.json\"\n",
    "output_dir = pwd / \"generation/fx_applied/fx_mp3\"\n",
    "\n",
    "# Initialize generator with input directory and metadata\n",
    "fx_gen = TorchFXGenerator(audio_dir, metadata_path)"
   ]
  },
  {
   "cell_type": "code",
   "execution_count": 3,
   "metadata": {},
   "outputs": [
    {
     "name": "stdout",
     "output_type": "stream",
     "text": [
      "Total possible combinations: 2500\n",
      "Processing C1_O4_acoustic_grand_piano\n"
     ]
    }
   ],
   "source": [
    "# Process each sample with a random FX chain\n",
    "#limit = True will cut off the process after 1 sample\n",
    "fx_gen.process_batch(output_dir, permutations_per_sample=1, limit=True)"
   ]
  },
  {
   "cell_type": "code",
   "execution_count": 4,
   "metadata": {},
   "outputs": [
    {
     "name": "stdout",
     "output_type": "stream",
     "text": [
      "Total possible combinations: 2500\n",
      "Processing C1_O4_acoustic_grand_piano\n"
     ]
    }
   ],
   "source": [
    "# Process each sample with n random fx chains\n",
    "n = 3\n",
    "fx_gen.process_batch(output_dir, permutations_per_sample=n, limit=True)"
   ]
  },
  {
   "cell_type": "code",
   "execution_count": 6,
   "metadata": {},
   "outputs": [
    {
     "name": "stdout",
     "output_type": "stream",
     "text": [
      "Total possible combinations: 2500\n",
      "Processing C1_O4_acoustic_grand_piano\n"
     ]
    },
    {
     "ename": "ValueError",
     "evalue": "not enough values to unpack (expected 3, got 2)",
     "output_type": "error",
     "traceback": [
      "\u001b[0;31m---------------------------------------------------------------------------\u001b[0m",
      "\u001b[0;31mValueError\u001b[0m                                Traceback (most recent call last)",
      "Cell \u001b[0;32mIn[6], line 2\u001b[0m\n\u001b[1;32m      1\u001b[0m \u001b[38;5;66;03m# Process each sample with every possible fx combination\u001b[39;00m\n\u001b[0;32m----> 2\u001b[0m fx_gen\u001b[38;5;241m.\u001b[39mprocess_batch(output_dir, systematic\u001b[38;5;241m=\u001b[39m\u001b[38;5;28;01mTrue\u001b[39;00m, limit\u001b[38;5;241m=\u001b[39m\u001b[38;5;28;01mTrue\u001b[39;00m)\n",
      "File \u001b[0;32m~/Documents/Masters/DL 7643/MLPD/amadeus-ex-machina/datagen/fxgen_torch.py:214\u001b[0m, in \u001b[0;36mTorchFXGenerator.process_batch\u001b[0;34m(self, output_dir, permutations_per_sample, systematic, limit)\u001b[0m\n\u001b[1;32m    210\u001b[0m     used_combinations \u001b[38;5;241m=\u001b[39m \u001b[38;5;28mset\u001b[39m()\n\u001b[1;32m    211\u001b[0m     combinations \u001b[38;5;241m=\u001b[39m (\u001b[38;5;28mself\u001b[39m\u001b[38;5;241m.\u001b[39m_get_unique_random_combination(used_combinations) \n\u001b[1;32m    212\u001b[0m                 \u001b[38;5;28;01mfor\u001b[39;00m _ \u001b[38;5;129;01min\u001b[39;00m \u001b[38;5;28mrange\u001b[39m(permutations_per_sample))\n\u001b[0;32m--> 214\u001b[0m \u001b[38;5;28;01mfor\u001b[39;00m fx_chain, fx_params, fx_preset_names \u001b[38;5;129;01min\u001b[39;00m combinations:\n\u001b[1;32m    215\u001b[0m     processed \u001b[38;5;241m=\u001b[39m \u001b[38;5;28mself\u001b[39m\u001b[38;5;241m.\u001b[39m_process_audio(waveform, sr, fx_chain, fx_params)\n\u001b[1;32m    216\u001b[0m     new_key \u001b[38;5;241m=\u001b[39m \u001b[38;5;28mself\u001b[39m\u001b[38;5;241m.\u001b[39m_update_metadata(original_key, fx_chain, fx_params, fx_preset_names)\n",
      "\u001b[0;31mValueError\u001b[0m: not enough values to unpack (expected 3, got 2)"
     ]
    }
   ],
   "source": [
    "# Process each sample with every possible fx combination\n",
    "fx_gen.process_batch(output_dir, systematic=True, limit=True)"
   ]
  },
  {
   "cell_type": "code",
   "execution_count": null,
   "metadata": {},
   "outputs": [],
   "source": []
  }
 ],
 "metadata": {
  "kernelspec": {
   "display_name": "fx_env",
   "language": "python",
   "name": "python3"
  },
  "language_info": {
   "codemirror_mode": {
    "name": "ipython",
    "version": 3
   },
   "file_extension": ".py",
   "mimetype": "text/x-python",
   "name": "python",
   "nbconvert_exporter": "python",
   "pygments_lexer": "ipython3",
   "version": "3.11.10"
  }
 },
 "nbformat": 4,
 "nbformat_minor": 2
}
