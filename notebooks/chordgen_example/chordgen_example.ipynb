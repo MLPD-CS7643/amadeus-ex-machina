{
 "cells": [
  {
   "cell_type": "code",
   "execution_count": 4,

   "metadata": {},
   "outputs": [],
   "source": [
    "# System imports\n",
    "import sys\n",
    "import os\n",
    "\n",
    "# Add the parent directory of 'notebooks' to sys.path\n",
    "parent_dir = os.path.abspath(os.path.join(os.getcwd(), \"../..\"))  # Move one level up\n",
    "if parent_dir not in sys.path:\n",
    "    sys.path.append(parent_dir)\n",
    "from datagen.chordgen import generate_all_chords\n",
    "from utils.ffmpeg_util import batch_convert\n",
    "from pathlib import Path"
   ]
  },
  {
   "cell_type": "code",
   "execution_count": null,
   "metadata": {},
   "outputs": [],
   "source": []
  },
  {
   "cell_type": "code",
   "execution_count": null,
   "metadata": {},
   "outputs": [],
   "source": [
    "# make false after already downloaded\n",
    "download_sf2 = False\n",
    "out_dir = Path(\"sub_dir_from_working_dir\")"
   ]
  },
  {
   "cell_type": "code",
   "execution_count": null,
   "metadata": {},
   "outputs": [],
   "source": [
    "# PAY ATTENTION TO N_JOBS!\n",
    "generate_all_chords(out_dir=out_dir, download_sf2=download_sf2, inversions=True, duration=1.0, make_dir=True, n_jobs=12)"
   ]
  },
  {
   "cell_type": "code",
   "execution_count": 5,
   "metadata": {},

     ]
    }
   ],
   "source": [
    "#FOR MATT \n",
    "#Generate pure sine wave versions of all chords \n",
    "from datagen.chordgen import generate_sine_chords\n",
    "out_dir = 'sine_chords'\n",
    "generate_sine_chords(out_dir, 3, 4, duration=1.0, make_dir=True)"
     
   "outputs": [],
   "source": [
    "# wav to mp3\n",
    "batch_convert(out_dir / 'wav', 'wav', out_dir / 'mp3', 'mp3', n_jobs=4)"
   ]
  },
  {
   "cell_type": "code",
   "execution_count": null,
   "metadata": {},
   "outputs": [],
   "source": [
    "# mp3 to wav\n",
    "batch_convert(out_dir / 'mp3', 'mp3', out_dir / 'wav', 'wav', n_jobs=4)"
   ]
  }
 ],
 "metadata": {
  "kernelspec": {
   "display_name": "Python3 (ml env)",
   "language": "python",
   "name": "ml_env"
  },
  "language_info": {
   "codemirror_mode": {
    "name": "ipython",
    "version": 3
   },
   "file_extension": ".py",
   "mimetype": "text/x-python",
   "name": "python",
   "nbconvert_exporter": "python",
   "pygments_lexer": "ipython3",
   "version": "3.11.9"
  }
 },
 "nbformat": 4,
 "nbformat_minor": 2
}
