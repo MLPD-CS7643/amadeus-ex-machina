{
 "cells": [
  {
   "cell_type": "markdown",
   "metadata": {},
   "source": [
    "## Imports and setup"
   ]
  },
  {
   "cell_type": "code",
   "execution_count": null,
   "metadata": {},
   "outputs": [],
   "source": [
    "# Create or update conda environment\n",
    "# !conda env create -f ../environment.yaml\n",
    "!conda env update -f ../environment.yaml\n",
    "# !conda remove --name amadeus-ex-machina --all"
   ]
  },
  {
   "cell_type": "code",
   "execution_count": null,
   "metadata": {},
   "outputs": [],
   "source": [
    "# Activate conda environment\n",
    "!conda init\n",
    "!conda activate amadeus-ex-machina"
   ]
  },
  {
   "cell_type": "code",
   "execution_count": null,
   "metadata": {},
   "outputs": [],
   "source": [
    "\n",
    "# System imports\n",
    "import sys\n",
    "import os\n",
    "\n",
    "# Add the parent directory of 'notebooks' to sys.path\n",
    "parent_dir = os.path.abspath(os.path.join(os.getcwd(), \"..\"))  # Move one level up\n",
    "if parent_dir not in sys.path:\n",
    "    sys.path.append(parent_dir)\n",
    "\n",
    "# Class/model imports\n",
    "from data.data_loader import MirDataProcessor\n",
    "from utils.model_utils import get_device\n",
    "from solver import Solver\n",
    "import data.youtube_download as youtube_download\n",
    "from pathlib import Path\n",
    "from solver import Solver\n",
    "from griddy.griddy_tuna import hit_griddy, SearchMethod\n",
    "\n",
    "# Import models\n",
    "from models.griddy_model import GriddyModel\n",
    "from models.CRNN import CRNNModel\n",
    "from models.CNN import CNNModel\n",
    "from models.RNN import RNNModel\n",
    "from models.AudioDataset import ChordDataset\n",
    "from models.mlp_chord_classifier import MLPChordClassifier\n",
    "\n",
    "# Package imports\n",
    "import torch\n",
    "\n",
    "# Select device\n",
    "device = get_device()\n",
    "print(f\"Device is {device}\")"
   ]
  },
  {
   "cell_type": "markdown",
   "metadata": {},
   "source": [
    "## Download and process data"
   ]
  },
  {
   "cell_type": "code",
   "execution_count": null,
   "metadata": {},
   "outputs": [],
   "source": [
    "# Download and build useable train/test data out of the MIR Billboard dataset\n",
    "data_processer = MirDataProcessor(download=True, batch_size=64)\n",
    "data_processer.process_data()\n",
    "\n",
    "# Create data loeaders for train and test set\n",
    "train_loader, test_loader, num_classes = data_processer.build_data_loaders(device=device)\n",
    "\n",
    "print(f\"Number of classes: {num_classes}\")"
   ]
  },
  {
   "cell_type": "code",
   "execution_count": null,
   "metadata": {},
   "outputs": [],
   "source": [
    "# Set billboard data path\n",
    "billboard_data_path = \"../data/raw/McGill-Billboard\"\n",
    "\n",
    "# Process lab files in the extracted directory\n",
    "youtube_download.process_lab_files(billboard_data_path)"
   ]
  },
  {
   "cell_type": "markdown",
   "metadata": {},
   "source": [
    "## Build and train models"
   ]
  },
  {
   "cell_type": "code",
   "execution_count": null,
   "metadata": {},
   "outputs": [],
   "source": [
    "SOLVER_PARAMS = {\n",
    "    Solver : {\n",
    "        \"device\": \"cuda\",\n",
    "        \"epochs\": 10,\n",
    "        \"early_stop_epochs\": 0, # early stop after n epochs without improvement, 0 to disable\n",
    "        \"warmup_epochs\": 0, # 0 to disable\n",
    "        \"dtype\": \"float16\",\n",
    "        \"train_dataloader\": train_loader, # assume a DataLoader object\n",
    "        \"valid_dataloader\": test_loader, # assume a DataLoader object\n",
    "        \"direction\": \"minimize\" # must specify this, even if not used by solver\n",
    "    }\n",
    "}\n",
    "\n",
    "MODEL_PARAMS = {\n",
    "    CRNNModel: {\n",
    "        \"input_features\": [24],\n",
    "        \"num_classes\": [num_classes],\n",
    "        \"hidden_size\": [128],\n",
    "    }\n",
    "}\n",
    "\n",
    "OPTIM_PARAMS = {\n",
    "    torch.optim.SGD : {\n",
    "        \"lr\": [0.001, 0.1, SearchMethod.LOG_UNIFORM],\n",
    "        \"momentum\": [0.9, 0.99, SearchMethod.UNIFORM],\n",
    "        \"weight_decay\": [0.00001],\n",
    "    },\n",
    "    torch.optim.Adam : {\n",
    "        \"lr\": [0.03, 0.02, 0.01, 0.1], # this will auto-search as CATEGORICAL\n",
    "        \"momentum\": [0.98, 0.99], # so will this\n",
    "        \"weight_decay\": [0.00001], # this won't be searched\n",
    "    }\n",
    "}\n",
    "\n",
    "SCHED_PARAMS = {\n",
    "    torch.optim.lr_scheduler.CosineAnnealingWarmRestarts : {\n",
    "        \"T_max\": [10],\n",
    "    },\n",
    "    torch.optim.lr_scheduler.StepLR : {\n",
    "        \"step_size\": [10, 20],\n",
    "        \"gamma\" : [0.1, 0.05],\n",
    "    }\n",
    "}\n",
    "\n",
    "CRITERION_PARAMS = {\n",
    "    torch.nn.CrossEntropyLoss : {}\n",
    "}\n",
    "\n",
    "PARAM_SET = {\n",
    "    \"solver\": SOLVER_PARAMS,\n",
    "    \"model\" : MODEL_PARAMS,\n",
    "    \"optim\" : OPTIM_PARAMS,\n",
    "    \"sched\" : SCHED_PARAMS,\n",
    "    \"criterion\" : CRITERION_PARAMS,\n",
    "}"
   ]
  },
  {
   "cell_type": "code",
   "execution_count": null,
   "metadata": {},
   "outputs": [],
   "source": [
    "# Griddy with MLPChordClassifier\n",
    "\n",
    "MODEL_PARAMS = {\n",
    "    MLPChordClassifier: {\n",
    "        \"input_features\": [24],\n",
    "        \"num_classes\": [num_classes],\n",
    "    }\n",
    "}\n",
    "\n",
    "study_name = \"test12\"\n",
    "output_folder = Path(f\"../results/{study_name}/griddy/\")\n",
    "solver_reference = hit_griddy(study_name, param_set=PARAM_SET, out_dir=output_folder, n_trials=100, n_jobs=1,resume=False)"
   ]
  },
  {
   "cell_type": "code",
   "execution_count": null,
   "metadata": {},
   "outputs": [],
   "source": [
    "# Griddy with CRNN\n",
    "\n",
    "MODEL_PARAMS = {\n",
    "    CRNNModel: {\n",
    "        \"input_features\": [24],\n",
    "        \"num_classes\": [num_classes],\n",
    "        \"hidden_size\": [128],\n",
    "    }\n",
    "}\n",
    "\n",
    "study_name = \"test11\"\n",
    "\n",
    "output_folder = Path(f\"../results/{study_name}/griddy/\")\n",
    "\n",
    "solver_reference = hit_griddy(study_name, param_set=PARAM_SET, out_dir=output_folder, n_trials=100, n_jobs=1,resume=False)"
   ]
  },
  {
   "cell_type": "code",
   "execution_count": null,
   "metadata": {},
   "outputs": [],
   "source": [
    "# Griddy with CNN\n",
    "\n",
    "MODEL_PARAMS = {\n",
    "    CNNModel: {\n",
    "        \"input_channels\": [24],\n",
    "        \"num_classes\": [num_classes],\n",
    "    }\n",
    "}\n",
    "\n",
    "study_name = \"test13\"\n",
    "\n",
    "output_folder = Path(f\"../results/{study_name}/griddy/\")\n",
    "\n",
    "solver_reference = hit_griddy(study_name, param_set=PARAM_SET, out_dir=output_folder, n_trials=100, n_jobs=1,resume=False)"
   ]
  },
  {
   "cell_type": "code",
   "execution_count": null,
   "metadata": {},
   "outputs": [],
   "source": [
    "# Griddy with RNN\n",
    "\n",
    "MODEL_PARAMS = {\n",
    "    RNNModel: {\n",
    "        \"input_size\": [24],\n",
    "        \"hidden_size\": [128],\n",
    "        \"output_size\": [num_classes],\n",
    "    }\n",
    "}\n",
    "\n",
    "study_name = \"test14\"\n",
    "\n",
    "output_folder = Path(f\"../results/{study_name}/griddy/\")\n",
    "\n",
    "solver_reference = hit_griddy(study_name, param_set=PARAM_SET, out_dir=output_folder, n_trials=100, n_jobs=1,resume=False)"
   ]
  },
  {
   "cell_type": "markdown",
   "metadata": {},
   "source": [
    "## Run inference"
   ]
  },
  {
   "cell_type": "code",
   "execution_count": null,
   "metadata": {},
   "outputs": [],
   "source": [
    "scaler = data_processor.scaler\n",
    "label_encoder = data_processor.label_encoder\n",
    "chroma_path = \"/my/path/to/amadeus-ex-machina/data/raw/McGill-Billboard/0003/bothchroma.csv\"\n",
    "\n",
    "# Run inference using the trained model\n",
    "solver.run_inference(\n",
    "    chroma_path,\n",
    "    scaler,\n",
    "    label_encoder,\n",
    ")"
   ]
  }
 ],
 "metadata": {
  "kernelspec": {
   "display_name": "amadeus-ex-machina",
   "language": "python",
   "name": "python3"
  },
  "language_info": {
   "codemirror_mode": {
    "name": "ipython",
    "version": 3
   },
   "file_extension": ".py",
   "mimetype": "text/x-python",
   "name": "python",
   "nbconvert_exporter": "python",
   "pygments_lexer": "ipython3",
   "version": "3.11.0"
  }
 },
 "nbformat": 4,
 "nbformat_minor": 4
}
