{
 "cells": [
  {
   "cell_type": "markdown",
   "metadata": {},
   "source": [
    "## Imports and setup"
   ]
  },
  {
   "cell_type": "code",
   "execution_count": null,
   "metadata": {},
   "outputs": [],
   "source": [
    "# Create or update conda environment\n",
    "# !conda env create -f ../environment.yaml\n",
    "!conda env update -f ../environment.yaml\n",
    "# !conda remove --name amadeus-ex-machina --all"
   ]
  },
  {
   "cell_type": "code",
   "execution_count": null,
   "metadata": {},
   "outputs": [],
   "source": [
    "# Activate conda environment\n",
    "!conda init\n",
    "!conda activate amadeus-ex-machina"
   ]
  },
  {
   "cell_type": "code",
   "execution_count": null,
   "metadata": {},
   "outputs": [],
   "source": [
    "# System imports\n",
    "import sys\n",
    "import os\n",
    "\n",
    "# Add the parent directory of 'notebooks' to sys.path\n",
    "parent_dir = os.path.abspath(os.path.join(os.getcwd(), \"..\"))  # Move one level up\n",
    "if parent_dir not in sys.path:\n",
    "    sys.path.append(parent_dir)\n",
    "\n",
    "# Class/model imports\n",
    "from data.data_loader import MirDataProcessor\n",
    "from utils.model_utils import get_device\n",
    "from solver import Solver\n",
    "import data.youtube_download as youtube_download\n",
    "\n",
    "# Package imports\n",
    "import torch\n",
    "\n",
    "# Select device\n",
    "device = get_device()\n",
    "print(f\"Device is {device}\")"
   ]
  },
  {
   "cell_type": "markdown",
   "metadata": {},
   "source": [
    "## Download and process data"
   ]
  },
  {
   "cell_type": "code",
   "execution_count": null,
   "metadata": {},
   "outputs": [
    {
     "name": "stdout",
     "output_type": "stream",
     "text": [
      "Preparing model data...\n",
      "Loading the combined CSV file...\n",
      "Separating features and labels...\n",
      "Scaling features using MinMaxScaler...\n",
      "Encoding labels using LabelEncoder...\n",
      "Saving the scaler to /Users/dananabulsi/Desktop/CODING/GitHub-Repos/amadeus-ex-machina/data/processed/scaler.pkl...\n",
      "Saving the label encoder to /Users/dananabulsi/Desktop/CODING/GitHub-Repos/amadeus-ex-machina/data/processed/label_encoder.pkl...\n",
      "Splitting data into training and testing sets...\n",
      "Data preparation complete.\n",
      "Number of classes determined: 813\n",
      "Creating TensorDatasets for training and testing data...\n",
      "Creating DataLoaders for training and testing datasets...\n",
      "Data loaders are ready for training and testing.\n",
      "Number of classes: 813\n"
     ]
    }
   ],
   "source": [
    "# Download and build useable train/test data out of the MIR Billboard dataset\n",
    "data_processer = MirDataProcessor(download=True, batch_size=64)\n",
    "data_processer.process_data()\n",
    "\n",
    "# Create data loeaders for train and test set\n",
    "train_loader, test_loader, num_classes = data_processer.build_data_loaders(device=device)\n",
    "\n",
    "print(f\"Number of classes: {num_classes}\")"
   ]
  },
  {
   "cell_type": "code",
   "execution_count": null,
   "metadata": {},
   "outputs": [],
   "source": [
    "# Set billboard data path\n",
    "billboard_data_path = \"../data/raw/McGill-Billboard\"\n",
    "\n",
    "# Process lab files in the extracted directory\n",
    "youtube_download.process_lab_files(billboard_data_path)"
   ]
  },
  {
   "cell_type": "markdown",
   "metadata": {},
   "source": [
    "## Build and train models"
   ]
  },
  {
   "cell_type": "code",
   "execution_count": 8,
   "metadata": {},
   "outputs": [
    {
     "ename": "AssertionError",
     "evalue": "Torch not compiled with CUDA enabled",
     "output_type": "error",
     "traceback": [
      "\u001b[0;31m---------------------------------------------------------------------------\u001b[0m",
      "\u001b[0;31mAssertionError\u001b[0m                            Traceback (most recent call last)",
      "Cell \u001b[0;32mIn[8], line 2\u001b[0m\n\u001b[1;32m      1\u001b[0m \u001b[38;5;66;03m# Initialize Solver for MLPChordClassifier\u001b[39;00m\n\u001b[0;32m----> 2\u001b[0m mlp_chord_classifier_solver \u001b[38;5;241m=\u001b[39m Solver(\n\u001b[1;32m      3\u001b[0m     model_type\u001b[38;5;241m=\u001b[39m\u001b[38;5;124m\"\u001b[39m\u001b[38;5;124mMLPChordClassifier\u001b[39m\u001b[38;5;124m\"\u001b[39m,\n\u001b[1;32m      4\u001b[0m     model_kwargs\u001b[38;5;241m=\u001b[39m{\u001b[38;5;124m\"\u001b[39m\u001b[38;5;124minput_size\u001b[39m\u001b[38;5;124m\"\u001b[39m: \u001b[38;5;241m24\u001b[39m, \u001b[38;5;124m\"\u001b[39m\u001b[38;5;124mnum_classes\u001b[39m\u001b[38;5;124m\"\u001b[39m: num_classes},\n\u001b[1;32m      5\u001b[0m     device\u001b[38;5;241m=\u001b[39mdevice,\n\u001b[1;32m      6\u001b[0m     batch_size\u001b[38;5;241m=\u001b[39m\u001b[38;5;241m128\u001b[39m,\n\u001b[1;32m      7\u001b[0m     learning_rate\u001b[38;5;241m=\u001b[39m\u001b[38;5;241m0.001\u001b[39m,\n\u001b[1;32m      8\u001b[0m     epochs\u001b[38;5;241m=\u001b[39m\u001b[38;5;241m20\u001b[39m,\n\u001b[1;32m      9\u001b[0m )\n\u001b[1;32m     11\u001b[0m \u001b[38;5;66;03m# Train and evaluate the model\u001b[39;00m\n\u001b[1;32m     12\u001b[0m mlp_chord_classifier_solver\u001b[38;5;241m.\u001b[39mtrain_and_evaluate(train_loader, test_loader, plot_results\u001b[38;5;241m=\u001b[39m\u001b[38;5;28;01mTrue\u001b[39;00m)\n",
      "File \u001b[0;32m~/Desktop/CODING/GitHub-Repos/amadeus-ex-machina/solver.py:35\u001b[0m, in \u001b[0;36mSolver.__init__\u001b[0;34m(self, model, optimizer, criterion, scheduler, **kwargs)\u001b[0m\n\u001b[1;32m     31\u001b[0m     \u001b[38;5;28mself\u001b[39m\u001b[38;5;241m.\u001b[39mmodel \u001b[38;5;241m=\u001b[39m model\u001b[38;5;241m.\u001b[39mto(\u001b[38;5;28mself\u001b[39m\u001b[38;5;241m.\u001b[39mdevice)\n\u001b[1;32m     32\u001b[0m \u001b[38;5;28;01melse\u001b[39;00m:\n\u001b[1;32m     33\u001b[0m     \u001b[38;5;28;01mmatch\u001b[39;00m \u001b[38;5;28mself\u001b[39m\u001b[38;5;241m.\u001b[39mmodel_type:\n\u001b[1;32m     34\u001b[0m         \u001b[38;5;28;01mcase\u001b[39;00m \u001b[38;5;124m\"\u001b[39m\u001b[38;5;124mMLPChordClassifier\u001b[39m\u001b[38;5;124m\"\u001b[39m:\n\u001b[0;32m---> 35\u001b[0m             \u001b[38;5;28mself\u001b[39m\u001b[38;5;241m.\u001b[39mmodel \u001b[38;5;241m=\u001b[39m MLPChordClassifier(\u001b[38;5;241m*\u001b[39m\u001b[38;5;241m*\u001b[39m\u001b[38;5;28mself\u001b[39m\u001b[38;5;241m.\u001b[39mmodel_kwargs)\u001b[38;5;241m.\u001b[39mto(\u001b[38;5;28mself\u001b[39m\u001b[38;5;241m.\u001b[39mdevice)\n\u001b[1;32m     36\u001b[0m         \u001b[38;5;28;01mcase\u001b[39;00m \u001b[38;5;124m\"\u001b[39m\u001b[38;5;124mCNNModel\u001b[39m\u001b[38;5;124m\"\u001b[39m:\n\u001b[1;32m     37\u001b[0m             \u001b[38;5;28mself\u001b[39m\u001b[38;5;241m.\u001b[39mmodel \u001b[38;5;241m=\u001b[39m CNNModel(\u001b[38;5;241m*\u001b[39m\u001b[38;5;241m*\u001b[39m\u001b[38;5;28mself\u001b[39m\u001b[38;5;241m.\u001b[39mmodel_kwargs)\u001b[38;5;241m.\u001b[39mto(\u001b[38;5;28mself\u001b[39m\u001b[38;5;241m.\u001b[39mdevice)\n\u001b[1;32m     38\u001b[0m         \u001b[38;5;28;01mcase\u001b[39;00m \u001b[38;5;124m\"\u001b[39m\u001b[38;5;124mCRNNModel\u001b[39m\u001b[38;5;124m\"\u001b[39m:\n\u001b[1;32m     39\u001b[0m             \u001b[38;5;28mself\u001b[39m\u001b[38;5;241m.\u001b[39mmodel \u001b[38;5;241m=\u001b[39m CRNNModel(\u001b[38;5;241m*\u001b[39m\u001b[38;5;241m*\u001b[39m\u001b[38;5;28mself\u001b[39m\u001b[38;5;241m.\u001b[39mmodel_kwargs)\u001b[38;5;241m.\u001b[39mto(\u001b[38;5;28mself\u001b[39m\u001b[38;5;241m.\u001b[39mdevice)\n\u001b[1;32m     40\u001b[0m         \u001b[38;5;28;01mcase\u001b[39;00m \u001b[38;5;124m\"\u001b[39m\u001b[38;5;124mRNNModel\u001b[39m\u001b[38;5;124m\"\u001b[39m:\n\u001b[1;32m     41\u001b[0m             \u001b[38;5;28mself\u001b[39m\u001b[38;5;241m.\u001b[39mmodel \u001b[38;5;241m=\u001b[39m RNNModel(\u001b[38;5;241m*\u001b[39m\u001b[38;5;241m*\u001b[39m\u001b[38;5;28mself\u001b[39m\u001b[38;5;241m.\u001b[39mmodel_kwargs)\u001b[38;5;241m.\u001b[39mto(\u001b[38;5;28mself\u001b[39m\u001b[38;5;241m.\u001b[39mdevice)\n\u001b[1;32m     42\u001b[0m         \u001b[38;5;28;01mcase\u001b[39;00m \u001b[38;5;124m\"\u001b[39m\u001b[38;5;124mGriddyModel\u001b[39m\u001b[38;5;124m\"\u001b[39m:\n\u001b[1;32m     43\u001b[0m             \u001b[38;5;28mself\u001b[39m\u001b[38;5;241m.\u001b[39mmodel \u001b[38;5;241m=\u001b[39m GriddyModel(\u001b[38;5;241m*\u001b[39m\u001b[38;5;241m*\u001b[39m\u001b[38;5;28mself\u001b[39m\u001b[38;5;241m.\u001b[39mmodel_kwargs)\u001b[38;5;241m.\u001b[39mto(\u001b[38;5;28mself\u001b[39m\u001b[38;5;241m.\u001b[39mdevice)\n\u001b[1;32m     44\u001b[0m         \u001b[38;5;28;01mcase\u001b[39;00m\u001b[38;5;250m \u001b[39m\u001b[38;5;28;01m_\u001b[39;00m:\n\u001b[1;32m     45\u001b[0m             \u001b[38;5;66;03m# Default to MLPChordClassifier\u001b[39;00m\n\u001b[1;32m     46\u001b[0m             \u001b[38;5;28mself\u001b[39m\u001b[38;5;241m.\u001b[39mmodel \u001b[38;5;241m=\u001b[39m MLPChordClassifier(\u001b[38;5;241m*\u001b[39m\u001b[38;5;241m*\u001b[39m\u001b[38;5;28mself\u001b[39m\u001b[38;5;241m.\u001b[39mmodel_kwargs)\n\u001b[1;32m     47\u001b[0m     \u001b[38;5;28mself\u001b[39m\u001b[38;5;241m.\u001b[39mmodel\u001b[38;5;241m.\u001b[39mto(\u001b[38;5;28mself\u001b[39m\u001b[38;5;241m.\u001b[39mdevice)\n\u001b[1;32m     49\u001b[0m \u001b[38;5;28;01mif\u001b[39;00m optimizer:\n",
      "File \u001b[0;32m~/Desktop/CODING/GitHub-Repos/amadeus-ex-machina/models/mlp_chord_classifier.py:9\u001b[0m, in \u001b[0;36mMLPChordClassifier.__init__\u001b[0;34m(self, input_size, num_classes, device)\u001b[0m\n\u001b[1;32m      5\u001b[0m \u001b[38;5;28;01mdef\u001b[39;00m \u001b[38;5;21m__init__\u001b[39m(\u001b[38;5;28mself\u001b[39m, input_size, num_classes, device\u001b[38;5;241m=\u001b[39m\u001b[38;5;124m\"\u001b[39m\u001b[38;5;124mcuda\u001b[39m\u001b[38;5;124m\"\u001b[39m):\n\u001b[1;32m      6\u001b[0m     \u001b[38;5;28msuper\u001b[39m(MLPChordClassifier, \u001b[38;5;28mself\u001b[39m)\u001b[38;5;241m.\u001b[39m\u001b[38;5;21m__init__\u001b[39m()\n\u001b[1;32m      7\u001b[0m     \u001b[38;5;28mself\u001b[39m\u001b[38;5;241m.\u001b[39mnetwork \u001b[38;5;241m=\u001b[39m nn\u001b[38;5;241m.\u001b[39mSequential(\n\u001b[1;32m      8\u001b[0m         \u001b[38;5;66;03m# Initial feature extraction\u001b[39;00m\n\u001b[0;32m----> 9\u001b[0m         nn\u001b[38;5;241m.\u001b[39mLinear(input_size, \u001b[38;5;241m1024\u001b[39m, device\u001b[38;5;241m=\u001b[39mdevice),\n\u001b[1;32m     10\u001b[0m         nn\u001b[38;5;241m.\u001b[39mBatchNorm1d(\u001b[38;5;241m1024\u001b[39m),\n\u001b[1;32m     11\u001b[0m         nn\u001b[38;5;241m.\u001b[39mReLU(),\n\u001b[1;32m     12\u001b[0m         nn\u001b[38;5;241m.\u001b[39mDropout(\u001b[38;5;241m0.2\u001b[39m),\n\u001b[1;32m     13\u001b[0m \n\u001b[1;32m     14\u001b[0m         \u001b[38;5;66;03m# Deep feature processing\u001b[39;00m\n\u001b[1;32m     15\u001b[0m         nn\u001b[38;5;241m.\u001b[39mLinear(\u001b[38;5;241m1024\u001b[39m, \u001b[38;5;241m768\u001b[39m, device\u001b[38;5;241m=\u001b[39mdevice),\n\u001b[1;32m     16\u001b[0m         nn\u001b[38;5;241m.\u001b[39mBatchNorm1d(\u001b[38;5;241m768\u001b[39m),\n\u001b[1;32m     17\u001b[0m         nn\u001b[38;5;241m.\u001b[39mReLU(),\n\u001b[1;32m     18\u001b[0m         nn\u001b[38;5;241m.\u001b[39mDropout(\u001b[38;5;241m0.25\u001b[39m),\n\u001b[1;32m     19\u001b[0m \n\u001b[1;32m     20\u001b[0m         nn\u001b[38;5;241m.\u001b[39mLinear(\u001b[38;5;241m768\u001b[39m, \u001b[38;5;241m512\u001b[39m, device\u001b[38;5;241m=\u001b[39mdevice),\n\u001b[1;32m     21\u001b[0m         nn\u001b[38;5;241m.\u001b[39mBatchNorm1d(\u001b[38;5;241m512\u001b[39m),\n\u001b[1;32m     22\u001b[0m         nn\u001b[38;5;241m.\u001b[39mReLU(),\n\u001b[1;32m     23\u001b[0m         nn\u001b[38;5;241m.\u001b[39mDropout(\u001b[38;5;241m0.25\u001b[39m),\n\u001b[1;32m     24\u001b[0m \n\u001b[1;32m     25\u001b[0m         nn\u001b[38;5;241m.\u001b[39mLinear(\u001b[38;5;241m512\u001b[39m, \u001b[38;5;241m384\u001b[39m, device\u001b[38;5;241m=\u001b[39mdevice),\n\u001b[1;32m     26\u001b[0m         nn\u001b[38;5;241m.\u001b[39mBatchNorm1d(\u001b[38;5;241m384\u001b[39m),\n\u001b[1;32m     27\u001b[0m         nn\u001b[38;5;241m.\u001b[39mReLU(),\n\u001b[1;32m     28\u001b[0m         nn\u001b[38;5;241m.\u001b[39mDropout(\u001b[38;5;241m0.3\u001b[39m),\n\u001b[1;32m     29\u001b[0m \n\u001b[1;32m     30\u001b[0m         nn\u001b[38;5;241m.\u001b[39mLinear(\u001b[38;5;241m384\u001b[39m, \u001b[38;5;241m256\u001b[39m, device\u001b[38;5;241m=\u001b[39mdevice),\n\u001b[1;32m     31\u001b[0m         nn\u001b[38;5;241m.\u001b[39mBatchNorm1d(\u001b[38;5;241m256\u001b[39m),\n\u001b[1;32m     32\u001b[0m         nn\u001b[38;5;241m.\u001b[39mReLU(),\n\u001b[1;32m     33\u001b[0m         nn\u001b[38;5;241m.\u001b[39mDropout(\u001b[38;5;241m0.3\u001b[39m),\n\u001b[1;32m     34\u001b[0m \n\u001b[1;32m     35\u001b[0m         nn\u001b[38;5;241m.\u001b[39mLinear(\u001b[38;5;241m256\u001b[39m, \u001b[38;5;241m192\u001b[39m, device\u001b[38;5;241m=\u001b[39mdevice),\n\u001b[1;32m     36\u001b[0m         nn\u001b[38;5;241m.\u001b[39mBatchNorm1d(\u001b[38;5;241m192\u001b[39m),\n\u001b[1;32m     37\u001b[0m         nn\u001b[38;5;241m.\u001b[39mReLU(),\n\u001b[1;32m     38\u001b[0m         nn\u001b[38;5;241m.\u001b[39mDropout(\u001b[38;5;241m0.35\u001b[39m),\n\u001b[1;32m     39\u001b[0m \n\u001b[1;32m     40\u001b[0m         nn\u001b[38;5;241m.\u001b[39mLinear(\u001b[38;5;241m192\u001b[39m, \u001b[38;5;241m128\u001b[39m, device\u001b[38;5;241m=\u001b[39mdevice),\n\u001b[1;32m     41\u001b[0m         nn\u001b[38;5;241m.\u001b[39mBatchNorm1d(\u001b[38;5;241m128\u001b[39m),\n\u001b[1;32m     42\u001b[0m         nn\u001b[38;5;241m.\u001b[39mReLU(),\n\u001b[1;32m     43\u001b[0m         nn\u001b[38;5;241m.\u001b[39mDropout(\u001b[38;5;241m0.35\u001b[39m),\n\u001b[1;32m     44\u001b[0m \n\u001b[1;32m     45\u001b[0m         \u001b[38;5;66;03m# Final classification layers\u001b[39;00m\n\u001b[1;32m     46\u001b[0m         nn\u001b[38;5;241m.\u001b[39mLinear(\u001b[38;5;241m128\u001b[39m, \u001b[38;5;241m96\u001b[39m, device\u001b[38;5;241m=\u001b[39mdevice),\n\u001b[1;32m     47\u001b[0m         nn\u001b[38;5;241m.\u001b[39mBatchNorm1d(\u001b[38;5;241m96\u001b[39m),\n\u001b[1;32m     48\u001b[0m         nn\u001b[38;5;241m.\u001b[39mReLU(),\n\u001b[1;32m     49\u001b[0m         nn\u001b[38;5;241m.\u001b[39mDropout(\u001b[38;5;241m0.4\u001b[39m),\n\u001b[1;32m     50\u001b[0m \n\u001b[1;32m     51\u001b[0m         nn\u001b[38;5;241m.\u001b[39mLinear(\u001b[38;5;241m96\u001b[39m, num_classes, device\u001b[38;5;241m=\u001b[39mdevice)\n\u001b[1;32m     52\u001b[0m     )\n",
      "File \u001b[0;32m/opt/anaconda3/envs/amadeus-ex-machina/lib/python3.11/site-packages/torch/nn/modules/linear.py:106\u001b[0m, in \u001b[0;36mLinear.__init__\u001b[0;34m(self, in_features, out_features, bias, device, dtype)\u001b[0m\n\u001b[1;32m    103\u001b[0m \u001b[38;5;28mself\u001b[39m\u001b[38;5;241m.\u001b[39min_features \u001b[38;5;241m=\u001b[39m in_features\n\u001b[1;32m    104\u001b[0m \u001b[38;5;28mself\u001b[39m\u001b[38;5;241m.\u001b[39mout_features \u001b[38;5;241m=\u001b[39m out_features\n\u001b[1;32m    105\u001b[0m \u001b[38;5;28mself\u001b[39m\u001b[38;5;241m.\u001b[39mweight \u001b[38;5;241m=\u001b[39m Parameter(\n\u001b[0;32m--> 106\u001b[0m     torch\u001b[38;5;241m.\u001b[39mempty((out_features, in_features), \u001b[38;5;241m*\u001b[39m\u001b[38;5;241m*\u001b[39mfactory_kwargs)\n\u001b[1;32m    107\u001b[0m )\n\u001b[1;32m    108\u001b[0m \u001b[38;5;28;01mif\u001b[39;00m bias:\n\u001b[1;32m    109\u001b[0m     \u001b[38;5;28mself\u001b[39m\u001b[38;5;241m.\u001b[39mbias \u001b[38;5;241m=\u001b[39m Parameter(torch\u001b[38;5;241m.\u001b[39mempty(out_features, \u001b[38;5;241m*\u001b[39m\u001b[38;5;241m*\u001b[39mfactory_kwargs))\n",
      "File \u001b[0;32m/opt/anaconda3/envs/amadeus-ex-machina/lib/python3.11/site-packages/torch/cuda/__init__.py:310\u001b[0m, in \u001b[0;36m_lazy_init\u001b[0;34m()\u001b[0m\n\u001b[1;32m    305\u001b[0m     \u001b[38;5;28;01mraise\u001b[39;00m \u001b[38;5;167;01mRuntimeError\u001b[39;00m(\n\u001b[1;32m    306\u001b[0m         \u001b[38;5;124m\"\u001b[39m\u001b[38;5;124mCannot re-initialize CUDA in forked subprocess. To use CUDA with \u001b[39m\u001b[38;5;124m\"\u001b[39m\n\u001b[1;32m    307\u001b[0m         \u001b[38;5;124m\"\u001b[39m\u001b[38;5;124mmultiprocessing, you must use the \u001b[39m\u001b[38;5;124m'\u001b[39m\u001b[38;5;124mspawn\u001b[39m\u001b[38;5;124m'\u001b[39m\u001b[38;5;124m start method\u001b[39m\u001b[38;5;124m\"\u001b[39m\n\u001b[1;32m    308\u001b[0m     )\n\u001b[1;32m    309\u001b[0m \u001b[38;5;28;01mif\u001b[39;00m \u001b[38;5;129;01mnot\u001b[39;00m \u001b[38;5;28mhasattr\u001b[39m(torch\u001b[38;5;241m.\u001b[39m_C, \u001b[38;5;124m\"\u001b[39m\u001b[38;5;124m_cuda_getDeviceCount\u001b[39m\u001b[38;5;124m\"\u001b[39m):\n\u001b[0;32m--> 310\u001b[0m     \u001b[38;5;28;01mraise\u001b[39;00m \u001b[38;5;167;01mAssertionError\u001b[39;00m(\u001b[38;5;124m\"\u001b[39m\u001b[38;5;124mTorch not compiled with CUDA enabled\u001b[39m\u001b[38;5;124m\"\u001b[39m)\n\u001b[1;32m    311\u001b[0m \u001b[38;5;28;01mif\u001b[39;00m _cudart \u001b[38;5;129;01mis\u001b[39;00m \u001b[38;5;28;01mNone\u001b[39;00m:\n\u001b[1;32m    312\u001b[0m     \u001b[38;5;28;01mraise\u001b[39;00m \u001b[38;5;167;01mAssertionError\u001b[39;00m(\n\u001b[1;32m    313\u001b[0m         \u001b[38;5;124m\"\u001b[39m\u001b[38;5;124mlibcudart functions unavailable. It looks like you have a broken build?\u001b[39m\u001b[38;5;124m\"\u001b[39m\n\u001b[1;32m    314\u001b[0m     )\n",
      "\u001b[0;31mAssertionError\u001b[0m: Torch not compiled with CUDA enabled"
     ]
    }
   ],
   "source": [
    "# Initialize Solver for MLPChordClassifier\n",
    "mlp_chord_classifier_solver = Solver(\n",
    "    model_type=\"MLPChordClassifier\",\n",
    "    model_kwargs={\"input_size\": 24, \"num_classes\": num_classes},\n",
    "    device=device,\n",
    "    batch_size=128,\n",
    "    learning_rate=0.001,\n",
    "    epochs=20,\n",
    ")\n",
    "\n",
    "# Train and evaluate the model\n",
    "mlp_chord_classifier_solver.train_and_evaluate(train_loader, test_loader, plot_results=True)"
   ]
  },
  {
   "cell_type": "code",
   "execution_count": null,
   "metadata": {},
   "outputs": [],
   "source": [
    "# Initialize Solver for CRNNModel\n",
    "crnn_model_solver = Solver(\n",
    "    model_type=\"CRNNModel\",\n",
    "    model_kwargs={\"input_features\": 24, \"num_classes\": num_classes, \"hidden_size\": 128},\n",
    "    device=device,\n",
    "    batch_size=128,\n",
    "    learning_rate=0.001,\n",
    "    epochs=20,\n",
    ")\n",
    "\n",
    "crnn_model_solver.train_and_evaluate(train_loader, test_loader, plot_results=True)"
   ]
  },
  {
   "cell_type": "code",
   "execution_count": null,
   "metadata": {},
   "outputs": [],
   "source": [
    "# Initialize Solver for CNNModel\n",
    "cnn_model_solver = Solver(\n",
    "    model_type=\"CNNModel\",\n",
    "    model_kwargs={\"input_channels\": 24, \"num_classes\": num_classes},\n",
    "    device=device,\n",
    "    batch_size=128,\n",
    "    learning_rate=0.001,\n",
    "    epochs=20,\n",
    ")\n",
    "\n",
    "cnn_model_solver.train_and_evaluate(train_loader, test_loader, plot_results=True)"
   ]
  },
  {
   "cell_type": "code",
   "execution_count": null,
   "metadata": {},
   "outputs": [],
   "source": [
    "# Initialize Solver for RNNModel\n",
    "rnn_model_solver = Solver(\n",
    "    model_type=\"RNNModel\",\n",
    "    model_kwargs={\"input_size\": 24, \"hidden_size\": 128, \"output_size\": num_classes},\n",
    "    device=device,\n",
    "    batch_size=128,\n",
    "    learning_rate=0.001,\n",
    "    epochs=20,\n",
    ")\n",
    "\n",
    "rnn_model_solver.train_and_evaluate(train_loader, test_loader, plot_results=True)"
   ]
  },
  {
   "cell_type": "markdown",
   "metadata": {},
   "source": [
    "## Run inference"
   ]
  },
  {
   "cell_type": "code",
   "execution_count": null,
   "metadata": {},
   "outputs": [],
   "source": [
    "scaler = data_processor.scaler\n",
    "label_encoder = data_processor.label_encoder\n",
    "chroma_path = \"/my/path/to/amadeus-ex-machina/data/raw/McGill-Billboard/0003/bothchroma.csv\"\n",
    "\n",
    "# Run inference using the trained model\n",
    "solver.run_inference(\n",
    "    chroma_path,\n",
    "    scaler,\n",
    "    label_encoder,\n",
    ")"
   ]
  }
 ],
 "metadata": {
  "kernelspec": {
   "display_name": "amadeus-ex-machina",
   "language": "python",
   "name": "python3"
  },
  "language_info": {
   "codemirror_mode": {
    "name": "ipython",
    "version": 3
   },
   "file_extension": ".py",
   "mimetype": "text/x-python",
   "name": "python",
   "nbconvert_exporter": "python",
   "pygments_lexer": "ipython3",
   "version": "3.11.0"
  }
 },
 "nbformat": 4,
 "nbformat_minor": 4
}
