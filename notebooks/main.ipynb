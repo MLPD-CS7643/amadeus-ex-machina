{
 "cells": [
  {
   "cell_type": "markdown",
   "metadata": {},
   "source": [
    "## Imports and setup"
   ]
  },
  {
   "cell_type": "code",
   "execution_count": null,
   "metadata": {},
   "outputs": [],
   "source": [
    "# Create or update conda environment\n",
    "# !conda env create -f ../environment.yaml\n",
    "!conda env update -f ../environment.yaml"
   ]
  },
  {
   "cell_type": "code",
   "execution_count": 1,
   "metadata": {},
   "outputs": [
    {
     "name": "stdout",
     "output_type": "stream",
     "text": [
      "no change     /opt/anaconda3/condabin/conda\n",
      "no change     /opt/anaconda3/bin/conda\n",
      "no change     /opt/anaconda3/bin/conda-env\n",
      "no change     /opt/anaconda3/bin/activate\n",
      "no change     /opt/anaconda3/bin/deactivate\n",
      "no change     /opt/anaconda3/etc/profile.d/conda.sh\n",
      "no change     /opt/anaconda3/etc/fish/conf.d/conda.fish\n",
      "no change     /opt/anaconda3/shell/condabin/Conda.psm1\n",
      "no change     /opt/anaconda3/shell/condabin/conda-hook.ps1\n",
      "no change     /opt/anaconda3/lib/python3.12/site-packages/xontrib/conda.xsh\n",
      "no change     /opt/anaconda3/etc/profile.d/conda.csh\n",
      "no change     /Users/dananabulsi/.bash_profile\n",
      "No action taken.\n",
      "\n",
      "CondaError: Run 'conda init' before 'conda activate'\n",
      "\n"
     ]
    }
   ],
   "source": [
    "# Activate conda environment\n",
    "!conda init\n",
    "!conda activate amadeus-ex-machina"
   ]
  },
  {
   "cell_type": "code",
   "execution_count": 2,
   "metadata": {},
   "outputs": [
    {
     "name": "stdout",
     "output_type": "stream",
     "text": [
      "Device is mps\n"
     ]
    }
   ],
   "source": [
    "# System imports\n",
    "import sys\n",
    "import os\n",
    "\n",
    "# Add the parent directory of 'notebooks' to sys.path\n",
    "parent_dir = os.path.abspath(os.path.join(os.getcwd(), \"..\"))  # Move one level up\n",
    "if parent_dir not in sys.path:\n",
    "    sys.path.append(parent_dir)\n",
    "\n",
    "# Class/model imports\n",
    "from data.data_loader import MirDataProcessor\n",
    "from utils.model_utils import get_device\n",
    "from solver import Solver\n",
    "import data.data_loader as data_loader\n",
    "\n",
    "# Package imports\n",
    "import torch\n",
    "\n",
    "# Select device\n",
    "device = get_device()\n",
    "print(f\"Device is {device}\")"
   ]
  },
  {
   "cell_type": "markdown",
   "metadata": {},
   "source": [
    "## Download and process data"
   ]
  },
  {
   "cell_type": "code",
   "execution_count": 3,
   "metadata": {},
   "outputs": [
    {
     "name": "stderr",
     "output_type": "stream",
     "text": [
      "WARNING: Zip and tar files will be deleted after they are uncompressed. If you download this dataset again, it will overwrite existing files, even if force_overwrite=False\n",
      "INFO: Downloading ['metadata', 'annotation_salami', 'annotation_lab', 'annotation_mirex13', 'annotation_chordino', 'index']. Index is being stored in /opt/anaconda3/envs/amadeus-ex-machina/lib/python3.11/site-packages/mirdata/datasets/indexes, and the rest of files in /Users/dananabulsi/Desktop/CODING/GitHub-Repos/amadeus-ex-machina/data/raw\n",
      "INFO: [metadata] downloading billboard-2.0-index.csv\n",
      "64.0kB [00:02, 22.6kB/s]                            \n",
      "INFO: [annotation_salami] downloading billboard-2.0-salami_chords.tar.gz\n",
      "336kB [00:03, 91.4kB/s]                            \n",
      "INFO: [annotation_lab] downloading billboard-2.0.1-lab.tar.gz\n",
      "0.99MB [00:03, 288kB/s]                             \n",
      "INFO: [annotation_mirex13] downloading billboard-2.0.1-mirex.tar.gz\n",
      "1.24MB [00:17, 75.7kB/s]                            \n",
      "INFO: [annotation_chordino] downloading billboard-2.0-chordino.tar.gz\n",
      "  2%|▏         | 6.09M/251M [00:05<03:46, 1.14MB/s]   \n"
     ]
    },
    {
     "ename": "KeyboardInterrupt",
     "evalue": "",
     "output_type": "error",
     "traceback": [
      "\u001b[0;31m---------------------------------------------------------------------------\u001b[0m",
      "\u001b[0;31mKeyboardInterrupt\u001b[0m                         Traceback (most recent call last)",
      "Cell \u001b[0;32mIn[3], line 2\u001b[0m\n\u001b[1;32m      1\u001b[0m \u001b[38;5;66;03m# Download and build useable train/test data out of the MIR Billboard dataset\u001b[39;00m\n\u001b[0;32m----> 2\u001b[0m data_processer \u001b[38;5;241m=\u001b[39m MirDataProcessor(download\u001b[38;5;241m=\u001b[39m\u001b[38;5;28;01mTrue\u001b[39;00m, batch_size\u001b[38;5;241m=\u001b[39m\u001b[38;5;241m64\u001b[39m)\n\u001b[1;32m      3\u001b[0m data_processer\u001b[38;5;241m.\u001b[39mmap_annotations()\n\u001b[1;32m      5\u001b[0m \u001b[38;5;66;03m# Create data loeaders for train and test set\u001b[39;00m\n",
      "File \u001b[0;32m~/Desktop/CODING/GitHub-Repos/amadeus-ex-machina/data/data_loader.py:39\u001b[0m, in \u001b[0;36mMirDataProcessor.__init__\u001b[0;34m(self, download, dataset_name, batch_size)\u001b[0m\n\u001b[1;32m     34\u001b[0m \u001b[38;5;28mself\u001b[39m\u001b[38;5;241m.\u001b[39mdataset \u001b[38;5;241m=\u001b[39m mirdata\u001b[38;5;241m.\u001b[39minitialize(\n\u001b[1;32m     35\u001b[0m     dataset_name, data_home\u001b[38;5;241m=\u001b[39m\u001b[38;5;28mstr\u001b[39m(\u001b[38;5;28mself\u001b[39m\u001b[38;5;241m.\u001b[39mraw_data_dir)\n\u001b[1;32m     36\u001b[0m )\n\u001b[1;32m     38\u001b[0m \u001b[38;5;28;01mif\u001b[39;00m download:\n\u001b[0;32m---> 39\u001b[0m     \u001b[38;5;28mself\u001b[39m\u001b[38;5;241m.\u001b[39mdataset\u001b[38;5;241m.\u001b[39mdownload(cleanup\u001b[38;5;241m=\u001b[39m\u001b[38;5;28;01mTrue\u001b[39;00m, force_overwrite\u001b[38;5;241m=\u001b[39m\u001b[38;5;28;01mTrue\u001b[39;00m)\n",
      "File \u001b[0;32m/opt/anaconda3/envs/amadeus-ex-machina/lib/python3.11/site-packages/mirdata/core.py:455\u001b[0m, in \u001b[0;36mDataset.download\u001b[0;34m(self, partial_download, force_overwrite, cleanup, allow_invalid_checksum)\u001b[0m\n\u001b[1;32m    428\u001b[0m \u001b[38;5;28;01mdef\u001b[39;00m \u001b[38;5;21mdownload\u001b[39m(\n\u001b[1;32m    429\u001b[0m     \u001b[38;5;28mself\u001b[39m,\n\u001b[1;32m    430\u001b[0m     partial_download\u001b[38;5;241m=\u001b[39m\u001b[38;5;28;01mNone\u001b[39;00m,\n\u001b[0;32m   (...)\u001b[0m\n\u001b[1;32m    433\u001b[0m     allow_invalid_checksum\u001b[38;5;241m=\u001b[39m\u001b[38;5;28;01mFalse\u001b[39;00m,\n\u001b[1;32m    434\u001b[0m ):\n\u001b[1;32m    435\u001b[0m \u001b[38;5;250m    \u001b[39m\u001b[38;5;124;03m\"\"\"Download data to `save_dir` and optionally print a message.\u001b[39;00m\n\u001b[1;32m    436\u001b[0m \n\u001b[1;32m    437\u001b[0m \u001b[38;5;124;03m    Args:\u001b[39;00m\n\u001b[0;32m   (...)\u001b[0m\n\u001b[1;32m    453\u001b[0m \n\u001b[1;32m    454\u001b[0m \u001b[38;5;124;03m    \"\"\"\u001b[39;00m\n\u001b[0;32m--> 455\u001b[0m     download_utils\u001b[38;5;241m.\u001b[39mdownloader(\n\u001b[1;32m    456\u001b[0m         \u001b[38;5;28mself\u001b[39m\u001b[38;5;241m.\u001b[39mdata_home,\n\u001b[1;32m    457\u001b[0m         remotes\u001b[38;5;241m=\u001b[39m\u001b[38;5;28mself\u001b[39m\u001b[38;5;241m.\u001b[39mremotes,\n\u001b[1;32m    458\u001b[0m         index\u001b[38;5;241m=\u001b[39m\u001b[38;5;28mself\u001b[39m\u001b[38;5;241m.\u001b[39m_index_data,\n\u001b[1;32m    459\u001b[0m         partial_download\u001b[38;5;241m=\u001b[39mpartial_download,\n\u001b[1;32m    460\u001b[0m         info_message\u001b[38;5;241m=\u001b[39m\u001b[38;5;28mself\u001b[39m\u001b[38;5;241m.\u001b[39m_download_info,\n\u001b[1;32m    461\u001b[0m         force_overwrite\u001b[38;5;241m=\u001b[39mforce_overwrite,\n\u001b[1;32m    462\u001b[0m         cleanup\u001b[38;5;241m=\u001b[39mcleanup,\n\u001b[1;32m    463\u001b[0m         allow_invalid_checksum\u001b[38;5;241m=\u001b[39mallow_invalid_checksum,\n\u001b[1;32m    464\u001b[0m     )\n",
      "File \u001b[0;32m/opt/anaconda3/envs/amadeus-ex-machina/lib/python3.11/site-packages/mirdata/download_utils.py:147\u001b[0m, in \u001b[0;36mdownloader\u001b[0;34m(save_dir, remotes, index, partial_download, info_message, force_overwrite, cleanup, allow_invalid_checksum)\u001b[0m\n\u001b[1;32m    139\u001b[0m     download_zip_file(\n\u001b[1;32m    140\u001b[0m         remotes[k],\n\u001b[1;32m    141\u001b[0m         save_dir,\n\u001b[0;32m   (...)\u001b[0m\n\u001b[1;32m    144\u001b[0m         allow_invalid_checksum,\n\u001b[1;32m    145\u001b[0m     )\n\u001b[1;32m    146\u001b[0m \u001b[38;5;28;01melif\u001b[39;00m \u001b[38;5;124m\"\u001b[39m\u001b[38;5;124m.gz\u001b[39m\u001b[38;5;124m\"\u001b[39m \u001b[38;5;129;01min\u001b[39;00m extension \u001b[38;5;129;01mor\u001b[39;00m \u001b[38;5;124m\"\u001b[39m\u001b[38;5;124m.tar\u001b[39m\u001b[38;5;124m\"\u001b[39m \u001b[38;5;129;01min\u001b[39;00m extension \u001b[38;5;129;01mor\u001b[39;00m \u001b[38;5;124m\"\u001b[39m\u001b[38;5;124m.bz2\u001b[39m\u001b[38;5;124m\"\u001b[39m \u001b[38;5;129;01min\u001b[39;00m extension:\n\u001b[0;32m--> 147\u001b[0m     download_tar_file(\n\u001b[1;32m    148\u001b[0m         remotes[k],\n\u001b[1;32m    149\u001b[0m         save_dir,\n\u001b[1;32m    150\u001b[0m         force_overwrite,\n\u001b[1;32m    151\u001b[0m         cleanup,\n\u001b[1;32m    152\u001b[0m         allow_invalid_checksum,\n\u001b[1;32m    153\u001b[0m     )\n\u001b[1;32m    154\u001b[0m \u001b[38;5;28;01melse\u001b[39;00m:\n\u001b[1;32m    155\u001b[0m     download_from_remote(\n\u001b[1;32m    156\u001b[0m         remotes[k], save_dir, force_overwrite, allow_invalid_checksum\n\u001b[1;32m    157\u001b[0m     )\n",
      "File \u001b[0;32m/opt/anaconda3/envs/amadeus-ex-machina/lib/python3.11/site-packages/mirdata/download_utils.py:380\u001b[0m, in \u001b[0;36mdownload_tar_file\u001b[0;34m(tar_remote, save_dir, force_overwrite, cleanup, allow_invalid_checksum)\u001b[0m\n\u001b[1;32m    368\u001b[0m \u001b[38;5;28;01mdef\u001b[39;00m \u001b[38;5;21mdownload_tar_file\u001b[39m(\n\u001b[1;32m    369\u001b[0m     tar_remote, save_dir, force_overwrite, cleanup, allow_invalid_checksum\n\u001b[1;32m    370\u001b[0m ):\n\u001b[1;32m    371\u001b[0m \u001b[38;5;250m    \u001b[39m\u001b[38;5;124;03m\"\"\"Download and untar a tar file.\u001b[39;00m\n\u001b[1;32m    372\u001b[0m \n\u001b[1;32m    373\u001b[0m \u001b[38;5;124;03m    Args:\u001b[39;00m\n\u001b[0;32m   (...)\u001b[0m\n\u001b[1;32m    378\u001b[0m \n\u001b[1;32m    379\u001b[0m \u001b[38;5;124;03m    \"\"\"\u001b[39;00m\n\u001b[0;32m--> 380\u001b[0m     tar_download_path \u001b[38;5;241m=\u001b[39m download_from_remote(\n\u001b[1;32m    381\u001b[0m         tar_remote, save_dir, force_overwrite, allow_invalid_checksum\n\u001b[1;32m    382\u001b[0m     )\n\u001b[1;32m    383\u001b[0m     untar(tar_download_path, cleanup\u001b[38;5;241m=\u001b[39mcleanup)\n",
      "File \u001b[0;32m/opt/anaconda3/envs/amadeus-ex-machina/lib/python3.11/site-packages/mirdata/download_utils.py:242\u001b[0m, in \u001b[0;36mdownload_from_remote\u001b[0;34m(remote, save_dir, force_overwrite, allow_invalid_checksum)\u001b[0m\n\u001b[1;32m    238\u001b[0m \u001b[38;5;28;01mwith\u001b[39;00m DownloadProgressBar(\n\u001b[1;32m    239\u001b[0m     unit\u001b[38;5;241m=\u001b[39m\u001b[38;5;124m\"\u001b[39m\u001b[38;5;124mB\u001b[39m\u001b[38;5;124m\"\u001b[39m, unit_scale\u001b[38;5;241m=\u001b[39m\u001b[38;5;28;01mTrue\u001b[39;00m, unit_divisor\u001b[38;5;241m=\u001b[39m\u001b[38;5;241m1024\u001b[39m, miniters\u001b[38;5;241m=\u001b[39m\u001b[38;5;241m1\u001b[39m\n\u001b[1;32m    240\u001b[0m ) \u001b[38;5;28;01mas\u001b[39;00m t:\n\u001b[1;32m    241\u001b[0m     \u001b[38;5;28;01mtry\u001b[39;00m:\n\u001b[0;32m--> 242\u001b[0m         urllib\u001b[38;5;241m.\u001b[39mrequest\u001b[38;5;241m.\u001b[39murlretrieve(\n\u001b[1;32m    243\u001b[0m             remote\u001b[38;5;241m.\u001b[39murl,\n\u001b[1;32m    244\u001b[0m             filename\u001b[38;5;241m=\u001b[39mdownload_path,\n\u001b[1;32m    245\u001b[0m             reporthook\u001b[38;5;241m=\u001b[39mt\u001b[38;5;241m.\u001b[39mupdate_to,\n\u001b[1;32m    246\u001b[0m             data\u001b[38;5;241m=\u001b[39m\u001b[38;5;28;01mNone\u001b[39;00m,\n\u001b[1;32m    247\u001b[0m         )\n\u001b[1;32m    248\u001b[0m     \u001b[38;5;28;01mexcept\u001b[39;00m \u001b[38;5;167;01mException\u001b[39;00m \u001b[38;5;28;01mas\u001b[39;00m exc:\n\u001b[1;32m    249\u001b[0m         error_msg \u001b[38;5;241m=\u001b[39m \u001b[38;5;124m\"\"\"\u001b[39m\n\u001b[1;32m    250\u001b[0m \u001b[38;5;124m                    mirdata failed to download the dataset from \u001b[39m\u001b[38;5;132;01m{}\u001b[39;00m\u001b[38;5;124m!\u001b[39m\n\u001b[1;32m    251\u001b[0m \u001b[38;5;124m                    Please try again in a few minutes.\u001b[39m\n\u001b[0;32m   (...)\u001b[0m\n\u001b[1;32m    256\u001b[0m             remote\u001b[38;5;241m.\u001b[39murl\n\u001b[1;32m    257\u001b[0m         )\n",
      "File \u001b[0;32m/opt/anaconda3/envs/amadeus-ex-machina/lib/python3.11/urllib/request.py:270\u001b[0m, in \u001b[0;36murlretrieve\u001b[0;34m(url, filename, reporthook, data)\u001b[0m\n\u001b[1;32m    267\u001b[0m     reporthook(blocknum, bs, size)\n\u001b[1;32m    269\u001b[0m \u001b[38;5;28;01mwhile\u001b[39;00m \u001b[38;5;28;01mTrue\u001b[39;00m:\n\u001b[0;32m--> 270\u001b[0m     block \u001b[38;5;241m=\u001b[39m fp\u001b[38;5;241m.\u001b[39mread(bs)\n\u001b[1;32m    271\u001b[0m     \u001b[38;5;28;01mif\u001b[39;00m \u001b[38;5;129;01mnot\u001b[39;00m block:\n\u001b[1;32m    272\u001b[0m         \u001b[38;5;28;01mbreak\u001b[39;00m\n",
      "File \u001b[0;32m/opt/anaconda3/envs/amadeus-ex-machina/lib/python3.11/http/client.py:465\u001b[0m, in \u001b[0;36mHTTPResponse.read\u001b[0;34m(self, amt)\u001b[0m\n\u001b[1;32m    462\u001b[0m \u001b[38;5;28;01mif\u001b[39;00m \u001b[38;5;28mself\u001b[39m\u001b[38;5;241m.\u001b[39mlength \u001b[38;5;129;01mis\u001b[39;00m \u001b[38;5;129;01mnot\u001b[39;00m \u001b[38;5;28;01mNone\u001b[39;00m \u001b[38;5;129;01mand\u001b[39;00m amt \u001b[38;5;241m>\u001b[39m \u001b[38;5;28mself\u001b[39m\u001b[38;5;241m.\u001b[39mlength:\n\u001b[1;32m    463\u001b[0m     \u001b[38;5;66;03m# clip the read to the \"end of response\"\u001b[39;00m\n\u001b[1;32m    464\u001b[0m     amt \u001b[38;5;241m=\u001b[39m \u001b[38;5;28mself\u001b[39m\u001b[38;5;241m.\u001b[39mlength\n\u001b[0;32m--> 465\u001b[0m s \u001b[38;5;241m=\u001b[39m \u001b[38;5;28mself\u001b[39m\u001b[38;5;241m.\u001b[39mfp\u001b[38;5;241m.\u001b[39mread(amt)\n\u001b[1;32m    466\u001b[0m \u001b[38;5;28;01mif\u001b[39;00m \u001b[38;5;129;01mnot\u001b[39;00m s \u001b[38;5;129;01mand\u001b[39;00m amt:\n\u001b[1;32m    467\u001b[0m     \u001b[38;5;66;03m# Ideally, we would raise IncompleteRead if the content-length\u001b[39;00m\n\u001b[1;32m    468\u001b[0m     \u001b[38;5;66;03m# wasn't satisfied, but it might break compatibility.\u001b[39;00m\n\u001b[1;32m    469\u001b[0m     \u001b[38;5;28mself\u001b[39m\u001b[38;5;241m.\u001b[39m_close_conn()\n",
      "File \u001b[0;32m/opt/anaconda3/envs/amadeus-ex-machina/lib/python3.11/socket.py:705\u001b[0m, in \u001b[0;36mSocketIO.readinto\u001b[0;34m(self, b)\u001b[0m\n\u001b[1;32m    703\u001b[0m \u001b[38;5;28;01mwhile\u001b[39;00m \u001b[38;5;28;01mTrue\u001b[39;00m:\n\u001b[1;32m    704\u001b[0m     \u001b[38;5;28;01mtry\u001b[39;00m:\n\u001b[0;32m--> 705\u001b[0m         \u001b[38;5;28;01mreturn\u001b[39;00m \u001b[38;5;28mself\u001b[39m\u001b[38;5;241m.\u001b[39m_sock\u001b[38;5;241m.\u001b[39mrecv_into(b)\n\u001b[1;32m    706\u001b[0m     \u001b[38;5;28;01mexcept\u001b[39;00m timeout:\n\u001b[1;32m    707\u001b[0m         \u001b[38;5;28mself\u001b[39m\u001b[38;5;241m.\u001b[39m_timeout_occurred \u001b[38;5;241m=\u001b[39m \u001b[38;5;28;01mTrue\u001b[39;00m\n",
      "File \u001b[0;32m/opt/anaconda3/envs/amadeus-ex-machina/lib/python3.11/ssl.py:1278\u001b[0m, in \u001b[0;36mSSLSocket.recv_into\u001b[0;34m(self, buffer, nbytes, flags)\u001b[0m\n\u001b[1;32m   1274\u001b[0m     \u001b[38;5;28;01mif\u001b[39;00m flags \u001b[38;5;241m!=\u001b[39m \u001b[38;5;241m0\u001b[39m:\n\u001b[1;32m   1275\u001b[0m         \u001b[38;5;28;01mraise\u001b[39;00m \u001b[38;5;167;01mValueError\u001b[39;00m(\n\u001b[1;32m   1276\u001b[0m           \u001b[38;5;124m\"\u001b[39m\u001b[38;5;124mnon-zero flags not allowed in calls to recv_into() on \u001b[39m\u001b[38;5;132;01m%s\u001b[39;00m\u001b[38;5;124m\"\u001b[39m \u001b[38;5;241m%\u001b[39m\n\u001b[1;32m   1277\u001b[0m           \u001b[38;5;28mself\u001b[39m\u001b[38;5;241m.\u001b[39m\u001b[38;5;18m__class__\u001b[39m)\n\u001b[0;32m-> 1278\u001b[0m     \u001b[38;5;28;01mreturn\u001b[39;00m \u001b[38;5;28mself\u001b[39m\u001b[38;5;241m.\u001b[39mread(nbytes, buffer)\n\u001b[1;32m   1279\u001b[0m \u001b[38;5;28;01melse\u001b[39;00m:\n\u001b[1;32m   1280\u001b[0m     \u001b[38;5;28;01mreturn\u001b[39;00m \u001b[38;5;28msuper\u001b[39m()\u001b[38;5;241m.\u001b[39mrecv_into(buffer, nbytes, flags)\n",
      "File \u001b[0;32m/opt/anaconda3/envs/amadeus-ex-machina/lib/python3.11/ssl.py:1134\u001b[0m, in \u001b[0;36mSSLSocket.read\u001b[0;34m(self, len, buffer)\u001b[0m\n\u001b[1;32m   1132\u001b[0m \u001b[38;5;28;01mtry\u001b[39;00m:\n\u001b[1;32m   1133\u001b[0m     \u001b[38;5;28;01mif\u001b[39;00m buffer \u001b[38;5;129;01mis\u001b[39;00m \u001b[38;5;129;01mnot\u001b[39;00m \u001b[38;5;28;01mNone\u001b[39;00m:\n\u001b[0;32m-> 1134\u001b[0m         \u001b[38;5;28;01mreturn\u001b[39;00m \u001b[38;5;28mself\u001b[39m\u001b[38;5;241m.\u001b[39m_sslobj\u001b[38;5;241m.\u001b[39mread(\u001b[38;5;28mlen\u001b[39m, buffer)\n\u001b[1;32m   1135\u001b[0m     \u001b[38;5;28;01melse\u001b[39;00m:\n\u001b[1;32m   1136\u001b[0m         \u001b[38;5;28;01mreturn\u001b[39;00m \u001b[38;5;28mself\u001b[39m\u001b[38;5;241m.\u001b[39m_sslobj\u001b[38;5;241m.\u001b[39mread(\u001b[38;5;28mlen\u001b[39m)\n",
      "\u001b[0;31mKeyboardInterrupt\u001b[0m: "
     ]
    }
   ],
   "source": [
    "# Download and build useable train/test data out of the MIR Billboard dataset\n",
    "data_processer = MirDataProcessor(download=True, batch_size=64)\n",
    "data_processer.map_annotations()\n",
    "\n",
    "# Create data loeaders for train and test set\n",
    "train_loader, test_loader, num_classes = data_processer.build_data_loaders()\n",
    "\n",
    "print(f\"Number of classes: {num_classes}\")"
   ]
  },
  {
   "cell_type": "code",
   "execution_count": 4,
   "metadata": {},
   "outputs": [
    {
     "name": "stdout",
     "output_type": "stream",
     "text": [
      "Downloading from https://www.dropbox.com/s/p4xtixbvt4hw5c6/billboard-2.0-salami_chords.tar.xz?dl=1...\n",
      "Downloaded file saved to ../data/raw/billboard-2.0-salami_chords.tar.xz.\n",
      "Extracting ../data/raw/billboard-2.0-salami_chords.tar.xz to ../data/raw/billboard-2.0-salami_chords...\n",
      "Extraction complete! Files extracted to ../data/raw/billboard-2.0-salami_chords\n",
      "Removed the downloaded file: ../data/raw/billboard-2.0-salami_chords.tar.xz\n"
     ]
    }
   ],
   "source": [
    "# Links and download paths\n",
    "url = \"https://www.dropbox.com/s/p4xtixbvt4hw5c6/billboard-2.0-salami_chords.tar.xz?dl=1\"\n",
    "billboard_salami_download_path = \"../data/raw/billboard-2.0-salami_chords.tar.xz\"\n",
    "billboard_salami_path = \"../data/raw/billboard-2.0-salami_chords\"\n",
    "\n",
    "# Download and extract the archive\n",
    "data_loader.download_and_extract(url, billboard_salami_download_path, billboard_salami_path)"
   ]
  },
  {
   "cell_type": "code",
   "execution_count": null,
   "metadata": {},
   "outputs": [
    {
     "name": "stdout",
     "output_type": "stream",
     "text": [
      "Processing lab file: ../data/raw/billboard-2.0-salami_chords/McGill-Billboard/1069/salami_chords.txt\n",
      "[download]  61.7% of    2.75MiB at   18.55KiB/s ETA 00:58"
     ]
    },
    {
     "name": "stderr",
     "output_type": "stream",
     "text": [
      "[download] Got error: HTTPSConnectionPool(host='rr2---sn-f5u5opt5-3fp6.googlevideo.com', port=443): Read timed out.\n"
     ]
    },
    {
     "name": "stdout",
     "output_type": "stream",
     "text": [
      "[download] Got error: HTTPSConnectionPool(host='rr2---sn-f5u5opt5-3fp6.googlevideo.com', port=443): Read timed out.\n",
      "Processing lab file: ../data/raw/billboard-2.0-salami_chords/McGill-Billboard/0987/salami_chords.txt\n",
      "[download]  45.7% of    2.42MiB at   16.96KiB/s ETA 01:19"
     ]
    }
   ],
   "source": [
    "# Process lab files in the extracted directory\n",
    "data_loader.process_lab_files(billboard_salami_path)"
   ]
  },
  {
   "cell_type": "markdown",
   "metadata": {},
   "source": [
    "## Build and train models"
   ]
  },
  {
   "cell_type": "code",
   "execution_count": null,
   "metadata": {},
   "outputs": [],
   "source": [
    "# Initialize Solver for MLPChordClassifier\n",
    "mlp_chord_classifier_solver = Solver(\n",
    "    model_type=\"MLPChordClassifier\",\n",
    "    model_kwargs={\"input_size\": 24, \"num_classes\": num_classes},\n",
    "    device=device,\n",
    "    batch_size=128,\n",
    "    learning_rate=0.001,\n",
    "    epochs=20,\n",
    ")\n",
    "\n",
    "# Train and evaluate the model\n",
    "mlp_chord_classifier_solver.train_and_evaluate(train_loader, test_loader, plot_results=True)"
   ]
  },
  {
   "cell_type": "code",
   "execution_count": null,
   "metadata": {},
   "outputs": [],
   "source": [
    "# Initialize Solver for CRNNModel\n",
    "crnn_model_solver = Solver(\n",
    "    model_type=\"CRNNModel\",\n",
    "    model_kwargs={\"input_features\": 24, \"num_classes\": num_classes, \"hidden_size\": 128},\n",
    "    device=device,\n",
    "    batch_size=128,\n",
    "    learning_rate=0.001,\n",
    "    epochs=20,\n",
    ")\n",
    "\n",
    "crnn_model_solver.train_and_evaluate(train_loader, test_loader, plot_results=True)"
   ]
  },
  {
   "cell_type": "code",
   "execution_count": null,
   "metadata": {},
   "outputs": [],
   "source": [
    "# Initialize Solver for CNNModel\n",
    "cnn_model_solver = Solver(\n",
    "    model_type=\"CNNModel\",\n",
    "    model_kwargs={\"input_channels\": 24, \"num_classes\": num_classes},\n",
    "    device=device,\n",
    "    batch_size=128,\n",
    "    learning_rate=0.001,\n",
    "    epochs=20,\n",
    ")\n",
    "\n",
    "cnn_model_solver.train_and_evaluate(train_loader, test_loader, plot_results=True)"
   ]
  },
  {
   "cell_type": "code",
   "execution_count": null,
   "metadata": {},
   "outputs": [],
   "source": [
    "# Initialize Solver for RNNModel\n",
    "rnn_model_solver = Solver(\n",
    "    model_type=\"RNNModel\",\n",
    "    model_kwargs={\"input_size\": 24, \"hidden_size\": 128, \"output_size\": num_classes},\n",
    "    device=device,\n",
    "    batch_size=128,\n",
    "    learning_rate=0.001,\n",
    "    epochs=20,\n",
    ")\n",
    "\n",
    "rnn_model_solver.train_and_evaluate(train_loader, test_loader, plot_results=True)"
   ]
  },
  {
   "cell_type": "markdown",
   "metadata": {},
   "source": [
    "## Run inference"
   ]
  },
  {
   "cell_type": "code",
   "execution_count": null,
   "metadata": {},
   "outputs": [],
   "source": [
    "scaler = data_processor.scaler\n",
    "label_encoder = data_processor.label_encoder\n",
    "chroma_path = \"/my/path/to/amadeus-ex-machina/data/raw/McGill-Billboard/0003/bothchroma.csv\"\n",
    "\n",
    "# Run inference using the trained model\n",
    "solver.run_inference(\n",
    "    chroma_path,\n",
    "    scaler,\n",
    "    label_encoder,\n",
    ")"
   ]
  }
 ],
 "metadata": {
  "kernelspec": {
   "display_name": "amadeus-ex-machina",
   "language": "python",
   "name": "python3"
  },
  "language_info": {
   "codemirror_mode": {
    "name": "ipython",
    "version": 3
   },
   "file_extension": ".py",
   "mimetype": "text/x-python",
   "name": "python",
   "nbconvert_exporter": "python",
   "pygments_lexer": "ipython3",
   "version": "3.11.0"
  }
 },
 "nbformat": 4,
 "nbformat_minor": 4
}
