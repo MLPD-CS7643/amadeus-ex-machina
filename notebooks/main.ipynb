{
 "cells": [
  {
   "cell_type": "markdown",
   "metadata": {},
   "source": [
    "## Imports and setup"
   ]
  },
  {
   "cell_type": "code",
   "execution_count": null,
   "metadata": {},
   "outputs": [],
   "source": [
    "# Create or update conda environment\n",
    "# !conda env create -f ../environment.yaml\n",
    "!conda env update -f ../environment.yaml\n",
    "# !conda remove --name amadeus-ex-machina --all"
   ]
  },
  {
   "cell_type": "code",
   "execution_count": null,
   "metadata": {},
   "outputs": [],
   "source": [
    "# Activate conda environment\n",
    "!conda init\n",
    "!conda activate amadeus-ex-machina"
   ]
  },
  {
   "cell_type": "code",
   "execution_count": 1,
   "metadata": {},
   "outputs": [
    {
     "name": "stdout",
     "output_type": "stream",
     "text": [
      "Device is mps\n"
     ]
    }
   ],
   "source": [
    "# System imports\n",
    "import sys\n",
    "import os\n",
    "\n",
    "# Add the parent directory of 'notebooks' to sys.path\n",
    "parent_dir = os.path.abspath(os.path.join(os.getcwd(), \"..\"))  # Move one level up\n",
    "if parent_dir not in sys.path:\n",
    "    sys.path.append(parent_dir)\n",
    "\n",
    "# Class/model imports\n",
    "from data.data_loader import MirDataProcessor\n",
    "from utils.model_utils import get_device\n",
    "from solver import Solver\n",
    "import data.youtube_download as youtube_download\n",
    "\n",
    "# Package imports\n",
    "import torch\n",
    "\n",
    "# Select device\n",
    "device = get_device()\n",
    "print(f\"Device is {device}\")"
   ]
  },
  {
   "cell_type": "markdown",
   "metadata": {},
   "source": [
    "## Download and process data"
   ]
  },
  {
   "cell_type": "code",
   "execution_count": null,
   "metadata": {},
   "outputs": [],
   "source": [
    "# Download and build useable train/test data out of the MIR Billboard dataset\n",
    "data_processer = MirDataProcessor(download=True, batch_size=64)\n",
    "data_processer.process_data()\n",
    "\n",
    "# Create data loeaders for train and test set\n",
    "train_loader, test_loader, num_classes = data_processer.build_data_loaders()\n",
    "\n",
    "print(f\"Number of classes: {num_classes}\")"
   ]
  },
  {
   "cell_type": "code",
   "execution_count": null,
   "metadata": {},
   "outputs": [
    {
     "name": "stdout",
     "output_type": "stream",
     "text": [
      "Starting to process .lab files in base directory: ../data/raw/McGill-Billboard\n",
      "\n",
      "\n",
      "\n",
      "Entering directory: ../data/raw/McGill-Billboard/1069\n",
      "Processing .lab file: ../data/raw/McGill-Billboard/1069/salami_chords.txt\n",
      "Attempting to parse .lab file: ../data/raw/McGill-Billboard/1069/salami_chords.txt\n",
      "Expected output path for MP3: ../data/raw/McGill-Billboard/1069/salami_chords (The J. Geils Band - Must Of Got Lost).mp3\n",
      "Initiating YouTube download for query: Must Of Got Lost The J. Geils Band\n",
      "[youtube:search] Extracting URL: ytsearch:Must Of Got Lost The J. Geils Band\n",
      "[download] Downloading playlist: Must Of Got Lost The J. Geils Band\n",
      "[youtube:search] query \"Must Of Got Lost The J. Geils Band\": Downloading web client config\n",
      "[youtube:search] query \"Must Of Got Lost The J. Geils Band\" page 1: Downloading API JSON\n",
      "[youtube:search] Playlist Must Of Got Lost The J. Geils Band: Downloading 1 items of 1\n",
      "[download] Downloading item 1 of 1\n",
      "[youtube] Extracting URL: https://www.youtube.com/watch?v=avSyXCCY8IA\n",
      "[youtube] avSyXCCY8IA: Downloading webpage\n",
      "[youtube] avSyXCCY8IA: Downloading ios player API JSON\n",
      "[youtube] avSyXCCY8IA: Downloading mweb player API JSON\n",
      "[youtube] avSyXCCY8IA: Downloading m3u8 information\n",
      "[download] Finished downloading playlist: Must Of Got Lost The J. Geils Band\n",
      "Found video URL: https://rr3---sn-8p85-3fpe7.googlevideo.com/videoplayback?expire=1733467400&ei=qEhSZ92CM-mDp-oPpNqX2Ak&ip=37.231.105.233&id=o-AJ_ReK-xaJQQJ58vNhI39zVdBtbXmd6es7Cs_DJtD8Wn&itag=251&source=youtube&requiressl=yes&xpc=EgVo2aDSNQ%3D%3D&met=1733445800%2C&mh=vk&mm=31%2C29&mn=sn-8p85-3fpe7%2Csn-hgn7rnee&ms=au%2Crdu&mv=m&mvi=3&pl=22&rms=au%2Cau&gcr=kw&initcwndbps=1003750&bui=AQn3pFQPIB7Cm9wZ_fkVqNfohHS14omUG5WELvw85fL7vCKxNNEUojAtAyi8I8KPOsod0SU0n4shnlcf&spc=qtApAar6RYD7XAWda2NINUKklda0gzFM1Xjt4o2-CUIloSs&vprv=1&svpuc=1&mime=audio%2Fwebm&rqh=1&gir=yes&clen=2879430&dur=178.261&lmt=1714714353777629&mt=1733445430&fvip=5&keepalive=yes&fexp=51326932%2C51335594%2C51347746&c=IOS&txp=1318224&sparams=expire%2Cei%2Cip%2Cid%2Citag%2Csource%2Crequiressl%2Cxpc%2Cgcr%2Cbui%2Cspc%2Cvprv%2Csvpuc%2Cmime%2Crqh%2Cgir%2Cclen%2Cdur%2Clmt&sig=AJfQdSswRgIhAIeBEimEHwYWu-JLqnvxPVaBQ7h-WqSjvBRvymTMq-ROAiEA_ird78KhW7zk1H-yjo4U83dCUpaQnVSSKlbPnQ2CdiU%3D&lsparams=met%2Cmh%2Cmm%2Cmn%2Cms%2Cmv%2Cmvi%2Cpl%2Crms%2Cinitcwndbps&lsig=AGluJ3MwRAIgPlUF7zpNrfhCz9Avev6qZmLWb7_VWDs_AE9Dpz6vohYCIFNnXjwRcg_OWYfoRY1Iy-vongqDOP4T8ugjM2pK1bP7. Starting download...\n",
      "[generic] Extracting URL: https://rr3---sn-8p85-3fpe7.googlevideo.com/videoplayback?expire=1733467400&ei=qEhSZ92CM-mDp-oPpN...ngqDOP4T8ugjM2pK1bP7\n",
      "[generic] videoplayback?expire=1733467400&ei=qEhSZ92CM-mDp-oPpNqX2Ak&ip=37.231.105.233&id=o-AJ_ReK-xaJQQJ58vNhI39zVdBtbXmd6es7Cs_DJtD8Wn&itag=251&source=youtube&requiressl=yes&xpc=EgVo2aDSNQ==&met=1733445800,&mh=vk&mm=31,29&mn=sn-8p85-3fpe7,sn-hgn7rnee&ms=au,rdu&mv=m&mvi=3&pl=22&rms=au,au&gcr=kw&initcwndbps=1003750&bui=AQn3pFQPIB7Cm9wZ_fkVqNfohHS14omUG5WELvw85fL7vCKxNNEUojAtAyi8I8KPOsod0SU0n4shnlcf&spc=qtApAar6RYD7XAWda2NINUKklda0gzFM1Xjt4o2-CUIloSs&vprv=1&svpuc=1&mime=audio/webm&rqh=1&gir=yes&clen=2879430&dur=178: Downloading webpage\n",
      "[info] videoplayback?expire=1733467400&ei=qEhSZ92CM-mDp-oPpNqX2Ak&ip=37.231.105.233&id=o-AJ_ReK-xaJQQJ58vNhI39zVdBtbXmd6es7Cs_DJtD8Wn&itag=251&source=youtube&requiressl=yes&xpc=EgVo2aDSNQ==&met=1733445800,&mh=vk&mm=31,29&mn=sn-8p85-3fpe7,sn-hgn7rnee&ms=au,rdu&mv=m&mvi=3&pl=22&rms=au,au&gcr=kw&initcwndbps=1003750&bui=AQn3pFQPIB7Cm9wZ_fkVqNfohHS14omUG5WELvw85fL7vCKxNNEUojAtAyi8I8KPOsod0SU0n4shnlcf&spc=qtApAar6RYD7XAWda2NINUKklda0gzFM1Xjt4o2-CUIloSs&vprv=1&svpuc=1&mime=audio/webm&rqh=1&gir=yes&clen=2879430&dur=178: Downloading 1 format(s): webm\n",
      "[download] Resuming download at byte 1029292\n",
      "[download] Destination: ../data/raw/McGill-Billboard/1069/salami_chords (The J. Geils Band - Must Of Got Lost).mp3\n",
      "[download] 100% of    2.75MiB in 00:00:00 at 7.43MiB/s   \n",
      "[ExtractAudio] Destination: ../data/raw/McGill-Billboard/1069/salami_chords (The J. Geils Band - Must Of Got Lost).mp3.mp3\n",
      "Deleting original file ../data/raw/McGill-Billboard/1069/salami_chords (The J. Geils Band - Must Of Got Lost).mp3 (pass -k to keep)\n",
      "Download complete. File saved as ../data/raw/McGill-Billboard/1069/salami_chords (The J. Geils Band - Must Of Got Lost).mp3\n",
      "\n",
      "\n",
      "\n",
      "Entering directory: ../data/raw/McGill-Billboard/0987\n",
      "Processing .lab file: ../data/raw/McGill-Billboard/0987/salami_chords.txt\n",
      "Attempting to parse .lab file: ../data/raw/McGill-Billboard/0987/salami_chords.txt\n",
      "Expected output path for MP3: ../data/raw/McGill-Billboard/0987/salami_chords (Dolly Parton - Baby I'm Burnin').mp3\n",
      "Initiating YouTube download for query: Baby I'm Burnin' Dolly Parton\n",
      "[youtube:search] Extracting URL: ytsearch:Baby I'm Burnin' Dolly Parton\n",
      "[download] Downloading playlist: Baby I'm Burnin' Dolly Parton\n",
      "[youtube:search] query \"Baby I'm Burnin' Dolly Parton\": Downloading web client config\n",
      "[youtube:search] query \"Baby I'm Burnin' Dolly Parton\" page 1: Downloading API JSON\n",
      "[youtube:search] Playlist Baby I'm Burnin' Dolly Parton: Downloading 1 items of 1\n",
      "[download] Downloading item 1 of 1\n",
      "[youtube] Extracting URL: https://www.youtube.com/watch?v=NYwyUMk_ofo\n",
      "[youtube] NYwyUMk_ofo: Downloading webpage\n",
      "[youtube] NYwyUMk_ofo: Downloading ios player API JSON\n",
      "[youtube] NYwyUMk_ofo: Downloading mweb player API JSON\n",
      "[youtube] NYwyUMk_ofo: Downloading m3u8 information\n",
      "[download] Finished downloading playlist: Baby I'm Burnin' Dolly Parton\n",
      "Found video URL: https://rr1---sn-8p85-3fpel.googlevideo.com/videoplayback?expire=1733467406&ei=rkhSZ9DYMJLVmLAPmvbd8A4&ip=37.231.105.233&id=o-ACLEnirma9NBDg0e2xnNkuUHO56Sl9mRwJBXUQdM4ydV&itag=251&source=youtube&requiressl=yes&xpc=EgVo2aDSNQ%3D%3D&met=1733445806%2C&mh=RY&mm=31%2C29&mn=sn-8p85-3fpel%2Csn-hgn7yn7s&ms=au%2Crdu&mv=m&mvi=1&pl=22&rms=au%2Cau&pcm2=yes&gcr=kw&initcwndbps=1346250&bui=AQn3pFS54VXsRaEBvXy1KWPzTWCwjuQ_dKfbsxrVZQjJxHifYKk6T7-A5O8FQcMyCew4SDA_QhaWq-5C&spc=qtApAcGK-GQNjJPqt9q_uuZvOryjfSuX_ZDPpN4s5PkTFQs&vprv=1&svpuc=1&mime=audio%2Fwebm&rqh=1&gir=yes&clen=1828467&dur=140.741&lmt=1714611828718605&mt=1733445430&fvip=5&keepalive=yes&fexp=51326932%2C51335594%2C51347746&c=IOS&txp=4402434&sparams=expire%2Cei%2Cip%2Cid%2Citag%2Csource%2Crequiressl%2Cxpc%2Cpcm2%2Cgcr%2Cbui%2Cspc%2Cvprv%2Csvpuc%2Cmime%2Crqh%2Cgir%2Cclen%2Cdur%2Clmt&sig=AJfQdSswRQIgDG3T_jswzsjpPNRaBTHTlmCcgIk8Th6j1lVjq_PR5-QCIQCATPjnMop3XvxCLDHJun80DVF_Z2BYqLlyp7mH74_qgA%3D%3D&lsparams=met%2Cmh%2Cmm%2Cmn%2Cms%2Cmv%2Cmvi%2Cpl%2Crms%2Cinitcwndbps&lsig=AGluJ3MwRQIgHkJ-qf1X94dxlK_Ay4IuayWnmISzzKwnULOtP4VVmfcCIQDes6yFuAClvyz5wheLLyYuNde_rsL2lDEGyfieoisbPA%3D%3D. Starting download...\n",
      "[generic] Extracting URL: https://rr1---sn-8p85-3fpel.googlevideo.com/videoplayback?expire=1733467406&ei=rkhSZ9DYMJLVmLAPmv...lDEGyfieoisbPA%3D%3D\n",
      "[generic] videoplayback?expire=1733467406&ei=rkhSZ9DYMJLVmLAPmvbd8A4&ip=37.231.105.233&id=o-ACLEnirma9NBDg0e2xnNkuUHO56Sl9mRwJBXUQdM4ydV&itag=251&source=youtube&requiressl=yes&xpc=EgVo2aDSNQ==&met=1733445806,&mh=RY&mm=31,29&mn=sn-8p85-3fpel,sn-hgn7yn7s&ms=au,rdu&mv=m&mvi=1&pl=22&rms=au,au&pcm2=yes&gcr=kw&initcwndbps=1346250&bui=AQn3pFS54VXsRaEBvXy1KWPzTWCwjuQ_dKfbsxrVZQjJxHifYKk6T7-A5O8FQcMyCew4SDA_QhaWq-5C&spc=qtApAcGK-GQNjJPqt9q_uuZvOryjfSuX_ZDPpN4s5PkTFQs&vprv=1&svpuc=1&mime=audio/webm&rqh=1&gir=yes&clen=1828467&dur=140: Downloading webpage\n",
      "[info] videoplayback?expire=1733467406&ei=rkhSZ9DYMJLVmLAPmvbd8A4&ip=37.231.105.233&id=o-ACLEnirma9NBDg0e2xnNkuUHO56Sl9mRwJBXUQdM4ydV&itag=251&source=youtube&requiressl=yes&xpc=EgVo2aDSNQ==&met=1733445806,&mh=RY&mm=31,29&mn=sn-8p85-3fpel,sn-hgn7yn7s&ms=au,rdu&mv=m&mvi=1&pl=22&rms=au,au&pcm2=yes&gcr=kw&initcwndbps=1346250&bui=AQn3pFS54VXsRaEBvXy1KWPzTWCwjuQ_dKfbsxrVZQjJxHifYKk6T7-A5O8FQcMyCew4SDA_QhaWq-5C&spc=qtApAcGK-GQNjJPqt9q_uuZvOryjfSuX_ZDPpN4s5PkTFQs&vprv=1&svpuc=1&mime=audio/webm&rqh=1&gir=yes&clen=1828467&dur=140: Downloading 1 format(s): webm\n",
      "[download] Destination: ../data/raw/McGill-Billboard/0987/salami_chords (Dolly Parton - Baby I'm Burnin').mp3\n",
      "[download]  70.8% of    1.74MiB at   25.53KiB/s ETA 00:20"
     ]
    },
    {
     "name": "stderr",
     "output_type": "stream",
     "text": [
      "[download] Got error: 1310720 bytes read, 517747 more expected\n"
     ]
    },
    {
     "name": "stdout",
     "output_type": "stream",
     "text": [
      "[download] Got error: 1310720 bytes read, 517747 more expected\n",
      "\n",
      "\n",
      "\n",
      "Entering directory: ../data/raw/McGill-Billboard/0389\n",
      "Processing .lab file: ../data/raw/McGill-Billboard/0389/salami_chords.txt\n",
      "Attempting to parse .lab file: ../data/raw/McGill-Billboard/0389/salami_chords.txt\n",
      "Expected output path for MP3: ../data/raw/McGill-Billboard/0389/salami_chords (General Public - Tenderness).mp3\n",
      "Initiating YouTube download for query: Tenderness General Public\n",
      "[youtube:search] Extracting URL: ytsearch:Tenderness General Public\n",
      "[download] Downloading playlist: Tenderness General Public\n",
      "[youtube:search] query \"Tenderness General Public\": Downloading web client config\n",
      "[youtube:search] query \"Tenderness General Public\" page 1: Downloading API JSON\n",
      "[youtube:search] Playlist Tenderness General Public: Downloading 1 items of 1\n",
      "[download] Downloading item 1 of 1\n",
      "[youtube] Extracting URL: https://www.youtube.com/watch?v=bKyVQid8Ch4\n",
      "[youtube] bKyVQid8Ch4: Downloading webpage\n",
      "[youtube] bKyVQid8Ch4: Downloading ios player API JSON\n",
      "[youtube] bKyVQid8Ch4: Downloading mweb player API JSON\n",
      "[youtube] bKyVQid8Ch4: Downloading m3u8 information\n",
      "[download] Finished downloading playlist: Tenderness General Public\n",
      "Found video URL: https://rr1---sn-8p85-3fpee.googlevideo.com/videoplayback?expire=1733467460&ei=5EhSZ5n8Na2dmLAPiuS0mQ0&ip=37.231.105.233&id=o-ACKTMpSLk1h1OISFvGGVb-44-zei0Ufu-4_RMVlz9Wr_&itag=251&source=youtube&requiressl=yes&xpc=EgVo2aDSNQ%3D%3D&met=1733445860%2C&mh=VG&mm=31%2C29&mn=sn-8p85-3fpee%2Csn-hgn7yn76&ms=au%2Crdu&mv=m&mvi=1&pcm2cms=yes&pl=22&rms=au%2Cau&initcwndbps=696250&bui=AQn3pFS1uRmIKyyvu-Idb21Yq-jreNqz5DnbX7J7J5oaq9kmMy0J_Ocqw-N-KbApt8GLn1qnEEfF6k6s&spc=qtApAQPYGa-5UZjLLGRqgAIRViuiJ-E9tz2dPeQCK9HIIKM&vprv=1&svpuc=1&mime=audio%2Fwebm&rqh=1&gir=yes&clen=3202319&dur=218.101&lmt=1731527198166226&mt=1733445668&fvip=4&keepalive=yes&fexp=51326932%2C51335594%2C51347746&c=IOS&txp=4432434&sparams=expire%2Cei%2Cip%2Cid%2Citag%2Csource%2Crequiressl%2Cxpc%2Cbui%2Cspc%2Cvprv%2Csvpuc%2Cmime%2Crqh%2Cgir%2Cclen%2Cdur%2Clmt&sig=AJfQdSswRAIgBDBtugZySlF4hXQdynxejyRND6oR3xVHoHo9qOk-o_wCIDGv79iVmBxhuZr1OSlbA84gmP6oV82YMzTd44mD-23h&lsparams=met%2Cmh%2Cmm%2Cmn%2Cms%2Cmv%2Cmvi%2Cpcm2cms%2Cpl%2Crms%2Cinitcwndbps&lsig=AGluJ3MwRQIhAM5F7BFceXeMITKcefilXEpnZwIPY6wuJ-h-Mhd9bFCyAiATF60Q9AIk_jz-LTmFWEyrqwkprfQpqdI_Oscox6jD2g%3D%3D. Starting download...\n",
      "[generic] Extracting URL: https://rr1---sn-8p85-3fpee.googlevideo.com/videoplayback?expire=1733467460&ei=5EhSZ5n8Na2dmLAPiu...qdI_Oscox6jD2g%3D%3D\n",
      "[generic] videoplayback?expire=1733467460&ei=5EhSZ5n8Na2dmLAPiuS0mQ0&ip=37.231.105.233&id=o-ACKTMpSLk1h1OISFvGGVb-44-zei0Ufu-4_RMVlz9Wr_&itag=251&source=youtube&requiressl=yes&xpc=EgVo2aDSNQ==&met=1733445860,&mh=VG&mm=31,29&mn=sn-8p85-3fpee,sn-hgn7yn76&ms=au,rdu&mv=m&mvi=1&pcm2cms=yes&pl=22&rms=au,au&initcwndbps=696250&bui=AQn3pFS1uRmIKyyvu-Idb21Yq-jreNqz5DnbX7J7J5oaq9kmMy0J_Ocqw-N-KbApt8GLn1qnEEfF6k6s&spc=qtApAQPYGa-5UZjLLGRqgAIRViuiJ-E9tz2dPeQCK9HIIKM&vprv=1&svpuc=1&mime=audio/webm&rqh=1&gir=yes&clen=3202319&dur=218: Downloading webpage\n",
      "[info] videoplayback?expire=1733467460&ei=5EhSZ5n8Na2dmLAPiuS0mQ0&ip=37.231.105.233&id=o-ACKTMpSLk1h1OISFvGGVb-44-zei0Ufu-4_RMVlz9Wr_&itag=251&source=youtube&requiressl=yes&xpc=EgVo2aDSNQ==&met=1733445860,&mh=VG&mm=31,29&mn=sn-8p85-3fpee,sn-hgn7yn76&ms=au,rdu&mv=m&mvi=1&pcm2cms=yes&pl=22&rms=au,au&initcwndbps=696250&bui=AQn3pFS1uRmIKyyvu-Idb21Yq-jreNqz5DnbX7J7J5oaq9kmMy0J_Ocqw-N-KbApt8GLn1qnEEfF6k6s&spc=qtApAQPYGa-5UZjLLGRqgAIRViuiJ-E9tz2dPeQCK9HIIKM&vprv=1&svpuc=1&mime=audio/webm&rqh=1&gir=yes&clen=3202319&dur=218: Downloading 1 format(s): webm\n",
      "[download] Destination: ../data/raw/McGill-Billboard/0389/salami_chords (General Public - Tenderness).mp3\n",
      "[download] 100% of    3.05MiB in 00:01:49 at 28.66KiB/s  \n",
      "[ExtractAudio] Destination: ../data/raw/McGill-Billboard/0389/salami_chords (General Public - Tenderness).mp3.mp3\n",
      "Deleting original file ../data/raw/McGill-Billboard/0389/salami_chords (General Public - Tenderness).mp3 (pass -k to keep)\n",
      "Download complete. File saved as ../data/raw/McGill-Billboard/0389/salami_chords (General Public - Tenderness).mp3\n",
      "\n",
      "\n",
      "\n",
      "Entering directory: ../data/raw/McGill-Billboard/0973\n",
      "Processing .lab file: ../data/raw/McGill-Billboard/0973/salami_chords.txt\n",
      "Attempting to parse .lab file: ../data/raw/McGill-Billboard/0973/salami_chords.txt\n",
      "Expected output path for MP3: ../data/raw/McGill-Billboard/0973/salami_chords (Pat Benatar - Little Too Late).mp3\n",
      "Initiating YouTube download for query: Little Too Late Pat Benatar\n",
      "[youtube:search] Extracting URL: ytsearch:Little Too Late Pat Benatar\n",
      "[download] Downloading playlist: Little Too Late Pat Benatar\n",
      "[youtube:search] query \"Little Too Late Pat Benatar\": Downloading web client config\n",
      "[youtube:search] query \"Little Too Late Pat Benatar\" page 1: Downloading API JSON\n",
      "[youtube:search] Playlist Little Too Late Pat Benatar: Downloading 1 items of 1\n",
      "[download] Downloading item 1 of 1\n",
      "[youtube] Extracting URL: https://www.youtube.com/watch?v=84TB8C50nos\n",
      "[youtube] 84TB8C50nos: Downloading webpage\n",
      "[youtube] 84TB8C50nos: Downloading ios player API JSON\n",
      "[youtube] 84TB8C50nos: Downloading mweb player API JSON\n",
      "[youtube] 84TB8C50nos: Downloading player 7728ede0\n",
      "[youtube] 84TB8C50nos: Downloading m3u8 information\n",
      "[download] Finished downloading playlist: Little Too Late Pat Benatar\n",
      "Found video URL: https://rr1---sn-8p85-3fpe7.googlevideo.com/videoplayback?expire=1733467575&ei=V0lSZ77iLPvDmLAPqtrE0Aw&ip=37.231.105.233&id=o-AL8knC2WnDzawp90YSssGN91d10M7CjbiBvP_Lbj1jLu&itag=251&source=youtube&requiressl=yes&xpc=EgVo2aDSNQ%3D%3D&met=1733445975%2C&mh=Je&mm=31%2C29&mn=sn-8p85-3fpe7%2Csn-hgn7rnll&ms=au%2Crdu&mv=m&mvi=1&pl=22&rms=au%2Cau&gcr=kw&initcwndbps=1003750&bui=AQn3pFRw2shEOBfMG6aOaFf3yCGaEhIDCwmZjnSwblFrJNJq3CYNzzmCgnn_aWFaCAJi6Kt7zdIJCT3k&spc=qtApAUxBcIlLSTcXVeEYCmPuiwbEytyoakFpPT-f7lgbIJg&vprv=1&svpuc=1&mime=audio%2Fwebm&rqh=1&gir=yes&clen=3847779&dur=245.601&lmt=1714518275007022&mt=1733445430&fvip=2&keepalive=yes&fexp=51326932%2C51335594%2C51347747&c=IOS&txp=4402434&sparams=expire%2Cei%2Cip%2Cid%2Citag%2Csource%2Crequiressl%2Cxpc%2Cgcr%2Cbui%2Cspc%2Cvprv%2Csvpuc%2Cmime%2Crqh%2Cgir%2Cclen%2Cdur%2Clmt&sig=AJfQdSswRAIgdR5EMaKBSken4jwJwULlbHK_mkmxH9EinILZxFZjTe0CIBn0hdAtqqbCgWTe_ASxetXDaqeupDUbPlmj86gm3JdB&lsparams=met%2Cmh%2Cmm%2Cmn%2Cms%2Cmv%2Cmvi%2Cpl%2Crms%2Cinitcwndbps&lsig=AGluJ3MwRAIgcH5MqdC6ZiO3XoTHXpw3jexCj7ilA_zP3v3n_BmIEvMCIHCR1f795AhGorJ_t94yGCJKYGpJ-3dP_S8e8PibJDXj. Starting download...\n",
      "[generic] Extracting URL: https://rr1---sn-8p85-3fpe7.googlevideo.com/videoplayback?expire=1733467575&ei=V0lSZ77iLPvDmLAPqt...YGpJ-3dP_S8e8PibJDXj\n",
      "[generic] videoplayback?expire=1733467575&ei=V0lSZ77iLPvDmLAPqtrE0Aw&ip=37.231.105.233&id=o-AL8knC2WnDzawp90YSssGN91d10M7CjbiBvP_Lbj1jLu&itag=251&source=youtube&requiressl=yes&xpc=EgVo2aDSNQ==&met=1733445975,&mh=Je&mm=31,29&mn=sn-8p85-3fpe7,sn-hgn7rnll&ms=au,rdu&mv=m&mvi=1&pl=22&rms=au,au&gcr=kw&initcwndbps=1003750&bui=AQn3pFRw2shEOBfMG6aOaFf3yCGaEhIDCwmZjnSwblFrJNJq3CYNzzmCgnn_aWFaCAJi6Kt7zdIJCT3k&spc=qtApAUxBcIlLSTcXVeEYCmPuiwbEytyoakFpPT-f7lgbIJg&vprv=1&svpuc=1&mime=audio/webm&rqh=1&gir=yes&clen=3847779&dur=245: Downloading webpage\n",
      "[info] videoplayback?expire=1733467575&ei=V0lSZ77iLPvDmLAPqtrE0Aw&ip=37.231.105.233&id=o-AL8knC2WnDzawp90YSssGN91d10M7CjbiBvP_Lbj1jLu&itag=251&source=youtube&requiressl=yes&xpc=EgVo2aDSNQ==&met=1733445975,&mh=Je&mm=31,29&mn=sn-8p85-3fpe7,sn-hgn7rnll&ms=au,rdu&mv=m&mvi=1&pl=22&rms=au,au&gcr=kw&initcwndbps=1003750&bui=AQn3pFRw2shEOBfMG6aOaFf3yCGaEhIDCwmZjnSwblFrJNJq3CYNzzmCgnn_aWFaCAJi6Kt7zdIJCT3k&spc=qtApAUxBcIlLSTcXVeEYCmPuiwbEytyoakFpPT-f7lgbIJg&vprv=1&svpuc=1&mime=audio/webm&rqh=1&gir=yes&clen=3847779&dur=245: Downloading 1 format(s): webm\n",
      "[download] Resuming download at byte 31744\n",
      "[download] Destination: ../data/raw/McGill-Billboard/0973/salami_chords (Pat Benatar - Little Too Late).mp3\n",
      "[download] 100% of    3.67MiB in 00:00:00 at 6.56MiB/s     \n",
      "[ExtractAudio] Destination: ../data/raw/McGill-Billboard/0973/salami_chords (Pat Benatar - Little Too Late).mp3.mp3\n",
      "Deleting original file ../data/raw/McGill-Billboard/0973/salami_chords (Pat Benatar - Little Too Late).mp3 (pass -k to keep)\n",
      "Download complete. File saved as ../data/raw/McGill-Billboard/0973/salami_chords (Pat Benatar - Little Too Late).mp3\n",
      "\n",
      "\n",
      "\n",
      "Entering directory: ../data/raw/McGill-Billboard/0184\n",
      "Processing .lab file: ../data/raw/McGill-Billboard/0184/salami_chords.txt\n",
      "Attempting to parse .lab file: ../data/raw/McGill-Billboard/0184/salami_chords.txt\n",
      "Expected output path for MP3: ../data/raw/McGill-Billboard/0184/salami_chords (Pet Shop Boys - Always on My Mind).mp3\n",
      "Initiating YouTube download for query: Always on My Mind Pet Shop Boys\n",
      "[youtube:search] Extracting URL: ytsearch:Always on My Mind Pet Shop Boys\n",
      "[download] Downloading playlist: Always on My Mind Pet Shop Boys\n",
      "[youtube:search] query \"Always on My Mind Pet Shop Boys\": Downloading web client config\n",
      "[youtube:search] query \"Always on My Mind Pet Shop Boys\" page 1: Downloading API JSON\n",
      "[youtube:search] Playlist Always on My Mind Pet Shop Boys: Downloading 1 items of 1\n",
      "[download] Downloading item 1 of 1\n",
      "[youtube] Extracting URL: https://www.youtube.com/watch?v=wDe60CbIagg\n",
      "[youtube] wDe60CbIagg: Downloading webpage\n",
      "[youtube] wDe60CbIagg: Downloading ios player API JSON\n",
      "[youtube] wDe60CbIagg: Downloading mweb player API JSON\n",
      "[youtube] wDe60CbIagg: Downloading m3u8 information\n",
      "[download] Finished downloading playlist: Always on My Mind Pet Shop Boys\n",
      "Found video URL: https://rr8---sn-8p85-3fpk.googlevideo.com/videoplayback?expire=1733467584&ei=YElSZ4lzx8SFwg-Vkb2gBA&ip=37.231.105.233&id=o-AISo_cfeIoNVfmlsfx4rbDKpQIQRDg13t4Tm66MDJ4LW&itag=251&source=youtube&requiressl=yes&xpc=EgVo2aDSNQ%3D%3D&met=1733445984%2C&mh=9w&mm=31%2C29&mn=sn-8p85-3fpk%2Csn-hgn7rn7k&ms=au%2Crdu&mv=m&mvi=8&pcm2cms=yes&pl=22&rms=au%2Cau&pcm2=yes&initcwndbps=990000&bui=AQn3pFTgc22_YFTZ5uKOQe5wFvIMotVsCgInSdBO3CJ7tSjnq1ONM22yV6k2pvEZShQqxyBhQs_HX4dF&spc=qtApATtg34P3sUoqjnTdliJ2-vIbbl3MuKZY6PTQoxii5cA&vprv=1&svpuc=1&mime=audio%2Fwebm&rqh=1&gir=yes&clen=4952182&dur=319.121&lmt=1714899292165701&mt=1733445668&fvip=5&keepalive=yes&fexp=51326932%2C51335594%2C51347747&c=IOS&txp=4532434&sparams=expire%2Cei%2Cip%2Cid%2Citag%2Csource%2Crequiressl%2Cxpc%2Cpcm2%2Cbui%2Cspc%2Cvprv%2Csvpuc%2Cmime%2Crqh%2Cgir%2Cclen%2Cdur%2Clmt&sig=AJfQdSswRQIgdBcmF6UOUjDWkNXcxmdmPGEZL-FhDL0aonoFAshEsZMCIQCTZhwpgqFXiezj2j8ElM9qOCZ30TzrYsWXHlC5ML-TPg%3D%3D&lsparams=met%2Cmh%2Cmm%2Cmn%2Cms%2Cmv%2Cmvi%2Cpcm2cms%2Cpl%2Crms%2Cinitcwndbps&lsig=AGluJ3MwRAIgbxEas87y-QK3tKjz9Tq1QEKB5mvB2XWNgIn8srr9tG4CIHCfcBFhdNssa834rc9ohEGw1H5LAWB8mZJd-i8KR0AZ. Starting download...\n",
      "[generic] Extracting URL: https://rr8---sn-8p85-3fpk.googlevideo.com/videoplayback?expire=1733467584&ei=YElSZ4lzx8SFwg-Vkb2...1H5LAWB8mZJd-i8KR0AZ\n",
      "[generic] videoplayback?expire=1733467584&ei=YElSZ4lzx8SFwg-Vkb2gBA&ip=37.231.105.233&id=o-AISo_cfeIoNVfmlsfx4rbDKpQIQRDg13t4Tm66MDJ4LW&itag=251&source=youtube&requiressl=yes&xpc=EgVo2aDSNQ==&met=1733445984,&mh=9w&mm=31,29&mn=sn-8p85-3fpk,sn-hgn7rn7k&ms=au,rdu&mv=m&mvi=8&pcm2cms=yes&pl=22&rms=au,au&pcm2=yes&initcwndbps=990000&bui=AQn3pFTgc22_YFTZ5uKOQe5wFvIMotVsCgInSdBO3CJ7tSjnq1ONM22yV6k2pvEZShQqxyBhQs_HX4dF&spc=qtApATtg34P3sUoqjnTdliJ2-vIbbl3MuKZY6PTQoxii5cA&vprv=1&svpuc=1&mime=audio/webm&rqh=1&gir=yes&clen=4952182&dur=319: Downloading webpage\n",
      "[info] videoplayback?expire=1733467584&ei=YElSZ4lzx8SFwg-Vkb2gBA&ip=37.231.105.233&id=o-AISo_cfeIoNVfmlsfx4rbDKpQIQRDg13t4Tm66MDJ4LW&itag=251&source=youtube&requiressl=yes&xpc=EgVo2aDSNQ==&met=1733445984,&mh=9w&mm=31,29&mn=sn-8p85-3fpk,sn-hgn7rn7k&ms=au,rdu&mv=m&mvi=8&pcm2cms=yes&pl=22&rms=au,au&pcm2=yes&initcwndbps=990000&bui=AQn3pFTgc22_YFTZ5uKOQe5wFvIMotVsCgInSdBO3CJ7tSjnq1ONM22yV6k2pvEZShQqxyBhQs_HX4dF&spc=qtApATtg34P3sUoqjnTdliJ2-vIbbl3MuKZY6PTQoxii5cA&vprv=1&svpuc=1&mime=audio/webm&rqh=1&gir=yes&clen=4952182&dur=319: Downloading 1 format(s): webm\n",
      "[download] Destination: ../data/raw/McGill-Billboard/0184/salami_chords (Pet Shop Boys - Always on My Mind).mp3\n",
      "[download]  69.8% of    4.72MiB at   30.30KiB/s ETA 00:48"
     ]
    }
   ],
   "source": [
    "# Set billboard data path\n",
    "billboard_data_path = \"../data/raw/McGill-Billboard\"\n",
    "\n",
    "# Process lab files in the extracted directory\n",
    "youtube_download.process_lab_files(billboard_data_path)"
   ]
  },
  {
   "cell_type": "markdown",
   "metadata": {},
   "source": [
    "## Build and train models"
   ]
  },
  {
   "cell_type": "code",
   "execution_count": null,
   "metadata": {},
   "outputs": [],
   "source": [
    "# Initialize Solver for MLPChordClassifier\n",
    "mlp_chord_classifier_solver = Solver(\n",
    "    model_type=\"MLPChordClassifier\",\n",
    "    model_kwargs={\"input_size\": 24, \"num_classes\": num_classes},\n",
    "    device=device,\n",
    "    batch_size=128,\n",
    "    learning_rate=0.001,\n",
    "    epochs=20,\n",
    ")\n",
    "\n",
    "# Train and evaluate the model\n",
    "mlp_chord_classifier_solver.train_and_evaluate(train_loader, test_loader, plot_results=True)"
   ]
  },
  {
   "cell_type": "code",
   "execution_count": null,
   "metadata": {},
   "outputs": [],
   "source": [
    "# Initialize Solver for CRNNModel\n",
    "crnn_model_solver = Solver(\n",
    "    model_type=\"CRNNModel\",\n",
    "    model_kwargs={\"input_features\": 24, \"num_classes\": num_classes, \"hidden_size\": 128},\n",
    "    device=device,\n",
    "    batch_size=128,\n",
    "    learning_rate=0.001,\n",
    "    epochs=20,\n",
    ")\n",
    "\n",
    "crnn_model_solver.train_and_evaluate(train_loader, test_loader, plot_results=True)"
   ]
  },
  {
   "cell_type": "code",
   "execution_count": null,
   "metadata": {},
   "outputs": [],
   "source": [
    "# Initialize Solver for CNNModel\n",
    "cnn_model_solver = Solver(\n",
    "    model_type=\"CNNModel\",\n",
    "    model_kwargs={\"input_channels\": 24, \"num_classes\": num_classes},\n",
    "    device=device,\n",
    "    batch_size=128,\n",
    "    learning_rate=0.001,\n",
    "    epochs=20,\n",
    ")\n",
    "\n",
    "cnn_model_solver.train_and_evaluate(train_loader, test_loader, plot_results=True)"
   ]
  },
  {
   "cell_type": "code",
   "execution_count": null,
   "metadata": {},
   "outputs": [],
   "source": [
    "# Initialize Solver for RNNModel\n",
    "rnn_model_solver = Solver(\n",
    "    model_type=\"RNNModel\",\n",
    "    model_kwargs={\"input_size\": 24, \"hidden_size\": 128, \"output_size\": num_classes},\n",
    "    device=device,\n",
    "    batch_size=128,\n",
    "    learning_rate=0.001,\n",
    "    epochs=20,\n",
    ")\n",
    "\n",
    "rnn_model_solver.train_and_evaluate(train_loader, test_loader, plot_results=True)"
   ]
  },
  {
   "cell_type": "markdown",
   "metadata": {},
   "source": [
    "## Run inference"
   ]
  },
  {
   "cell_type": "code",
   "execution_count": null,
   "metadata": {},
   "outputs": [],
   "source": [
    "scaler = data_processor.scaler\n",
    "label_encoder = data_processor.label_encoder\n",
    "chroma_path = \"/my/path/to/amadeus-ex-machina/data/raw/McGill-Billboard/0003/bothchroma.csv\"\n",
    "\n",
    "# Run inference using the trained model\n",
    "solver.run_inference(\n",
    "    chroma_path,\n",
    "    scaler,\n",
    "    label_encoder,\n",
    ")"
   ]
  }
 ],
 "metadata": {
  "kernelspec": {
   "display_name": "amadeus-ex-machina",
   "language": "python",
   "name": "python3"
  },
  "language_info": {
   "codemirror_mode": {
    "name": "ipython",
    "version": 3
   },
   "file_extension": ".py",
   "mimetype": "text/x-python",
   "name": "python",
   "nbconvert_exporter": "python",
   "pygments_lexer": "ipython3",
   "version": "3.11.0"
  }
 },
 "nbformat": 4,
 "nbformat_minor": 4
}
