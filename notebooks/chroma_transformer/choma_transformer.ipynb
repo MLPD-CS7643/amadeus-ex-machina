{
 "cells": [
  {
   "cell_type": "markdown",
   "metadata": {},
   "source": [
    "### Imports"
   ]
  },
  {
   "cell_type": "code",
   "execution_count": 1,
   "metadata": {},
   "outputs": [],
   "source": [
    "%load_ext autoreload\n",
    "%autoreload 2\n",
    "\n",
    "# System imports\n",
    "import sys\n",
    "import os\n",
    "\n",
    "# Add the parent directory of 'notebooks' to sys.path\n",
    "parent_dir = os.path.abspath(os.path.join(os.getcwd(), \"../..\"))  # Move one level up\n",
    "if parent_dir not in sys.path:\n",
    "    sys.path.append(parent_dir)"
   ]
  },
  {
   "cell_type": "code",
   "execution_count": 2,
   "metadata": {},
   "outputs": [],
   "source": [
    "import torch\n",
    "from pathlib import Path\n",
    "from solver import Solver\n",
    "from griddy.griddy_tuna import hit_griddy, SearchMethod\n",
    "from models.ChromaTransformer import ChromaTransformerModel\n",
    "from data.data_loader import MirDataProcessor\n",
    "from utils.model_utils import get_device\n",
    "from solver import TrialMetric"
   ]
  },
  {
   "cell_type": "code",
   "execution_count": 3,
   "metadata": {},
   "outputs": [
    {
     "name": "stdout",
     "output_type": "stream",
     "text": [
      "Device is cuda\n"
     ]
    }
   ],
   "source": [
    "device = get_device()\n",
    "print(f\"Device is {device}\")"
   ]
  },
  {
   "cell_type": "markdown",
   "metadata": {},
   "source": [
    "### Data Building"
   ]
  },
  {
   "cell_type": "code",
   "execution_count": 4,
   "metadata": {},
   "outputs": [
    {
     "name": "stdout",
     "output_type": "stream",
     "text": [
      "Preparing model data...\n",
      "Loading the combined CSV file...\n",
      "Separating song IDs, features, and labels...\n",
      "Scaling features using MinMaxScaler...\n",
      "Encoding labels using LabelEncoder...\n",
      "Saving the scaler to c:\\Users\\maxwe\\OneDrive\\Documents\\amadeus-ex-machina\\data\\processed\\scaler.pkl...\n",
      "Saving the label encoder to c:\\Users\\maxwe\\OneDrive\\Documents\\amadeus-ex-machina\\data\\processed\\label_encoder.pkl...\n",
      "Creating sequences of chromagram data within song boundaries...\n",
      "Splitting data into training and testing sets...\n",
      "Data preparation complete.\n",
      "Number of classes determined: 976\n",
      "Creating TensorDatasets for training and testing data...\n",
      "Creating DataLoaders for training and testing datasets...\n",
      "Data loaders are ready for training and testing.\n"
     ]
    }
   ],
   "source": [
    "# Initialize the data processor and create data loaders\n",
    "data_processor = MirDataProcessor(batch_size=256, process_sequential=True, seq_length=16, overlap_sequence=True, use_median=True)\n",
    "train_loader, test_loader, num_classes = data_processor.build_data_loaders(device=\"cuda\")"
   ]
  },
  {
   "cell_type": "markdown",
   "metadata": {},
   "source": [
    "### Training"
   ]
  },
  {
   "cell_type": "code",
   "execution_count": 7,
   "metadata": {},
   "outputs": [],
   "source": [
    "import torch.nn as nn\n",
    "import torch.optim as optim\n",
    "\n",
    "from models.ChromaTransformer import ChromaTransformerModel\n",
    "# Define model parameters\n",
    "model = ChromaTransformerModel(input_dim=24, num_classes=num_classes, seq_length=16, d_model=128, dim_feedforward=1024, num_layers=4)\n",
    "optimizer = optim.Adam(model.parameters(), lr=0.001)\n",
    "criterion = nn.CrossEntropyLoss().to(device)\n",
    "scheduler = optim.lr_scheduler.ReduceLROnPlateau(optimizer)\n",
    "solver = Solver(\n",
    "    model=model,\n",
    "    optimizer=optimizer,\n",
    "    criterion=criterion,\n",
    "    scheduler=scheduler,\n",
    "    train_dataloader=train_loader,\n",
    "    valid_dataloader=test_loader,\n",
    "    device=\"cuda\",\n",
    "    batch_size=256,\n",
    "    epochs=50,\n",
    ")"
   ]
  },
  {
   "cell_type": "code",
   "execution_count": 8,
   "metadata": {},
   "outputs": [
    {
     "name": "stdout",
     "output_type": "stream",
     "text": [
      "-----------------------------------\n",
      "Epoch 1\n",
      "-----------------------------------\n"
     ]
    },
    {
     "data": {
      "application/vnd.jupyter.widget-view+json": {
       "model_id": "226a1aff47ec4a8488804926a6fb8cbd",
       "version_major": 2,
       "version_minor": 0
      },
      "text/plain": [
       "Training:   0%|          | 0/12893 [00:00<?, ?it/s]"
      ]
     },
     "metadata": {},
     "output_type": "display_data"
    },
    {
     "name": "stdout",
     "output_type": "stream",
     "text": [
      "Training Loss: 1.5098. Validation Loss: 1.0014.\n",
      "Training Accuracy: 0.6040. Validation Accuracy: 0.7148.\n",
      "-----------------------------------\n",
      "Epoch 2\n",
      "-----------------------------------\n"
     ]
    },
    {
     "data": {
      "application/vnd.jupyter.widget-view+json": {
       "model_id": "1b6a3c0367164b4391608f799dbe3fe5",
       "version_major": 2,
       "version_minor": 0
      },
      "text/plain": [
       "Training:   0%|          | 0/12893 [00:00<?, ?it/s]"
      ]
     },
     "metadata": {},
     "output_type": "display_data"
    },
    {
     "name": "stdout",
     "output_type": "stream",
     "text": [
      "Training Loss: 0.9541. Validation Loss: 0.7924.\n",
      "Training Accuracy: 0.7235. Validation Accuracy: 0.7684.\n",
      "-----------------------------------\n",
      "Epoch 3\n",
      "-----------------------------------\n"
     ]
    },
    {
     "data": {
      "application/vnd.jupyter.widget-view+json": {
       "model_id": "7ce68204d8134c2086e8677cd852425b",
       "version_major": 2,
       "version_minor": 0
      },
      "text/plain": [
       "Training:   0%|          | 0/12893 [00:00<?, ?it/s]"
      ]
     },
     "metadata": {},
     "output_type": "display_data"
    },
    {
     "name": "stdout",
     "output_type": "stream",
     "text": [
      "Training Loss: 0.7996. Validation Loss: 0.6748.\n",
      "Training Accuracy: 0.7622. Validation Accuracy: 0.7994.\n",
      "-----------------------------------\n",
      "Epoch 4\n",
      "-----------------------------------\n"
     ]
    },
    {
     "data": {
      "application/vnd.jupyter.widget-view+json": {
       "model_id": "4307703b819f4f2dab1beabe360880a3",
       "version_major": 2,
       "version_minor": 0
      },
      "text/plain": [
       "Training:   0%|          | 0/12893 [00:00<?, ?it/s]"
      ]
     },
     "metadata": {},
     "output_type": "display_data"
    },
    {
     "name": "stdout",
     "output_type": "stream",
     "text": [
      "Training Loss: 0.7180. Validation Loss: 0.6098.\n",
      "Training Accuracy: 0.7832. Validation Accuracy: 0.8177.\n",
      "-----------------------------------\n",
      "Epoch 5\n",
      "-----------------------------------\n"
     ]
    },
    {
     "data": {
      "application/vnd.jupyter.widget-view+json": {
       "model_id": "1d05a804533c42e98c6da2568f7c4ded",
       "version_major": 2,
       "version_minor": 0
      },
      "text/plain": [
       "Training:   0%|          | 0/12893 [00:00<?, ?it/s]"
      ]
     },
     "metadata": {},
     "output_type": "display_data"
    },
    {
     "name": "stdout",
     "output_type": "stream",
     "text": [
      "Training Loss: 0.6665. Validation Loss: 0.5732.\n",
      "Training Accuracy: 0.7971. Validation Accuracy: 0.8265.\n",
      "-----------------------------------\n",
      "Epoch 6\n",
      "-----------------------------------\n"
     ]
    },
    {
     "data": {
      "application/vnd.jupyter.widget-view+json": {
       "model_id": "4dab269734544b9998759f255c846407",
       "version_major": 2,
       "version_minor": 0
      },
      "text/plain": [
       "Training:   0%|          | 0/12893 [00:00<?, ?it/s]"
      ]
     },
     "metadata": {},
     "output_type": "display_data"
    },
    {
     "name": "stdout",
     "output_type": "stream",
     "text": [
      "Training Loss: 0.6303. Validation Loss: 0.5463.\n",
      "Training Accuracy: 0.8065. Validation Accuracy: 0.8353.\n",
      "-----------------------------------\n",
      "Epoch 7\n",
      "-----------------------------------\n"
     ]
    },
    {
     "data": {
      "application/vnd.jupyter.widget-view+json": {
       "model_id": "f15b6ff12f2048a1be383623ee409d18",
       "version_major": 2,
       "version_minor": 0
      },
      "text/plain": [
       "Training:   0%|          | 0/12893 [00:00<?, ?it/s]"
      ]
     },
     "metadata": {},
     "output_type": "display_data"
    },
    {
     "name": "stdout",
     "output_type": "stream",
     "text": [
      "Training Loss: 0.6031. Validation Loss: 0.5204.\n",
      "Training Accuracy: 0.8139. Validation Accuracy: 0.8435.\n",
      "-----------------------------------\n",
      "Epoch 8\n",
      "-----------------------------------\n"
     ]
    },
    {
     "data": {
      "application/vnd.jupyter.widget-view+json": {
       "model_id": "8338624ad59541a08bc9c3c0ee8177f7",
       "version_major": 2,
       "version_minor": 0
      },
      "text/plain": [
       "Training:   0%|          | 0/12893 [00:00<?, ?it/s]"
      ]
     },
     "metadata": {},
     "output_type": "display_data"
    },
    {
     "name": "stdout",
     "output_type": "stream",
     "text": [
      "Training Loss: 0.5817. Validation Loss: 0.4942.\n",
      "Training Accuracy: 0.8197. Validation Accuracy: 0.8491.\n",
      "-----------------------------------\n",
      "Epoch 9\n",
      "-----------------------------------\n"
     ]
    },
    {
     "data": {
      "application/vnd.jupyter.widget-view+json": {
       "model_id": "3459c2e485f547d79acaf4d439058447",
       "version_major": 2,
       "version_minor": 0
      },
      "text/plain": [
       "Training:   0%|          | 0/12893 [00:00<?, ?it/s]"
      ]
     },
     "metadata": {},
     "output_type": "display_data"
    },
    {
     "name": "stdout",
     "output_type": "stream",
     "text": [
      "Training Loss: 0.5642. Validation Loss: 0.4914.\n",
      "Training Accuracy: 0.8245. Validation Accuracy: 0.8507.\n",
      "-----------------------------------\n",
      "Epoch 10\n",
      "-----------------------------------\n"
     ]
    },
    {
     "data": {
      "application/vnd.jupyter.widget-view+json": {
       "model_id": "45a45e0e724a4f4dba9362c604f0ebbf",
       "version_major": 2,
       "version_minor": 0
      },
      "text/plain": [
       "Training:   0%|          | 0/12893 [00:00<?, ?it/s]"
      ]
     },
     "metadata": {},
     "output_type": "display_data"
    },
    {
     "name": "stdout",
     "output_type": "stream",
     "text": [
      "Training Loss: 0.5503. Validation Loss: 0.4763.\n",
      "Training Accuracy: 0.8283. Validation Accuracy: 0.8550.\n",
      "-----------------------------------\n",
      "Epoch 11\n",
      "-----------------------------------\n"
     ]
    },
    {
     "data": {
      "application/vnd.jupyter.widget-view+json": {
       "model_id": "770200c853944b4ebb0ce40d4001c798",
       "version_major": 2,
       "version_minor": 0
      },
      "text/plain": [
       "Training:   0%|          | 0/12893 [00:00<?, ?it/s]"
      ]
     },
     "metadata": {},
     "output_type": "display_data"
    },
    {
     "name": "stdout",
     "output_type": "stream",
     "text": [
      "Training Loss: 0.5381. Validation Loss: 0.4660.\n",
      "Training Accuracy: 0.8319. Validation Accuracy: 0.8584.\n",
      "-----------------------------------\n",
      "Epoch 12\n",
      "-----------------------------------\n"
     ]
    },
    {
     "data": {
      "application/vnd.jupyter.widget-view+json": {
       "model_id": "d5f61500ced346288ba9d7879c52373b",
       "version_major": 2,
       "version_minor": 0
      },
      "text/plain": [
       "Training:   0%|          | 0/12893 [00:00<?, ?it/s]"
      ]
     },
     "metadata": {},
     "output_type": "display_data"
    },
    {
     "name": "stdout",
     "output_type": "stream",
     "text": [
      "Training Loss: 0.5277. Validation Loss: 0.4606.\n",
      "Training Accuracy: 0.8347. Validation Accuracy: 0.8592.\n",
      "-----------------------------------\n",
      "Epoch 13\n",
      "-----------------------------------\n"
     ]
    },
    {
     "data": {
      "application/vnd.jupyter.widget-view+json": {
       "model_id": "12924860acd94728b71433c40524a4ec",
       "version_major": 2,
       "version_minor": 0
      },
      "text/plain": [
       "Training:   0%|          | 0/12893 [00:00<?, ?it/s]"
      ]
     },
     "metadata": {},
     "output_type": "display_data"
    },
    {
     "name": "stdout",
     "output_type": "stream",
     "text": [
      "Training Loss: 0.5196. Validation Loss: 0.4629.\n",
      "Training Accuracy: 0.8369. Validation Accuracy: 0.8586.\n",
      "-----------------------------------\n",
      "Epoch 14\n",
      "-----------------------------------\n"
     ]
    },
    {
     "data": {
      "application/vnd.jupyter.widget-view+json": {
       "model_id": "816f036af70244b59327450fdfb0da23",
       "version_major": 2,
       "version_minor": 0
      },
      "text/plain": [
       "Training:   0%|          | 0/12893 [00:00<?, ?it/s]"
      ]
     },
     "metadata": {},
     "output_type": "display_data"
    },
    {
     "name": "stdout",
     "output_type": "stream",
     "text": [
      "Training Loss: 0.5122. Validation Loss: 0.4468.\n",
      "Training Accuracy: 0.8389. Validation Accuracy: 0.8645.\n",
      "-----------------------------------\n",
      "Epoch 15\n",
      "-----------------------------------\n"
     ]
    },
    {
     "data": {
      "application/vnd.jupyter.widget-view+json": {
       "model_id": "46556a20f8344ad5a7a7ff256cfd98ad",
       "version_major": 2,
       "version_minor": 0
      },
      "text/plain": [
       "Training:   0%|          | 0/12893 [00:00<?, ?it/s]"
      ]
     },
     "metadata": {},
     "output_type": "display_data"
    },
    {
     "name": "stdout",
     "output_type": "stream",
     "text": [
      "Training Loss: 0.5047. Validation Loss: 0.4347.\n",
      "Training Accuracy: 0.8411. Validation Accuracy: 0.8669.\n",
      "-----------------------------------\n",
      "Epoch 16\n",
      "-----------------------------------\n"
     ]
    },
    {
     "data": {
      "application/vnd.jupyter.widget-view+json": {
       "model_id": "66e7bf686f5d4265988cea838823cc79",
       "version_major": 2,
       "version_minor": 0
      },
      "text/plain": [
       "Training:   0%|          | 0/12893 [00:00<?, ?it/s]"
      ]
     },
     "metadata": {},
     "output_type": "display_data"
    },
    {
     "name": "stdout",
     "output_type": "stream",
     "text": [
      "Training Loss: 0.4995. Validation Loss: 0.4368.\n",
      "Training Accuracy: 0.8427. Validation Accuracy: 0.8670.\n",
      "-----------------------------------\n",
      "Epoch 17\n",
      "-----------------------------------\n"
     ]
    },
    {
     "data": {
      "application/vnd.jupyter.widget-view+json": {
       "model_id": "97f99b5456a84b738dd79cb0c5acafa9",
       "version_major": 2,
       "version_minor": 0
      },
      "text/plain": [
       "Training:   0%|          | 0/12893 [00:00<?, ?it/s]"
      ]
     },
     "metadata": {},
     "output_type": "display_data"
    },
    {
     "name": "stdout",
     "output_type": "stream",
     "text": [
      "Training Loss: 0.4942. Validation Loss: 0.4188.\n",
      "Training Accuracy: 0.8443. Validation Accuracy: 0.8718.\n",
      "-----------------------------------\n",
      "Epoch 18\n",
      "-----------------------------------\n"
     ]
    },
    {
     "data": {
      "application/vnd.jupyter.widget-view+json": {
       "model_id": "9c6deb6bfa654291a73279c6537ae0c0",
       "version_major": 2,
       "version_minor": 0
      },
      "text/plain": [
       "Training:   0%|          | 0/12893 [00:00<?, ?it/s]"
      ]
     },
     "metadata": {},
     "output_type": "display_data"
    },
    {
     "name": "stdout",
     "output_type": "stream",
     "text": [
      "Training Loss: 0.4893. Validation Loss: 0.4213.\n",
      "Training Accuracy: 0.8455. Validation Accuracy: 0.8707.\n",
      "-----------------------------------\n",
      "Epoch 19\n",
      "-----------------------------------\n"
     ]
    },
    {
     "data": {
      "application/vnd.jupyter.widget-view+json": {
       "model_id": "783ec6c976f343d0a02e70db4e6d7108",
       "version_major": 2,
       "version_minor": 0
      },
      "text/plain": [
       "Training:   0%|          | 0/12893 [00:00<?, ?it/s]"
      ]
     },
     "metadata": {},
     "output_type": "display_data"
    },
    {
     "name": "stdout",
     "output_type": "stream",
     "text": [
      "Training Loss: 0.4846. Validation Loss: 0.4240.\n",
      "Training Accuracy: 0.8470. Validation Accuracy: 0.8705.\n",
      "-----------------------------------\n",
      "Epoch 20\n",
      "-----------------------------------\n"
     ]
    },
    {
     "data": {
      "application/vnd.jupyter.widget-view+json": {
       "model_id": "356a7131bb0d40f2a3dff2108d9a4d2e",
       "version_major": 2,
       "version_minor": 0
      },
      "text/plain": [
       "Training:   0%|          | 0/12893 [00:00<?, ?it/s]"
      ]
     },
     "metadata": {},
     "output_type": "display_data"
    },
    {
     "name": "stdout",
     "output_type": "stream",
     "text": [
      "Training Loss: 0.4813. Validation Loss: 0.4092.\n",
      "Training Accuracy: 0.8478. Validation Accuracy: 0.8750.\n",
      "-----------------------------------\n",
      "Epoch 21\n",
      "-----------------------------------\n"
     ]
    },
    {
     "data": {
      "application/vnd.jupyter.widget-view+json": {
       "model_id": "37a065a044fe431e800aebc5ebfd19c0",
       "version_major": 2,
       "version_minor": 0
      },
      "text/plain": [
       "Training:   0%|          | 0/12893 [00:00<?, ?it/s]"
      ]
     },
     "metadata": {},
     "output_type": "display_data"
    },
    {
     "name": "stdout",
     "output_type": "stream",
     "text": [
      "Training Loss: 0.4779. Validation Loss: 0.4378.\n",
      "Training Accuracy: 0.8485. Validation Accuracy: 0.8700.\n",
      "-----------------------------------\n",
      "Epoch 22\n",
      "-----------------------------------\n"
     ]
    },
    {
     "data": {
      "application/vnd.jupyter.widget-view+json": {
       "model_id": "d1b4c88e36a0499b8a01ae3e79229beb",
       "version_major": 2,
       "version_minor": 0
      },
      "text/plain": [
       "Training:   0%|          | 0/12893 [00:00<?, ?it/s]"
      ]
     },
     "metadata": {},
     "output_type": "display_data"
    },
    {
     "name": "stdout",
     "output_type": "stream",
     "text": [
      "Training Loss: 0.4748. Validation Loss: 0.4253.\n",
      "Training Accuracy: 0.8496. Validation Accuracy: 0.8715.\n",
      "-----------------------------------\n",
      "Epoch 23\n",
      "-----------------------------------\n"
     ]
    },
    {
     "data": {
      "application/vnd.jupyter.widget-view+json": {
       "model_id": "a896be4f2fd94c2d86c13fdc04b79030",
       "version_major": 2,
       "version_minor": 0
      },
      "text/plain": [
       "Training:   0%|          | 0/12893 [00:00<?, ?it/s]"
      ]
     },
     "metadata": {},
     "output_type": "display_data"
    },
    {
     "name": "stdout",
     "output_type": "stream",
     "text": [
      "Training Loss: 0.4724. Validation Loss: 0.4082.\n",
      "Training Accuracy: 0.8504. Validation Accuracy: 0.8756.\n",
      "-----------------------------------\n",
      "Epoch 24\n",
      "-----------------------------------\n"
     ]
    },
    {
     "data": {
      "application/vnd.jupyter.widget-view+json": {
       "model_id": "a0dc5a8741a449d49481e1687ba1e923",
       "version_major": 2,
       "version_minor": 0
      },
      "text/plain": [
       "Training:   0%|          | 0/12893 [00:00<?, ?it/s]"
      ]
     },
     "metadata": {},
     "output_type": "display_data"
    },
    {
     "name": "stdout",
     "output_type": "stream",
     "text": [
      "Training Loss: 0.4689. Validation Loss: 0.4067.\n",
      "Training Accuracy: 0.8513. Validation Accuracy: 0.8769.\n",
      "-----------------------------------\n",
      "Epoch 25\n",
      "-----------------------------------\n"
     ]
    },
    {
     "data": {
      "application/vnd.jupyter.widget-view+json": {
       "model_id": "65cebc46b75544668aeed7029f9aff3b",
       "version_major": 2,
       "version_minor": 0
      },
      "text/plain": [
       "Training:   0%|          | 0/12893 [00:00<?, ?it/s]"
      ]
     },
     "metadata": {},
     "output_type": "display_data"
    },
    {
     "name": "stdout",
     "output_type": "stream",
     "text": [
      "Training Loss: 0.4671. Validation Loss: 0.4147.\n",
      "Training Accuracy: 0.8520. Validation Accuracy: 0.8744.\n",
      "-----------------------------------\n",
      "Epoch 26\n",
      "-----------------------------------\n"
     ]
    },
    {
     "data": {
      "application/vnd.jupyter.widget-view+json": {
       "model_id": "f7a717fd3cba498694d204dd0bca59f4",
       "version_major": 2,
       "version_minor": 0
      },
      "text/plain": [
       "Training:   0%|          | 0/12893 [00:00<?, ?it/s]"
      ]
     },
     "metadata": {},
     "output_type": "display_data"
    },
    {
     "name": "stdout",
     "output_type": "stream",
     "text": [
      "Training Loss: 0.4646. Validation Loss: 0.4220.\n",
      "Training Accuracy: 0.8528. Validation Accuracy: 0.8734.\n",
      "-----------------------------------\n",
      "Epoch 27\n",
      "-----------------------------------\n"
     ]
    },
    {
     "data": {
      "application/vnd.jupyter.widget-view+json": {
       "model_id": "e5626e59ffe14a3cb4ba2c83c0c96565",
       "version_major": 2,
       "version_minor": 0
      },
      "text/plain": [
       "Training:   0%|          | 0/12893 [00:00<?, ?it/s]"
      ]
     },
     "metadata": {},
     "output_type": "display_data"
    },
    {
     "name": "stdout",
     "output_type": "stream",
     "text": [
      "Training Loss: 0.4625. Validation Loss: 0.3971.\n",
      "Training Accuracy: 0.8532. Validation Accuracy: 0.8784.\n",
      "-----------------------------------\n",
      "Epoch 28\n",
      "-----------------------------------\n"
     ]
    },
    {
     "data": {
      "application/vnd.jupyter.widget-view+json": {
       "model_id": "50cfbed5ae85408c8052e64fa4798028",
       "version_major": 2,
       "version_minor": 0
      },
      "text/plain": [
       "Training:   0%|          | 0/12893 [00:00<?, ?it/s]"
      ]
     },
     "metadata": {},
     "output_type": "display_data"
    },
    {
     "name": "stdout",
     "output_type": "stream",
     "text": [
      "Training Loss: 0.4610. Validation Loss: 0.4091.\n",
      "Training Accuracy: 0.8537. Validation Accuracy: 0.8764.\n",
      "-----------------------------------\n",
      "Epoch 29\n",
      "-----------------------------------\n"
     ]
    },
    {
     "data": {
      "application/vnd.jupyter.widget-view+json": {
       "model_id": "410029c1480f49d298f8bc18d709300c",
       "version_major": 2,
       "version_minor": 0
      },
      "text/plain": [
       "Training:   0%|          | 0/12893 [00:00<?, ?it/s]"
      ]
     },
     "metadata": {},
     "output_type": "display_data"
    },
    {
     "name": "stdout",
     "output_type": "stream",
     "text": [
      "Training Loss: 0.4588. Validation Loss: 0.4060.\n",
      "Training Accuracy: 0.8542. Validation Accuracy: 0.8777.\n",
      "-----------------------------------\n",
      "Epoch 30\n",
      "-----------------------------------\n"
     ]
    },
    {
     "data": {
      "application/vnd.jupyter.widget-view+json": {
       "model_id": "98dd73ab294f4c5db21d83e5935c839b",
       "version_major": 2,
       "version_minor": 0
      },
      "text/plain": [
       "Training:   0%|          | 0/12893 [00:00<?, ?it/s]"
      ]
     },
     "metadata": {},
     "output_type": "display_data"
    },
    {
     "name": "stdout",
     "output_type": "stream",
     "text": [
      "Training Loss: 0.4577. Validation Loss: 0.4061.\n",
      "Training Accuracy: 0.8546. Validation Accuracy: 0.8778.\n",
      "-----------------------------------\n",
      "Epoch 31\n",
      "-----------------------------------\n"
     ]
    },
    {
     "data": {
      "application/vnd.jupyter.widget-view+json": {
       "model_id": "7948214b29cb428aa2850cd8c762b533",
       "version_major": 2,
       "version_minor": 0
      },
      "text/plain": [
       "Training:   0%|          | 0/12893 [00:00<?, ?it/s]"
      ]
     },
     "metadata": {},
     "output_type": "display_data"
    },
    {
     "name": "stdout",
     "output_type": "stream",
     "text": [
      "Training Loss: 0.4574. Validation Loss: 0.4119.\n",
      "Training Accuracy: 0.8548. Validation Accuracy: 0.8763.\n",
      "-----------------------------------\n",
      "Epoch 32\n",
      "-----------------------------------\n"
     ]
    },
    {
     "data": {
      "application/vnd.jupyter.widget-view+json": {
       "model_id": "600fb9cd32094270825e5ed9c7816393",
       "version_major": 2,
       "version_minor": 0
      },
      "text/plain": [
       "Training:   0%|          | 0/12893 [00:00<?, ?it/s]"
      ]
     },
     "metadata": {},
     "output_type": "display_data"
    },
    {
     "name": "stdout",
     "output_type": "stream",
     "text": [
      "Training Loss: 0.4551. Validation Loss: 0.4149.\n",
      "Training Accuracy: 0.8552. Validation Accuracy: 0.8765.\n",
      "-----------------------------------\n",
      "Epoch 33\n",
      "-----------------------------------\n"
     ]
    },
    {
     "data": {
      "application/vnd.jupyter.widget-view+json": {
       "model_id": "265e27d850a4442d8d5eba5f20af52ef",
       "version_major": 2,
       "version_minor": 0
      },
      "text/plain": [
       "Training:   0%|          | 0/12893 [00:00<?, ?it/s]"
      ]
     },
     "metadata": {},
     "output_type": "display_data"
    },
    {
     "name": "stdout",
     "output_type": "stream",
     "text": [
      "Training Loss: 0.4550. Validation Loss: 0.3961.\n",
      "Training Accuracy: 0.8556. Validation Accuracy: 0.8797.\n",
      "-----------------------------------\n",
      "Epoch 34\n",
      "-----------------------------------\n"
     ]
    },
    {
     "data": {
      "application/vnd.jupyter.widget-view+json": {
       "model_id": "c2c839171c7945a5a711036856ce6c68",
       "version_major": 2,
       "version_minor": 0
      },
      "text/plain": [
       "Training:   0%|          | 0/12893 [00:00<?, ?it/s]"
      ]
     },
     "metadata": {},
     "output_type": "display_data"
    },
    {
     "name": "stdout",
     "output_type": "stream",
     "text": [
      "Training Loss: 0.4536. Validation Loss: 0.4055.\n",
      "Training Accuracy: 0.8559. Validation Accuracy: 0.8794.\n",
      "-----------------------------------\n",
      "Epoch 35\n",
      "-----------------------------------\n"
     ]
    },
    {
     "data": {
      "application/vnd.jupyter.widget-view+json": {
       "model_id": "5effcf83e6f7418e9d5c933ce512924a",
       "version_major": 2,
       "version_minor": 0
      },
      "text/plain": [
       "Training:   0%|          | 0/12893 [00:00<?, ?it/s]"
      ]
     },
     "metadata": {},
     "output_type": "display_data"
    },
    {
     "name": "stdout",
     "output_type": "stream",
     "text": [
      "Training Loss: 0.4525. Validation Loss: 0.4256.\n",
      "Training Accuracy: 0.8562. Validation Accuracy: 0.8750.\n",
      "-----------------------------------\n",
      "Epoch 36\n",
      "-----------------------------------\n"
     ]
    },
    {
     "data": {
      "application/vnd.jupyter.widget-view+json": {
       "model_id": "59ffe234111740218316167f6bb77a6f",
       "version_major": 2,
       "version_minor": 0
      },
      "text/plain": [
       "Training:   0%|          | 0/12893 [00:00<?, ?it/s]"
      ]
     },
     "metadata": {},
     "output_type": "display_data"
    },
    {
     "name": "stdout",
     "output_type": "stream",
     "text": [
      "Training Loss: 0.4519. Validation Loss: 0.3937.\n",
      "Training Accuracy: 0.8564. Validation Accuracy: 0.8819.\n",
      "-----------------------------------\n",
      "Epoch 37\n",
      "-----------------------------------\n"
     ]
    },
    {
     "data": {
      "application/vnd.jupyter.widget-view+json": {
       "model_id": "5a4cb7a2a6cf430c94af699488c6177c",
       "version_major": 2,
       "version_minor": 0
      },
      "text/plain": [
       "Training:   0%|          | 0/12893 [00:00<?, ?it/s]"
      ]
     },
     "metadata": {},
     "output_type": "display_data"
    },
    {
     "name": "stdout",
     "output_type": "stream",
     "text": [
      "Training Loss: 0.4514. Validation Loss: 0.4136.\n",
      "Training Accuracy: 0.8566. Validation Accuracy: 0.8775.\n",
      "-----------------------------------\n",
      "Epoch 38\n",
      "-----------------------------------\n"
     ]
    },
    {
     "data": {
      "application/vnd.jupyter.widget-view+json": {
       "model_id": "8d286de7a9d54fcebb0d8d4556dc8d4a",
       "version_major": 2,
       "version_minor": 0
      },
      "text/plain": [
       "Training:   0%|          | 0/12893 [00:00<?, ?it/s]"
      ]
     },
     "metadata": {},
     "output_type": "display_data"
    },
    {
     "name": "stdout",
     "output_type": "stream",
     "text": [
      "Training Loss: 0.4512. Validation Loss: 0.4078.\n",
      "Training Accuracy: 0.8566. Validation Accuracy: 0.8779.\n",
      "-----------------------------------\n",
      "Epoch 39\n",
      "-----------------------------------\n"
     ]
    },
    {
     "data": {
      "application/vnd.jupyter.widget-view+json": {
       "model_id": "01b12a4d6ac54d879bb14481ee416856",
       "version_major": 2,
       "version_minor": 0
      },
      "text/plain": [
       "Training:   0%|          | 0/12893 [00:00<?, ?it/s]"
      ]
     },
     "metadata": {},
     "output_type": "display_data"
    },
    {
     "name": "stdout",
     "output_type": "stream",
     "text": [
      "Training Loss: 0.4501. Validation Loss: 0.4067.\n",
      "Training Accuracy: 0.8571. Validation Accuracy: 0.8787.\n",
      "-----------------------------------\n",
      "Epoch 40\n",
      "-----------------------------------\n"
     ]
    },
    {
     "data": {
      "application/vnd.jupyter.widget-view+json": {
       "model_id": "0d2e0b333f234dde9d2825758d7a519d",
       "version_major": 2,
       "version_minor": 0
      },
      "text/plain": [
       "Training:   0%|          | 0/12893 [00:00<?, ?it/s]"
      ]
     },
     "metadata": {},
     "output_type": "display_data"
    },
    {
     "name": "stdout",
     "output_type": "stream",
     "text": [
      "Training Loss: 0.4495. Validation Loss: 0.4128.\n",
      "Training Accuracy: 0.8570. Validation Accuracy: 0.8773.\n",
      "-----------------------------------\n",
      "Epoch 41\n",
      "-----------------------------------\n"
     ]
    },
    {
     "data": {
      "application/vnd.jupyter.widget-view+json": {
       "model_id": "d7251f9e6e5642cf971900874451714b",
       "version_major": 2,
       "version_minor": 0
      },
      "text/plain": [
       "Training:   0%|          | 0/12893 [00:00<?, ?it/s]"
      ]
     },
     "metadata": {},
     "output_type": "display_data"
    },
    {
     "name": "stdout",
     "output_type": "stream",
     "text": [
      "Training Loss: 0.4489. Validation Loss: 0.4052.\n",
      "Training Accuracy: 0.8573. Validation Accuracy: 0.8776.\n",
      "-----------------------------------\n",
      "Epoch 42\n",
      "-----------------------------------\n"
     ]
    },
    {
     "data": {
      "application/vnd.jupyter.widget-view+json": {
       "model_id": "e7d662c115d348078a65876f527905ad",
       "version_major": 2,
       "version_minor": 0
      },
      "text/plain": [
       "Training:   0%|          | 0/12893 [00:00<?, ?it/s]"
      ]
     },
     "metadata": {},
     "output_type": "display_data"
    },
    {
     "name": "stdout",
     "output_type": "stream",
     "text": [
      "Training Loss: 0.4483. Validation Loss: 0.4099.\n",
      "Training Accuracy: 0.8573. Validation Accuracy: 0.8785.\n",
      "-----------------------------------\n",
      "Epoch 43\n",
      "-----------------------------------\n"
     ]
    },
    {
     "data": {
      "application/vnd.jupyter.widget-view+json": {
       "model_id": "a17cbbeddd974fab80990fe6925515cd",
       "version_major": 2,
       "version_minor": 0
      },
      "text/plain": [
       "Training:   0%|          | 0/12893 [00:00<?, ?it/s]"
      ]
     },
     "metadata": {},
     "output_type": "display_data"
    },
    {
     "name": "stdout",
     "output_type": "stream",
     "text": [
      "Training Loss: 0.4485. Validation Loss: 0.4201.\n",
      "Training Accuracy: 0.8575. Validation Accuracy: 0.8744.\n",
      "-----------------------------------\n",
      "Epoch 44\n",
      "-----------------------------------\n"
     ]
    },
    {
     "data": {
      "application/vnd.jupyter.widget-view+json": {
       "model_id": "5955e4d0ead54885adf7a5252c2eb1e8",
       "version_major": 2,
       "version_minor": 0
      },
      "text/plain": [
       "Training:   0%|          | 0/12893 [00:00<?, ?it/s]"
      ]
     },
     "metadata": {},
     "output_type": "display_data"
    },
    {
     "name": "stdout",
     "output_type": "stream",
     "text": [
      "Training Loss: 0.4473. Validation Loss: 0.4167.\n",
      "Training Accuracy: 0.8579. Validation Accuracy: 0.8766.\n",
      "-----------------------------------\n",
      "Epoch 45\n",
      "-----------------------------------\n"
     ]
    },
    {
     "data": {
      "application/vnd.jupyter.widget-view+json": {
       "model_id": "8395a35849a547cf8445a1168d3aae9d",
       "version_major": 2,
       "version_minor": 0
      },
      "text/plain": [
       "Training:   0%|          | 0/12893 [00:00<?, ?it/s]"
      ]
     },
     "metadata": {},
     "output_type": "display_data"
    },
    {
     "name": "stdout",
     "output_type": "stream",
     "text": [
      "Training Loss: 0.4475. Validation Loss: 0.4054.\n",
      "Training Accuracy: 0.8578. Validation Accuracy: 0.8799.\n",
      "-----------------------------------\n",
      "Epoch 46\n",
      "-----------------------------------\n"
     ]
    },
    {
     "data": {
      "application/vnd.jupyter.widget-view+json": {
       "model_id": "d12cef3684284d60864d1d95da8bd18e",
       "version_major": 2,
       "version_minor": 0
      },
      "text/plain": [
       "Training:   0%|          | 0/12893 [00:00<?, ?it/s]"
      ]
     },
     "metadata": {},
     "output_type": "display_data"
    },
    {
     "name": "stdout",
     "output_type": "stream",
     "text": [
      "Training Loss: 0.4472. Validation Loss: 0.4089.\n",
      "Training Accuracy: 0.8579. Validation Accuracy: 0.8785.\n",
      "-----------------------------------\n",
      "Epoch 47\n",
      "-----------------------------------\n"
     ]
    },
    {
     "data": {
      "application/vnd.jupyter.widget-view+json": {
       "model_id": "f1095d91eb464297a1471e86c63c9745",
       "version_major": 2,
       "version_minor": 0
      },
      "text/plain": [
       "Training:   0%|          | 0/12893 [00:00<?, ?it/s]"
      ]
     },
     "metadata": {},
     "output_type": "display_data"
    },
    {
     "name": "stdout",
     "output_type": "stream",
     "text": [
      "Training Loss: 0.4477. Validation Loss: 0.4001.\n",
      "Training Accuracy: 0.8577. Validation Accuracy: 0.8802.\n",
      "-----------------------------------\n",
      "Epoch 48\n",
      "-----------------------------------\n"
     ]
    },
    {
     "data": {
      "application/vnd.jupyter.widget-view+json": {
       "model_id": "bdcd98ffe4624f6bbd51f2fc28113de5",
       "version_major": 2,
       "version_minor": 0
      },
      "text/plain": [
       "Training:   0%|          | 0/12893 [00:00<?, ?it/s]"
      ]
     },
     "metadata": {},
     "output_type": "display_data"
    },
    {
     "name": "stdout",
     "output_type": "stream",
     "text": [
      "Training Loss: 0.3001. Validation Loss: 0.2554.\n",
      "Training Accuracy: 0.9026. Validation Accuracy: 0.9228.\n",
      "-----------------------------------\n",
      "Epoch 49\n",
      "-----------------------------------\n"
     ]
    },
    {
     "data": {
      "application/vnd.jupyter.widget-view+json": {
       "model_id": "07975074c0a64cda99a8fb47c5c7074a",
       "version_major": 2,
       "version_minor": 0
      },
      "text/plain": [
       "Training:   0%|          | 0/12893 [00:00<?, ?it/s]"
      ]
     },
     "metadata": {},
     "output_type": "display_data"
    },
    {
     "name": "stdout",
     "output_type": "stream",
     "text": [
      "Training Loss: 0.2674. Validation Loss: 0.2431.\n",
      "Training Accuracy: 0.9131. Validation Accuracy: 0.9265.\n",
      "-----------------------------------\n",
      "Epoch 50\n",
      "-----------------------------------\n"
     ]
    },
    {
     "data": {
      "application/vnd.jupyter.widget-view+json": {
       "model_id": "f8d49496b9774743ac7285a16de89712",
       "version_major": 2,
       "version_minor": 0
      },
      "text/plain": [
       "Training:   0%|          | 0/12893 [00:00<?, ?it/s]"
      ]
     },
     "metadata": {},
     "output_type": "display_data"
    },
    {
     "name": "stdout",
     "output_type": "stream",
     "text": [
      "Training Loss: 0.2542. Validation Loss: 0.2305.\n",
      "Training Accuracy: 0.9171. Validation Accuracy: 0.9303.\n"
     ]
    },
    {
     "data": {
      "image/png": "[encoded data removed]",
      "text/plain": [
       "<Figure size 800x600 with 1 Axes>"
      ]
     },
     "metadata": {},
     "output_type": "display_data"
    },
    {
     "data": {
      "image/png": "[encoded data removed]",
      "text/plain": [
       "<Figure size 800x600 with 1 Axes>"
      ]
     },
     "metadata": {},
     "output_type": "display_data"
    }
   ],
   "source": [
    "solver.train_and_evaluate(plot_results=True)"
   ]
  },
  {
   "cell_type": "code",
   "execution_count": null,
   "metadata": {},
   "outputs": [],
   "source": [
    "# NOTE: Do not assume these values are anything but trash, they're just here for testing\n",
    "\n",
    "SOLVER_PARAMS = {\n",
    "    Solver : {\n",
    "        \"device\": device,\n",
    "        \"batch_size\": 256,\n",
    "        \"epochs\": [5, 10],\n",
    "        \"early_stop_epochs\": 3, # early stop after n epochs without improvement, 0 to disable\n",
    "        \"warmup_epochs\": 0, # 0 to disable\n",
    "        \"dtype\": \"float16\",\n",
    "        \"train_dataloader\": train_loader, # must be DataLoader object\n",
    "        \"valid_dataloader\": test_loader, # must be DataLoader object\n",
    "        \"direction\": \"minimize\" # must specify this, even if not used by solver\n",
    "    }\n",
    "}\n",
    "\n",
    "MODEL_PARAMS = {\n",
    "    ChromaTransformerModel: {\n",
    "        \"input_dim\": [24],\n",
    "        \"seq_length\": [16],\n",
    "        \"num_classes\": [num_classes],\n",
    "        \"dim_feedworward\": [256, 512, 1024],\n",
    "        \"d_model\": [128, 256],\n",
    "        \"num_layers\": [4, 6]\n",
    "    }\n",
    "}\n",
    "\n",
    "OPTIM_PARAMS = {\n",
    "    torch.optim.SGD : {\n",
    "        \"lr\": [0.001, 0.1, SearchMethod.LOG_UNIFORM],\n",
    "        \"momentum\": [0.9, 0.99, SearchMethod.UNIFORM],\n",
    "        \"weight_decay\": [0.00001],\n",
    "    },\n",
    "    torch.optim.Adam : {\n",
    "        \"lr\": [0.008, 0.005, 0.001], # this will auto-search as CATEGORICAL\n",
    "    }\n",
    "}\n",
    "\n",
    "SCHED_PARAMS = {\n",
    "    torch.optim.lr_scheduler.CosineAnnealingWarmRestarts : {\n",
    "        \"T_0\": [10],\n",
    "    },\n",
    "    torch.optim.lr_scheduler.StepLR : {\n",
    "        \"step_size\": [5, 10, 15],\n",
    "        \"gamma\" : [0.1, 0.05],\n",
    "    }\n",
    "}\n",
    "\n",
    "CRITERION_PARAMS = {\n",
    "    torch.nn.CrossEntropyLoss : {}\n",
    "}\n",
    "\n",
    "PARAM_SET = {\n",
    "    \"solver\": SOLVER_PARAMS,\n",
    "    \"model\" : MODEL_PARAMS,\n",
    "    \"optim\" : OPTIM_PARAMS,\n",
    "    \"sched\" : SCHED_PARAMS,\n",
    "    \"criterion\" : CRITERION_PARAMS,\n",
    "}"
   ]
  },
  {
   "cell_type": "markdown",
   "metadata": {},
   "source": [
    "### Griddy"
   ]
  },
  {
   "cell_type": "code",
   "execution_count": 6,
   "metadata": {},
   "outputs": [
    {
     "name": "stdout",
     "output_type": "stream",
     "text": [
      "\"Hitting the griddy...\" -Ellie\n"
     ]
    },
    {
     "name": "stderr",
     "output_type": "stream",
     "text": [
      "[I 2024-12-08 17:46:29,229] A new study created in RDB with name: chroma_transformer\n",
      "c:\\Users\\maxwe\\OneDrive\\Documents\\amadeus-ex-machina\\griddy\\griddy_tuna.py:127: FutureWarning: suggest_loguniform has been deprecated in v3.0.0. This feature will be removed in v6.0.0. See https://github.com/optuna/optuna/releases/tag/v3.0.0. Use suggest_float(..., log=True) instead.\n",
      "  return trial.suggest_loguniform(name, min(values), max(values))\n",
      "c:\\Users\\maxwe\\OneDrive\\Documents\\amadeus-ex-machina\\griddy\\griddy_tuna.py:125: FutureWarning: suggest_uniform has been deprecated in v3.0.0. This feature will be removed in v6.0.0. See https://github.com/optuna/optuna/releases/tag/v3.0.0. Use suggest_float instead.\n",
      "  return trial.suggest_uniform(name, min(values), max(values))\n"
     ]
    },
    {
     "name": "stdout",
     "output_type": "stream",
     "text": [
      "-----------------------------------\n",
      "Epoch 1\n",
      "-----------------------------------\n"
     ]
    },
    {
     "data": {
      "application/vnd.jupyter.widget-view+json": {
       "model_id": "043aacab14514f208d62c0fc561578f2",
       "version_major": 2,
       "version_minor": 0
      },
      "text/plain": [
       "Training:   0%|          | 0/12893 [00:00<?, ?it/s]"
      ]
     },
     "metadata": {},
     "output_type": "display_data"
    },
    {
     "name": "stdout",
     "output_type": "stream",
     "text": [
      "Training Loss: 1.8452. Validation Loss: 1.4233.\n",
      "Training Accuracy: 0.5426. Validation Accuracy: 0.6201.\n",
      "-----------------------------------\n",
      "Epoch 2\n",
      "-----------------------------------\n"
     ]
    },
    {
     "name": "stderr",
     "output_type": "stream",
     "text": [
      "c:\\Users\\maxwe\\anaconda3\\envs\\amadeus-ex-machina\\Lib\\site-packages\\torch\\optim\\lr_scheduler.py:152: UserWarning: The epoch parameter in `scheduler.step()` was not necessary and is being deprecated where possible. Please use `scheduler.step()` to step the scheduler. During the deprecation, if epoch is different from None, the closed form is used instead of the new chainable form, where available. Please open an issue if you are unable to replicate your use case: https://github.com/pytorch/pytorch/issues/new/choose.\n",
      "  warnings.warn(EPOCH_DEPRECATION_WARNING, UserWarning)\n"
     ]
    },
    {
     "data": {
      "application/vnd.jupyter.widget-view+json": {
       "model_id": "da7c25ace8314c6d9bd13713900a7e55",
       "version_major": 2,
       "version_minor": 0
      },
      "text/plain": [
       "Training:   0%|          | 0/12893 [00:00<?, ?it/s]"
      ]
     },
     "metadata": {},
     "output_type": "display_data"
    },
    {
     "name": "stderr",
     "output_type": "stream",
     "text": [
      "[W 2024-12-08 19:30:42,200] Trial 0 failed with parameters: {'optim_class': 'SGD', 'SGD_lr': 0.03604671405194837, 'SGD_momentum': 0.9121409282628447, 'sched_class': 'StepLR', 'StepLR_step_size': 5, 'StepLR_gamma': 0.1, 'epochs': 5} because of the following error: KeyboardInterrupt().\n",
      "Traceback (most recent call last):\n",
      "  File \"c:\\Users\\maxwe\\anaconda3\\envs\\amadeus-ex-machina\\Lib\\site-packages\\optuna\\study\\_optimize.py\", line 197, in _run_trial\n",
      "    value_or_values = func(trial)\n",
      "                      ^^^^^^^^^^^\n",
      "  File \"c:\\Users\\maxwe\\OneDrive\\Documents\\amadeus-ex-machina\\griddy\\griddy_tuna.py\", line 61, in objective\n",
      "    best_metric = solver.train_and_evaluate(trial, trial_metric=trial_metric)\n",
      "                  ^^^^^^^^^^^^^^^^^^^^^^^^^^^^^^^^^^^^^^^^^^^^^^^^^^^^^^^^^^^\n",
      "  File \"c:\\Users\\maxwe\\OneDrive\\Documents\\amadeus-ex-machina\\solver.py\", line 142, in train_and_evaluate\n",
      "    self.optimizer.step()\n",
      "  File \"c:\\Users\\maxwe\\anaconda3\\envs\\amadeus-ex-machina\\Lib\\site-packages\\torch\\optim\\lr_scheduler.py\", line 69, in wrapper\n",
      "    return wrapped(*args, **kwargs)\n",
      "           ^^^^^^^^^^^^^^^^^^^^^^^^\n",
      "  File \"c:\\Users\\maxwe\\anaconda3\\envs\\amadeus-ex-machina\\Lib\\site-packages\\torch\\optim\\optimizer.py\", line 280, in wrapper\n",
      "    out = func(*args, **kwargs)\n",
      "          ^^^^^^^^^^^^^^^^^^^^^\n",
      "  File \"c:\\Users\\maxwe\\anaconda3\\envs\\amadeus-ex-machina\\Lib\\site-packages\\torch\\optim\\optimizer.py\", line 33, in _use_grad\n",
      "    ret = func(self, *args, **kwargs)\n",
      "          ^^^^^^^^^^^^^^^^^^^^^^^^^^^\n",
      "  File \"c:\\Users\\maxwe\\anaconda3\\envs\\amadeus-ex-machina\\Lib\\site-packages\\torch\\optim\\sgd.py\", line 76, in step\n",
      "    sgd(params_with_grad,\n",
      "  File \"c:\\Users\\maxwe\\anaconda3\\envs\\amadeus-ex-machina\\Lib\\site-packages\\torch\\optim\\sgd.py\", line 222, in sgd\n",
      "    func(params,\n",
      "  File \"c:\\Users\\maxwe\\anaconda3\\envs\\amadeus-ex-machina\\Lib\\site-packages\\torch\\optim\\sgd.py\", line 305, in _multi_tensor_sgd\n",
      "    torch._foreach_mul_(bufs, momentum)\n",
      "KeyboardInterrupt\n",
      "[W 2024-12-08 19:30:42,204] Trial 0 failed with value None.\n"
     ]
    },
    {
     "ename": "KeyboardInterrupt",
     "evalue": "",
     "output_type": "error",
     "traceback": [
      "\u001b[1;31m---------------------------------------------------------------------------\u001b[0m",
      "\u001b[1;31mKeyboardInterrupt\u001b[0m                         Traceback (most recent call last)",
      "Cell \u001b[1;32mIn[6], line 5\u001b[0m\n\u001b[0;32m      1\u001b[0m my_study \u001b[38;5;241m=\u001b[39m \u001b[38;5;124m\"\u001b[39m\u001b[38;5;124mchroma_transformer\u001b[39m\u001b[38;5;124m\"\u001b[39m\n\u001b[0;32m      3\u001b[0m output_folder \u001b[38;5;241m=\u001b[39m Path(\u001b[38;5;124m\"\u001b[39m\u001b[38;5;124mgriddy\u001b[39m\u001b[38;5;124m\"\u001b[39m)\n\u001b[1;32m----> 5\u001b[0m solver_reference \u001b[38;5;241m=\u001b[39m hit_griddy(my_study, param_set\u001b[38;5;241m=\u001b[39mPARAM_SET, out_dir\u001b[38;5;241m=\u001b[39moutput_folder, n_trials\u001b[38;5;241m=\u001b[39m\u001b[38;5;241m30\u001b[39m, n_jobs\u001b[38;5;241m=\u001b[39m\u001b[38;5;241m1\u001b[39m, prune\u001b[38;5;241m=\u001b[39m\u001b[38;5;28;01mFalse\u001b[39;00m, resume\u001b[38;5;241m=\u001b[39m\u001b[38;5;28;01mFalse\u001b[39;00m, trial_metric\u001b[38;5;241m=\u001b[39mTrialMetric\u001b[38;5;241m.\u001b[39mACCURACY)\n",
      "File \u001b[1;32mc:\\Users\\maxwe\\OneDrive\\Documents\\amadeus-ex-machina\\griddy\\griddy_tuna.py:49\u001b[0m, in \u001b[0;36mhit_griddy\u001b[1;34m(study_name, param_set, out_dir, trial_metric, n_trials, n_jobs, prune, resume)\u001b[0m\n\u001b[0;32m     47\u001b[0m study \u001b[38;5;241m=\u001b[39m optuna\u001b[38;5;241m.\u001b[39mcreate_study(study_name\u001b[38;5;241m=\u001b[39mstudy_name, direction\u001b[38;5;241m=\u001b[39m__get_direction(param_set), storage\u001b[38;5;241m=\u001b[39mstorage_path, load_if_exists\u001b[38;5;241m=\u001b[39mresume)\n\u001b[0;32m     48\u001b[0m objective \u001b[38;5;241m=\u001b[39m __create_objective(param_set, out_dir, prune, trial_metric)\n\u001b[1;32m---> 49\u001b[0m study\u001b[38;5;241m.\u001b[39moptimize(objective, n_trials\u001b[38;5;241m=\u001b[39mn_trials, n_jobs\u001b[38;5;241m=\u001b[39mn_jobs)\n\u001b[0;32m     50\u001b[0m \u001b[38;5;28mprint\u001b[39m(\u001b[38;5;124m\"\u001b[39m\u001b[38;5;124mDONE\u001b[39m\u001b[38;5;124m\"\u001b[39m)\n\u001b[0;32m     51\u001b[0m \u001b[38;5;28;01mreturn\u001b[39;00m study\n",
      "File \u001b[1;32mc:\\Users\\maxwe\\anaconda3\\envs\\amadeus-ex-machina\\Lib\\site-packages\\optuna\\study\\study.py:475\u001b[0m, in \u001b[0;36mStudy.optimize\u001b[1;34m(self, func, n_trials, timeout, n_jobs, catch, callbacks, gc_after_trial, show_progress_bar)\u001b[0m\n\u001b[0;32m    373\u001b[0m \u001b[38;5;28;01mdef\u001b[39;00m \u001b[38;5;21moptimize\u001b[39m(\n\u001b[0;32m    374\u001b[0m     \u001b[38;5;28mself\u001b[39m,\n\u001b[0;32m    375\u001b[0m     func: ObjectiveFuncType,\n\u001b[1;32m   (...)\u001b[0m\n\u001b[0;32m    382\u001b[0m     show_progress_bar: \u001b[38;5;28mbool\u001b[39m \u001b[38;5;241m=\u001b[39m \u001b[38;5;28;01mFalse\u001b[39;00m,\n\u001b[0;32m    383\u001b[0m ) \u001b[38;5;241m-\u001b[39m\u001b[38;5;241m>\u001b[39m \u001b[38;5;28;01mNone\u001b[39;00m:\n\u001b[0;32m    384\u001b[0m \u001b[38;5;250m    \u001b[39m\u001b[38;5;124;03m\"\"\"Optimize an objective function.\u001b[39;00m\n\u001b[0;32m    385\u001b[0m \n\u001b[0;32m    386\u001b[0m \u001b[38;5;124;03m    Optimization is done by choosing a suitable set of hyperparameter values from a given\u001b[39;00m\n\u001b[1;32m   (...)\u001b[0m\n\u001b[0;32m    473\u001b[0m \u001b[38;5;124;03m            If nested invocation of this method occurs.\u001b[39;00m\n\u001b[0;32m    474\u001b[0m \u001b[38;5;124;03m    \"\"\"\u001b[39;00m\n\u001b[1;32m--> 475\u001b[0m     _optimize(\n\u001b[0;32m    476\u001b[0m         study\u001b[38;5;241m=\u001b[39m\u001b[38;5;28mself\u001b[39m,\n\u001b[0;32m    477\u001b[0m         func\u001b[38;5;241m=\u001b[39mfunc,\n\u001b[0;32m    478\u001b[0m         n_trials\u001b[38;5;241m=\u001b[39mn_trials,\n\u001b[0;32m    479\u001b[0m         timeout\u001b[38;5;241m=\u001b[39mtimeout,\n\u001b[0;32m    480\u001b[0m         n_jobs\u001b[38;5;241m=\u001b[39mn_jobs,\n\u001b[0;32m    481\u001b[0m         catch\u001b[38;5;241m=\u001b[39m\u001b[38;5;28mtuple\u001b[39m(catch) \u001b[38;5;28;01mif\u001b[39;00m \u001b[38;5;28misinstance\u001b[39m(catch, Iterable) \u001b[38;5;28;01melse\u001b[39;00m (catch,),\n\u001b[0;32m    482\u001b[0m         callbacks\u001b[38;5;241m=\u001b[39mcallbacks,\n\u001b[0;32m    483\u001b[0m         gc_after_trial\u001b[38;5;241m=\u001b[39mgc_after_trial,\n\u001b[0;32m    484\u001b[0m         show_progress_bar\u001b[38;5;241m=\u001b[39mshow_progress_bar,\n\u001b[0;32m    485\u001b[0m     )\n",
      "File \u001b[1;32mc:\\Users\\maxwe\\anaconda3\\envs\\amadeus-ex-machina\\Lib\\site-packages\\optuna\\study\\_optimize.py:63\u001b[0m, in \u001b[0;36m_optimize\u001b[1;34m(study, func, n_trials, timeout, n_jobs, catch, callbacks, gc_after_trial, show_progress_bar)\u001b[0m\n\u001b[0;32m     61\u001b[0m \u001b[38;5;28;01mtry\u001b[39;00m:\n\u001b[0;32m     62\u001b[0m     \u001b[38;5;28;01mif\u001b[39;00m n_jobs \u001b[38;5;241m==\u001b[39m \u001b[38;5;241m1\u001b[39m:\n\u001b[1;32m---> 63\u001b[0m         _optimize_sequential(\n\u001b[0;32m     64\u001b[0m             study,\n\u001b[0;32m     65\u001b[0m             func,\n\u001b[0;32m     66\u001b[0m             n_trials,\n\u001b[0;32m     67\u001b[0m             timeout,\n\u001b[0;32m     68\u001b[0m             catch,\n\u001b[0;32m     69\u001b[0m             callbacks,\n\u001b[0;32m     70\u001b[0m             gc_after_trial,\n\u001b[0;32m     71\u001b[0m             reseed_sampler_rng\u001b[38;5;241m=\u001b[39m\u001b[38;5;28;01mFalse\u001b[39;00m,\n\u001b[0;32m     72\u001b[0m             time_start\u001b[38;5;241m=\u001b[39m\u001b[38;5;28;01mNone\u001b[39;00m,\n\u001b[0;32m     73\u001b[0m             progress_bar\u001b[38;5;241m=\u001b[39mprogress_bar,\n\u001b[0;32m     74\u001b[0m         )\n\u001b[0;32m     75\u001b[0m     \u001b[38;5;28;01melse\u001b[39;00m:\n\u001b[0;32m     76\u001b[0m         \u001b[38;5;28;01mif\u001b[39;00m n_jobs \u001b[38;5;241m==\u001b[39m \u001b[38;5;241m-\u001b[39m\u001b[38;5;241m1\u001b[39m:\n",
      "File \u001b[1;32mc:\\Users\\maxwe\\anaconda3\\envs\\amadeus-ex-machina\\Lib\\site-packages\\optuna\\study\\_optimize.py:160\u001b[0m, in \u001b[0;36m_optimize_sequential\u001b[1;34m(study, func, n_trials, timeout, catch, callbacks, gc_after_trial, reseed_sampler_rng, time_start, progress_bar)\u001b[0m\n\u001b[0;32m    157\u001b[0m         \u001b[38;5;28;01mbreak\u001b[39;00m\n\u001b[0;32m    159\u001b[0m \u001b[38;5;28;01mtry\u001b[39;00m:\n\u001b[1;32m--> 160\u001b[0m     frozen_trial \u001b[38;5;241m=\u001b[39m _run_trial(study, func, catch)\n\u001b[0;32m    161\u001b[0m \u001b[38;5;28;01mfinally\u001b[39;00m:\n\u001b[0;32m    162\u001b[0m     \u001b[38;5;66;03m# The following line mitigates memory problems that can be occurred in some\u001b[39;00m\n\u001b[0;32m    163\u001b[0m     \u001b[38;5;66;03m# environments (e.g., services that use computing containers such as GitHub Actions).\u001b[39;00m\n\u001b[0;32m    164\u001b[0m     \u001b[38;5;66;03m# Please refer to the following PR for further details:\u001b[39;00m\n\u001b[0;32m    165\u001b[0m     \u001b[38;5;66;03m# https://github.com/optuna/optuna/pull/325.\u001b[39;00m\n\u001b[0;32m    166\u001b[0m     \u001b[38;5;28;01mif\u001b[39;00m gc_after_trial:\n",
      "File \u001b[1;32mc:\\Users\\maxwe\\anaconda3\\envs\\amadeus-ex-machina\\Lib\\site-packages\\optuna\\study\\_optimize.py:248\u001b[0m, in \u001b[0;36m_run_trial\u001b[1;34m(study, func, catch)\u001b[0m\n\u001b[0;32m    241\u001b[0m         \u001b[38;5;28;01massert\u001b[39;00m \u001b[38;5;28;01mFalse\u001b[39;00m, \u001b[38;5;124m\"\u001b[39m\u001b[38;5;124mShould not reach.\u001b[39m\u001b[38;5;124m\"\u001b[39m\n\u001b[0;32m    243\u001b[0m \u001b[38;5;28;01mif\u001b[39;00m (\n\u001b[0;32m    244\u001b[0m     frozen_trial\u001b[38;5;241m.\u001b[39mstate \u001b[38;5;241m==\u001b[39m TrialState\u001b[38;5;241m.\u001b[39mFAIL\n\u001b[0;32m    245\u001b[0m     \u001b[38;5;129;01mand\u001b[39;00m func_err \u001b[38;5;129;01mis\u001b[39;00m \u001b[38;5;129;01mnot\u001b[39;00m \u001b[38;5;28;01mNone\u001b[39;00m\n\u001b[0;32m    246\u001b[0m     \u001b[38;5;129;01mand\u001b[39;00m \u001b[38;5;129;01mnot\u001b[39;00m \u001b[38;5;28misinstance\u001b[39m(func_err, catch)\n\u001b[0;32m    247\u001b[0m ):\n\u001b[1;32m--> 248\u001b[0m     \u001b[38;5;28;01mraise\u001b[39;00m func_err\n\u001b[0;32m    249\u001b[0m \u001b[38;5;28;01mreturn\u001b[39;00m frozen_trial\n",
      "File \u001b[1;32mc:\\Users\\maxwe\\anaconda3\\envs\\amadeus-ex-machina\\Lib\\site-packages\\optuna\\study\\_optimize.py:197\u001b[0m, in \u001b[0;36m_run_trial\u001b[1;34m(study, func, catch)\u001b[0m\n\u001b[0;32m    195\u001b[0m \u001b[38;5;28;01mwith\u001b[39;00m get_heartbeat_thread(trial\u001b[38;5;241m.\u001b[39m_trial_id, study\u001b[38;5;241m.\u001b[39m_storage):\n\u001b[0;32m    196\u001b[0m     \u001b[38;5;28;01mtry\u001b[39;00m:\n\u001b[1;32m--> 197\u001b[0m         value_or_values \u001b[38;5;241m=\u001b[39m func(trial)\n\u001b[0;32m    198\u001b[0m     \u001b[38;5;28;01mexcept\u001b[39;00m exceptions\u001b[38;5;241m.\u001b[39mTrialPruned \u001b[38;5;28;01mas\u001b[39;00m e:\n\u001b[0;32m    199\u001b[0m         \u001b[38;5;66;03m# TODO(mamu): Handle multi-objective cases.\u001b[39;00m\n\u001b[0;32m    200\u001b[0m         state \u001b[38;5;241m=\u001b[39m TrialState\u001b[38;5;241m.\u001b[39mPRUNED\n",
      "File \u001b[1;32mc:\\Users\\maxwe\\OneDrive\\Documents\\amadeus-ex-machina\\griddy\\griddy_tuna.py:61\u001b[0m, in \u001b[0;36m__create_objective.<locals>.objective\u001b[1;34m(trial)\u001b[0m\n\u001b[0;32m     59\u001b[0m criterion \u001b[38;5;241m=\u001b[39m __instantiate_class_with_trial_params(trial, \u001b[38;5;124m'\u001b[39m\u001b[38;5;124mcriterion\u001b[39m\u001b[38;5;124m'\u001b[39m, copy\u001b[38;5;241m.\u001b[39mdeepcopy(param_set))\n\u001b[0;32m     60\u001b[0m solver \u001b[38;5;241m=\u001b[39m __instantiate_class_with_trial_params(trial, \u001b[38;5;124m'\u001b[39m\u001b[38;5;124msolver\u001b[39m\u001b[38;5;124m'\u001b[39m, copy\u001b[38;5;241m.\u001b[39mdeepcopy(param_set), enforce_single_class\u001b[38;5;241m=\u001b[39m\u001b[38;5;28;01mTrue\u001b[39;00m, pass_through_kwargs\u001b[38;5;241m=\u001b[39m{\u001b[38;5;124m'\u001b[39m\u001b[38;5;124mmodel\u001b[39m\u001b[38;5;124m'\u001b[39m: model, \u001b[38;5;124m'\u001b[39m\u001b[38;5;124moptimizer\u001b[39m\u001b[38;5;124m'\u001b[39m: optimizer, \u001b[38;5;124m'\u001b[39m\u001b[38;5;124mscheduler\u001b[39m\u001b[38;5;124m'\u001b[39m: scheduler, \u001b[38;5;124m'\u001b[39m\u001b[38;5;124mcriterion\u001b[39m\u001b[38;5;124m'\u001b[39m: criterion, \u001b[38;5;124m'\u001b[39m\u001b[38;5;124moptuna_prune\u001b[39m\u001b[38;5;124m'\u001b[39m: prune})\n\u001b[1;32m---> 61\u001b[0m best_metric \u001b[38;5;241m=\u001b[39m solver\u001b[38;5;241m.\u001b[39mtrain_and_evaluate(trial, trial_metric\u001b[38;5;241m=\u001b[39mtrial_metric)\n\u001b[0;32m     62\u001b[0m \u001b[38;5;66;03m#if len(trial.study.trials_dataframe().dropna(subset=['value'])) > 0 and trial.study.best_trial.number == trial.number:\u001b[39;00m\n\u001b[0;32m     63\u001b[0m \u001b[38;5;66;03m#    torch.save(solver.best_model, Path(save_dir) / f'{solver.best_model.__class__.__name__}_best_model.pth')\u001b[39;00m\n\u001b[0;32m     64\u001b[0m \u001b[38;5;28;01mreturn\u001b[39;00m best_metric\n",
      "File \u001b[1;32mc:\\Users\\maxwe\\OneDrive\\Documents\\amadeus-ex-machina\\solver.py:142\u001b[0m, in \u001b[0;36mSolver.train_and_evaluate\u001b[1;34m(self, trial, trial_metric, plot_results)\u001b[0m\n\u001b[0;32m    140\u001b[0m loss \u001b[38;5;241m=\u001b[39m \u001b[38;5;28mself\u001b[39m\u001b[38;5;241m.\u001b[39mcriterion(outputs, labels)\n\u001b[0;32m    141\u001b[0m loss\u001b[38;5;241m.\u001b[39mbackward()\n\u001b[1;32m--> 142\u001b[0m \u001b[38;5;28mself\u001b[39m\u001b[38;5;241m.\u001b[39moptimizer\u001b[38;5;241m.\u001b[39mstep()\n\u001b[0;32m    144\u001b[0m \u001b[38;5;66;03m# Calculate batch statistics\u001b[39;00m\n\u001b[0;32m    145\u001b[0m _, predicted \u001b[38;5;241m=\u001b[39m torch\u001b[38;5;241m.\u001b[39mmax(outputs, \u001b[38;5;241m1\u001b[39m)\n",
      "File \u001b[1;32mc:\\Users\\maxwe\\anaconda3\\envs\\amadeus-ex-machina\\Lib\\site-packages\\torch\\optim\\lr_scheduler.py:69\u001b[0m, in \u001b[0;36mLRScheduler.__init__.<locals>.with_counter.<locals>.wrapper\u001b[1;34m(*args, **kwargs)\u001b[0m\n\u001b[0;32m     67\u001b[0m instance\u001b[38;5;241m.\u001b[39m_step_count \u001b[38;5;241m+\u001b[39m\u001b[38;5;241m=\u001b[39m \u001b[38;5;241m1\u001b[39m\n\u001b[0;32m     68\u001b[0m wrapped \u001b[38;5;241m=\u001b[39m func\u001b[38;5;241m.\u001b[39m\u001b[38;5;21m__get__\u001b[39m(instance, \u001b[38;5;28mcls\u001b[39m)\n\u001b[1;32m---> 69\u001b[0m \u001b[38;5;28;01mreturn\u001b[39;00m wrapped(\u001b[38;5;241m*\u001b[39margs, \u001b[38;5;241m*\u001b[39m\u001b[38;5;241m*\u001b[39mkwargs)\n",
      "File \u001b[1;32mc:\\Users\\maxwe\\anaconda3\\envs\\amadeus-ex-machina\\Lib\\site-packages\\torch\\optim\\optimizer.py:280\u001b[0m, in \u001b[0;36mOptimizer.profile_hook_step.<locals>.wrapper\u001b[1;34m(*args, **kwargs)\u001b[0m\n\u001b[0;32m    276\u001b[0m         \u001b[38;5;28;01melse\u001b[39;00m:\n\u001b[0;32m    277\u001b[0m             \u001b[38;5;28;01mraise\u001b[39;00m \u001b[38;5;167;01mRuntimeError\u001b[39;00m(\u001b[38;5;124mf\u001b[39m\u001b[38;5;124m\"\u001b[39m\u001b[38;5;132;01m{\u001b[39;00mfunc\u001b[38;5;132;01m}\u001b[39;00m\u001b[38;5;124m must return None or a tuple of (new_args, new_kwargs),\u001b[39m\u001b[38;5;124m\"\u001b[39m\n\u001b[0;32m    278\u001b[0m                                \u001b[38;5;124mf\u001b[39m\u001b[38;5;124m\"\u001b[39m\u001b[38;5;124mbut got \u001b[39m\u001b[38;5;132;01m{\u001b[39;00mresult\u001b[38;5;132;01m}\u001b[39;00m\u001b[38;5;124m.\u001b[39m\u001b[38;5;124m\"\u001b[39m)\n\u001b[1;32m--> 280\u001b[0m out \u001b[38;5;241m=\u001b[39m func(\u001b[38;5;241m*\u001b[39margs, \u001b[38;5;241m*\u001b[39m\u001b[38;5;241m*\u001b[39mkwargs)\n\u001b[0;32m    281\u001b[0m \u001b[38;5;28mself\u001b[39m\u001b[38;5;241m.\u001b[39m_optimizer_step_code()\n\u001b[0;32m    283\u001b[0m \u001b[38;5;66;03m# call optimizer step post hooks\u001b[39;00m\n",
      "File \u001b[1;32mc:\\Users\\maxwe\\anaconda3\\envs\\amadeus-ex-machina\\Lib\\site-packages\\torch\\optim\\optimizer.py:33\u001b[0m, in \u001b[0;36m_use_grad_for_differentiable.<locals>._use_grad\u001b[1;34m(self, *args, **kwargs)\u001b[0m\n\u001b[0;32m     31\u001b[0m \u001b[38;5;28;01mtry\u001b[39;00m:\n\u001b[0;32m     32\u001b[0m     torch\u001b[38;5;241m.\u001b[39mset_grad_enabled(\u001b[38;5;28mself\u001b[39m\u001b[38;5;241m.\u001b[39mdefaults[\u001b[38;5;124m'\u001b[39m\u001b[38;5;124mdifferentiable\u001b[39m\u001b[38;5;124m'\u001b[39m])\n\u001b[1;32m---> 33\u001b[0m     ret \u001b[38;5;241m=\u001b[39m func(\u001b[38;5;28mself\u001b[39m, \u001b[38;5;241m*\u001b[39margs, \u001b[38;5;241m*\u001b[39m\u001b[38;5;241m*\u001b[39mkwargs)\n\u001b[0;32m     34\u001b[0m \u001b[38;5;28;01mfinally\u001b[39;00m:\n\u001b[0;32m     35\u001b[0m     torch\u001b[38;5;241m.\u001b[39mset_grad_enabled(prev_grad)\n",
      "File \u001b[1;32mc:\\Users\\maxwe\\anaconda3\\envs\\amadeus-ex-machina\\Lib\\site-packages\\torch\\optim\\sgd.py:76\u001b[0m, in \u001b[0;36mSGD.step\u001b[1;34m(self, closure)\u001b[0m\n\u001b[0;32m     72\u001b[0m momentum_buffer_list \u001b[38;5;241m=\u001b[39m []\n\u001b[0;32m     74\u001b[0m has_sparse_grad \u001b[38;5;241m=\u001b[39m \u001b[38;5;28mself\u001b[39m\u001b[38;5;241m.\u001b[39m_init_group(group, params_with_grad, d_p_list, momentum_buffer_list)\n\u001b[1;32m---> 76\u001b[0m sgd(params_with_grad,\n\u001b[0;32m     77\u001b[0m     d_p_list,\n\u001b[0;32m     78\u001b[0m     momentum_buffer_list,\n\u001b[0;32m     79\u001b[0m     weight_decay\u001b[38;5;241m=\u001b[39mgroup[\u001b[38;5;124m'\u001b[39m\u001b[38;5;124mweight_decay\u001b[39m\u001b[38;5;124m'\u001b[39m],\n\u001b[0;32m     80\u001b[0m     momentum\u001b[38;5;241m=\u001b[39mgroup[\u001b[38;5;124m'\u001b[39m\u001b[38;5;124mmomentum\u001b[39m\u001b[38;5;124m'\u001b[39m],\n\u001b[0;32m     81\u001b[0m     lr\u001b[38;5;241m=\u001b[39mgroup[\u001b[38;5;124m'\u001b[39m\u001b[38;5;124mlr\u001b[39m\u001b[38;5;124m'\u001b[39m],\n\u001b[0;32m     82\u001b[0m     dampening\u001b[38;5;241m=\u001b[39mgroup[\u001b[38;5;124m'\u001b[39m\u001b[38;5;124mdampening\u001b[39m\u001b[38;5;124m'\u001b[39m],\n\u001b[0;32m     83\u001b[0m     nesterov\u001b[38;5;241m=\u001b[39mgroup[\u001b[38;5;124m'\u001b[39m\u001b[38;5;124mnesterov\u001b[39m\u001b[38;5;124m'\u001b[39m],\n\u001b[0;32m     84\u001b[0m     maximize\u001b[38;5;241m=\u001b[39mgroup[\u001b[38;5;124m'\u001b[39m\u001b[38;5;124mmaximize\u001b[39m\u001b[38;5;124m'\u001b[39m],\n\u001b[0;32m     85\u001b[0m     has_sparse_grad\u001b[38;5;241m=\u001b[39mhas_sparse_grad,\n\u001b[0;32m     86\u001b[0m     foreach\u001b[38;5;241m=\u001b[39mgroup[\u001b[38;5;124m'\u001b[39m\u001b[38;5;124mforeach\u001b[39m\u001b[38;5;124m'\u001b[39m])\n\u001b[0;32m     88\u001b[0m \u001b[38;5;66;03m# update momentum_buffers in state\u001b[39;00m\n\u001b[0;32m     89\u001b[0m \u001b[38;5;28;01mfor\u001b[39;00m p, momentum_buffer \u001b[38;5;129;01min\u001b[39;00m \u001b[38;5;28mzip\u001b[39m(params_with_grad, momentum_buffer_list):\n",
      "File \u001b[1;32mc:\\Users\\maxwe\\anaconda3\\envs\\amadeus-ex-machina\\Lib\\site-packages\\torch\\optim\\sgd.py:222\u001b[0m, in \u001b[0;36msgd\u001b[1;34m(params, d_p_list, momentum_buffer_list, has_sparse_grad, foreach, weight_decay, momentum, lr, dampening, nesterov, maximize)\u001b[0m\n\u001b[0;32m    219\u001b[0m \u001b[38;5;28;01melse\u001b[39;00m:\n\u001b[0;32m    220\u001b[0m     func \u001b[38;5;241m=\u001b[39m _single_tensor_sgd\n\u001b[1;32m--> 222\u001b[0m func(params,\n\u001b[0;32m    223\u001b[0m      d_p_list,\n\u001b[0;32m    224\u001b[0m      momentum_buffer_list,\n\u001b[0;32m    225\u001b[0m      weight_decay\u001b[38;5;241m=\u001b[39mweight_decay,\n\u001b[0;32m    226\u001b[0m      momentum\u001b[38;5;241m=\u001b[39mmomentum,\n\u001b[0;32m    227\u001b[0m      lr\u001b[38;5;241m=\u001b[39mlr,\n\u001b[0;32m    228\u001b[0m      dampening\u001b[38;5;241m=\u001b[39mdampening,\n\u001b[0;32m    229\u001b[0m      nesterov\u001b[38;5;241m=\u001b[39mnesterov,\n\u001b[0;32m    230\u001b[0m      has_sparse_grad\u001b[38;5;241m=\u001b[39mhas_sparse_grad,\n\u001b[0;32m    231\u001b[0m      maximize\u001b[38;5;241m=\u001b[39mmaximize)\n",
      "File \u001b[1;32mc:\\Users\\maxwe\\anaconda3\\envs\\amadeus-ex-machina\\Lib\\site-packages\\torch\\optim\\sgd.py:305\u001b[0m, in \u001b[0;36m_multi_tensor_sgd\u001b[1;34m(params, grads, momentum_buffer_list, weight_decay, momentum, lr, dampening, nesterov, maximize, has_sparse_grad)\u001b[0m\n\u001b[0;32m    302\u001b[0m         bufs\u001b[38;5;241m.\u001b[39mappend(device_momentum_buffer_list[i])\n\u001b[0;32m    304\u001b[0m \u001b[38;5;28;01mif\u001b[39;00m all_states_with_momentum_buffer:\n\u001b[1;32m--> 305\u001b[0m     torch\u001b[38;5;241m.\u001b[39m_foreach_mul_(bufs, momentum)\n\u001b[0;32m    306\u001b[0m     torch\u001b[38;5;241m.\u001b[39m_foreach_add_(bufs, device_grads, alpha\u001b[38;5;241m=\u001b[39m\u001b[38;5;241m1\u001b[39m \u001b[38;5;241m-\u001b[39m dampening)\n\u001b[0;32m    307\u001b[0m \u001b[38;5;28;01melse\u001b[39;00m:\n",
      "\u001b[1;31mKeyboardInterrupt\u001b[0m: "
     ]
    }
   ],
   "source": [
    "my_study = \"chroma_transformer\"\n",
    "\n",
    "output_folder = Path(\"griddy\")\n",
    "\n",
    "solver_reference = hit_griddy(my_study, param_set=PARAM_SET, out_dir=output_folder, n_trials=30, n_jobs=1, prune=False, resume=False, trial_metric=TrialMetric.ACCURACY)\n",
    "# NOTE: modest values of n_trials and n_jobs set here for testing, set your values accordingly"
   ]
  },
  {
   "cell_type": "markdown",
   "metadata": {},
   "source": [
    "### Inference"
   ]
  },
  {
   "cell_type": "code",
   "execution_count": 10,
   "metadata": {},
   "outputs": [
    {
     "name": "stdout",
     "output_type": "stream",
     "text": [
      "Chord annotations saved to output_annotations.lab\n"
     ]
    }
   ],
   "source": [
    "from utils.model_utils import run_sequential_chroma_inference\n",
    "\n",
    "scaler = data_processor.scaler\n",
    "label_encoder = data_processor.label_encoder\n",
    "chroma_path = \"C:/Users/maxwe/OneDrive/Documents/amadeus-ex-machina/data/raw/McGill-Billboard/1300/bothchroma.csv\"\n",
    "\n",
    "# Run inference using the trained model\n",
    "run_sequential_chroma_inference(\n",
    "    chroma_path,\n",
    "    model,\n",
    "    scaler,\n",
    "    label_encoder,\n",
    ")"
   ]
  },
  {
   "cell_type": "markdown",
   "metadata": {},
   "source": [
    "### Model Evauluation"
   ]
  },
  {
   "cell_type": "code",
   "execution_count": 50,
   "metadata": {},
   "outputs": [],
   "source": [
    "from utils.chord_eval import compute_chord_annotation_scores"
   ]
  },
  {
   "cell_type": "code",
   "execution_count": 51,
   "metadata": {},
   "outputs": [
    {
     "data": {
      "text/plain": [
       "OrderedDict([('thirds', 0.9875517258565112),\n",
       "             ('thirds_inv', 0.9875517258565112),\n",
       "             ('triads', 0.9873814746828633),\n",
       "             ('triads_inv', 0.9873814746828633),\n",
       "             ('tetrads', 0.9788213117175592),\n",
       "             ('tetrads_inv', 0.9788213117175592),\n",
       "             ('root', 0.9885739667396645),\n",
       "             ('mirex', 0.988590173624018),\n",
       "             ('majmin', 0.9876694342092982),\n",
       "             ('majmin_inv', 0.9876694342092982),\n",
       "             ('sevenths', 0.9788331955378964),\n",
       "             ('sevenths_inv', 0.9788331955378964),\n",
       "             ('underseg', 0.985125008190127),\n",
       "             ('overseg', 0.8531929963671957),\n",
       "             ('seg', 0.8531929963671957)])"
      ]
     },
     "execution_count": 51,
     "metadata": {},
     "output_type": "execute_result"
    }
   ],
   "source": [
    "ref_lab_fpath = \"C:/Users/maxwe/OneDrive/Documents/amadeus-ex-machina/data/raw/McGill-Billboard/1300/full.lab\"\n",
    "est_lab_fpath = \"C:/Users/maxwe/OneDrive/Documents/amadeus-ex-machina/notebooks/chroma_transformer/output_annotations.lab\"\n",
    "\n",
    "scores = compute_chord_annotation_scores(ref_lab_fpath, est_lab_fpath)\n",
    "scores"
   ]
  },
  {
   "cell_type": "code",
   "execution_count": null,
   "metadata": {},
   "outputs": [],
   "source": []
  }
 ],
 "metadata": {
  "kernelspec": {
   "display_name": "amadeus-ex-machina",
   "language": "python",
   "name": "python3"
  },
  "language_info": {
   "codemirror_mode": {
    "name": "ipython",
    "version": 3
   },
   "file_extension": ".py",
   "mimetype": "text/x-python",
   "name": "python",
   "nbconvert_exporter": "python",
   "pygments_lexer": "ipython3",
   "version": "3.11.0"
  }
 },
 "nbformat": 4,
 "nbformat_minor": 4
}
