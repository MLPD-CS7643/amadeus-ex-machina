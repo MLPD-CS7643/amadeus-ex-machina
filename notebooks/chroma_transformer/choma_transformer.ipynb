{
 "cells": [
  {
   "cell_type": "code",
   "execution_count": null,
   "metadata": {},
   "outputs": [],
   "source": [
    "%load_ext autoreload\n",
    "%autoreload 2\n",
    "\n",
    "# System imports\n",
    "import sys\n",
    "import os\n",
    "\n",
    "# Add the parent directory of 'notebooks' to sys.path\n",
    "parent_dir = os.path.abspath(os.path.join(os.getcwd(), \"../..\"))  # Move one level up\n",
    "if parent_dir not in sys.path:\n",
    "    sys.path.append(parent_dir)"
   ]
  },
  {
   "cell_type": "code",
   "execution_count": null,
   "metadata": {},
   "outputs": [],
   "source": [
    "import torch\n",
    "from pathlib import Path\n",
    "from solver import Solver\n",
    "from griddy.griddy_tuna import hit_griddy, SearchMethod\n",
    "from models.CRNN import CRNNModel\n",
    "from models.ChromaTransformer import ChromaTransformerModel\n",
    "from data.data_loader import MirDataProcessor\n",
    "from utils.model_utils import get_device"
   ]
  },
  {
   "cell_type": "code",
   "execution_count": null,
   "metadata": {},
   "outputs": [],
   "source": [
    "device = get_device()\n",
    "print(f\"Device is {device}\")"
   ]
  },
  {
   "cell_type": "code",
   "execution_count": null,
   "metadata": {},
   "outputs": [],
   "source": [
    "# If you have already ran the downloader, change the value of download to False\n",
    "download = False\n",
    "\n",
    "# Download and build useable train/test data out of the MIR Billboard dataset\n",
    "data_processer = MirDataProcessor(download=download, batch_size=64)\n",
    "if download:\n",
    "    data_processer.process_billboard_data()\n",
    "\n",
    "# Create data loeaders for train and test set\n",
    "train_loader, test_loader, num_classes = data_processer.build_data_loaders(device=device, nrows=2000) # nrows set to shrink dataset for testing\n",
    "\n",
    "print(f\"Number of classes: {num_classes}\")"
   ]
  },
  {
   "cell_type": "code",
   "execution_count": null,
   "metadata": {},
   "outputs": [],
   "source": [
    "# NOTE: Do not assume these values are anything but trash, they're just here for testing\n",
    "\n",
    "SOLVER_PARAMS = {\n",
    "    Solver : {\n",
    "        \"device\": device,\n",
    "        \"batch_size\": 64,\n",
    "        \"epochs\": 2,\n",
    "        \"early_stop_epochs\": 0, # early stop after n epochs without improvement, 0 to disable\n",
    "        \"warmup_epochs\": 0, # 0 to disable\n",
    "        \"dtype\": \"float16\",\n",
    "        \"train_dataloader\": train_loader, # must be DataLoader object\n",
    "        \"valid_dataloader\": test_loader, # must be DataLoader object\n",
    "        \"direction\": \"minimize\" # must specify this, even if not used by solver\n",
    "    }\n",
    "}\n",
    "\n",
    "MODEL_PARAMS = {\n",
    "    ChromaTransformerModel: {\n",
    "        \"input_dim\": [12],\n",
    "        \"seq_length\": [100],\n",
    "        \"num_classes\": [num_classes],\n",
    "    }\n",
    "}\n",
    "\n",
    "OPTIM_PARAMS = {\n",
    "    torch.optim.SGD : {\n",
    "        \"lr\": [0.001, 0.1, SearchMethod.LOG_UNIFORM],\n",
    "        \"momentum\": [0.9, 0.99, SearchMethod.UNIFORM],\n",
    "        \"weight_decay\": [0.00001],\n",
    "    },\n",
    "    torch.optim.Adam : {\n",
    "        \"lr\": [0.03, 0.02, 0.01, 0.1], # this will auto-search as CATEGORICAL\n",
    "    }\n",
    "}\n",
    "\n",
    "SCHED_PARAMS = {\n",
    "    torch.optim.lr_scheduler.CosineAnnealingWarmRestarts : {\n",
    "        \"T_0\": [10],\n",
    "    },\n",
    "    torch.optim.lr_scheduler.StepLR : {\n",
    "        \"step_size\": [5, 10, 15],\n",
    "        \"gamma\" : [0.1, 0.05],\n",
    "    }\n",
    "}\n",
    "\n",
    "CRITERION_PARAMS = {\n",
    "    torch.nn.CrossEntropyLoss : {}\n",
    "}\n",
    "\n",
    "PARAM_SET = {\n",
    "    \"solver\": SOLVER_PARAMS,\n",
    "    \"model\" : MODEL_PARAMS,\n",
    "    \"optim\" : OPTIM_PARAMS,\n",
    "    \"sched\" : SCHED_PARAMS,\n",
    "    \"criterion\" : CRITERION_PARAMS,\n",
    "}"
   ]
  },
  {
   "cell_type": "code",
   "execution_count": null,
   "metadata": {},
   "outputs": [],
   "source": [
    "my_study = \"chroma_transformer\"\n",
    "\n",
    "output_folder = Path(f\"notebooks/{my_study}/griddy/\")\n",
    "\n",
    "solver_reference = hit_griddy(my_study, param_set=PARAM_SET, out_dir=output_folder, n_trials=20, n_jobs=2, prune=False, resume=False)\n",
    "# NOTE: modest values of n_trials and n_jobs set here for testing, set your values accordingly"
   ]
  }
 ],
 "metadata": {
  "kernelspec": {
   "display_name": "amadeus-ex-machina",
   "language": "python",
   "name": "python3"
  },
  "language_info": {
   "codemirror_mode": {
    "name": "ipython",
    "version": 3
   },
   "file_extension": ".py",
   "mimetype": "text/x-python",
   "name": "python",
   "nbconvert_exporter": "python",
   "pygments_lexer": "ipython3",
   "version": "3.11.0"
  }
 },
 "nbformat": 4,
 "nbformat_minor": 2
}
