{
 "cells": [
  {
   "cell_type": "code",
   "execution_count": null,
   "metadata": {},
   "outputs": [
    {
     "name": "stdout",
     "output_type": "stream",
     "text": [
      "Device is cuda\n"
     ]
    }
   ],
   "source": [
    "\n",
    "\n",
    "# System imports\n",
    "import sys\n",
    "import os\n",
    "\n",
    "# Add the parent directory of 'notebooks' to sys.path\n",
    "parent_dir = os.path.abspath(os.path.join(os.getcwd(), \"..\"))  # Move one level up\n",
    "if parent_dir not in sys.path:\n",
    "    sys.path.append(parent_dir)\n",
    "\n",
    "# Class/model imports\n",
    "from data.data_loader import MirDataProcessor\n",
    "from utils.model_utils import get_device\n",
    "from solver import Solver\n",
    "\n",
    "# Package imports\n",
    "import torch\n",
    "import torch.optim as optim\n",
    "import torch.nn as nn\n",
    "\n",
    "# Select device\n",
    "device = get_device()\n",
    "print(f\"Device is {device}\")"
   ]
  },
  {
   "cell_type": "code",
   "execution_count": 25,
   "metadata": {},
   "outputs": [
    {
     "name": "stderr",
     "output_type": "stream",
     "text": [
      "WARNING: Zip and tar files will be deleted after they are uncompressed. If you download this dataset again, it will overwrite existing files, even if force_overwrite=False\n",
      "INFO: Downloading ['annotations', 'audio_hex_debleeded', 'audio_hex_original', 'audio_mic', 'audio_mix', 'index']. Index is being stored in C:\\Users\\mattb\\miniconda3\\envs\\amadeus-ex-machina\\Lib\\site-packages\\mirdata\\datasets\\indexes, and the rest of files in c:\\Users\\mattb\\Documents\\CS7643\\Final Project\\amadeus-ex-machina\\data\\raw\n",
      "INFO: [annotations] downloading annotation.zip\n",
      "37.3MB [00:02, 14.5MB/s]                              \n",
      "INFO: [audio_hex_debleeded] downloading audio_hex-pickup_debleeded.zip\n",
      "3.36GB [02:29, 24.1MB/s]                               \n",
      "INFO: [audio_hex_original] downloading audio_hex-pickup_original.zip\n",
      "2.99GB [01:57, 27.2MB/s]                               \n",
      "INFO: [audio_mic] downloading audio_mono-mic.zip\n",
      "626MB [00:25, 25.8MB/s]                               \n",
      "INFO: [audio_mix] downloading audio_mono-pickup_mix.zip\n",
      "652MB [00:33, 20.4MB/s]                               \n",
      "INFO: [index] downloading guitarset_index_1.1.0.json\n",
      "248kB [00:00, 372kB/s]                             \n"
     ]
    }
   ],
   "source": [
    "# Download and build useable train/test data out of the MIR Billboard dataset\n",
    "data_processer = MirDataProcessor(download=True, batch_size=64, dataset_name=\"guitarset\")\n"
   ]
  },
  {
   "cell_type": "code",
   "execution_count": null,
   "metadata": {},
   "outputs": [
    {
     "name": "stdout",
     "output_type": "stream",
     "text": [
      "The autoreload extension is already loaded. To reload it, use:\n",
      "  %reload_ext autoreload\n",
      "Found 360 tracks in the dataset.\n",
      "Processing dataset as sequential data\n",
      "Processed track 00_BN1-129-Eb_comp and appended data to combined CSV.\n",
      "Processing dataset as sequential data\n",
      "Processed track 00_BN1-129-Eb_solo and appended data to combined CSV.\n",
      "Processing dataset as sequential data\n",
      "Processed track 00_BN1-147-Gb_comp and appended data to combined CSV.\n",
      "Processing dataset as sequential data\n",
      "Processed track 00_BN1-147-Gb_solo and appended data to combined CSV.\n",
      "Processing dataset as sequential data\n",
      "Processed track 00_BN2-131-B_comp and appended data to combined CSV.\n",
      "Processing dataset as sequential data\n",
      "Processed track 00_BN2-131-B_solo and appended data to combined CSV.\n",
      "Processing dataset as sequential data\n",
      "Processed track 00_BN2-166-Ab_comp and appended data to combined CSV.\n",
      "Processing dataset as sequential data\n",
      "Processed track 00_BN2-166-Ab_solo and appended data to combined CSV.\n",
      "Processing dataset as sequential data\n",
      "Processed track 00_BN3-119-G_comp and appended data to combined CSV.\n",
      "Processing dataset as sequential data\n",
      "Processed track 00_BN3-119-G_solo and appended data to combined CSV.\n",
      "Processing dataset as sequential data\n",
      "Processed track 00_BN3-154-E_comp and appended data to combined CSV.\n",
      "Processing dataset as sequential data\n",
      "Processed track 00_BN3-154-E_solo and appended data to combined CSV.\n",
      "Processing dataset as sequential data\n",
      "Processed track 00_Funk1-114-Ab_comp and appended data to combined CSV.\n",
      "Processing dataset as sequential data\n",
      "Processed track 00_Funk1-114-Ab_solo and appended data to combined CSV.\n",
      "Processing dataset as sequential data\n",
      "Processed track 00_Funk1-97-C_comp and appended data to combined CSV.\n",
      "Processing dataset as sequential data\n",
      "Processed track 00_Funk1-97-C_solo and appended data to combined CSV.\n",
      "Processing dataset as sequential data\n",
      "Processed track 00_Funk2-108-Eb_comp and appended data to combined CSV.\n",
      "Processing dataset as sequential data\n",
      "Processed track 00_Funk2-108-Eb_solo and appended data to combined CSV.\n",
      "Processing dataset as sequential data\n",
      "Processed track 00_Funk2-119-G_comp and appended data to combined CSV.\n",
      "Processing dataset as sequential data\n",
      "Processed track 00_Funk2-119-G_solo and appended data to combined CSV.\n",
      "Processing dataset as sequential data\n",
      "Processed track 00_Funk3-112-C#_comp and appended data to combined CSV.\n",
      "Processing dataset as sequential data\n",
      "Processed track 00_Funk3-112-C#_solo and appended data to combined CSV.\n",
      "Processing dataset as sequential data\n",
      "Processed track 00_Funk3-98-A_comp and appended data to combined CSV.\n",
      "Processing dataset as sequential data\n",
      "Processed track 00_Funk3-98-A_solo and appended data to combined CSV.\n",
      "Processing dataset as sequential data\n",
      "Processed track 00_Jazz1-130-D_comp and appended data to combined CSV.\n",
      "Processing dataset as sequential data\n",
      "Processed track 00_Jazz1-130-D_solo and appended data to combined CSV.\n",
      "Processing dataset as sequential data\n",
      "Processed track 00_Jazz1-200-B_comp and appended data to combined CSV.\n",
      "Processing dataset as sequential data\n",
      "Processed track 00_Jazz1-200-B_solo and appended data to combined CSV.\n",
      "Processing dataset as sequential data\n",
      "Processed track 00_Jazz2-110-Bb_comp and appended data to combined CSV.\n",
      "Processing dataset as sequential data\n",
      "Processed track 00_Jazz2-110-Bb_solo and appended data to combined CSV.\n",
      "Processing dataset as sequential data\n",
      "Processed track 00_Jazz2-187-F#_comp and appended data to combined CSV.\n",
      "Processing dataset as sequential data\n",
      "Processed track 00_Jazz2-187-F#_solo and appended data to combined CSV.\n",
      "Processing dataset as sequential data\n",
      "Processed track 00_Jazz3-137-Eb_comp and appended data to combined CSV.\n",
      "Processing dataset as sequential data\n",
      "Processed track 00_Jazz3-137-Eb_solo and appended data to combined CSV.\n",
      "Processing dataset as sequential data\n",
      "Processed track 00_Jazz3-150-C_comp and appended data to combined CSV.\n",
      "Processing dataset as sequential data\n",
      "Processed track 00_Jazz3-150-C_solo and appended data to combined CSV.\n",
      "Processing dataset as sequential data\n",
      "Processed track 00_Rock1-130-A_comp and appended data to combined CSV.\n",
      "Processing dataset as sequential data\n",
      "Processed track 00_Rock1-130-A_solo and appended data to combined CSV.\n",
      "Processing dataset as sequential data\n",
      "Processed track 00_Rock1-90-C#_comp and appended data to combined CSV.\n",
      "Processing dataset as sequential data\n",
      "Processed track 00_Rock1-90-C#_solo and appended data to combined CSV.\n",
      "Processing dataset as sequential data\n",
      "Processed track 00_Rock2-142-D_comp and appended data to combined CSV.\n",
      "Processing dataset as sequential data\n",
      "Processed track 00_Rock2-142-D_solo and appended data to combined CSV.\n",
      "Processing dataset as sequential data\n",
      "Processed track 00_Rock2-85-F_comp and appended data to combined CSV.\n",
      "Processing dataset as sequential data\n",
      "Processed track 00_Rock2-85-F_solo and appended data to combined CSV.\n",
      "Processing dataset as sequential data\n",
      "Processed track 00_Rock3-117-Bb_comp and appended data to combined CSV.\n",
      "Processing dataset as sequential data\n",
      "Processed track 00_Rock3-117-Bb_solo and appended data to combined CSV.\n",
      "Processing dataset as sequential data\n",
      "Processed track 00_Rock3-148-C_comp and appended data to combined CSV.\n",
      "Processing dataset as sequential data\n",
      "Processed track 00_Rock3-148-C_solo and appended data to combined CSV.\n",
      "Processing dataset as sequential data\n",
      "Processed track 00_SS1-100-C#_comp and appended data to combined CSV.\n",
      "Processing dataset as sequential data\n",
      "Processed track 00_SS1-100-C#_solo and appended data to combined CSV.\n",
      "Processing dataset as sequential data\n",
      "Processed track 00_SS1-68-E_comp and appended data to combined CSV.\n",
      "Processing dataset as sequential data\n",
      "Processed track 00_SS1-68-E_solo and appended data to combined CSV.\n",
      "Processing dataset as sequential data\n",
      "Processed track 00_SS2-107-Ab_comp and appended data to combined CSV.\n",
      "Processing dataset as sequential data\n",
      "Processed track 00_SS2-107-Ab_solo and appended data to combined CSV.\n",
      "Processing dataset as sequential data\n",
      "Processed track 00_SS2-88-F_comp and appended data to combined CSV.\n",
      "Processing dataset as sequential data\n",
      "Processed track 00_SS2-88-F_solo and appended data to combined CSV.\n",
      "Processing dataset as sequential data\n",
      "Processed track 00_SS3-84-Bb_comp and appended data to combined CSV.\n",
      "Processing dataset as sequential data\n",
      "Processed track 00_SS3-84-Bb_solo and appended data to combined CSV.\n",
      "Processing dataset as sequential data\n",
      "Processed track 00_SS3-98-C_comp and appended data to combined CSV.\n",
      "Processing dataset as sequential data\n",
      "Processed track 00_SS3-98-C_solo and appended data to combined CSV.\n",
      "Processing dataset as sequential data\n",
      "Processed track 01_BN1-129-Eb_comp and appended data to combined CSV.\n",
      "Processing dataset as sequential data\n",
      "Processed track 01_BN1-129-Eb_solo and appended data to combined CSV.\n",
      "Processing dataset as sequential data\n",
      "Processed track 01_BN1-147-Gb_comp and appended data to combined CSV.\n",
      "Processing dataset as sequential data\n",
      "Processed track 01_BN1-147-Gb_solo and appended data to combined CSV.\n",
      "Processing dataset as sequential data\n",
      "Processed track 01_BN2-131-B_comp and appended data to combined CSV.\n",
      "Processing dataset as sequential data\n",
      "Processed track 01_BN2-131-B_solo and appended data to combined CSV.\n",
      "Processing dataset as sequential data\n",
      "Processed track 01_BN2-166-Ab_comp and appended data to combined CSV.\n",
      "Processing dataset as sequential data\n",
      "Processed track 01_BN2-166-Ab_solo and appended data to combined CSV.\n",
      "Processing dataset as sequential data\n",
      "Processed track 01_BN3-119-G_comp and appended data to combined CSV.\n",
      "Processing dataset as sequential data\n",
      "Processed track 01_BN3-119-G_solo and appended data to combined CSV.\n",
      "Processing dataset as sequential data\n",
      "Processed track 01_BN3-154-E_comp and appended data to combined CSV.\n",
      "Processing dataset as sequential data\n",
      "Processed track 01_BN3-154-E_solo and appended data to combined CSV.\n",
      "Processing dataset as sequential data\n",
      "Processed track 01_Funk1-114-Ab_comp and appended data to combined CSV.\n",
      "Processing dataset as sequential data\n",
      "Processed track 01_Funk1-114-Ab_solo and appended data to combined CSV.\n",
      "Processing dataset as sequential data\n",
      "Processed track 01_Funk1-97-C_comp and appended data to combined CSV.\n",
      "Processing dataset as sequential data\n",
      "Processed track 01_Funk1-97-C_solo and appended data to combined CSV.\n",
      "Processing dataset as sequential data\n",
      "Processed track 01_Funk2-108-Eb_comp and appended data to combined CSV.\n",
      "Processing dataset as sequential data\n",
      "Processed track 01_Funk2-108-Eb_solo and appended data to combined CSV.\n",
      "Processing dataset as sequential data\n",
      "Processed track 01_Funk2-119-G_comp and appended data to combined CSV.\n",
      "Processing dataset as sequential data\n",
      "Processed track 01_Funk2-119-G_solo and appended data to combined CSV.\n",
      "Processing dataset as sequential data\n",
      "Processed track 01_Funk3-112-C#_comp and appended data to combined CSV.\n",
      "Processing dataset as sequential data\n",
      "Processed track 01_Funk3-112-C#_solo and appended data to combined CSV.\n",
      "Processing dataset as sequential data\n",
      "Processed track 01_Funk3-98-A_comp and appended data to combined CSV.\n",
      "Processing dataset as sequential data\n",
      "Processed track 01_Funk3-98-A_solo and appended data to combined CSV.\n",
      "Processing dataset as sequential data\n",
      "Processed track 01_Jazz1-130-D_comp and appended data to combined CSV.\n",
      "Processing dataset as sequential data\n",
      "Processed track 01_Jazz1-130-D_solo and appended data to combined CSV.\n",
      "Processing dataset as sequential data\n",
      "Processed track 01_Jazz1-200-B_comp and appended data to combined CSV.\n",
      "Processing dataset as sequential data\n",
      "Processed track 01_Jazz1-200-B_solo and appended data to combined CSV.\n",
      "Processing dataset as sequential data\n",
      "Processed track 01_Jazz2-110-Bb_comp and appended data to combined CSV.\n",
      "Processing dataset as sequential data\n",
      "Processed track 01_Jazz2-110-Bb_solo and appended data to combined CSV.\n",
      "Processing dataset as sequential data\n",
      "Processed track 01_Jazz2-187-F#_comp and appended data to combined CSV.\n",
      "Processing dataset as sequential data\n",
      "Processed track 01_Jazz2-187-F#_solo and appended data to combined CSV.\n",
      "Processing dataset as sequential data\n",
      "Processed track 01_Jazz3-137-Eb_comp and appended data to combined CSV.\n",
      "Processing dataset as sequential data\n",
      "Processed track 01_Jazz3-137-Eb_solo and appended data to combined CSV.\n",
      "Processing dataset as sequential data\n",
      "Processed track 01_Jazz3-150-C_comp and appended data to combined CSV.\n",
      "Processing dataset as sequential data\n",
      "Processed track 01_Jazz3-150-C_solo and appended data to combined CSV.\n",
      "Processing dataset as sequential data\n",
      "Processed track 01_Rock1-130-A_comp and appended data to combined CSV.\n",
      "Processing dataset as sequential data\n",
      "Processed track 01_Rock1-130-A_solo and appended data to combined CSV.\n",
      "Processing dataset as sequential data\n",
      "Processed track 01_Rock1-90-C#_comp and appended data to combined CSV.\n",
      "Processing dataset as sequential data\n",
      "Processed track 01_Rock1-90-C#_solo and appended data to combined CSV.\n",
      "Processing dataset as sequential data\n",
      "Processed track 01_Rock2-142-D_comp and appended data to combined CSV.\n",
      "Processing dataset as sequential data\n",
      "Processed track 01_Rock2-142-D_solo and appended data to combined CSV.\n",
      "Processing dataset as sequential data\n",
      "Processed track 01_Rock2-85-F_comp and appended data to combined CSV.\n",
      "Processing dataset as sequential data\n",
      "Processed track 01_Rock2-85-F_solo and appended data to combined CSV.\n",
      "Processing dataset as sequential data\n",
      "Processed track 01_Rock3-117-Bb_comp and appended data to combined CSV.\n",
      "Processing dataset as sequential data\n",
      "Processed track 01_Rock3-117-Bb_solo and appended data to combined CSV.\n",
      "Processing dataset as sequential data\n",
      "Processed track 01_Rock3-148-C_comp and appended data to combined CSV.\n",
      "Processing dataset as sequential data\n",
      "Processed track 01_Rock3-148-C_solo and appended data to combined CSV.\n",
      "Processing dataset as sequential data\n",
      "Processed track 01_SS1-100-C#_comp and appended data to combined CSV.\n",
      "Processing dataset as sequential data\n",
      "Processed track 01_SS1-100-C#_solo and appended data to combined CSV.\n",
      "Processing dataset as sequential data\n",
      "Processed track 01_SS1-68-E_comp and appended data to combined CSV.\n",
      "Processing dataset as sequential data\n",
      "Processed track 01_SS1-68-E_solo and appended data to combined CSV.\n",
      "Processing dataset as sequential data\n",
      "Processed track 01_SS2-107-Ab_comp and appended data to combined CSV.\n",
      "Processing dataset as sequential data\n",
      "Processed track 01_SS2-107-Ab_solo and appended data to combined CSV.\n",
      "Processing dataset as sequential data\n",
      "Processed track 01_SS2-88-F_comp and appended data to combined CSV.\n",
      "Processing dataset as sequential data\n",
      "Processed track 01_SS2-88-F_solo and appended data to combined CSV.\n",
      "Processing dataset as sequential data\n",
      "Processed track 01_SS3-84-Bb_comp and appended data to combined CSV.\n",
      "Processing dataset as sequential data\n",
      "Processed track 01_SS3-84-Bb_solo and appended data to combined CSV.\n",
      "Processing dataset as sequential data\n",
      "Processed track 01_SS3-98-C_comp and appended data to combined CSV.\n",
      "Processing dataset as sequential data\n",
      "Processed track 01_SS3-98-C_solo and appended data to combined CSV.\n",
      "Processing dataset as sequential data\n",
      "Processed track 02_BN1-129-Eb_comp and appended data to combined CSV.\n",
      "Processing dataset as sequential data\n",
      "Processed track 02_BN1-129-Eb_solo and appended data to combined CSV.\n",
      "Processing dataset as sequential data\n",
      "Processed track 02_BN1-147-Gb_comp and appended data to combined CSV.\n",
      "Processing dataset as sequential data\n",
      "Processed track 02_BN1-147-Gb_solo and appended data to combined CSV.\n",
      "Processing dataset as sequential data\n",
      "Processed track 02_BN2-131-B_comp and appended data to combined CSV.\n",
      "Processing dataset as sequential data\n",
      "Processed track 02_BN2-131-B_solo and appended data to combined CSV.\n",
      "Processing dataset as sequential data\n",
      "Processed track 02_BN2-166-Ab_comp and appended data to combined CSV.\n",
      "Processing dataset as sequential data\n",
      "Processed track 02_BN2-166-Ab_solo and appended data to combined CSV.\n",
      "Processing dataset as sequential data\n",
      "Processed track 02_BN3-119-G_comp and appended data to combined CSV.\n",
      "Processing dataset as sequential data\n",
      "Processed track 02_BN3-119-G_solo and appended data to combined CSV.\n",
      "Processing dataset as sequential data\n",
      "Processed track 02_BN3-154-E_comp and appended data to combined CSV.\n",
      "Processing dataset as sequential data\n",
      "Processed track 02_BN3-154-E_solo and appended data to combined CSV.\n",
      "Processing dataset as sequential data\n",
      "Processed track 02_Funk1-114-Ab_comp and appended data to combined CSV.\n",
      "Processing dataset as sequential data\n",
      "Processed track 02_Funk1-114-Ab_solo and appended data to combined CSV.\n",
      "Processing dataset as sequential data\n",
      "Processed track 02_Funk1-97-C_comp and appended data to combined CSV.\n",
      "Processing dataset as sequential data\n",
      "Processed track 02_Funk1-97-C_solo and appended data to combined CSV.\n",
      "Processing dataset as sequential data\n",
      "Processed track 02_Funk2-108-Eb_comp and appended data to combined CSV.\n",
      "Processing dataset as sequential data\n",
      "Processed track 02_Funk2-108-Eb_solo and appended data to combined CSV.\n",
      "Processing dataset as sequential data\n",
      "Processed track 02_Funk2-119-G_comp and appended data to combined CSV.\n",
      "Processing dataset as sequential data\n",
      "Processed track 02_Funk2-119-G_solo and appended data to combined CSV.\n",
      "Processing dataset as sequential data\n",
      "Processed track 02_Funk3-112-C#_comp and appended data to combined CSV.\n",
      "Processing dataset as sequential data\n",
      "Processed track 02_Funk3-112-C#_solo and appended data to combined CSV.\n",
      "Processing dataset as sequential data\n",
      "Processed track 02_Funk3-98-A_comp and appended data to combined CSV.\n",
      "Processing dataset as sequential data\n",
      "Processed track 02_Funk3-98-A_solo and appended data to combined CSV.\n",
      "Processing dataset as sequential data\n",
      "Processed track 02_Jazz1-130-D_comp and appended data to combined CSV.\n",
      "Processing dataset as sequential data\n",
      "Processed track 02_Jazz1-130-D_solo and appended data to combined CSV.\n",
      "Processing dataset as sequential data\n",
      "Processed track 02_Jazz1-200-B_comp and appended data to combined CSV.\n",
      "Processing dataset as sequential data\n",
      "Processed track 02_Jazz1-200-B_solo and appended data to combined CSV.\n",
      "Processing dataset as sequential data\n",
      "Processed track 02_Jazz2-110-Bb_comp and appended data to combined CSV.\n",
      "Processing dataset as sequential data\n",
      "Processed track 02_Jazz2-110-Bb_solo and appended data to combined CSV.\n",
      "Processing dataset as sequential data\n",
      "Processed track 02_Jazz2-187-F#_comp and appended data to combined CSV.\n",
      "Processing dataset as sequential data\n",
      "Processed track 02_Jazz2-187-F#_solo and appended data to combined CSV.\n",
      "Processing dataset as sequential data\n",
      "Processed track 02_Jazz3-137-Eb_comp and appended data to combined CSV.\n",
      "Processing dataset as sequential data\n",
      "Processed track 02_Jazz3-137-Eb_solo and appended data to combined CSV.\n",
      "Processing dataset as sequential data\n",
      "Processed track 02_Jazz3-150-C_comp and appended data to combined CSV.\n",
      "Processing dataset as sequential data\n",
      "Processed track 02_Jazz3-150-C_solo and appended data to combined CSV.\n",
      "Processing dataset as sequential data\n",
      "Processed track 02_Rock1-130-A_comp and appended data to combined CSV.\n",
      "Processing dataset as sequential data\n",
      "Processed track 02_Rock1-130-A_solo and appended data to combined CSV.\n",
      "Processing dataset as sequential data\n",
      "Processed track 02_Rock1-90-C#_comp and appended data to combined CSV.\n",
      "Processing dataset as sequential data\n",
      "Processed track 02_Rock1-90-C#_solo and appended data to combined CSV.\n",
      "Processing dataset as sequential data\n",
      "Processed track 02_Rock2-142-D_comp and appended data to combined CSV.\n",
      "Processing dataset as sequential data\n",
      "Processed track 02_Rock2-142-D_solo and appended data to combined CSV.\n",
      "Processing dataset as sequential data\n",
      "Processed track 02_Rock2-85-F_comp and appended data to combined CSV.\n",
      "Processing dataset as sequential data\n",
      "Processed track 02_Rock2-85-F_solo and appended data to combined CSV.\n",
      "Processing dataset as sequential data\n",
      "Processed track 02_Rock3-117-Bb_comp and appended data to combined CSV.\n",
      "Processing dataset as sequential data\n",
      "Processed track 02_Rock3-117-Bb_solo and appended data to combined CSV.\n",
      "Processing dataset as sequential data\n",
      "Processed track 02_Rock3-148-C_comp and appended data to combined CSV.\n",
      "Processing dataset as sequential data\n",
      "Processed track 02_Rock3-148-C_solo and appended data to combined CSV.\n",
      "Processing dataset as sequential data\n",
      "Processed track 02_SS1-100-C#_comp and appended data to combined CSV.\n",
      "Processing dataset as sequential data\n",
      "Processed track 02_SS1-100-C#_solo and appended data to combined CSV.\n",
      "Processing dataset as sequential data\n",
      "Processed track 02_SS1-68-E_comp and appended data to combined CSV.\n",
      "Processing dataset as sequential data\n",
      "Processed track 02_SS1-68-E_solo and appended data to combined CSV.\n",
      "Processing dataset as sequential data\n",
      "Processed track 02_SS2-107-Ab_comp and appended data to combined CSV.\n",
      "Processing dataset as sequential data\n",
      "Processed track 02_SS2-107-Ab_solo and appended data to combined CSV.\n",
      "Processing dataset as sequential data\n",
      "Processed track 02_SS2-88-F_comp and appended data to combined CSV.\n",
      "Processing dataset as sequential data\n",
      "Processed track 02_SS2-88-F_solo and appended data to combined CSV.\n",
      "Processing dataset as sequential data\n",
      "Processed track 02_SS3-84-Bb_comp and appended data to combined CSV.\n",
      "Processing dataset as sequential data\n",
      "Processed track 02_SS3-84-Bb_solo and appended data to combined CSV.\n",
      "Processing dataset as sequential data\n",
      "Processed track 02_SS3-98-C_comp and appended data to combined CSV.\n",
      "Processing dataset as sequential data\n",
      "Processed track 02_SS3-98-C_solo and appended data to combined CSV.\n",
      "Processing dataset as sequential data\n",
      "Processed track 03_BN1-129-Eb_comp and appended data to combined CSV.\n",
      "Processing dataset as sequential data\n",
      "Processed track 03_BN1-129-Eb_solo and appended data to combined CSV.\n",
      "Processing dataset as sequential data\n",
      "Processed track 03_BN1-147-Gb_comp and appended data to combined CSV.\n",
      "Processing dataset as sequential data\n",
      "Processed track 03_BN1-147-Gb_solo and appended data to combined CSV.\n",
      "Processing dataset as sequential data\n",
      "Processed track 03_BN2-131-B_comp and appended data to combined CSV.\n",
      "Processing dataset as sequential data\n",
      "Processed track 03_BN2-131-B_solo and appended data to combined CSV.\n",
      "Processing dataset as sequential data\n",
      "Processed track 03_BN2-166-Ab_comp and appended data to combined CSV.\n",
      "Processing dataset as sequential data\n",
      "Processed track 03_BN2-166-Ab_solo and appended data to combined CSV.\n",
      "Processing dataset as sequential data\n",
      "Processed track 03_BN3-119-G_comp and appended data to combined CSV.\n",
      "Processing dataset as sequential data\n",
      "Processed track 03_BN3-119-G_solo and appended data to combined CSV.\n",
      "Processing dataset as sequential data\n",
      "Processed track 03_BN3-154-E_comp and appended data to combined CSV.\n",
      "Processing dataset as sequential data\n",
      "Processed track 03_BN3-154-E_solo and appended data to combined CSV.\n",
      "Processing dataset as sequential data\n",
      "Processed track 03_Funk1-114-Ab_comp and appended data to combined CSV.\n",
      "Processing dataset as sequential data\n",
      "Processed track 03_Funk1-114-Ab_solo and appended data to combined CSV.\n",
      "Processing dataset as sequential data\n",
      "Processed track 03_Funk1-97-C_comp and appended data to combined CSV.\n",
      "Processing dataset as sequential data\n",
      "Processed track 03_Funk1-97-C_solo and appended data to combined CSV.\n",
      "Processing dataset as sequential data\n",
      "Processed track 03_Funk2-108-Eb_comp and appended data to combined CSV.\n",
      "Processing dataset as sequential data\n",
      "Processed track 03_Funk2-108-Eb_solo and appended data to combined CSV.\n",
      "Processing dataset as sequential data\n",
      "Processed track 03_Funk2-119-G_comp and appended data to combined CSV.\n",
      "Processing dataset as sequential data\n",
      "Processed track 03_Funk2-119-G_solo and appended data to combined CSV.\n",
      "Processing dataset as sequential data\n",
      "Processed track 03_Funk3-112-C#_comp and appended data to combined CSV.\n",
      "Processing dataset as sequential data\n",
      "Processed track 03_Funk3-112-C#_solo and appended data to combined CSV.\n",
      "Processing dataset as sequential data\n",
      "Processed track 03_Funk3-98-A_comp and appended data to combined CSV.\n",
      "Processing dataset as sequential data\n",
      "Processed track 03_Funk3-98-A_solo and appended data to combined CSV.\n",
      "Processing dataset as sequential data\n",
      "Processed track 03_Jazz1-130-D_comp and appended data to combined CSV.\n",
      "Processing dataset as sequential data\n",
      "Processed track 03_Jazz1-130-D_solo and appended data to combined CSV.\n",
      "Processing dataset as sequential data\n",
      "Processed track 03_Jazz1-200-B_comp and appended data to combined CSV.\n",
      "Processing dataset as sequential data\n",
      "Processed track 03_Jazz1-200-B_solo and appended data to combined CSV.\n",
      "Processing dataset as sequential data\n",
      "Processed track 03_Jazz2-110-Bb_comp and appended data to combined CSV.\n",
      "Processing dataset as sequential data\n",
      "Processed track 03_Jazz2-110-Bb_solo and appended data to combined CSV.\n",
      "Processing dataset as sequential data\n",
      "Processed track 03_Jazz2-187-F#_comp and appended data to combined CSV.\n",
      "Processing dataset as sequential data\n",
      "Processed track 03_Jazz2-187-F#_solo and appended data to combined CSV.\n",
      "Processing dataset as sequential data\n",
      "Processed track 03_Jazz3-137-Eb_comp and appended data to combined CSV.\n",
      "Processing dataset as sequential data\n",
      "Processed track 03_Jazz3-137-Eb_solo and appended data to combined CSV.\n",
      "Processing dataset as sequential data\n",
      "Processed track 03_Jazz3-150-C_comp and appended data to combined CSV.\n",
      "Processing dataset as sequential data\n",
      "Processed track 03_Jazz3-150-C_solo and appended data to combined CSV.\n",
      "Processing dataset as sequential data\n",
      "Processed track 03_Rock1-130-A_comp and appended data to combined CSV.\n",
      "Processing dataset as sequential data\n",
      "Processed track 03_Rock1-130-A_solo and appended data to combined CSV.\n",
      "Processing dataset as sequential data\n",
      "Processed track 03_Rock1-90-C#_comp and appended data to combined CSV.\n",
      "Processing dataset as sequential data\n",
      "Processed track 03_Rock1-90-C#_solo and appended data to combined CSV.\n",
      "Processing dataset as sequential data\n",
      "Processed track 03_Rock2-142-D_comp and appended data to combined CSV.\n",
      "Processing dataset as sequential data\n",
      "Processed track 03_Rock2-142-D_solo and appended data to combined CSV.\n",
      "Processing dataset as sequential data\n",
      "Processed track 03_Rock2-85-F_comp and appended data to combined CSV.\n",
      "Processing dataset as sequential data\n",
      "Processed track 03_Rock2-85-F_solo and appended data to combined CSV.\n",
      "Processing dataset as sequential data\n",
      "Processed track 03_Rock3-117-Bb_comp and appended data to combined CSV.\n",
      "Processing dataset as sequential data\n",
      "Processed track 03_Rock3-117-Bb_solo and appended data to combined CSV.\n",
      "Processing dataset as sequential data\n",
      "Processed track 03_Rock3-148-C_comp and appended data to combined CSV.\n",
      "Processing dataset as sequential data\n",
      "Processed track 03_Rock3-148-C_solo and appended data to combined CSV.\n",
      "Processing dataset as sequential data\n",
      "Processed track 03_SS1-100-C#_comp and appended data to combined CSV.\n",
      "Processing dataset as sequential data\n",
      "Processed track 03_SS1-100-C#_solo and appended data to combined CSV.\n",
      "Processing dataset as sequential data\n",
      "Processed track 03_SS1-68-E_comp and appended data to combined CSV.\n",
      "Processing dataset as sequential data\n",
      "Processed track 03_SS1-68-E_solo and appended data to combined CSV.\n",
      "Processing dataset as sequential data\n",
      "Processed track 03_SS2-107-Ab_comp and appended data to combined CSV.\n",
      "Processing dataset as sequential data\n",
      "Processed track 03_SS2-107-Ab_solo and appended data to combined CSV.\n",
      "Processing dataset as sequential data\n",
      "Processed track 03_SS2-88-F_comp and appended data to combined CSV.\n",
      "Processing dataset as sequential data\n",
      "Processed track 03_SS2-88-F_solo and appended data to combined CSV.\n",
      "Processing dataset as sequential data\n",
      "Processed track 03_SS3-84-Bb_comp and appended data to combined CSV.\n",
      "Processing dataset as sequential data\n",
      "Processed track 03_SS3-84-Bb_solo and appended data to combined CSV.\n",
      "Processing dataset as sequential data\n",
      "Processed track 03_SS3-98-C_comp and appended data to combined CSV.\n",
      "Processing dataset as sequential data\n",
      "Processed track 03_SS3-98-C_solo and appended data to combined CSV.\n",
      "Processing dataset as sequential data\n",
      "Processed track 04_BN1-129-Eb_comp and appended data to combined CSV.\n",
      "Processing dataset as sequential data\n",
      "Processed track 04_BN1-129-Eb_solo and appended data to combined CSV.\n",
      "Processing dataset as sequential data\n",
      "Processed track 04_BN1-147-Gb_comp and appended data to combined CSV.\n",
      "Processing dataset as sequential data\n",
      "Processed track 04_BN1-147-Gb_solo and appended data to combined CSV.\n",
      "Processing dataset as sequential data\n",
      "Processed track 04_BN2-131-B_comp and appended data to combined CSV.\n",
      "Processing dataset as sequential data\n",
      "Processed track 04_BN2-131-B_solo and appended data to combined CSV.\n",
      "Processing dataset as sequential data\n",
      "Processed track 04_BN2-166-Ab_comp and appended data to combined CSV.\n",
      "Processing dataset as sequential data\n",
      "Processed track 04_BN2-166-Ab_solo and appended data to combined CSV.\n",
      "Processing dataset as sequential data\n",
      "Processed track 04_BN3-119-G_comp and appended data to combined CSV.\n",
      "Processing dataset as sequential data\n",
      "Processed track 04_BN3-119-G_solo and appended data to combined CSV.\n",
      "Processing dataset as sequential data\n",
      "Processed track 04_BN3-154-E_comp and appended data to combined CSV.\n",
      "Processing dataset as sequential data\n",
      "Processed track 04_BN3-154-E_solo and appended data to combined CSV.\n",
      "Processing dataset as sequential data\n",
      "Processed track 04_Funk1-114-Ab_comp and appended data to combined CSV.\n",
      "Processing dataset as sequential data\n",
      "Processed track 04_Funk1-114-Ab_solo and appended data to combined CSV.\n",
      "Processing dataset as sequential data\n",
      "Processed track 04_Funk1-97-C_comp and appended data to combined CSV.\n",
      "Processing dataset as sequential data\n",
      "Processed track 04_Funk1-97-C_solo and appended data to combined CSV.\n",
      "Processing dataset as sequential data\n",
      "Processed track 04_Funk2-108-Eb_comp and appended data to combined CSV.\n",
      "Processing dataset as sequential data\n",
      "Processed track 04_Funk2-108-Eb_solo and appended data to combined CSV.\n",
      "Processing dataset as sequential data\n",
      "Processed track 04_Funk2-119-G_comp and appended data to combined CSV.\n",
      "Processing dataset as sequential data\n",
      "Processed track 04_Funk2-119-G_solo and appended data to combined CSV.\n",
      "Processing dataset as sequential data\n",
      "Processed track 04_Funk3-112-C#_comp and appended data to combined CSV.\n",
      "Processing dataset as sequential data\n",
      "Processed track 04_Funk3-112-C#_solo and appended data to combined CSV.\n",
      "Processing dataset as sequential data\n",
      "Processed track 04_Funk3-98-A_comp and appended data to combined CSV.\n",
      "Processing dataset as sequential data\n",
      "Processed track 04_Funk3-98-A_solo and appended data to combined CSV.\n",
      "Processing dataset as sequential data\n",
      "Processed track 04_Jazz1-130-D_comp and appended data to combined CSV.\n",
      "Processing dataset as sequential data\n",
      "Processed track 04_Jazz1-130-D_solo and appended data to combined CSV.\n",
      "Processing dataset as sequential data\n",
      "Processed track 04_Jazz1-200-B_comp and appended data to combined CSV.\n",
      "Processing dataset as sequential data\n",
      "Processed track 04_Jazz1-200-B_solo and appended data to combined CSV.\n",
      "Processing dataset as sequential data\n",
      "Processed track 04_Jazz2-110-Bb_comp and appended data to combined CSV.\n",
      "Processing dataset as sequential data\n",
      "Processed track 04_Jazz2-110-Bb_solo and appended data to combined CSV.\n",
      "Processing dataset as sequential data\n",
      "Processed track 04_Jazz2-187-F#_comp and appended data to combined CSV.\n",
      "Processing dataset as sequential data\n",
      "Processed track 04_Jazz2-187-F#_solo and appended data to combined CSV.\n",
      "Processing dataset as sequential data\n",
      "Processed track 04_Jazz3-137-Eb_comp and appended data to combined CSV.\n",
      "Processing dataset as sequential data\n",
      "Processed track 04_Jazz3-137-Eb_solo and appended data to combined CSV.\n",
      "Processing dataset as sequential data\n",
      "Processed track 04_Jazz3-150-C_comp and appended data to combined CSV.\n",
      "Processing dataset as sequential data\n",
      "Processed track 04_Jazz3-150-C_solo and appended data to combined CSV.\n",
      "Processing dataset as sequential data\n",
      "Processed track 04_Rock1-130-A_comp and appended data to combined CSV.\n",
      "Processing dataset as sequential data\n",
      "Processed track 04_Rock1-130-A_solo and appended data to combined CSV.\n",
      "Processing dataset as sequential data\n",
      "Processed track 04_Rock1-90-C#_comp and appended data to combined CSV.\n",
      "Processing dataset as sequential data\n",
      "Processed track 04_Rock1-90-C#_solo and appended data to combined CSV.\n",
      "Processing dataset as sequential data\n",
      "Processed track 04_Rock2-142-D_comp and appended data to combined CSV.\n",
      "Processing dataset as sequential data\n",
      "Processed track 04_Rock2-142-D_solo and appended data to combined CSV.\n",
      "Processing dataset as sequential data\n",
      "Processed track 04_Rock2-85-F_comp and appended data to combined CSV.\n",
      "Processing dataset as sequential data\n",
      "Processed track 04_Rock2-85-F_solo and appended data to combined CSV.\n",
      "Processing dataset as sequential data\n",
      "Processed track 04_Rock3-117-Bb_comp and appended data to combined CSV.\n",
      "Processing dataset as sequential data\n",
      "Processed track 04_Rock3-117-Bb_solo and appended data to combined CSV.\n",
      "Processing dataset as sequential data\n",
      "Processed track 04_Rock3-148-C_comp and appended data to combined CSV.\n",
      "Processing dataset as sequential data\n",
      "Processed track 04_Rock3-148-C_solo and appended data to combined CSV.\n",
      "Processing dataset as sequential data\n",
      "Processed track 04_SS1-100-C#_comp and appended data to combined CSV.\n",
      "Processing dataset as sequential data\n",
      "Processed track 04_SS1-100-C#_solo and appended data to combined CSV.\n",
      "Processing dataset as sequential data\n",
      "Processed track 04_SS1-68-E_comp and appended data to combined CSV.\n",
      "Processing dataset as sequential data\n",
      "Processed track 04_SS1-68-E_solo and appended data to combined CSV.\n",
      "Processing dataset as sequential data\n",
      "Processed track 04_SS2-107-Ab_comp and appended data to combined CSV.\n",
      "Processing dataset as sequential data\n",
      "Processed track 04_SS2-107-Ab_solo and appended data to combined CSV.\n",
      "Processing dataset as sequential data\n",
      "Processed track 04_SS2-88-F_comp and appended data to combined CSV.\n",
      "Processing dataset as sequential data\n",
      "Processed track 04_SS2-88-F_solo and appended data to combined CSV.\n",
      "Processing dataset as sequential data\n",
      "Processed track 04_SS3-84-Bb_comp and appended data to combined CSV.\n",
      "Processing dataset as sequential data\n",
      "Processed track 04_SS3-84-Bb_solo and appended data to combined CSV.\n",
      "Processing dataset as sequential data\n",
      "Processed track 04_SS3-98-C_comp and appended data to combined CSV.\n",
      "Processing dataset as sequential data\n",
      "Processed track 04_SS3-98-C_solo and appended data to combined CSV.\n",
      "Processing dataset as sequential data\n",
      "Processed track 05_BN1-129-Eb_comp and appended data to combined CSV.\n",
      "Processing dataset as sequential data\n",
      "Processed track 05_BN1-129-Eb_solo and appended data to combined CSV.\n",
      "Processing dataset as sequential data\n",
      "Processed track 05_BN1-147-Gb_comp and appended data to combined CSV.\n",
      "Processing dataset as sequential data\n",
      "Processed track 05_BN1-147-Gb_solo and appended data to combined CSV.\n",
      "Processing dataset as sequential data\n",
      "Processed track 05_BN2-131-B_comp and appended data to combined CSV.\n",
      "Processing dataset as sequential data\n",
      "Processed track 05_BN2-131-B_solo and appended data to combined CSV.\n",
      "Processing dataset as sequential data\n",
      "Processed track 05_BN2-166-Ab_comp and appended data to combined CSV.\n",
      "Processing dataset as sequential data\n",
      "Processed track 05_BN2-166-Ab_solo and appended data to combined CSV.\n",
      "Processing dataset as sequential data\n",
      "Processed track 05_BN3-119-G_comp and appended data to combined CSV.\n",
      "Processing dataset as sequential data\n",
      "Processed track 05_BN3-119-G_solo and appended data to combined CSV.\n",
      "Processing dataset as sequential data\n",
      "Processed track 05_BN3-154-E_comp and appended data to combined CSV.\n",
      "Processing dataset as sequential data\n",
      "Processed track 05_BN3-154-E_solo and appended data to combined CSV.\n",
      "Processing dataset as sequential data\n",
      "Processed track 05_Funk1-114-Ab_comp and appended data to combined CSV.\n",
      "Processing dataset as sequential data\n",
      "Processed track 05_Funk1-114-Ab_solo and appended data to combined CSV.\n",
      "Processing dataset as sequential data\n",
      "Processed track 05_Funk1-97-C_comp and appended data to combined CSV.\n",
      "Processing dataset as sequential data\n",
      "Processed track 05_Funk1-97-C_solo and appended data to combined CSV.\n",
      "Processing dataset as sequential data\n",
      "Processed track 05_Funk2-108-Eb_comp and appended data to combined CSV.\n",
      "Processing dataset as sequential data\n",
      "Processed track 05_Funk2-108-Eb_solo and appended data to combined CSV.\n",
      "Processing dataset as sequential data\n",
      "Processed track 05_Funk2-119-G_comp and appended data to combined CSV.\n",
      "Processing dataset as sequential data\n",
      "Processed track 05_Funk2-119-G_solo and appended data to combined CSV.\n",
      "Processing dataset as sequential data\n",
      "Processed track 05_Funk3-112-C#_comp and appended data to combined CSV.\n",
      "Processing dataset as sequential data\n",
      "Processed track 05_Funk3-112-C#_solo and appended data to combined CSV.\n",
      "Processing dataset as sequential data\n",
      "Processed track 05_Funk3-98-A_comp and appended data to combined CSV.\n",
      "Processing dataset as sequential data\n",
      "Processed track 05_Funk3-98-A_solo and appended data to combined CSV.\n",
      "Processing dataset as sequential data\n",
      "Processed track 05_Jazz1-130-D_comp and appended data to combined CSV.\n",
      "Processing dataset as sequential data\n",
      "Processed track 05_Jazz1-130-D_solo and appended data to combined CSV.\n",
      "Processing dataset as sequential data\n",
      "Processed track 05_Jazz1-200-B_comp and appended data to combined CSV.\n",
      "Processing dataset as sequential data\n",
      "Processed track 05_Jazz1-200-B_solo and appended data to combined CSV.\n",
      "Processing dataset as sequential data\n",
      "Processed track 05_Jazz2-110-Bb_comp and appended data to combined CSV.\n",
      "Processing dataset as sequential data\n",
      "Processed track 05_Jazz2-110-Bb_solo and appended data to combined CSV.\n",
      "Processing dataset as sequential data\n",
      "Processed track 05_Jazz2-187-F#_comp and appended data to combined CSV.\n",
      "Processing dataset as sequential data\n",
      "Processed track 05_Jazz2-187-F#_solo and appended data to combined CSV.\n",
      "Processing dataset as sequential data\n",
      "Processed track 05_Jazz3-137-Eb_comp and appended data to combined CSV.\n",
      "Processing dataset as sequential data\n",
      "Processed track 05_Jazz3-137-Eb_solo and appended data to combined CSV.\n",
      "Processing dataset as sequential data\n",
      "Processed track 05_Jazz3-150-C_comp and appended data to combined CSV.\n",
      "Processing dataset as sequential data\n",
      "Processed track 05_Jazz3-150-C_solo and appended data to combined CSV.\n",
      "Processing dataset as sequential data\n",
      "Processed track 05_Rock1-130-A_comp and appended data to combined CSV.\n",
      "Processing dataset as sequential data\n",
      "Processed track 05_Rock1-130-A_solo and appended data to combined CSV.\n",
      "Processing dataset as sequential data\n",
      "Processed track 05_Rock1-90-C#_comp and appended data to combined CSV.\n",
      "Processing dataset as sequential data\n",
      "Processed track 05_Rock1-90-C#_solo and appended data to combined CSV.\n",
      "Processing dataset as sequential data\n",
      "Processed track 05_Rock2-142-D_comp and appended data to combined CSV.\n",
      "Processing dataset as sequential data\n",
      "Processed track 05_Rock2-142-D_solo and appended data to combined CSV.\n",
      "Processing dataset as sequential data\n",
      "Processed track 05_Rock2-85-F_comp and appended data to combined CSV.\n",
      "Processing dataset as sequential data\n",
      "Processed track 05_Rock2-85-F_solo and appended data to combined CSV.\n",
      "Processing dataset as sequential data\n",
      "Processed track 05_Rock3-117-Bb_comp and appended data to combined CSV.\n",
      "Processing dataset as sequential data\n",
      "Processed track 05_Rock3-117-Bb_solo and appended data to combined CSV.\n",
      "Processing dataset as sequential data\n",
      "Processed track 05_Rock3-148-C_comp and appended data to combined CSV.\n",
      "Processing dataset as sequential data\n",
      "Processed track 05_Rock3-148-C_solo and appended data to combined CSV.\n",
      "Processing dataset as sequential data\n",
      "Processed track 05_SS1-100-C#_comp and appended data to combined CSV.\n",
      "Processing dataset as sequential data\n",
      "Processed track 05_SS1-100-C#_solo and appended data to combined CSV.\n",
      "Processing dataset as sequential data\n",
      "Processed track 05_SS1-68-E_comp and appended data to combined CSV.\n",
      "Processing dataset as sequential data\n",
      "Processed track 05_SS1-68-E_solo and appended data to combined CSV.\n",
      "Processing dataset as sequential data\n",
      "Processed track 05_SS2-107-Ab_comp and appended data to combined CSV.\n",
      "Processing dataset as sequential data\n",
      "Processed track 05_SS2-107-Ab_solo and appended data to combined CSV.\n",
      "Processing dataset as sequential data\n",
      "Processed track 05_SS2-88-F_comp and appended data to combined CSV.\n",
      "Processing dataset as sequential data\n",
      "Processed track 05_SS2-88-F_solo and appended data to combined CSV.\n",
      "Processing dataset as sequential data\n",
      "Processed track 05_SS3-84-Bb_comp and appended data to combined CSV.\n",
      "Processing dataset as sequential data\n",
      "Processed track 05_SS3-84-Bb_solo and appended data to combined CSV.\n",
      "Processing dataset as sequential data\n",
      "Processed track 05_SS3-98-C_comp and appended data to combined CSV.\n",
      "Processing dataset as sequential data\n",
      "Processed track 05_SS3-98-C_solo and appended data to combined CSV.\n",
      "All data processed and saved to c:\\Users\\mattb\\Documents\\CS7643\\Final Project\\amadeus-ex-machina\\data\\processed\\combined_data.csv\n"
     ]
    }
   ],
   "source": [
    "%load_ext autoreload\n",
    "\n",
    "%autoreload 2\n",
    "\n",
    "from data.data_loader import MirDataProcessor\n",
    "data_processer = MirDataProcessor(download=False, batch_size=256, dataset_name=\"guitarset\", process_sequential=True, seq_length=16384)\n",
    "\n",
    "data_processer.process_wav_data(100)"
   ]
  },
  {
   "cell_type": "code",
   "execution_count": null,
   "metadata": {},
   "outputs": [
    {
     "name": "stdout",
     "output_type": "stream",
     "text": [
      "Preparing model data...\n",
      "Loading the combined CSV file...\n"
     ]
    }
   ],
   "source": [
    "# Create data loeaders for train and test set\n",
    "train_loader, test_loader, num_classes = data_processer.build_data_loaders(None, device)\n",
    "\n",
    "print(f\"Number of classes: {num_classes}\")"
   ]
  },
  {
   "cell_type": "code",
   "execution_count": 96,
   "metadata": {},
   "outputs": [
    {
     "name": "stdout",
     "output_type": "stream",
     "text": [
      "-----------------------------------\n",
      "Epoch 1\n",
      "-----------------------------------\n"
     ]
    },
    {
     "data": {
      "application/vnd.jupyter.widget-view+json": {
       "model_id": "0e993d8da5104a55b178dee323268983",
       "version_major": 2,
       "version_minor": 0
      },
      "text/plain": [
       "Training:   0%|          | 0/19 [00:00<?, ?it/s]"
      ]
     },
     "metadata": {},
     "output_type": "display_data"
    },
    {
     "name": "stdout",
     "output_type": "stream",
     "text": [
      "Training Loss: 3.1278. Validation Loss: 4.9036.\n",
      "Training Accuracy: 0.1070. Validation Accuracy: 0.0000.\n",
      "-----------------------------------\n",
      "Epoch 2\n",
      "-----------------------------------\n"
     ]
    },
    {
     "data": {
      "application/vnd.jupyter.widget-view+json": {
       "model_id": "6a443de9452944bdacff8e0bf4848d5a",
       "version_major": 2,
       "version_minor": 0
      },
      "text/plain": [
       "Training:   0%|          | 0/19 [00:00<?, ?it/s]"
      ]
     },
     "metadata": {},
     "output_type": "display_data"
    },
    {
     "name": "stdout",
     "output_type": "stream",
     "text": [
      "Training Loss: 2.9293. Validation Loss: 5.6999.\n",
      "Training Accuracy: 0.1441. Validation Accuracy: 0.0000.\n",
      "-----------------------------------\n",
      "Epoch 3\n",
      "-----------------------------------\n"
     ]
    },
    {
     "data": {
      "application/vnd.jupyter.widget-view+json": {
       "model_id": "cf128d33a9794ea6ab06467d36906f44",
       "version_major": 2,
       "version_minor": 0
      },
      "text/plain": [
       "Training:   0%|          | 0/19 [00:00<?, ?it/s]"
      ]
     },
     "metadata": {},
     "output_type": "display_data"
    },
    {
     "name": "stdout",
     "output_type": "stream",
     "text": [
      "Training Loss: 2.8634. Validation Loss: 5.7862.\n",
      "Training Accuracy: 0.1719. Validation Accuracy: 0.0000.\n",
      "-----------------------------------\n",
      "Epoch 4\n",
      "-----------------------------------\n"
     ]
    },
    {
     "data": {
      "application/vnd.jupyter.widget-view+json": {
       "model_id": "3fb074e3f83448bb87f06fdd6388c8cf",
       "version_major": 2,
       "version_minor": 0
      },
      "text/plain": [
       "Training:   0%|          | 0/19 [00:00<?, ?it/s]"
      ]
     },
     "metadata": {},
     "output_type": "display_data"
    },
    {
     "name": "stdout",
     "output_type": "stream",
     "text": [
      "Training Loss: 2.8075. Validation Loss: 5.7545.\n",
      "Training Accuracy: 0.1904. Validation Accuracy: 0.0168.\n",
      "-----------------------------------\n",
      "Epoch 5\n",
      "-----------------------------------\n"
     ]
    },
    {
     "data": {
      "application/vnd.jupyter.widget-view+json": {
       "model_id": "93a836801266454ca0c27b16f0b1bb69",
       "version_major": 2,
       "version_minor": 0
      },
      "text/plain": [
       "Training:   0%|          | 0/19 [00:00<?, ?it/s]"
      ]
     },
     "metadata": {},
     "output_type": "display_data"
    },
    {
     "name": "stdout",
     "output_type": "stream",
     "text": [
      "Training Loss: 2.7496. Validation Loss: 5.9402.\n",
      "Training Accuracy: 0.2098. Validation Accuracy: 0.0000.\n",
      "-----------------------------------\n",
      "Epoch 6\n",
      "-----------------------------------\n"
     ]
    },
    {
     "data": {
      "application/vnd.jupyter.widget-view+json": {
       "model_id": "875bbfd43f3b4b97b4e01dcdca90d90d",
       "version_major": 2,
       "version_minor": 0
      },
      "text/plain": [
       "Training:   0%|          | 0/19 [00:00<?, ?it/s]"
      ]
     },
     "metadata": {},
     "output_type": "display_data"
    },
    {
     "name": "stdout",
     "output_type": "stream",
     "text": [
      "Training Loss: 2.7230. Validation Loss: 6.1228.\n",
      "Training Accuracy: 0.2081. Validation Accuracy: 0.0000.\n",
      "-----------------------------------\n",
      "Epoch 7\n",
      "-----------------------------------\n"
     ]
    },
    {
     "data": {
      "application/vnd.jupyter.widget-view+json": {
       "model_id": "8bbfdedbb64f468b94a01ffccecd0dac",
       "version_major": 2,
       "version_minor": 0
      },
      "text/plain": [
       "Training:   0%|          | 0/19 [00:00<?, ?it/s]"
      ]
     },
     "metadata": {},
     "output_type": "display_data"
    },
    {
     "name": "stdout",
     "output_type": "stream",
     "text": [
      "Training Loss: 2.6743. Validation Loss: 6.3005.\n",
      "Training Accuracy: 0.2233. Validation Accuracy: 0.0000.\n",
      "-----------------------------------\n",
      "Epoch 8\n",
      "-----------------------------------\n"
     ]
    },
    {
     "data": {
      "application/vnd.jupyter.widget-view+json": {
       "model_id": "bdf0e039dd42422793d7c3d9ee72e3b6",
       "version_major": 2,
       "version_minor": 0
      },
      "text/plain": [
       "Training:   0%|          | 0/19 [00:00<?, ?it/s]"
      ]
     },
     "metadata": {},
     "output_type": "display_data"
    },
    {
     "name": "stdout",
     "output_type": "stream",
     "text": [
      "Training Loss: 2.6355. Validation Loss: 6.2533.\n",
      "Training Accuracy: 0.2393. Validation Accuracy: 0.0000.\n",
      "-----------------------------------\n",
      "Epoch 9\n",
      "-----------------------------------\n"
     ]
    },
    {
     "data": {
      "application/vnd.jupyter.widget-view+json": {
       "model_id": "d40118c3d1104be6b25809d9129acc77",
       "version_major": 2,
       "version_minor": 0
      },
      "text/plain": [
       "Training:   0%|          | 0/19 [00:00<?, ?it/s]"
      ]
     },
     "metadata": {},
     "output_type": "display_data"
    },
    {
     "name": "stdout",
     "output_type": "stream",
     "text": [
      "Training Loss: 2.5961. Validation Loss: 6.5669.\n",
      "Training Accuracy: 0.2426. Validation Accuracy: 0.0000.\n",
      "-----------------------------------\n",
      "Epoch 10\n",
      "-----------------------------------\n"
     ]
    },
    {
     "data": {
      "application/vnd.jupyter.widget-view+json": {
       "model_id": "0ec54afa3dad425da10d98778a2ab3d1",
       "version_major": 2,
       "version_minor": 0
      },
      "text/plain": [
       "Training:   0%|          | 0/19 [00:00<?, ?it/s]"
      ]
     },
     "metadata": {},
     "output_type": "display_data"
    },
    {
     "name": "stdout",
     "output_type": "stream",
     "text": [
      "Training Loss: 2.5569. Validation Loss: 6.5236.\n",
      "Training Accuracy: 0.2527. Validation Accuracy: 0.0000.\n",
      "-----------------------------------\n",
      "Epoch 11\n",
      "-----------------------------------\n"
     ]
    },
    {
     "data": {
      "application/vnd.jupyter.widget-view+json": {
       "model_id": "c92cc90cd13f4eeb8dac46d39eab76bd",
       "version_major": 2,
       "version_minor": 0
      },
      "text/plain": [
       "Training:   0%|          | 0/19 [00:00<?, ?it/s]"
      ]
     },
     "metadata": {},
     "output_type": "display_data"
    },
    {
     "name": "stdout",
     "output_type": "stream",
     "text": [
      "Training Loss: 2.5089. Validation Loss: 6.6504.\n",
      "Training Accuracy: 0.2915. Validation Accuracy: 0.0000.\n",
      "-----------------------------------\n",
      "Epoch 12\n",
      "-----------------------------------\n"
     ]
    },
    {
     "data": {
      "application/vnd.jupyter.widget-view+json": {
       "model_id": "5c925ff5c1c04c2c84c9d14711c0bc5a",
       "version_major": 2,
       "version_minor": 0
      },
      "text/plain": [
       "Training:   0%|          | 0/19 [00:00<?, ?it/s]"
      ]
     },
     "metadata": {},
     "output_type": "display_data"
    },
    {
     "name": "stdout",
     "output_type": "stream",
     "text": [
      "Training Loss: 2.5001. Validation Loss: 6.7712.\n",
      "Training Accuracy: 0.2797. Validation Accuracy: 0.0000.\n",
      "-----------------------------------\n",
      "Epoch 13\n",
      "-----------------------------------\n"
     ]
    },
    {
     "data": {
      "application/vnd.jupyter.widget-view+json": {
       "model_id": "6528ffba7dbe44c5881c8f3758ebdce1",
       "version_major": 2,
       "version_minor": 0
      },
      "text/plain": [
       "Training:   0%|          | 0/19 [00:00<?, ?it/s]"
      ]
     },
     "metadata": {},
     "output_type": "display_data"
    },
    {
     "name": "stdout",
     "output_type": "stream",
     "text": [
      "Training Loss: 2.4609. Validation Loss: 6.9991.\n",
      "Training Accuracy: 0.2940. Validation Accuracy: 0.0000.\n",
      "-----------------------------------\n",
      "Epoch 14\n",
      "-----------------------------------\n"
     ]
    },
    {
     "data": {
      "application/vnd.jupyter.widget-view+json": {
       "model_id": "5b9be843334a4327b9f8cdac4e2604a4",
       "version_major": 2,
       "version_minor": 0
      },
      "text/plain": [
       "Training:   0%|          | 0/19 [00:00<?, ?it/s]"
      ]
     },
     "metadata": {},
     "output_type": "display_data"
    },
    {
     "name": "stdout",
     "output_type": "stream",
     "text": [
      "Training Loss: 2.3899. Validation Loss: 6.8885.\n",
      "Training Accuracy: 0.3286. Validation Accuracy: 0.0034.\n",
      "-----------------------------------\n",
      "Epoch 15\n",
      "-----------------------------------\n"
     ]
    },
    {
     "data": {
      "application/vnd.jupyter.widget-view+json": {
       "model_id": "d1949227dff64f7895b5926022c1f062",
       "version_major": 2,
       "version_minor": 0
      },
      "text/plain": [
       "Training:   0%|          | 0/19 [00:00<?, ?it/s]"
      ]
     },
     "metadata": {},
     "output_type": "display_data"
    },
    {
     "name": "stdout",
     "output_type": "stream",
     "text": [
      "Training Loss: 2.3819. Validation Loss: 7.0480.\n",
      "Training Accuracy: 0.3193. Validation Accuracy: 0.0101.\n",
      "-----------------------------------\n",
      "Epoch 16\n",
      "-----------------------------------\n"
     ]
    },
    {
     "data": {
      "application/vnd.jupyter.widget-view+json": {
       "model_id": "4b8175eee9f740f6aaea920f9a7c7674",
       "version_major": 2,
       "version_minor": 0
      },
      "text/plain": [
       "Training:   0%|          | 0/19 [00:00<?, ?it/s]"
      ]
     },
     "metadata": {},
     "output_type": "display_data"
    },
    {
     "name": "stdout",
     "output_type": "stream",
     "text": [
      "Training Loss: 2.3712. Validation Loss: 6.9920.\n",
      "Training Accuracy: 0.3454. Validation Accuracy: 0.0034.\n",
      "-----------------------------------\n",
      "Epoch 17\n",
      "-----------------------------------\n"
     ]
    },
    {
     "data": {
      "application/vnd.jupyter.widget-view+json": {
       "model_id": "03e40048726f417b81f4ebb122eefb8d",
       "version_major": 2,
       "version_minor": 0
      },
      "text/plain": [
       "Training:   0%|          | 0/19 [00:00<?, ?it/s]"
      ]
     },
     "metadata": {},
     "output_type": "display_data"
    },
    {
     "name": "stdout",
     "output_type": "stream",
     "text": [
      "Training Loss: 2.3612. Validation Loss: 7.2087.\n",
      "Training Accuracy: 0.3311. Validation Accuracy: 0.0000.\n",
      "-----------------------------------\n",
      "Epoch 18\n",
      "-----------------------------------\n"
     ]
    },
    {
     "data": {
      "application/vnd.jupyter.widget-view+json": {
       "model_id": "07d0588bef504dad80f43e73415f1eae",
       "version_major": 2,
       "version_minor": 0
      },
      "text/plain": [
       "Training:   0%|          | 0/19 [00:00<?, ?it/s]"
      ]
     },
     "metadata": {},
     "output_type": "display_data"
    },
    {
     "name": "stdout",
     "output_type": "stream",
     "text": [
      "Training Loss: 2.3516. Validation Loss: 7.1091.\n",
      "Training Accuracy: 0.3227. Validation Accuracy: 0.0067.\n",
      "-----------------------------------\n",
      "Epoch 19\n",
      "-----------------------------------\n"
     ]
    },
    {
     "data": {
      "application/vnd.jupyter.widget-view+json": {
       "model_id": "31c0ef377aad4df38771e752affd5eaf",
       "version_major": 2,
       "version_minor": 0
      },
      "text/plain": [
       "Training:   0%|          | 0/19 [00:00<?, ?it/s]"
      ]
     },
     "metadata": {},
     "output_type": "display_data"
    },
    {
     "name": "stdout",
     "output_type": "stream",
     "text": [
      "Training Loss: 2.2683. Validation Loss: 7.2026.\n",
      "Training Accuracy: 0.3698. Validation Accuracy: 0.0303.\n",
      "-----------------------------------\n",
      "Epoch 20\n",
      "-----------------------------------\n"
     ]
    },
    {
     "data": {
      "application/vnd.jupyter.widget-view+json": {
       "model_id": "0f2b1c982350417f9ec5807731878194",
       "version_major": 2,
       "version_minor": 0
      },
      "text/plain": [
       "Training:   0%|          | 0/19 [00:00<?, ?it/s]"
      ]
     },
     "metadata": {},
     "output_type": "display_data"
    },
    {
     "name": "stdout",
     "output_type": "stream",
     "text": [
      "Training Loss: 2.2791. Validation Loss: 7.2178.\n",
      "Training Accuracy: 0.3682. Validation Accuracy: 0.0067.\n",
      "-----------------------------------\n",
      "Epoch 21\n",
      "-----------------------------------\n"
     ]
    },
    {
     "data": {
      "application/vnd.jupyter.widget-view+json": {
       "model_id": "e879c6a7e2324b95ad0604fc608accd1",
       "version_major": 2,
       "version_minor": 0
      },
      "text/plain": [
       "Training:   0%|          | 0/19 [00:00<?, ?it/s]"
      ]
     },
     "metadata": {},
     "output_type": "display_data"
    },
    {
     "name": "stdout",
     "output_type": "stream",
     "text": [
      "Training Loss: 2.2192. Validation Loss: 7.1097.\n",
      "Training Accuracy: 0.3825. Validation Accuracy: 0.0000.\n",
      "-----------------------------------\n",
      "Epoch 22\n",
      "-----------------------------------\n"
     ]
    },
    {
     "data": {
      "application/vnd.jupyter.widget-view+json": {
       "model_id": "ea8b058af3834918a3b0b1095da909c0",
       "version_major": 2,
       "version_minor": 0
      },
      "text/plain": [
       "Training:   0%|          | 0/19 [00:00<?, ?it/s]"
      ]
     },
     "metadata": {},
     "output_type": "display_data"
    },
    {
     "name": "stdout",
     "output_type": "stream",
     "text": [
      "Training Loss: 2.2406. Validation Loss: 7.2496.\n",
      "Training Accuracy: 0.4010. Validation Accuracy: 0.0034.\n",
      "-----------------------------------\n",
      "Epoch 23\n",
      "-----------------------------------\n"
     ]
    },
    {
     "data": {
      "application/vnd.jupyter.widget-view+json": {
       "model_id": "1ccd04e27f9a4cf8bc71e471e0bbf79b",
       "version_major": 2,
       "version_minor": 0
      },
      "text/plain": [
       "Training:   0%|          | 0/19 [00:00<?, ?it/s]"
      ]
     },
     "metadata": {},
     "output_type": "display_data"
    },
    {
     "name": "stdout",
     "output_type": "stream",
     "text": [
      "Training Loss: 2.2137. Validation Loss: 7.1485.\n",
      "Training Accuracy: 0.3842. Validation Accuracy: 0.0168.\n",
      "-----------------------------------\n",
      "Epoch 24\n",
      "-----------------------------------\n"
     ]
    },
    {
     "data": {
      "application/vnd.jupyter.widget-view+json": {
       "model_id": "6b7309650d5b4eebb991f4ace2700162",
       "version_major": 2,
       "version_minor": 0
      },
      "text/plain": [
       "Training:   0%|          | 0/19 [00:00<?, ?it/s]"
      ]
     },
     "metadata": {},
     "output_type": "display_data"
    },
    {
     "name": "stdout",
     "output_type": "stream",
     "text": [
      "Training Loss: 2.1255. Validation Loss: 7.1393.\n",
      "Training Accuracy: 0.4052. Validation Accuracy: 0.0034.\n",
      "-----------------------------------\n",
      "Epoch 25\n",
      "-----------------------------------\n"
     ]
    },
    {
     "data": {
      "application/vnd.jupyter.widget-view+json": {
       "model_id": "8b58db0c2978416fbf8ca73a5823a9d8",
       "version_major": 2,
       "version_minor": 0
      },
      "text/plain": [
       "Training:   0%|          | 0/19 [00:00<?, ?it/s]"
      ]
     },
     "metadata": {},
     "output_type": "display_data"
    },
    {
     "name": "stdout",
     "output_type": "stream",
     "text": [
      "Training Loss: 2.0980. Validation Loss: 7.2572.\n",
      "Training Accuracy: 0.4170. Validation Accuracy: 0.0067.\n",
      "-----------------------------------\n",
      "Epoch 26\n",
      "-----------------------------------\n"
     ]
    },
    {
     "data": {
      "application/vnd.jupyter.widget-view+json": {
       "model_id": "013b9c1e608e4b91985bc6cd47c2adef",
       "version_major": 2,
       "version_minor": 0
      },
      "text/plain": [
       "Training:   0%|          | 0/19 [00:00<?, ?it/s]"
      ]
     },
     "metadata": {},
     "output_type": "display_data"
    },
    {
     "name": "stdout",
     "output_type": "stream",
     "text": [
      "Training Loss: 2.0749. Validation Loss: 7.4115.\n",
      "Training Accuracy: 0.4297. Validation Accuracy: 0.0101.\n",
      "-----------------------------------\n",
      "Epoch 27\n",
      "-----------------------------------\n"
     ]
    },
    {
     "data": {
      "application/vnd.jupyter.widget-view+json": {
       "model_id": "029497f3a942414cb8fb51aff61543db",
       "version_major": 2,
       "version_minor": 0
      },
      "text/plain": [
       "Training:   0%|          | 0/19 [00:00<?, ?it/s]"
      ]
     },
     "metadata": {},
     "output_type": "display_data"
    },
    {
     "name": "stdout",
     "output_type": "stream",
     "text": [
      "Training Loss: 2.0753. Validation Loss: 7.5201.\n",
      "Training Accuracy: 0.4288. Validation Accuracy: 0.0000.\n",
      "-----------------------------------\n",
      "Epoch 28\n",
      "-----------------------------------\n"
     ]
    },
    {
     "data": {
      "application/vnd.jupyter.widget-view+json": {
       "model_id": "aad57e2e6eca4b97b94eef52bd7b7f46",
       "version_major": 2,
       "version_minor": 0
      },
      "text/plain": [
       "Training:   0%|          | 0/19 [00:00<?, ?it/s]"
      ]
     },
     "metadata": {},
     "output_type": "display_data"
    },
    {
     "name": "stdout",
     "output_type": "stream",
     "text": [
      "Training Loss: 2.0024. Validation Loss: 7.3520.\n",
      "Training Accuracy: 0.4566. Validation Accuracy: 0.0101.\n",
      "-----------------------------------\n",
      "Epoch 29\n",
      "-----------------------------------\n"
     ]
    },
    {
     "data": {
      "application/vnd.jupyter.widget-view+json": {
       "model_id": "5bd54b6a26e54df8aed0dfd9679f6f74",
       "version_major": 2,
       "version_minor": 0
      },
      "text/plain": [
       "Training:   0%|          | 0/19 [00:00<?, ?it/s]"
      ]
     },
     "metadata": {},
     "output_type": "display_data"
    },
    {
     "name": "stdout",
     "output_type": "stream",
     "text": [
      "Training Loss: 2.0016. Validation Loss: 7.3981.\n",
      "Training Accuracy: 0.4414. Validation Accuracy: 0.0303.\n",
      "-----------------------------------\n",
      "Epoch 30\n",
      "-----------------------------------\n"
     ]
    },
    {
     "data": {
      "application/vnd.jupyter.widget-view+json": {
       "model_id": "bf797b76d6274f43ad37bb7282c2a200",
       "version_major": 2,
       "version_minor": 0
      },
      "text/plain": [
       "Training:   0%|          | 0/19 [00:00<?, ?it/s]"
      ]
     },
     "metadata": {},
     "output_type": "display_data"
    },
    {
     "name": "stdout",
     "output_type": "stream",
     "text": [
      "Training Loss: 2.0075. Validation Loss: 7.3505.\n",
      "Training Accuracy: 0.4356. Validation Accuracy: 0.0135.\n",
      "-----------------------------------\n",
      "Epoch 31\n",
      "-----------------------------------\n"
     ]
    },
    {
     "data": {
      "application/vnd.jupyter.widget-view+json": {
       "model_id": "814272e6e10745f0b5d8c399e4f21033",
       "version_major": 2,
       "version_minor": 0
      },
      "text/plain": [
       "Training:   0%|          | 0/19 [00:00<?, ?it/s]"
      ]
     },
     "metadata": {},
     "output_type": "display_data"
    },
    {
     "name": "stdout",
     "output_type": "stream",
     "text": [
      "Training Loss: 1.9904. Validation Loss: 7.4583.\n",
      "Training Accuracy: 0.4667. Validation Accuracy: 0.0135.\n",
      "-----------------------------------\n",
      "Epoch 32\n",
      "-----------------------------------\n"
     ]
    },
    {
     "data": {
      "application/vnd.jupyter.widget-view+json": {
       "model_id": "f69bff57c6774cd8bf4166de022d7150",
       "version_major": 2,
       "version_minor": 0
      },
      "text/plain": [
       "Training:   0%|          | 0/19 [00:00<?, ?it/s]"
      ]
     },
     "metadata": {},
     "output_type": "display_data"
    },
    {
     "name": "stdout",
     "output_type": "stream",
     "text": [
      "Training Loss: 1.9074. Validation Loss: 7.4410.\n",
      "Training Accuracy: 0.4760. Validation Accuracy: 0.0034.\n",
      "-----------------------------------\n",
      "Epoch 33\n",
      "-----------------------------------\n"
     ]
    },
    {
     "data": {
      "application/vnd.jupyter.widget-view+json": {
       "model_id": "784efb56e0b3401ea30a204ec1c32008",
       "version_major": 2,
       "version_minor": 0
      },
      "text/plain": [
       "Training:   0%|          | 0/19 [00:00<?, ?it/s]"
      ]
     },
     "metadata": {},
     "output_type": "display_data"
    },
    {
     "name": "stdout",
     "output_type": "stream",
     "text": [
      "Training Loss: 1.9023. Validation Loss: 7.6164.\n",
      "Training Accuracy: 0.4987. Validation Accuracy: 0.0438.\n",
      "-----------------------------------\n",
      "Epoch 34\n",
      "-----------------------------------\n"
     ]
    },
    {
     "data": {
      "application/vnd.jupyter.widget-view+json": {
       "model_id": "9da1a21bc2674ae0bd79c63575c738c5",
       "version_major": 2,
       "version_minor": 0
      },
      "text/plain": [
       "Training:   0%|          | 0/19 [00:00<?, ?it/s]"
      ]
     },
     "metadata": {},
     "output_type": "display_data"
    },
    {
     "name": "stdout",
     "output_type": "stream",
     "text": [
      "Training Loss: 1.9036. Validation Loss: 7.5602.\n",
      "Training Accuracy: 0.4844. Validation Accuracy: 0.0067.\n",
      "-----------------------------------\n",
      "Epoch 35\n",
      "-----------------------------------\n"
     ]
    },
    {
     "data": {
      "application/vnd.jupyter.widget-view+json": {
       "model_id": "c1329a07d0d04fca933398007b3ce4fb",
       "version_major": 2,
       "version_minor": 0
      },
      "text/plain": [
       "Training:   0%|          | 0/19 [00:00<?, ?it/s]"
      ]
     },
     "metadata": {},
     "output_type": "display_data"
    },
    {
     "name": "stdout",
     "output_type": "stream",
     "text": [
      "Training Loss: 1.8917. Validation Loss: 7.5810.\n",
      "Training Accuracy: 0.5114. Validation Accuracy: 0.0067.\n",
      "-----------------------------------\n",
      "Epoch 36\n",
      "-----------------------------------\n"
     ]
    },
    {
     "data": {
      "application/vnd.jupyter.widget-view+json": {
       "model_id": "b5e6ec5adf3847e495a474222dcafc76",
       "version_major": 2,
       "version_minor": 0
      },
      "text/plain": [
       "Training:   0%|          | 0/19 [00:00<?, ?it/s]"
      ]
     },
     "metadata": {},
     "output_type": "display_data"
    },
    {
     "name": "stdout",
     "output_type": "stream",
     "text": [
      "Training Loss: 1.8336. Validation Loss: 7.6313.\n",
      "Training Accuracy: 0.5333. Validation Accuracy: 0.0067.\n",
      "-----------------------------------\n",
      "Epoch 37\n",
      "-----------------------------------\n"
     ]
    },
    {
     "data": {
      "application/vnd.jupyter.widget-view+json": {
       "model_id": "4303c74edd0e4e33bd6eaa270748bf51",
       "version_major": 2,
       "version_minor": 0
      },
      "text/plain": [
       "Training:   0%|          | 0/19 [00:00<?, ?it/s]"
      ]
     },
     "metadata": {},
     "output_type": "display_data"
    },
    {
     "name": "stdout",
     "output_type": "stream",
     "text": [
      "Training Loss: 1.8122. Validation Loss: 7.5918.\n",
      "Training Accuracy: 0.5232. Validation Accuracy: 0.0034.\n",
      "-----------------------------------\n",
      "Epoch 38\n",
      "-----------------------------------\n"
     ]
    },
    {
     "data": {
      "application/vnd.jupyter.widget-view+json": {
       "model_id": "d94e30f8ba364d9d8fe5e35d4720b358",
       "version_major": 2,
       "version_minor": 0
      },
      "text/plain": [
       "Training:   0%|          | 0/19 [00:00<?, ?it/s]"
      ]
     },
     "metadata": {},
     "output_type": "display_data"
    },
    {
     "name": "stdout",
     "output_type": "stream",
     "text": [
      "Training Loss: 1.7481. Validation Loss: 7.9306.\n",
      "Training Accuracy: 0.5527. Validation Accuracy: 0.0067.\n",
      "-----------------------------------\n",
      "Epoch 39\n",
      "-----------------------------------\n"
     ]
    },
    {
     "data": {
      "application/vnd.jupyter.widget-view+json": {
       "model_id": "c8884907a2084554b0cc57f587277e89",
       "version_major": 2,
       "version_minor": 0
      },
      "text/plain": [
       "Training:   0%|          | 0/19 [00:00<?, ?it/s]"
      ]
     },
     "metadata": {},
     "output_type": "display_data"
    },
    {
     "name": "stdout",
     "output_type": "stream",
     "text": [
      "Training Loss: 1.7319. Validation Loss: 7.8400.\n",
      "Training Accuracy: 0.5434. Validation Accuracy: 0.0000.\n",
      "-----------------------------------\n",
      "Epoch 40\n",
      "-----------------------------------\n"
     ]
    },
    {
     "data": {
      "application/vnd.jupyter.widget-view+json": {
       "model_id": "4f5a4ec2690c4b64af925a16e30c4d1f",
       "version_major": 2,
       "version_minor": 0
      },
      "text/plain": [
       "Training:   0%|          | 0/19 [00:00<?, ?it/s]"
      ]
     },
     "metadata": {},
     "output_type": "display_data"
    },
    {
     "name": "stdout",
     "output_type": "stream",
     "text": [
      "Training Loss: 1.7155. Validation Loss: 7.9106.\n",
      "Training Accuracy: 0.5409. Validation Accuracy: 0.0101.\n"
     ]
    },
    {
     "data": {
      "image/png": "[encoded data removed]",
      "text/plain": [
       "<Figure size 800x600 with 1 Axes>"
      ]
     },
     "metadata": {},
     "output_type": "display_data"
    },
    {
     "data": {
      "image/png": "[encoded data removed]",
      "text/plain": [
       "<Figure size 800x600 with 1 Axes>"
      ]
     },
     "metadata": {},
     "output_type": "display_data"
    }
   ],
   "source": [
    "from models.FourierS2S import FourierS2S\n",
    "\n",
    "model = FourierS2S(8192, 8192, 8192, 1024, 1024, num_classes, 16384, device)\n",
    "\n",
    "optimizer = optim.Adam(model.parameters(), lr=0.001)\n",
    "criterion = nn.CrossEntropyLoss()\n",
    "scheduler = optim.lr_scheduler.StepLR(optimizer, 10)\n",
    "\n",
    "\n",
    "# Initialize Solver for CRNNModel\n",
    "fourierS2S_solver = Solver(\n",
    "    model=model,\n",
    "    optimizer=optimizer,\n",
    "    criterion=criterion,\n",
    "    scheduler=scheduler,\n",
    "    train_dataloader=train_loader,\n",
    "    valid_dataloader=test_loader,\n",
    "    batch_size=64,\n",
    "    epochs=40,\n",
    "    device=device,\n",
    "    early_stop_epochs=0,\n",
    "    warmup_epochs=2,\n",
    "    optuna_prune=False\n",
    ")\n",
    "fourierS2S_solver.train_and_evaluate(plot_results=True)"
   ]
  },
  {
   "cell_type": "code",
   "execution_count": null,
   "metadata": {},
   "outputs": [],
   "source": []
  }
 ],
 "metadata": {
  "kernelspec": {
   "display_name": "amadeus-ex-machina",
   "language": "python",
   "name": "python3"
  },
  "language_info": {
   "codemirror_mode": {
    "name": "ipython",
    "version": 3
   },
   "file_extension": ".py",
   "mimetype": "text/x-python",
   "name": "python",
   "nbconvert_exporter": "python",
   "pygments_lexer": "ipython3",
   "version": "3.11.0"
  }
 },
 "nbformat": 4,
 "nbformat_minor": 2
}
