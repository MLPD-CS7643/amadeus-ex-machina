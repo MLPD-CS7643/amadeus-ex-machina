{
 "cells": [
  {
   "cell_type": "code",
   "execution_count": 2,
   "metadata": {},
   "outputs": [
    {
     "name": "stderr",
     "output_type": "stream",
     "text": [
      "c:\\Users\\mattb\\miniconda3\\envs\\amadeus-ex-machina\\Lib\\site-packages\\tqdm_joblib\\__init__.py:4: TqdmExperimentalWarning: Using `tqdm.autonotebook.tqdm` in notebook mode. Use `tqdm.tqdm` instead to force console mode (e.g. in jupyter console)\n",
      "  from tqdm.autonotebook import tqdm\n"
     ]
    },
    {
     "name": "stdout",
     "output_type": "stream",
     "text": [
      "Device is cuda\n"
     ]
    }
   ],
   "source": [
    "\n",
    "\n",
    "# System imports\n",
    "import sys\n",
    "import os\n",
    "\n",
    "# Add the parent directory of 'notebooks' to sys.path\n",
    "parent_dir = os.path.abspath(os.path.join(os.getcwd(), \"..\"))  # Move one level up\n",
    "if parent_dir not in sys.path:\n",
    "    sys.path.append(parent_dir)\n",
    "\n",
    "# Class/model imports\n",
    "from data.data_loader import MirDataProcessor\n",
    "from utils.model_utils import get_device\n",
    "from solver import Solver\n",
    "\n",
    "# Package imports\n",
    "import torch\n",
    "import torch.optim as optim\n",
    "import torch.nn as nn\n",
    "\n",
    "# Select device\n",
    "device = get_device()\n",
    "print(f\"Device is {device}\")"
   ]
  },
  {
   "cell_type": "code",
   "execution_count": null,
   "metadata": {},
   "outputs": [
    {
     "name": "stderr",
     "output_type": "stream",
     "text": [
      "WARNING: Zip and tar files will be deleted after they are uncompressed. If you download this dataset again, it will overwrite existing files, even if force_overwrite=False\n",
      "INFO: Downloading ['annotations', 'audio_hex_debleeded', 'audio_hex_original', 'audio_mic', 'audio_mix', 'index']. Index is being stored in C:\\Users\\mattb\\miniconda3\\envs\\amadeus-ex-machina\\Lib\\site-packages\\mirdata\\datasets\\indexes, and the rest of files in c:\\Users\\mattb\\Documents\\CS7643\\Final Project\\amadeus-ex-machina\\data\\raw\n",
      "INFO: [annotations] downloading annotation.zip\n",
      "37.3MB [00:02, 14.7MB/s]                              \n",
      "INFO: [audio_hex_debleeded] downloading audio_hex-pickup_debleeded.zip\n",
      "3.36GB [02:23, 25.2MB/s]                               \n",
      "INFO: [audio_hex_original] downloading audio_hex-pickup_original.zip\n",
      "2.99GB [01:59, 26.8MB/s]                               \n",
      "INFO: [audio_mic] downloading audio_mono-mic.zip\n",
      "626MB [00:25, 26.1MB/s]                               \n",
      "INFO: [audio_mix] downloading audio_mono-pickup_mix.zip\n",
      "652MB [00:25, 26.6MB/s]                               \n",
      "INFO: [index] downloading guitarset_index_1.1.0.json\n",
      "248kB [00:00, 385kB/s]                             \n"
     ]
    }
   ],
   "source": [
    "# Download and build useable train/test data out of the MIR Billboard dataset\n",
    "#data_processer = MirDataProcessor(download=True, batch_size=64, dataset_name=\"guitarset\")\n"
   ]
  },
  {
   "cell_type": "code",
   "execution_count": 4,
   "metadata": {},
   "outputs": [
    {
     "name": "stdout",
     "output_type": "stream",
     "text": [
      "The autoreload extension is already loaded. To reload it, use:\n",
      "  %reload_ext autoreload\n",
      "Found 360 tracks in the dataset.\n",
      "Processing dataset as sequential data\n",
      "Processed track 00_BN1-129-Eb_comp and appended data to combined CSV.\n",
      "Processing dataset as sequential data\n",
      "Processed track 00_BN1-129-Eb_solo and appended data to combined CSV.\n",
      "Processing dataset as sequential data\n",
      "Processed track 00_BN1-147-Gb_comp and appended data to combined CSV.\n",
      "Processing dataset as sequential data\n",
      "Processed track 00_BN1-147-Gb_solo and appended data to combined CSV.\n",
      "Processing dataset as sequential data\n",
      "Processed track 00_BN2-131-B_comp and appended data to combined CSV.\n",
      "Processing dataset as sequential data\n",
      "Processed track 00_BN2-131-B_solo and appended data to combined CSV.\n",
      "Processing dataset as sequential data\n",
      "Processed track 00_BN2-166-Ab_comp and appended data to combined CSV.\n",
      "Processing dataset as sequential data\n",
      "Processed track 00_BN2-166-Ab_solo and appended data to combined CSV.\n",
      "Processing dataset as sequential data\n",
      "Processed track 00_BN3-119-G_comp and appended data to combined CSV.\n",
      "Processing dataset as sequential data\n",
      "Processed track 00_BN3-119-G_solo and appended data to combined CSV.\n",
      "Processing dataset as sequential data\n",
      "Processed track 00_BN3-154-E_comp and appended data to combined CSV.\n",
      "Processing dataset as sequential data\n",
      "Processed track 00_BN3-154-E_solo and appended data to combined CSV.\n",
      "Processing dataset as sequential data\n",
      "Processed track 00_Funk1-114-Ab_comp and appended data to combined CSV.\n",
      "Processing dataset as sequential data\n",
      "Processed track 00_Funk1-114-Ab_solo and appended data to combined CSV.\n",
      "Processing dataset as sequential data\n",
      "Processed track 00_Funk1-97-C_comp and appended data to combined CSV.\n",
      "Processing dataset as sequential data\n",
      "Processed track 00_Funk1-97-C_solo and appended data to combined CSV.\n",
      "Processing dataset as sequential data\n",
      "Processed track 00_Funk2-108-Eb_comp and appended data to combined CSV.\n",
      "Processing dataset as sequential data\n",
      "Processed track 00_Funk2-108-Eb_solo and appended data to combined CSV.\n",
      "Processing dataset as sequential data\n",
      "Processed track 00_Funk2-119-G_comp and appended data to combined CSV.\n",
      "Processing dataset as sequential data\n",
      "Processed track 00_Funk2-119-G_solo and appended data to combined CSV.\n",
      "Processing dataset as sequential data\n",
      "Processed track 00_Funk3-112-C#_comp and appended data to combined CSV.\n",
      "Processing dataset as sequential data\n",
      "Processed track 00_Funk3-112-C#_solo and appended data to combined CSV.\n",
      "Processing dataset as sequential data\n",
      "Processed track 00_Funk3-98-A_comp and appended data to combined CSV.\n",
      "Processing dataset as sequential data\n",
      "Processed track 00_Funk3-98-A_solo and appended data to combined CSV.\n",
      "Processing dataset as sequential data\n",
      "Processed track 00_Jazz1-130-D_comp and appended data to combined CSV.\n",
      "Processing dataset as sequential data\n",
      "Processed track 00_Jazz1-130-D_solo and appended data to combined CSV.\n",
      "Processing dataset as sequential data\n",
      "Processed track 00_Jazz1-200-B_comp and appended data to combined CSV.\n",
      "Processing dataset as sequential data\n",
      "Processed track 00_Jazz1-200-B_solo and appended data to combined CSV.\n",
      "Processing dataset as sequential data\n",
      "Processed track 00_Jazz2-110-Bb_comp and appended data to combined CSV.\n",
      "Processing dataset as sequential data\n",
      "Processed track 00_Jazz2-110-Bb_solo and appended data to combined CSV.\n",
      "Processing dataset as sequential data\n",
      "Processed track 00_Jazz2-187-F#_comp and appended data to combined CSV.\n",
      "Processing dataset as sequential data\n",
      "Processed track 00_Jazz2-187-F#_solo and appended data to combined CSV.\n",
      "Processing dataset as sequential data\n",
      "Processed track 00_Jazz3-137-Eb_comp and appended data to combined CSV.\n",
      "Processing dataset as sequential data\n",
      "Processed track 00_Jazz3-137-Eb_solo and appended data to combined CSV.\n",
      "Processing dataset as sequential data\n",
      "Processed track 00_Jazz3-150-C_comp and appended data to combined CSV.\n",
      "Processing dataset as sequential data\n",
      "Processed track 00_Jazz3-150-C_solo and appended data to combined CSV.\n",
      "Processing dataset as sequential data\n",
      "Processed track 00_Rock1-130-A_comp and appended data to combined CSV.\n",
      "Processing dataset as sequential data\n",
      "Processed track 00_Rock1-130-A_solo and appended data to combined CSV.\n",
      "Processing dataset as sequential data\n",
      "Processed track 00_Rock1-90-C#_comp and appended data to combined CSV.\n",
      "Processing dataset as sequential data\n",
      "Processed track 00_Rock1-90-C#_solo and appended data to combined CSV.\n",
      "Processing dataset as sequential data\n",
      "Processed track 00_Rock2-142-D_comp and appended data to combined CSV.\n",
      "Processing dataset as sequential data\n",
      "Processed track 00_Rock2-142-D_solo and appended data to combined CSV.\n",
      "Processing dataset as sequential data\n",
      "Processed track 00_Rock2-85-F_comp and appended data to combined CSV.\n",
      "Processing dataset as sequential data\n",
      "Processed track 00_Rock2-85-F_solo and appended data to combined CSV.\n",
      "Processing dataset as sequential data\n",
      "Processed track 00_Rock3-117-Bb_comp and appended data to combined CSV.\n",
      "Processing dataset as sequential data\n",
      "Processed track 00_Rock3-117-Bb_solo and appended data to combined CSV.\n",
      "Processing dataset as sequential data\n",
      "Processed track 00_Rock3-148-C_comp and appended data to combined CSV.\n",
      "Processing dataset as sequential data\n",
      "Processed track 00_Rock3-148-C_solo and appended data to combined CSV.\n",
      "Processing dataset as sequential data\n",
      "Processed track 00_SS1-100-C#_comp and appended data to combined CSV.\n",
      "Processing dataset as sequential data\n",
      "Processed track 00_SS1-100-C#_solo and appended data to combined CSV.\n",
      "Processing dataset as sequential data\n",
      "Processed track 00_SS1-68-E_comp and appended data to combined CSV.\n",
      "Processing dataset as sequential data\n",
      "Processed track 00_SS1-68-E_solo and appended data to combined CSV.\n",
      "Processing dataset as sequential data\n",
      "Processed track 00_SS2-107-Ab_comp and appended data to combined CSV.\n",
      "Processing dataset as sequential data\n",
      "Processed track 00_SS2-107-Ab_solo and appended data to combined CSV.\n",
      "Processing dataset as sequential data\n",
      "Processed track 00_SS2-88-F_comp and appended data to combined CSV.\n",
      "Processing dataset as sequential data\n",
      "Processed track 00_SS2-88-F_solo and appended data to combined CSV.\n",
      "Processing dataset as sequential data\n",
      "Processed track 00_SS3-84-Bb_comp and appended data to combined CSV.\n",
      "Processing dataset as sequential data\n",
      "Processed track 00_SS3-84-Bb_solo and appended data to combined CSV.\n",
      "Processing dataset as sequential data\n",
      "Processed track 00_SS3-98-C_comp and appended data to combined CSV.\n",
      "Processing dataset as sequential data\n",
      "Processed track 00_SS3-98-C_solo and appended data to combined CSV.\n",
      "Processing dataset as sequential data\n",
      "Processed track 01_BN1-129-Eb_comp and appended data to combined CSV.\n",
      "Processing dataset as sequential data\n",
      "Processed track 01_BN1-129-Eb_solo and appended data to combined CSV.\n",
      "Processing dataset as sequential data\n",
      "Processed track 01_BN1-147-Gb_comp and appended data to combined CSV.\n",
      "Processing dataset as sequential data\n",
      "Processed track 01_BN1-147-Gb_solo and appended data to combined CSV.\n",
      "Processing dataset as sequential data\n",
      "Processed track 01_BN2-131-B_comp and appended data to combined CSV.\n",
      "Processing dataset as sequential data\n",
      "Processed track 01_BN2-131-B_solo and appended data to combined CSV.\n",
      "Processing dataset as sequential data\n",
      "Processed track 01_BN2-166-Ab_comp and appended data to combined CSV.\n",
      "Processing dataset as sequential data\n",
      "Processed track 01_BN2-166-Ab_solo and appended data to combined CSV.\n",
      "Processing dataset as sequential data\n",
      "Processed track 01_BN3-119-G_comp and appended data to combined CSV.\n",
      "Processing dataset as sequential data\n",
      "Processed track 01_BN3-119-G_solo and appended data to combined CSV.\n",
      "Processing dataset as sequential data\n",
      "Processed track 01_BN3-154-E_comp and appended data to combined CSV.\n",
      "Processing dataset as sequential data\n",
      "Processed track 01_BN3-154-E_solo and appended data to combined CSV.\n",
      "Processing dataset as sequential data\n",
      "Processed track 01_Funk1-114-Ab_comp and appended data to combined CSV.\n",
      "Processing dataset as sequential data\n",
      "Processed track 01_Funk1-114-Ab_solo and appended data to combined CSV.\n",
      "Processing dataset as sequential data\n",
      "Processed track 01_Funk1-97-C_comp and appended data to combined CSV.\n",
      "Processing dataset as sequential data\n",
      "Processed track 01_Funk1-97-C_solo and appended data to combined CSV.\n",
      "Processing dataset as sequential data\n",
      "Processed track 01_Funk2-108-Eb_comp and appended data to combined CSV.\n",
      "Processing dataset as sequential data\n",
      "Processed track 01_Funk2-108-Eb_solo and appended data to combined CSV.\n",
      "Processing dataset as sequential data\n",
      "Processed track 01_Funk2-119-G_comp and appended data to combined CSV.\n",
      "Processing dataset as sequential data\n",
      "Processed track 01_Funk2-119-G_solo and appended data to combined CSV.\n",
      "Processing dataset as sequential data\n",
      "Processed track 01_Funk3-112-C#_comp and appended data to combined CSV.\n",
      "Processing dataset as sequential data\n",
      "Processed track 01_Funk3-112-C#_solo and appended data to combined CSV.\n",
      "Processing dataset as sequential data\n",
      "Processed track 01_Funk3-98-A_comp and appended data to combined CSV.\n",
      "Processing dataset as sequential data\n",
      "Processed track 01_Funk3-98-A_solo and appended data to combined CSV.\n",
      "Processing dataset as sequential data\n",
      "Processed track 01_Jazz1-130-D_comp and appended data to combined CSV.\n",
      "Processing dataset as sequential data\n",
      "Processed track 01_Jazz1-130-D_solo and appended data to combined CSV.\n",
      "Processing dataset as sequential data\n",
      "Processed track 01_Jazz1-200-B_comp and appended data to combined CSV.\n",
      "Processing dataset as sequential data\n",
      "Processed track 01_Jazz1-200-B_solo and appended data to combined CSV.\n",
      "Processing dataset as sequential data\n",
      "Processed track 01_Jazz2-110-Bb_comp and appended data to combined CSV.\n",
      "Processing dataset as sequential data\n",
      "Processed track 01_Jazz2-110-Bb_solo and appended data to combined CSV.\n",
      "Processing dataset as sequential data\n",
      "Processed track 01_Jazz2-187-F#_comp and appended data to combined CSV.\n",
      "Processing dataset as sequential data\n",
      "Processed track 01_Jazz2-187-F#_solo and appended data to combined CSV.\n",
      "Processing dataset as sequential data\n",
      "Processed track 01_Jazz3-137-Eb_comp and appended data to combined CSV.\n",
      "Processing dataset as sequential data\n",
      "Processed track 01_Jazz3-137-Eb_solo and appended data to combined CSV.\n",
      "Processing dataset as sequential data\n",
      "Processed track 01_Jazz3-150-C_comp and appended data to combined CSV.\n",
      "Processing dataset as sequential data\n",
      "Processed track 01_Jazz3-150-C_solo and appended data to combined CSV.\n",
      "Processing dataset as sequential data\n",
      "Processed track 01_Rock1-130-A_comp and appended data to combined CSV.\n",
      "Processing dataset as sequential data\n",
      "Processed track 01_Rock1-130-A_solo and appended data to combined CSV.\n",
      "Processing dataset as sequential data\n",
      "Processed track 01_Rock1-90-C#_comp and appended data to combined CSV.\n",
      "Processing dataset as sequential data\n",
      "Processed track 01_Rock1-90-C#_solo and appended data to combined CSV.\n",
      "Processing dataset as sequential data\n",
      "Processed track 01_Rock2-142-D_comp and appended data to combined CSV.\n",
      "Processing dataset as sequential data\n",
      "Processed track 01_Rock2-142-D_solo and appended data to combined CSV.\n",
      "Processing dataset as sequential data\n",
      "Processed track 01_Rock2-85-F_comp and appended data to combined CSV.\n",
      "Processing dataset as sequential data\n",
      "Processed track 01_Rock2-85-F_solo and appended data to combined CSV.\n",
      "Processing dataset as sequential data\n",
      "Processed track 01_Rock3-117-Bb_comp and appended data to combined CSV.\n",
      "Processing dataset as sequential data\n",
      "Processed track 01_Rock3-117-Bb_solo and appended data to combined CSV.\n",
      "Processing dataset as sequential data\n",
      "Processed track 01_Rock3-148-C_comp and appended data to combined CSV.\n",
      "Processing dataset as sequential data\n",
      "Processed track 01_Rock3-148-C_solo and appended data to combined CSV.\n",
      "Processing dataset as sequential data\n",
      "Processed track 01_SS1-100-C#_comp and appended data to combined CSV.\n",
      "Processing dataset as sequential data\n",
      "Processed track 01_SS1-100-C#_solo and appended data to combined CSV.\n",
      "Processing dataset as sequential data\n",
      "Processed track 01_SS1-68-E_comp and appended data to combined CSV.\n",
      "Processing dataset as sequential data\n",
      "Processed track 01_SS1-68-E_solo and appended data to combined CSV.\n",
      "Processing dataset as sequential data\n",
      "Processed track 01_SS2-107-Ab_comp and appended data to combined CSV.\n",
      "Processing dataset as sequential data\n",
      "Processed track 01_SS2-107-Ab_solo and appended data to combined CSV.\n",
      "Processing dataset as sequential data\n",
      "Processed track 01_SS2-88-F_comp and appended data to combined CSV.\n",
      "Processing dataset as sequential data\n",
      "Processed track 01_SS2-88-F_solo and appended data to combined CSV.\n",
      "Processing dataset as sequential data\n",
      "Processed track 01_SS3-84-Bb_comp and appended data to combined CSV.\n",
      "Processing dataset as sequential data\n",
      "Processed track 01_SS3-84-Bb_solo and appended data to combined CSV.\n",
      "Processing dataset as sequential data\n",
      "Processed track 01_SS3-98-C_comp and appended data to combined CSV.\n",
      "Processing dataset as sequential data\n",
      "Processed track 01_SS3-98-C_solo and appended data to combined CSV.\n",
      "Processing dataset as sequential data\n",
      "Processed track 02_BN1-129-Eb_comp and appended data to combined CSV.\n",
      "Processing dataset as sequential data\n",
      "Processed track 02_BN1-129-Eb_solo and appended data to combined CSV.\n",
      "Processing dataset as sequential data\n",
      "Processed track 02_BN1-147-Gb_comp and appended data to combined CSV.\n",
      "Processing dataset as sequential data\n",
      "Processed track 02_BN1-147-Gb_solo and appended data to combined CSV.\n",
      "Processing dataset as sequential data\n",
      "Processed track 02_BN2-131-B_comp and appended data to combined CSV.\n",
      "Processing dataset as sequential data\n",
      "Processed track 02_BN2-131-B_solo and appended data to combined CSV.\n",
      "Processing dataset as sequential data\n",
      "Processed track 02_BN2-166-Ab_comp and appended data to combined CSV.\n",
      "Processing dataset as sequential data\n",
      "Processed track 02_BN2-166-Ab_solo and appended data to combined CSV.\n",
      "Processing dataset as sequential data\n",
      "Processed track 02_BN3-119-G_comp and appended data to combined CSV.\n",
      "Processing dataset as sequential data\n",
      "Processed track 02_BN3-119-G_solo and appended data to combined CSV.\n",
      "Processing dataset as sequential data\n",
      "Processed track 02_BN3-154-E_comp and appended data to combined CSV.\n",
      "Processing dataset as sequential data\n",
      "Processed track 02_BN3-154-E_solo and appended data to combined CSV.\n",
      "Processing dataset as sequential data\n",
      "Processed track 02_Funk1-114-Ab_comp and appended data to combined CSV.\n",
      "Processing dataset as sequential data\n",
      "Processed track 02_Funk1-114-Ab_solo and appended data to combined CSV.\n",
      "Processing dataset as sequential data\n",
      "Processed track 02_Funk1-97-C_comp and appended data to combined CSV.\n",
      "Processing dataset as sequential data\n",
      "Processed track 02_Funk1-97-C_solo and appended data to combined CSV.\n",
      "Processing dataset as sequential data\n",
      "Processed track 02_Funk2-108-Eb_comp and appended data to combined CSV.\n",
      "Processing dataset as sequential data\n",
      "Processed track 02_Funk2-108-Eb_solo and appended data to combined CSV.\n",
      "Processing dataset as sequential data\n",
      "Processed track 02_Funk2-119-G_comp and appended data to combined CSV.\n",
      "Processing dataset as sequential data\n",
      "Processed track 02_Funk2-119-G_solo and appended data to combined CSV.\n",
      "Processing dataset as sequential data\n",
      "Processed track 02_Funk3-112-C#_comp and appended data to combined CSV.\n",
      "Processing dataset as sequential data\n",
      "Processed track 02_Funk3-112-C#_solo and appended data to combined CSV.\n",
      "Processing dataset as sequential data\n",
      "Processed track 02_Funk3-98-A_comp and appended data to combined CSV.\n",
      "Processing dataset as sequential data\n",
      "Processed track 02_Funk3-98-A_solo and appended data to combined CSV.\n",
      "Processing dataset as sequential data\n",
      "Processed track 02_Jazz1-130-D_comp and appended data to combined CSV.\n",
      "Processing dataset as sequential data\n",
      "Processed track 02_Jazz1-130-D_solo and appended data to combined CSV.\n",
      "Processing dataset as sequential data\n",
      "Processed track 02_Jazz1-200-B_comp and appended data to combined CSV.\n",
      "Processing dataset as sequential data\n",
      "Processed track 02_Jazz1-200-B_solo and appended data to combined CSV.\n",
      "Processing dataset as sequential data\n",
      "Processed track 02_Jazz2-110-Bb_comp and appended data to combined CSV.\n",
      "Processing dataset as sequential data\n",
      "Processed track 02_Jazz2-110-Bb_solo and appended data to combined CSV.\n",
      "All data processed and saved to c:\\Users\\mattb\\Documents\\CS7643\\Final Project\\amadeus-ex-machina\\data\\processed\\combined_data.csv\n"
     ]
    }
   ],
   "source": [
    "%load_ext autoreload\n",
    "\n",
    "%autoreload 2\n",
    "\n",
    "from data.data_loader import MirDataProcessor\n",
    "data_processer = MirDataProcessor(download=False, batch_size=128, dataset_name=\"guitarset\", process_sequential=True, seq_length=32796)\n",
    "\n",
    "data_processer.process_wav_data(150)"
   ]
  },
  {
   "cell_type": "code",
   "execution_count": 5,
   "metadata": {},
   "outputs": [
    {
     "name": "stdout",
     "output_type": "stream",
     "text": [
      "Preparing model data...\n",
      "Loading the combined CSV file...\n",
      "Separating song IDs, features, and labels...\n",
      "Scaling features using MinMaxScaler...\n",
      "Encoding labels using LabelEncoder...\n",
      "Saving the scaler to c:\\Users\\mattb\\Documents\\CS7643\\Final Project\\amadeus-ex-machina\\data\\processed\\scaler.pkl...\n",
      "Saving the label encoder to c:\\Users\\mattb\\Documents\\CS7643\\Final Project\\amadeus-ex-machina\\data\\processed\\label_encoder.pkl...\n",
      "Creating sequences of chromagram data within song boundaries...\n",
      "Splitting data into training and testing sets...\n",
      "Data preparation complete.\n",
      "Number of classes determined: 42\n",
      "Creating TensorDatasets for training and testing data...\n",
      "Creating DataLoaders for training and testing datasets...\n",
      "Data loaders are ready for training and testing.\n",
      "Number of classes: 42\n"
     ]
    }
   ],
   "source": [
    "# Create data loeaders for train and test set\n",
    "train_loader, test_loader, num_classes = data_processer.build_data_loaders(None, device)\n",
    "\n",
    "print(f\"Number of classes: {num_classes}\")"
   ]
  },
  {
   "cell_type": "code",
   "execution_count": 6,
   "metadata": {},
   "outputs": [
    {
     "name": "stdout",
     "output_type": "stream",
     "text": [
      "-----------------------------------\n",
      "Epoch 1\n",
      "-----------------------------------\n"
     ]
    },
    {
     "data": {
      "application/vnd.jupyter.widget-view+json": {
       "model_id": "b503a3cba3b44bb38aa881ead0472d88",
       "version_major": 2,
       "version_minor": 0
      },
      "text/plain": [
       "Training:   0%|          | 0/46 [00:00<?, ?it/s]"
      ]
     },
     "metadata": {},
     "output_type": "display_data"
    },
    {
     "name": "stdout",
     "output_type": "stream",
     "text": [
      "Training Loss: 3.7127. Validation Loss: 3.6308.\n",
      "Training Accuracy: 0.0456. Validation Accuracy: 0.0948.\n",
      "-----------------------------------\n",
      "Epoch 2\n",
      "-----------------------------------\n"
     ]
    },
    {
     "name": "stderr",
     "output_type": "stream",
     "text": [
      "c:\\Users\\mattb\\miniconda3\\envs\\amadeus-ex-machina\\Lib\\site-packages\\torch\\optim\\lr_scheduler.py:240: UserWarning: The epoch parameter in `scheduler.step()` was not necessary and is being deprecated where possible. Please use `scheduler.step()` to step the scheduler. During the deprecation, if epoch is different from None, the closed form is used instead of the new chainable form, where available. Please open an issue if you are unable to replicate your use case: https://github.com/pytorch/pytorch/issues/new/choose.\n",
      "  warnings.warn(EPOCH_DEPRECATION_WARNING, UserWarning)\n"
     ]
    },
    {
     "data": {
      "application/vnd.jupyter.widget-view+json": {
       "model_id": "8290ffc3c23a47f7a4a164a0ac83370f",
       "version_major": 2,
       "version_minor": 0
      },
      "text/plain": [
       "Training:   0%|          | 0/46 [00:00<?, ?it/s]"
      ]
     },
     "metadata": {},
     "output_type": "display_data"
    },
    {
     "name": "stdout",
     "output_type": "stream",
     "text": [
      "Training Loss: 3.6470. Validation Loss: 3.5733.\n",
      "Training Accuracy: 0.0534. Validation Accuracy: 0.0163.\n",
      "-----------------------------------\n",
      "Epoch 3\n",
      "-----------------------------------\n"
     ]
    },
    {
     "data": {
      "application/vnd.jupyter.widget-view+json": {
       "model_id": "4686baab0e374225b3936cc4f28073df",
       "version_major": 2,
       "version_minor": 0
      },
      "text/plain": [
       "Training:   0%|          | 0/46 [00:00<?, ?it/s]"
      ]
     },
     "metadata": {},
     "output_type": "display_data"
    },
    {
     "name": "stdout",
     "output_type": "stream",
     "text": [
      "Training Loss: 3.5667. Validation Loss: 3.5324.\n",
      "Training Accuracy: 0.0677. Validation Accuracy: 0.0163.\n",
      "-----------------------------------\n",
      "Epoch 4\n",
      "-----------------------------------\n"
     ]
    },
    {
     "data": {
      "application/vnd.jupyter.widget-view+json": {
       "model_id": "2ad993df100741a3b1fa3ee69c5b552e",
       "version_major": 2,
       "version_minor": 0
      },
      "text/plain": [
       "Training:   0%|          | 0/46 [00:00<?, ?it/s]"
      ]
     },
     "metadata": {},
     "output_type": "display_data"
    },
    {
     "name": "stdout",
     "output_type": "stream",
     "text": [
      "Training Loss: 3.5061. Validation Loss: 3.5044.\n",
      "Training Accuracy: 0.0733. Validation Accuracy: 0.0163.\n",
      "-----------------------------------\n",
      "Epoch 5\n",
      "-----------------------------------\n"
     ]
    },
    {
     "data": {
      "application/vnd.jupyter.widget-view+json": {
       "model_id": "88a157a2fb604e79b1159fa451fda610",
       "version_major": 2,
       "version_minor": 0
      },
      "text/plain": [
       "Training:   0%|          | 0/46 [00:00<?, ?it/s]"
      ]
     },
     "metadata": {},
     "output_type": "display_data"
    },
    {
     "name": "stdout",
     "output_type": "stream",
     "text": [
      "Training Loss: 3.4583. Validation Loss: 3.4897.\n",
      "Training Accuracy: 0.0804. Validation Accuracy: 0.0196.\n",
      "-----------------------------------\n",
      "Epoch 6\n",
      "-----------------------------------\n"
     ]
    },
    {
     "data": {
      "application/vnd.jupyter.widget-view+json": {
       "model_id": "f20a42d52baa498b81917bc2e5714ebc",
       "version_major": 2,
       "version_minor": 0
      },
      "text/plain": [
       "Training:   0%|          | 0/46 [00:00<?, ?it/s]"
      ]
     },
     "metadata": {},
     "output_type": "display_data"
    },
    {
     "name": "stdout",
     "output_type": "stream",
     "text": [
      "Training Loss: 3.4266. Validation Loss: 3.4779.\n",
      "Training Accuracy: 0.0899. Validation Accuracy: 0.0261.\n",
      "-----------------------------------\n",
      "Epoch 7\n",
      "-----------------------------------\n"
     ]
    },
    {
     "data": {
      "application/vnd.jupyter.widget-view+json": {
       "model_id": "78484b648c7e4134bc1d9deed1b068c8",
       "version_major": 2,
       "version_minor": 0
      },
      "text/plain": [
       "Training:   0%|          | 0/46 [00:00<?, ?it/s]"
      ]
     },
     "metadata": {},
     "output_type": "display_data"
    },
    {
     "name": "stdout",
     "output_type": "stream",
     "text": [
      "Training Loss: 3.4001. Validation Loss: 3.4661.\n",
      "Training Accuracy: 0.0930. Validation Accuracy: 0.0327.\n",
      "-----------------------------------\n",
      "Epoch 8\n",
      "-----------------------------------\n"
     ]
    },
    {
     "data": {
      "application/vnd.jupyter.widget-view+json": {
       "model_id": "11051588898d4e47a63be028589ab124",
       "version_major": 2,
       "version_minor": 0
      },
      "text/plain": [
       "Training:   0%|          | 0/46 [00:00<?, ?it/s]"
      ]
     },
     "metadata": {},
     "output_type": "display_data"
    },
    {
     "name": "stdout",
     "output_type": "stream",
     "text": [
      "Training Loss: 3.3740. Validation Loss: 3.4407.\n",
      "Training Accuracy: 0.0944. Validation Accuracy: 0.0425.\n",
      "-----------------------------------\n",
      "Epoch 9\n",
      "-----------------------------------\n"
     ]
    },
    {
     "data": {
      "application/vnd.jupyter.widget-view+json": {
       "model_id": "b142d63f445b4d00b2eec02535b0d8f6",
       "version_major": 2,
       "version_minor": 0
      },
      "text/plain": [
       "Training:   0%|          | 0/46 [00:00<?, ?it/s]"
      ]
     },
     "metadata": {},
     "output_type": "display_data"
    },
    {
     "name": "stdout",
     "output_type": "stream",
     "text": [
      "Training Loss: 3.3431. Validation Loss: 3.4417.\n",
      "Training Accuracy: 0.0971. Validation Accuracy: 0.0490.\n",
      "-----------------------------------\n",
      "Epoch 10\n",
      "-----------------------------------\n"
     ]
    },
    {
     "data": {
      "application/vnd.jupyter.widget-view+json": {
       "model_id": "be07326d4bcf438b825c7cf3a36d3e97",
       "version_major": 2,
       "version_minor": 0
      },
      "text/plain": [
       "Training:   0%|          | 0/46 [00:00<?, ?it/s]"
      ]
     },
     "metadata": {},
     "output_type": "display_data"
    },
    {
     "name": "stdout",
     "output_type": "stream",
     "text": [
      "Training Loss: 3.3284. Validation Loss: 3.4413.\n",
      "Training Accuracy: 0.0966. Validation Accuracy: 0.0425.\n",
      "-----------------------------------\n",
      "Epoch 11\n",
      "-----------------------------------\n"
     ]
    },
    {
     "data": {
      "application/vnd.jupyter.widget-view+json": {
       "model_id": "9cb1303aa6a6445f8dafaf76c69a21ca",
       "version_major": 2,
       "version_minor": 0
      },
      "text/plain": [
       "Training:   0%|          | 0/46 [00:00<?, ?it/s]"
      ]
     },
     "metadata": {},
     "output_type": "display_data"
    },
    {
     "name": "stdout",
     "output_type": "stream",
     "text": [
      "Training Loss: 3.3187. Validation Loss: 3.4350.\n",
      "Training Accuracy: 0.0999. Validation Accuracy: 0.0392.\n",
      "-----------------------------------\n",
      "Epoch 12\n",
      "-----------------------------------\n"
     ]
    },
    {
     "data": {
      "application/vnd.jupyter.widget-view+json": {
       "model_id": "31a4cab4c19447d1b5eb93b50b8bea93",
       "version_major": 2,
       "version_minor": 0
      },
      "text/plain": [
       "Training:   0%|          | 0/46 [00:00<?, ?it/s]"
      ]
     },
     "metadata": {},
     "output_type": "display_data"
    },
    {
     "name": "stdout",
     "output_type": "stream",
     "text": [
      "Training Loss: 3.3042. Validation Loss: 3.4333.\n",
      "Training Accuracy: 0.1116. Validation Accuracy: 0.0392.\n",
      "-----------------------------------\n",
      "Epoch 13\n",
      "-----------------------------------\n"
     ]
    },
    {
     "data": {
      "application/vnd.jupyter.widget-view+json": {
       "model_id": "19d7e08b93a34959badd36248857b010",
       "version_major": 2,
       "version_minor": 0
      },
      "text/plain": [
       "Training:   0%|          | 0/46 [00:00<?, ?it/s]"
      ]
     },
     "metadata": {},
     "output_type": "display_data"
    },
    {
     "name": "stdout",
     "output_type": "stream",
     "text": [
      "Training Loss: 3.2957. Validation Loss: 3.4323.\n",
      "Training Accuracy: 0.1135. Validation Accuracy: 0.0458.\n",
      "-----------------------------------\n",
      "Epoch 14\n",
      "-----------------------------------\n"
     ]
    },
    {
     "data": {
      "application/vnd.jupyter.widget-view+json": {
       "model_id": "ee3138abe6ee480b9e30f1e2c75e92f0",
       "version_major": 2,
       "version_minor": 0
      },
      "text/plain": [
       "Training:   0%|          | 0/46 [00:00<?, ?it/s]"
      ]
     },
     "metadata": {},
     "output_type": "display_data"
    },
    {
     "name": "stdout",
     "output_type": "stream",
     "text": [
      "Training Loss: 3.2839. Validation Loss: 3.4339.\n",
      "Training Accuracy: 0.1216. Validation Accuracy: 0.0458.\n",
      "-----------------------------------\n",
      "Epoch 15\n",
      "-----------------------------------\n"
     ]
    },
    {
     "data": {
      "application/vnd.jupyter.widget-view+json": {
       "model_id": "33eeff40d3d240819f1cb0b52b7e8417",
       "version_major": 2,
       "version_minor": 0
      },
      "text/plain": [
       "Training:   0%|          | 0/46 [00:00<?, ?it/s]"
      ]
     },
     "metadata": {},
     "output_type": "display_data"
    },
    {
     "name": "stdout",
     "output_type": "stream",
     "text": [
      "Training Loss: 3.2673. Validation Loss: 3.4383.\n",
      "Training Accuracy: 0.1317. Validation Accuracy: 0.0458.\n",
      "-----------------------------------\n",
      "Epoch 16\n",
      "-----------------------------------\n"
     ]
    },
    {
     "data": {
      "application/vnd.jupyter.widget-view+json": {
       "model_id": "7a61440b2719442a8a7241e87fb43166",
       "version_major": 2,
       "version_minor": 0
      },
      "text/plain": [
       "Training:   0%|          | 0/46 [00:00<?, ?it/s]"
      ]
     },
     "metadata": {},
     "output_type": "display_data"
    },
    {
     "name": "stdout",
     "output_type": "stream",
     "text": [
      "Training Loss: 3.2446. Validation Loss: 3.4275.\n",
      "Training Accuracy: 0.1538. Validation Accuracy: 0.0425.\n",
      "-----------------------------------\n",
      "Epoch 17\n",
      "-----------------------------------\n"
     ]
    },
    {
     "data": {
      "application/vnd.jupyter.widget-view+json": {
       "model_id": "68970de0ee4c4cbba55cf08232f71a88",
       "version_major": 2,
       "version_minor": 0
      },
      "text/plain": [
       "Training:   0%|          | 0/46 [00:00<?, ?it/s]"
      ]
     },
     "metadata": {},
     "output_type": "display_data"
    },
    {
     "name": "stdout",
     "output_type": "stream",
     "text": [
      "Training Loss: 3.2187. Validation Loss: 3.4170.\n",
      "Training Accuracy: 0.1620. Validation Accuracy: 0.0458.\n",
      "-----------------------------------\n",
      "Epoch 18\n",
      "-----------------------------------\n"
     ]
    },
    {
     "data": {
      "application/vnd.jupyter.widget-view+json": {
       "model_id": "6bbe85ea5f044d658cda26232049e120",
       "version_major": 2,
       "version_minor": 0
      },
      "text/plain": [
       "Training:   0%|          | 0/46 [00:00<?, ?it/s]"
      ]
     },
     "metadata": {},
     "output_type": "display_data"
    },
    {
     "name": "stdout",
     "output_type": "stream",
     "text": [
      "Training Loss: 3.1865. Validation Loss: 3.4323.\n",
      "Training Accuracy: 0.1796. Validation Accuracy: 0.0458.\n",
      "-----------------------------------\n",
      "Epoch 19\n",
      "-----------------------------------\n"
     ]
    },
    {
     "data": {
      "application/vnd.jupyter.widget-view+json": {
       "model_id": "4b9bcbce81694a908830eba176c67d8d",
       "version_major": 2,
       "version_minor": 0
      },
      "text/plain": [
       "Training:   0%|          | 0/46 [00:00<?, ?it/s]"
      ]
     },
     "metadata": {},
     "output_type": "display_data"
    },
    {
     "name": "stdout",
     "output_type": "stream",
     "text": [
      "Training Loss: 3.1470. Validation Loss: 3.4164.\n",
      "Training Accuracy: 0.2111. Validation Accuracy: 0.0425.\n",
      "-----------------------------------\n",
      "Epoch 20\n",
      "-----------------------------------\n"
     ]
    },
    {
     "data": {
      "application/vnd.jupyter.widget-view+json": {
       "model_id": "9c33d9e90e1e4d2992a8011d0635a319",
       "version_major": 2,
       "version_minor": 0
      },
      "text/plain": [
       "Training:   0%|          | 0/46 [00:00<?, ?it/s]"
      ]
     },
     "metadata": {},
     "output_type": "display_data"
    },
    {
     "name": "stdout",
     "output_type": "stream",
     "text": [
      "Training Loss: 3.1107. Validation Loss: 3.3954.\n",
      "Training Accuracy: 0.2323. Validation Accuracy: 0.0425.\n",
      "-----------------------------------\n",
      "Epoch 21\n",
      "-----------------------------------\n"
     ]
    },
    {
     "data": {
      "application/vnd.jupyter.widget-view+json": {
       "model_id": "7510b9d9edf14bb38f2bdaf1e90e3344",
       "version_major": 2,
       "version_minor": 0
      },
      "text/plain": [
       "Training:   0%|          | 0/46 [00:00<?, ?it/s]"
      ]
     },
     "metadata": {},
     "output_type": "display_data"
    },
    {
     "name": "stdout",
     "output_type": "stream",
     "text": [
      "Training Loss: 3.0684. Validation Loss: 3.3876.\n",
      "Training Accuracy: 0.2521. Validation Accuracy: 0.0425.\n",
      "-----------------------------------\n",
      "Epoch 22\n",
      "-----------------------------------\n"
     ]
    },
    {
     "data": {
      "application/vnd.jupyter.widget-view+json": {
       "model_id": "f5c90e918da143f992ba55246596a245",
       "version_major": 2,
       "version_minor": 0
      },
      "text/plain": [
       "Training:   0%|          | 0/46 [00:00<?, ?it/s]"
      ]
     },
     "metadata": {},
     "output_type": "display_data"
    },
    {
     "name": "stdout",
     "output_type": "stream",
     "text": [
      "Training Loss: 3.0138. Validation Loss: 3.4463.\n",
      "Training Accuracy: 0.2713. Validation Accuracy: 0.0458.\n",
      "-----------------------------------\n",
      "Epoch 23\n",
      "-----------------------------------\n"
     ]
    },
    {
     "data": {
      "application/vnd.jupyter.widget-view+json": {
       "model_id": "c8bbdb96d1344c8a8a46972c8d36bdb0",
       "version_major": 2,
       "version_minor": 0
      },
      "text/plain": [
       "Training:   0%|          | 0/46 [00:00<?, ?it/s]"
      ]
     },
     "metadata": {},
     "output_type": "display_data"
    },
    {
     "name": "stdout",
     "output_type": "stream",
     "text": [
      "Training Loss: 3.0523. Validation Loss: 3.3972.\n",
      "Training Accuracy: 0.2540. Validation Accuracy: 0.0654.\n",
      "-----------------------------------\n",
      "Epoch 24\n",
      "-----------------------------------\n"
     ]
    },
    {
     "data": {
      "application/vnd.jupyter.widget-view+json": {
       "model_id": "01e5730daa1345b4b16ad3ec4b9b94f3",
       "version_major": 2,
       "version_minor": 0
      },
      "text/plain": [
       "Training:   0%|          | 0/46 [00:00<?, ?it/s]"
      ]
     },
     "metadata": {},
     "output_type": "display_data"
    },
    {
     "name": "stdout",
     "output_type": "stream",
     "text": [
      "Training Loss: 3.0044. Validation Loss: 3.4552.\n",
      "Training Accuracy: 0.2564. Validation Accuracy: 0.0490.\n",
      "-----------------------------------\n",
      "Epoch 25\n",
      "-----------------------------------\n"
     ]
    },
    {
     "data": {
      "application/vnd.jupyter.widget-view+json": {
       "model_id": "99bd339a13c34d1eab241d846f1d78c9",
       "version_major": 2,
       "version_minor": 0
      },
      "text/plain": [
       "Training:   0%|          | 0/46 [00:00<?, ?it/s]"
      ]
     },
     "metadata": {},
     "output_type": "display_data"
    },
    {
     "name": "stdout",
     "output_type": "stream",
     "text": [
      "Training Loss: 2.9573. Validation Loss: 3.4448.\n",
      "Training Accuracy: 0.2762. Validation Accuracy: 0.0490.\n",
      "-----------------------------------\n",
      "Epoch 26\n",
      "-----------------------------------\n"
     ]
    },
    {
     "data": {
      "application/vnd.jupyter.widget-view+json": {
       "model_id": "15350b3469334290a94adc3b86ef82db",
       "version_major": 2,
       "version_minor": 0
      },
      "text/plain": [
       "Training:   0%|          | 0/46 [00:00<?, ?it/s]"
      ]
     },
     "metadata": {},
     "output_type": "display_data"
    },
    {
     "name": "stdout",
     "output_type": "stream",
     "text": [
      "Training Loss: 2.9182. Validation Loss: 3.4329.\n",
      "Training Accuracy: 0.2850. Validation Accuracy: 0.0425.\n",
      "EARLY STOP E:26 L:3.4329\n"
     ]
    },
    {
     "data": {
      "image/png": "[encoded data removed]",
      "text/plain": [
       "<Figure size 800x600 with 1 Axes>"
      ]
     },
     "metadata": {},
     "output_type": "display_data"
    },
    {
     "data": {
      "image/png": "[encoded data removed]",
      "text/plain": [
       "<Figure size 800x600 with 1 Axes>"
      ]
     },
     "metadata": {},
     "output_type": "display_data"
    },
    {
     "data": {
      "text/plain": [
       "1036.600022315979"
      ]
     },
     "execution_count": 6,
     "metadata": {},
     "output_type": "execute_result"
    }
   ],
   "source": [
    "from models.FourierS2S import FourierS2S\n",
    "\n",
    "model = FourierS2S(4096, 256, 2048, 64, 256, num_classes, 32796, device)\n",
    "\n",
    "optimizer = optim.Adam(model.parameters(), lr=0.0001)\n",
    "criterion = nn.CrossEntropyLoss()\n",
    "scheduler = optim.lr_scheduler.StepLR(optimizer, 20)\n",
    "\n",
    "\n",
    "# Initialize Solver for CRNNModel\n",
    "fourierS2S_solver = Solver(\n",
    "    model=model,\n",
    "    optimizer=optimizer,\n",
    "    criterion=criterion,\n",
    "    scheduler=scheduler,\n",
    "    train_dataloader=train_loader,\n",
    "    valid_dataloader=test_loader,\n",
    "    batch_size=128,\n",
    "    epochs=40,\n",
    "    device=device,\n",
    "    early_stop_epochs=5,\n",
    "    warmup_epochs=2,\n",
    "    optuna_prune=False\n",
    ")\n",
    "fourierS2S_solver.train_and_evaluate(plot_results=True)"
   ]
  },
  {
   "cell_type": "code",
   "execution_count": null,
   "metadata": {},
   "outputs": [],
   "source": []
  }
 ],
 "metadata": {
  "kernelspec": {
   "display_name": "amadeus-ex-machina",
   "language": "python",
   "name": "python3"
  },
  "language_info": {
   "codemirror_mode": {
    "name": "ipython",
    "version": 3
   },
   "file_extension": ".py",
   "mimetype": "text/x-python",
   "name": "python",
   "nbconvert_exporter": "python",
   "pygments_lexer": "ipython3",
   "version": "3.11.0"
  }
 },
 "nbformat": 4,
 "nbformat_minor": 2
}
