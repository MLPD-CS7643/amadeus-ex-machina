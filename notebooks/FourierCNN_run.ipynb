{
 "cells": [
  {
   "cell_type": "code",
   "execution_count": 1,
   "metadata": {},
   "outputs": [
    {
     "name": "stderr",
     "output_type": "stream",
     "text": [
      "c:\\Users\\mattb\\miniconda3\\envs\\amadeus-ex-machina\\Lib\\site-packages\\tqdm_joblib\\__init__.py:4: TqdmExperimentalWarning: Using `tqdm.autonotebook.tqdm` in notebook mode. Use `tqdm.tqdm` instead to force console mode (e.g. in jupyter console)\n",
      "  from tqdm.autonotebook import tqdm\n"
     ]
    },
    {
     "name": "stdout",
     "output_type": "stream",
     "text": [
      "Device is cuda\n"
     ]
    }
   ],
   "source": [
    "\n",
    "\n",
    "# System imports\n",
    "import sys\n",
    "import os\n",
    "\n",
    "# Add the parent directory of 'notebooks' to sys.path\n",
    "parent_dir = os.path.abspath(os.path.join(os.getcwd(), \"..\"))  # Move one level up\n",
    "if parent_dir not in sys.path:\n",
    "    sys.path.append(parent_dir)\n",
    "\n",
    "# Class/model imports\n",
    "from data.data_loader import MirDataProcessor\n",
    "from utils.model_utils import get_device\n",
    "from solver import Solver\n",
    "\n",
    "# Package imports\n",
    "import torch\n",
    "import torch.optim as optim\n",
    "import torch.nn as nn\n",
    "\n",
    "# Select device\n",
    "device = get_device()\n",
    "print(f\"Device is {device}\")"
   ]
  },
  {
   "cell_type": "code",
   "execution_count": 25,
   "metadata": {},
   "outputs": [
    {
     "name": "stderr",
     "output_type": "stream",
     "text": [
      "WARNING: Zip and tar files will be deleted after they are uncompressed. If you download this dataset again, it will overwrite existing files, even if force_overwrite=False\n",
      "INFO: Downloading ['annotations', 'audio_hex_debleeded', 'audio_hex_original', 'audio_mic', 'audio_mix', 'index']. Index is being stored in C:\\Users\\mattb\\miniconda3\\envs\\amadeus-ex-machina\\Lib\\site-packages\\mirdata\\datasets\\indexes, and the rest of files in c:\\Users\\mattb\\Documents\\CS7643\\Final Project\\amadeus-ex-machina\\data\\raw\n",
      "INFO: [annotations] downloading annotation.zip\n",
      "37.3MB [00:02, 14.5MB/s]                              \n",
      "INFO: [audio_hex_debleeded] downloading audio_hex-pickup_debleeded.zip\n",
      "3.36GB [02:29, 24.1MB/s]                               \n",
      "INFO: [audio_hex_original] downloading audio_hex-pickup_original.zip\n",
      "2.99GB [01:57, 27.2MB/s]                               \n",
      "INFO: [audio_mic] downloading audio_mono-mic.zip\n",
      "626MB [00:25, 25.8MB/s]                               \n",
      "INFO: [audio_mix] downloading audio_mono-pickup_mix.zip\n",
      "652MB [00:33, 20.4MB/s]                               \n",
      "INFO: [index] downloading guitarset_index_1.1.0.json\n",
      "248kB [00:00, 372kB/s]                             \n"
     ]
    }
   ],
   "source": [
    "# Download and build useable train/test data out of the MIR Billboard dataset\n",
    "data_processer = MirDataProcessor(download=True, batch_size=64, dataset_name=\"guitarset\")\n"
   ]
  },
  {
   "cell_type": "code",
   "execution_count": 73,
   "metadata": {},
   "outputs": [
    {
     "name": "stdout",
     "output_type": "stream",
     "text": [
      "The autoreload extension is already loaded. To reload it, use:\n",
      "  %reload_ext autoreload\n",
      "Found 360 tracks in the dataset.\n",
      "Processing dataset as sequential data\n",
      "Processed track 00_BN1-129-Eb_comp and appended data to combined CSV.\n",
      "Processing dataset as sequential data\n",
      "Processed track 00_BN1-129-Eb_solo and appended data to combined CSV.\n",
      "Processing dataset as sequential data\n",
      "Processed track 00_BN1-147-Gb_comp and appended data to combined CSV.\n",
      "Processing dataset as sequential data\n",
      "Processed track 00_BN1-147-Gb_solo and appended data to combined CSV.\n",
      "Processing dataset as sequential data\n",
      "Processed track 00_BN2-131-B_comp and appended data to combined CSV.\n",
      "Processing dataset as sequential data\n",
      "Processed track 00_BN2-131-B_solo and appended data to combined CSV.\n",
      "Processing dataset as sequential data\n",
      "Processed track 00_BN2-166-Ab_comp and appended data to combined CSV.\n",
      "Processing dataset as sequential data\n",
      "Processed track 00_BN2-166-Ab_solo and appended data to combined CSV.\n",
      "Processing dataset as sequential data\n",
      "Processed track 00_BN3-119-G_comp and appended data to combined CSV.\n",
      "Processing dataset as sequential data\n",
      "Processed track 00_BN3-119-G_solo and appended data to combined CSV.\n",
      "Processing dataset as sequential data\n",
      "Processed track 00_BN3-154-E_comp and appended data to combined CSV.\n",
      "Processing dataset as sequential data\n",
      "Processed track 00_BN3-154-E_solo and appended data to combined CSV.\n",
      "Processing dataset as sequential data\n",
      "Processed track 00_Funk1-114-Ab_comp and appended data to combined CSV.\n",
      "Processing dataset as sequential data\n",
      "Processed track 00_Funk1-114-Ab_solo and appended data to combined CSV.\n",
      "Processing dataset as sequential data\n",
      "Processed track 00_Funk1-97-C_comp and appended data to combined CSV.\n",
      "Processing dataset as sequential data\n",
      "Processed track 00_Funk1-97-C_solo and appended data to combined CSV.\n",
      "Processing dataset as sequential data\n",
      "Processed track 00_Funk2-108-Eb_comp and appended data to combined CSV.\n",
      "Processing dataset as sequential data\n",
      "Processed track 00_Funk2-108-Eb_solo and appended data to combined CSV.\n",
      "Processing dataset as sequential data\n",
      "Processed track 00_Funk2-119-G_comp and appended data to combined CSV.\n",
      "Processing dataset as sequential data\n",
      "Processed track 00_Funk2-119-G_solo and appended data to combined CSV.\n",
      "All data processed and saved to c:\\Users\\mattb\\Documents\\CS7643\\Final Project\\amadeus-ex-machina\\data\\processed\\combined_data.csv\n"
     ]
    }
   ],
   "source": [
    "%load_ext autoreload\n",
    "\n",
    "%autoreload 2\n",
    "\n",
    "from data.data_loader import MirDataProcessor\n",
    "data_processer = MirDataProcessor(download=False, batch_size=64, dataset_name=\"guitarset\", process_sequential=True, seq_length=4096)\n",
    "\n",
    "data_processer.process_wav_data(20)"
   ]
  },
  {
   "cell_type": "code",
   "execution_count": 74,
   "metadata": {},
   "outputs": [
    {
     "name": "stdout",
     "output_type": "stream",
     "text": [
      "Preparing model data...\n",
      "Loading the combined CSV file...\n",
      "Separating song IDs, features, and labels...\n",
      "Scaling features using MinMaxScaler...\n",
      "Encoding labels using LabelEncoder...\n",
      "Saving the scaler to c:\\Users\\mattb\\Documents\\CS7643\\Final Project\\amadeus-ex-machina\\data\\processed\\scaler.pkl...\n",
      "Saving the label encoder to c:\\Users\\mattb\\Documents\\CS7643\\Final Project\\amadeus-ex-machina\\data\\processed\\label_encoder.pkl...\n",
      "Creating sequences of chromagram data within song boundaries...\n",
      "Splitting data into training and testing sets...\n",
      "Data preparation complete.\n",
      "Number of classes determined: 30\n",
      "Creating TensorDatasets for training and testing data...\n",
      "Creating DataLoaders for training and testing datasets...\n",
      "Data loaders are ready for training and testing.\n",
      "Number of classes: 30\n"
     ]
    }
   ],
   "source": [
    "# Create data loeaders for train and test set\n",
    "train_loader, test_loader, num_classes = data_processer.build_data_loaders(None, device)\n",
    "\n",
    "print(f\"Number of classes: {num_classes}\")"
   ]
  },
  {
   "cell_type": "code",
   "execution_count": 75,
   "metadata": {},
   "outputs": [
    {
     "name": "stdout",
     "output_type": "stream",
     "text": [
      "-----------------------------------\n",
      "Epoch 1\n",
      "-----------------------------------\n"
     ]
    },
    {
     "data": {
      "application/vnd.jupyter.widget-view+json": {
       "model_id": "8ed1d41ac83f499fb2ff23931f36af63",
       "version_major": 2,
       "version_minor": 0
      },
      "text/plain": [
       "Training:   0%|          | 0/2 [00:00<?, ?it/s]"
      ]
     },
     "metadata": {},
     "output_type": "display_data"
    },
    {
     "name": "stdout",
     "output_type": "stream",
     "text": [
      "Training Loss: 3.4324. Validation Loss: 3.4206.\n",
      "Training Accuracy: 0.0653. Validation Accuracy: 0.0836.\n",
      "-----------------------------------\n",
      "Epoch 2\n",
      "-----------------------------------\n"
     ]
    },
    {
     "data": {
      "application/vnd.jupyter.widget-view+json": {
       "model_id": "a6d4674146be4f2bb3fb7aec1acb8757",
       "version_major": 2,
       "version_minor": 0
      },
      "text/plain": [
       "Training:   0%|          | 0/2 [00:00<?, ?it/s]"
      ]
     },
     "metadata": {},
     "output_type": "display_data"
    },
    {
     "name": "stdout",
     "output_type": "stream",
     "text": [
      "Training Loss: 3.4231. Validation Loss: 3.4050.\n",
      "Training Accuracy: 0.0657. Validation Accuracy: 0.0836.\n",
      "-----------------------------------\n",
      "Epoch 3\n",
      "-----------------------------------\n"
     ]
    },
    {
     "data": {
      "application/vnd.jupyter.widget-view+json": {
       "model_id": "2ffb5f4dd1d04f62be11848b977de877",
       "version_major": 2,
       "version_minor": 0
      },
      "text/plain": [
       "Training:   0%|          | 0/2 [00:00<?, ?it/s]"
      ]
     },
     "metadata": {},
     "output_type": "display_data"
    },
    {
     "name": "stdout",
     "output_type": "stream",
     "text": [
      "Training Loss: 3.4044. Validation Loss: 3.3897.\n",
      "Training Accuracy: 0.0689. Validation Accuracy: 0.0836.\n",
      "-----------------------------------\n",
      "Epoch 4\n",
      "-----------------------------------\n"
     ]
    },
    {
     "data": {
      "application/vnd.jupyter.widget-view+json": {
       "model_id": "4cd3be316da14481b61ceaedfa6512ca",
       "version_major": 2,
       "version_minor": 0
      },
      "text/plain": [
       "Training:   0%|          | 0/2 [00:00<?, ?it/s]"
      ]
     },
     "metadata": {},
     "output_type": "display_data"
    },
    {
     "name": "stdout",
     "output_type": "stream",
     "text": [
      "Training Loss: 3.3880. Validation Loss: 3.3751.\n",
      "Training Accuracy: 0.0719. Validation Accuracy: 0.0836.\n",
      "-----------------------------------\n",
      "Epoch 5\n",
      "-----------------------------------\n"
     ]
    },
    {
     "data": {
      "application/vnd.jupyter.widget-view+json": {
       "model_id": "2641be69f4a6466eb36946c7f1ff31d2",
       "version_major": 2,
       "version_minor": 0
      },
      "text/plain": [
       "Training:   0%|          | 0/2 [00:00<?, ?it/s]"
      ]
     },
     "metadata": {},
     "output_type": "display_data"
    },
    {
     "name": "stdout",
     "output_type": "stream",
     "text": [
      "Training Loss: 3.3754. Validation Loss: 3.3612.\n",
      "Training Accuracy: 0.0735. Validation Accuracy: 0.0845.\n",
      "-----------------------------------\n",
      "Epoch 6\n",
      "-----------------------------------\n"
     ]
    },
    {
     "data": {
      "application/vnd.jupyter.widget-view+json": {
       "model_id": "a7de6f3a89e543ac98990e1f2dad5a97",
       "version_major": 2,
       "version_minor": 0
      },
      "text/plain": [
       "Training:   0%|          | 0/2 [00:00<?, ?it/s]"
      ]
     },
     "metadata": {},
     "output_type": "display_data"
    },
    {
     "name": "stdout",
     "output_type": "stream",
     "text": [
      "Training Loss: 3.3578. Validation Loss: 3.3476.\n",
      "Training Accuracy: 0.0729. Validation Accuracy: 0.0836.\n",
      "-----------------------------------\n",
      "Epoch 7\n",
      "-----------------------------------\n"
     ]
    },
    {
     "data": {
      "application/vnd.jupyter.widget-view+json": {
       "model_id": "1c82bde365d04a369864d6eb7e6447cb",
       "version_major": 2,
       "version_minor": 0
      },
      "text/plain": [
       "Training:   0%|          | 0/2 [00:00<?, ?it/s]"
      ]
     },
     "metadata": {},
     "output_type": "display_data"
    },
    {
     "name": "stdout",
     "output_type": "stream",
     "text": [
      "Training Loss: 3.3404. Validation Loss: 3.3345.\n",
      "Training Accuracy: 0.0769. Validation Accuracy: 0.0836.\n",
      "-----------------------------------\n",
      "Epoch 8\n",
      "-----------------------------------\n"
     ]
    },
    {
     "data": {
      "application/vnd.jupyter.widget-view+json": {
       "model_id": "54465d3b48094973aba5dbd8fba5d2e1",
       "version_major": 2,
       "version_minor": 0
      },
      "text/plain": [
       "Training:   0%|          | 0/2 [00:00<?, ?it/s]"
      ]
     },
     "metadata": {},
     "output_type": "display_data"
    },
    {
     "name": "stdout",
     "output_type": "stream",
     "text": [
      "Training Loss: 3.3263. Validation Loss: 3.3219.\n",
      "Training Accuracy: 0.0807. Validation Accuracy: 0.0836.\n",
      "-----------------------------------\n",
      "Epoch 9\n",
      "-----------------------------------\n"
     ]
    },
    {
     "data": {
      "application/vnd.jupyter.widget-view+json": {
       "model_id": "848e13ec496e4490aba5ae2a1a3021ab",
       "version_major": 2,
       "version_minor": 0
      },
      "text/plain": [
       "Training:   0%|          | 0/2 [00:00<?, ?it/s]"
      ]
     },
     "metadata": {},
     "output_type": "display_data"
    },
    {
     "name": "stdout",
     "output_type": "stream",
     "text": [
      "Training Loss: 3.3106. Validation Loss: 3.3096.\n",
      "Training Accuracy: 0.0809. Validation Accuracy: 0.0836.\n",
      "-----------------------------------\n",
      "Epoch 10\n",
      "-----------------------------------\n"
     ]
    },
    {
     "data": {
      "application/vnd.jupyter.widget-view+json": {
       "model_id": "f7a882b9424948d19db73ec8661fb1db",
       "version_major": 2,
       "version_minor": 0
      },
      "text/plain": [
       "Training:   0%|          | 0/2 [00:00<?, ?it/s]"
      ]
     },
     "metadata": {},
     "output_type": "display_data"
    },
    {
     "name": "stdout",
     "output_type": "stream",
     "text": [
      "Training Loss: 3.2961. Validation Loss: 3.2978.\n",
      "Training Accuracy: 0.0828. Validation Accuracy: 0.0836.\n"
     ]
    },
    {
     "data": {
      "image/png": "[encoded data removed]",
      "text/plain": [
       "<Figure size 800x600 with 1 Axes>"
      ]
     },
     "metadata": {},
     "output_type": "display_data"
    },
    {
     "data": {
      "image/png": "[encoded data removed]",
      "text/plain": [
       "<Figure size 800x600 with 1 Axes>"
      ]
     },
     "metadata": {},
     "output_type": "display_data"
    }
   ],
   "source": [
    "from models.FourierS2S import FourierS2S\n",
    "\n",
    "model = FourierS2S(512, 512, 512, 64, 64, num_classes, 4096, device)\n",
    "\n",
    "optimizer = optim.Adam(model.parameters(), lr=0.001)\n",
    "criterion = nn.CrossEntropyLoss()\n",
    "scheduler = optim.lr_scheduler.ReduceLROnPlateau(optimizer, mode='min', patience=3)\n",
    "\n",
    "\n",
    "# Initialize Solver for CRNNModel\n",
    "fourierS2S_solver = Solver(\n",
    "    model=model,\n",
    "    optimizer=optimizer,\n",
    "    criterion=criterion,\n",
    "    scheduler=scheduler,\n",
    "    train_dataloader=train_loader,\n",
    "    valid_dataloader=test_loader,\n",
    "    batch_size=4096,\n",
    "    epochs=10,\n",
    "    device=device,\n",
    "    early_stop_epochs=3,\n",
    "    warmup_epochs=2,\n",
    "    optuna_prune=False\n",
    ")\n",
    "fourierS2S_solver.train_and_evaluate(plot_results=True)"
   ]
  },
  {
   "cell_type": "code",
   "execution_count": null,
   "metadata": {},
   "outputs": [],
   "source": []
  }
 ],
 "metadata": {
  "kernelspec": {
   "display_name": "amadeus-ex-machina",
   "language": "python",
   "name": "python3"
  },
  "language_info": {
   "codemirror_mode": {
    "name": "ipython",
    "version": 3
   },
   "file_extension": ".py",
   "mimetype": "text/x-python",
   "name": "python",
   "nbconvert_exporter": "python",
   "pygments_lexer": "ipython3",
   "version": "3.11.0"
  }
 },
 "nbformat": 4,
 "nbformat_minor": 2
}
