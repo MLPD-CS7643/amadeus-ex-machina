{
 "cells": [
  {
   "cell_type": "code",
   "execution_count": 26,
   "metadata": {},
   "outputs": [
    {
     "name": "stdout",
     "output_type": "stream",
     "text": [
      "Device is cuda\n"
     ]
    }
   ],
   "source": [
    "\n",
    "\n",
    "# System imports\n",
    "import sys\n",
    "import os\n",
    "\n",
    "# Add the parent directory of 'notebooks' to sys.path\n",
    "parent_dir = os.path.abspath(os.path.join(os.getcwd(), \"..\"))  # Move one level up\n",
    "if parent_dir not in sys.path:\n",
    "    sys.path.append(parent_dir)\n",
    "\n",
    "# Class/model imports\n",
    "from data.data_loader import MirDataProcessor\n",
    "from utils.model_utils import get_device\n",
    "from solver import Solver\n",
    "\n",
    "# Package imports\n",
    "import torch\n",
    "import torch.optim as optim\n",
    "import torch.nn as nn\n",
    "\n",
    "# Select device\n",
    "device = get_device()\n",
    "print(f\"Device is {device}\")"
   ]
  },
  {
   "cell_type": "code",
   "execution_count": null,
   "metadata": {},
   "outputs": [
    {
     "name": "stderr",
     "output_type": "stream",
     "text": [
      "WARNING: Zip and tar files will be deleted after they are uncompressed. If you download this dataset again, it will overwrite existing files, even if force_overwrite=False\n",
      "INFO: Downloading ['annotations', 'audio_hex_debleeded', 'audio_hex_original', 'audio_mic', 'audio_mix', 'index']. Index is being stored in C:\\Users\\mattb\\miniconda3\\envs\\amadeus-ex-machina\\Lib\\site-packages\\mirdata\\datasets\\indexes, and the rest of files in c:\\Users\\mattb\\Documents\\CS7643\\Final Project\\amadeus-ex-machina\\data\\raw\n",
      "INFO: [annotations] downloading annotation.zip\n",
      "37.3MB [00:02, 14.7MB/s]                              \n",
      "INFO: [audio_hex_debleeded] downloading audio_hex-pickup_debleeded.zip\n",
      "3.36GB [02:23, 25.2MB/s]                               \n",
      "INFO: [audio_hex_original] downloading audio_hex-pickup_original.zip\n",
      "2.99GB [01:59, 26.8MB/s]                               \n",
      "INFO: [audio_mic] downloading audio_mono-mic.zip\n",
      "626MB [00:25, 26.1MB/s]                               \n",
      "INFO: [audio_mix] downloading audio_mono-pickup_mix.zip\n",
      "652MB [00:25, 26.6MB/s]                               \n",
      "INFO: [index] downloading guitarset_index_1.1.0.json\n",
      "248kB [00:00, 385kB/s]                             \n"
     ]
    }
   ],
   "source": [
    "# Download and build useable train/test data out of the MIR Billboard dataset\n",
    "#data_processer = MirDataProcessor(download=True, batch_size=64, dataset_name=\"guitarset\")\n"
   ]
  },
  {
   "cell_type": "code",
   "execution_count": null,
   "metadata": {},
   "outputs": [
    {
     "name": "stdout",
     "output_type": "stream",
     "text": [
      "The autoreload extension is already loaded. To reload it, use:\n",
      "  %reload_ext autoreload\n",
      "Found 360 tracks in the dataset.\n",
      "Processing dataset as sequential data\n",
      "Processed track 00_BN1-129-Eb_comp and appended data to combined CSV.\n",
      "Processing dataset as sequential data\n",
      "Processed track 00_BN1-129-Eb_solo and appended data to combined CSV.\n",
      "Processing dataset as sequential data\n",
      "Processed track 00_BN1-147-Gb_comp and appended data to combined CSV.\n",
      "Processing dataset as sequential data\n",
      "Processed track 00_BN1-147-Gb_solo and appended data to combined CSV.\n",
      "Processing dataset as sequential data\n",
      "Processed track 00_BN2-131-B_comp and appended data to combined CSV.\n",
      "Processing dataset as sequential data\n",
      "Processed track 00_BN2-131-B_solo and appended data to combined CSV.\n",
      "Processing dataset as sequential data\n",
      "Processed track 00_BN2-166-Ab_comp and appended data to combined CSV.\n",
      "Processing dataset as sequential data\n",
      "Processed track 00_BN2-166-Ab_solo and appended data to combined CSV.\n",
      "Processing dataset as sequential data\n",
      "Processed track 00_BN3-119-G_comp and appended data to combined CSV.\n",
      "Processing dataset as sequential data\n",
      "Processed track 00_BN3-119-G_solo and appended data to combined CSV.\n",
      "Processing dataset as sequential data\n",
      "Processed track 00_BN3-154-E_comp and appended data to combined CSV.\n",
      "Processing dataset as sequential data\n",
      "Processed track 00_BN3-154-E_solo and appended data to combined CSV.\n",
      "Processing dataset as sequential data\n",
      "Processed track 00_Funk1-114-Ab_comp and appended data to combined CSV.\n",
      "Processing dataset as sequential data\n",
      "Processed track 00_Funk1-114-Ab_solo and appended data to combined CSV.\n",
      "Processing dataset as sequential data\n",
      "Processed track 00_Funk1-97-C_comp and appended data to combined CSV.\n",
      "Processing dataset as sequential data\n",
      "Processed track 00_Funk1-97-C_solo and appended data to combined CSV.\n",
      "Processing dataset as sequential data\n",
      "Processed track 00_Funk2-108-Eb_comp and appended data to combined CSV.\n",
      "Processing dataset as sequential data\n",
      "Processed track 00_Funk2-108-Eb_solo and appended data to combined CSV.\n",
      "Processing dataset as sequential data\n",
      "Processed track 00_Funk2-119-G_comp and appended data to combined CSV.\n",
      "Processing dataset as sequential data\n",
      "Processed track 00_Funk2-119-G_solo and appended data to combined CSV.\n",
      "Processing dataset as sequential data\n",
      "Processed track 00_Funk3-112-C#_comp and appended data to combined CSV.\n",
      "Processing dataset as sequential data\n",
      "Processed track 00_Funk3-112-C#_solo and appended data to combined CSV.\n",
      "Processing dataset as sequential data\n",
      "Processed track 00_Funk3-98-A_comp and appended data to combined CSV.\n",
      "Processing dataset as sequential data\n",
      "Processed track 00_Funk3-98-A_solo and appended data to combined CSV.\n",
      "Processing dataset as sequential data\n",
      "Processed track 00_Jazz1-130-D_comp and appended data to combined CSV.\n",
      "Processing dataset as sequential data\n",
      "Processed track 00_Jazz1-130-D_solo and appended data to combined CSV.\n",
      "Processing dataset as sequential data\n",
      "Processed track 00_Jazz1-200-B_comp and appended data to combined CSV.\n",
      "Processing dataset as sequential data\n",
      "Processed track 00_Jazz1-200-B_solo and appended data to combined CSV.\n",
      "Processing dataset as sequential data\n",
      "Processed track 00_Jazz2-110-Bb_comp and appended data to combined CSV.\n",
      "Processing dataset as sequential data\n",
      "Processed track 00_Jazz2-110-Bb_solo and appended data to combined CSV.\n",
      "Processing dataset as sequential data\n",
      "Processed track 00_Jazz2-187-F#_comp and appended data to combined CSV.\n",
      "Processing dataset as sequential data\n",
      "Processed track 00_Jazz2-187-F#_solo and appended data to combined CSV.\n",
      "Processing dataset as sequential data\n",
      "Processed track 00_Jazz3-137-Eb_comp and appended data to combined CSV.\n",
      "Processing dataset as sequential data\n",
      "Processed track 00_Jazz3-137-Eb_solo and appended data to combined CSV.\n",
      "Processing dataset as sequential data\n",
      "Processed track 00_Jazz3-150-C_comp and appended data to combined CSV.\n",
      "Processing dataset as sequential data\n",
      "Processed track 00_Jazz3-150-C_solo and appended data to combined CSV.\n",
      "Processing dataset as sequential data\n",
      "Processed track 00_Rock1-130-A_comp and appended data to combined CSV.\n",
      "Processing dataset as sequential data\n",
      "Processed track 00_Rock1-130-A_solo and appended data to combined CSV.\n",
      "Processing dataset as sequential data\n",
      "Processed track 00_Rock1-90-C#_comp and appended data to combined CSV.\n",
      "Processing dataset as sequential data\n",
      "Processed track 00_Rock1-90-C#_solo and appended data to combined CSV.\n",
      "Processing dataset as sequential data\n",
      "Processed track 00_Rock2-142-D_comp and appended data to combined CSV.\n",
      "Processing dataset as sequential data\n",
      "Processed track 00_Rock2-142-D_solo and appended data to combined CSV.\n",
      "Processing dataset as sequential data\n",
      "Processed track 00_Rock2-85-F_comp and appended data to combined CSV.\n",
      "Processing dataset as sequential data\n",
      "Processed track 00_Rock2-85-F_solo and appended data to combined CSV.\n",
      "Processing dataset as sequential data\n",
      "Processed track 00_Rock3-117-Bb_comp and appended data to combined CSV.\n",
      "Processing dataset as sequential data\n",
      "Processed track 00_Rock3-117-Bb_solo and appended data to combined CSV.\n",
      "Processing dataset as sequential data\n",
      "Processed track 00_Rock3-148-C_comp and appended data to combined CSV.\n",
      "Processing dataset as sequential data\n",
      "Processed track 00_Rock3-148-C_solo and appended data to combined CSV.\n",
      "Processing dataset as sequential data\n",
      "Processed track 00_SS1-100-C#_comp and appended data to combined CSV.\n",
      "Processing dataset as sequential data\n",
      "Processed track 00_SS1-100-C#_solo and appended data to combined CSV.\n",
      "All data processed and saved to c:\\Users\\mattb\\Documents\\CS7643\\Final Project\\amadeus-ex-machina\\data\\processed\\combined_data.csv\n"
     ]
    }
   ],
   "source": [
    "%load_ext autoreload\n",
    "\n",
    "%autoreload 2\n",
    "\n",
    "from data.data_loader import MirDataProcessor\n",
    "data_processer = MirDataProcessor(download=False, batch_size=256, dataset_name=\"guitarset\", process_sequential=True, seq_length=16384)\n",
    "\n",
    "data_processer.process_wav_data(150)"
   ]
  },
  {
   "cell_type": "code",
   "execution_count": 33,
   "metadata": {},
   "outputs": [
    {
     "name": "stdout",
     "output_type": "stream",
     "text": [
      "Preparing model data...\n",
      "Loading the combined CSV file...\n",
      "Separating song IDs, features, and labels...\n",
      "Scaling features using MinMaxScaler...\n",
      "Encoding labels using LabelEncoder...\n",
      "Saving the scaler to c:\\Users\\mattb\\Documents\\CS7643\\Final Project\\amadeus-ex-machina\\data\\processed\\scaler.pkl...\n",
      "Saving the label encoder to c:\\Users\\mattb\\Documents\\CS7643\\Final Project\\amadeus-ex-machina\\data\\processed\\label_encoder.pkl...\n",
      "Creating sequences of chromagram data within song boundaries...\n",
      "Splitting data into training and testing sets...\n",
      "Data preparation complete.\n",
      "Number of classes determined: 42\n",
      "Creating TensorDatasets for training and testing data...\n",
      "Creating DataLoaders for training and testing datasets...\n",
      "Data loaders are ready for training and testing.\n",
      "Number of classes: 42\n"
     ]
    }
   ],
   "source": [
    "# Create data loeaders for train and test set\n",
    "train_loader, test_loader, num_classes = data_processer.build_data_loaders(None, device)\n",
    "\n",
    "print(f\"Number of classes: {num_classes}\")"
   ]
  },
  {
   "cell_type": "code",
   "execution_count": 35,
   "metadata": {},
   "outputs": [
    {
     "name": "stdout",
     "output_type": "stream",
     "text": [
      "-----------------------------------\n",
      "Epoch 1\n",
      "-----------------------------------\n"
     ]
    },
    {
     "data": {
      "application/vnd.jupyter.widget-view+json": {
       "model_id": "4dbe4639058b4df2ae1faceb4ed35468",
       "version_major": 2,
       "version_minor": 0
      },
      "text/plain": [
       "Training:   0%|          | 0/15 [00:00<?, ?it/s]"
      ]
     },
     "metadata": {},
     "output_type": "display_data"
    },
    {
     "name": "stdout",
     "output_type": "stream",
     "text": [
      "Training Loss: 3.7834. Validation Loss: 2.6530.\n",
      "Training Accuracy: 0.0360. Validation Accuracy: 0.0000.\n",
      "-----------------------------------\n",
      "Epoch 2\n",
      "-----------------------------------\n"
     ]
    },
    {
     "data": {
      "application/vnd.jupyter.widget-view+json": {
       "model_id": "5acc27663f5a4bf68564b9d0877a7e12",
       "version_major": 2,
       "version_minor": 0
      },
      "text/plain": [
       "Training:   0%|          | 0/15 [00:00<?, ?it/s]"
      ]
     },
     "metadata": {},
     "output_type": "display_data"
    },
    {
     "name": "stdout",
     "output_type": "stream",
     "text": [
      "Training Loss: 3.4471. Validation Loss: 2.6035.\n",
      "Training Accuracy: 0.0685. Validation Accuracy: 0.4531.\n",
      "-----------------------------------\n",
      "Epoch 3\n",
      "-----------------------------------\n"
     ]
    },
    {
     "data": {
      "application/vnd.jupyter.widget-view+json": {
       "model_id": "7cee1bef268b464087ec6565e9e32fce",
       "version_major": 2,
       "version_minor": 0
      },
      "text/plain": [
       "Training:   0%|          | 0/15 [00:00<?, ?it/s]"
      ]
     },
     "metadata": {},
     "output_type": "display_data"
    },
    {
     "name": "stdout",
     "output_type": "stream",
     "text": [
      "Training Loss: 3.3319. Validation Loss: 2.9790.\n",
      "Training Accuracy: 0.1441. Validation Accuracy: 0.1510.\n",
      "-----------------------------------\n",
      "Epoch 4\n",
      "-----------------------------------\n"
     ]
    },
    {
     "data": {
      "application/vnd.jupyter.widget-view+json": {
       "model_id": "18fdafe5f3354545bb503d7b86d4b94d",
       "version_major": 2,
       "version_minor": 0
      },
      "text/plain": [
       "Training:   0%|          | 0/15 [00:00<?, ?it/s]"
      ]
     },
     "metadata": {},
     "output_type": "display_data"
    },
    {
     "name": "stdout",
     "output_type": "stream",
     "text": [
      "Training Loss: 3.0248. Validation Loss: 2.9550.\n",
      "Training Accuracy: 0.1988. Validation Accuracy: 0.0104.\n",
      "-----------------------------------\n",
      "Epoch 5\n",
      "-----------------------------------\n"
     ]
    },
    {
     "data": {
      "application/vnd.jupyter.widget-view+json": {
       "model_id": "f73ecccbb86f4e86bb8a68cc92bc42b6",
       "version_major": 2,
       "version_minor": 0
      },
      "text/plain": [
       "Training:   0%|          | 0/15 [00:00<?, ?it/s]"
      ]
     },
     "metadata": {},
     "output_type": "display_data"
    },
    {
     "name": "stdout",
     "output_type": "stream",
     "text": [
      "Training Loss: 2.7299. Validation Loss: 3.1957.\n",
      "Training Accuracy: 0.3045. Validation Accuracy: 0.0104.\n",
      "-----------------------------------\n",
      "Epoch 6\n",
      "-----------------------------------\n"
     ]
    },
    {
     "data": {
      "application/vnd.jupyter.widget-view+json": {
       "model_id": "cbd54b1bcfb44c21ad697f7854fe9160",
       "version_major": 2,
       "version_minor": 0
      },
      "text/plain": [
       "Training:   0%|          | 0/15 [00:00<?, ?it/s]"
      ]
     },
     "metadata": {},
     "output_type": "display_data"
    },
    {
     "name": "stdout",
     "output_type": "stream",
     "text": [
      "Training Loss: 2.5469. Validation Loss: 3.8742.\n",
      "Training Accuracy: 0.3204. Validation Accuracy: 0.0000.\n",
      "-----------------------------------\n",
      "Epoch 7\n",
      "-----------------------------------\n"
     ]
    },
    {
     "data": {
      "application/vnd.jupyter.widget-view+json": {
       "model_id": "7157fc861ba847239eec4ff32fbe1dab",
       "version_major": 2,
       "version_minor": 0
      },
      "text/plain": [
       "Training:   0%|          | 0/15 [00:00<?, ?it/s]"
      ]
     },
     "metadata": {},
     "output_type": "display_data"
    },
    {
     "name": "stdout",
     "output_type": "stream",
     "text": [
      "Training Loss: 2.4048. Validation Loss: 3.4780.\n",
      "Training Accuracy: 0.3526. Validation Accuracy: 0.0000.\n",
      "-----------------------------------\n",
      "Epoch 8\n",
      "-----------------------------------\n"
     ]
    },
    {
     "data": {
      "application/vnd.jupyter.widget-view+json": {
       "model_id": "323f2d6e20ef47858ba2b88bdaa13fde",
       "version_major": 2,
       "version_minor": 0
      },
      "text/plain": [
       "Training:   0%|          | 0/15 [00:00<?, ?it/s]"
      ]
     },
     "metadata": {},
     "output_type": "display_data"
    },
    {
     "name": "stdout",
     "output_type": "stream",
     "text": [
      "Training Loss: 2.2354. Validation Loss: 3.2559.\n",
      "Training Accuracy: 0.3925. Validation Accuracy: 0.0000.\n",
      "-----------------------------------\n",
      "Epoch 9\n",
      "-----------------------------------\n"
     ]
    },
    {
     "data": {
      "application/vnd.jupyter.widget-view+json": {
       "model_id": "c7a8ccb468da4cfd9a144b46d7d64cf3",
       "version_major": 2,
       "version_minor": 0
      },
      "text/plain": [
       "Training:   0%|          | 0/15 [00:00<?, ?it/s]"
      ]
     },
     "metadata": {},
     "output_type": "display_data"
    },
    {
     "name": "stdout",
     "output_type": "stream",
     "text": [
      "Training Loss: 2.1762. Validation Loss: 3.3841.\n",
      "Training Accuracy: 0.4054. Validation Accuracy: 0.1302.\n",
      "-----------------------------------\n",
      "Epoch 10\n",
      "-----------------------------------\n"
     ]
    },
    {
     "data": {
      "application/vnd.jupyter.widget-view+json": {
       "model_id": "8318e564a08d47fe9920ee577ed5b88f",
       "version_major": 2,
       "version_minor": 0
      },
      "text/plain": [
       "Training:   0%|          | 0/15 [00:00<?, ?it/s]"
      ]
     },
     "metadata": {},
     "output_type": "display_data"
    },
    {
     "name": "stdout",
     "output_type": "stream",
     "text": [
      "Training Loss: 2.0682. Validation Loss: 4.1771.\n",
      "Training Accuracy: 0.4260. Validation Accuracy: 0.0000.\n",
      "-----------------------------------\n",
      "Epoch 11\n",
      "-----------------------------------\n"
     ]
    },
    {
     "data": {
      "application/vnd.jupyter.widget-view+json": {
       "model_id": "4e0b3ab1b5574c43b3e114c1e34db5cc",
       "version_major": 2,
       "version_minor": 0
      },
      "text/plain": [
       "Training:   0%|          | 0/15 [00:00<?, ?it/s]"
      ]
     },
     "metadata": {},
     "output_type": "display_data"
    },
    {
     "name": "stdout",
     "output_type": "stream",
     "text": [
      "Training Loss: 2.0525. Validation Loss: 3.8231.\n",
      "Training Accuracy: 0.4189. Validation Accuracy: 0.0000.\n",
      "-----------------------------------\n",
      "Epoch 12\n",
      "-----------------------------------\n"
     ]
    },
    {
     "data": {
      "application/vnd.jupyter.widget-view+json": {
       "model_id": "aa4d24cae2c1446194407fb09b2015b3",
       "version_major": 2,
       "version_minor": 0
      },
      "text/plain": [
       "Training:   0%|          | 0/15 [00:00<?, ?it/s]"
      ]
     },
     "metadata": {},
     "output_type": "display_data"
    },
    {
     "name": "stdout",
     "output_type": "stream",
     "text": [
      "Training Loss: 2.0031. Validation Loss: 4.5361.\n",
      "Training Accuracy: 0.4326. Validation Accuracy: 0.0000.\n",
      "-----------------------------------\n",
      "Epoch 13\n",
      "-----------------------------------\n"
     ]
    },
    {
     "data": {
      "application/vnd.jupyter.widget-view+json": {
       "model_id": "0056f28300eb4dafa8f3608be6373d1f",
       "version_major": 2,
       "version_minor": 0
      },
      "text/plain": [
       "Training:   0%|          | 0/15 [00:00<?, ?it/s]"
      ]
     },
     "metadata": {},
     "output_type": "display_data"
    },
    {
     "name": "stdout",
     "output_type": "stream",
     "text": [
      "Training Loss: 1.9524. Validation Loss: 4.5264.\n",
      "Training Accuracy: 0.4323. Validation Accuracy: 0.0000.\n",
      "-----------------------------------\n",
      "Epoch 14\n",
      "-----------------------------------\n"
     ]
    },
    {
     "data": {
      "application/vnd.jupyter.widget-view+json": {
       "model_id": "e00606e2f9144a5b843b7c518bc961b6",
       "version_major": 2,
       "version_minor": 0
      },
      "text/plain": [
       "Training:   0%|          | 0/15 [00:00<?, ?it/s]"
      ]
     },
     "metadata": {},
     "output_type": "display_data"
    },
    {
     "name": "stdout",
     "output_type": "stream",
     "text": [
      "Training Loss: 1.8760. Validation Loss: 4.5860.\n",
      "Training Accuracy: 0.4629. Validation Accuracy: 0.0000.\n",
      "-----------------------------------\n",
      "Epoch 15\n",
      "-----------------------------------\n"
     ]
    },
    {
     "data": {
      "application/vnd.jupyter.widget-view+json": {
       "model_id": "c466644b57e64a78b2b716e712b844ee",
       "version_major": 2,
       "version_minor": 0
      },
      "text/plain": [
       "Training:   0%|          | 0/15 [00:00<?, ?it/s]"
      ]
     },
     "metadata": {},
     "output_type": "display_data"
    },
    {
     "name": "stdout",
     "output_type": "stream",
     "text": [
      "Training Loss: 1.8506. Validation Loss: 3.8845.\n",
      "Training Accuracy: 0.4618. Validation Accuracy: 0.0000.\n",
      "-----------------------------------\n",
      "Epoch 16\n",
      "-----------------------------------\n"
     ]
    },
    {
     "data": {
      "application/vnd.jupyter.widget-view+json": {
       "model_id": "d3341988ddeb4facafff627afcf3506e",
       "version_major": 2,
       "version_minor": 0
      },
      "text/plain": [
       "Training:   0%|          | 0/15 [00:00<?, ?it/s]"
      ]
     },
     "metadata": {},
     "output_type": "display_data"
    },
    {
     "name": "stdout",
     "output_type": "stream",
     "text": [
      "Training Loss: 1.8402. Validation Loss: 3.7630.\n",
      "Training Accuracy: 0.4730. Validation Accuracy: 0.2656.\n",
      "-----------------------------------\n",
      "Epoch 17\n",
      "-----------------------------------\n"
     ]
    },
    {
     "data": {
      "application/vnd.jupyter.widget-view+json": {
       "model_id": "a182b39b09974cf2a8412015fe2352d9",
       "version_major": 2,
       "version_minor": 0
      },
      "text/plain": [
       "Training:   0%|          | 0/15 [00:00<?, ?it/s]"
      ]
     },
     "metadata": {},
     "output_type": "display_data"
    },
    {
     "name": "stdout",
     "output_type": "stream",
     "text": [
      "Training Loss: 1.8515. Validation Loss: 3.8525.\n",
      "Training Accuracy: 0.4631. Validation Accuracy: 0.1406.\n",
      "-----------------------------------\n",
      "Epoch 18\n",
      "-----------------------------------\n"
     ]
    },
    {
     "data": {
      "application/vnd.jupyter.widget-view+json": {
       "model_id": "e0596e29901048d48d6a43807f51d5b2",
       "version_major": 2,
       "version_minor": 0
      },
      "text/plain": [
       "Training:   0%|          | 0/15 [00:00<?, ?it/s]"
      ]
     },
     "metadata": {},
     "output_type": "display_data"
    },
    {
     "name": "stdout",
     "output_type": "stream",
     "text": [
      "Training Loss: 1.8017. Validation Loss: 3.4886.\n",
      "Training Accuracy: 0.4642. Validation Accuracy: 0.1719.\n",
      "-----------------------------------\n",
      "Epoch 19\n",
      "-----------------------------------\n"
     ]
    },
    {
     "data": {
      "application/vnd.jupyter.widget-view+json": {
       "model_id": "b969ffc8dc9c4e90adc2b5ccd2aca067",
       "version_major": 2,
       "version_minor": 0
      },
      "text/plain": [
       "Training:   0%|          | 0/15 [00:00<?, ?it/s]"
      ]
     },
     "metadata": {},
     "output_type": "display_data"
    },
    {
     "name": "stdout",
     "output_type": "stream",
     "text": [
      "Training Loss: 1.7681. Validation Loss: 3.6495.\n",
      "Training Accuracy: 0.4843. Validation Accuracy: 0.2656.\n",
      "-----------------------------------\n",
      "Epoch 20\n",
      "-----------------------------------\n"
     ]
    },
    {
     "data": {
      "application/vnd.jupyter.widget-view+json": {
       "model_id": "7d9dfd4306e24d779f0f1ec72e6ca0f7",
       "version_major": 2,
       "version_minor": 0
      },
      "text/plain": [
       "Training:   0%|          | 0/15 [00:00<?, ?it/s]"
      ]
     },
     "metadata": {},
     "output_type": "display_data"
    },
    {
     "name": "stdout",
     "output_type": "stream",
     "text": [
      "Training Loss: 1.7609. Validation Loss: 3.6009.\n",
      "Training Accuracy: 0.4956. Validation Accuracy: 0.2083.\n",
      "-----------------------------------\n",
      "Epoch 21\n",
      "-----------------------------------\n"
     ]
    },
    {
     "data": {
      "application/vnd.jupyter.widget-view+json": {
       "model_id": "fdb732d61b6647f4a1bff34eda923230",
       "version_major": 2,
       "version_minor": 0
      },
      "text/plain": [
       "Training:   0%|          | 0/15 [00:00<?, ?it/s]"
      ]
     },
     "metadata": {},
     "output_type": "display_data"
    },
    {
     "name": "stdout",
     "output_type": "stream",
     "text": [
      "Training Loss: 1.7587. Validation Loss: 3.4657.\n",
      "Training Accuracy: 0.4744. Validation Accuracy: 0.2344.\n",
      "-----------------------------------\n",
      "Epoch 22\n",
      "-----------------------------------\n"
     ]
    },
    {
     "data": {
      "application/vnd.jupyter.widget-view+json": {
       "model_id": "9446423dfeee484fb1437418b8e60f75",
       "version_major": 2,
       "version_minor": 0
      },
      "text/plain": [
       "Training:   0%|          | 0/15 [00:00<?, ?it/s]"
      ]
     },
     "metadata": {},
     "output_type": "display_data"
    },
    {
     "name": "stdout",
     "output_type": "stream",
     "text": [
      "Training Loss: 1.7246. Validation Loss: 3.9161.\n",
      "Training Accuracy: 0.4964. Validation Accuracy: 0.0000.\n",
      "-----------------------------------\n",
      "Epoch 23\n",
      "-----------------------------------\n"
     ]
    },
    {
     "data": {
      "application/vnd.jupyter.widget-view+json": {
       "model_id": "aa99f0a7be2647d181c9d83053898204",
       "version_major": 2,
       "version_minor": 0
      },
      "text/plain": [
       "Training:   0%|          | 0/15 [00:00<?, ?it/s]"
      ]
     },
     "metadata": {},
     "output_type": "display_data"
    },
    {
     "name": "stdout",
     "output_type": "stream",
     "text": [
      "Training Loss: 1.7116. Validation Loss: 4.2948.\n",
      "Training Accuracy: 0.4970. Validation Accuracy: 0.0000.\n",
      "-----------------------------------\n",
      "Epoch 24\n",
      "-----------------------------------\n"
     ]
    },
    {
     "data": {
      "application/vnd.jupyter.widget-view+json": {
       "model_id": "8518f0747f9a4dcda14e4b2ee69b0761",
       "version_major": 2,
       "version_minor": 0
      },
      "text/plain": [
       "Training:   0%|          | 0/15 [00:00<?, ?it/s]"
      ]
     },
     "metadata": {},
     "output_type": "display_data"
    },
    {
     "name": "stdout",
     "output_type": "stream",
     "text": [
      "Training Loss: 1.6216. Validation Loss: 4.3306.\n",
      "Training Accuracy: 0.5311. Validation Accuracy: 0.0000.\n",
      "-----------------------------------\n",
      "Epoch 25\n",
      "-----------------------------------\n"
     ]
    },
    {
     "data": {
      "application/vnd.jupyter.widget-view+json": {
       "model_id": "9bde11e6e12640b98b1e7a1b24fb65a7",
       "version_major": 2,
       "version_minor": 0
      },
      "text/plain": [
       "Training:   0%|          | 0/15 [00:00<?, ?it/s]"
      ]
     },
     "metadata": {},
     "output_type": "display_data"
    },
    {
     "name": "stdout",
     "output_type": "stream",
     "text": [
      "Training Loss: 1.5843. Validation Loss: 4.7747.\n",
      "Training Accuracy: 0.5322. Validation Accuracy: 0.0000.\n",
      "-----------------------------------\n",
      "Epoch 26\n",
      "-----------------------------------\n"
     ]
    },
    {
     "data": {
      "application/vnd.jupyter.widget-view+json": {
       "model_id": "aacc71ef23894a7c88aa022ae0d61fa8",
       "version_major": 2,
       "version_minor": 0
      },
      "text/plain": [
       "Training:   0%|          | 0/15 [00:00<?, ?it/s]"
      ]
     },
     "metadata": {},
     "output_type": "display_data"
    },
    {
     "name": "stdout",
     "output_type": "stream",
     "text": [
      "Training Loss: 1.5381. Validation Loss: 4.3461.\n",
      "Training Accuracy: 0.5484. Validation Accuracy: 0.0000.\n",
      "-----------------------------------\n",
      "Epoch 27\n",
      "-----------------------------------\n"
     ]
    },
    {
     "data": {
      "application/vnd.jupyter.widget-view+json": {
       "model_id": "85ebf829770d40a98cfaccfdb272daac",
       "version_major": 2,
       "version_minor": 0
      },
      "text/plain": [
       "Training:   0%|          | 0/15 [00:00<?, ?it/s]"
      ]
     },
     "metadata": {},
     "output_type": "display_data"
    },
    {
     "name": "stdout",
     "output_type": "stream",
     "text": [
      "Training Loss: 1.5756. Validation Loss: 4.2999.\n",
      "Training Accuracy: 0.5245. Validation Accuracy: 0.0052.\n",
      "-----------------------------------\n",
      "Epoch 28\n",
      "-----------------------------------\n"
     ]
    },
    {
     "data": {
      "application/vnd.jupyter.widget-view+json": {
       "model_id": "5d103d016d83455c9d1120f6ca49dd1b",
       "version_major": 2,
       "version_minor": 0
      },
      "text/plain": [
       "Training:   0%|          | 0/15 [00:00<?, ?it/s]"
      ]
     },
     "metadata": {},
     "output_type": "display_data"
    },
    {
     "name": "stdout",
     "output_type": "stream",
     "text": [
      "Training Loss: 1.4999. Validation Loss: 4.1332.\n",
      "Training Accuracy: 0.5468. Validation Accuracy: 0.0312.\n",
      "-----------------------------------\n",
      "Epoch 29\n",
      "-----------------------------------\n"
     ]
    },
    {
     "data": {
      "application/vnd.jupyter.widget-view+json": {
       "model_id": "1b76ec0199084983856017edadee31ad",
       "version_major": 2,
       "version_minor": 0
      },
      "text/plain": [
       "Training:   0%|          | 0/15 [00:00<?, ?it/s]"
      ]
     },
     "metadata": {},
     "output_type": "display_data"
    },
    {
     "name": "stdout",
     "output_type": "stream",
     "text": [
      "Training Loss: 1.5513. Validation Loss: 3.9252.\n",
      "Training Accuracy: 0.5338. Validation Accuracy: 0.2188.\n",
      "-----------------------------------\n",
      "Epoch 30\n",
      "-----------------------------------\n"
     ]
    },
    {
     "data": {
      "application/vnd.jupyter.widget-view+json": {
       "model_id": "8e4659c9e9ae45689580d7d606e3d3f5",
       "version_major": 2,
       "version_minor": 0
      },
      "text/plain": [
       "Training:   0%|          | 0/15 [00:00<?, ?it/s]"
      ]
     },
     "metadata": {},
     "output_type": "display_data"
    },
    {
     "name": "stdout",
     "output_type": "stream",
     "text": [
      "Training Loss: 1.5265. Validation Loss: 3.8607.\n",
      "Training Accuracy: 0.5470. Validation Accuracy: 0.1042.\n",
      "-----------------------------------\n",
      "Epoch 31\n",
      "-----------------------------------\n"
     ]
    },
    {
     "data": {
      "application/vnd.jupyter.widget-view+json": {
       "model_id": "6e4000a116c04b60ae68b32de94622c1",
       "version_major": 2,
       "version_minor": 0
      },
      "text/plain": [
       "Training:   0%|          | 0/15 [00:00<?, ?it/s]"
      ]
     },
     "metadata": {},
     "output_type": "display_data"
    },
    {
     "name": "stdout",
     "output_type": "stream",
     "text": [
      "Training Loss: 1.4725. Validation Loss: 3.5508.\n",
      "Training Accuracy: 0.5644. Validation Accuracy: 0.1302.\n",
      "-----------------------------------\n",
      "Epoch 32\n",
      "-----------------------------------\n"
     ]
    },
    {
     "data": {
      "application/vnd.jupyter.widget-view+json": {
       "model_id": "2d91da442d804312b672869241dfef0f",
       "version_major": 2,
       "version_minor": 0
      },
      "text/plain": [
       "Training:   0%|          | 0/15 [00:00<?, ?it/s]"
      ]
     },
     "metadata": {},
     "output_type": "display_data"
    },
    {
     "name": "stdout",
     "output_type": "stream",
     "text": [
      "Training Loss: 1.5121. Validation Loss: 3.8139.\n",
      "Training Accuracy: 0.5451. Validation Accuracy: 0.1458.\n",
      "-----------------------------------\n",
      "Epoch 33\n",
      "-----------------------------------\n"
     ]
    },
    {
     "data": {
      "application/vnd.jupyter.widget-view+json": {
       "model_id": "54f5247187214dd2a62b214d261fef75",
       "version_major": 2,
       "version_minor": 0
      },
      "text/plain": [
       "Training:   0%|          | 0/15 [00:00<?, ?it/s]"
      ]
     },
     "metadata": {},
     "output_type": "display_data"
    },
    {
     "name": "stdout",
     "output_type": "stream",
     "text": [
      "Training Loss: 1.4887. Validation Loss: 3.9949.\n",
      "Training Accuracy: 0.5426. Validation Accuracy: 0.0677.\n",
      "-----------------------------------\n",
      "Epoch 34\n",
      "-----------------------------------\n"
     ]
    },
    {
     "data": {
      "application/vnd.jupyter.widget-view+json": {
       "model_id": "8ecd715c68fe4999bb8eb0a7ce5ae682",
       "version_major": 2,
       "version_minor": 0
      },
      "text/plain": [
       "Training:   0%|          | 0/15 [00:00<?, ?it/s]"
      ]
     },
     "metadata": {},
     "output_type": "display_data"
    },
    {
     "name": "stdout",
     "output_type": "stream",
     "text": [
      "Training Loss: 1.5085. Validation Loss: 4.4536.\n",
      "Training Accuracy: 0.5421. Validation Accuracy: 0.0521.\n",
      "-----------------------------------\n",
      "Epoch 35\n",
      "-----------------------------------\n"
     ]
    },
    {
     "data": {
      "application/vnd.jupyter.widget-view+json": {
       "model_id": "b6d032e9ac58492b945e80b429519587",
       "version_major": 2,
       "version_minor": 0
      },
      "text/plain": [
       "Training:   0%|          | 0/15 [00:00<?, ?it/s]"
      ]
     },
     "metadata": {},
     "output_type": "display_data"
    },
    {
     "name": "stdout",
     "output_type": "stream",
     "text": [
      "Training Loss: 1.4510. Validation Loss: 4.9114.\n",
      "Training Accuracy: 0.5589. Validation Accuracy: 0.0052.\n",
      "-----------------------------------\n",
      "Epoch 36\n",
      "-----------------------------------\n"
     ]
    },
    {
     "data": {
      "application/vnd.jupyter.widget-view+json": {
       "model_id": "939ebf36057b41bb9e11d321b416ce9a",
       "version_major": 2,
       "version_minor": 0
      },
      "text/plain": [
       "Training:   0%|          | 0/15 [00:00<?, ?it/s]"
      ]
     },
     "metadata": {},
     "output_type": "display_data"
    },
    {
     "name": "stdout",
     "output_type": "stream",
     "text": [
      "Training Loss: 1.4717. Validation Loss: 5.4467.\n",
      "Training Accuracy: 0.5451. Validation Accuracy: 0.0000.\n",
      "-----------------------------------\n",
      "Epoch 37\n",
      "-----------------------------------\n"
     ]
    },
    {
     "data": {
      "application/vnd.jupyter.widget-view+json": {
       "model_id": "71eb01ba50c14042bba845945fdf5401",
       "version_major": 2,
       "version_minor": 0
      },
      "text/plain": [
       "Training:   0%|          | 0/15 [00:00<?, ?it/s]"
      ]
     },
     "metadata": {},
     "output_type": "display_data"
    },
    {
     "name": "stdout",
     "output_type": "stream",
     "text": [
      "Training Loss: 1.5495. Validation Loss: 5.3157.\n",
      "Training Accuracy: 0.5371. Validation Accuracy: 0.0000.\n",
      "-----------------------------------\n",
      "Epoch 38\n",
      "-----------------------------------\n"
     ]
    },
    {
     "data": {
      "application/vnd.jupyter.widget-view+json": {
       "model_id": "7ea6f25e2b614d2197ea4a10379a07a9",
       "version_major": 2,
       "version_minor": 0
      },
      "text/plain": [
       "Training:   0%|          | 0/15 [00:00<?, ?it/s]"
      ]
     },
     "metadata": {},
     "output_type": "display_data"
    },
    {
     "name": "stdout",
     "output_type": "stream",
     "text": [
      "Training Loss: 1.5766. Validation Loss: 4.7521.\n",
      "Training Accuracy: 0.5311. Validation Accuracy: 0.0000.\n",
      "-----------------------------------\n",
      "Epoch 39\n",
      "-----------------------------------\n"
     ]
    },
    {
     "data": {
      "application/vnd.jupyter.widget-view+json": {
       "model_id": "12adb1db973c465b9b59ad9aa6661575",
       "version_major": 2,
       "version_minor": 0
      },
      "text/plain": [
       "Training:   0%|          | 0/15 [00:00<?, ?it/s]"
      ]
     },
     "metadata": {},
     "output_type": "display_data"
    },
    {
     "name": "stdout",
     "output_type": "stream",
     "text": [
      "Training Loss: 1.4970. Validation Loss: 4.5276.\n",
      "Training Accuracy: 0.5512. Validation Accuracy: 0.0000.\n",
      "-----------------------------------\n",
      "Epoch 40\n",
      "-----------------------------------\n"
     ]
    },
    {
     "data": {
      "application/vnd.jupyter.widget-view+json": {
       "model_id": "1a2bca3051a743f99511f2b89d823483",
       "version_major": 2,
       "version_minor": 0
      },
      "text/plain": [
       "Training:   0%|          | 0/15 [00:00<?, ?it/s]"
      ]
     },
     "metadata": {},
     "output_type": "display_data"
    },
    {
     "name": "stdout",
     "output_type": "stream",
     "text": [
      "Training Loss: 1.5090. Validation Loss: 4.3706.\n",
      "Training Accuracy: 0.5435. Validation Accuracy: 0.0000.\n"
     ]
    },
    {
     "data": {
      "image/png": "[encoded data removed]",
      "text/plain": [
       "<Figure size 800x600 with 1 Axes>"
      ]
     },
     "metadata": {},
     "output_type": "display_data"
    },
    {
     "data": {
      "image/png": "[encoded data removed]",
      "text/plain": [
       "<Figure size 800x600 with 1 Axes>"
      ]
     },
     "metadata": {},
     "output_type": "display_data"
    },
    {
     "data": {
      "text/plain": [
       "499.874267578125"
      ]
     },
     "execution_count": 35,
     "metadata": {},
     "output_type": "execute_result"
    }
   ],
   "source": [
    "from models.FourierS2S import FourierS2S\n",
    "\n",
    "model = FourierS2S(8192, 128, 8192, 256, 512, num_classes, 16384, device)\n",
    "\n",
    "optimizer = optim.Adam(model.parameters(), lr=0.005)\n",
    "criterion = nn.CrossEntropyLoss()\n",
    "scheduler = optim.lr_scheduler.StepLR(optimizer, 20)\n",
    "\n",
    "\n",
    "# Initialize Solver for CRNNModel\n",
    "fourierS2S_solver = Solver(\n",
    "    model=model,\n",
    "    optimizer=optimizer,\n",
    "    criterion=criterion,\n",
    "    scheduler=scheduler,\n",
    "    train_dataloader=train_loader,\n",
    "    valid_dataloader=test_loader,\n",
    "    batch_size=256,\n",
    "    epochs=40,\n",
    "    device=device,\n",
    "    early_stop_epochs=5,\n",
    "    warmup_epochs=2,\n",
    "    optuna_prune=False\n",
    ")\n",
    "fourierS2S_solver.train_and_evaluate(plot_results=True)"
   ]
  },
  {
   "cell_type": "code",
   "execution_count": null,
   "metadata": {},
   "outputs": [],
   "source": []
  }
 ],
 "metadata": {
  "kernelspec": {
   "display_name": "amadeus-ex-machina",
   "language": "python",
   "name": "python3"
  },
  "language_info": {
   "codemirror_mode": {
    "name": "ipython",
    "version": 3
   },
   "file_extension": ".py",
   "mimetype": "text/x-python",
   "name": "python",
   "nbconvert_exporter": "python",
   "pygments_lexer": "ipython3",
   "version": "3.11.0"
  }
 },
 "nbformat": 4,
 "nbformat_minor": 2
}
