{
 "cells": [
  {
   "cell_type": "code",
   "execution_count": null,
   "metadata": {},
   "outputs": [],
   "source": [
    "from datagen.chordgen import generate_sine_chords\n",
    "from datagen.fxgen import batch_process_samples\n",
    "from pathlib import Path"
   ]
  },
  {
   "cell_type": "code",
   "execution_count": null,
   "metadata": {},
   "outputs": [],
   "source": [
    "# Set up directory paths\n",
    "midi = Path(\"data/midi\")\n",
    "sine_dir = Path(\"data/sine\")\n",
    "reverb_dir = Path(\"data/fx\")\n",
    "noise_dir = Path(\"data/noise\")"
   ]
  },
  {
   "cell_type": "code",
   "execution_count": null,
   "metadata": {},
   "outputs": [],
   "source": [
    "#generate sine chord dataset - this is the control dataset \n",
    "generate_sine_chords()\n",
    "\n",
    "#process all sine chords with randomized reverb\n",
    "batch_process_samples(sinechord)\n",
    "\n",
    "#process all sine chords with randomized noise\n",
    "batch_process_samples(sinechord)"
   ]
  },
  {
   "cell_type": "code",
   "execution_count": null,
   "metadata": {},
   "outputs": [],
   "source": [
    "#import pretrained model\n",
    "\n",
    "#run model on sine chords\n",
    "\n",
    "#run model on reverb chords\n",
    "\n",
    "#run model on noise chords"
   ]
  },
  {
   "cell_type": "code",
   "execution_count": null,
   "metadata": {},
   "outputs": [],
   "source": [
    "# visualize results"
   ]
  }
 ],
 "metadata": {
  "language_info": {
   "name": "python"
  }
 },
 "nbformat": 4,
 "nbformat_minor": 2
}
