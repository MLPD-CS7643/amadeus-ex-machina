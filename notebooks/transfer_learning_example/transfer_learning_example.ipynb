{
 "cells": [
  {
   "cell_type": "markdown",
   "metadata": {},
   "source": [
    "## Imports and setup"
   ]
  },
  {
   "cell_type": "code",
   "execution_count": null,
   "metadata": {},
   "outputs": [],
   "source": [
    "# System imports\n",
    "import sys\n",
    "import os\n",
    "\n",
    "# Add the parent directory of 'notebooks' to sys.path\n",
    "parent_dir = os.path.abspath(os.path.join(os.getcwd(), \"../..\"))  # Move one level up\n",
    "if parent_dir not in sys.path:\n",
    "    sys.path.append(parent_dir)\n",
    "\n",
    "# Data imports\n",
    "from data.data_loader import MirDataProcessor, ChordDataProcessor\n",
    "import data.youtube_download as youtube_download\n",
    "from datagen.chordgen import generate_all_chords\n",
    "\n",
    "# Model and local file imports\n",
    "from models.CRNN import CRNNModel\n",
    "from utils.model_utils import get_device\n",
    "\n",
    "# Package imports\n",
    "import torch\n",
    "import torch.optim as optim\n",
    "import torch.nn as nn\n",
    "from pathlib import Path\n",
    "from solver import Solver\n",
    "\n",
    "# Directories\n",
    "SECRETS_DIR = \"secrets\"\n",
    "JSON_FILE = \"chord_ref.json\"\n",
    "\n",
    "parent_dir_path = Path(parent_dir)\n",
    "\n",
    "# Select device\n",
    "# device = get_device()\n",
    "device = \"cpu\"\n",
    "print(f\"Device is {device}\")"
   ]
  },
  {
   "cell_type": "markdown",
   "metadata": {},
   "source": [
    "## Process billboard data"
   ]
  },
  {
   "cell_type": "code",
   "execution_count": null,
   "metadata": {},
   "outputs": [],
   "source": [
    "# If you have already ran the downloader, change the value of download to False\n",
    "download_mirdata = False\n",
    "\n",
    "# Download and build useable train/test data out of the MIR Billboard dataset\n",
    "billboard_data_processer = MirDataProcessor(download=download_mirdata, dataset_name=\"billboard\", batch_size=64, seq_length=16)\n",
    "if download_mirdata:\n",
    "    billboard_data_processer.process_billboard_data()"
   ]
  },
  {
   "cell_type": "code",
   "execution_count": null,
   "metadata": {},
   "outputs": [],
   "source": [
    "# Create billboard loaders\n",
    "# nrows set to shrink dataset for testing\n",
    "# Generate MirDataProcessor loaders and determine target shapes\n",
    "billboard_train_loader, billboard_test_loader, billboard_num_classes = billboard_data_processer.build_data_loaders(device=device, nrows=10000)\n",
    "print(f\"MIR Number of Classes: {billboard_num_classes}\")\n",
    "\n",
    "# Extract expected feature and label dimensions\n",
    "billboard_train_data = next(iter(billboard_train_loader))\n",
    "target_features_shape = billboard_train_data[0].shape\n",
    "target_labels_shape = billboard_train_data[1].shape\n",
    "\n",
    "print(f\"target_features_shape: {target_features_shape}\")\n",
    "print(f\"target_labels_shape: {target_labels_shape}\")"
   ]
  },
  {
   "cell_type": "markdown",
   "metadata": {},
   "source": [
    "## Process chord data"
   ]
  },
  {
   "cell_type": "code",
   "execution_count": null,
   "metadata": {},
   "outputs": [],
   "source": [
    "# # Process chord data, if you've already generated the chord files before you don't need to run this cell again\n",
    "\n",
    "# # If you have already ran the downloader, change the value of download to False\n",
    "# download_chordgen = False\n",
    "\n",
    "# # If your sf2 file is already downloaded and in outdir/sf2/FluidR3_GM.sf2, set this to False\n",
    "# download_sf2 = False\n",
    "# out_dir = f\"{Path.cwd().parents[1]}{os.path.sep}secrets\"\n",
    "\n",
    "# generate_all_chords(out_dir=out_dir, download_sf2=download_sf2, inversions=True, duration=1.0, make_dir=True, n_jobs=4)"
   ]
  },
  {
   "cell_type": "code",
   "execution_count": null,
   "metadata": {},
   "outputs": [],
   "source": [
    "# Create chord loaders\n",
    "chord_data_processor = ChordDataProcessor(\n",
    "    chord_json_path=parent_dir_path / SECRETS_DIR / JSON_FILE, \n",
    "    batch_size=64,\n",
    "    seq_length=16,\n",
    "    device=device\n",
    ")\n",
    "\n",
    "# Get target shapes from MirDataProcessor\n",
    "mir_train_data = next(iter(billboard_train_loader))\n",
    "target_features_shape = mir_train_data[0].shape\n",
    "target_labels_shape = mir_train_data[1].shape\n",
    "\n",
    "# Process chord data to match dimensions\n",
    "chord_train_loader, chord_test_loader, chord_num_classes = chord_data_processor.process_all_and_build_loaders(\n",
    "    target_features_shape=target_features_shape,\n",
    "    target_labels_shape=target_labels_shape,\n",
    "    test_size=0.2,\n",
    "    random_state=42,\n",
    ")"
   ]
  },
  {
   "cell_type": "markdown",
   "metadata": {},
   "source": [
    "## Model training"
   ]
  },
  {
   "cell_type": "code",
   "execution_count": null,
   "metadata": {},
   "outputs": [],
   "source": [
    "# Step 1: Set up model to use chord data\n",
    "# Modify the number of classes depending on the dataset\n",
    "crnn_model = CRNNModel(input_features=24, num_classes=chord_num_classes, hidden_size=128).to(device)\n",
    "\n",
    "optimizer = optim.Adam(crnn_model.parameters(), lr=0.001)\n",
    "criterion = nn.CrossEntropyLoss()\n",
    "scheduler = optim.lr_scheduler.ReduceLROnPlateau(optimizer, mode=\"min\", patience=3)\n",
    "\n",
    "# Initialize solver for CRNNModel\n",
    "crnn_model_chord_solver = Solver(\n",
    "    model=crnn_model,\n",
    "    optimizer=optimizer,\n",
    "    criterion=criterion,\n",
    "    scheduler=scheduler,\n",
    "    train_dataloader=chord_train_loader,\n",
    "    valid_dataloader=chord_test_loader,\n",
    "    batch_size=32,\n",
    "    epochs=10,\n",
    "    device=device,\n",
    "    early_stop_epochs=3,\n",
    "    warmup_epochs=2,\n",
    "    optuna_prune=False,\n",
    ")"
   ]
  },
  {
   "cell_type": "code",
   "execution_count": null,
   "metadata": {},
   "outputs": [],
   "source": [
    "# Step 2: Train and evaluate on chord data\n",
    "print(\"Training on chord data...\")\n",
    "crnn_model_chord_solver.train_and_evaluate(plot_results=True)\n",
    "\n",
    "# Save the trained weights\n",
    "torch.save(crnn_model.state_dict(), \"chord_model_weights.pth\")"
   ]
  },
  {
   "cell_type": "code",
   "execution_count": null,
   "metadata": {},
   "outputs": [],
   "source": [
    "# Step 3: Move model to using billboard data\n",
    "print(\"Adapting model for billboard data...\")\n",
    "crnn_model.update_output_layer(num_classes=billboard_num_classes)\n",
    "\n",
    "# Load pre-trained weights excluding output layer\n",
    "state_dict = torch.load(\"chord_model_weights.pth\")\n",
    "state_dict = {k: v for k, v in state_dict.items() if \"fc\" not in k}\n",
    "crnn_model.load_state_dict(state_dict, strict=False)\n",
    "\n",
    "# Reinitialize output layer weights\n",
    "crnn_model.fc.reset_parameters()\n",
    "\n",
    "# Reinitialize the optimizer for billboard dataset\n",
    "optimizer = optim.Adam(crnn_model.parameters(), lr=0.001)\n",
    "\n",
    "# Initialize solver for CRNNModel with billboard data\n",
    "crnn_model_billboard_solver = Solver(\n",
    "    model=crnn_model,\n",
    "    optimizer=optimizer,\n",
    "    criterion=criterion,\n",
    "    scheduler=scheduler,\n",
    "    train_dataloader=billboard_train_loader,\n",
    "    valid_dataloader=billboard_test_loader,\n",
    "    batch_size=32,\n",
    "    epochs=10,\n",
    "    device=device,\n",
    "    early_stop_epochs=3,\n",
    "    warmup_epochs=2,\n",
    "    optuna_prune=False,\n",
    ")"
   ]
  },
  {
   "cell_type": "code",
   "execution_count": null,
   "metadata": {},
   "outputs": [],
   "source": [
    "# Step 4: Freeze feature extractor and train on billboard data\n",
    "print(\"Freezing feature extractor and training on billboard data...\")\n",
    "crnn_model.freeze_feature_extractor()\n",
    "crnn_model_billboard_solver.train_and_evaluate(plot_results=True)"
   ]
  },
  {
   "cell_type": "code",
   "execution_count": null,
   "metadata": {},
   "outputs": [],
   "source": [
    "# Step 5: Unfreeze feature extractor and train on billboard data\n",
    "print(\"Unfreezing feature extractor and training on billboard data...\")\n",
    "crnn_model.unfreeze_feature_extractor()\n",
    "crnn_model_billboard_solver.train_and_evaluate(plot_results=True)"
   ]
  }
 ],
 "metadata": {
  "kernelspec": {
   "display_name": "amadeus-ex-machina",
   "language": "python",
   "name": "python3"
  },
  "language_info": {
   "codemirror_mode": {
    "name": "ipython",
    "version": 3
   },
   "file_extension": ".py",
   "mimetype": "text/x-python",
   "name": "python",
   "nbconvert_exporter": "python",
   "pygments_lexer": "ipython3",
   "version": "3.11.0"
  }
 },
 "nbformat": 4,
 "nbformat_minor": 2
}
