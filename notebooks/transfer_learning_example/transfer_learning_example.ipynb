{
 "cells": [
  {
   "cell_type": "markdown",
   "metadata": {},
   "source": [
    "## Imports and setup"
   ]
  },
  {
   "cell_type": "code",
   "execution_count": null,
   "metadata": {},
   "outputs": [],
   "source": [
    "# Create or update conda environment\n",
    "# !conda env create -f ../../environment.yaml\n",
    "!conda env update -f ../../environment.yaml\n",
    "# !conda remove --name amadeus-ex-machina --all"
   ]
  },
  {
   "cell_type": "code",
   "execution_count": null,
   "metadata": {},
   "outputs": [],
   "source": [
    "# Activate conda environment\n",
    "!conda init\n",
    "!conda activate amadeus-ex-machina"
   ]
  },
  {
   "cell_type": "code",
   "execution_count": null,
   "metadata": {},
   "outputs": [],
   "source": [
    "# System imports\n",
    "import sys\n",
    "import os\n",
    "\n",
    "# Add the parent directory of 'notebooks' to sys.path\n",
    "parent_dir = os.path.abspath(os.path.join(os.getcwd(), \"../..\"))  # Move one level up\n",
    "if parent_dir not in sys.path:\n",
    "    sys.path.append(parent_dir)\n",
    "\n",
    "# Data imports\n",
    "from data.data_loader import MirDataProcessor, ChordDataProcessor\n",
    "import data.youtube_download as youtube_download\n",
    "from datagen.chordgen import generate_all_chords\n",
    "\n",
    "# Model and local file imports\n",
    "from models.CRNN import CRNNModel\n",
    "from utils.model_utils import get_device\n",
    "\n",
    "# Package imports\n",
    "import torch\n",
    "import torch.optim as optim\n",
    "import torch.nn as nn\n",
    "from pathlib import Path\n",
    "from solver import Solver\n",
    "\n",
    "# Directories\n",
    "SECRETS_DIR = \"secrets\"\n",
    "JSON_FILE = \"chord_ref.json\"\n",
    "\n",
    "parent_dir_path = Path(parent_dir)\n",
    "\n",
    "# Select device\n",
    "device = get_device()\n",
    "print(f\"Device is {device}\")"
   ]
  },
  {
   "cell_type": "markdown",
   "metadata": {},
   "source": [
    "## Process billboard data"
   ]
  },
  {
   "cell_type": "code",
   "execution_count": null,
   "metadata": {},
   "outputs": [],
   "source": [
    "# If you have already ran the downloader, change the value of download to False\n",
    "download_mirdata = False\n",
    "\n",
    "# Download and build useable train/test data out of the MIR Billboard dataset\n",
    "billboard_data_processer = MirDataProcessor(download=download_mirdata, batch_size=64)\n",
    "if download_mirdata:\n",
    "    billboard_data_processer.process_billboard_data()"
   ]
  },
  {
   "cell_type": "code",
   "execution_count": null,
   "metadata": {},
   "outputs": [],
   "source": [
    "# Create billboard loaders\n",
    "# nrows set to shrink dataset for testing\n",
    "billboard_train_loader, billboard_test_loader, billboard_num_classes = billboard_data_processer.build_data_loaders(device=device, nrows=10000)\n",
    "\n",
    "print(f\"Billboard number of classes: {billboard_num_classes}\")"
   ]
  },
  {
   "cell_type": "markdown",
   "metadata": {},
   "source": [
    "## Process chord data"
   ]
  },
  {
   "cell_type": "code",
   "execution_count": null,
   "metadata": {},
   "outputs": [],
   "source": [
    "# Process chord data, if you've already generated the chord files before you don't need to run this cell again\n",
    "\n",
    "# If you have already ran the downloader, change the value of download to False\n",
    "download_chordgen = False\n",
    "\n",
    "# If your sf2 file is already downloaded and in outdir/sf2/FluidR3_GM.sf2, set this to False\n",
    "download_sf2 = False\n",
    "out_dir = f\"{Path.cwd().parents[1]}{os.path.sep}secrets\"\n",
    "\n",
    "generate_all_chords(out_dir=out_dir, download_sf2=download_sf2, inversions=True, duration=1.0, make_dir=True, n_jobs=4)"
   ]
  },
  {
   "cell_type": "code",
   "execution_count": null,
   "metadata": {},
   "outputs": [],
   "source": [
    "# Create chord loaders\n",
    "chord_data_processor = ChordDataProcessor(\n",
    "    chord_json_path=parent_dir_path / SECRETS_DIR / JSON_FILE, \n",
    "    batch_size=64,\n",
    "    seq_length=16,\n",
    "    process_sequential=True,\n",
    "    device=device\n",
    ")\n",
    "\n",
    "# Perform all steps and retrieve DataLoaders and number of classes\n",
    "chord_train_loader, chord_test_loader, chord_num_classes = chord_data_processor.build_data_loaders()\n",
    "\n",
    "print(f\"Chord number of classes: {chord_num_classes}\")"
   ]
  },
  {
   "cell_type": "code",
   "execution_count": null,
   "metadata": {},
   "outputs": [],
   "source": [
    "# # Set billboard data path\n",
    "# billboard_data_path = \"../data/raw/McGill-Billboard\"\n",
    "\n",
    "# # Process lab files in the extracted directory\n",
    "# youtube_download.process_lab_files(billboard_data_path)"
   ]
  },
  {
   "cell_type": "markdown",
   "metadata": {},
   "source": [
    "## Model training"
   ]
  },
  {
   "cell_type": "code",
   "execution_count": null,
   "metadata": {},
   "outputs": [],
   "source": [
    "# Be sure to modify the num of classes depending on the dataset\n",
    "crnn_chord_model = CRNNModel(input_features=24, num_classes=chord_num_classes, hidden_size=128).to(device)\n",
    "optimizer = optim.Adam(crnn_chord_model.parameters(), lr=0.001)\n",
    "criterion = nn.CrossEntropyLoss()\n",
    "scheduler = optim.lr_scheduler.ReduceLROnPlateau(optimizer, mode='min', patience=3)\n",
    "\n",
    "# Initialize solver for CRNNModel\n",
    "crnn_model_chord_solver = Solver(\n",
    "    model=crnn_chord_model,\n",
    "    optimizer=optimizer,\n",
    "    criterion=criterion,\n",
    "    scheduler=scheduler,\n",
    "    train_dataloader=chord_train_loader,\n",
    "    valid_dataloader=chord_test_loader,\n",
    "    batch_size=32,\n",
    "    epochs=10,\n",
    "    device=device,\n",
    "    early_stop_epochs=3,\n",
    "    warmup_epochs=2,\n",
    "    optuna_prune=False\n",
    ")"
   ]
  },
  {
   "cell_type": "code",
   "execution_count": null,
   "metadata": {},
   "outputs": [],
   "source": [
    "chord_best_val_accuracy = crnn_model_chord_solver.train_and_evaluate(plot_results=True)\n",
    "print(f\"Chord data validation Accuracy: {chord_best_val_accuracy:.4f}\")"
   ]
  },
  {
   "cell_type": "code",
   "execution_count": null,
   "metadata": {},
   "outputs": [],
   "source": [
    "# Be sure to modify the num of classes depending on the dataset\n",
    "crnn_billboard_model = CRNNModel(input_features=24, num_classes=billboard_num_classes, hidden_size=128).to(device)\n",
    "optimizer = optim.Adam(crnn_billboard_model.parameters(), lr=0.001)\n",
    "criterion = nn.CrossEntropyLoss()\n",
    "scheduler = optim.lr_scheduler.ReduceLROnPlateau(optimizer, mode='min', patience=3)\n",
    "\n",
    "# Initialize solver for CRNNModel\n",
    "crnn_model_billboard_solver = Solver(\n",
    "    model=crnn_billboard_model,\n",
    "    optimizer=optimizer,\n",
    "    criterion=criterion,\n",
    "    scheduler=scheduler,\n",
    "    train_dataloader=billboard_train_loader,\n",
    "    valid_dataloader=billboard_test_loader,\n",
    "    batch_size=32,\n",
    "    epochs=10,\n",
    "    device=device,\n",
    "    early_stop_epochs=3,\n",
    "    warmup_epochs=2,\n",
    "    optuna_prune=False\n",
    ")"
   ]
  },
  {
   "cell_type": "code",
   "execution_count": null,
   "metadata": {},
   "outputs": [],
   "source": [
    "billboard_best_val_accuracy = crnn_model_billboard_solver.train_and_evaluate(plot_results=True)\n",
    "print(f\"Billboard data validation Accuracy: {billboard_best_val_accuracy:.4f}\")"
   ]
  },
  {
   "cell_type": "code",
   "execution_count": null,
   "metadata": {},
   "outputs": [],
   "source": []
  },
  {
   "cell_type": "code",
   "execution_count": null,
   "metadata": {},
   "outputs": [],
   "source": []
  },
  {
   "cell_type": "code",
   "execution_count": null,
   "metadata": {},
   "outputs": [],
   "source": []
  }
 ],
 "metadata": {
  "kernelspec": {
   "display_name": "amadeus-ex-machina",
   "language": "python",
   "name": "python3"
  },
  "language_info": {
   "codemirror_mode": {
    "name": "ipython",
    "version": 3
   },
   "file_extension": ".py",
   "mimetype": "text/x-python",
   "name": "python",
   "nbconvert_exporter": "python",
   "pygments_lexer": "ipython3",
   "version": "3.11.0"
  }
 },
 "nbformat": 4,
 "nbformat_minor": 2
}
