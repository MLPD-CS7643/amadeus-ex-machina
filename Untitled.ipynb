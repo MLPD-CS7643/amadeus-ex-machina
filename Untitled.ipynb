{
 "cells": [
  {
   "cell_type": "code",
   "execution_count": 1,
   "id": "309bfc1e-2b75-46aa-8b60-a5122d73ed18",
   "metadata": {},
   "outputs": [],
   "source": [
    "from data.data_loader import BillboardDataProcessor\n",
    "from solver import Solver"
   ]
  },
  {
   "cell_type": "code",
   "execution_count": 2,
   "id": "f54610f9-10de-4153-a64c-c091c7745a10",
   "metadata": {},
   "outputs": [],
   "source": [
    "import torch"
   ]
  },
  {
   "cell_type": "code",
   "execution_count": 4,
   "id": "89084ff1-f6f3-4d61-a071-7fc6a5b1ff26",
   "metadata": {},
   "outputs": [],
   "source": [
    "def get_device():\n",
    "    if torch.backends.mps.is_available():\n",
    "        return torch.device(\"mps\")\n",
    "    elif torch.cuda.is_available():\n",
    "        return torch.device(\"cuda\")\n",
    "    return torch.device(\"cpu\")"
   ]
  },
  {
   "cell_type": "code",
   "execution_count": 2,
   "id": "d582c7a1-627b-4f9b-90f4-55c11471d50a",
   "metadata": {},
   "outputs": [],
   "source": [
    "data_processor = BillboardDataProcessor(batch_size=128)"
   ]
  },
  {
   "cell_type": "code",
   "execution_count": 5,
   "id": "5227372b-caed-4c60-a6fb-4217dcf941f1",
   "metadata": {},
   "outputs": [],
   "source": [
    "device = get_device()"
   ]
  },
  {
   "cell_type": "code",
   "execution_count": 15,
   "id": "ced5b0b8-e250-45f4-a98e-8eda268a315a",
   "metadata": {},
   "outputs": [],
   "source": [
    "device = \"cpu\""
   ]
  },
  {
   "cell_type": "code",
   "execution_count": 1,
   "id": "65c8b471-955d-44dc-b8ba-9439d0a2cf8d",
   "metadata": {},
   "outputs": [],
   "source": [
    "import tqdm"
   ]
  },
  {
   "cell_type": "code",
   "execution_count": 2,
   "id": "8543062b-c0c6-40d8-b780-729378cb0ca4",
   "metadata": {},
   "outputs": [],
   "source": [
    "%load_ext autoreload\n",
    "%autoreload 2"
   ]
  },
  {
   "cell_type": "code",
   "execution_count": 3,
   "id": "f9cca554-3c91-4cc0-950a-c2f3cc56b1f7",
   "metadata": {},
   "outputs": [
    {
     "name": "stdout",
     "output_type": "stream",
     "text": [
      "-----------------------------------\n",
      "Epoch 1\n",
      "-----------------------------------\n"
     ]
    },
    {
     "data": {
      "application/vnd.jupyter.widget-view+json": {
       "model_id": "13eb6f4afa5341dca6fe641a1983af6a",
       "version_major": 2,
       "version_minor": 0
      },
      "text/plain": [
       "Training:   0%|          | 0/9814 [00:00<?, ?it/s]"
      ]
     },
     "metadata": {},
     "output_type": "display_data"
    },
    {
     "name": "stdout",
     "output_type": "stream",
     "text": [
      "Training Loss: 2.9654. Validation Loss: 2.5706.\n",
      "Training Accuracy: 0.3818. Validation Accuracy: 0.4175.\n",
      "-----------------------------------\n",
      "Epoch 2\n",
      "-----------------------------------\n"
     ]
    },
    {
     "data": {
      "application/vnd.jupyter.widget-view+json": {
       "model_id": "6e2a44c8b05049659c340917c07db738",
       "version_major": 2,
       "version_minor": 0
      },
      "text/plain": [
       "Training:   0%|          | 0/9814 [00:00<?, ?it/s]"
      ]
     },
     "metadata": {},
     "output_type": "display_data"
    },
    {
     "name": "stdout",
     "output_type": "stream",
     "text": [
      "Training Loss: 2.7775. Validation Loss: 2.4922.\n",
      "Training Accuracy: 0.3989. Validation Accuracy: 0.4284.\n",
      "-----------------------------------\n",
      "Epoch 3\n",
      "-----------------------------------\n"
     ]
    },
    {
     "data": {
      "application/vnd.jupyter.widget-view+json": {
       "model_id": "00ac42413db4498b9517f7bd8ac77c1e",
       "version_major": 2,
       "version_minor": 0
      },
      "text/plain": [
       "Training:   0%|          | 0/9814 [00:00<?, ?it/s]"
      ]
     },
     "metadata": {},
     "output_type": "display_data"
    },
    {
     "name": "stdout",
     "output_type": "stream",
     "text": [
      "Training Loss: 2.7239. Validation Loss: 2.4500.\n",
      "Training Accuracy: 0.4059. Validation Accuracy: 0.4341.\n",
      "-----------------------------------\n",
      "Epoch 4\n",
      "-----------------------------------\n"
     ]
    },
    {
     "data": {
      "application/vnd.jupyter.widget-view+json": {
       "model_id": "cd95bc2b9e704e25a63da07e465eff33",
       "version_major": 2,
       "version_minor": 0
      },
      "text/plain": [
       "Training:   0%|          | 0/9814 [00:00<?, ?it/s]"
      ]
     },
     "metadata": {},
     "output_type": "display_data"
    },
    {
     "name": "stdout",
     "output_type": "stream",
     "text": [
      "Training Loss: 2.6884. Validation Loss: 2.4151.\n",
      "Training Accuracy: 0.4106. Validation Accuracy: 0.4397.\n",
      "-----------------------------------\n",
      "Epoch 5\n",
      "-----------------------------------\n"
     ]
    },
    {
     "data": {
      "application/vnd.jupyter.widget-view+json": {
       "model_id": "be3b85343a1140b7958b9a3fa6b564cc",
       "version_major": 2,
       "version_minor": 0
      },
      "text/plain": [
       "Training:   0%|          | 0/9814 [00:00<?, ?it/s]"
      ]
     },
     "metadata": {},
     "output_type": "display_data"
    },
    {
     "name": "stdout",
     "output_type": "stream",
     "text": [
      "Training Loss: 2.6620. Validation Loss: 2.3894.\n",
      "Training Accuracy: 0.4148. Validation Accuracy: 0.4451.\n",
      "-----------------------------------\n",
      "Epoch 6\n",
      "-----------------------------------\n"
     ]
    },
    {
     "data": {
      "application/vnd.jupyter.widget-view+json": {
       "model_id": "4172a917e7c04fafb8c5ff9dd2fa136e",
       "version_major": 2,
       "version_minor": 0
      },
      "text/plain": [
       "Training:   0%|          | 0/9814 [00:00<?, ?it/s]"
      ]
     },
     "metadata": {},
     "output_type": "display_data"
    },
    {
     "name": "stdout",
     "output_type": "stream",
     "text": [
      "Training Loss: 2.6402. Validation Loss: 2.3705.\n",
      "Training Accuracy: 0.4181. Validation Accuracy: 0.4484.\n",
      "-----------------------------------\n",
      "Epoch 7\n",
      "-----------------------------------\n"
     ]
    },
    {
     "data": {
      "application/vnd.jupyter.widget-view+json": {
       "model_id": "c7e30e83cd634bc78eeaa561261734ed",
       "version_major": 2,
       "version_minor": 0
      },
      "text/plain": [
       "Training:   0%|          | 0/9814 [00:00<?, ?it/s]"
      ]
     },
     "metadata": {},
     "output_type": "display_data"
    },
    {
     "name": "stdout",
     "output_type": "stream",
     "text": [
      "Training Loss: 2.6223. Validation Loss: 2.3495.\n",
      "Training Accuracy: 0.4215. Validation Accuracy: 0.4528.\n",
      "-----------------------------------\n",
      "Epoch 8\n",
      "-----------------------------------\n"
     ]
    },
    {
     "data": {
      "application/vnd.jupyter.widget-view+json": {
       "model_id": "2bec6287b2f9434f97818e692f0b04f7",
       "version_major": 2,
       "version_minor": 0
      },
      "text/plain": [
       "Training:   0%|          | 0/9814 [00:00<?, ?it/s]"
      ]
     },
     "metadata": {},
     "output_type": "display_data"
    },
    {
     "name": "stdout",
     "output_type": "stream",
     "text": [
      "Training Loss: 2.6075. Validation Loss: 2.3300.\n",
      "Training Accuracy: 0.4238. Validation Accuracy: 0.4564.\n",
      "-----------------------------------\n",
      "Epoch 9\n",
      "-----------------------------------\n"
     ]
    },
    {
     "data": {
      "application/vnd.jupyter.widget-view+json": {
       "model_id": "ec6a937fe288428f9f6218e6883e813a",
       "version_major": 2,
       "version_minor": 0
      },
      "text/plain": [
       "Training:   0%|          | 0/9814 [00:00<?, ?it/s]"
      ]
     },
     "metadata": {},
     "output_type": "display_data"
    },
    {
     "name": "stdout",
     "output_type": "stream",
     "text": [
      "Training Loss: 2.5938. Validation Loss: 2.3230.\n",
      "Training Accuracy: 0.4262. Validation Accuracy: 0.4575.\n",
      "-----------------------------------\n",
      "Epoch 10\n",
      "-----------------------------------\n"
     ]
    },
    {
     "data": {
      "application/vnd.jupyter.widget-view+json": {
       "model_id": "14b92dcc257543b184d33e57c14d7f27",
       "version_major": 2,
       "version_minor": 0
      },
      "text/plain": [
       "Training:   0%|          | 0/9814 [00:00<?, ?it/s]"
      ]
     },
     "metadata": {},
     "output_type": "display_data"
    },
    {
     "name": "stdout",
     "output_type": "stream",
     "text": [
      "Training Loss: 2.5814. Validation Loss: 2.3064.\n",
      "Training Accuracy: 0.4282. Validation Accuracy: 0.4618.\n",
      "-----------------------------------\n",
      "Epoch 11\n",
      "-----------------------------------\n"
     ]
    },
    {
     "data": {
      "application/vnd.jupyter.widget-view+json": {
       "model_id": "6f727e6ada944091a5dfb56ead6cfb85",
       "version_major": 2,
       "version_minor": 0
      },
      "text/plain": [
       "Training:   0%|          | 0/9814 [00:00<?, ?it/s]"
      ]
     },
     "metadata": {},
     "output_type": "display_data"
    },
    {
     "name": "stdout",
     "output_type": "stream",
     "text": [
      "Training Loss: 2.5705. Validation Loss: 2.2916.\n",
      "Training Accuracy: 0.4301. Validation Accuracy: 0.4644.\n",
      "-----------------------------------\n",
      "Epoch 12\n",
      "-----------------------------------\n"
     ]
    },
    {
     "data": {
      "application/vnd.jupyter.widget-view+json": {
       "model_id": "ec0c0fefab0a44eaad851889f87aaa62",
       "version_major": 2,
       "version_minor": 0
      },
      "text/plain": [
       "Training:   0%|          | 0/9814 [00:00<?, ?it/s]"
      ]
     },
     "metadata": {},
     "output_type": "display_data"
    },
    {
     "name": "stdout",
     "output_type": "stream",
     "text": [
      "Training Loss: 2.5613. Validation Loss: 2.2874.\n",
      "Training Accuracy: 0.4323. Validation Accuracy: 0.4654.\n",
      "-----------------------------------\n",
      "Epoch 13\n",
      "-----------------------------------\n"
     ]
    },
    {
     "data": {
      "application/vnd.jupyter.widget-view+json": {
       "model_id": "1eb3ea388d5c4e14a7477cffb96c6abc",
       "version_major": 2,
       "version_minor": 0
      },
      "text/plain": [
       "Training:   0%|          | 0/9814 [00:00<?, ?it/s]"
      ]
     },
     "metadata": {},
     "output_type": "display_data"
    },
    {
     "name": "stdout",
     "output_type": "stream",
     "text": [
      "Training Loss: 2.5508. Validation Loss: 2.2702.\n",
      "Training Accuracy: 0.4340. Validation Accuracy: 0.4695.\n",
      "-----------------------------------\n",
      "Epoch 14\n",
      "-----------------------------------\n"
     ]
    },
    {
     "data": {
      "application/vnd.jupyter.widget-view+json": {
       "model_id": "ca1a5ab184964136aa590c756973258e",
       "version_major": 2,
       "version_minor": 0
      },
      "text/plain": [
       "Training:   0%|          | 0/9814 [00:00<?, ?it/s]"
      ]
     },
     "metadata": {},
     "output_type": "display_data"
    },
    {
     "name": "stdout",
     "output_type": "stream",
     "text": [
      "Training Loss: 2.5427. Validation Loss: 2.2640.\n",
      "Training Accuracy: 0.4354. Validation Accuracy: 0.4706.\n",
      "-----------------------------------\n",
      "Epoch 15\n",
      "-----------------------------------\n"
     ]
    },
    {
     "data": {
      "application/vnd.jupyter.widget-view+json": {
       "model_id": "ba04e60824c04861b8b0e5b8dbcb0a64",
       "version_major": 2,
       "version_minor": 0
      },
      "text/plain": [
       "Training:   0%|          | 0/9814 [00:00<?, ?it/s]"
      ]
     },
     "metadata": {},
     "output_type": "display_data"
    },
    {
     "name": "stdout",
     "output_type": "stream",
     "text": [
      "Training Loss: 2.5369. Validation Loss: 2.2507.\n",
      "Training Accuracy: 0.4375. Validation Accuracy: 0.4737.\n",
      "-----------------------------------\n",
      "Epoch 16\n",
      "-----------------------------------\n"
     ]
    },
    {
     "data": {
      "application/vnd.jupyter.widget-view+json": {
       "model_id": "d61b0c7448074d64a7c7c555c0a9a80c",
       "version_major": 2,
       "version_minor": 0
      },
      "text/plain": [
       "Training:   0%|          | 0/9814 [00:00<?, ?it/s]"
      ]
     },
     "metadata": {},
     "output_type": "display_data"
    },
    {
     "name": "stdout",
     "output_type": "stream",
     "text": [
      "Training Loss: 2.5269. Validation Loss: 2.2463.\n",
      "Training Accuracy: 0.4391. Validation Accuracy: 0.4752.\n",
      "-----------------------------------\n",
      "Epoch 17\n",
      "-----------------------------------\n"
     ]
    },
    {
     "data": {
      "application/vnd.jupyter.widget-view+json": {
       "model_id": "c4d39999b251416cb905df9c5f37e53c",
       "version_major": 2,
       "version_minor": 0
      },
      "text/plain": [
       "Training:   0%|          | 0/9814 [00:00<?, ?it/s]"
      ]
     },
     "metadata": {},
     "output_type": "display_data"
    },
    {
     "name": "stdout",
     "output_type": "stream",
     "text": [
      "Training Loss: 2.5219. Validation Loss: 2.2367.\n",
      "Training Accuracy: 0.4399. Validation Accuracy: 0.4765.\n",
      "-----------------------------------\n",
      "Epoch 18\n",
      "-----------------------------------\n"
     ]
    },
    {
     "data": {
      "application/vnd.jupyter.widget-view+json": {
       "model_id": "b72764eacc684ef2a2b6678f0cc49a9f",
       "version_major": 2,
       "version_minor": 0
      },
      "text/plain": [
       "Training:   0%|          | 0/9814 [00:00<?, ?it/s]"
      ]
     },
     "metadata": {},
     "output_type": "display_data"
    },
    {
     "name": "stdout",
     "output_type": "stream",
     "text": [
      "Training Loss: 2.5156. Validation Loss: 2.2314.\n",
      "Training Accuracy: 0.4413. Validation Accuracy: 0.4785.\n",
      "-----------------------------------\n",
      "Epoch 19\n",
      "-----------------------------------\n"
     ]
    },
    {
     "data": {
      "application/vnd.jupyter.widget-view+json": {
       "model_id": "2b20b32170b34548b8c5de8bf416d2a9",
       "version_major": 2,
       "version_minor": 0
      },
      "text/plain": [
       "Training:   0%|          | 0/9814 [00:00<?, ?it/s]"
      ]
     },
     "metadata": {},
     "output_type": "display_data"
    },
    {
     "name": "stdout",
     "output_type": "stream",
     "text": [
      "Training Loss: 2.5100. Validation Loss: 2.2296.\n",
      "Training Accuracy: 0.4427. Validation Accuracy: 0.4787.\n",
      "-----------------------------------\n",
      "Epoch 20\n",
      "-----------------------------------\n"
     ]
    },
    {
     "data": {
      "application/vnd.jupyter.widget-view+json": {
       "model_id": "ed954f1227c34c3598e7723cd51f4a98",
       "version_major": 2,
       "version_minor": 0
      },
      "text/plain": [
       "Training:   0%|          | 0/9814 [00:00<?, ?it/s]"
      ]
     },
     "metadata": {},
     "output_type": "display_data"
    },
    {
     "name": "stdout",
     "output_type": "stream",
     "text": [
      "Training Loss: 2.5037. Validation Loss: 2.2274.\n",
      "Training Accuracy: 0.4433. Validation Accuracy: 0.4796.\n",
      "-----------------------------------\n",
      "Epoch 21\n",
      "-----------------------------------\n"
     ]
    },
    {
     "data": {
      "application/vnd.jupyter.widget-view+json": {
       "model_id": "3fe817b9d02b4041b9cc8d138e2c2213",
       "version_major": 2,
       "version_minor": 0
      },
      "text/plain": [
       "Training:   0%|          | 0/9814 [00:00<?, ?it/s]"
      ]
     },
     "metadata": {},
     "output_type": "display_data"
    },
    {
     "name": "stdout",
     "output_type": "stream",
     "text": [
      "Training Loss: 2.4972. Validation Loss: 2.2189.\n",
      "Training Accuracy: 0.4448. Validation Accuracy: 0.4820.\n",
      "-----------------------------------\n",
      "Epoch 22\n",
      "-----------------------------------\n"
     ]
    },
    {
     "data": {
      "application/vnd.jupyter.widget-view+json": {
       "model_id": "45a9e068348b44baa20009c45de81758",
       "version_major": 2,
       "version_minor": 0
      },
      "text/plain": [
       "Training:   0%|          | 0/9814 [00:00<?, ?it/s]"
      ]
     },
     "metadata": {},
     "output_type": "display_data"
    },
    {
     "name": "stdout",
     "output_type": "stream",
     "text": [
      "Training Loss: 2.4934. Validation Loss: 2.2039.\n",
      "Training Accuracy: 0.4459. Validation Accuracy: 0.4846.\n",
      "-----------------------------------\n",
      "Epoch 23\n",
      "-----------------------------------\n"
     ]
    },
    {
     "data": {
      "application/vnd.jupyter.widget-view+json": {
       "model_id": "efa0c2235a3a46b2956f153a1ef364c6",
       "version_major": 2,
       "version_minor": 0
      },
      "text/plain": [
       "Training:   0%|          | 0/9814 [00:00<?, ?it/s]"
      ]
     },
     "metadata": {},
     "output_type": "display_data"
    },
    {
     "name": "stdout",
     "output_type": "stream",
     "text": [
      "Training Loss: 2.4896. Validation Loss: 2.2001.\n",
      "Training Accuracy: 0.4468. Validation Accuracy: 0.4861.\n",
      "-----------------------------------\n",
      "Epoch 24\n",
      "-----------------------------------\n"
     ]
    },
    {
     "data": {
      "application/vnd.jupyter.widget-view+json": {
       "model_id": "123f9f90b4eb493bb5d81f00c754426d",
       "version_major": 2,
       "version_minor": 0
      },
      "text/plain": [
       "Training:   0%|          | 0/9814 [00:00<?, ?it/s]"
      ]
     },
     "metadata": {},
     "output_type": "display_data"
    },
    {
     "name": "stdout",
     "output_type": "stream",
     "text": [
      "Training Loss: 2.4857. Validation Loss: 2.1940.\n",
      "Training Accuracy: 0.4476. Validation Accuracy: 0.4870.\n",
      "-----------------------------------\n",
      "Epoch 25\n",
      "-----------------------------------\n"
     ]
    },
    {
     "data": {
      "application/vnd.jupyter.widget-view+json": {
       "model_id": "4f67c52084264be2bf9b8149860f5608",
       "version_major": 2,
       "version_minor": 0
      },
      "text/plain": [
       "Training:   0%|          | 0/9814 [00:00<?, ?it/s]"
      ]
     },
     "metadata": {},
     "output_type": "display_data"
    },
    {
     "name": "stdout",
     "output_type": "stream",
     "text": [
      "Training Loss: 2.4805. Validation Loss: 2.1913.\n",
      "Training Accuracy: 0.4485. Validation Accuracy: 0.4870.\n"
     ]
    },
    {
     "data": {
      "image/png": "[encoded data removed]",
      "text/plain": [
       "<Figure size 800x600 with 1 Axes>"
      ]
     },
     "metadata": {},
     "output_type": "display_data"
    },
    {
     "name": "stdout",
     "output_type": "stream",
     "text": [
      "Chord annotations saved to output_annotations.lab\n",
      "CPU times: user 1h 23min 41s, sys: 10min 7s, total: 1h 33min 49s\n",
      "Wall time: 1h 31min 58s\n"
     ]
    }
   ],
   "source": [
    "%%time\n",
    "from models.mlp_chord_classifier import MLPChordClassifier\n",
    "\n",
    "model_config = \"/Users/maxwell/Documents/gatech_workspace/dl_fall/amadeus-ex-machina/configs/default_config.yaml\"\n",
    "chroma_path = \"/Users/maxwell/Documents/gatech_workspace/dl_fall/amadeus-ex-machina/data/processed/test.csv\"\n",
    "data_processor = BillboardDataProcessor(batch_size=128)\n",
    "\n",
    "train_loader, test_loader = data_processor.build_data_loaders()\n",
    "\n",
    "input_size = train_loader.dataset.tensors[0].shape[1]\n",
    "\n",
    "# Get number of classes from the label encoder\n",
    "num_classes = len(data_processor.label_encoder.classes_)\n",
    "\n",
    "# Define model arguments\n",
    "# TODO this needs to be...less ugly\n",
    "model_kwargs = {\n",
    "    \"input_size\": input_size,\n",
    "    \"num_classes\": num_classes,\n",
    "}\n",
    "\n",
    "# model = MLPChordClassifier(**model_kwargs)\n",
    "\n",
    "# Initialize solver class\n",
    "solver = Solver.from_yaml(model_config, **model_kwargs)\n",
    "\n",
    "# Train and evaluate the model\n",
    "solver.train_and_evaluate(train_loader, test_loader, plot_results=True)\n",
    "\n",
    "scaler = data_processor.scaler\n",
    "label_encoder = data_processor.label_encoder\n",
    "\n",
    "# Run inference using the trained model\n",
    "solver.run_inference(\n",
    "    chroma_path,\n",
    "    scaler,\n",
    "    label_encoder,\n",
    ")"
   ]
  },
  {
   "cell_type": "code",
   "execution_count": 4,
   "id": "fc3dd001-34a6-4576-9b3f-04d83b9c073f",
   "metadata": {},
   "outputs": [
    {
     "name": "stdout",
     "output_type": "stream",
     "text": [
      "Chord annotations saved to output_annotations.lab\n"
     ]
    }
   ],
   "source": [
    "test_two = \"/Users/maxwell/Documents/gatech_workspace/dl_fall/amadeus-ex-machina/data/processed/test_two.csv\"\n",
    "\n",
    "solver.run_inference(\n",
    "    test_two,\n",
    "    scaler,\n",
    "    label_encoder,\n",
    ")"
   ]
  },
  {
   "cell_type": "code",
   "execution_count": null,
   "id": "9203cfc8-62ba-4e6c-a312-0d0ec713de2a",
   "metadata": {},
   "outputs": [],
   "source": []
  }
 ],
 "metadata": {
  "kernelspec": {
   "display_name": "Python 3 (ipykernel)",
   "language": "python",
   "name": "python3"
  },
  "language_info": {
   "codemirror_mode": {
    "name": "ipython",
    "version": 3
   },
   "file_extension": ".py",
   "mimetype": "text/x-python",
   "name": "python",
   "nbconvert_exporter": "python",
   "pygments_lexer": "ipython3",
   "version": "3.11.10"
  }
 },
 "nbformat": 4,
 "nbformat_minor": 5
}
